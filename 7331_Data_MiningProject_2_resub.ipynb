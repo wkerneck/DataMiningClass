{
 "cells": [
  {
   "cell_type": "markdown",
   "metadata": {
    "deletable": true,
    "editable": true
   },
   "source": [
    "# ![.right](https://lh6.ggpht.com/wUrTIhpHPVqw_VPCdhbSiF5TXlBlLyRHdH1gsII_y5NkgYKzbbj7cC2l6AGoVq-JN0U=w100 \"MSDS 7331 Data Mining - Project 1\")\n",
    "\n",
    "\n",
    "# Project 2: Classification\n",
    "\n",
    "---\n",
    "\n",
    "\n",
    "\n",
    "# Team Members\n",
    "\n",
    "- Chris Woodard\n",
    "- Claire Chu\n",
    "- Nathan Mowat\n",
    "- Bill Kerneckel\n",
    "\n",
    "---\n",
    "# Resubmission\n",
    "- Added Weighted-Coefficient plots to the Random Forest Classifiers\n",
    "- Removed salary variables from the salary_range_Jr_Level models to prevent 'data leakage'\n",
    "- Added Statistical Analysis\n",
    "    - One-way ANOVA with a post hoc test.\n",
    "\n",
    "# Rubic\n",
    "\n",
    "- [Data Preperation 1](#dp1) \n",
    "\n",
    "- [Data Preperation 2](#dp2)\n",
    "\n",
    "- [Modeling and Evaluation 1](#me1)\n",
    "\n",
    "- [Modeling and Evaluation 2](#me2)\n",
    "\n",
    "- [Modeling and Evaluation 3](#me3)\n",
    "\n",
    "- [Modeling and Evaluation 4](#me4)\n",
    "\n",
    "- [Modeling and Evaluation 5](#me5)\n",
    "\n",
    "- [Modeling and Evaluation 6](#me6)\n",
    "\n",
    "- [Deployment](#d)\n",
    "\n",
    "- [Exceptional Work](#ew)\n",
    "\n",
    "- [Appendix](#a)\n",
    "\n",
    "<hr>\n",
    "\n"
   ]
  },
  {
   "cell_type": "markdown",
   "metadata": {
    "deletable": true,
    "editable": true
   },
   "source": [
    "# OBJECTIVE: \n",
    "Using the NASA human resources dataset, let's use the variables to predict future records:\n",
    "- What kind of model can we use to predict a \"junior salary range level\" classification, given the variables we have?\n",
    "- What kind of model can we use to predict a \"caucasian\" race classification, given the variables we have?"
   ]
  },
  {
   "cell_type": "markdown",
   "metadata": {
    "collapsed": false,
    "deletable": true,
    "editable": true
   },
   "source": [
    "# Data Preperation 1\n",
    "\n",
    "---"
   ]
  },
  {
   "cell_type": "markdown",
   "metadata": {
    "deletable": true,
    "editable": true
   },
   "source": [
    "<span style=\"color:red\">10 Points - Define and prepare your class variables. Use proper variable representations (int, float, one-hot, etc.). Use pre-processing methods (as needed) for dimensionality reduction, scaling, etc. Remove variables that are not needed/useful for the analysis.</span>"
   ]
  },
  {
   "cell_type": "code",
   "execution_count": 1,
   "metadata": {
    "collapsed": true,
    "deletable": true,
    "editable": true
   },
   "outputs": [],
   "source": [
    "#load python libaries\n",
    "import numpy as np\n",
    "import pandas as pd\n",
    "from pandas.tools.plotting import scatter_matrix\n",
    "import matplotlib.pyplot as pl\n",
    "import seaborn as sns\n",
    "import glob\n",
    "import sys\n",
    "import os\n",
    "import warnings\n",
    "import ggplot\n",
    "import datetime\n",
    "import time\n",
    "from datetime import date"
   ]
  },
  {
   "cell_type": "code",
   "execution_count": 2,
   "metadata": {
    "collapsed": true,
    "deletable": true,
    "editable": true
   },
   "outputs": [],
   "source": [
    "%matplotlib inline"
   ]
  },
  {
   "cell_type": "code",
   "execution_count": 3,
   "metadata": {
    "collapsed": false,
    "deletable": true,
    "editable": true
   },
   "outputs": [],
   "source": [
    "#load data file\n",
    "data_file = pd.read_excel('NEW_NASA_2006.xlsx') \n",
    "data_file2 = pd.read_excel('NEW_NASA_2007.xlsx') \n",
    "data_file3 = pd.read_excel('NASA_2008.xlsx')\n",
    "data_file4 = pd.read_excel('NASA_2009.xlsx')\n",
    "data_file5 = pd.read_excel('NASA_2010.xlsx')\n",
    "data_file6 = pd.read_excel('NASA_2011.xlsx')\n",
    "data_file7 = pd.read_excel('NASA_2012.xlsx')\n",
    "data_file8 = pd.read_excel('NASA_2013.xlsx')\n",
    "data_file9 = pd.read_excel('NASA_2014.xlsx')\n",
    "data_file10 = pd.read_excel('NASA_2015.xlsx')\n",
    "data_file11 = pd.read_excel('NASA_2016.xlsx')\n",
    "\n",
    "#you'll have to change the file path to your working directory\n",
    "\n",
    "#removing 1st row from datasets\n",
    "data_file.drop(0, axis = 0,inplace = True)\n",
    "data_file2.drop(0, axis = 0,inplace = True)\n",
    "data_file3.drop(0, axis = 0,inplace = True)\n",
    "data_file4.drop(0, axis = 0,inplace = True)\n",
    "data_file5.drop(0, axis = 0,inplace = True)\n",
    "data_file6.drop(0, axis = 0,inplace = True)\n",
    "data_file7.drop(0, axis = 0,inplace = True)\n",
    "data_file8.drop(0, axis = 0,inplace = True)\n",
    "data_file9.drop(0, axis = 0,inplace = True)\n",
    "data_file10.drop(0, axis = 0,inplace = True)\n",
    "data_file11.drop(0, axis = 0,inplace = True)\n",
    "\n",
    "#note: please be patient as this will take a few minutes to run"
   ]
  },
  {
   "cell_type": "code",
   "execution_count": 4,
   "metadata": {
    "collapsed": false,
    "deletable": true,
    "editable": true
   },
   "outputs": [
    {
     "data": {
      "text/html": [
       "<div>\n",
       "<table border=\"1\" class=\"dataframe\">\n",
       "  <thead>\n",
       "    <tr style=\"text-align: right;\">\n",
       "      <th></th>\n",
       "      <th>index</th>\n",
       "      <th>Hist_yr</th>\n",
       "      <th>Unnamed: 28</th>\n",
       "      <th>agency</th>\n",
       "      <th>bdyr</th>\n",
       "      <th>coopsch</th>\n",
       "      <th>coopyr</th>\n",
       "      <th>currgrddte</th>\n",
       "      <th>dtystn_ind</th>\n",
       "      <th>dtystnname</th>\n",
       "      <th>...</th>\n",
       "      <th>sex</th>\n",
       "      <th>step_emp</th>\n",
       "      <th>supind</th>\n",
       "      <th>suplev</th>\n",
       "      <th>tenure</th>\n",
       "      <th>time_in_grade</th>\n",
       "      <th>tl</th>\n",
       "      <th>ttl</th>\n",
       "      <th>typappt</th>\n",
       "      <th>worksch</th>\n",
       "    </tr>\n",
       "  </thead>\n",
       "  <tbody>\n",
       "    <tr>\n",
       "      <th>0</th>\n",
       "      <td>1</td>\n",
       "      <td>2006</td>\n",
       "      <td>NaN</td>\n",
       "      <td>NN51</td>\n",
       "      <td>1900</td>\n",
       "      <td>NaN</td>\n",
       "      <td>NaN</td>\n",
       "      <td>10/08/1989</td>\n",
       "      <td>80</td>\n",
       "      <td>GREENBELT,PRINCE GEORGE'S,MARYLAND</td>\n",
       "      <td>...</td>\n",
       "      <td>F</td>\n",
       "      <td>9</td>\n",
       "      <td>8</td>\n",
       "      <td>34</td>\n",
       "      <td>1</td>\n",
       "      <td>205.46</td>\n",
       "      <td>NaN</td>\n",
       "      <td>NaN</td>\n",
       "      <td>10</td>\n",
       "      <td>F</td>\n",
       "    </tr>\n",
       "    <tr>\n",
       "      <th>1</th>\n",
       "      <td>2</td>\n",
       "      <td>2006</td>\n",
       "      <td>NaN</td>\n",
       "      <td>NN51</td>\n",
       "      <td>1980</td>\n",
       "      <td>NaN</td>\n",
       "      <td>NaN</td>\n",
       "      <td>09/22/2002</td>\n",
       "      <td>80</td>\n",
       "      <td>GREENBELT,PRINCE GEORGE'S,MARYLAND</td>\n",
       "      <td>...</td>\n",
       "      <td>F</td>\n",
       "      <td>6</td>\n",
       "      <td>2</td>\n",
       "      <td>26</td>\n",
       "      <td>1</td>\n",
       "      <td>50.00</td>\n",
       "      <td>NaN</td>\n",
       "      <td>NaN</td>\n",
       "      <td>10</td>\n",
       "      <td>F</td>\n",
       "    </tr>\n",
       "    <tr>\n",
       "      <th>2</th>\n",
       "      <td>3</td>\n",
       "      <td>2006</td>\n",
       "      <td>NaN</td>\n",
       "      <td>NN23</td>\n",
       "      <td>1986</td>\n",
       "      <td>NaN</td>\n",
       "      <td>NaN</td>\n",
       "      <td>07/21/1996</td>\n",
       "      <td>88</td>\n",
       "      <td>HAMPTON,HAMPTON,VIRGINIA</td>\n",
       "      <td>...</td>\n",
       "      <td>M</td>\n",
       "      <td>8</td>\n",
       "      <td>8</td>\n",
       "      <td>34</td>\n",
       "      <td>1</td>\n",
       "      <td>124.04</td>\n",
       "      <td>NaN</td>\n",
       "      <td>NaN</td>\n",
       "      <td>10</td>\n",
       "      <td>F</td>\n",
       "    </tr>\n",
       "    <tr>\n",
       "      <th>3</th>\n",
       "      <td>4</td>\n",
       "      <td>2006</td>\n",
       "      <td>NaN</td>\n",
       "      <td>NN64</td>\n",
       "      <td>1994</td>\n",
       "      <td>NaN</td>\n",
       "      <td>NaN</td>\n",
       "      <td>04/17/2005</td>\n",
       "      <td>88</td>\n",
       "      <td>STENNIS SPACE CENTER, HANCOCK, MISSISSIPPI</td>\n",
       "      <td>...</td>\n",
       "      <td>M</td>\n",
       "      <td>2</td>\n",
       "      <td>2</td>\n",
       "      <td>26</td>\n",
       "      <td>1</td>\n",
       "      <td>19.17</td>\n",
       "      <td>NaN</td>\n",
       "      <td>NaN</td>\n",
       "      <td>10</td>\n",
       "      <td>F</td>\n",
       "    </tr>\n",
       "    <tr>\n",
       "      <th>4</th>\n",
       "      <td>5</td>\n",
       "      <td>2006</td>\n",
       "      <td>NaN</td>\n",
       "      <td>NN72</td>\n",
       "      <td>2006</td>\n",
       "      <td>NaN</td>\n",
       "      <td>NaN</td>\n",
       "      <td>07/23/2006</td>\n",
       "      <td>29</td>\n",
       "      <td>HOUSTON,HARRIS,TEXAS</td>\n",
       "      <td>...</td>\n",
       "      <td>F</td>\n",
       "      <td>10</td>\n",
       "      <td>8</td>\n",
       "      <td>34</td>\n",
       "      <td>3</td>\n",
       "      <td>3.98</td>\n",
       "      <td>NaN</td>\n",
       "      <td>NaN</td>\n",
       "      <td>20</td>\n",
       "      <td>F</td>\n",
       "    </tr>\n",
       "    <tr>\n",
       "      <th>5</th>\n",
       "      <td>6</td>\n",
       "      <td>2006</td>\n",
       "      <td>NaN</td>\n",
       "      <td>NN62</td>\n",
       "      <td>1972</td>\n",
       "      <td>NaN</td>\n",
       "      <td>NaN</td>\n",
       "      <td>12/01/1997</td>\n",
       "      <td>32</td>\n",
       "      <td>REDSTONE ARSENAL,MADISON,ALABAMA</td>\n",
       "      <td>...</td>\n",
       "      <td>M</td>\n",
       "      <td>6</td>\n",
       "      <td>8</td>\n",
       "      <td>34</td>\n",
       "      <td>1</td>\n",
       "      <td>107.69</td>\n",
       "      <td>NaN</td>\n",
       "      <td>NaN</td>\n",
       "      <td>10</td>\n",
       "      <td>F</td>\n",
       "    </tr>\n",
       "    <tr>\n",
       "      <th>6</th>\n",
       "      <td>7</td>\n",
       "      <td>2006</td>\n",
       "      <td>NaN</td>\n",
       "      <td>NN51</td>\n",
       "      <td>1900</td>\n",
       "      <td>NaN</td>\n",
       "      <td>NaN</td>\n",
       "      <td>02/27/2000</td>\n",
       "      <td>80</td>\n",
       "      <td>GREENBELT,PRINCE GEORGE'S,MARYLAND</td>\n",
       "      <td>...</td>\n",
       "      <td>M</td>\n",
       "      <td>5</td>\n",
       "      <td>8</td>\n",
       "      <td>34</td>\n",
       "      <td>1</td>\n",
       "      <td>80.85</td>\n",
       "      <td>NaN</td>\n",
       "      <td>NaN</td>\n",
       "      <td>10</td>\n",
       "      <td>F</td>\n",
       "    </tr>\n",
       "    <tr>\n",
       "      <th>7</th>\n",
       "      <td>8</td>\n",
       "      <td>2006</td>\n",
       "      <td>NaN</td>\n",
       "      <td>NN72</td>\n",
       "      <td>1986</td>\n",
       "      <td>NaN</td>\n",
       "      <td>NaN</td>\n",
       "      <td>04/26/1998</td>\n",
       "      <td>29</td>\n",
       "      <td>HOUSTON,HARRIS,TEXAS</td>\n",
       "      <td>...</td>\n",
       "      <td>M</td>\n",
       "      <td>6</td>\n",
       "      <td>8</td>\n",
       "      <td>34</td>\n",
       "      <td>1</td>\n",
       "      <td>102.88</td>\n",
       "      <td>NaN</td>\n",
       "      <td>NaN</td>\n",
       "      <td>10</td>\n",
       "      <td>F</td>\n",
       "    </tr>\n",
       "    <tr>\n",
       "      <th>8</th>\n",
       "      <td>9</td>\n",
       "      <td>2006</td>\n",
       "      <td>NaN</td>\n",
       "      <td>NN51</td>\n",
       "      <td>1978</td>\n",
       "      <td>NaN</td>\n",
       "      <td>NaN</td>\n",
       "      <td>09/27/1987</td>\n",
       "      <td>80</td>\n",
       "      <td>GREENBELT,PRINCE GEORGE'S,MARYLAND</td>\n",
       "      <td>...</td>\n",
       "      <td>M</td>\n",
       "      <td>0</td>\n",
       "      <td>2</td>\n",
       "      <td>32</td>\n",
       "      <td>1</td>\n",
       "      <td>229.85</td>\n",
       "      <td>NaN</td>\n",
       "      <td>NaN</td>\n",
       "      <td>10</td>\n",
       "      <td>F</td>\n",
       "    </tr>\n",
       "    <tr>\n",
       "      <th>9</th>\n",
       "      <td>10</td>\n",
       "      <td>2006</td>\n",
       "      <td>NaN</td>\n",
       "      <td>NN10</td>\n",
       "      <td>1987</td>\n",
       "      <td>NaN</td>\n",
       "      <td>NaN</td>\n",
       "      <td>05/14/2006</td>\n",
       "      <td>80</td>\n",
       "      <td>WASHINGTON,DISTRICT OF COLUMBIA</td>\n",
       "      <td>...</td>\n",
       "      <td>F</td>\n",
       "      <td>6</td>\n",
       "      <td>2</td>\n",
       "      <td>34</td>\n",
       "      <td>1</td>\n",
       "      <td>6.27</td>\n",
       "      <td>NaN</td>\n",
       "      <td>NaN</td>\n",
       "      <td>10</td>\n",
       "      <td>F</td>\n",
       "    </tr>\n",
       "    <tr>\n",
       "      <th>10</th>\n",
       "      <td>11</td>\n",
       "      <td>2006</td>\n",
       "      <td>NaN</td>\n",
       "      <td>NN62</td>\n",
       "      <td>1982</td>\n",
       "      <td>NaN</td>\n",
       "      <td>NaN</td>\n",
       "      <td>07/30/2000</td>\n",
       "      <td>32</td>\n",
       "      <td>REDSTONE ARSENAL,MADISON,ALABAMA</td>\n",
       "      <td>...</td>\n",
       "      <td>M</td>\n",
       "      <td>7</td>\n",
       "      <td>8</td>\n",
       "      <td>34</td>\n",
       "      <td>1</td>\n",
       "      <td>75.75</td>\n",
       "      <td>NaN</td>\n",
       "      <td>NaN</td>\n",
       "      <td>10</td>\n",
       "      <td>F</td>\n",
       "    </tr>\n",
       "    <tr>\n",
       "      <th>11</th>\n",
       "      <td>12</td>\n",
       "      <td>2006</td>\n",
       "      <td>NaN</td>\n",
       "      <td>NN72</td>\n",
       "      <td>1976</td>\n",
       "      <td>NaN</td>\n",
       "      <td>NaN</td>\n",
       "      <td>09/29/1989</td>\n",
       "      <td>29</td>\n",
       "      <td>HOUSTON,HARRIS,TEXAS</td>\n",
       "      <td>...</td>\n",
       "      <td>F</td>\n",
       "      <td>10</td>\n",
       "      <td>8</td>\n",
       "      <td>34</td>\n",
       "      <td>1</td>\n",
       "      <td>205.78</td>\n",
       "      <td>NaN</td>\n",
       "      <td>NaN</td>\n",
       "      <td>10</td>\n",
       "      <td>F</td>\n",
       "    </tr>\n",
       "    <tr>\n",
       "      <th>12</th>\n",
       "      <td>13</td>\n",
       "      <td>2006</td>\n",
       "      <td>NaN</td>\n",
       "      <td>NN22</td>\n",
       "      <td>1973</td>\n",
       "      <td>NaN</td>\n",
       "      <td>NaN</td>\n",
       "      <td>04/04/2004</td>\n",
       "      <td>14</td>\n",
       "      <td>BROOK PARK,CUYAHOGA,OHIO</td>\n",
       "      <td>...</td>\n",
       "      <td>M</td>\n",
       "      <td>7</td>\n",
       "      <td>2</td>\n",
       "      <td>29</td>\n",
       "      <td>1</td>\n",
       "      <td>31.59</td>\n",
       "      <td>NaN</td>\n",
       "      <td>NaN</td>\n",
       "      <td>10</td>\n",
       "      <td>F</td>\n",
       "    </tr>\n",
       "    <tr>\n",
       "      <th>13</th>\n",
       "      <td>14</td>\n",
       "      <td>2006</td>\n",
       "      <td>NaN</td>\n",
       "      <td>NN10</td>\n",
       "      <td>1975</td>\n",
       "      <td>NaN</td>\n",
       "      <td>NaN</td>\n",
       "      <td>03/30/1997</td>\n",
       "      <td>80</td>\n",
       "      <td>WASHINGTON,DISTRICT OF COLUMBIA</td>\n",
       "      <td>...</td>\n",
       "      <td>M</td>\n",
       "      <td>8</td>\n",
       "      <td>5</td>\n",
       "      <td>34</td>\n",
       "      <td>1</td>\n",
       "      <td>115.75</td>\n",
       "      <td>NaN</td>\n",
       "      <td>NaN</td>\n",
       "      <td>10</td>\n",
       "      <td>F</td>\n",
       "    </tr>\n",
       "    <tr>\n",
       "      <th>14</th>\n",
       "      <td>15</td>\n",
       "      <td>2006</td>\n",
       "      <td>NaN</td>\n",
       "      <td>NN76</td>\n",
       "      <td>1978</td>\n",
       "      <td>NaN</td>\n",
       "      <td>NaN</td>\n",
       "      <td>12/23/1984</td>\n",
       "      <td>88</td>\n",
       "      <td>KENNEDY SPACE CENTER,BREVARD,FLORIDA</td>\n",
       "      <td>...</td>\n",
       "      <td>F</td>\n",
       "      <td>10</td>\n",
       "      <td>5</td>\n",
       "      <td>25</td>\n",
       "      <td>1</td>\n",
       "      <td>262.98</td>\n",
       "      <td>NaN</td>\n",
       "      <td>NaN</td>\n",
       "      <td>10</td>\n",
       "      <td>F</td>\n",
       "    </tr>\n",
       "    <tr>\n",
       "      <th>15</th>\n",
       "      <td>16</td>\n",
       "      <td>2006</td>\n",
       "      <td>NaN</td>\n",
       "      <td>NN21</td>\n",
       "      <td>1980</td>\n",
       "      <td>NaN</td>\n",
       "      <td>NaN</td>\n",
       "      <td>07/14/2002</td>\n",
       "      <td>74</td>\n",
       "      <td>MOFFETT FIELD,SANTA CLARA,CALIFORNIA</td>\n",
       "      <td>...</td>\n",
       "      <td>M</td>\n",
       "      <td>5</td>\n",
       "      <td>8</td>\n",
       "      <td>34</td>\n",
       "      <td>1</td>\n",
       "      <td>52.27</td>\n",
       "      <td>NaN</td>\n",
       "      <td>NaN</td>\n",
       "      <td>10</td>\n",
       "      <td>F</td>\n",
       "    </tr>\n",
       "    <tr>\n",
       "      <th>16</th>\n",
       "      <td>17</td>\n",
       "      <td>2006</td>\n",
       "      <td>NaN</td>\n",
       "      <td>NN21</td>\n",
       "      <td>1979</td>\n",
       "      <td>NaN</td>\n",
       "      <td>NaN</td>\n",
       "      <td>03/21/2004</td>\n",
       "      <td>74</td>\n",
       "      <td>MOFFETT FIELD,SANTA CLARA,CALIFORNIA</td>\n",
       "      <td>...</td>\n",
       "      <td>M</td>\n",
       "      <td>10</td>\n",
       "      <td>5</td>\n",
       "      <td>34</td>\n",
       "      <td>1</td>\n",
       "      <td>32.04</td>\n",
       "      <td>NaN</td>\n",
       "      <td>NaN</td>\n",
       "      <td>10</td>\n",
       "      <td>F</td>\n",
       "    </tr>\n",
       "    <tr>\n",
       "      <th>17</th>\n",
       "      <td>18</td>\n",
       "      <td>2006</td>\n",
       "      <td>NaN</td>\n",
       "      <td>NN51</td>\n",
       "      <td>2003</td>\n",
       "      <td>NaN</td>\n",
       "      <td>NaN</td>\n",
       "      <td>11/27/2005</td>\n",
       "      <td>80</td>\n",
       "      <td>GREENBELT,PRINCE GEORGE'S,MARYLAND</td>\n",
       "      <td>...</td>\n",
       "      <td>M</td>\n",
       "      <td>4</td>\n",
       "      <td>8</td>\n",
       "      <td>34</td>\n",
       "      <td>1</td>\n",
       "      <td>11.85</td>\n",
       "      <td>NaN</td>\n",
       "      <td>NaN</td>\n",
       "      <td>10</td>\n",
       "      <td>F</td>\n",
       "    </tr>\n",
       "    <tr>\n",
       "      <th>18</th>\n",
       "      <td>19</td>\n",
       "      <td>2006</td>\n",
       "      <td>NaN</td>\n",
       "      <td>NN10</td>\n",
       "      <td>1978</td>\n",
       "      <td>NaN</td>\n",
       "      <td>NaN</td>\n",
       "      <td>03/21/1993</td>\n",
       "      <td>41</td>\n",
       "      <td>PASADENA,LOS ANGELES,CALIFORNIA</td>\n",
       "      <td>...</td>\n",
       "      <td>M</td>\n",
       "      <td>8</td>\n",
       "      <td>8</td>\n",
       "      <td>34</td>\n",
       "      <td>1</td>\n",
       "      <td>164.04</td>\n",
       "      <td>NaN</td>\n",
       "      <td>NaN</td>\n",
       "      <td>10</td>\n",
       "      <td>F</td>\n",
       "    </tr>\n",
       "    <tr>\n",
       "      <th>19</th>\n",
       "      <td>20</td>\n",
       "      <td>2006</td>\n",
       "      <td>NaN</td>\n",
       "      <td>NN22</td>\n",
       "      <td>1983</td>\n",
       "      <td>NaN</td>\n",
       "      <td>NaN</td>\n",
       "      <td>11/18/1990</td>\n",
       "      <td>14</td>\n",
       "      <td>BROOK PARK,CUYAHOGA,OHIO</td>\n",
       "      <td>...</td>\n",
       "      <td>M</td>\n",
       "      <td>10</td>\n",
       "      <td>2</td>\n",
       "      <td>27</td>\n",
       "      <td>1</td>\n",
       "      <td>192.14</td>\n",
       "      <td>NaN</td>\n",
       "      <td>NaN</td>\n",
       "      <td>10</td>\n",
       "      <td>F</td>\n",
       "    </tr>\n",
       "    <tr>\n",
       "      <th>20</th>\n",
       "      <td>21</td>\n",
       "      <td>2006</td>\n",
       "      <td>NaN</td>\n",
       "      <td>NN62</td>\n",
       "      <td>1999</td>\n",
       "      <td>NaN</td>\n",
       "      <td>NaN</td>\n",
       "      <td>07/15/2001</td>\n",
       "      <td>32</td>\n",
       "      <td>REDSTONE ARSENAL,MADISON,ALABAMA</td>\n",
       "      <td>...</td>\n",
       "      <td>M</td>\n",
       "      <td>8</td>\n",
       "      <td>8</td>\n",
       "      <td>34</td>\n",
       "      <td>1</td>\n",
       "      <td>64.24</td>\n",
       "      <td>NaN</td>\n",
       "      <td>NaN</td>\n",
       "      <td>10</td>\n",
       "      <td>F</td>\n",
       "    </tr>\n",
       "    <tr>\n",
       "      <th>21</th>\n",
       "      <td>22</td>\n",
       "      <td>2006</td>\n",
       "      <td>NaN</td>\n",
       "      <td>NN76</td>\n",
       "      <td>1900</td>\n",
       "      <td>NaN</td>\n",
       "      <td>NaN</td>\n",
       "      <td>11/13/2005</td>\n",
       "      <td>88</td>\n",
       "      <td>KENNEDY SPACE CENTER,BREVARD,FLORIDA</td>\n",
       "      <td>...</td>\n",
       "      <td>F</td>\n",
       "      <td>10</td>\n",
       "      <td>8</td>\n",
       "      <td>34</td>\n",
       "      <td>3</td>\n",
       "      <td>12.30</td>\n",
       "      <td>NaN</td>\n",
       "      <td>NaN</td>\n",
       "      <td>20</td>\n",
       "      <td>F</td>\n",
       "    </tr>\n",
       "    <tr>\n",
       "      <th>22</th>\n",
       "      <td>23</td>\n",
       "      <td>2006</td>\n",
       "      <td>NaN</td>\n",
       "      <td>NN51</td>\n",
       "      <td>1987</td>\n",
       "      <td>NaN</td>\n",
       "      <td>NaN</td>\n",
       "      <td>08/25/2002</td>\n",
       "      <td>80</td>\n",
       "      <td>GREENBELT,PRINCE GEORGE'S,MARYLAND</td>\n",
       "      <td>...</td>\n",
       "      <td>M</td>\n",
       "      <td>7</td>\n",
       "      <td>8</td>\n",
       "      <td>34</td>\n",
       "      <td>1</td>\n",
       "      <td>50.91</td>\n",
       "      <td>NaN</td>\n",
       "      <td>NaN</td>\n",
       "      <td>10</td>\n",
       "      <td>F</td>\n",
       "    </tr>\n",
       "    <tr>\n",
       "      <th>23</th>\n",
       "      <td>24</td>\n",
       "      <td>2006</td>\n",
       "      <td>NaN</td>\n",
       "      <td>NN76</td>\n",
       "      <td>1995</td>\n",
       "      <td>NaN</td>\n",
       "      <td>NaN</td>\n",
       "      <td>10/15/2006</td>\n",
       "      <td>88</td>\n",
       "      <td>KENNEDY SPACE CENTER,BREVARD,FLORIDA</td>\n",
       "      <td>...</td>\n",
       "      <td>M</td>\n",
       "      <td>1</td>\n",
       "      <td>8</td>\n",
       "      <td>34</td>\n",
       "      <td>3</td>\n",
       "      <td>1.24</td>\n",
       "      <td>NaN</td>\n",
       "      <td>NaN</td>\n",
       "      <td>20</td>\n",
       "      <td>F</td>\n",
       "    </tr>\n",
       "    <tr>\n",
       "      <th>24</th>\n",
       "      <td>25</td>\n",
       "      <td>2006</td>\n",
       "      <td>NaN</td>\n",
       "      <td>NN51</td>\n",
       "      <td>2002</td>\n",
       "      <td>NaN</td>\n",
       "      <td>NaN</td>\n",
       "      <td>04/16/2006</td>\n",
       "      <td>80</td>\n",
       "      <td>GREENBELT,PRINCE GEORGE'S,MARYLAND</td>\n",
       "      <td>...</td>\n",
       "      <td>F</td>\n",
       "      <td>2</td>\n",
       "      <td>8</td>\n",
       "      <td>34</td>\n",
       "      <td>1</td>\n",
       "      <td>7.20</td>\n",
       "      <td>NaN</td>\n",
       "      <td>NaN</td>\n",
       "      <td>10</td>\n",
       "      <td>F</td>\n",
       "    </tr>\n",
       "    <tr>\n",
       "      <th>25</th>\n",
       "      <td>26</td>\n",
       "      <td>2006</td>\n",
       "      <td>NaN</td>\n",
       "      <td>NN72</td>\n",
       "      <td>1967</td>\n",
       "      <td>NaN</td>\n",
       "      <td>NaN</td>\n",
       "      <td>01/08/1989</td>\n",
       "      <td>29</td>\n",
       "      <td>HOUSTON,HARRIS,TEXAS</td>\n",
       "      <td>...</td>\n",
       "      <td>M</td>\n",
       "      <td>10</td>\n",
       "      <td>8</td>\n",
       "      <td>34</td>\n",
       "      <td>1</td>\n",
       "      <td>214.46</td>\n",
       "      <td>NaN</td>\n",
       "      <td>NaN</td>\n",
       "      <td>10</td>\n",
       "      <td>F</td>\n",
       "    </tr>\n",
       "    <tr>\n",
       "      <th>26</th>\n",
       "      <td>27</td>\n",
       "      <td>2006</td>\n",
       "      <td>NaN</td>\n",
       "      <td>NN10</td>\n",
       "      <td>1972</td>\n",
       "      <td>NaN</td>\n",
       "      <td>NaN</td>\n",
       "      <td>01/09/2006</td>\n",
       "      <td>80</td>\n",
       "      <td>WASHINGTON,DISTRICT OF COLUMBIA</td>\n",
       "      <td>...</td>\n",
       "      <td>M</td>\n",
       "      <td>0</td>\n",
       "      <td>2</td>\n",
       "      <td>26</td>\n",
       "      <td>0</td>\n",
       "      <td>10.43</td>\n",
       "      <td>NaN</td>\n",
       "      <td>NaN</td>\n",
       "      <td>50</td>\n",
       "      <td>F</td>\n",
       "    </tr>\n",
       "    <tr>\n",
       "      <th>27</th>\n",
       "      <td>28</td>\n",
       "      <td>2006</td>\n",
       "      <td>NaN</td>\n",
       "      <td>NN76</td>\n",
       "      <td>1982</td>\n",
       "      <td>NaN</td>\n",
       "      <td>NaN</td>\n",
       "      <td>11/12/2006</td>\n",
       "      <td>88</td>\n",
       "      <td>KENNEDY SPACE CENTER,BREVARD,FLORIDA</td>\n",
       "      <td>...</td>\n",
       "      <td>M</td>\n",
       "      <td>10</td>\n",
       "      <td>8</td>\n",
       "      <td>34</td>\n",
       "      <td>3</td>\n",
       "      <td>0.33</td>\n",
       "      <td>NaN</td>\n",
       "      <td>NaN</td>\n",
       "      <td>20</td>\n",
       "      <td>F</td>\n",
       "    </tr>\n",
       "    <tr>\n",
       "      <th>28</th>\n",
       "      <td>29</td>\n",
       "      <td>2006</td>\n",
       "      <td>NaN</td>\n",
       "      <td>NN51</td>\n",
       "      <td>1900</td>\n",
       "      <td>NaN</td>\n",
       "      <td>NaN</td>\n",
       "      <td>10/30/2005</td>\n",
       "      <td>80</td>\n",
       "      <td>GREENBELT,PRINCE GEORGE'S,MARYLAND</td>\n",
       "      <td>...</td>\n",
       "      <td>F</td>\n",
       "      <td>2</td>\n",
       "      <td>8</td>\n",
       "      <td>34</td>\n",
       "      <td>1</td>\n",
       "      <td>12.75</td>\n",
       "      <td>NaN</td>\n",
       "      <td>NaN</td>\n",
       "      <td>10</td>\n",
       "      <td>F</td>\n",
       "    </tr>\n",
       "    <tr>\n",
       "      <th>29</th>\n",
       "      <td>30</td>\n",
       "      <td>2006</td>\n",
       "      <td>NaN</td>\n",
       "      <td>NN72</td>\n",
       "      <td>1996</td>\n",
       "      <td>NaN</td>\n",
       "      <td>NaN</td>\n",
       "      <td>06/12/2005</td>\n",
       "      <td>29</td>\n",
       "      <td>HOUSTON,HARRIS,TEXAS</td>\n",
       "      <td>...</td>\n",
       "      <td>M</td>\n",
       "      <td>8</td>\n",
       "      <td>8</td>\n",
       "      <td>34</td>\n",
       "      <td>2</td>\n",
       "      <td>17.33</td>\n",
       "      <td>NaN</td>\n",
       "      <td>NaN</td>\n",
       "      <td>15</td>\n",
       "      <td>F</td>\n",
       "    </tr>\n",
       "    <tr>\n",
       "      <th>...</th>\n",
       "      <td>...</td>\n",
       "      <td>...</td>\n",
       "      <td>...</td>\n",
       "      <td>...</td>\n",
       "      <td>...</td>\n",
       "      <td>...</td>\n",
       "      <td>...</td>\n",
       "      <td>...</td>\n",
       "      <td>...</td>\n",
       "      <td>...</td>\n",
       "      <td>...</td>\n",
       "      <td>...</td>\n",
       "      <td>...</td>\n",
       "      <td>...</td>\n",
       "      <td>...</td>\n",
       "      <td>...</td>\n",
       "      <td>...</td>\n",
       "      <td>...</td>\n",
       "      <td>...</td>\n",
       "      <td>...</td>\n",
       "      <td>...</td>\n",
       "    </tr>\n",
       "    <tr>\n",
       "      <th>202707</th>\n",
       "      <td>17498</td>\n",
       "      <td>2016</td>\n",
       "      <td>NaN</td>\n",
       "      <td>NN51</td>\n",
       "      <td>1992</td>\n",
       "      <td>NaN</td>\n",
       "      <td>0</td>\n",
       "      <td>08/05/2007</td>\n",
       "      <td>80</td>\n",
       "      <td>GREENBELT,PRINCE GEORGE'S,MARYLAND</td>\n",
       "      <td>...</td>\n",
       "      <td>F</td>\n",
       "      <td>8</td>\n",
       "      <td>8</td>\n",
       "      <td>34</td>\n",
       "      <td>1</td>\n",
       "      <td>109.59</td>\n",
       "      <td>NaN</td>\n",
       "      <td>AEROSPACE FLIGHT SYSTEMS</td>\n",
       "      <td>10</td>\n",
       "      <td>F</td>\n",
       "    </tr>\n",
       "    <tr>\n",
       "      <th>202708</th>\n",
       "      <td>17499</td>\n",
       "      <td>2016</td>\n",
       "      <td>NaN</td>\n",
       "      <td>NN51</td>\n",
       "      <td>1992</td>\n",
       "      <td>NaN</td>\n",
       "      <td>0</td>\n",
       "      <td>05/04/2014</td>\n",
       "      <td>80</td>\n",
       "      <td>GREENBELT,PRINCE GEORGE'S,MARYLAND</td>\n",
       "      <td>...</td>\n",
       "      <td>M</td>\n",
       "      <td>7</td>\n",
       "      <td>2</td>\n",
       "      <td>29</td>\n",
       "      <td>1</td>\n",
       "      <td>28.62</td>\n",
       "      <td>NaN</td>\n",
       "      <td>RVISORY AST, SOFTWARE SYSTEMS</td>\n",
       "      <td>10</td>\n",
       "      <td>F</td>\n",
       "    </tr>\n",
       "    <tr>\n",
       "      <th>202709</th>\n",
       "      <td>17500</td>\n",
       "      <td>2016</td>\n",
       "      <td>NaN</td>\n",
       "      <td>NN23</td>\n",
       "      <td>1991</td>\n",
       "      <td>NaN</td>\n",
       "      <td>0</td>\n",
       "      <td>02/26/2012</td>\n",
       "      <td>88</td>\n",
       "      <td>HAMPTON,HAMPTON,VIRGINIA</td>\n",
       "      <td>...</td>\n",
       "      <td>M</td>\n",
       "      <td>5</td>\n",
       "      <td>8</td>\n",
       "      <td>34</td>\n",
       "      <td>1</td>\n",
       "      <td>54.91</td>\n",
       "      <td>NaN</td>\n",
       "      <td>NaN</td>\n",
       "      <td>10</td>\n",
       "      <td>F</td>\n",
       "    </tr>\n",
       "    <tr>\n",
       "      <th>202710</th>\n",
       "      <td>17501</td>\n",
       "      <td>2016</td>\n",
       "      <td>NaN</td>\n",
       "      <td>NN10</td>\n",
       "      <td>2005</td>\n",
       "      <td>NaN</td>\n",
       "      <td>0</td>\n",
       "      <td>08/07/2016</td>\n",
       "      <td>88</td>\n",
       "      <td>BAY ST LOUIS,HANCOCK,MISSISSIPPI</td>\n",
       "      <td>...</td>\n",
       "      <td>M</td>\n",
       "      <td>6</td>\n",
       "      <td>8</td>\n",
       "      <td>32</td>\n",
       "      <td>1</td>\n",
       "      <td>1.52</td>\n",
       "      <td>NaN</td>\n",
       "      <td>NaN</td>\n",
       "      <td>10</td>\n",
       "      <td>F</td>\n",
       "    </tr>\n",
       "    <tr>\n",
       "      <th>202711</th>\n",
       "      <td>17502</td>\n",
       "      <td>2016</td>\n",
       "      <td>NaN</td>\n",
       "      <td>NN23</td>\n",
       "      <td>1900</td>\n",
       "      <td>NaN</td>\n",
       "      <td>0</td>\n",
       "      <td>10/02/2005</td>\n",
       "      <td>88</td>\n",
       "      <td>HAMPTON,HAMPTON,VIRGINIA</td>\n",
       "      <td>...</td>\n",
       "      <td>M</td>\n",
       "      <td>7</td>\n",
       "      <td>2</td>\n",
       "      <td>29</td>\n",
       "      <td>1</td>\n",
       "      <td>131.68</td>\n",
       "      <td>NaN</td>\n",
       "      <td>NaN</td>\n",
       "      <td>10</td>\n",
       "      <td>F</td>\n",
       "    </tr>\n",
       "    <tr>\n",
       "      <th>202712</th>\n",
       "      <td>17503</td>\n",
       "      <td>2016</td>\n",
       "      <td>NaN</td>\n",
       "      <td>NN23</td>\n",
       "      <td>2008</td>\n",
       "      <td>NaN</td>\n",
       "      <td>0</td>\n",
       "      <td>07/12/2015</td>\n",
       "      <td>88</td>\n",
       "      <td>HAMPTON,HAMPTON,VIRGINIA</td>\n",
       "      <td>...</td>\n",
       "      <td>M</td>\n",
       "      <td>3</td>\n",
       "      <td>8</td>\n",
       "      <td>34</td>\n",
       "      <td>1</td>\n",
       "      <td>14.36</td>\n",
       "      <td>NaN</td>\n",
       "      <td>ARCH AST, AEROSPACE MATERIALS</td>\n",
       "      <td>10</td>\n",
       "      <td>F</td>\n",
       "    </tr>\n",
       "    <tr>\n",
       "      <th>202713</th>\n",
       "      <td>17504</td>\n",
       "      <td>2016</td>\n",
       "      <td>NaN</td>\n",
       "      <td>NN72</td>\n",
       "      <td>1987</td>\n",
       "      <td>NaN</td>\n",
       "      <td>0</td>\n",
       "      <td>07/24/1994</td>\n",
       "      <td>29</td>\n",
       "      <td>HOUSTON,HARRIS,TEXAS</td>\n",
       "      <td>...</td>\n",
       "      <td>F</td>\n",
       "      <td>10</td>\n",
       "      <td>8</td>\n",
       "      <td>34</td>\n",
       "      <td>1</td>\n",
       "      <td>265.98</td>\n",
       "      <td>NaN</td>\n",
       "      <td>, TELECOMMUNICATIONS)</td>\n",
       "      <td>10</td>\n",
       "      <td>F</td>\n",
       "    </tr>\n",
       "    <tr>\n",
       "      <th>202714</th>\n",
       "      <td>17505</td>\n",
       "      <td>2016</td>\n",
       "      <td>NaN</td>\n",
       "      <td>NN51</td>\n",
       "      <td>1997</td>\n",
       "      <td>NaN</td>\n",
       "      <td>0</td>\n",
       "      <td>03/11/2012</td>\n",
       "      <td>80</td>\n",
       "      <td>GREENBELT,PRINCE GEORGE'S,MARYLAND</td>\n",
       "      <td>...</td>\n",
       "      <td>F</td>\n",
       "      <td>5</td>\n",
       "      <td>8</td>\n",
       "      <td>34</td>\n",
       "      <td>1</td>\n",
       "      <td>54.39</td>\n",
       "      <td>NaN</td>\n",
       "      <td>NaN</td>\n",
       "      <td>10</td>\n",
       "      <td>F</td>\n",
       "    </tr>\n",
       "    <tr>\n",
       "      <th>202715</th>\n",
       "      <td>17506</td>\n",
       "      <td>2016</td>\n",
       "      <td>NaN</td>\n",
       "      <td>NN51</td>\n",
       "      <td>1900</td>\n",
       "      <td>NaN</td>\n",
       "      <td>0</td>\n",
       "      <td>10/19/2014</td>\n",
       "      <td>80</td>\n",
       "      <td>GREENBELT,PRINCE GEORGE'S,MARYLAND</td>\n",
       "      <td>...</td>\n",
       "      <td>F</td>\n",
       "      <td>4</td>\n",
       "      <td>8</td>\n",
       "      <td>34</td>\n",
       "      <td>1</td>\n",
       "      <td>23.14</td>\n",
       "      <td>NaN</td>\n",
       "      <td>NaN</td>\n",
       "      <td>10</td>\n",
       "      <td>F</td>\n",
       "    </tr>\n",
       "    <tr>\n",
       "      <th>202716</th>\n",
       "      <td>17507</td>\n",
       "      <td>2016</td>\n",
       "      <td>NaN</td>\n",
       "      <td>NN51</td>\n",
       "      <td>1900</td>\n",
       "      <td>NaN</td>\n",
       "      <td>0</td>\n",
       "      <td>07/24/2016</td>\n",
       "      <td>80</td>\n",
       "      <td>GREENBELT,PRINCE GEORGE'S,MARYLAND</td>\n",
       "      <td>...</td>\n",
       "      <td>F</td>\n",
       "      <td>5</td>\n",
       "      <td>2</td>\n",
       "      <td>27</td>\n",
       "      <td>1</td>\n",
       "      <td>1.98</td>\n",
       "      <td>NaN</td>\n",
       "      <td>NaN</td>\n",
       "      <td>10</td>\n",
       "      <td>F</td>\n",
       "    </tr>\n",
       "    <tr>\n",
       "      <th>202717</th>\n",
       "      <td>17508</td>\n",
       "      <td>2016</td>\n",
       "      <td>NaN</td>\n",
       "      <td>NN76</td>\n",
       "      <td>1997</td>\n",
       "      <td>NaN</td>\n",
       "      <td>0</td>\n",
       "      <td>06/27/2004</td>\n",
       "      <td>54</td>\n",
       "      <td>KENNEDY SPACE CENTER,BREVARD,FLORIDA</td>\n",
       "      <td>...</td>\n",
       "      <td>F</td>\n",
       "      <td>8</td>\n",
       "      <td>8</td>\n",
       "      <td>34</td>\n",
       "      <td>1</td>\n",
       "      <td>146.88</td>\n",
       "      <td>NaN</td>\n",
       "      <td>NaN</td>\n",
       "      <td>10</td>\n",
       "      <td>F</td>\n",
       "    </tr>\n",
       "    <tr>\n",
       "      <th>202718</th>\n",
       "      <td>17509</td>\n",
       "      <td>2016</td>\n",
       "      <td>NaN</td>\n",
       "      <td>NN24</td>\n",
       "      <td>1997</td>\n",
       "      <td>NaN</td>\n",
       "      <td>0</td>\n",
       "      <td>06/12/2016</td>\n",
       "      <td>41</td>\n",
       "      <td>EDWARDS AFB,KERN,CALIFORNIA</td>\n",
       "      <td>...</td>\n",
       "      <td>F</td>\n",
       "      <td>5</td>\n",
       "      <td>8</td>\n",
       "      <td>34</td>\n",
       "      <td>1</td>\n",
       "      <td>3.36</td>\n",
       "      <td>NaN</td>\n",
       "      <td>NaN</td>\n",
       "      <td>10</td>\n",
       "      <td>F</td>\n",
       "    </tr>\n",
       "    <tr>\n",
       "      <th>202719</th>\n",
       "      <td>17510</td>\n",
       "      <td>2016</td>\n",
       "      <td>NaN</td>\n",
       "      <td>NN51</td>\n",
       "      <td>1983</td>\n",
       "      <td>NaN</td>\n",
       "      <td>0</td>\n",
       "      <td>05/05/2002</td>\n",
       "      <td>80</td>\n",
       "      <td>GREENBELT,PRINCE GEORGE'S,MARYLAND</td>\n",
       "      <td>...</td>\n",
       "      <td>M</td>\n",
       "      <td>10</td>\n",
       "      <td>8</td>\n",
       "      <td>34</td>\n",
       "      <td>1</td>\n",
       "      <td>172.59</td>\n",
       "      <td>NaN</td>\n",
       "      <td>NaN</td>\n",
       "      <td>10</td>\n",
       "      <td>F</td>\n",
       "    </tr>\n",
       "    <tr>\n",
       "      <th>202720</th>\n",
       "      <td>17511</td>\n",
       "      <td>2016</td>\n",
       "      <td>NaN</td>\n",
       "      <td>NN51</td>\n",
       "      <td>1991</td>\n",
       "      <td>NaN</td>\n",
       "      <td>0</td>\n",
       "      <td>03/28/2010</td>\n",
       "      <td>80</td>\n",
       "      <td>GREENBELT,PRINCE GEORGE'S,MARYLAND</td>\n",
       "      <td>...</td>\n",
       "      <td>M</td>\n",
       "      <td>7</td>\n",
       "      <td>8</td>\n",
       "      <td>34</td>\n",
       "      <td>1</td>\n",
       "      <td>77.85</td>\n",
       "      <td>NaN</td>\n",
       "      <td>, AEROSPACE FLIGHT SYSTEMS)</td>\n",
       "      <td>10</td>\n",
       "      <td>F</td>\n",
       "    </tr>\n",
       "    <tr>\n",
       "      <th>202721</th>\n",
       "      <td>17512</td>\n",
       "      <td>2016</td>\n",
       "      <td>NaN</td>\n",
       "      <td>NN10</td>\n",
       "      <td>1987</td>\n",
       "      <td>NaN</td>\n",
       "      <td>0</td>\n",
       "      <td>10/11/2009</td>\n",
       "      <td>80</td>\n",
       "      <td>WASHINGTON,DISTRICT OF COLUMBIA</td>\n",
       "      <td>...</td>\n",
       "      <td>M</td>\n",
       "      <td>0</td>\n",
       "      <td>2</td>\n",
       "      <td>26</td>\n",
       "      <td>0</td>\n",
       "      <td>83.39</td>\n",
       "      <td>NaN</td>\n",
       "      <td>NaN</td>\n",
       "      <td>50</td>\n",
       "      <td>F</td>\n",
       "    </tr>\n",
       "    <tr>\n",
       "      <th>202722</th>\n",
       "      <td>17513</td>\n",
       "      <td>2016</td>\n",
       "      <td>NaN</td>\n",
       "      <td>NN21</td>\n",
       "      <td>1900</td>\n",
       "      <td>NaN</td>\n",
       "      <td>0</td>\n",
       "      <td>03/13/2011</td>\n",
       "      <td>03</td>\n",
       "      <td>ALBUQUERQUE,BERNALILLO,NEW MEXICO</td>\n",
       "      <td>...</td>\n",
       "      <td>M</td>\n",
       "      <td>8</td>\n",
       "      <td>8</td>\n",
       "      <td>34</td>\n",
       "      <td>1</td>\n",
       "      <td>66.33</td>\n",
       "      <td>NaN</td>\n",
       "      <td>NaN</td>\n",
       "      <td>10</td>\n",
       "      <td>F</td>\n",
       "    </tr>\n",
       "    <tr>\n",
       "      <th>202723</th>\n",
       "      <td>17514</td>\n",
       "      <td>2016</td>\n",
       "      <td>NaN</td>\n",
       "      <td>NN72</td>\n",
       "      <td>2013</td>\n",
       "      <td>NaN</td>\n",
       "      <td>0</td>\n",
       "      <td>09/08/1991</td>\n",
       "      <td>29</td>\n",
       "      <td>HOUSTON,HARRIS,TEXAS</td>\n",
       "      <td>...</td>\n",
       "      <td>M</td>\n",
       "      <td>10</td>\n",
       "      <td>8</td>\n",
       "      <td>34</td>\n",
       "      <td>1</td>\n",
       "      <td>300.49</td>\n",
       "      <td>NaN</td>\n",
       "      <td>, AEROSPACE FLIGHT SYSTEMS)</td>\n",
       "      <td>10</td>\n",
       "      <td>F</td>\n",
       "    </tr>\n",
       "    <tr>\n",
       "      <th>202724</th>\n",
       "      <td>17515</td>\n",
       "      <td>2016</td>\n",
       "      <td>NaN</td>\n",
       "      <td>NN51</td>\n",
       "      <td>1989</td>\n",
       "      <td>NaN</td>\n",
       "      <td>0</td>\n",
       "      <td>02/09/2014</td>\n",
       "      <td>80</td>\n",
       "      <td>GREENBELT,PRINCE GEORGE'S,MARYLAND</td>\n",
       "      <td>...</td>\n",
       "      <td>F</td>\n",
       "      <td>5</td>\n",
       "      <td>5</td>\n",
       "      <td>29</td>\n",
       "      <td>1</td>\n",
       "      <td>31.46</td>\n",
       "      <td>NaN</td>\n",
       "      <td>NaN</td>\n",
       "      <td>10</td>\n",
       "      <td>F</td>\n",
       "    </tr>\n",
       "    <tr>\n",
       "      <th>202725</th>\n",
       "      <td>17516</td>\n",
       "      <td>2016</td>\n",
       "      <td>NaN</td>\n",
       "      <td>NN62</td>\n",
       "      <td>2010</td>\n",
       "      <td>NaN</td>\n",
       "      <td>0</td>\n",
       "      <td>11/05/2012</td>\n",
       "      <td>32</td>\n",
       "      <td>REDSTONE ARSENAL,MADISON,ALABAMA</td>\n",
       "      <td>...</td>\n",
       "      <td>M</td>\n",
       "      <td>4</td>\n",
       "      <td>8</td>\n",
       "      <td>34</td>\n",
       "      <td>1</td>\n",
       "      <td>46.59</td>\n",
       "      <td>NaN</td>\n",
       "      <td>ARCH AST, FIELDS AND PARTICLES</td>\n",
       "      <td>10</td>\n",
       "      <td>F</td>\n",
       "    </tr>\n",
       "    <tr>\n",
       "      <th>202726</th>\n",
       "      <td>17517</td>\n",
       "      <td>2016</td>\n",
       "      <td>NaN</td>\n",
       "      <td>NN51</td>\n",
       "      <td>1987</td>\n",
       "      <td>NaN</td>\n",
       "      <td>0</td>\n",
       "      <td>07/02/2000</td>\n",
       "      <td>80</td>\n",
       "      <td>GREENBELT,PRINCE GEORGE'S,MARYLAND</td>\n",
       "      <td>...</td>\n",
       "      <td>M</td>\n",
       "      <td>9</td>\n",
       "      <td>8</td>\n",
       "      <td>34</td>\n",
       "      <td>1</td>\n",
       "      <td>194.68</td>\n",
       "      <td>NaN</td>\n",
       "      <td>AEROSPACE FLIGHT SYSTEMS</td>\n",
       "      <td>10</td>\n",
       "      <td>F</td>\n",
       "    </tr>\n",
       "    <tr>\n",
       "      <th>202727</th>\n",
       "      <td>17518</td>\n",
       "      <td>2016</td>\n",
       "      <td>NaN</td>\n",
       "      <td>NN51</td>\n",
       "      <td>2006</td>\n",
       "      <td>NaN</td>\n",
       "      <td>0</td>\n",
       "      <td>10/26/2009</td>\n",
       "      <td>80</td>\n",
       "      <td>GREENBELT,PRINCE GEORGE'S,MARYLAND</td>\n",
       "      <td>...</td>\n",
       "      <td>M</td>\n",
       "      <td>5</td>\n",
       "      <td>8</td>\n",
       "      <td>34</td>\n",
       "      <td>1</td>\n",
       "      <td>82.91</td>\n",
       "      <td>NaN</td>\n",
       "      <td>,ATMOSPHERIC CHEMISTRY &amp; DYNAMIC)</td>\n",
       "      <td>10</td>\n",
       "      <td>F</td>\n",
       "    </tr>\n",
       "    <tr>\n",
       "      <th>202728</th>\n",
       "      <td>17519</td>\n",
       "      <td>2016</td>\n",
       "      <td>NaN</td>\n",
       "      <td>NN72</td>\n",
       "      <td>1990</td>\n",
       "      <td>NaN</td>\n",
       "      <td>0</td>\n",
       "      <td>04/03/2016</td>\n",
       "      <td>29</td>\n",
       "      <td>HOUSTON,HARRIS,TEXAS</td>\n",
       "      <td>...</td>\n",
       "      <td>F</td>\n",
       "      <td>4</td>\n",
       "      <td>8</td>\n",
       "      <td>34</td>\n",
       "      <td>1</td>\n",
       "      <td>5.65</td>\n",
       "      <td>NaN</td>\n",
       "      <td>NaN</td>\n",
       "      <td>10</td>\n",
       "      <td>F</td>\n",
       "    </tr>\n",
       "    <tr>\n",
       "      <th>202729</th>\n",
       "      <td>17520</td>\n",
       "      <td>2016</td>\n",
       "      <td>NaN</td>\n",
       "      <td>NN21</td>\n",
       "      <td>1985</td>\n",
       "      <td>NaN</td>\n",
       "      <td>0</td>\n",
       "      <td>09/30/2007</td>\n",
       "      <td>74</td>\n",
       "      <td>MOFFETT FIELD,SANTA CLARA,CALIFORNIA</td>\n",
       "      <td>...</td>\n",
       "      <td>M</td>\n",
       "      <td>9</td>\n",
       "      <td>8</td>\n",
       "      <td>34</td>\n",
       "      <td>1</td>\n",
       "      <td>107.78</td>\n",
       "      <td>NaN</td>\n",
       "      <td>FLUID MECHANICS</td>\n",
       "      <td>10</td>\n",
       "      <td>F</td>\n",
       "    </tr>\n",
       "    <tr>\n",
       "      <th>202730</th>\n",
       "      <td>17521</td>\n",
       "      <td>2016</td>\n",
       "      <td>NaN</td>\n",
       "      <td>NN62</td>\n",
       "      <td>2009</td>\n",
       "      <td>NaN</td>\n",
       "      <td>0</td>\n",
       "      <td>09/19/2016</td>\n",
       "      <td>32</td>\n",
       "      <td>REDSTONE ARSENAL,MADISON,ALABAMA</td>\n",
       "      <td>...</td>\n",
       "      <td>M</td>\n",
       "      <td>1</td>\n",
       "      <td>8</td>\n",
       "      <td>34</td>\n",
       "      <td>2</td>\n",
       "      <td>0.14</td>\n",
       "      <td>NaN</td>\n",
       "      <td>ARCH AST, FIELDS AND PARTICLES</td>\n",
       "      <td>15</td>\n",
       "      <td>F</td>\n",
       "    </tr>\n",
       "    <tr>\n",
       "      <th>202731</th>\n",
       "      <td>17522</td>\n",
       "      <td>2016</td>\n",
       "      <td>NaN</td>\n",
       "      <td>NN51</td>\n",
       "      <td>1974</td>\n",
       "      <td>NaN</td>\n",
       "      <td>0</td>\n",
       "      <td>01/30/2000</td>\n",
       "      <td>80</td>\n",
       "      <td>GREENBELT,PRINCE GEORGE'S,MARYLAND</td>\n",
       "      <td>...</td>\n",
       "      <td>M</td>\n",
       "      <td>10</td>\n",
       "      <td>8</td>\n",
       "      <td>34</td>\n",
       "      <td>1</td>\n",
       "      <td>199.78</td>\n",
       "      <td>NaN</td>\n",
       "      <td>AEROSPACE FLIGHT SYSTEMS</td>\n",
       "      <td>10</td>\n",
       "      <td>F</td>\n",
       "    </tr>\n",
       "    <tr>\n",
       "      <th>202732</th>\n",
       "      <td>17523</td>\n",
       "      <td>2016</td>\n",
       "      <td>NaN</td>\n",
       "      <td>NN21</td>\n",
       "      <td>1980</td>\n",
       "      <td>NaN</td>\n",
       "      <td>0</td>\n",
       "      <td>10/29/2006</td>\n",
       "      <td>74</td>\n",
       "      <td>MOFFETT FIELD,SANTA CLARA,CALIFORNIA</td>\n",
       "      <td>...</td>\n",
       "      <td>M</td>\n",
       "      <td>8</td>\n",
       "      <td>8</td>\n",
       "      <td>34</td>\n",
       "      <td>1</td>\n",
       "      <td>118.81</td>\n",
       "      <td>NaN</td>\n",
       "      <td>NaN</td>\n",
       "      <td>10</td>\n",
       "      <td>F</td>\n",
       "    </tr>\n",
       "    <tr>\n",
       "      <th>202733</th>\n",
       "      <td>17524</td>\n",
       "      <td>2016</td>\n",
       "      <td>NaN</td>\n",
       "      <td>NN76</td>\n",
       "      <td>1987</td>\n",
       "      <td>NaN</td>\n",
       "      <td>0</td>\n",
       "      <td>01/11/2004</td>\n",
       "      <td>54</td>\n",
       "      <td>KENNEDY SPACE CENTER,BREVARD,FLORIDA</td>\n",
       "      <td>...</td>\n",
       "      <td>M</td>\n",
       "      <td>10</td>\n",
       "      <td>8</td>\n",
       "      <td>34</td>\n",
       "      <td>1</td>\n",
       "      <td>152.39</td>\n",
       "      <td>NaN</td>\n",
       "      <td>, SAFETY &amp; MISSION ASSURANCE)</td>\n",
       "      <td>10</td>\n",
       "      <td>F</td>\n",
       "    </tr>\n",
       "    <tr>\n",
       "      <th>202734</th>\n",
       "      <td>17525</td>\n",
       "      <td>2016</td>\n",
       "      <td>NaN</td>\n",
       "      <td>NN51</td>\n",
       "      <td>1984</td>\n",
       "      <td>NaN</td>\n",
       "      <td>0</td>\n",
       "      <td>08/26/2001</td>\n",
       "      <td>80</td>\n",
       "      <td>GREENBELT,PRINCE GEORGE'S,MARYLAND</td>\n",
       "      <td>...</td>\n",
       "      <td>M</td>\n",
       "      <td>0</td>\n",
       "      <td>8</td>\n",
       "      <td>34</td>\n",
       "      <td>1</td>\n",
       "      <td>180.91</td>\n",
       "      <td>NaN</td>\n",
       "      <td>NaN</td>\n",
       "      <td>10</td>\n",
       "      <td>F</td>\n",
       "    </tr>\n",
       "    <tr>\n",
       "      <th>202735</th>\n",
       "      <td>17526</td>\n",
       "      <td>NaN</td>\n",
       "      <td>NaN</td>\n",
       "      <td>NaN</td>\n",
       "      <td>NaN</td>\n",
       "      <td>NaN</td>\n",
       "      <td>NaN</td>\n",
       "      <td>NaN</td>\n",
       "      <td>NaN</td>\n",
       "      <td>NaN</td>\n",
       "      <td>...</td>\n",
       "      <td>NaN</td>\n",
       "      <td>NaN</td>\n",
       "      <td>NaN</td>\n",
       "      <td>NaN</td>\n",
       "      <td>NaN</td>\n",
       "      <td>NaN</td>\n",
       "      <td>NaN</td>\n",
       "      <td>NaN</td>\n",
       "      <td>NaN</td>\n",
       "      <td>NaN</td>\n",
       "    </tr>\n",
       "    <tr>\n",
       "      <th>202736</th>\n",
       "      <td>17527</td>\n",
       "      <td>(17525 row(s</td>\n",
       "      <td>NaN</td>\n",
       "      <td>) affec</td>\n",
       "      <td>ted)</td>\n",
       "      <td>NaN</td>\n",
       "      <td>NaN</td>\n",
       "      <td>NaN</td>\n",
       "      <td>NaN</td>\n",
       "      <td>NaN</td>\n",
       "      <td>...</td>\n",
       "      <td>NaN</td>\n",
       "      <td>NaN</td>\n",
       "      <td>NaN</td>\n",
       "      <td>NaN</td>\n",
       "      <td>NaN</td>\n",
       "      <td>NaN</td>\n",
       "      <td>NaN</td>\n",
       "      <td>NaN</td>\n",
       "      <td>NaN</td>\n",
       "      <td>NaN</td>\n",
       "    </tr>\n",
       "  </tbody>\n",
       "</table>\n",
       "<p>202737 rows × 57 columns</p>\n",
       "</div>"
      ],
      "text/plain": [
       "        index       Hist_yr Unnamed: 28   agency  bdyr coopsch coopyr  \\\n",
       "0           1          2006         NaN     NN51  1900     NaN    NaN   \n",
       "1           2          2006         NaN     NN51  1980     NaN    NaN   \n",
       "2           3          2006         NaN     NN23  1986     NaN    NaN   \n",
       "3           4          2006         NaN     NN64  1994     NaN    NaN   \n",
       "4           5          2006         NaN     NN72  2006     NaN    NaN   \n",
       "5           6          2006         NaN     NN62  1972     NaN    NaN   \n",
       "6           7          2006         NaN     NN51  1900     NaN    NaN   \n",
       "7           8          2006         NaN     NN72  1986     NaN    NaN   \n",
       "8           9          2006         NaN     NN51  1978     NaN    NaN   \n",
       "9          10          2006         NaN     NN10  1987     NaN    NaN   \n",
       "10         11          2006         NaN     NN62  1982     NaN    NaN   \n",
       "11         12          2006         NaN     NN72  1976     NaN    NaN   \n",
       "12         13          2006         NaN     NN22  1973     NaN    NaN   \n",
       "13         14          2006         NaN     NN10  1975     NaN    NaN   \n",
       "14         15          2006         NaN     NN76  1978     NaN    NaN   \n",
       "15         16          2006         NaN     NN21  1980     NaN    NaN   \n",
       "16         17          2006         NaN     NN21  1979     NaN    NaN   \n",
       "17         18          2006         NaN     NN51  2003     NaN    NaN   \n",
       "18         19          2006         NaN     NN10  1978     NaN    NaN   \n",
       "19         20          2006         NaN     NN22  1983     NaN    NaN   \n",
       "20         21          2006         NaN     NN62  1999     NaN    NaN   \n",
       "21         22          2006         NaN     NN76  1900     NaN    NaN   \n",
       "22         23          2006         NaN     NN51  1987     NaN    NaN   \n",
       "23         24          2006         NaN     NN76  1995     NaN    NaN   \n",
       "24         25          2006         NaN     NN51  2002     NaN    NaN   \n",
       "25         26          2006         NaN     NN72  1967     NaN    NaN   \n",
       "26         27          2006         NaN     NN10  1972     NaN    NaN   \n",
       "27         28          2006         NaN     NN76  1982     NaN    NaN   \n",
       "28         29          2006         NaN     NN51  1900     NaN    NaN   \n",
       "29         30          2006         NaN     NN72  1996     NaN    NaN   \n",
       "...       ...           ...         ...      ...   ...     ...    ...   \n",
       "202707  17498          2016         NaN     NN51  1992     NaN      0   \n",
       "202708  17499          2016         NaN     NN51  1992     NaN      0   \n",
       "202709  17500          2016         NaN     NN23  1991     NaN      0   \n",
       "202710  17501          2016         NaN     NN10  2005     NaN      0   \n",
       "202711  17502          2016         NaN     NN23  1900     NaN      0   \n",
       "202712  17503          2016         NaN     NN23  2008     NaN      0   \n",
       "202713  17504          2016         NaN     NN72  1987     NaN      0   \n",
       "202714  17505          2016         NaN     NN51  1997     NaN      0   \n",
       "202715  17506          2016         NaN     NN51  1900     NaN      0   \n",
       "202716  17507          2016         NaN     NN51  1900     NaN      0   \n",
       "202717  17508          2016         NaN     NN76  1997     NaN      0   \n",
       "202718  17509          2016         NaN     NN24  1997     NaN      0   \n",
       "202719  17510          2016         NaN     NN51  1983     NaN      0   \n",
       "202720  17511          2016         NaN     NN51  1991     NaN      0   \n",
       "202721  17512          2016         NaN     NN10  1987     NaN      0   \n",
       "202722  17513          2016         NaN     NN21  1900     NaN      0   \n",
       "202723  17514          2016         NaN     NN72  2013     NaN      0   \n",
       "202724  17515          2016         NaN     NN51  1989     NaN      0   \n",
       "202725  17516          2016         NaN     NN62  2010     NaN      0   \n",
       "202726  17517          2016         NaN     NN51  1987     NaN      0   \n",
       "202727  17518          2016         NaN     NN51  2006     NaN      0   \n",
       "202728  17519          2016         NaN     NN72  1990     NaN      0   \n",
       "202729  17520          2016         NaN     NN21  1985     NaN      0   \n",
       "202730  17521          2016         NaN     NN62  2009     NaN      0   \n",
       "202731  17522          2016         NaN     NN51  1974     NaN      0   \n",
       "202732  17523          2016         NaN     NN21  1980     NaN      0   \n",
       "202733  17524          2016         NaN     NN76  1987     NaN      0   \n",
       "202734  17525          2016         NaN     NN51  1984     NaN      0   \n",
       "202735  17526           NaN         NaN      NaN   NaN     NaN    NaN   \n",
       "202736  17527  (17525 row(s         NaN  ) affec  ted)     NaN    NaN   \n",
       "\n",
       "        currgrddte dtystn_ind                                  dtystnname  \\\n",
       "0       10/08/1989         80          GREENBELT,PRINCE GEORGE'S,MARYLAND   \n",
       "1       09/22/2002         80          GREENBELT,PRINCE GEORGE'S,MARYLAND   \n",
       "2       07/21/1996         88                    HAMPTON,HAMPTON,VIRGINIA   \n",
       "3       04/17/2005         88  STENNIS SPACE CENTER, HANCOCK, MISSISSIPPI   \n",
       "4       07/23/2006         29                        HOUSTON,HARRIS,TEXAS   \n",
       "5       12/01/1997         32            REDSTONE ARSENAL,MADISON,ALABAMA   \n",
       "6       02/27/2000         80          GREENBELT,PRINCE GEORGE'S,MARYLAND   \n",
       "7       04/26/1998         29                        HOUSTON,HARRIS,TEXAS   \n",
       "8       09/27/1987         80          GREENBELT,PRINCE GEORGE'S,MARYLAND   \n",
       "9       05/14/2006         80             WASHINGTON,DISTRICT OF COLUMBIA   \n",
       "10      07/30/2000         32            REDSTONE ARSENAL,MADISON,ALABAMA   \n",
       "11      09/29/1989         29                        HOUSTON,HARRIS,TEXAS   \n",
       "12      04/04/2004         14                    BROOK PARK,CUYAHOGA,OHIO   \n",
       "13      03/30/1997         80             WASHINGTON,DISTRICT OF COLUMBIA   \n",
       "14      12/23/1984         88        KENNEDY SPACE CENTER,BREVARD,FLORIDA   \n",
       "15      07/14/2002         74        MOFFETT FIELD,SANTA CLARA,CALIFORNIA   \n",
       "16      03/21/2004         74        MOFFETT FIELD,SANTA CLARA,CALIFORNIA   \n",
       "17      11/27/2005         80          GREENBELT,PRINCE GEORGE'S,MARYLAND   \n",
       "18      03/21/1993         41             PASADENA,LOS ANGELES,CALIFORNIA   \n",
       "19      11/18/1990         14                    BROOK PARK,CUYAHOGA,OHIO   \n",
       "20      07/15/2001         32            REDSTONE ARSENAL,MADISON,ALABAMA   \n",
       "21      11/13/2005         88        KENNEDY SPACE CENTER,BREVARD,FLORIDA   \n",
       "22      08/25/2002         80          GREENBELT,PRINCE GEORGE'S,MARYLAND   \n",
       "23      10/15/2006         88        KENNEDY SPACE CENTER,BREVARD,FLORIDA   \n",
       "24      04/16/2006         80          GREENBELT,PRINCE GEORGE'S,MARYLAND   \n",
       "25      01/08/1989         29                        HOUSTON,HARRIS,TEXAS   \n",
       "26      01/09/2006         80             WASHINGTON,DISTRICT OF COLUMBIA   \n",
       "27      11/12/2006         88        KENNEDY SPACE CENTER,BREVARD,FLORIDA   \n",
       "28      10/30/2005         80          GREENBELT,PRINCE GEORGE'S,MARYLAND   \n",
       "29      06/12/2005         29                        HOUSTON,HARRIS,TEXAS   \n",
       "...            ...        ...                                         ...   \n",
       "202707  08/05/2007         80          GREENBELT,PRINCE GEORGE'S,MARYLAND   \n",
       "202708  05/04/2014         80          GREENBELT,PRINCE GEORGE'S,MARYLAND   \n",
       "202709  02/26/2012         88                    HAMPTON,HAMPTON,VIRGINIA   \n",
       "202710  08/07/2016         88            BAY ST LOUIS,HANCOCK,MISSISSIPPI   \n",
       "202711  10/02/2005         88                    HAMPTON,HAMPTON,VIRGINIA   \n",
       "202712  07/12/2015         88                    HAMPTON,HAMPTON,VIRGINIA   \n",
       "202713  07/24/1994         29                        HOUSTON,HARRIS,TEXAS   \n",
       "202714  03/11/2012         80          GREENBELT,PRINCE GEORGE'S,MARYLAND   \n",
       "202715  10/19/2014         80          GREENBELT,PRINCE GEORGE'S,MARYLAND   \n",
       "202716  07/24/2016         80          GREENBELT,PRINCE GEORGE'S,MARYLAND   \n",
       "202717  06/27/2004         54        KENNEDY SPACE CENTER,BREVARD,FLORIDA   \n",
       "202718  06/12/2016         41                 EDWARDS AFB,KERN,CALIFORNIA   \n",
       "202719  05/05/2002         80          GREENBELT,PRINCE GEORGE'S,MARYLAND   \n",
       "202720  03/28/2010         80          GREENBELT,PRINCE GEORGE'S,MARYLAND   \n",
       "202721  10/11/2009         80             WASHINGTON,DISTRICT OF COLUMBIA   \n",
       "202722  03/13/2011         03           ALBUQUERQUE,BERNALILLO,NEW MEXICO   \n",
       "202723  09/08/1991         29                        HOUSTON,HARRIS,TEXAS   \n",
       "202724  02/09/2014         80          GREENBELT,PRINCE GEORGE'S,MARYLAND   \n",
       "202725  11/05/2012         32            REDSTONE ARSENAL,MADISON,ALABAMA   \n",
       "202726  07/02/2000         80          GREENBELT,PRINCE GEORGE'S,MARYLAND   \n",
       "202727  10/26/2009         80          GREENBELT,PRINCE GEORGE'S,MARYLAND   \n",
       "202728  04/03/2016         29                        HOUSTON,HARRIS,TEXAS   \n",
       "202729  09/30/2007         74        MOFFETT FIELD,SANTA CLARA,CALIFORNIA   \n",
       "202730  09/19/2016         32            REDSTONE ARSENAL,MADISON,ALABAMA   \n",
       "202731  01/30/2000         80          GREENBELT,PRINCE GEORGE'S,MARYLAND   \n",
       "202732  10/29/2006         74        MOFFETT FIELD,SANTA CLARA,CALIFORNIA   \n",
       "202733  01/11/2004         54        KENNEDY SPACE CENTER,BREVARD,FLORIDA   \n",
       "202734  08/26/2001         80          GREENBELT,PRINCE GEORGE'S,MARYLAND   \n",
       "202735         NaN        NaN                                         NaN   \n",
       "202736         NaN        NaN                                         NaN   \n",
       "\n",
       "         ...    sex step_emp supind suplev tenure time_in_grade   tl  \\\n",
       "0        ...      F        9      8     34      1        205.46  NaN   \n",
       "1        ...      F        6      2     26      1         50.00  NaN   \n",
       "2        ...      M        8      8     34      1        124.04  NaN   \n",
       "3        ...      M        2      2     26      1         19.17  NaN   \n",
       "4        ...      F       10      8     34      3          3.98  NaN   \n",
       "5        ...      M        6      8     34      1        107.69  NaN   \n",
       "6        ...      M        5      8     34      1         80.85  NaN   \n",
       "7        ...      M        6      8     34      1        102.88  NaN   \n",
       "8        ...      M        0      2     32      1        229.85  NaN   \n",
       "9        ...      F        6      2     34      1          6.27  NaN   \n",
       "10       ...      M        7      8     34      1         75.75  NaN   \n",
       "11       ...      F       10      8     34      1        205.78  NaN   \n",
       "12       ...      M        7      2     29      1         31.59  NaN   \n",
       "13       ...      M        8      5     34      1        115.75  NaN   \n",
       "14       ...      F       10      5     25      1        262.98  NaN   \n",
       "15       ...      M        5      8     34      1         52.27  NaN   \n",
       "16       ...      M       10      5     34      1         32.04  NaN   \n",
       "17       ...      M        4      8     34      1         11.85  NaN   \n",
       "18       ...      M        8      8     34      1        164.04  NaN   \n",
       "19       ...      M       10      2     27      1        192.14  NaN   \n",
       "20       ...      M        8      8     34      1         64.24  NaN   \n",
       "21       ...      F       10      8     34      3         12.30  NaN   \n",
       "22       ...      M        7      8     34      1         50.91  NaN   \n",
       "23       ...      M        1      8     34      3          1.24  NaN   \n",
       "24       ...      F        2      8     34      1          7.20  NaN   \n",
       "25       ...      M       10      8     34      1        214.46  NaN   \n",
       "26       ...      M        0      2     26      0         10.43  NaN   \n",
       "27       ...      M       10      8     34      3          0.33  NaN   \n",
       "28       ...      F        2      8     34      1         12.75  NaN   \n",
       "29       ...      M        8      8     34      2         17.33  NaN   \n",
       "...      ...    ...      ...    ...    ...    ...           ...  ...   \n",
       "202707   ...      F        8      8     34      1        109.59  NaN   \n",
       "202708   ...      M        7      2     29      1         28.62  NaN   \n",
       "202709   ...      M        5      8     34      1         54.91  NaN   \n",
       "202710   ...      M        6      8     32      1          1.52  NaN   \n",
       "202711   ...      M        7      2     29      1        131.68  NaN   \n",
       "202712   ...      M        3      8     34      1         14.36  NaN   \n",
       "202713   ...      F       10      8     34      1        265.98  NaN   \n",
       "202714   ...      F        5      8     34      1         54.39  NaN   \n",
       "202715   ...      F        4      8     34      1         23.14  NaN   \n",
       "202716   ...      F        5      2     27      1          1.98  NaN   \n",
       "202717   ...      F        8      8     34      1        146.88  NaN   \n",
       "202718   ...      F        5      8     34      1          3.36  NaN   \n",
       "202719   ...      M       10      8     34      1        172.59  NaN   \n",
       "202720   ...      M        7      8     34      1         77.85  NaN   \n",
       "202721   ...      M        0      2     26      0         83.39  NaN   \n",
       "202722   ...      M        8      8     34      1         66.33  NaN   \n",
       "202723   ...      M       10      8     34      1        300.49  NaN   \n",
       "202724   ...      F        5      5     29      1         31.46  NaN   \n",
       "202725   ...      M        4      8     34      1         46.59  NaN   \n",
       "202726   ...      M        9      8     34      1        194.68  NaN   \n",
       "202727   ...      M        5      8     34      1         82.91  NaN   \n",
       "202728   ...      F        4      8     34      1          5.65  NaN   \n",
       "202729   ...      M        9      8     34      1        107.78  NaN   \n",
       "202730   ...      M        1      8     34      2          0.14  NaN   \n",
       "202731   ...      M       10      8     34      1        199.78  NaN   \n",
       "202732   ...      M        8      8     34      1        118.81  NaN   \n",
       "202733   ...      M       10      8     34      1        152.39  NaN   \n",
       "202734   ...      M        0      8     34      1        180.91  NaN   \n",
       "202735   ...    NaN      NaN    NaN    NaN    NaN           NaN  NaN   \n",
       "202736   ...    NaN      NaN    NaN    NaN    NaN           NaN  NaN   \n",
       "\n",
       "                                      ttl typappt worksch  \n",
       "0                                     NaN      10       F  \n",
       "1                                     NaN      10       F  \n",
       "2                                     NaN      10       F  \n",
       "3                                     NaN      10       F  \n",
       "4                                     NaN      20       F  \n",
       "5                                     NaN      10       F  \n",
       "6                                     NaN      10       F  \n",
       "7                                     NaN      10       F  \n",
       "8                                     NaN      10       F  \n",
       "9                                     NaN      10       F  \n",
       "10                                    NaN      10       F  \n",
       "11                                    NaN      10       F  \n",
       "12                                    NaN      10       F  \n",
       "13                                    NaN      10       F  \n",
       "14                                    NaN      10       F  \n",
       "15                                    NaN      10       F  \n",
       "16                                    NaN      10       F  \n",
       "17                                    NaN      10       F  \n",
       "18                                    NaN      10       F  \n",
       "19                                    NaN      10       F  \n",
       "20                                    NaN      10       F  \n",
       "21                                    NaN      20       F  \n",
       "22                                    NaN      10       F  \n",
       "23                                    NaN      20       F  \n",
       "24                                    NaN      10       F  \n",
       "25                                    NaN      10       F  \n",
       "26                                    NaN      50       F  \n",
       "27                                    NaN      20       F  \n",
       "28                                    NaN      10       F  \n",
       "29                                    NaN      15       F  \n",
       "...                                   ...     ...     ...  \n",
       "202707           AEROSPACE FLIGHT SYSTEMS      10       F  \n",
       "202708      RVISORY AST, SOFTWARE SYSTEMS      10       F  \n",
       "202709                                NaN      10       F  \n",
       "202710                                NaN      10       F  \n",
       "202711                                NaN      10       F  \n",
       "202712      ARCH AST, AEROSPACE MATERIALS      10       F  \n",
       "202713              , TELECOMMUNICATIONS)      10       F  \n",
       "202714                                NaN      10       F  \n",
       "202715                                NaN      10       F  \n",
       "202716                                NaN      10       F  \n",
       "202717                                NaN      10       F  \n",
       "202718                                NaN      10       F  \n",
       "202719                                NaN      10       F  \n",
       "202720        , AEROSPACE FLIGHT SYSTEMS)      10       F  \n",
       "202721                                NaN      50       F  \n",
       "202722                                NaN      10       F  \n",
       "202723        , AEROSPACE FLIGHT SYSTEMS)      10       F  \n",
       "202724                                NaN      10       F  \n",
       "202725     ARCH AST, FIELDS AND PARTICLES      10       F  \n",
       "202726           AEROSPACE FLIGHT SYSTEMS      10       F  \n",
       "202727  ,ATMOSPHERIC CHEMISTRY & DYNAMIC)      10       F  \n",
       "202728                                NaN      10       F  \n",
       "202729                    FLUID MECHANICS      10       F  \n",
       "202730     ARCH AST, FIELDS AND PARTICLES      15       F  \n",
       "202731           AEROSPACE FLIGHT SYSTEMS      10       F  \n",
       "202732                                NaN      10       F  \n",
       "202733      , SAFETY & MISSION ASSURANCE)      10       F  \n",
       "202734                                NaN      10       F  \n",
       "202735                                NaN     NaN     NaN  \n",
       "202736                                NaN     NaN     NaN  \n",
       "\n",
       "[202737 rows x 57 columns]"
      ]
     },
     "execution_count": 4,
     "metadata": {},
     "output_type": "execute_result"
    }
   ],
   "source": [
    "#combining dataframes \n",
    "df = [data_file, data_file2, data_file3, data_file4, data_file5, data_file6, data_file7, data_file8, data_file9, data_file10, data_file11]\n",
    "\n",
    "cdf = pd.concat(df, axis=0, join='outer', join_axes=None, ignore_index=False,\n",
    "          keys=None, levels=None, names=None, verify_integrity=False,\n",
    "          copy=True)\n",
    "cdf.reset_index()"
   ]
  },
  {
   "cell_type": "code",
   "execution_count": 5,
   "metadata": {
    "collapsed": false,
    "deletable": true,
    "editable": true
   },
   "outputs": [],
   "source": [
    "# dropping columns we are not using for the analysis\n",
    "cdf.drop('Unnamed: 28', axis=1, inplace=True)#############################\n",
    "cdf.drop('agency', axis=1, inplace=True)##################################\n",
    "cdf.drop('coopsch', axis=1, inplace=True)\n",
    "cdf.drop('coopyr', axis=1, inplace=True)\n",
    "cdf.drop('dtystn_ind', axis=1, inplace=True)\n",
    "cdf.drop('dtystnname', axis=1, inplace=True)\n",
    "cdf.drop('edlev', axis=1, inplace=True)\n",
    "cdf.drop('foulev', axis=1, inplace=True)\n",
    "cdf.drop('fousch', axis=1, inplace=True)\n",
    "cdf.drop('fouyr', axis=1, inplace=True)\n",
    "cdf.drop('nasattl', axis=1, inplace=True)\n",
    "cdf.drop('nasa', axis=1, inplace=True)#########################################\n",
    "cdf.drop('nasat', axis=1, inplace=True)########################################\n",
    "cdf.drop('probenddte', axis=1, inplace=True)\n",
    "cdf.drop('promontedte', axis=1, inplace=True)\n",
    "cdf.drop('secsch', axis=1, inplace=True)\n",
    "cdf.drop('seclev', axis=1, inplace=True)\n",
    "cdf.drop('typappt', axis=1, inplace=True)\n",
    "cdf.drop('tl', axis=1, inplace=True)###########################################\n",
    "cdf.drop('ttl', axis=1, inplace=True)##########################################\n",
    "cdf.drop('worksch', axis=1, inplace=True)"
   ]
  },
  {
   "cell_type": "code",
   "execution_count": 6,
   "metadata": {
    "collapsed": true,
    "deletable": true,
    "editable": true
   },
   "outputs": [],
   "source": [
    "cdf = cdf[cdf.bdyr != 1900]\n",
    "cdf.salary = cdf.salary.astype(np.float64)\n",
    "cdf.time_in_grade = cdf.time_in_grade.astype(np.float64)\n",
    "cdf.suplev = cdf.suplev.astype(np.float64)"
   ]
  },
  {
   "cell_type": "code",
   "execution_count": 7,
   "metadata": {
    "collapsed": true,
    "deletable": true,
    "editable": true
   },
   "outputs": [],
   "source": [
    "# converting bdyr column to age\n",
    "#now = datetime.datetime.now()\n",
    "now = date(2016,12,31)\n",
    "cdf['bdyr'] = cdf['bdyr'].apply(pd.to_numeric, errors='coerce') \n",
    "cdf['age'] = now.year - cdf['bdyr']"
   ]
  },
  {
   "cell_type": "code",
   "execution_count": 8,
   "metadata": {
    "collapsed": false,
    "deletable": true,
    "editable": true
   },
   "outputs": [
    {
     "name": "stdout",
     "output_type": "stream",
     "text": [
      "1     Jr_Level\n",
      "2    Mid_Level\n",
      "3     Jr_Level\n",
      "4    Mid_Level\n",
      "5     Jr_Level\n",
      "Name: salary_range, dtype: category\n",
      "Categories (4, object): [Entry_Level < Jr_Level < Mid_Level < Mgmt_Level]\n"
     ]
    }
   ],
   "source": [
    "cdf['salary_range'] = pd.cut(cdf['salary'],[0,50000,100000,135000,150000],4,labels=['Entry_Level','Jr_Level','Mid_Level', 'Mgmt_Level'])\n",
    "print(cdf['salary_range'].head())\n",
    "cdf.dropna(inplace=True)"
   ]
  },
  {
   "cell_type": "code",
   "execution_count": 9,
   "metadata": {
    "collapsed": false,
    "deletable": true,
    "editable": true
   },
   "outputs": [
    {
     "data": {
      "text/plain": [
       "149993.0"
      ]
     },
     "execution_count": 9,
     "metadata": {},
     "output_type": "execute_result"
    }
   ],
   "source": [
    "cdf.salary.max() #Is the salary range cut-off still valid with the new data? Yes"
   ]
  },
  {
   "cell_type": "code",
   "execution_count": 10,
   "metadata": {
    "collapsed": true,
    "deletable": true,
    "editable": true
   },
   "outputs": [],
   "source": [
    "# convert cdf variable back to \"df\" nomenclature\n",
    "df = pd.DataFrame(cdf)"
   ]
  },
  {
   "cell_type": "code",
   "execution_count": 11,
   "metadata": {
    "collapsed": true,
    "deletable": true,
    "editable": true
   },
   "outputs": [],
   "source": [
    "#manipulate employee start date 'eoddte' to get 'service' variable\n",
    "#convert 'eoddte' to series\n",
    "df.eod = pd.Series(df['eoddte'])\n",
    "#convert 'eoddte' series to 'eoddte' datetime\n",
    "df['eoddte'] = pd.to_datetime(df.eod) \n",
    "#convert eod to be just the year\n",
    "df['eodyr'] = df['eoddte'].map(lambda x: x.year)"
   ]
  },
  {
   "cell_type": "code",
   "execution_count": 12,
   "metadata": {
    "collapsed": true,
    "deletable": true,
    "editable": true
   },
   "outputs": [],
   "source": [
    "#convert high school graduation year \"hiyr\" to be numeric\n",
    "df['hiyr'] = df['hiyr'].apply(pd.to_numeric, errors='coerce')\n",
    "#after looking at a crosstab, we can see that there are a lot of \"high school graduation year: 0\"\n",
    "#this is a data entry error, let's remove these entries...\n",
    "df = df[df.hiyr != 0]\n",
    "pd.crosstab(index=df[\"hiyr\"],columns=\"hiyr\")\n",
    "#now the 0 entries have been removed\n",
    "\n",
    "#subtract employee hire date from high school graduation date to get exprience\n",
    "df['experience'] = df['eodyr'] - df['hiyr']"
   ]
  },
  {
   "cell_type": "code",
   "execution_count": 13,
   "metadata": {
    "collapsed": true,
    "deletable": true,
    "editable": true
   },
   "outputs": [],
   "source": [
    "#get the 'service' variable by subtracting current date from hire date\n",
    "today = date(2016, 12, 31)\n",
    "\n",
    "df['service'] = today - df['eoddte']\n",
    "#generate retirement potential by subtracting retirement eligibility date from todays date  \n",
    "#convert retoptdte to series for conversion to datetime format\n",
    "df.retoptdte = pd.Series(df['retoptdte'])\n",
    "#convert 'retoptdte' series to 'eoddte' datetime\n",
    "df['retoptdte'] = pd.to_datetime(df.retoptdte) \n",
    "#generate 'retpot' variable\n",
    "df['retpot'] = today - df['retoptdte']"
   ]
  },
  {
   "cell_type": "code",
   "execution_count": 14,
   "metadata": {
    "collapsed": true,
    "deletable": true,
    "editable": true
   },
   "outputs": [],
   "source": [
    "df_grouped = df.groupby(by=['grade','sex'])"
   ]
  },
  {
   "cell_type": "code",
   "execution_count": 15,
   "metadata": {
    "collapsed": false,
    "deletable": true,
    "editable": true
   },
   "outputs": [],
   "source": [
    "df_grouped = df.groupby(by=['grade','sex'])\n",
    "df_imputed = df_grouped.transform(lambda grp: grp.fillna(grp.median()))\n",
    "df_imputed[['grade','sex']] = df[['grade','sex']]"
   ]
  },
  {
   "cell_type": "code",
   "execution_count": 16,
   "metadata": {
    "collapsed": false,
    "deletable": true,
    "editable": true
   },
   "outputs": [],
   "source": [
    "df['Hist_yr'] = df['Hist_yr'].astype(np.float64)\n",
    "df_yrgroup = df.groupby(by=['Hist_yr'])"
   ]
  },
  {
   "cell_type": "code",
   "execution_count": 17,
   "metadata": {
    "collapsed": false,
    "deletable": true,
    "editable": true
   },
   "outputs": [],
   "source": [
    "# creating new dataframe. Keeping original seperate.\n",
    "DF_NoT = df.copy()\n",
    "# perform one-hot encoding of the categorical data \"salary_range\" and \"rno\" (ethnic background).\n",
    "tmp_df = pd.get_dummies(df.salary_range,prefix='salary_range')\n",
    "tmp_df2 = pd.get_dummies(df.rno,prefix='rno')\n",
    "\n",
    "DF_NoT = pd.concat((df,tmp_df),axis=1) # add back into the dataframe\n",
    "DF_NoT = pd.concat((DF_NoT,tmp_df2),axis=1)"
   ]
  },
  {
   "cell_type": "code",
   "execution_count": 18,
   "metadata": {
    "collapsed": false,
    "deletable": true,
    "editable": true
   },
   "outputs": [],
   "source": [
    "# Delete time/dates - can't be used in L-Regression\n",
    "DF_NoT = DF_NoT.drop(['eoddte','retoptdte','salary_range', 'currgrddte', 'frscdte', 'fscdte', 'hisch', 'leqdte',\n",
    "                     'loccde','ncc', 'opmtitle', 'occode', 'orga', 'orgabr', 'orgadir', 'orgadiv',  'orgasec', \n",
    "                     'postenure', 'tenure', 'supind', 'suplev', 'rno', 'rno_000010', 'rno_100100', 'rno_100001', \n",
    "                     'rno_100010', 'rno_100101', 'rno_100000', 'rno_011000', 'rno_001101', 'rno_010001', 'rno_010101',\n",
    "                     'rno_001100', 'rno_010000', 'rno_010100', 'rno_001001', 'rno_001000', 'rno_000101', 'rno_000100',\n",
    "                     'rno_000011', 'rno_101000', 'rno_101101', 'rno_110000', 'rno_110001', 'rno_110101', 'rno_111111',\n",
    "                     'rno_10', 'rno_11', 'rno_100', 'rno_101', 'rno_1000', 'rno_1001', 'rno_1100', 'rno_1101', 'rno_10000',\n",
    "                     'rno_10001', 'rno_10100', 'rno_10101', 'rno_101100', 'rno_000000', 'rno_000110', 'rno_000111', \n",
    "                     'rno_001010', 'rno_001011', 'rno_010111', 'rno_011001', 'rno_011100', 'rno_011101', 'rno_100011', \n",
    "                      'rno_101001', 'rno_1'\n",
    "                     ], axis=1)"
   ]
  },
  {
   "cell_type": "code",
   "execution_count": 19,
   "metadata": {
    "collapsed": false,
    "deletable": true,
    "editable": true
   },
   "outputs": [],
   "source": [
    "today = date(2016, 12, 31) #modify if more datasets are added\n",
    "DF_NoT.service = DF_NoT.service / np.timedelta64(1, 'D')\n",
    "DF_NoT.retpot = DF_NoT.retpot / np.timedelta64(1, 'D')\n",
    "\n"
   ]
  },
  {
   "cell_type": "code",
   "execution_count": 20,
   "metadata": {
    "collapsed": false,
    "deletable": true,
    "editable": true
   },
   "outputs": [],
   "source": [
    "DF_NoT.lastpromodte = pd.Series(DF_NoT['lastpromodte'])\n",
    "#convert 'eoddte' series to 'eoddte' datetime\n",
    "DF_NoT['lastpromodte'] = pd.to_datetime(DF_NoT.lastpromodte) \n",
    "DF_NoT['lastpromodte'] = today - DF_NoT['lastpromodte']\n",
    "\n",
    "#removing the day to calculate a number\n",
    "DF_NoT.lastpromodte = DF_NoT.lastpromodte / np.timedelta64(1, 'D')\n",
    "\n",
    "DF_NoT.nextwigdte = pd.Series(DF_NoT['nextwigdte'])\n",
    "DF_NoT['nextwigdte'] = pd.to_datetime(DF_NoT.nextwigdte) \n",
    "DF_NoT['nextwigdte'] = today - DF_NoT['nextwigdte']\n",
    "DF_NoT.nextwigdte = DF_NoT.nextwigdte / np.timedelta64(1, 'D')\n",
    "\n",
    "DF_NoT.retdiscdte = pd.Series(DF_NoT['retdiscdte'])\n",
    "DF_NoT['retdiscdte'] = pd.to_datetime(DF_NoT.retdiscdte) \n",
    "DF_NoT['retdiscdte'] = today - DF_NoT['retdiscdte']\n",
    "DF_NoT.retdiscdte = DF_NoT.retdiscdte / np.timedelta64(1, 'D')\n",
    "\n",
    "DF_NoT['IsMale'] = DF_NoT.sex=='M' \n",
    "DF_NoT.IsMale = DF_NoT.IsMale.astype(np.int)\n",
    "del DF_NoT['sex']"
   ]
  },
  {
   "cell_type": "code",
   "execution_count": 21,
   "metadata": {
    "collapsed": true
   },
   "outputs": [],
   "source": [
    "DF_Reg2 = DF_NoT.copy()"
   ]
  },
  {
   "cell_type": "markdown",
   "metadata": {
    "deletable": true,
    "editable": true
   },
   "source": [
    "# Data Preperation 2\n",
    "---\n"
   ]
  },
  {
   "cell_type": "code",
   "execution_count": 22,
   "metadata": {
    "collapsed": true
   },
   "outputs": [],
   "source": [
    "# RESUBMISSION PIECE - REMOVED SALARY VARIABLES\n",
    "del DF_Reg2['salary']\n",
    "del DF_Reg2['salary_range_Entry_Level']\n",
    "del DF_Reg2['salary_range_Mid_Level']\n",
    "del DF_Reg2['salary_range_Mgmt_Level']"
   ]
  },
  {
   "cell_type": "code",
   "execution_count": 23,
   "metadata": {
    "collapsed": false
   },
   "outputs": [
    {
     "name": "stderr",
     "output_type": "stream",
     "text": [
      "C:\\Users\\natha_000\\Anaconda3\\envs\\py3k\\lib\\site-packages\\sklearn\\cross_validation.py:44: DeprecationWarning: This module was deprecated in version 0.18 in favor of the model_selection module into which all the refactored classes and functions are moved. Also note that the interface of the new CV iterators are different from that of this module. This module will be removed in 0.20.\n",
      "  \"This module will be removed in 0.20.\", DeprecationWarning)\n"
     ]
    }
   ],
   "source": [
    "from sklearn.neighbors import KNeighborsClassifier\n",
    "from sklearn.model_selection import StratifiedKFold\n",
    "import numpy as np\n",
    "from sklearn import metrics as mt\n",
    "from sklearn.ensemble import RandomForestClassifier\n",
    "from sklearn.preprocessing import StandardScaler\n",
    "from sklearn.cross_validation import ShuffleSplit\n",
    "from sklearn.linear_model import LogisticRegression\n",
    "from sklearn.svm import SVC"
   ]
  },
  {
   "cell_type": "markdown",
   "metadata": {
    "deletable": true,
    "editable": true
   },
   "source": [
    "<span style=\"color:red\">5 Points - Describe the final dataset that is used for classification/regression (include a description of any newly formed variables you created).</span>"
   ]
  },
  {
   "cell_type": "code",
   "execution_count": 24,
   "metadata": {
    "collapsed": false,
    "deletable": true,
    "editable": true
   },
   "outputs": [
    {
     "name": "stdout",
     "output_type": "stream",
     "text": [
      "<class 'pandas.core.frame.DataFrame'>\n",
      "Int64Index: 126967 entries, 2 to 17523\n",
      "Data columns (total 20 columns):\n",
      "Hist_yr                  126967 non-null float64\n",
      "bdyr                     126967 non-null float64\n",
      "grade                    126967 non-null object\n",
      "hilev                    126967 non-null object\n",
      "hiyr                     126967 non-null int64\n",
      "install                  126967 non-null object\n",
      "lastpromodte             126967 non-null float64\n",
      "nextwigdte               126967 non-null float64\n",
      "retdiscdte               126967 non-null float64\n",
      "secyr                    126967 non-null object\n",
      "step_emp                 126967 non-null object\n",
      "time_in_grade            126967 non-null float64\n",
      "age                      126967 non-null float64\n",
      "eodyr                    126967 non-null int64\n",
      "experience               126967 non-null int64\n",
      "service                  126967 non-null float64\n",
      "retpot                   126967 non-null float64\n",
      "salary_range_Jr_Level    126967 non-null uint8\n",
      "rno_000001               126967 non-null uint8\n",
      "IsMale                   126967 non-null int32\n",
      "dtypes: float64(9), int32(1), int64(3), object(5), uint8(2)\n",
      "memory usage: 18.2+ MB\n"
     ]
    }
   ],
   "source": [
    "DF_Reg2.info()"
   ]
  },
  {
   "cell_type": "markdown",
   "metadata": {
    "deletable": true,
    "editable": true
   },
   "source": [
    "Based on the output above, you can see we have about 126,967 entries with 24 columns. \n",
    "New Variables created are:\n",
    "- the age category derived from the \"birth year\" variable\n",
    "- the salary_range category derived by dividing up the salary variable into 4 categories\n",
    "- the salary_range_entry_level is a dummy variable established form the salary range category\n",
    "- the salary_range_jr_level is a dummy variable established form the salary range category\n",
    "- the salary_range_mid_level is a dummy variable established form the salary range category\n",
    "- the salary_range_mgmt_level is a dummy variable established form the salary range category\n",
    "- the eodyr variable which shows the year of employment\n",
    "- the experience variable derived from the high school graduation year subtracted from the last date of the data set (12/31/2016)\n",
    "- the serivce variable derived from the year of employment subtracted from 12/31/2016\n",
    "- the retirement potential derived from the date of earliest reitrement subtracted from 12/31/2016\n",
    "- the rno_000001 variable is derived from the RNO or diversity classification category where 000001 represents the Caucasian Identity Classification\n",
    "- the IsMale variable is a dummy variable established from the gender classification variable.\n",
    "\n",
    "Let's use the variables to predict future records in the NASA human resources data set\n",
    "- which model can we use to predict a \"junior salary range level\" classification, given the variables we have\n",
    "- which model can we use to predict a \"caucasian\" race classification, given the variables we have\n"
   ]
  },
  {
   "cell_type": "markdown",
   "metadata": {
    "deletable": true,
    "editable": true
   },
   "source": [
    "# Modeling and Evaluation 1: KNN\n",
    "---"
   ]
  },
  {
   "cell_type": "markdown",
   "metadata": {
    "deletable": true,
    "editable": true
   },
   "source": [
    "<span style=\"color:red\">10 Points - Choose and explain your evaluation metrics that you will use (i.e., accuracy,\n",
    "precision, recall, F-measure, or any metric we have discussed). Why are the measure(s) appropriate for analyzing the results of your modeling? Give a detailed explanation backing up any assertions.</span>"
   ]
  },
  {
   "cell_type": "markdown",
   "metadata": {
    "deletable": true,
    "editable": true
   },
   "source": [
    "We utilized “ACCURACY” as our evaluation metric of choice because we want to classify a salary range and the diversity (race/national origin) category.  A low false positive score is ideal because we do not want to incorrectly classify the data points.  All things being equal, it would be better if we had more false negatives. For this dataset, logic steers us to be accurate overall since we have four classes of salary range and multiple classes for the diversity classification.  An argument can be made for looking at false negatives on a per class basis. For instance, after reviewing our initial data exploration, we found that the salary range class was unevenly distributed, so we might observe a low count of false positives. This makes sense since a person in a salary range with relatively few measured data points may trigger a low amount of false negatives under some models. "
   ]
  },
  {
   "cell_type": "code",
   "execution_count": 25,
   "metadata": {
    "collapsed": false,
    "deletable": true,
    "editable": true
   },
   "outputs": [
    {
     "name": "stdout",
     "output_type": "stream",
     "text": [
      "KNN junior salary range accuracy 0.783148377137\n",
      "[[70105 11585]\n",
      " [15948 29329]]\n"
     ]
    }
   ],
   "source": [
    "from sklearn.neighbors import KNeighborsClassifier\n",
    "from sklearn.model_selection import StratifiedKFold\n",
    "import numpy as np\n",
    "from sklearn import metrics as mt\n",
    "\n",
    "# X = create a matrix with all variable except response variable in it. rno_000001\n",
    "# Y = this should be predictor variable\n",
    "# create variables we are more familiar with\n",
    "DF_NoT_KNN1 = DF_Reg2.copy()\n",
    "del DF_NoT_KNN1['salary_range_Jr_Level']\n",
    "\n",
    "X = DF_NoT_KNN1.as_matrix()\n",
    "y = DF_Reg2['salary_range_Jr_Level'].as_matrix()\n",
    "\n",
    "\n",
    "yhat = np.zeros(y.shape) # we will fill this with predictions\n",
    "\n",
    "# create cross validation iterator\n",
    "cv = StratifiedKFold(n_splits=10)\n",
    "\n",
    "# get a handle to the classifier object, which defines the type\n",
    "KNN1_clf = KNeighborsClassifier(n_neighbors=5)\n",
    "\n",
    "# now iterate through and get predictions, saved to the correct row in yhat\n",
    "for train, test in cv.split(X,y):\n",
    "    KNN1_clf.fit(X[train],y[train])\n",
    "    yhat[test] = KNN1_clf.predict(X[test])\n",
    "\n",
    "KNNs_total_accuracy = mt.accuracy_score(y, yhat)\n",
    "KNNs_conf = mt.confusion_matrix(y, yhat)\n",
    "print ('KNN junior salary range accuracy', KNNs_total_accuracy)\n",
    "print(KNNs_conf)"
   ]
  },
  {
   "cell_type": "markdown",
   "metadata": {
    "deletable": true,
    "editable": true
   },
   "source": [
    "Using the KNN accuracy rating for 'Junior Salary Range Level', we can compare the KNN model to other models. The accuracy score is 99% so it will be interesting to see if any of the other models can beat it.\n",
    "\n",
    "http://www.dataschool.io/simple-guide-to-confusion-matrix-terminology/\n",
    "\n",
    "true positives (TP): These are cases in which we predicted yes (they have the disease), and they do have the disease.\n",
    "true negatives (TN): We predicted no, and they don't have the disease.\n",
    "false positives (FP): We predicted yes, but they don't actually have the disease. (Also known as a \"Type I error.\")\n",
    "false negatives (FN): We predicted no, but they actually do have the disease. (Also known as a \"Type II error.\")"
   ]
  },
  {
   "cell_type": "code",
   "execution_count": 27,
   "metadata": {
    "collapsed": false,
    "deletable": true,
    "editable": true
   },
   "outputs": [
    {
     "name": "stdout",
     "output_type": "stream",
     "text": [
      "KNN Adversity Accuracy 0.552151346413\n",
      "[[17548 24319]\n",
      " [32543 52557]]\n"
     ]
    }
   ],
   "source": [
    "from sklearn.neighbors import KNeighborsClassifier\n",
    "from sklearn.model_selection import StratifiedKFold\n",
    "import numpy as np\n",
    "from sklearn import metrics as mt\n",
    "\n",
    "# X = create a matrix with all variable except response variable in it. rno_000001\n",
    "# Y = this should be predictor variable\n",
    "# create variables we are more familiar with\n",
    "DF_NoT_KNN2 = DF_NoT.copy()\n",
    "del DF_NoT_KNN2['rno_000001']\n",
    "\n",
    "X2 = DF_NoT_KNN2.as_matrix()\n",
    "y2 = DF_NoT['rno_000001'].as_matrix()\n",
    "\n",
    "\n",
    "yhat2 = np.zeros(y2.shape) # we will fill this with predictions\n",
    "\n",
    "# create cross validation iterator\n",
    "cv = StratifiedKFold(n_splits=3)\n",
    "\n",
    "# get a handle to the classifier object, which defines the type\n",
    "clf = KNeighborsClassifier(n_neighbors=5)\n",
    "\n",
    "# now iterate through and get predictions, saved to the correct row in yhat\n",
    "for train, test in cv.split(X2,y2):\n",
    "    clf.fit(X2[train],y2[train])\n",
    "    yhat2[test] = clf.predict(X2[test])\n",
    "\n",
    "KNNr_total_accuracy2 = mt.accuracy_score(y2, yhat2)\n",
    "KNNr_conf2 = mt.confusion_matrix(y2, yhat2)\n",
    "print ('KNN Adversity Accuracy', KNNr_total_accuracy2)\n",
    "print(KNNr_conf2)"
   ]
  },
  {
   "cell_type": "markdown",
   "metadata": {
    "deletable": true,
    "editable": true
   },
   "source": [
    "Using the KNN accuracy rating for 'rno_00001' or the adveristy classifier, we can compare the KNN model to other models. The accuracy score is about 55% so let's see if any other models can provide better results. \n",
    "Compared to the Salary Range Accuracy, the Adversity Accuracy score is not that good. However, this makes sense since NASA works hard to maintain a diverse workforce both across departments and across management levels.\n",
    "\n",
    "http://www.dataschool.io/simple-guide-to-confusion-matrix-terminology/\n",
    "\n",
    "true positives (TP): These are cases in which we predicted yes (they have the disease), and they do have the disease.\n",
    "true negatives (TN): We predicted no, and they don't have the disease.\n",
    "false positives (FP): We predicted yes, but they don't actually have the disease. (Also known as a \"Type I error.\")\n",
    "false negatives (FN): We predicted no, but they actually do have the disease. (Also known as a \"Type II error.\")\n",
    "\n",
    "EXPLAINING THE CONFUSION MATRIX: \n",
    "we have 77830 as the TRUE positive. This means that for every employee entry that we predict is Caucasian, based on our model, our data also shows that the employee is Caucasian.\n",
    "\n",
    "\n"
   ]
  },
  {
   "cell_type": "markdown",
   "metadata": {
    "deletable": true,
    "editable": true
   },
   "source": [
    "# Modeling and Evaluation 2\n",
    "---"
   ]
  },
  {
   "cell_type": "markdown",
   "metadata": {
    "deletable": true,
    "editable": true
   },
   "source": [
    "<span style=\"color:red\">10 Points - Choose the method you will use for dividing your data into training and testing splits (i.e., are you using Stratified 10-fold cross validation? Why?). Explain why your chosen method is appropriate or use more than one method as appropriate. For example, if you are using time series data then you should be using continuous training and testing sets across time </span>"
   ]
  },
  {
   "cell_type": "markdown",
   "metadata": {
    "deletable": true,
    "editable": true
   },
   "source": [
    "After running the previous code, we realized that we might be able to improve our accuracy score by increasing the number of stratified k fold splits from 3 to 10. EXPLAIN WHY HERE AND THEN NOTE ABOVE THE CHANGE - - - - -"
   ]
  },
  {
   "cell_type": "markdown",
   "metadata": {
    "deletable": true,
    "editable": true
   },
   "source": [
    "### KNN"
   ]
  },
  {
   "cell_type": "code",
   "execution_count": 28,
   "metadata": {
    "collapsed": false,
    "deletable": true,
    "editable": true
   },
   "outputs": [
    {
     "name": "stdout",
     "output_type": "stream",
     "text": [
      "KNN Adversity Accuracy with 10 splits 0.648696117889\n",
      "[[13927 27940]\n",
      " [16664 68436]]\n",
      "---------------------------------------\n",
      "KNN Adversity Accuracy with 3 splits 0.552151346413\n",
      "[[17548 24319]\n",
      " [32543 52557]]\n"
     ]
    }
   ],
   "source": [
    "from sklearn.neighbors import KNeighborsClassifier\n",
    "from sklearn.model_selection import StratifiedKFold\n",
    "import numpy as np\n",
    "from sklearn import metrics as mt\n",
    "\n",
    "# X = create a matrix with all variable except response variable in it. rno_000001\n",
    "# Y = this should be predictor variable\n",
    "# create variables we are more familiar with\n",
    "DF_NoT_KNN2= DF_NoT.copy()\n",
    "del DF_NoT_KNN2['rno_000001']\n",
    "\n",
    "X2 = DF_NoT_KNN2.as_matrix()\n",
    "y2 = DF_NoT['rno_000001'].as_matrix()\n",
    "\n",
    "\n",
    "yhat2 = np.zeros(y2.shape) # we will fill this with predictions\n",
    "\n",
    "# create cross validation iterator\n",
    "cv = StratifiedKFold(n_splits=10)\n",
    "\n",
    "# get a handle to the classifier object, which defines the type\n",
    "KNN2_clf = KNeighborsClassifier(n_neighbors=5)\n",
    "\n",
    "# now iterate through and get predictions, saved to the correct row in yhat\n",
    "for train, test in cv.split(X2,y2):\n",
    "    KNN2_clf.fit(X2[train],y2[train])\n",
    "    yhat2[test] = KNN2_clf.predict(X2[test])\n",
    "\n",
    "KNNr2_total_accuracy2 = mt.accuracy_score(y2, yhat2)\n",
    "KNNr2_conf2 = mt.confusion_matrix(y2, yhat2)\n",
    "print ('KNN Adversity Accuracy with 10 splits', KNNr2_total_accuracy2)\n",
    "print(KNNr2_conf2)\n",
    "print('---------------------------------------')\n",
    "print ('KNN Adversity Accuracy with 3 splits', KNNr_total_accuracy2)\n",
    "print(KNNr_conf2)"
   ]
  },
  {
   "cell_type": "markdown",
   "metadata": {
    "deletable": true,
    "editable": true
   },
   "source": [
    "After re-running the test with additional splits for the statified k fold cross validation iterator, we can see that the accuracy score increased from 55% to 65%. While normally, we assume that changing to a larger k does not have much effect for a dataset with close to 130,000 records, we can see that there is quite an increase in the accuracy score. We are also optimistic that using a larger k will help mitigate the amount of bias towards overestimating the true expected error because training folds will be more closely related to the total dataset. MORE DETAIL - GOOGLE HOW CV INCREASES ACCURACY ! ! !\n",
    "\n",
    "source: http://stats.stackexchange.com/questions/27730/choice-of-k-in-k-fold-cross-validation\n",
    "\n",
    "\n",
    "http://www.dataschool.io/simple-guide-to-confusion-matrix-terminology/\n",
    "\n",
    "true positives (TP): These are cases in which we predicted yes (they have the disease), and they do have the disease.\n",
    "true negatives (TN): We predicted no, and they don't have the disease.\n",
    "false positives (FP): We predicted yes, but they don't actually have the disease. (Also known as a \"Type I error.\")\n",
    "false negatives (FN): We predicted no, but they actually do have the disease. (Also known as a \"Type II error.\")"
   ]
  },
  {
   "cell_type": "markdown",
   "metadata": {
    "deletable": true,
    "editable": true
   },
   "source": [
    "# Modeling and Evaluation 3\n",
    "---"
   ]
  },
  {
   "cell_type": "markdown",
   "metadata": {
    "deletable": true,
    "editable": true
   },
   "source": [
    "<span style=\"color:red\">20 Points - Create three different classification/regression models for each task (e.g., random forest, KNN, and SVM for task one and the same or different algorithms for task two). Two modeling techniques must be new (but the third could be SVM or logistic regression). Adjust parameters as appropriate to increase generalization performance using your chosen metric. You must investigate different parameters of the algorithms!</span>"
   ]
  },
  {
   "cell_type": "markdown",
   "metadata": {
    "deletable": true,
    "editable": true
   },
   "source": [
    "Since we ran the KNN for the previous output, you will find the Random Forest Classifier code below with the SVM code following."
   ]
  },
  {
   "cell_type": "markdown",
   "metadata": {
    "deletable": true,
    "editable": true
   },
   "source": [
    "### RANDOM FOREST CLASSIFIER (Round 1)"
   ]
  },
  {
   "cell_type": "markdown",
   "metadata": {},
   "source": [
    "#### RANDOM FOREST CLASSIFIER for salary_range_Jr_Level"
   ]
  },
  {
   "cell_type": "code",
   "execution_count": 40,
   "metadata": {
    "collapsed": false,
    "deletable": true,
    "editable": true
   },
   "outputs": [
    {
     "name": "stdout",
     "output_type": "stream",
     "text": [
      "Accuracy for Salary_Range_Jr_level 0.90040719242\n",
      "[[72210  9480]\n",
      " [ 3165 42112]]\n"
     ]
    }
   ],
   "source": [
    "###NOTE THIS TAKES A VERY LONG TIME TO RUN\n",
    "from sklearn.ensemble import RandomForestClassifier\n",
    "\n",
    "clf = RandomForestClassifier(max_depth=10, n_estimators=50, n_jobs=-1, oob_score=True)\n",
    "\n",
    "# now iterate through and get predictions, saved to the correct row in yhat\n",
    "for train, test in cv.split(X,y):\n",
    "    clf.fit(X[train],y[train])\n",
    "    yhat[test] = clf.predict(X[test])\n",
    "    \n",
    "RFs_total_accuracy = mt.accuracy_score(y, yhat)\n",
    "RFs_conf = mt.confusion_matrix(y, yhat)\n",
    "print ('Accuracy for Salary_Range_Jr_level', RFs_total_accuracy)\n",
    "print (RFs_conf)"
   ]
  },
  {
   "cell_type": "markdown",
   "metadata": {},
   "source": [
    "#### RANDOM FOREST CLASSIFIER for rno_0001 (diversity variable)"
   ]
  },
  {
   "cell_type": "code",
   "execution_count": 52,
   "metadata": {
    "collapsed": false,
    "deletable": true,
    "editable": true
   },
   "outputs": [
    {
     "name": "stdout",
     "output_type": "stream",
     "text": [
      "Accuracy for rno_0001 0.718722187655\n",
      "[[13289 28578]\n",
      " [ 7135 77965]]\n"
     ]
    }
   ],
   "source": [
    "###NOTE THIS TAKES A VERY LONG TIME TO RUN\n",
    "from sklearn.ensemble import RandomForestClassifier\n",
    "\n",
    "clf = RandomForestClassifier(max_depth=10, n_estimators=50, n_jobs=-1, oob_score=True)\n",
    "\n",
    "# now iterate through and get predictions, saved to the correct row in yhat\n",
    "for train, test in cv.split(X2,y2):\n",
    "    clf.fit(X2[train],y2[train])\n",
    "    yhat2[test] = clf.predict(X2[test])\n",
    "    \n",
    "RFr_total_accuracy2 = mt.accuracy_score(y2, yhat2)\n",
    "RFr_conf2 = mt.confusion_matrix(y2, yhat2)\n",
    "print ('Accuracy for rno_0001', RFr_total_accuracy2)\n",
    "print (RFr_conf2)"
   ]
  },
  {
   "cell_type": "markdown",
   "metadata": {
    "deletable": true,
    "editable": true
   },
   "source": [
    "It seems like we were more accurate for both tasks using the random forest classifier. Let's try to rerun with different parameters and see if our model improves. we will increase the max_depth from 10 to 50, and the n_estimators from 50 to 150."
   ]
  },
  {
   "cell_type": "markdown",
   "metadata": {},
   "source": [
    "### RANDOM FOREST CLASSIFIER (Round 2)"
   ]
  },
  {
   "cell_type": "markdown",
   "metadata": {},
   "source": [
    "#### RANDOM FOREST CLASSIFIER for salary_range_Jr_Level"
   ]
  },
  {
   "cell_type": "code",
   "execution_count": 46,
   "metadata": {
    "collapsed": false,
    "deletable": true,
    "editable": true,
    "scrolled": true
   },
   "outputs": [
    {
     "name": "stdout",
     "output_type": "stream",
     "text": [
      "Accuracy for Salary_Range_Jr_level 0.931139587452\n",
      "[[74460  7230]\n",
      " [ 1513 43764]]\n"
     ]
    }
   ],
   "source": [
    "from sklearn.ensemble import RandomForestClassifier\n",
    "\n",
    "Sal_clf = RandomForestClassifier(max_depth=50, n_estimators=150, n_jobs=-1, oob_score=True)\n",
    "\n",
    "# now iterate through and get predictions, saved to the correct row in yhat\n",
    "for train, test in cv.split(X,y):\n",
    "    Sal_clf.fit(X[train],y[train])\n",
    "    yhat[test] = Sal_clf.predict(X[test])\n",
    "    \n",
    "RFs_total_accuracy = mt.accuracy_score(y, yhat)\n",
    "RFs_conf = mt.confusion_matrix(y, yhat)\n",
    "print ('Accuracy for Salary_Range_Jr_level', RFs_total_accuracy)\n",
    "print (RFs_conf)"
   ]
  },
  {
   "cell_type": "markdown",
   "metadata": {},
   "source": [
    "#### RANDOM FOREST CLASSIFIER for rno_0001 (diversity variable)"
   ]
  },
  {
   "cell_type": "code",
   "execution_count": 53,
   "metadata": {
    "collapsed": false,
    "deletable": true,
    "editable": true
   },
   "outputs": [
    {
     "name": "stdout",
     "output_type": "stream",
     "text": [
      "Accuracy for rno_0001 0.77839911158\n",
      "[[20933 20934]\n",
      " [ 7202 77898]]\n"
     ]
    }
   ],
   "source": [
    "from sklearn.ensemble import RandomForestClassifier\n",
    "\n",
    "RFCr_clf = RandomForestClassifier(max_depth=50, n_estimators=150, n_jobs=-1, oob_score=True)\n",
    "\n",
    "# now iterate through and get predictions, saved to the correct row in yhat\n",
    "for train, test in cv.split(X2,y2):\n",
    "    RFCr_clf.fit(X2[train],y2[train])\n",
    "    yhat2[test] = RFCr_clf.predict(X2[test])\n",
    "    \n",
    "RFr_total_accuracy2 = mt.accuracy_score(y2, yhat2)\n",
    "RFr_conf2 = mt.confusion_matrix(y2, yhat2)\n",
    "print ('Accuracy for rno_0001', RFr_total_accuracy2)\n",
    "print (RFr_conf2)"
   ]
  },
  {
   "cell_type": "markdown",
   "metadata": {},
   "source": [
    "#### Accuracy Summary for Salary Range and Diversity"
   ]
  },
  {
   "cell_type": "code",
   "execution_count": 54,
   "metadata": {
    "collapsed": false,
    "deletable": true,
    "editable": true
   },
   "outputs": [
    {
     "name": "stdout",
     "output_type": "stream",
     "text": [
      "Accuracy for Salary_Range_Jr_level 0.931139587452\n",
      "[[74460  7230]\n",
      " [ 1513 43764]]\n",
      "----------------\n",
      "Accuracy for rno_0001 0.77839911158\n",
      "[[20933 20934]\n",
      " [ 7202 77898]]\n"
     ]
    }
   ],
   "source": [
    "print ('Accuracy for Salary_Range_Jr_level', RFs_total_accuracy)\n",
    "print (RFs_conf)\n",
    "print ('----------------')\n",
    "print ('Accuracy for rno_0001', RFr_total_accuracy2)\n",
    "print (RFr_conf2)"
   ]
  },
  {
   "cell_type": "markdown",
   "metadata": {},
   "source": [
    "#### Plot of Weighted Coefficients for Diversity"
   ]
  },
  {
   "cell_type": "code",
   "execution_count": 55,
   "metadata": {
    "collapsed": false
   },
   "outputs": [
    {
     "name": "stdout",
     "output_type": "stream",
     "text": [
      "[ 0.17067376  0.0321054   0.01697745  0.02470436  0.03241842  0.03881535\n",
      "  0.07694195  0.08787595  0.07516959  0.05151728  0.0323866   0.0227235\n",
      "  0.04932175  0.03252289  0.03835488  0.04558312  0.07182814  0.07911534\n",
      "  0.00080882  0.00310614  0.00367877  0.00223989  0.01113065]\n"
     ]
    },
    {
     "data": {
      "text/plain": [
       "<matplotlib.axes._subplots.AxesSubplot at 0x2a1ce97d5c0>"
      ]
     },
     "execution_count": 55,
     "metadata": {},
     "output_type": "execute_result"
    },
    {
     "data": {
      "image/png": "[encoded data removed]",
      "text/plain": [
       "<matplotlib.figure.Figure at 0x2a1d32f1f28>"
      ]
     },
     "metadata": {},
     "output_type": "display_data"
    }
   ],
   "source": [
    "# Plot the weighted coefficients for the Random Forest Classifier that is classifying 'rno_0001'\n",
    "print(RFCr_clf.feature_importances_)\n",
    "weights = pd.Series(RFCr_clf.feature_importances_[:,],index=DF_NoT_KNN2.columns)\n",
    "weights.plot(kind='bar')"
   ]
  },
  {
   "cell_type": "markdown",
   "metadata": {},
   "source": [
    "EXPLAINATION FOR THE PLOT ABOVE >HERE<"
   ]
  },
  {
   "cell_type": "markdown",
   "metadata": {},
   "source": [
    "#### Plot of Weighted Coefficients for Salary Range"
   ]
  },
  {
   "cell_type": "code",
   "execution_count": 48,
   "metadata": {
    "collapsed": false
   },
   "outputs": [
    {
     "name": "stdout",
     "output_type": "stream",
     "text": [
      "[ 0.03373189  0.03133478  0.43070942  0.05102168  0.02904249  0.05721546\n",
      "  0.02793032  0.04302589  0.03103013  0.01227538  0.08538597  0.03703504\n",
      "  0.03262328  0.01201327  0.01417663  0.02253365  0.04121546  0.00348316\n",
      "  0.0042161 ]\n"
     ]
    },
    {
     "data": {
      "text/plain": [
       "<matplotlib.axes._subplots.AxesSubplot at 0x2a1d2c0a5f8>"
      ]
     },
     "execution_count": 48,
     "metadata": {},
     "output_type": "execute_result"
    },
    {
     "data": {
      "image/png": "[encoded data removed]",
      "text/plain": [
       "<matplotlib.figure.Figure at 0x2a1d0bd0f60>"
      ]
     },
     "metadata": {},
     "output_type": "display_data"
    }
   ],
   "source": [
    "# Plot the weighted coefficients for the Random Forest Classifier that is classifying 'salary_range_Jr_Level'\n",
    "print(Sal_clf.feature_importances_)\n",
    "weights = pd.Series(Sal_clf.feature_importances_[:,],index=DF_NoT_KNN1.columns)\n",
    "weights.plot(kind='bar')"
   ]
  },
  {
   "cell_type": "markdown",
   "metadata": {},
   "source": [
    "EXPLANATION FOR THE PLOT ABOVE >HERE<"
   ]
  },
  {
   "cell_type": "markdown",
   "metadata": {
    "deletable": true,
    "editable": true
   },
   "source": [
    "After adjusting the parameters, we did see improvements in the accuracy score for the junior level salary range and diversity classifier. Increasing the max_depth and the n_estimators for the random forest classifier actually increased our accuracy scores."
   ]
  },
  {
   "cell_type": "markdown",
   "metadata": {
    "deletable": true,
    "editable": true
   },
   "source": [
    "### Logistic Regression & Support Vector Machine (SVM) "
   ]
  },
  {
   "cell_type": "markdown",
   "metadata": {
    "deletable": true,
    "editable": true
   },
   "source": [
    "#### Logistic Regression for 'salary_range_jr_level'"
   ]
  },
  {
   "cell_type": "code",
   "execution_count": 62,
   "metadata": {
    "collapsed": false
   },
   "outputs": [
    {
     "name": "stdout",
     "output_type": "stream",
     "text": [
      "LR accuracy: 0.817245290152\n",
      "[[18816  1546]\n",
      " [ 4255  7125]]\n"
     ]
    }
   ],
   "source": [
    "###NOTE THIS TAKES A VERY LONG TIME TO RUN\n",
    "from sklearn.preprocessing import StandardScaler\n",
    "from sklearn.cross_validation import ShuffleSplit\n",
    "from sklearn.linear_model import LogisticRegression\n",
    "from sklearn.svm import SVC\n",
    "\n",
    "DF_SVM_sal= DF_Reg2.copy()\n",
    "\n",
    "lr_clf = LogisticRegression(penalty='l2', C=1.0, class_weight=None)\n",
    "\n",
    "if 'salary_range_Jr_Level' in DF_SVM_sal:\n",
    "    y = DF_SVM_sal['salary_range_Jr_Level'].values \n",
    "    del DF_SVM_sal['salary_range_Jr_Level']\n",
    "    X = DF_SVM_sal.values\n",
    "\n",
    "num_cv_iterations = 4\n",
    "num_instances = len(y)\n",
    "cv_object = ShuffleSplit(n=num_instances,\n",
    "                         n_iter=4, #num_cv_iterations\n",
    "                         test_size  = 0.25)  \n",
    "\n",
    "for train_indices, test_indices in cv_object: \n",
    "   \n",
    "    X_train = X[train_indices]\n",
    "    y_train = y[train_indices]\n",
    "    \n",
    "    X_test = X[test_indices]\n",
    "    y_test = y[test_indices]\n",
    "    \n",
    "for iter_num, (train_indices, test_indices) in enumerate(cv_object):\n",
    "    lr_clf.fit(X[train_indices],y[train_indices])  # train object\n",
    "    y_hat = lr_clf.predict(X[test_indices]) # get test set precitions\n",
    "\n",
    "LRs_acc = mt.accuracy_score(y[test_indices],y_hat)\n",
    "LRs_conf = mt.confusion_matrix(y[test_indices],y_hat)\n",
    "print('LR accuracy:', LRs_acc )\n",
    "print(LRs_conf)"
   ]
  },
  {
   "cell_type": "markdown",
   "metadata": {
    "collapsed": true
   },
   "source": [
    "#### SVM for 'salary_range_jr_level'"
   ]
  },
  {
   "cell_type": "code",
   "execution_count": 63,
   "metadata": {
    "collapsed": false,
    "deletable": true,
    "editable": true,
    "scrolled": true
   },
   "outputs": [
    {
     "name": "stderr",
     "output_type": "stream",
     "text": [
      "C:\\Users\\natha_000\\Anaconda3\\envs\\py3k\\lib\\site-packages\\sklearn\\utils\\validation.py:429: DataConversionWarning: Data with input dtype object was converted to float64 by StandardScaler.\n",
      "  warnings.warn(msg, _DataConversionWarning)\n"
     ]
    }
   ],
   "source": [
    "scl_obj = StandardScaler()\n",
    "scl_obj.fit(X[train_indices]) # find scalings for each column that make this zero mean and unit std\n",
    "# the line of code above only looks at training data to get mean and std and we can use it \n",
    "# to transform new feature data\n",
    "\n",
    "X_train_scaled = scl_obj.transform(X[train_indices]) # apply to training\n",
    "X_test_scaled = scl_obj.transform(X[test_indices]) # apply those means and std to the test set (without snooping at the test set values)\n",
    "\n",
    "# train the model just as before\n",
    "svm_clf = SVC(C=0.5, kernel='linear', degree=3, gamma='auto') # get object\n",
    "svm_clf.fit(X_train_scaled, y[train_indices])  # train object\n",
    "\n",
    "y_hat2 = svm_clf.predict(X_test_scaled) # get test set precitions\n"
   ]
  },
  {
   "cell_type": "code",
   "execution_count": 64,
   "metadata": {
    "collapsed": false,
    "scrolled": true
   },
   "outputs": [
    {
     "name": "stdout",
     "output_type": "stream",
     "text": [
      "LR accuracy: 0.817245290152\n",
      "[[18816  1546]\n",
      " [ 4255  7125]]\n",
      "SVM accuracy: 0.863493163632\n",
      "[[18829  1533]\n",
      " [ 2800  8580]]\n"
     ]
    }
   ],
   "source": [
    "# COMPARISON SUMMARY OF LR MODEL VS SVM MODEL\n",
    "LRs_acc = mt.accuracy_score(y[test_indices],y_hat)\n",
    "LRs_conf = mt.confusion_matrix(y[test_indices],y_hat)\n",
    "print('LR accuracy:', LRs_acc )\n",
    "print(LRs_conf)\n",
    "\n",
    "SVMs_acc2 = mt.accuracy_score(y[test_indices],y_hat2)\n",
    "SVMs_conf2 = mt.confusion_matrix(y[test_indices],y_hat2)\n",
    "print('SVM accuracy:', SVMs_acc2 )\n",
    "print(SVMs_conf2)"
   ]
  },
  {
   "cell_type": "markdown",
   "metadata": {},
   "source": [
    "#### Feature Importance for Logisitic Regression Model for 'salary_range_Jr_Level'"
   ]
  },
  {
   "cell_type": "code",
   "execution_count": 28,
   "metadata": {
    "collapsed": false
   },
   "outputs": [
    {
     "name": "stdout",
     "output_type": "stream",
     "text": [
      "[[ -3.54181567e-03   9.88607060e-03  -4.31366966e-01  -1.44440889e-01\n",
      "    9.88607060e-03  -1.12806290e-03   2.76178071e-04   1.38888505e-04\n",
      "   -6.55847483e-05   6.33576105e-05  -2.68081826e-01  -2.58334461e-03\n",
      "   -9.73641974e-03  -1.18296219e-02  -2.17156925e-02  -1.08680829e-04\n",
      "    4.24534713e-05  -4.60082250e-03  -8.25913987e-02]]\n"
     ]
    },
    {
     "data": {
      "image/png": "[encoded data removed]",
      "text/plain": [
       "<matplotlib.figure.Figure at 0x2286e7865c0>"
      ]
     },
     "metadata": {},
     "output_type": "display_data"
    }
   ],
   "source": [
    "print(lr_clf.coef_)\n",
    "try:\n",
    "    weights = pd.Series(lr_clf.coef_[0],index=DF_SVM_sal.columns)\n",
    "    weights.plot(kind='bar')\n",
    "except:    \n",
    "        pass"
   ]
  },
  {
   "cell_type": "markdown",
   "metadata": {},
   "source": [
    "#### Feature Importance for Scaled Support Vector Machine Model for 'salary_range_Jr_Level'"
   ]
  },
  {
   "cell_type": "code",
   "execution_count": 29,
   "metadata": {
    "collapsed": false,
    "deletable": true,
    "editable": true
   },
   "outputs": [
    {
     "name": "stdout",
     "output_type": "stream",
     "text": [
      "(45487, 19)\n",
      "(45487,)\n",
      "[22753 22734]\n"
     ]
    }
   ],
   "source": [
    "# look at the support vectors\n",
    "print(svm_clf.support_vectors_.shape)\n",
    "print(svm_clf.support_.shape)\n",
    "print(svm_clf.n_support_ )"
   ]
  },
  {
   "cell_type": "code",
   "execution_count": 33,
   "metadata": {
    "collapsed": false,
    "deletable": true,
    "editable": true
   },
   "outputs": [
    {
     "name": "stdout",
     "output_type": "stream",
     "text": [
      "[[-0.17207667 -0.00218468 -1.17499528 -0.16452829 -0.00218468 -0.01777825\n",
      "   0.18036434 -0.02065666 -0.05668389  0.02338232 -0.58860356 -0.0666993\n",
      "   0.00218468 -0.18322886 -0.19875926 -0.38312833  0.08980091  0.03497761\n",
      "  -0.01628478]]\n"
     ]
    },
    {
     "data": {
      "image/png": "[encoded data removed]",
      "text/plain": [
       "<matplotlib.figure.Figure at 0x2286e6df550>"
      ]
     },
     "metadata": {},
     "output_type": "display_data"
    }
   ],
   "source": [
    "print(svm_clf.coef_)\n",
    "try:\n",
    "    weights = pd.Series(svm_clf.coef_[0],index=DF_SVM_sal.columns)\n",
    "    weights.plot(kind='bar')\n",
    "except:    \n",
    "        pass"
   ]
  },
  {
   "cell_type": "markdown",
   "metadata": {},
   "source": [
    "### Interpretation of SVM scaled feature importances\n",
    "- Some note here"
   ]
  },
  {
   "cell_type": "markdown",
   "metadata": {
    "deletable": true,
    "editable": true
   },
   "source": [
    "Comparing between the Logistic Regression and the SVM, the SVM provided a better accuracy score for the Junior Level Salary Range."
   ]
  },
  {
   "cell_type": "markdown",
   "metadata": {
    "deletable": true,
    "editable": true
   },
   "source": [
    "### SVM for Diversity Classifier (RNO_000001 = Caucasian)"
   ]
  },
  {
   "cell_type": "code",
   "execution_count": 60,
   "metadata": {
    "collapsed": false,
    "deletable": true,
    "editable": true
   },
   "outputs": [
    {
     "name": "stdout",
     "output_type": "stream",
     "text": [
      "<class 'pandas.core.frame.DataFrame'>\n",
      "Int64Index: 126967 entries, 2 to 17523\n",
      "Data columns (total 20 columns):\n",
      "Hist_yr                  126967 non-null float64\n",
      "bdyr                     126967 non-null float64\n",
      "grade                    126967 non-null object\n",
      "hilev                    126967 non-null object\n",
      "hiyr                     126967 non-null int64\n",
      "install                  126967 non-null object\n",
      "lastpromodte             126967 non-null float64\n",
      "nextwigdte               126967 non-null float64\n",
      "retdiscdte               126967 non-null float64\n",
      "secyr                    126967 non-null object\n",
      "step_emp                 126967 non-null object\n",
      "time_in_grade            126967 non-null float64\n",
      "age                      126967 non-null float64\n",
      "eodyr                    126967 non-null int64\n",
      "experience               126967 non-null int64\n",
      "service                  126967 non-null float64\n",
      "retpot                   126967 non-null float64\n",
      "salary_range_Jr_Level    126967 non-null uint8\n",
      "rno_000001               126967 non-null uint8\n",
      "IsMale                   126967 non-null int64\n",
      "dtypes: float64(9), int64(4), object(5), uint8(2)\n",
      "memory usage: 18.6+ MB\n"
     ]
    }
   ],
   "source": [
    "DF_Reg2.info()"
   ]
  },
  {
   "cell_type": "code",
   "execution_count": 74,
   "metadata": {
    "collapsed": false,
    "deletable": true,
    "editable": true,
    "scrolled": false
   },
   "outputs": [
    {
     "name": "stdout",
     "output_type": "stream",
     "text": [
      "LR accuracy: 0.66656165333\n",
      "[[  193 10300]\n",
      " [  284 20965]]\n"
     ]
    }
   ],
   "source": [
    "###NOTE THIS TAKES A VERY LONG TIME TO RUN \n",
    "###runtime approx 30 mins\n",
    "\n",
    "DF_SVM_div= DF_Reg2.copy()\n",
    "\n",
    "lr_clf2 = LogisticRegression(penalty='l2', C=1.0, class_weight=None)\n",
    "\n",
    "if 'rno_000001' in DF_SVM_div:\n",
    "    y2 = DF_SVM_div['rno_000001'].values \n",
    "    del DF_SVM_div['rno_000001']\n",
    "    X2 = DF_SVM_div.values\n",
    "\n",
    "num_cv_iterations = 4\n",
    "num_instances = len(y2)\n",
    "cv_object = ShuffleSplit(n=num_instances,\n",
    "                         n_iter=4, #num_cv_iterations\n",
    "                         test_size  = 0.25)  \n",
    "\n",
    "for train_indices, test_indices in cv_object: \n",
    "   \n",
    "    X_train2 = X2[train_indices]\n",
    "    y_train2 = y2[train_indices]\n",
    "    \n",
    "    X_test2 = X2[test_indices]\n",
    "    y_test2 = y2[test_indices]\n",
    "    \n",
    "for iter_num, (train_indices, test_indices) in enumerate(cv_object):\n",
    "    lr_clf2.fit(X2[train_indices],y2[train_indices])  # train object\n",
    "    y_hat3 = lr_clf2.predict(X2[test_indices]) # get test set precitions\n",
    "    \n",
    "LRr_acc = mt.accuracy_score(y2[test_indices],y_hat3)\n",
    "LRr_conf = mt.confusion_matrix(y2[test_indices],y_hat3)\n",
    "print('LR accuracy:', LRr_acc )\n",
    "print(LRr_conf)"
   ]
  },
  {
   "cell_type": "code",
   "execution_count": 75,
   "metadata": {
    "collapsed": false
   },
   "outputs": [
    {
     "name": "stderr",
     "output_type": "stream",
     "text": [
      "C:\\Users\\natha_000\\Anaconda3\\envs\\py3k\\lib\\site-packages\\sklearn\\utils\\validation.py:429: DataConversionWarning: Data with input dtype object was converted to float64 by StandardScaler.\n",
      "  warnings.warn(msg, _DataConversionWarning)\n"
     ]
    }
   ],
   "source": [
    "scl_obj = StandardScaler()\n",
    "scl_obj.fit(X2[train_indices]) # find scalings for each column that make this zero mean and unit std\n",
    "# the line of code above only looks at training data to get mean and std and we can use it \n",
    "# to transform new feature data\n",
    "\n",
    "X2_train_scaled = scl_obj.transform(X2[train_indices]) # apply to training\n",
    "X2_test_scaled = scl_obj.transform(X2[test_indices]) # apply those means and std to the test set (without snooping at the test set values)\n",
    "\n",
    "# train the model just as before\n",
    "svm_clf2 = SVC(C=0.5, kernel='linear', degree=3, gamma='auto') # get object\n",
    "svm_clf2.fit(X2_train_scaled, y2[train_indices])  # train object\n",
    "\n",
    "y_hat4 = svm_clf2.predict(X2_test_scaled) # get test set precitions"
   ]
  },
  {
   "cell_type": "code",
   "execution_count": 76,
   "metadata": {
    "collapsed": false
   },
   "outputs": [
    {
     "name": "stdout",
     "output_type": "stream",
     "text": [
      "LR accuracy: 0.66656165333\n",
      "[[  193 10300]\n",
      " [  284 20965]]\n",
      "SVM accuracy: 0.669428517422\n",
      "[[    0 10493]\n",
      " [    0 21249]]\n"
     ]
    }
   ],
   "source": [
    "LRr_acc = mt.accuracy_score(y2[test_indices],y_hat3)\n",
    "LRr_conf = mt.confusion_matrix(y2[test_indices],y_hat3)\n",
    "print('LR accuracy:', LRr_acc )\n",
    "print(LRr_conf)\n",
    "\n",
    "SVMr_acc2 = mt.accuracy_score(y2[test_indices],y_hat4)\n",
    "SVMr_conf2 = mt.confusion_matrix(y2[test_indices],y_hat4)\n",
    "print('SVM accuracy:', SVMr_acc2 )\n",
    "print(SVMr_conf2)"
   ]
  },
  {
   "cell_type": "code",
   "execution_count": 37,
   "metadata": {
    "collapsed": false
   },
   "outputs": [
    {
     "name": "stdout",
     "output_type": "stream",
     "text": [
      "[[  8.52351864e-03  -2.56029239e-03   1.03973836e-01  -2.65055058e-02\n",
      "   -2.56029239e-03   2.00642679e-03   2.49900493e-05  -8.70160754e-05\n",
      "   -3.30256822e-05   5.12444567e-05   5.26197145e-02  -1.80620974e-03\n",
      "    7.34393511e-03  -3.88168822e-03  -1.32139580e-03  -5.36500089e-06\n",
      "   -1.48003674e-05  -1.25499733e-02   1.72097276e-01]]\n"
     ]
    },
    {
     "data": {
      "image/png": "[encoded data removed]",
      "text/plain": [
       "<matplotlib.figure.Figure at 0x2287107c1d0>"
      ]
     },
     "metadata": {},
     "output_type": "display_data"
    }
   ],
   "source": [
    "print(lr_clf2.coef_)\n",
    "try:\n",
    "    weights = pd.Series(lr_clf2.coef_[0],index=DF_SVM_sal.columns)\n",
    "    weights.plot(kind='bar')\n",
    "except:    \n",
    "        pass"
   ]
  },
  {
   "cell_type": "code",
   "execution_count": 38,
   "metadata": {
    "collapsed": false,
    "deletable": true,
    "editable": true
   },
   "outputs": [
    {
     "name": "stdout",
     "output_type": "stream",
     "text": [
      "(45487, 19)\n",
      "(45487,)\n",
      "[22753 22734]\n"
     ]
    }
   ],
   "source": [
    "# look at the support vectors\n",
    "print(svm_clf.support_vectors_.shape)\n",
    "print(svm_clf.support_.shape)\n",
    "print(svm_clf.n_support_ )"
   ]
  },
  {
   "cell_type": "code",
   "execution_count": 39,
   "metadata": {
    "collapsed": false,
    "deletable": true,
    "editable": true
   },
   "outputs": [
    {
     "name": "stdout",
     "output_type": "stream",
     "text": [
      "[[ -5.93976741e-05  -4.10404488e-04   4.13078293e-05   1.74665627e-05\n",
      "   -4.10404488e-04   9.95508032e-07  -5.47959625e-06  -5.72055385e-05\n",
      "   -8.53824433e-05  -1.60137810e-06   2.74152495e-05  -3.25121063e-05\n",
      "    4.10404483e-04  -1.39036186e-03  -1.07377318e-03  -2.57317717e-03\n",
      "    1.23716354e-05  -5.21345688e-05   1.65852464e-06]]\n"
     ]
    },
    {
     "data": {
      "text/plain": [
       "<matplotlib.axes._subplots.AxesSubplot at 0x2286cf43978>"
      ]
     },
     "execution_count": 39,
     "metadata": {},
     "output_type": "execute_result"
    },
    {
     "data": {
      "image/png": "[encoded data removed]",
      "text/plain": [
       "<matplotlib.figure.Figure at 0x2286c249ef0>"
      ]
     },
     "metadata": {},
     "output_type": "display_data"
    }
   ],
   "source": [
    "print(svm_clf2.coef_)\n",
    "weights = pd.Series(svm_clf2.coef_[0],index=DF_SVM_div.columns)\n",
    "weights.plot(kind='bar')"
   ]
  },
  {
   "cell_type": "markdown",
   "metadata": {
    "deletable": true,
    "editable": true
   },
   "source": [
    "Looking at the SVM for rno_000001, the confusion matrix leads us to believe that this measure is not very accurate. However, investigating the weights, we can see that the 'Service', 'EODyr' and 'Experience' variables are very important for the SVM Diversity Classifier. "
   ]
  },
  {
   "cell_type": "markdown",
   "metadata": {
    "deletable": true,
    "editable": true
   },
   "source": [
    "# Modeling and Evaluation 4\n",
    "---"
   ]
  },
  {
   "cell_type": "markdown",
   "metadata": {
    "deletable": true,
    "editable": true
   },
   "source": [
    "<span style=\"color:red\">10 Points - Analyze the results using your chosen method of evaluation. Use visualizations of the results to bolster the analysis. Explain any visuals and analyze why they are interesting to someone that might use this model. </span>"
   ]
  },
  {
   "cell_type": "markdown",
   "metadata": {
    "deletable": true,
    "editable": true
   },
   "source": [
    "### Results for salary range jr level"
   ]
  },
  {
   "cell_type": "code",
   "execution_count": 43,
   "metadata": {
    "collapsed": false,
    "deletable": true,
    "editable": true
   },
   "outputs": [
    {
     "name": "stdout",
     "output_type": "stream",
     "text": [
      "KNN Junior Salary Range Accuracy with 10 splits 0.831877574488\n",
      "[[71338 10352]\n",
      " [10994 34283]]\n",
      "--------------------------------------\n",
      "Random Forest Salary_Range_Jr_level Accuracy 0.902770011105\n",
      "[[72408  9282]\n",
      " [ 3063 42214]]\n",
      "--------------------------------------\n",
      "SVM Junior Salary Range accuracy: 0.861665931573\n",
      "[[18859  1420]\n",
      " [ 2971  8492]]\n"
     ]
    }
   ],
   "source": [
    "print ('KNN Junior Salary Range Accuracy with 10 splits', KNNs_total_accuracy)\n",
    "print(KNNs_conf)\n",
    "print('--------------------------------------')\n",
    "print ('Random Forest Salary_Range_Jr_level Accuracy', RFs_total_accuracy)\n",
    "print (RFs_conf)\n",
    "print('--------------------------------------')\n",
    "print('SVM Junior Salary Range accuracy:', SVMs_acc2)\n",
    "print(SVMs_conf2)"
   ]
  },
  {
   "cell_type": "markdown",
   "metadata": {
    "collapsed": true
   },
   "source": [
    "# STATISTICAL ANALYSIS HERE\n",
    "#### Procedure\n",
    "1. Step 1: Run each test 10 times, record the accuracy and stick into a small dataset\n",
    "2. Step 2: Run a one-way ANOVA on those datasets for a difference in means\n",
    "3. Step 3: Get an F-statistic and a p-value\n",
    "4. Step 4: find out which model is actually different"
   ]
  },
  {
   "cell_type": "markdown",
   "metadata": {},
   "source": [
    "#### Null Hypothesis:\n",
    "Ho: M1 = M2 = M3 = M4 = M5 = M6 = M7 = M8 (There is no difference between the mean accuracy for each model.)\n",
    "\n",
    "#### Alternative Hypothesis:\n",
    "At least one of the Mean accuracies is different from the others.\n",
    "\n",
    "#### Alpha = 0.05"
   ]
  },
  {
   "cell_type": "code",
   "execution_count": 88,
   "metadata": {
    "collapsed": false
   },
   "outputs": [],
   "source": [
    "# USE THIS CODE AND EXAMIN THE POST HOC TEST\n",
    "Classifiers = [(0.783148, 0.931139, 0.859933, 0.816489, 0.648696, 0.778399, 0.670468, 0.669743),\n",
    "              (0.779826, 0.940063, 0.857349, 0.808928, 0.636031, 0.781842, 0.676422, 0.668955),\n",
    "              (0.781239, 0.935716, 0.858641, 0.818411, 0.632951, 0.789251, 0.667758, 0.665994),\n",
    "              (0.778679, 0.936382, 0.861949, 0.812236, 0.629342, 0.787903, 0.671444, 0.667002),\n",
    "              (0.778655, 0.940166, 0.860185, 0.811732, 0.626857, 0.785273, 0.672169, 0.666876),\n",
    "              (0.779134, 0.929951, 0.860405, 0.815922, 0.615054, 0.765331, 0.669869, 0.675351),\n",
    "              (0.781443, 0.935715, 0.860689, 0.818190, 0.618937, 0.786807, 0.668735, 0.665616),\n",
    "              (0.781521, 0.936812, 0.861760, 0.814851, 0.623837, 0.777982, 0.668420, 0.668735),\n",
    "              (0.779653, 0.951117, 0.859523, 0.806187, 0.638300, 0.781137, 0.669428, 0.668136),\n",
    "              (0.778991, 0.938644, 0.863493, 0.811826, 0.625345, 0.788020, 0.671917, 0.669523)] \n",
    "Labels = [\"S_KNN\", \"S_RandomForest\", \"S_SVM\", \"S_LogisticReg\",\"D_KNN\", \"D_RandomForest\", \"D_SVM\", \"D_LogisticReg\"]\n",
    "df = pd.DataFrame.from_records(Classifiers, columns = Labels)\n"
   ]
  },
  {
   "cell_type": "code",
   "execution_count": 91,
   "metadata": {
    "collapsed": false
   },
   "outputs": [],
   "source": [
    "#print(df)"
   ]
  },
  {
   "cell_type": "code",
   "execution_count": 95,
   "metadata": {
    "collapsed": false
   },
   "outputs": [
    {
     "data": {
      "text/plain": [
       "F_onewayResult(statistic=4091.3845401976214, pvalue=6.1908577297490784e-91)"
      ]
     },
     "execution_count": 95,
     "metadata": {},
     "output_type": "execute_result"
    }
   ],
   "source": [
    "import numpy as np\n",
    "import pandas as pd\n",
    "import matplotlib.pyplot as plt\n",
    "import scipy.stats as stats\n",
    "\n",
    "\n",
    "S_KNN = df[\"S_KNN\"]\n",
    "S_RF = df[\"S_RandomForest\"] \n",
    "S_SVM= df[\"S_SVM\"]\n",
    "S_LR = df[\"S_LogisticReg\"]\n",
    "D_KNN = df[\"D_KNN\"]\n",
    "D_RF = df[\"D_RandomForest\"]\n",
    "D_SVM = df[\"D_SVM\"]\n",
    "D_LR = df[\"D_LogisticReg\"]\n",
    "          \n",
    "# PERFORM ONE-WAY ANOVA\n",
    "\n",
    "stats.f_oneway(S_KNN, S_RF, S_SVM, S_LR, D_KNN, D_RF, D_SVM, D_LR)"
   ]
  },
  {
   "cell_type": "markdown",
   "metadata": {},
   "source": [
    "### Test Statistics:\n",
    "After doing a one-way ANOVA on our models, we received an:\n",
    "#### F-statistic = 4091.38 and a P-Value < 0.0001. \n",
    "#### Statistical Conclusion Pt 1\n",
    "We reject the Null Hypothesis that there is no difference between the mean accuracy for each model. There is statistically significant evidence to conclude that at least one of the models is different from the others. \n",
    "\n",
    "We will proceed with a Post-Hoc test to determine which model is different from the others and then conclude which model is the best."
   ]
  },
  {
   "cell_type": "code",
   "execution_count": 108,
   "metadata": {
    "collapsed": false
   },
   "outputs": [
    {
     "name": "stdout",
     "output_type": "stream",
     "text": [
      "S_KNN S_RandomForest\n",
      "Ttest_indResult(statistic=-82.584228542276364, pvalue=1.1266584512789438e-24)\n",
      "S_KNN S_SVM\n",
      "Ttest_indResult(statistic=-109.62690717927192, pvalue=6.9448256853810431e-27)\n",
      "S_KNN S_LogisticReg\n",
      "Ttest_indResult(statistic=-24.523360528067631, pvalue=2.7782616743820722e-15)\n",
      "S_KNN D_KNN\n",
      "Ttest_indResult(statistic=47.709953658696378, pvalue=2.0966084630043161e-20)\n",
      "S_KNN D_RandomForest\n",
      "Ttest_indResult(statistic=-0.84618115935814164, pvalue=0.40856064591542851)\n",
      "S_KNN D_SVM\n",
      "Ttest_indResult(statistic=117.8536142807954, pvalue=1.8912382714903535e-27)\n",
      "S_KNN D_LogisticReg\n",
      "Ttest_indResult(statistic=111.57118688446205, pvalue=5.0632010093716276e-27)\n",
      "S_RandomForest S_SVM\n",
      "Ttest_indResult(statistic=40.108683332135925, pvalue=4.6357321835186599e-19)\n",
      "S_RandomForest S_LogisticReg\n",
      "Ttest_indResult(statistic=55.462740202734373, pvalue=1.4191842459197638e-21)\n",
      "S_RandomForest D_KNN\n",
      "Ttest_indResult(statistic=84.963482922165724, pvalue=6.7654804535827509e-25)\n",
      "S_RandomForest D_RandomForest\n",
      "Ttest_indResult(statistic=53.094666544023845, pvalue=3.0986820866314283e-21)\n",
      "S_RandomForest D_SVM\n",
      "Ttest_indResult(statistic=132.919883011628, pvalue=2.1743393756560424e-28)\n",
      "S_RandomForest D_LogisticReg\n",
      "Ttest_indResult(statistic=131.73374640587639, pvalue=2.5546493699067802e-28)\n",
      "S_SVM S_LogisticReg\n",
      "Ttest_indResult(statistic=33.939168667211007, pvalue=9.0266568055892829e-18)\n",
      "S_SVM D_KNN\n",
      "Ttest_indResult(statistic=72.824999528723168, pvalue=1.0767065101840483e-23)\n",
      "S_SVM D_RandomForest\n",
      "Ttest_indResult(statistic=33.439351182970078, pvalue=1.174321340042045e-17)\n",
      "S_SVM D_SVM\n",
      "Ttest_indResult(statistic=196.00156317682678, pvalue=2.0105576745781598e-31)\n",
      "S_SVM D_LogisticReg\n",
      "Ttest_indResult(statistic=185.08410610830504, pvalue=5.6380990473359377e-31)\n",
      "S_LogisticReg D_KNN\n",
      "Ttest_indResult(statistic=54.592735545451831, pvalue=1.8833942117974208e-21)\n",
      "S_LogisticReg D_RandomForest\n",
      "Ttest_indResult(statistic=12.021100540814885, pvalue=4.9057536906440582e-10)\n",
      "S_LogisticReg D_SVM\n",
      "Ttest_indResult(statistic=95.412116797888203, pvalue=8.4242104722182568e-26)\n",
      "S_LogisticReg D_LogisticReg\n",
      "Ttest_indResult(statistic=93.967531946476115, pvalue=1.1080643479207908e-25)\n",
      "D_KNN D_RandomForest\n",
      "Ttest_indResult(statistic=-39.534907018186011, pvalue=5.9917749452143166e-19)\n",
      "D_KNN D_SVM\n",
      "Ttest_indResult(statistic=-12.766331612364768, pvalue=1.8511770420880874e-10)\n",
      "D_KNN D_LogisticReg\n",
      "Ttest_indResult(statistic=-12.044671771940573, pvalue=4.7533726720603129e-10)\n",
      "D_RandomForest D_SVM\n",
      "Ttest_indResult(statistic=46.318094020145139, pvalue=3.5578707120344991e-20)\n",
      "D_RandomForest D_LogisticReg\n",
      "Ttest_indResult(statistic=46.630594646842468, pvalue=3.1552805702669654e-20)\n",
      "D_SVM D_LogisticReg\n",
      "Ttest_indResult(statistic=1.7472211103681021, pvalue=0.097638225450188285)\n"
     ]
    }
   ],
   "source": [
    "model_pairs = []\n",
    "\n",
    "for model1 in range(7):\n",
    "    for model2  in range(model1+1,8):\n",
    "        model_pairs.append((Labels[model1], Labels[model2]))\n",
    "\n",
    "# Conduct t-test on each pair\n",
    "for model1, model2 in model_pairs: \n",
    "    print(model1, model2)\n",
    "    print(stats.ttest_ind(df[model1], \n",
    "                          df[model2]))  "
   ]
  },
  {
   "cell_type": "markdown",
   "metadata": {},
   "source": [
    "D_SVM & D_LogisticReg (SVM model and Logisitic Regression model for \"rno_0001\" (or the diversity variable)) was the only legitimate model pairing that was not statistically different from each other.\n",
    "\n",
    "Side Note:\n",
    "(S_KNN & D_RandomForest was also seen to not be statistically different above, however, these are 2 very different models on 2 different variables, so they are disqualified from inference.)\n",
    "\n",
    "### Conclusion:\n",
    "With the Random Forest Classifier having the highest accuracy compared to any other model, and being statistically significantly different, we choose this model as the best model for our dataset."
   ]
  },
  {
   "cell_type": "markdown",
   "metadata": {
    "collapsed": true,
    "deletable": true,
    "editable": true
   },
   "source": [
    "from sklearn import metrics as mt\n",
    "\n",
    "freq_infreq_threshold = 100\n",
    "\n",
    "# get various measures of performance\n",
    "RFs_total_accuracy = mt.accuracy_score(y, yhat)\n",
    "\n",
    "prec_for_freq_classes = []\n",
    "recall_for_infreq_classes = []\n",
    "rec_tot = []\n",
    "prec_tot = []\n",
    "\n",
    "for cls in np.unique(y):\n",
    "    idx = (y==cls) # get classes\n",
    "    ytmp_actual = np.zeros(y.shape) # make binary class problem\n",
    "    ytmp_actual[idx] = 1 # set the instances for this specific class\n",
    "    \n",
    "    ytmp_predicted = np.zeros(y.shape) # binary prediction array\n",
    "    ytmp_predicted[yhat==cls] = 1\n",
    "    \n",
    "    num_in_class = sum(idx)\n",
    "    \n",
    "    rec = mt.recall_score(ytmp_actual, ytmp_predicted)\n",
    "    prec = mt.precision_score(ytmp_actual, ytmp_predicted)\n",
    "    rec_tot.append(rec)\n",
    "    prec_tot.append(prec)\n",
    "    \n",
    "    if num_in_class < freq_infreq_threshold:\n",
    "        recall_for_infreq_classes.append(rec)\n",
    "    elif num_in_class >= freq_infreq_threshold:\n",
    "        prec_for_freq_classes.append(prec)\n",
    "        \n",
    "print ('Total Accuracy:',RFs_total_accuracy)\n",
    "print ('Number of infrequent classes:',len(recall_for_infreq_classes), \n",
    "       'with average recall of:', np.mean(recall_for_infreq_classes))\n",
    "print ('Number of frequent classes:',len(prec_for_freq_classes), \n",
    "       'with average precision of:',np.mean(prec_for_freq_classes))"
   ]
  },
  {
   "cell_type": "markdown",
   "metadata": {
    "collapsed": true,
    "deletable": true,
    "editable": true
   },
   "source": [
    "# But we can really summarize this data much better than this. \n",
    "# How about looking at more statistics of the precision and recall for each class?\n",
    "\n",
    "import seaborn as sns\n",
    "import matplotlib.pyplot as plt\n",
    "\n",
    "sns.set_palette(\"dark\")\n",
    "\n",
    "plt.boxplot([rec_tot, prec_tot, recall_for_infreq_classes, prec_for_freq_classes],labels=['true positive','false positive','true negative','false negative'])\n",
    "plt.ylim([.7,1])\n",
    "plt.show()"
   ]
  },
  {
   "cell_type": "markdown",
   "metadata": {
    "deletable": true,
    "editable": true
   },
   "source": [
    "Based on the ACCURACY score, we can see that the most accurate measure for the Junior Salary Range Classifier was the Random Forest and the SVM. Looking at the confusion matrix boxplot above, Random Forest and SVM have are the most accurate but have the worst confusion matrix results. Therefore, we advocate the use of KNN. This will still give an accuracy of 99% with a better confusion matrix result."
   ]
  },
  {
   "cell_type": "markdown",
   "metadata": {
    "deletable": true,
    "editable": true
   },
   "source": [
    "#### Results for the rno_00001 classification"
   ]
  },
  {
   "cell_type": "code",
   "execution_count": 47,
   "metadata": {
    "collapsed": false,
    "deletable": true,
    "editable": true
   },
   "outputs": [
    {
     "name": "stdout",
     "output_type": "stream",
     "text": [
      "KNN Adversity Accuracy with 10 splits 0.864452968094\n",
      "[[29006 12861]\n",
      " [ 4349 80751]]\n",
      "--------------------------------------\n",
      "Random Forest Diversity Accuracy 0.734190773981\n",
      "[[13552 28315]\n",
      " [ 5434 79666]]\n",
      "--------------------------------------\n",
      "SVM Diversity accuracy: 0.671350261483\n",
      "[[    0 10432]\n",
      " [    0 21310]]\n"
     ]
    }
   ],
   "source": [
    "print ('KNN Adversity Accuracy with 10 splits', KNNr2_total_accuracy2)\n",
    "print(KNNr2_conf2)\n",
    "print('--------------------------------------')\n",
    "print ('Random Forest Diversity Accuracy', RFr_total_accuracy2)\n",
    "print (RFr_conf2)\n",
    "print('--------------------------------------')\n",
    "print('SVM Diversity accuracy:', SVMr_acc2 )\n",
    "print(SVMr_conf2)"
   ]
  },
  {
   "cell_type": "code",
   "execution_count": null,
   "metadata": {
    "collapsed": true
   },
   "outputs": [],
   "source": [
    "###CHI SQUARE MEASURE HERE (or t test)"
   ]
  },
  {
   "cell_type": "markdown",
   "metadata": {
    "collapsed": true,
    "deletable": true,
    "editable": true
   },
   "source": [
    "from sklearn import metrics as mt\n",
    "\n",
    "freq_infreq_threshold = 40\n",
    "\n",
    "# get various measures of performance\n",
    "total_accuracy2 = mt.accuracy_score(y2, yhat2)\n",
    "\n",
    "prec_for_freq_classes2 = []\n",
    "recall_for_infreq_classes2 = []\n",
    "rec_tot2 = []\n",
    "prec_tot2 = []\n",
    "\n",
    "for cls in np.unique(y2):\n",
    "    idx = (y2==cls) # get classes\n",
    "    ytmp_actual2 = np.zeros(y2.shape) # make binary class problem\n",
    "    ytmp_actual2[idx] = 1 # set the instances for this specific class\n",
    "    \n",
    "    ytmp_predicted2 = np.zeros(y2.shape) # binary prediction array\n",
    "    ytmp_predicted2[yhat2==cls] = 1\n",
    "    \n",
    "    num_in_class2 = sum(idx)\n",
    "    \n",
    "    rec2 = mt.recall_score(ytmp_actual2, ytmp_predicted2)\n",
    "    prec2 = mt.precision_score(ytmp_actual2, ytmp_predicted2)\n",
    "    rec_tot2.append(rec2)\n",
    "    prec_tot2.append(prec2)\n",
    "    \n",
    "    if num_in_class2 < freq_infreq_threshold:\n",
    "        recall_for_infreq_classes2.append(rec2)\n",
    "    elif num_in_class2 >= freq_infreq_threshold:\n",
    "        prec_for_freq_classes2.append(prec2)\n",
    "        \n",
    "print ('Total Accuracy:',total_accuracy2)\n",
    "print ('Number of infrequent faces:',len(recall_for_infreq_classes2), \n",
    "       'with average recall of:', np.mean(recall_for_infreq_classes2))\n",
    "print ('Number of frequent faces:',len(prec_for_freq_classes2), \n",
    "       'with average precision of:',np.mean(prec_for_freq_classes2))"
   ]
  },
  {
   "cell_type": "markdown",
   "metadata": {
    "collapsed": true,
    "deletable": true,
    "editable": true
   },
   "source": [
    "# But we can really summarize this data much better than this. \n",
    "# How about looking at more statistics of the precision and recall for each class?\n",
    "\n",
    "import seaborn as sns\n",
    "sns.set_palette(\"dark\")\n",
    "\n",
    "plt.boxplot([rec_tot2, prec_tot2, recall_for_infreq_classes2, prec_for_freq_classes2],labels=['true positive','false positive','true negative','false negative'])\n",
    "plt.ylim([.2,1])\n",
    "plt.show()"
   ]
  },
  {
   "cell_type": "markdown",
   "metadata": {
    "deletable": true,
    "editable": true
   },
   "source": [
    "Based on the ACCURACY score, we can see that the most accurate measure for the Diversity Classifier was the Random Forest. Random forests showed an accuracy score of 78%. This measure had a solid confusion matrix so we advocate that this test be the best choice."
   ]
  },
  {
   "cell_type": "markdown",
   "metadata": {
    "deletable": true,
    "editable": true
   },
   "source": [
    "# Modeling and Evaluation 5\n",
    "---"
   ]
  },
  {
   "cell_type": "markdown",
   "metadata": {
    "deletable": true,
    "editable": true
   },
   "source": [
    "<span style=\"color:red\">10 Points - Discuss the advantages of each model for each classification task, if any. If there are not advantages, explain why. Is any model better than another? Is the difference significant with 95% confidence? Use proper statistical comparison methods. You must use statistical comparison techniques—be sure they are appropriate for your chosen method of validation as discussed in unit 7 of the course.</span>"
   ]
  },
  {
   "cell_type": "markdown",
   "metadata": {
    "deletable": true,
    "editable": true
   },
   "source": [
    "#### Model evaluation for Junior Salary Range"
   ]
  },
  {
   "cell_type": "code",
   "execution_count": 50,
   "metadata": {
    "collapsed": false,
    "deletable": true,
    "editable": true
   },
   "outputs": [
    {
     "ename": "NameError",
     "evalue": "name 'yhat_score' is not defined",
     "output_type": "error",
     "traceback": [
      "\u001b[0;31m---------------------------------------------------------------------------\u001b[0m",
      "\u001b[0;31mNameError\u001b[0m                                 Traceback (most recent call last)",
      "\u001b[0;32m<ipython-input-50-36553aa5fa4c>\u001b[0m in \u001b[0;36m<module>\u001b[0;34m()\u001b[0m\n\u001b[1;32m      9\u001b[0m \u001b[0mroc_auc\u001b[0m \u001b[0;34m=\u001b[0m \u001b[0mdict\u001b[0m\u001b[0;34m(\u001b[0m\u001b[0;34m)\u001b[0m\u001b[0;34m\u001b[0m\u001b[0m\n\u001b[1;32m     10\u001b[0m \u001b[0;32mfor\u001b[0m \u001b[0mi\u001b[0m \u001b[0;32min\u001b[0m \u001b[0mnp\u001b[0m\u001b[0;34m.\u001b[0m\u001b[0munique\u001b[0m\u001b[0;34m(\u001b[0m\u001b[0my\u001b[0m\u001b[0;34m)\u001b[0m\u001b[0;34m:\u001b[0m\u001b[0;34m\u001b[0m\u001b[0m\n\u001b[0;32m---> 11\u001b[0;31m     \u001b[0mfpr\u001b[0m\u001b[0;34m[\u001b[0m\u001b[0mi\u001b[0m\u001b[0;34m]\u001b[0m\u001b[0;34m,\u001b[0m \u001b[0mtpr\u001b[0m\u001b[0;34m[\u001b[0m\u001b[0mi\u001b[0m\u001b[0;34m]\u001b[0m\u001b[0;34m,\u001b[0m \u001b[0m_\u001b[0m \u001b[0;34m=\u001b[0m \u001b[0mmt\u001b[0m\u001b[0;34m.\u001b[0m\u001b[0mroc_curve\u001b[0m\u001b[0;34m(\u001b[0m\u001b[0my\u001b[0m\u001b[0;34m,\u001b[0m \u001b[0myhat_score\u001b[0m\u001b[0;34m[\u001b[0m\u001b[0;34m:\u001b[0m\u001b[0;34m,\u001b[0m \u001b[0mi\u001b[0m\u001b[0;34m]\u001b[0m\u001b[0;34m,\u001b[0m \u001b[0mpos_label\u001b[0m\u001b[0;34m=\u001b[0m\u001b[0mi\u001b[0m\u001b[0;34m)\u001b[0m\u001b[0;34m\u001b[0m\u001b[0m\n\u001b[0m\u001b[1;32m     12\u001b[0m     \u001b[0mroc_auc\u001b[0m\u001b[0;34m[\u001b[0m\u001b[0mi\u001b[0m\u001b[0;34m]\u001b[0m \u001b[0;34m=\u001b[0m \u001b[0mmt\u001b[0m\u001b[0;34m.\u001b[0m\u001b[0mauc\u001b[0m\u001b[0;34m(\u001b[0m\u001b[0mfpr\u001b[0m\u001b[0;34m[\u001b[0m\u001b[0mi\u001b[0m\u001b[0;34m]\u001b[0m\u001b[0;34m,\u001b[0m \u001b[0mtpr\u001b[0m\u001b[0;34m[\u001b[0m\u001b[0mi\u001b[0m\u001b[0;34m]\u001b[0m\u001b[0;34m)\u001b[0m\u001b[0;34m\u001b[0m\u001b[0m\n\u001b[1;32m     13\u001b[0m \u001b[0;34m\u001b[0m\u001b[0m\n",
      "\u001b[0;31mNameError\u001b[0m: name 'yhat_score' is not defined"
     ]
    }
   ],
   "source": [
    "import seaborn as sns\n",
    "sns.set_palette(\"dark\")\n",
    "# code manipulated from http://scikit-learn.org/stable/auto_examples/plot_roc.html\n",
    "from sklearn.preprocessing import label_binarize\n",
    "\n",
    "# Compute ROC curve for a subset of interesting classes\n",
    "fpr = dict()\n",
    "tpr = dict()\n",
    "roc_auc = dict()\n",
    "for i in np.unique(y):\n",
    "    fpr[i], tpr[i], _ = mt.roc_curve(y, yhat_score[:, i], pos_label=i)\n",
    "    roc_auc[i] = mt.auc(fpr[i], tpr[i])\n",
    "\n",
    "for i in np.random.permutation(60)[0:6]:\n",
    "    plt.plot(fpr[i], tpr[i], label='class {0} with {1} instances (area = {2:0.2f})'\n",
    "                                   ''.format(i, sum(y==i), roc_auc[i]))\n",
    "\n",
    "plt.legend(loc=\"lower right\")  \n",
    "plt.xlabel('False Positive Rate')\n",
    "plt.ylabel('True Positive Rate')\n",
    "plt.show()"
   ]
  },
  {
   "cell_type": "markdown",
   "metadata": {
    "deletable": true,
    "editable": true
   },
   "source": [
    "#### Model Evaluation for RNO_00001"
   ]
  },
  {
   "cell_type": "code",
   "execution_count": null,
   "metadata": {
    "collapsed": true,
    "deletable": true,
    "editable": true
   },
   "outputs": [],
   "source": [
    "import seaborn as sns\n",
    "sns.set_palette(\"dark\")\n",
    "# code manipulated from http://scikit-learn.org/stable/auto_examples/plot_roc.html\n",
    "from sklearn.preprocessing import label_binarize\n",
    "\n",
    "# Compute ROC curve for a subset of interesting classes\n",
    "fpr2 = dict()\n",
    "tpr2 = dict()\n",
    "roc_auc2 = dict()\n",
    "for i in np.unique(y2):\n",
    "    fpr2[i], tpr[i], _ = mt.roc_curve(y2, yhat2[:, i], pos_label=i)\n",
    "    roc_auc2[i] = mt.auc(fpr2[i], tpr2[i])\n",
    "\n",
    "for i in np.random.permutation(60)[0:6]:\n",
    "    plt.plot(fpr2[i], tpr2[i], label='class {0} with {1} instances (area = {2:0.2f})'\n",
    "                                   ''.format(i, sum(y2==i), roc_auc2[i]))\n",
    "\n",
    "plt.legend(loc=\"lower right\")  \n",
    "plt.xlabel('False Positive Rate')\n",
    "plt.ylabel('True Positive Rate')\n",
    "plt.show()"
   ]
  },
  {
   "cell_type": "markdown",
   "metadata": {
    "deletable": true,
    "editable": true
   },
   "source": [
    "Looking at the ROC curve for Junior level salary range we can see the area under the curve has minimal false negatives and false positives for the KNN model. \n",
    "\n",
    "Looking at the ROC curve for the diversity classification we can see the area under the curve has minimal false negatives and false positives for the random forest model. "
   ]
  },
  {
   "cell_type": "markdown",
   "metadata": {
    "deletable": true,
    "editable": true
   },
   "source": [
    "# Modeling and Evaluation 6\n",
    "---"
   ]
  },
  {
   "cell_type": "markdown",
   "metadata": {
    "deletable": true,
    "editable": true
   },
   "source": [
    "<span style=\"color:red\">\n",
    "10 Points - Which attributes from your analysis are most important? Use proper methods discussed in class to evaluate the importance of different attributes. Discuss the results and hypothesize about why certain attributes are more important than others for a given classification task.\n",
    "</span>"
   ]
  },
  {
   "cell_type": "markdown",
   "metadata": {
    "deletable": true,
    "editable": true
   },
   "source": [
    "Based on the SVM weights output, we know that for the Junior Level Salary Range, the most important variables for analysis were Grade, Service, Last Promoted Date, Step_Emp, and Retdiscdte are the biggest predictors of the Junior Salary Range Level classification. It is interesting to note that in the logistic regression model, 'grade' was not a relevant variable. However, in the SVM model we can see that 'grade' has the largest weight. \n",
    "\n",
    "We suspect that this is because Logistic Regression aims to fit the data points along a continuous function so the 'grade' variable passes into the model with minimal significance. However, for Support Vector Machines, it is easy to separate the data into classes since we can assume most junior salary range level employees are probably also defined by their 'grade' level. We initially defined the categories as follows.\n",
    "\n",
    "'Entry_Level' : $0-50,000\n",
    "'Jr_Level' : $50,000-100,000\n",
    "'Mid_Level' : $100,000-135,000\n",
    "'Mgmt_Level' : $135,000-150,000\n",
    "\n",
    "We know from NASA documentation that pay level is defined by a combination of 'grade', 'step', and 'service'. Knowing this, it makes sense that the biggest predictors of Junior Salary Range are 'grade', 'step' and 'service'. \n",
    "\n",
    "Looking at the SVM weights output for the diversity classifier, most of the variables had minimal effect on the diversity classification. However, 'Service', 'EODyr' and 'Experience' carried the largest amount of weight with Service weighting in at -0.002. We noticed that these variables are all time based. We suspect this may have something to do with their negative correlation. "
   ]
  },
  {
   "cell_type": "markdown",
   "metadata": {
    "deletable": true,
    "editable": true
   },
   "source": [
    "# Deployment\n",
    "---\n"
   ]
  },
  {
   "cell_type": "markdown",
   "metadata": {
    "deletable": true,
    "editable": true
   },
   "source": [
    "<span style=\"color:red\">5 Points - How useful is your model for interested parties (i.e., the companies or organizations that might want to use it for prediction)? How would you measure the model's value if it was used by these parties? How would your deploy your model for interested parties? What other data should be collected? How often would the model need to be updated, etc.? </span>"
   ]
  },
  {
   "cell_type": "markdown",
   "metadata": {
    "deletable": true,
    "editable": true
   },
   "source": [
    "All Federal Agencies are required to use and store the data elements defined by Office of Personnel Management (OPM). The data elements are defined in the following OPM website: https://www.opm.gov/policy-data-oversight/pay-leave/salaries-wages/salary-tables/datadictionary.aspx\n",
    "\n",
    "We strongly recommend all Human Resources and Workforce Planning offices of the United States Government, especially the Office of Personnel Management (OPM) will benefit from the use of the models and analysis contained in the document. "
   ]
  },
  {
   "cell_type": "markdown",
   "metadata": {
    "deletable": true,
    "editable": true
   },
   "source": [
    "# Exceptional Work\n",
    "---"
   ]
  },
  {
   "cell_type": "markdown",
   "metadata": {
    "deletable": true,
    "editable": true
   },
   "source": [
    "Classification Using Gradient Boosting"
   ]
  },
  {
   "cell_type": "code",
   "execution_count": null,
   "metadata": {
    "collapsed": true,
    "deletable": true,
    "editable": true
   },
   "outputs": [],
   "source": [
    "from sklearn.ensemble  import GradientBoostingClassifier\n",
    "from sklearn import cross_validation, metrics\n",
    "from sklearn.grid_search import GridSearchCV\n",
    "import matplotlib.pyplot as plt\n",
    "%matplotlib inline\n",
    "from matplotlib.pylab import rcParams\n",
    "rcParams['figure.figsize'] = 12, 4"
   ]
  },
  {
   "cell_type": "code",
   "execution_count": null,
   "metadata": {
    "collapsed": false,
    "deletable": true,
    "editable": true
   },
   "outputs": [],
   "source": [
    "train = DF_NoT.copy()"
   ]
  },
  {
   "cell_type": "code",
   "execution_count": null,
   "metadata": {
    "collapsed": true,
    "deletable": true,
    "editable": true
   },
   "outputs": [],
   "source": [
    "target = 'rno_000001' #Binary for being White or not."
   ]
  },
  {
   "cell_type": "code",
   "execution_count": null,
   "metadata": {
    "collapsed": false,
    "deletable": true,
    "editable": true
   },
   "outputs": [],
   "source": [
    "train[target].value_counts()"
   ]
  },
  {
   "cell_type": "markdown",
   "metadata": {
    "deletable": true,
    "editable": true
   },
   "source": [
    "### Define a function for modeling and cross-validation\n",
    "This function will do the following:\n",
    "1. fit the model\n",
    "2. determine training accuracy\n",
    "3. determine training AUC\n",
    "4. determine testing AUC\n",
    "5. perform CV is performCV is True\n",
    "6. plot Feature Importance if printFeatureImportance is True\n",
    "\n",
    "Source code from https://github.com/aarshayj/Analytics_Vidhya/blob/master/Articles/Parameter_Tuning_GBM_with_Example/GBM%20model.ipynb"
   ]
  },
  {
   "cell_type": "code",
   "execution_count": null,
   "metadata": {
    "collapsed": true,
    "deletable": true,
    "editable": true
   },
   "outputs": [],
   "source": [
    "def modelfit(alg, dtrain, predictors, performCV=True, printFeatureImportance=True, cv_folds=5):\n",
    "    #Fit the algorithm on the data\n",
    "    alg.fit(dtrain[predictors], dtrain['rno_000001'])\n",
    "        \n",
    "    #Predict training set:\n",
    "    dtrain_predictions = alg.predict(dtrain[predictors])\n",
    "    dtrain_predprob = alg.predict_proba(dtrain[predictors])[:,1]\n",
    "    \n",
    "    #Perform cross-validation:\n",
    "    if performCV:\n",
    "        cv_score = cross_validation.cross_val_score(alg, dtrain[predictors], dtrain['rno_000001'], cv=cv_folds, scoring='roc_auc')\n",
    "    \n",
    "    #Print model report:\n",
    "    print (\"\\nModel Report\")\n",
    "    print (\"Accuracy : %.4g\" % metrics.accuracy_score(dtrain['rno_000001'].values, dtrain_predictions))\n",
    "    print (\"AUC Score (Train): %f\" % metrics.roc_auc_score(dtrain['rno_000001'], dtrain_predprob))\n",
    "    \n",
    "    if performCV:\n",
    "        print (\"CV Score : Mean - %.7g | Std - %.7g | Min - %.7g | Max - %.7g\" % (np.mean(cv_score),np.std(cv_score),np.min(cv_score),np.max(cv_score)))\n",
    "                \n",
    "    #Print Feature Importance:\n",
    "    if printFeatureImportance:\n",
    "        feat_imp = pd.Series(alg.feature_importances_, predictors).sort_values(ascending=False)\n",
    "        feat_imp.plot(kind='bar', title='Feature Importances')\n",
    "        plt.ylabel('Feature Importance Score')"
   ]
  },
  {
   "cell_type": "markdown",
   "metadata": {
    "deletable": true,
    "editable": true
   },
   "source": [
    "### Model Baseline"
   ]
  },
  {
   "cell_type": "code",
   "execution_count": null,
   "metadata": {
    "collapsed": false,
    "deletable": true,
    "editable": true
   },
   "outputs": [],
   "source": [
    "#Choose all predictors except the target variable, in this case 'rno_000001'\n",
    "predictors = [x for x in train.columns if x not in [target]]\n",
    "predictors"
   ]
  },
  {
   "cell_type": "code",
   "execution_count": null,
   "metadata": {
    "collapsed": false,
    "deletable": true,
    "editable": true
   },
   "outputs": [],
   "source": [
    "gbm0 = GradientBoostingClassifier(random_state=10)\n",
    "modelfit(gbm0, train, predictors)"
   ]
  },
  {
   "cell_type": "markdown",
   "metadata": {
    "deletable": true,
    "editable": true
   },
   "source": [
    "Describe what you see above ^"
   ]
  },
  {
   "cell_type": "markdown",
   "metadata": {
    "deletable": true,
    "editable": true
   },
   "source": [
    "### GBM Models:\n",
    "There 2 types of parameters here:\n",
    "    \n",
    "Tree-specific parameters\n",
    "   \n",
    "2. min_samples_split\n",
    "3. min_samples_leaf\n",
    "4. max_depth\n",
    "5. min_leaf_nodes\n",
    "6. max_features\n",
    "7. loss function\n",
    "   \n",
    "Boosting specific paramters\n",
    "   \n",
    "1. n_estimators\n",
    "2. learning_rate\n",
    "3. subsample\n"
   ]
  },
  {
   "cell_type": "markdown",
   "metadata": {
    "deletable": true,
    "editable": true
   },
   "source": [
    "### Tune the parameters"
   ]
  },
  {
   "cell_type": "code",
   "execution_count": null,
   "metadata": {
    "collapsed": false,
    "deletable": true,
    "editable": true
   },
   "outputs": [],
   "source": [
    "#Choose all predictors except target & IDcols\n",
    "predictors = [x for x in train.columns if x not in [target]]\n",
    "param_test1 = {'n_estimators':[600, 700, 800, 900, 1000]}\n",
    "gsearch1 = GridSearchCV(estimator = GradientBoostingClassifier(learning_rate=1, min_samples_split=500,min_samples_leaf=50,max_depth=8, max_features='sqrt', subsample=0.8,random_state=10), \n",
    "param_grid = param_test1, scoring='roc_auc',n_jobs=4,iid=False, cv=5)\n",
    "gsearch1.fit(train[predictors],train[target])"
   ]
  },
  {
   "cell_type": "code",
   "execution_count": null,
   "metadata": {
    "collapsed": false,
    "deletable": true,
    "editable": true
   },
   "outputs": [],
   "source": [
    "gsearch1.grid_scores_, gsearch1.best_params_, gsearch1.best_score_"
   ]
  },
  {
   "cell_type": "markdown",
   "metadata": {
    "collapsed": true,
    "deletable": true,
    "editable": true
   },
   "source": [
    "So we can see from above that we got 800 as the optimal estimators for the 1.2 learning rate. We started testing at a learning rate of 0.1 and the estimators were well above 1000. We used the following for learning rates and tested for optimal estimators:\n",
    "[0.1, 0.25, 0.5, 1.0, 1.2, 1.5, 2.0, 5.0]. After learning rate 1.5, the mean significantly drops to the mid 0.50's. We will proceed with 800 estimators and 1.2 learning rate.\n"
   ]
  },
  {
   "cell_type": "code",
   "execution_count": null,
   "metadata": {
    "collapsed": true,
    "deletable": true,
    "editable": true
   },
   "outputs": [],
   "source": [
    "modelfit(gsearch1.best_estimator_, train, test, predictors)"
   ]
  },
  {
   "cell_type": "code",
   "execution_count": null,
   "metadata": {
    "collapsed": true,
    "deletable": true,
    "editable": true
   },
   "outputs": [],
   "source": [
    "#Grid seach on subsample and max_features\n",
    "param_test2 = {'max_depth':[2, 4, 6, 8, 10], 'min_samples_split':[100, 200, 300]}\n",
    "gsearch2 = GridSearchCV(estimator = GradientBoostingClassifier(learning_rate=0.1, n_estimators=800,\n",
    "                                                max_features='sqrt', subsample=0.8, random_state=10), \n",
    "                       param_grid = param_test2, scoring='roc_auc',n_jobs=4,iid=False, cv=5)\n",
    "gsearch2.fit(train[predictors],train[target])"
   ]
  },
  {
   "cell_type": "code",
   "execution_count": null,
   "metadata": {
    "collapsed": true,
    "deletable": true,
    "editable": true
   },
   "outputs": [],
   "source": [
    "\n",
    "gsearch2.grid_scores_, gsearch2.best_params_, gsearch2.best_score_"
   ]
  },
  {
   "cell_type": "markdown",
   "metadata": {
    "collapsed": true,
    "deletable": true,
    "editable": true
   },
   "source": []
  },
  {
   "cell_type": "markdown",
   "metadata": {
    "deletable": true,
    "editable": true
   },
   "source": [
    "10 Points - You have free reign to provide additional analyses. One idea: grid search parameters in a parallelized fashion and visualize the performances across attributes. Which parameters are most significant for making a good model for each classification algorithm?"
   ]
  },
  {
   "cell_type": "markdown",
   "metadata": {
    "deletable": true,
    "editable": true
   },
   "source": [
    "# Appendix"
   ]
  },
  {
   "cell_type": "code",
   "execution_count": null,
   "metadata": {
    "collapsed": true,
    "deletable": true,
    "editable": true
   },
   "outputs": [],
   "source": []
  },
  {
   "cell_type": "code",
   "execution_count": null,
   "metadata": {
    "collapsed": true,
    "deletable": true,
    "editable": true
   },
   "outputs": [],
   "source": []
  },
  {
   "cell_type": "code",
   "execution_count": null,
   "metadata": {
    "collapsed": true,
    "deletable": true,
    "editable": true
   },
   "outputs": [],
   "source": []
  }
 ],
 "metadata": {
  "anaconda-cloud": {},
  "kernelspec": {
   "display_name": "Python [conda env:py3k]",
   "language": "python",
   "name": "conda-env-py3k-py"
  },
  "language_info": {
   "codemirror_mode": {
    "name": "ipython",
    "version": 3
   },
   "file_extension": ".py",
   "mimetype": "text/x-python",
   "name": "python",
   "nbconvert_exporter": "python",
   "pygments_lexer": "ipython3",
   "version": "3.6.0"
  }
 },
 "nbformat": 4,
 "nbformat_minor": 0
}
