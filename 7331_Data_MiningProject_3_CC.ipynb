{
 "cells": [
  {
   "cell_type": "markdown",
   "metadata": {
    "deletable": true,
    "editable": true
   },
   "source": [
    "# ![.right](https://lh6.ggpht.com/wUrTIhpHPVqw_VPCdhbSiF5TXlBlLyRHdH1gsII_y5NkgYKzbbj7cC2l6AGoVq-JN0U=w100 \"MSDS 7331 Data Mining - Project 1\")\n",
    "\n",
    "\n",
    "# Project 3: BEER ME! \n",
    "\n",
    "### a recommendation system for those who are thirsty but don't know it yet!\n",
    "\n",
    "---\n",
    "\n",
    "\n",
    "\n",
    "# Team Members\n",
    "\n",
    "- Chris Woodard\n",
    "- Claire Chu\n",
    "- Nathan Mowat\n",
    "- Bill Kerneckel\n",
    "\n",
    "---\n",
    "\n",
    "\n",
    "# Rubic\n",
    "\n",
    "- [Business Understanding](#bu) \n",
    "\n",
    "- [Data Understanding 1](#du1)\n",
    "\n",
    "- [Data Understanding 2](#du2)\n",
    "\n",
    "- [Modeling and Evaluation 1](#me1)\n",
    "\n",
    "- [Modeling and Evaluation 2](#me2)\n",
    "\n",
    "- [Modeling and Evaluation 3](#me3)\n",
    "\n",
    "- [Modeling and Evaluation 4](#me4)\n",
    "\n",
    "- [Deployment](#d)\n",
    "\n",
    "- [Exceptional Work](#ew)\n",
    "\n",
    "- [Appendix](#a)\n",
    "\n",
    "<hr>\n",
    "\n"
   ]
  },
  {
   "cell_type": "markdown",
   "metadata": {
    "deletable": true,
    "editable": true
   },
   "source": [
    "# OBJECTIVE: \n",
    "We found a comprehensive list of beer reviews from  http://Beeradvocate.com and http://ratebeer.com. We want to use these reviews to generate a recommendation system that will suggest potential beers that a user might like based on their previous beer ratings and reviews:\n",
    "- Establish a solid distance metric to determine the similiarity amongst different users\n",
    "- Utilize this metric to recommend other beers that a user might like\n",
    "\n",
    "We hope that the collaborative filtering on a recommendation system completed in this notebook will help make beer drinkers thirsty for beers they have not tried yet.\n",
    "\n",
    "source: https://data.world/socialmediadata/beeradvocate\n",
    "\n",
    "source: http://nbviewer.jupyter.org/gist/glamp/20a18d52c539b87de2af\n",
    "\n",
    "source: https://snap.stanford.edu/data/web-BeerAdvocate.html\n",
    "\n",
    "source: https://github.com/yhat/Beer-Rec-Flask/blob/master/README.md"
   ]
  },
  {
   "cell_type": "markdown",
   "metadata": {
    "collapsed": false,
    "deletable": true,
    "editable": true
   },
   "source": [
    "# <a name=\"bu\"></a>Business Understanding\n",
    "\n",
    "---"
   ]
  },
  {
   "cell_type": "markdown",
   "metadata": {
    "deletable": true,
    "editable": true
   },
   "source": [
    "<span style=\"color:red\">10 Points - Describe the purpose of the data set you selected (i.e., why was this data collected in the first place?). How will you measure the effectiveness of a good algorithm? Why does your chosen validation method make sense for this specific dataset and the stakeholders needs?</span>"
   ]
  },
  {
   "cell_type": "markdown",
   "metadata": {
    "deletable": true,
    "editable": true
   },
   "source": [
    "This data was collected from http://Beeradvocate.com and http://ratebeer.com from January 1998 - November 2011. Both websites are used by beer drinkers to not only stay informed about the latest in beer news, but to also track and review the beers each user has tried. As an avid beer drinker myself, these websites are useful to me in that they help me avoid re-ordering beers i've previously tried and did not like. This helps me save money and stomach space when i'm ordering drinks at the bar. The overall review rating consists of a 1-5 (1, being the worst, and five being the best) ranking that is comprised of aroma, appearance, mouthfeel, and taste ratings (also 1-5).\n",
    "\n",
    "The dataset we are analyzing has a total of 13 columns including: \n",
    "\n",
    "|     Column Name    | Column Type | Description             | Example                     |\n",
    "|:------------------:|:-----------:|:-----------------------:|:---------------------------:|\n",
    "| brewery_id         | float8      | Brewery Id                   | float8             |\n",
    "| brewery_name       | varchar     | Brewery Name                 | Red Moon           |\n",
    "| review_time        | numeric     | Review Time                  | 1293735206         |\n",
    "| review_overall     | float8      | Overall Review Rating        | 3                  |\n",
    "| review_aroma       | float8      | Review of Aroma              | 2.5                |\n",
    "| review_appearance  | float8      | Review of Appearance         | 3                  |\n",
    "| review_profilename | varchar     | Username of Reviewer         | stcules            |\n",
    "| beer_style         | varchar     | Beer Style                   | English Strong Ale |\n",
    "| review_palate      | float8      | Review Palate                | 3                  |\n",
    "| review_taste       | float8      | Review Taste                 | 3                  |\n",
    "| beer_name          | varchar     | Beer Name                    | Red Moon           |\n",
    "| beer_abv           | float8      | Alcohol Percentage by Volume | 6.2                |\n",
    "| beer_beerid        | flaot8      | Beer Id                      | 48213              |\n",
    "\n",
    "\n",
    "The best case scenario will produce a model that is able to suggest a beer that a user will drink and rate at least a 4 or above in their overall rating (we chose 4 because this is the median review rating). \n",
    "\n",
    "Statistically, we will compare amongst the models RMSE and Precision/recall metrics, choosing the model with the lowest scores for both. A good algorithm will have a low RMSE meaning that the predicted rating is very close to the actual rating for each beer. A good algorithem will also have a low average precision/recall score meaning that when the model predicted a positive rating, the actual rating was positive almost all of the time and that when the model predicted a negative rating, the actual rating was negative almost all of the time."
   ]
  },
  {
   "cell_type": "markdown",
   "metadata": {
    "deletable": true,
    "editable": true
   },
   "source": [
    "# <a name=\"du1\"></a> Data Understanding\n",
    "\n",
    "---"
   ]
  },
  {
   "cell_type": "markdown",
   "metadata": {
    "deletable": true,
    "editable": true
   },
   "source": [
    "<span style=\"color:red\"> 10 Points - Describe the meaning and type of data (scale, values, etc.) for each attribute in the data file. Verify data quality: Are there missing values? Duplicate data? Outliers? Are those mistakes? How do you deal with these problems?</span>"
   ]
  },
  {
   "cell_type": "markdown",
   "metadata": {
    "deletable": true,
    "editable": true
   },
   "source": [
    "Insert content here!......."
   ]
  },
  {
   "cell_type": "code",
   "execution_count": 85,
   "metadata": {
    "collapsed": false,
    "deletable": true,
    "editable": true
   },
   "outputs": [],
   "source": [
    "def warn(*args, **kwargs):\n",
    "    pass\n",
    "import warnings\n",
    "warnings.warn = warn\n",
    "#load python libaries\n",
    "import numpy as np\n",
    "import pandas as pd\n",
    "from pandas.tools.plotting import scatter_matrix\n",
    "import matplotlib.pyplot as pl\n",
    "import seaborn as sns\n",
    "import glob\n",
    "import sys\n",
    "import os\n",
    "import warnings\n",
    "import ggplot\n",
    "import datetime\n",
    "import time\n",
    "from datetime import date"
   ]
  },
  {
   "cell_type": "code",
   "execution_count": 2,
   "metadata": {
    "collapsed": true,
    "deletable": true,
    "editable": true
   },
   "outputs": [],
   "source": [
    "%matplotlib inline"
   ]
  },
  {
   "cell_type": "code",
   "execution_count": 3,
   "metadata": {
    "collapsed": false,
    "deletable": true,
    "editable": true
   },
   "outputs": [],
   "source": [
    "#load data file\n",
    "beerDF = pd.read_csv('beer_reviews.csv') \n",
    "\n",
    "#you'll have to change the file path to your working directory\n"
   ]
  },
  {
   "cell_type": "code",
   "execution_count": 5,
   "metadata": {
    "collapsed": false,
    "deletable": true,
    "editable": true
   },
   "outputs": [
    {
     "data": {
      "text/html": [
       "<div>\n",
       "<table border=\"1\" class=\"dataframe\">\n",
       "  <thead>\n",
       "    <tr style=\"text-align: right;\">\n",
       "      <th></th>\n",
       "      <th>brewery_id</th>\n",
       "      <th>brewery_name</th>\n",
       "      <th>review_time</th>\n",
       "      <th>review_overall</th>\n",
       "      <th>review_aroma</th>\n",
       "      <th>review_appearance</th>\n",
       "      <th>review_profilename</th>\n",
       "      <th>beer_style</th>\n",
       "      <th>review_palate</th>\n",
       "      <th>review_taste</th>\n",
       "      <th>beer_name</th>\n",
       "      <th>beer_abv</th>\n",
       "      <th>beer_beerid</th>\n",
       "    </tr>\n",
       "  </thead>\n",
       "  <tbody>\n",
       "    <tr>\n",
       "      <th>0</th>\n",
       "      <td>10325</td>\n",
       "      <td>Vecchio Birraio</td>\n",
       "      <td>1234817823</td>\n",
       "      <td>1.5</td>\n",
       "      <td>2.0</td>\n",
       "      <td>2.5</td>\n",
       "      <td>stcules</td>\n",
       "      <td>Hefeweizen</td>\n",
       "      <td>1.5</td>\n",
       "      <td>1.5</td>\n",
       "      <td>Sausa Weizen</td>\n",
       "      <td>5.0</td>\n",
       "      <td>47986</td>\n",
       "    </tr>\n",
       "    <tr>\n",
       "      <th>1</th>\n",
       "      <td>10325</td>\n",
       "      <td>Vecchio Birraio</td>\n",
       "      <td>1235915097</td>\n",
       "      <td>3.0</td>\n",
       "      <td>2.5</td>\n",
       "      <td>3.0</td>\n",
       "      <td>stcules</td>\n",
       "      <td>English Strong Ale</td>\n",
       "      <td>3.0</td>\n",
       "      <td>3.0</td>\n",
       "      <td>Red Moon</td>\n",
       "      <td>6.2</td>\n",
       "      <td>48213</td>\n",
       "    </tr>\n",
       "    <tr>\n",
       "      <th>2</th>\n",
       "      <td>10325</td>\n",
       "      <td>Vecchio Birraio</td>\n",
       "      <td>1235916604</td>\n",
       "      <td>3.0</td>\n",
       "      <td>2.5</td>\n",
       "      <td>3.0</td>\n",
       "      <td>stcules</td>\n",
       "      <td>Foreign / Export Stout</td>\n",
       "      <td>3.0</td>\n",
       "      <td>3.0</td>\n",
       "      <td>Black Horse Black Beer</td>\n",
       "      <td>6.5</td>\n",
       "      <td>48215</td>\n",
       "    </tr>\n",
       "    <tr>\n",
       "      <th>3</th>\n",
       "      <td>10325</td>\n",
       "      <td>Vecchio Birraio</td>\n",
       "      <td>1234725145</td>\n",
       "      <td>3.0</td>\n",
       "      <td>3.0</td>\n",
       "      <td>3.5</td>\n",
       "      <td>stcules</td>\n",
       "      <td>German Pilsener</td>\n",
       "      <td>2.5</td>\n",
       "      <td>3.0</td>\n",
       "      <td>Sausa Pils</td>\n",
       "      <td>5.0</td>\n",
       "      <td>47969</td>\n",
       "    </tr>\n",
       "    <tr>\n",
       "      <th>4</th>\n",
       "      <td>1075</td>\n",
       "      <td>Caldera Brewing Company</td>\n",
       "      <td>1293735206</td>\n",
       "      <td>4.0</td>\n",
       "      <td>4.5</td>\n",
       "      <td>4.0</td>\n",
       "      <td>johnmichaelsen</td>\n",
       "      <td>American Double / Imperial IPA</td>\n",
       "      <td>4.0</td>\n",
       "      <td>4.5</td>\n",
       "      <td>Cauldron DIPA</td>\n",
       "      <td>7.7</td>\n",
       "      <td>64883</td>\n",
       "    </tr>\n",
       "  </tbody>\n",
       "</table>\n",
       "</div>"
      ],
      "text/plain": [
       "   brewery_id             brewery_name  review_time  review_overall  \\\n",
       "0       10325          Vecchio Birraio   1234817823             1.5   \n",
       "1       10325          Vecchio Birraio   1235915097             3.0   \n",
       "2       10325          Vecchio Birraio   1235916604             3.0   \n",
       "3       10325          Vecchio Birraio   1234725145             3.0   \n",
       "4        1075  Caldera Brewing Company   1293735206             4.0   \n",
       "\n",
       "   review_aroma  review_appearance review_profilename  \\\n",
       "0           2.0                2.5            stcules   \n",
       "1           2.5                3.0            stcules   \n",
       "2           2.5                3.0            stcules   \n",
       "3           3.0                3.5            stcules   \n",
       "4           4.5                4.0     johnmichaelsen   \n",
       "\n",
       "                       beer_style  review_palate  review_taste  \\\n",
       "0                      Hefeweizen            1.5           1.5   \n",
       "1              English Strong Ale            3.0           3.0   \n",
       "2          Foreign / Export Stout            3.0           3.0   \n",
       "3                 German Pilsener            2.5           3.0   \n",
       "4  American Double / Imperial IPA            4.0           4.5   \n",
       "\n",
       "                beer_name  beer_abv  beer_beerid  \n",
       "0            Sausa Weizen       5.0        47986  \n",
       "1                Red Moon       6.2        48213  \n",
       "2  Black Horse Black Beer       6.5        48215  \n",
       "3              Sausa Pils       5.0        47969  \n",
       "4           Cauldron DIPA       7.7        64883  "
      ]
     },
     "execution_count": 5,
     "metadata": {},
     "output_type": "execute_result"
    }
   ],
   "source": [
    "beerDF.head()"
   ]
  },
  {
   "cell_type": "code",
   "execution_count": 6,
   "metadata": {
    "collapsed": false,
    "deletable": true,
    "editable": true
   },
   "outputs": [
    {
     "data": {
      "text/html": [
       "<div>\n",
       "<table border=\"1\" class=\"dataframe\">\n",
       "  <thead>\n",
       "    <tr style=\"text-align: right;\">\n",
       "      <th></th>\n",
       "      <th>count</th>\n",
       "      <th>mean</th>\n",
       "      <th>std</th>\n",
       "      <th>min</th>\n",
       "      <th>25%</th>\n",
       "      <th>50%</th>\n",
       "      <th>75%</th>\n",
       "      <th>max</th>\n",
       "    </tr>\n",
       "  </thead>\n",
       "  <tbody>\n",
       "    <tr>\n",
       "      <th>brewery_id</th>\n",
       "      <td>1586614.0</td>\n",
       "      <td>3.130099e+03</td>\n",
       "      <td>5.578104e+03</td>\n",
       "      <td>1.000000e+00</td>\n",
       "      <td>1.430000e+02</td>\n",
       "      <td>4.290000e+02</td>\n",
       "      <td>2.372000e+03</td>\n",
       "      <td>2.800300e+04</td>\n",
       "    </tr>\n",
       "    <tr>\n",
       "      <th>review_time</th>\n",
       "      <td>1586614.0</td>\n",
       "      <td>1.224089e+09</td>\n",
       "      <td>7.654427e+07</td>\n",
       "      <td>8.406720e+08</td>\n",
       "      <td>1.173224e+09</td>\n",
       "      <td>1.239203e+09</td>\n",
       "      <td>1.288568e+09</td>\n",
       "      <td>1.326285e+09</td>\n",
       "    </tr>\n",
       "    <tr>\n",
       "      <th>review_overall</th>\n",
       "      <td>1586614.0</td>\n",
       "      <td>3.815581e+00</td>\n",
       "      <td>7.206219e-01</td>\n",
       "      <td>0.000000e+00</td>\n",
       "      <td>3.500000e+00</td>\n",
       "      <td>4.000000e+00</td>\n",
       "      <td>4.500000e+00</td>\n",
       "      <td>5.000000e+00</td>\n",
       "    </tr>\n",
       "    <tr>\n",
       "      <th>review_aroma</th>\n",
       "      <td>1586614.0</td>\n",
       "      <td>3.735636e+00</td>\n",
       "      <td>6.976167e-01</td>\n",
       "      <td>1.000000e+00</td>\n",
       "      <td>3.500000e+00</td>\n",
       "      <td>4.000000e+00</td>\n",
       "      <td>4.000000e+00</td>\n",
       "      <td>5.000000e+00</td>\n",
       "    </tr>\n",
       "    <tr>\n",
       "      <th>review_appearance</th>\n",
       "      <td>1586614.0</td>\n",
       "      <td>3.841642e+00</td>\n",
       "      <td>6.160928e-01</td>\n",
       "      <td>0.000000e+00</td>\n",
       "      <td>3.500000e+00</td>\n",
       "      <td>4.000000e+00</td>\n",
       "      <td>4.000000e+00</td>\n",
       "      <td>5.000000e+00</td>\n",
       "    </tr>\n",
       "    <tr>\n",
       "      <th>review_palate</th>\n",
       "      <td>1586614.0</td>\n",
       "      <td>3.743701e+00</td>\n",
       "      <td>6.822184e-01</td>\n",
       "      <td>1.000000e+00</td>\n",
       "      <td>3.500000e+00</td>\n",
       "      <td>4.000000e+00</td>\n",
       "      <td>4.000000e+00</td>\n",
       "      <td>5.000000e+00</td>\n",
       "    </tr>\n",
       "    <tr>\n",
       "      <th>review_taste</th>\n",
       "      <td>1586614.0</td>\n",
       "      <td>3.792860e+00</td>\n",
       "      <td>7.319696e-01</td>\n",
       "      <td>1.000000e+00</td>\n",
       "      <td>3.500000e+00</td>\n",
       "      <td>4.000000e+00</td>\n",
       "      <td>4.500000e+00</td>\n",
       "      <td>5.000000e+00</td>\n",
       "    </tr>\n",
       "    <tr>\n",
       "      <th>beer_abv</th>\n",
       "      <td>1518829.0</td>\n",
       "      <td>7.042387e+00</td>\n",
       "      <td>2.322526e+00</td>\n",
       "      <td>1.000000e-02</td>\n",
       "      <td>5.200000e+00</td>\n",
       "      <td>6.500000e+00</td>\n",
       "      <td>8.500000e+00</td>\n",
       "      <td>5.770000e+01</td>\n",
       "    </tr>\n",
       "    <tr>\n",
       "      <th>beer_beerid</th>\n",
       "      <td>1586614.0</td>\n",
       "      <td>2.171279e+04</td>\n",
       "      <td>2.181834e+04</td>\n",
       "      <td>3.000000e+00</td>\n",
       "      <td>1.717000e+03</td>\n",
       "      <td>1.390600e+04</td>\n",
       "      <td>3.944100e+04</td>\n",
       "      <td>7.731700e+04</td>\n",
       "    </tr>\n",
       "  </tbody>\n",
       "</table>\n",
       "</div>"
      ],
      "text/plain": [
       "                       count          mean           std           min  \\\n",
       "brewery_id         1586614.0  3.130099e+03  5.578104e+03  1.000000e+00   \n",
       "review_time        1586614.0  1.224089e+09  7.654427e+07  8.406720e+08   \n",
       "review_overall     1586614.0  3.815581e+00  7.206219e-01  0.000000e+00   \n",
       "review_aroma       1586614.0  3.735636e+00  6.976167e-01  1.000000e+00   \n",
       "review_appearance  1586614.0  3.841642e+00  6.160928e-01  0.000000e+00   \n",
       "review_palate      1586614.0  3.743701e+00  6.822184e-01  1.000000e+00   \n",
       "review_taste       1586614.0  3.792860e+00  7.319696e-01  1.000000e+00   \n",
       "beer_abv           1518829.0  7.042387e+00  2.322526e+00  1.000000e-02   \n",
       "beer_beerid        1586614.0  2.171279e+04  2.181834e+04  3.000000e+00   \n",
       "\n",
       "                            25%           50%           75%           max  \n",
       "brewery_id         1.430000e+02  4.290000e+02  2.372000e+03  2.800300e+04  \n",
       "review_time        1.173224e+09  1.239203e+09  1.288568e+09  1.326285e+09  \n",
       "review_overall     3.500000e+00  4.000000e+00  4.500000e+00  5.000000e+00  \n",
       "review_aroma       3.500000e+00  4.000000e+00  4.000000e+00  5.000000e+00  \n",
       "review_appearance  3.500000e+00  4.000000e+00  4.000000e+00  5.000000e+00  \n",
       "review_palate      3.500000e+00  4.000000e+00  4.000000e+00  5.000000e+00  \n",
       "review_taste       3.500000e+00  4.000000e+00  4.500000e+00  5.000000e+00  \n",
       "beer_abv           5.200000e+00  6.500000e+00  8.500000e+00  5.770000e+01  \n",
       "beer_beerid        1.717000e+03  1.390600e+04  3.944100e+04  7.731700e+04  "
      ]
     },
     "execution_count": 6,
     "metadata": {},
     "output_type": "execute_result"
    }
   ],
   "source": [
    "summary = beerDF.describe()\n",
    "summary = summary.transpose()\n",
    "summary"
   ]
  },
  {
   "cell_type": "code",
   "execution_count": 7,
   "metadata": {
    "collapsed": false,
    "deletable": true,
    "editable": true
   },
   "outputs": [
    {
     "data": {
      "text/plain": [
       "count           1586614\n",
       "unique            56857\n",
       "top       90 Minute IPA\n",
       "freq               3290\n",
       "Name: beer_name, dtype: object"
      ]
     },
     "execution_count": 7,
     "metadata": {},
     "output_type": "execute_result"
    }
   ],
   "source": [
    "#what is the most popular beer?\n",
    "beerDF.beer_name.describe()"
   ]
  },
  {
   "cell_type": "code",
   "execution_count": 75,
   "metadata": {
    "collapsed": false,
    "deletable": true,
    "editable": true
   },
   "outputs": [
    {
     "data": {
      "text/plain": [
       "[('90 Minute IPA', 3290),\n",
       " ('India Pale Ale', 3130),\n",
       " ('Old Rasputin Russian Imperial Stout', 3111),\n",
       " ('Sierra Nevada Celebration Ale', 3000),\n",
       " ('Two Hearted Ale', 2728),\n",
       " ('Stone Ruination IPA', 2704),\n",
       " ('Arrogant Bastard Ale', 2704),\n",
       " ('Sierra Nevada Pale Ale', 2587),\n",
       " ('Stone IPA (India Pale Ale)', 2575),\n",
       " ('Pliny The Elder', 2527)]"
      ]
     },
     "execution_count": 75,
     "metadata": {},
     "output_type": "execute_result"
    }
   ],
   "source": [
    "#what are the top 10 most popular beers?\n",
    "from collections import Counter\n",
    "topbeer = Counter(beerDF.beer_name)\n",
    "topbeer.most_common(10)"
   ]
  },
  {
   "cell_type": "code",
   "execution_count": 157,
   "metadata": {
    "collapsed": false,
    "deletable": true,
    "editable": true
   },
   "outputs": [
    {
     "data": {
      "text/plain": [
       "[('northyorksammy', 5817),\n",
       " ('BuckeyeNation', 4661),\n",
       " ('mikesgroove', 4617),\n",
       " ('Thorpe429', 3518),\n",
       " ('womencantsail', 3497),\n",
       " ('NeroFiddled', 3488),\n",
       " ('ChainGangGuy', 3471),\n",
       " ('brentk56', 3357),\n",
       " ('Phyl21ca', 3179),\n",
       " ('WesWes', 3168),\n",
       " ('oberon', 3128),\n",
       " ('feloniousmonk', 3080),\n",
       " ('akorsak', 3010),\n",
       " ('BEERchitect', 2946),\n",
       " ('Gueuzedude', 2938),\n",
       " ('jwc215', 2735),\n",
       " ('russpowell', 2696),\n",
       " ('TheManiacalOne', 2659),\n",
       " ('Gavage', 2630),\n",
       " ('zeff80', 2622),\n",
       " ('Mora2000', 2594),\n",
       " ('tempest', 2559),\n",
       " ('Wasatch', 2541),\n",
       " ('WVbeergeek', 2524),\n",
       " ('drabmuh', 2481),\n",
       " ('Halcyondays', 2457),\n",
       " ('weeare138', 2452),\n",
       " ('glid02', 2450),\n",
       " ('Viggo', 2433),\n",
       " ('ppoitras', 2426),\n",
       " ('jdhilt', 2422),\n",
       " ('barleywinefiend', 2396),\n",
       " ('Bighuge', 2376),\n",
       " ('Jason', 2349),\n",
       " ('wl0307', 2315),\n",
       " ('Gusler', 2297),\n",
       " ('emerge077', 2250),\n",
       " ('Billolick', 2238),\n",
       " ('smcolw', 2224),\n",
       " ('rhoadsrage', 2217),\n",
       " ('DrJay', 2202),\n",
       " ('Zorro', 2198),\n",
       " ('TMoney2591', 2169),\n",
       " ('MasterSki', 2156),\n",
       " ('Kegatron', 2150),\n",
       " ('Knapp85', 2143),\n",
       " ('Dogbrick', 2138),\n",
       " ('johnmichaelsen', 2111),\n",
       " ('tavernjef', 2041),\n",
       " ('Georgiabeer', 2035),\n",
       " ('plaid75', 1998),\n",
       " ('Derek', 1961),\n",
       " ('RoyalT', 1960),\n",
       " ('biegaman', 1951),\n",
       " ('beerthulhu', 1950),\n",
       " ('woodychandler', 1946),\n",
       " ('jpm30', 1930),\n",
       " ('TheLongBeachBum', 1927),\n",
       " ('jrallen34', 1906),\n",
       " ('biboergosum', 1906),\n",
       " ('francisweizen', 1903),\n",
       " ('RblWthACoz', 1893),\n",
       " ('cokes', 1859),\n",
       " ('gford217', 1841),\n",
       " ('corby112', 1837),\n",
       " ('DoubleJ', 1827),\n",
       " ('ZAP', 1822),\n",
       " ('mothman', 1814),\n",
       " ('TurdFurgison', 1810),\n",
       " ('tpd975', 1807),\n",
       " ('Beerandraiderfan', 1794),\n",
       " ('LilBeerDoctor', 1789),\n",
       " ('Slatetank', 1788),\n",
       " ('stcules', 1788),\n",
       " ('RedDiamond', 1785),\n",
       " ('mdfb79', 1780),\n",
       " ('ccrida', 1772),\n",
       " ('metter98', 1740),\n",
       " ('hopdog', 1733),\n",
       " ('Brad007', 1731),\n",
       " ('ffejherb', 1716),\n",
       " ('scruffwhor', 1715),\n",
       " ('GClarkage', 1715),\n",
       " ('HopHead84', 1712),\n",
       " ('Bitterbill', 1699),\n",
       " ('largadeer', 1692),\n",
       " ('Cyberkedi', 1688),\n",
       " ('Deuane', 1686),\n",
       " ('Brent', 1677),\n",
       " ('lacqueredmouse', 1675),\n",
       " ('tgbljb', 1661),\n",
       " ('JohnGalt1', 1660),\n",
       " ('Vancer', 1642),\n",
       " ('AgentZero', 1640),\n",
       " ('merlin48', 1638),\n",
       " ('dirtylou', 1625),\n",
       " ('dyan', 1612),\n",
       " ('jlindros', 1609),\n",
       " ('blackie', 1601),\n",
       " ('bark', 1596)]"
      ]
     },
     "execution_count": 157,
     "metadata": {},
     "output_type": "execute_result"
    }
   ],
   "source": [
    "#which reviewer has the most reviews?\n",
    "\n",
    "toprevs = Counter(beerDF.review_profilename)\n",
    "toprevs.most_common(100)"
   ]
  },
  {
   "cell_type": "code",
   "execution_count": 55,
   "metadata": {
    "collapsed": false,
    "deletable": true,
    "editable": true
   },
   "outputs": [
    {
     "name": "stdout",
     "output_type": "stream",
     "text": [
      "<class 'pandas.core.frame.DataFrame'>\n",
      "RangeIndex: 1586614 entries, 0 to 1586613\n",
      "Data columns (total 13 columns):\n",
      "brewery_id            1586614 non-null int64\n",
      "brewery_name          1586599 non-null object\n",
      "review_time           1586614 non-null int64\n",
      "review_overall        1586614 non-null float64\n",
      "review_aroma          1586614 non-null float64\n",
      "review_appearance     1586614 non-null float64\n",
      "review_profilename    1586266 non-null object\n",
      "beer_style            1586614 non-null object\n",
      "review_palate         1586614 non-null float64\n",
      "review_taste          1586614 non-null float64\n",
      "beer_name             1586614 non-null object\n",
      "beer_abv              1518829 non-null float64\n",
      "beer_beerid           1586614 non-null int64\n",
      "dtypes: float64(6), int64(3), object(4)\n",
      "memory usage: 157.4+ MB\n"
     ]
    }
   ],
   "source": [
    "#investigate any NA\n",
    "beerDF.info()"
   ]
  },
  {
   "cell_type": "code",
   "execution_count": 64,
   "metadata": {
    "collapsed": false,
    "deletable": true,
    "editable": true
   },
   "outputs": [
    {
     "data": {
      "text/plain": [
       "15"
      ]
     },
     "execution_count": 64,
     "metadata": {},
     "output_type": "execute_result"
    }
   ],
   "source": [
    "beerDF.brewery_name.isnull().sum().sum()"
   ]
  },
  {
   "cell_type": "code",
   "execution_count": 68,
   "metadata": {
    "collapsed": false,
    "deletable": true,
    "editable": true
   },
   "outputs": [
    {
     "data": {
      "text/plain": [
       "348"
      ]
     },
     "execution_count": 68,
     "metadata": {},
     "output_type": "execute_result"
    }
   ],
   "source": [
    "beerDF.review_profilename.isnull().sum().sum()"
   ]
  },
  {
   "cell_type": "code",
   "execution_count": 67,
   "metadata": {
    "collapsed": false,
    "deletable": true,
    "editable": true
   },
   "outputs": [
    {
     "data": {
      "text/plain": [
       "67785"
      ]
     },
     "execution_count": 67,
     "metadata": {},
     "output_type": "execute_result"
    }
   ],
   "source": [
    "beerDF.beer_abv.isnull().sum().sum()"
   ]
  },
  {
   "cell_type": "markdown",
   "metadata": {
    "deletable": true,
    "editable": true
   },
   "source": [
    "The majority of our null values are in the \"beer_abv\" column, let's drop this column. If this recommendation system were to go into full scale production, we could replace the null values with the median abv of each style of beer. But, since we are limited in time and computing power, we will delete this column for now.\n",
    "\n",
    "As our next highest amount of null values comes from the \"review_profilename\" column, we will need to delete the rows with no profilename. Filling all null values with the same entry would result in a faulty statistic result since each null entry was probably entered by different users. Since we want to try collaborative filtering based on user preferences, we will assume that a \"null\" entry in the profilename space is not useful. It seems like our best bet would be to delete these entries.\n",
    "\n",
    "The column with the lowest number of null values is the \"brewery_name\" column. "
   ]
  },
  {
   "cell_type": "code",
   "execution_count": 70,
   "metadata": {
    "collapsed": false,
    "deletable": true,
    "editable": true
   },
   "outputs": [
    {
     "name": "stdout",
     "output_type": "stream",
     "text": [
      "<class 'pandas.core.frame.DataFrame'>\n",
      "RangeIndex: 1586614 entries, 0 to 1586613\n",
      "Data columns (total 12 columns):\n",
      "brewery_id            1586614 non-null int64\n",
      "brewery_name          1586599 non-null object\n",
      "review_time           1586614 non-null int64\n",
      "review_overall        1586614 non-null float64\n",
      "review_aroma          1586614 non-null float64\n",
      "review_appearance     1586614 non-null float64\n",
      "review_profilename    1586266 non-null object\n",
      "beer_style            1586614 non-null object\n",
      "review_palate         1586614 non-null float64\n",
      "review_taste          1586614 non-null float64\n",
      "beer_name             1586614 non-null object\n",
      "beer_beerid           1586614 non-null int64\n",
      "dtypes: float64(5), int64(3), object(4)\n",
      "memory usage: 145.3+ MB\n"
     ]
    }
   ],
   "source": [
    "beerDF.drop('beer_abv', axis=1, inplace=True)\n",
    "beerDF.info()"
   ]
  },
  {
   "cell_type": "code",
   "execution_count": 71,
   "metadata": {
    "collapsed": false,
    "deletable": true,
    "editable": true
   },
   "outputs": [
    {
     "name": "stdout",
     "output_type": "stream",
     "text": [
      "<class 'pandas.core.frame.DataFrame'>\n",
      "Int64Index: 1586266 entries, 0 to 1586613\n",
      "Data columns (total 12 columns):\n",
      "brewery_id            1586266 non-null int64\n",
      "brewery_name          1586251 non-null object\n",
      "review_time           1586266 non-null int64\n",
      "review_overall        1586266 non-null float64\n",
      "review_aroma          1586266 non-null float64\n",
      "review_appearance     1586266 non-null float64\n",
      "review_profilename    1586266 non-null object\n",
      "beer_style            1586266 non-null object\n",
      "review_palate         1586266 non-null float64\n",
      "review_taste          1586266 non-null float64\n",
      "beer_name             1586266 non-null object\n",
      "beer_beerid           1586266 non-null int64\n",
      "dtypes: float64(5), int64(3), object(4)\n",
      "memory usage: 157.3+ MB\n"
     ]
    }
   ],
   "source": [
    "beerDF2 = beerDF[beerDF.review_profilename.notnull()]\n",
    "beerDF2.info()"
   ]
  },
  {
   "cell_type": "code",
   "execution_count": 72,
   "metadata": {
    "collapsed": false,
    "deletable": true,
    "editable": true
   },
   "outputs": [
    {
     "name": "stdout",
     "output_type": "stream",
     "text": [
      "<class 'pandas.core.frame.DataFrame'>\n",
      "Int64Index: 1586251 entries, 0 to 1586613\n",
      "Data columns (total 12 columns):\n",
      "brewery_id            1586251 non-null int64\n",
      "brewery_name          1586251 non-null object\n",
      "review_time           1586251 non-null int64\n",
      "review_overall        1586251 non-null float64\n",
      "review_aroma          1586251 non-null float64\n",
      "review_appearance     1586251 non-null float64\n",
      "review_profilename    1586251 non-null object\n",
      "beer_style            1586251 non-null object\n",
      "review_palate         1586251 non-null float64\n",
      "review_taste          1586251 non-null float64\n",
      "beer_name             1586251 non-null object\n",
      "beer_beerid           1586251 non-null int64\n",
      "dtypes: float64(5), int64(3), object(4)\n",
      "memory usage: 157.3+ MB\n"
     ]
    }
   ],
   "source": [
    "beerDF3 = beerDF2[beerDF2.brewery_name.notnull()]\n",
    "beerDF3.info()"
   ]
  },
  {
   "cell_type": "code",
   "execution_count": 73,
   "metadata": {
    "collapsed": false,
    "deletable": true,
    "editable": true
   },
   "outputs": [
    {
     "data": {
      "text/html": [
       "<div>\n",
       "<table border=\"1\" class=\"dataframe\">\n",
       "  <thead>\n",
       "    <tr style=\"text-align: right;\">\n",
       "      <th></th>\n",
       "      <th>count</th>\n",
       "      <th>mean</th>\n",
       "      <th>std</th>\n",
       "      <th>min</th>\n",
       "      <th>25%</th>\n",
       "      <th>50%</th>\n",
       "      <th>75%</th>\n",
       "      <th>max</th>\n",
       "    </tr>\n",
       "  </thead>\n",
       "  <tbody>\n",
       "    <tr>\n",
       "      <th>brewery_id</th>\n",
       "      <td>1586251.0</td>\n",
       "      <td>3.130381e+03</td>\n",
       "      <td>5.578478e+03</td>\n",
       "      <td>1.0</td>\n",
       "      <td>1.430000e+02</td>\n",
       "      <td>4.290000e+02</td>\n",
       "      <td>2.372000e+03</td>\n",
       "      <td>2.800300e+04</td>\n",
       "    </tr>\n",
       "    <tr>\n",
       "      <th>review_time</th>\n",
       "      <td>1586251.0</td>\n",
       "      <td>1.224100e+09</td>\n",
       "      <td>7.654413e+07</td>\n",
       "      <td>840672001.0</td>\n",
       "      <td>1.173236e+09</td>\n",
       "      <td>1.239222e+09</td>\n",
       "      <td>1.288572e+09</td>\n",
       "      <td>1.326285e+09</td>\n",
       "    </tr>\n",
       "    <tr>\n",
       "      <th>review_overall</th>\n",
       "      <td>1586251.0</td>\n",
       "      <td>3.815632e+00</td>\n",
       "      <td>7.205920e-01</td>\n",
       "      <td>0.0</td>\n",
       "      <td>3.500000e+00</td>\n",
       "      <td>4.000000e+00</td>\n",
       "      <td>4.500000e+00</td>\n",
       "      <td>5.000000e+00</td>\n",
       "    </tr>\n",
       "    <tr>\n",
       "      <th>review_aroma</th>\n",
       "      <td>1586251.0</td>\n",
       "      <td>3.735688e+00</td>\n",
       "      <td>6.975649e-01</td>\n",
       "      <td>1.0</td>\n",
       "      <td>3.500000e+00</td>\n",
       "      <td>4.000000e+00</td>\n",
       "      <td>4.000000e+00</td>\n",
       "      <td>5.000000e+00</td>\n",
       "    </tr>\n",
       "    <tr>\n",
       "      <th>review_appearance</th>\n",
       "      <td>1586251.0</td>\n",
       "      <td>3.841677e+00</td>\n",
       "      <td>6.160621e-01</td>\n",
       "      <td>0.0</td>\n",
       "      <td>3.500000e+00</td>\n",
       "      <td>4.000000e+00</td>\n",
       "      <td>4.000000e+00</td>\n",
       "      <td>5.000000e+00</td>\n",
       "    </tr>\n",
       "    <tr>\n",
       "      <th>review_palate</th>\n",
       "      <td>1586251.0</td>\n",
       "      <td>3.743757e+00</td>\n",
       "      <td>6.821700e-01</td>\n",
       "      <td>1.0</td>\n",
       "      <td>3.500000e+00</td>\n",
       "      <td>4.000000e+00</td>\n",
       "      <td>4.000000e+00</td>\n",
       "      <td>5.000000e+00</td>\n",
       "    </tr>\n",
       "    <tr>\n",
       "      <th>review_taste</th>\n",
       "      <td>1586251.0</td>\n",
       "      <td>3.792925e+00</td>\n",
       "      <td>7.319083e-01</td>\n",
       "      <td>1.0</td>\n",
       "      <td>3.500000e+00</td>\n",
       "      <td>4.000000e+00</td>\n",
       "      <td>4.500000e+00</td>\n",
       "      <td>5.000000e+00</td>\n",
       "    </tr>\n",
       "    <tr>\n",
       "      <th>beer_beerid</th>\n",
       "      <td>1586251.0</td>\n",
       "      <td>2.171468e+04</td>\n",
       "      <td>2.181901e+04</td>\n",
       "      <td>3.0</td>\n",
       "      <td>1.717000e+03</td>\n",
       "      <td>1.390600e+04</td>\n",
       "      <td>3.944100e+04</td>\n",
       "      <td>7.731700e+04</td>\n",
       "    </tr>\n",
       "  </tbody>\n",
       "</table>\n",
       "</div>"
      ],
      "text/plain": [
       "                       count          mean           std          min  \\\n",
       "brewery_id         1586251.0  3.130381e+03  5.578478e+03          1.0   \n",
       "review_time        1586251.0  1.224100e+09  7.654413e+07  840672001.0   \n",
       "review_overall     1586251.0  3.815632e+00  7.205920e-01          0.0   \n",
       "review_aroma       1586251.0  3.735688e+00  6.975649e-01          1.0   \n",
       "review_appearance  1586251.0  3.841677e+00  6.160621e-01          0.0   \n",
       "review_palate      1586251.0  3.743757e+00  6.821700e-01          1.0   \n",
       "review_taste       1586251.0  3.792925e+00  7.319083e-01          1.0   \n",
       "beer_beerid        1586251.0  2.171468e+04  2.181901e+04          3.0   \n",
       "\n",
       "                            25%           50%           75%           max  \n",
       "brewery_id         1.430000e+02  4.290000e+02  2.372000e+03  2.800300e+04  \n",
       "review_time        1.173236e+09  1.239222e+09  1.288572e+09  1.326285e+09  \n",
       "review_overall     3.500000e+00  4.000000e+00  4.500000e+00  5.000000e+00  \n",
       "review_aroma       3.500000e+00  4.000000e+00  4.000000e+00  5.000000e+00  \n",
       "review_appearance  3.500000e+00  4.000000e+00  4.000000e+00  5.000000e+00  \n",
       "review_palate      3.500000e+00  4.000000e+00  4.000000e+00  5.000000e+00  \n",
       "review_taste       3.500000e+00  4.000000e+00  4.500000e+00  5.000000e+00  \n",
       "beer_beerid        1.717000e+03  1.390600e+04  3.944100e+04  7.731700e+04  "
      ]
     },
     "execution_count": 73,
     "metadata": {},
     "output_type": "execute_result"
    }
   ],
   "source": [
    "#review our new dataset without any null values\n",
    "summary3 = beerDF3.describe()\n",
    "summary3 = summary3.transpose()\n",
    "summary3"
   ]
  },
  {
   "cell_type": "markdown",
   "metadata": {
    "deletable": true,
    "editable": true
   },
   "source": [
    "## Extracting Reviews"
   ]
  },
  {
   "cell_type": "code",
   "execution_count": 76,
   "metadata": {
    "collapsed": true,
    "deletable": true,
    "editable": true
   },
   "outputs": [],
   "source": [
    "#convert name of dataset from beerdf3 to beerdf\n",
    "beerDF = beerDF3.copy()"
   ]
  },
  {
   "cell_type": "code",
   "execution_count": 77,
   "metadata": {
    "collapsed": false,
    "deletable": true,
    "editable": true
   },
   "outputs": [
    {
     "name": "stderr",
     "output_type": "stream",
     "text": [
      "//anaconda/lib/python3.4/site-packages/ipykernel/__main__.py:5: FutureWarning: sort(columns=....) is deprecated, use sort_values(by=.....)\n"
     ]
    },
    {
     "data": {
      "text/html": [
       "<div>\n",
       "<table border=\"1\" class=\"dataframe\">\n",
       "  <thead>\n",
       "    <tr style=\"text-align: right;\">\n",
       "      <th></th>\n",
       "      <th>beer_name</th>\n",
       "      <th>review_profilename</th>\n",
       "      <th>review_overall</th>\n",
       "      <th>review_aroma</th>\n",
       "      <th>review_palate</th>\n",
       "      <th>review_taste</th>\n",
       "    </tr>\n",
       "  </thead>\n",
       "  <tbody>\n",
       "    <tr>\n",
       "      <th>595646</th>\n",
       "      <td>India Pale Ale</td>\n",
       "      <td>1fastz28</td>\n",
       "      <td>3.5</td>\n",
       "      <td>4.0</td>\n",
       "      <td>3.5</td>\n",
       "      <td>3.0</td>\n",
       "    </tr>\n",
       "    <tr>\n",
       "      <th>212302</th>\n",
       "      <td>India Pale Ale</td>\n",
       "      <td>49degrees</td>\n",
       "      <td>3.5</td>\n",
       "      <td>3.0</td>\n",
       "      <td>3.0</td>\n",
       "      <td>3.5</td>\n",
       "    </tr>\n",
       "    <tr>\n",
       "      <th>1348197</th>\n",
       "      <td>India Pale Ale</td>\n",
       "      <td>99bottles</td>\n",
       "      <td>4.5</td>\n",
       "      <td>4.0</td>\n",
       "      <td>4.0</td>\n",
       "      <td>4.5</td>\n",
       "    </tr>\n",
       "    <tr>\n",
       "      <th>1406683</th>\n",
       "      <td>India Pale Ale</td>\n",
       "      <td>9InchNails</td>\n",
       "      <td>3.5</td>\n",
       "      <td>3.5</td>\n",
       "      <td>4.0</td>\n",
       "      <td>3.5</td>\n",
       "    </tr>\n",
       "    <tr>\n",
       "      <th>595971</th>\n",
       "      <td>India Pale Ale</td>\n",
       "      <td>ADR</td>\n",
       "      <td>4.0</td>\n",
       "      <td>3.5</td>\n",
       "      <td>3.5</td>\n",
       "      <td>3.0</td>\n",
       "    </tr>\n",
       "  </tbody>\n",
       "</table>\n",
       "</div>"
      ],
      "text/plain": [
       "              beer_name review_profilename  review_overall  review_aroma  \\\n",
       "595646   India Pale Ale           1fastz28             3.5           4.0   \n",
       "212302   India Pale Ale          49degrees             3.5           3.0   \n",
       "1348197  India Pale Ale          99bottles             4.5           4.0   \n",
       "1406683  India Pale Ale         9InchNails             3.5           3.5   \n",
       "595971   India Pale Ale                ADR             4.0           3.5   \n",
       "\n",
       "         review_palate  review_taste  \n",
       "595646             3.5           3.0  \n",
       "212302             3.0           3.5  \n",
       "1348197            4.0           4.5  \n",
       "1406683            4.0           3.5  \n",
       "595971             3.5           3.0  "
      ]
     },
     "execution_count": 77,
     "metadata": {},
     "output_type": "execute_result"
    }
   ],
   "source": [
    "beer_1, beer_2 = \"90 Minute IPA\", \"India Pale Ale\"\n",
    "\n",
    "def get_beer_reviews(beer, common_users):\n",
    "    mask = (beerDF.review_profilename.isin(common_users)) & (beerDF.beer_name==beer)\n",
    "    reviews = beerDF[mask].sort('review_profilename')\n",
    "    reviews = reviews[reviews.review_profilename.duplicated()==False]\n",
    "    return reviews\n",
    "beer_1_reviews = get_beer_reviews(beer_1, common_reviewers)\n",
    "beer_2_reviews = get_beer_reviews(beer_2, common_reviewers)\n",
    "\n",
    "cols = ['beer_name', 'review_profilename', 'review_overall', 'review_aroma', 'review_palate', 'review_taste']\n",
    "beer_2_reviews[cols].head()"
   ]
  },
  {
   "cell_type": "markdown",
   "metadata": {},
   "source": [
    "After reviewing the dataset, we can see that there are a total of 1,586,251 complete rows of data comprised of 12 total columns. \n",
    "\n",
    "- brewery Id: numeric value representing brewery name, type int64 but nominal in nature\n",
    "- brewery name: string representing brewery name, type object \n",
    "- review time: numeric timestamp repesenting time and date review was completed, type int 64 but with timescale\n",
    "- overall review rating: categorical from 1-5 representing overall rating, type float64 \n",
    "- review of aroma: categorical from 1-5 representing aroma rating, type float64 \n",
    "- review of appearance: categorical from 1-5 representing appearance rating, type float64 \n",
    "- username of reviewer: string representing user name, type object\n",
    "- beer style: string representing style of beer, type object\n",
    "- review palate: categorical from 1-5 representing mouthfeel rating, type float64 \n",
    "- review taste: categorical from 1-5 representing taste rating, type float64 \n",
    "- beer name: string representing name of beer given by brewery, type object\n",
    "- beer ID: numeric value representing beer name, type int 64 but nominal in nature\n",
    "\n",
    "Data quality was verified with the original dataset having 1,586,614 values including nulls. After removing the ABV column and eliminating rows with null values, we ended up with 1,586,251 total rows and 12 columns.\n",
    "\n",
    "Looking at the summary of the data, it does not appear that there are any duplicates for the data as the system does not allow users to rate a beer more than once. We assume the proper application controls where inplaced preventing users not to enter more than one rating per beer. We can see that the average overall review rating was <strong>3.8</strong>. As mentioned earlier, we will round this value up to 4 and use this as our benchmark value to determine if our recommendation system is working. (After completing a review, suggested beers should be rated by the viewer at least 4 or higher)\n",
    "\n",
    "source: https://www.beeradvocate.com/community/threads/how-to-review-a-beer.241156/"
   ]
  },
  {
   "cell_type": "markdown",
   "metadata": {
    "deletable": true,
    "editable": true
   },
   "source": [
    "# <a name=\"du2\"></a> Data Understanding 2\n",
    "\n",
    "----\n"
   ]
  },
  {
   "cell_type": "markdown",
   "metadata": {
    "deletable": true,
    "editable": true
   },
   "source": [
    "<span style=\"color:red\">10 Points - Visualize the any important attributes appropriately. Important: Provide an interpretation for any charts or graphs.</span>"
   ]
  },
  {
   "cell_type": "code",
   "execution_count": 81,
   "metadata": {
    "collapsed": false,
    "deletable": true,
    "editable": true
   },
   "outputs": [
    {
     "data": {
      "text/html": [
       "<div>\n",
       "<table border=\"1\" class=\"dataframe\">\n",
       "  <thead>\n",
       "    <tr style=\"text-align: right;\">\n",
       "      <th>col_0</th>\n",
       "      <th>count</th>\n",
       "    </tr>\n",
       "    <tr>\n",
       "      <th>review_overall</th>\n",
       "      <th></th>\n",
       "    </tr>\n",
       "  </thead>\n",
       "  <tbody>\n",
       "    <tr>\n",
       "      <th>0.0</th>\n",
       "      <td>7</td>\n",
       "    </tr>\n",
       "    <tr>\n",
       "      <th>1.0</th>\n",
       "      <td>10954</td>\n",
       "    </tr>\n",
       "    <tr>\n",
       "      <th>1.5</th>\n",
       "      <td>12972</td>\n",
       "    </tr>\n",
       "    <tr>\n",
       "      <th>2.0</th>\n",
       "      <td>38206</td>\n",
       "    </tr>\n",
       "    <tr>\n",
       "      <th>2.5</th>\n",
       "      <td>58485</td>\n",
       "    </tr>\n",
       "    <tr>\n",
       "      <th>3.0</th>\n",
       "      <td>165582</td>\n",
       "    </tr>\n",
       "    <tr>\n",
       "      <th>3.5</th>\n",
       "      <td>301743</td>\n",
       "    </tr>\n",
       "    <tr>\n",
       "      <th>4.0</th>\n",
       "      <td>582683</td>\n",
       "    </tr>\n",
       "    <tr>\n",
       "      <th>4.5</th>\n",
       "      <td>324321</td>\n",
       "    </tr>\n",
       "    <tr>\n",
       "      <th>5.0</th>\n",
       "      <td>91298</td>\n",
       "    </tr>\n",
       "  </tbody>\n",
       "</table>\n",
       "</div>"
      ],
      "text/plain": [
       "col_0            count\n",
       "review_overall        \n",
       "0.0                  7\n",
       "1.0              10954\n",
       "1.5              12972\n",
       "2.0              38206\n",
       "2.5              58485\n",
       "3.0             165582\n",
       "3.5             301743\n",
       "4.0             582683\n",
       "4.5             324321\n",
       "5.0              91298"
      ]
     },
     "execution_count": 81,
     "metadata": {},
     "output_type": "execute_result"
    }
   ],
   "source": [
    "pd.crosstab(index=beerDF[\"review_overall\"],columns=\"count\") "
   ]
  },
  {
   "cell_type": "code",
   "execution_count": 151,
   "metadata": {
    "collapsed": false,
    "deletable": true,
    "editable": true
   },
   "outputs": [
    {
     "data": {
      "text/plain": [
       "<matplotlib.text.Text at 0x1185adb38>"
      ]
     },
     "execution_count": 151,
     "metadata": {},
     "output_type": "execute_result"
    }
   ],
   "source": [
    "# percentage of each review rating\n",
    "from pylab import *\n",
    "figure(1, figsize=(6,6))\n",
    "ax = axes([0.2, 0.2, 1.3, 1.3])\n",
    "\n",
    "# The slices will be ordered and plotted counter-clockwise.\n",
    "labels = '0.0','1.0', '1.5', '2.0', '2.5', '3.0', '3.5', '4.0', '4.5', '5.0'\n",
    "fracs = [7, 10954, 12972, 38206, 58485, 165582, 301743, 582683, 324321, 91298]\n",
    "explode = [0, 0, 0, 0, 0, 0, 0.1, 0.1, 0.1, 0]\n",
    "\n",
    "pie(fracs, explode=explode, labels=labels,\n",
    "                autopct='%1.1f%%', shadow=False, startangle=160)\n",
    "\n",
    "title('Percentage of review ratings', bbox={'facecolor':'0.9', 'pad':5})\n",
    "\n",
    "#show()"
   ]
  },
  {
   "cell_type": "code",
   "execution_count": 84,
   "metadata": {
    "collapsed": false,
    "deletable": true,
    "editable": true
   },
   "outputs": [
    {
     "ename": "NameError",
     "evalue": "name 'string' is not defined",
     "output_type": "error",
     "traceback": [
      "\u001b[0;31m---------------------------------------------------------------------------\u001b[0m",
      "\u001b[0;31mNameError\u001b[0m                                 Traceback (most recent call last)",
      "\u001b[0;32m<ipython-input-84-9ca836c5e589>\u001b[0m in \u001b[0;36m<module>\u001b[0;34m()\u001b[0m\n\u001b[0;32m----> 1\u001b[0;31m \u001b[0ms\u001b[0m \u001b[0;34m=\u001b[0m \u001b[0mpd\u001b[0m\u001b[0;34m.\u001b[0m\u001b[0mSeries\u001b[0m\u001b[0;34m(\u001b[0m\u001b[0mnp\u001b[0m\u001b[0;34m.\u001b[0m\u001b[0mrandom\u001b[0m\u001b[0;34m.\u001b[0m\u001b[0mchoice\u001b[0m\u001b[0;34m(\u001b[0m\u001b[0mlist\u001b[0m\u001b[0;34m(\u001b[0m\u001b[0mstring\u001b[0m\u001b[0;34m.\u001b[0m\u001b[0muppercase\u001b[0m\u001b[0;34m)\u001b[0m\u001b[0;34m,\u001b[0m \u001b[0;36m1000\u001b[0m\u001b[0;34m)\u001b[0m\u001b[0;34m)\u001b[0m\u001b[0;34m\u001b[0m\u001b[0m\n\u001b[0m\u001b[1;32m      2\u001b[0m \u001b[0mcounts\u001b[0m \u001b[0;34m=\u001b[0m \u001b[0mbeerDF\u001b[0m\u001b[0;34m.\u001b[0m\u001b[0mreview_profilename\u001b[0m\u001b[0;34m.\u001b[0m\u001b[0mvalue_counts\u001b[0m\u001b[0;34m(\u001b[0m\u001b[0;34m)\u001b[0m\u001b[0;34m\u001b[0m\u001b[0m\n\u001b[1;32m      3\u001b[0m \u001b[0max\u001b[0m \u001b[0;34m=\u001b[0m \u001b[0mcounts\u001b[0m\u001b[0;34m.\u001b[0m\u001b[0miloc\u001b[0m\u001b[0;34m[\u001b[0m\u001b[0;34m:\u001b[0m\u001b[0;36m10\u001b[0m\u001b[0;34m]\u001b[0m\u001b[0;34m.\u001b[0m\u001b[0mplot\u001b[0m\u001b[0;34m(\u001b[0m\u001b[0mkind\u001b[0m\u001b[0;34m=\u001b[0m\u001b[0;34m\"barh\"\u001b[0m\u001b[0;34m)\u001b[0m\u001b[0;34m\u001b[0m\u001b[0m\n\u001b[1;32m      4\u001b[0m \u001b[0max\u001b[0m\u001b[0;34m.\u001b[0m\u001b[0minvert_yaxis\u001b[0m\u001b[0;34m(\u001b[0m\u001b[0;34m)\u001b[0m\u001b[0;34m\u001b[0m\u001b[0m\n",
      "\u001b[0;31mNameError\u001b[0m: name 'string' is not defined"
     ]
    }
   ],
   "source": [
    "#plot the top ten reviewers by number of reviews\n",
    "s = pd.Series(np.random.choice(list(string.uppercase), 1000))\n",
    "counts = beerDF.review_profilename.value_counts()\n",
    "ax = counts.iloc[:10].plot(kind=\"barh\")\n",
    "ax.invert_yaxis()\n",
    "\n",
    "#source: http://stackoverflow.com/questions/28022227/sorted-bar-charts-with-pandas-matplotlib-or-seaborn"
   ]
  },
  {
   "cell_type": "code",
   "execution_count": 190,
   "metadata": {
    "collapsed": false,
    "deletable": true,
    "editable": true
   },
   "outputs": [
    {
     "data": {
      "text/plain": [
       "<matplotlib.axes._axes.Axes at 0x1129e1588>"
      ]
     },
     "execution_count": 190,
     "metadata": {},
     "output_type": "execute_result"
    }
   ],
   "source": [
    "usercount = beerDF.groupby(by='review_profilename')\n",
    "usercount = usercount.size()\n",
    "usercountplot = usercount.plot(kind='bar', title='freqency of reviews',) #bar chart\n",
    "usercountplot"
   ]
  },
  {
   "cell_type": "code",
   "execution_count": null,
   "metadata": {
    "collapsed": true
   },
   "outputs": [],
   "source": [
    "stylecount = beerDF['beer_style'].valuecounts().to_frame()\n",
    "stylecount = stylecount.rename(columns= {'beer_style':'counts'})\n",
    "stylecountplot = stylecount.plot(kind='bar', title='freqency of beer styles',)\n",
    "stylecountplot"
   ]
  },
  {
   "cell_type": "markdown",
   "metadata": {
    "deletable": true,
    "editable": true
   },
   "source": [
    "# <a name=\"me1\"></a> Modeling and Evaluation 1\n",
    "---"
   ]
  },
  {
   "cell_type": "markdown",
   "metadata": {
    "deletable": true,
    "editable": true
   },
   "source": [
    "<span style=\"color:red\">10 Points - Train and adjust parameters</span>"
   ]
  },
  {
   "cell_type": "markdown",
   "metadata": {},
   "source": [
    "We used this section as a proof of concept to test our theory on a subset of the beer data."
   ]
  },
  {
   "cell_type": "markdown",
   "metadata": {
    "deletable": true,
    "editable": true
   },
   "source": [
    "## Calculate Euclidean Distances "
   ]
  },
  {
   "cell_type": "code",
   "execution_count": 86,
   "metadata": {
    "collapsed": false
   },
   "outputs": [
    {
     "data": {
      "text/plain": [
       "[27.308423608842748, 27.37243138634199, 26.177280225416848, 29.828677476549309]"
      ]
     },
     "execution_count": 86,
     "metadata": {},
     "output_type": "execute_result"
    }
   ],
   "source": [
    "from sklearn.metrics.pairwise import euclidean_distances\n",
    "from sklearn.metrics.pairwise import manhattan_distances\n",
    "from scipy.stats.stats import pearsonr\n",
    "\n",
    "\n",
    "ALL_FEATURES = ['review_overall', 'review_aroma', 'review_palate', 'review_taste']\n",
    "def calculate_similarity(beer1, beer2):\n",
    "    # find common reviewers\n",
    "    beer_1_reviewers = beerDF[beerDF.beer_name==beer1].review_profilename.unique()\n",
    "    beer_2_reviewers = beerDF[beerDF.beer_name==beer2].review_profilename.unique()\n",
    "    common_reviewers = set(beer_1_reviewers).intersection(beer_2_reviewers)\n",
    "\n",
    "    # get reviews\n",
    "    beer_1_reviews = get_beer_reviews(beer1, common_reviewers)\n",
    "    beer_2_reviews = get_beer_reviews(beer2, common_reviewers)\n",
    "    dists = []\n",
    "    for f in ALL_FEATURES:\n",
    "        dists.append(euclidean_distances(beer_1_reviews[f], beer_2_reviews[f])[0][0])\n",
    "    \n",
    "    return dists\n",
    "\n",
    "calculate_similarity(beer_1, beer_2)"
   ]
  },
  {
   "cell_type": "markdown",
   "metadata": {},
   "source": [
    "## Calculate the Similarity of a Set of Beers"
   ]
  },
  {
   "cell_type": "code",
   "execution_count": 150,
   "metadata": {
    "collapsed": false
   },
   "outputs": [
    {
     "name": "stdout",
     "output_type": "stream",
     "text": [
      "starting Dale's Pale Ale\n",
      "starting Sierra Nevada Pale Ale\n",
      "starting Michelob Ultra\n",
      "starting Natural Light\n",
      "starting Bud Light\n",
      "starting Fat Tire Amber Ale\n",
      "starting Coors Light\n",
      "starting Blue Moon Belgian White\n",
      "starting 60 Minute IPA\n",
      "starting Guinness Draught\n"
     ]
    }
   ],
   "source": [
    "# calculate only a subset for the demo\n",
    "beers = [\"Dale's Pale Ale\", \n",
    "         \"Sierra Nevada Pale Ale\", \n",
    "         \"Michelob Ultra\",\n",
    "         \"Natural Light\", \n",
    "         \"Bud Light\", \n",
    "         \"Fat Tire Amber Ale\", \n",
    "         \"Coors Light\",\n",
    "         \"Blue Moon Belgian White\", \n",
    "         \"60 Minute IPA\", \n",
    "         \"Guinness Draught\"]\n",
    "# calculate everything for real production\n",
    "#beers = beerDF.beer_name.unique()\n",
    "\n",
    "simple_distances = []\n",
    "for beer1 in beers:\n",
    "    print (\"starting\", beer1)\n",
    "    for beer2 in beers:\n",
    "        if beer1 != beer2:\n",
    "            row = [beer1, beer2] + calculate_similarity(beer1, beer2)\n",
    "            simple_distances.append(row)"
   ]
  },
  {
   "cell_type": "markdown",
   "metadata": {},
   "source": [
    "## Inspect the Results"
   ]
  },
  {
   "cell_type": "code",
   "execution_count": 153,
   "metadata": {
    "collapsed": false
   },
   "outputs": [
    {
     "data": {
      "text/html": [
       "<div>\n",
       "<table border=\"1\" class=\"dataframe\">\n",
       "  <thead>\n",
       "    <tr style=\"text-align: right;\">\n",
       "      <th></th>\n",
       "      <th>beer1</th>\n",
       "      <th>beer2</th>\n",
       "      <th>overall_dist</th>\n",
       "      <th>aroma_dist</th>\n",
       "      <th>palate_dist</th>\n",
       "      <th>taste_dist</th>\n",
       "    </tr>\n",
       "  </thead>\n",
       "  <tbody>\n",
       "    <tr>\n",
       "      <th>85</th>\n",
       "      <td>Guinness Draught</td>\n",
       "      <td>Bud Light</td>\n",
       "      <td>43.854874</td>\n",
       "      <td>42.388088</td>\n",
       "      <td>45.694639</td>\n",
       "      <td>44.516851</td>\n",
       "    </tr>\n",
       "    <tr>\n",
       "      <th>86</th>\n",
       "      <td>Guinness Draught</td>\n",
       "      <td>Fat Tire Amber Ale</td>\n",
       "      <td>23.611438</td>\n",
       "      <td>21.095023</td>\n",
       "      <td>24.591665</td>\n",
       "      <td>22.632941</td>\n",
       "    </tr>\n",
       "    <tr>\n",
       "      <th>87</th>\n",
       "      <td>Guinness Draught</td>\n",
       "      <td>Coors Light</td>\n",
       "      <td>41.249242</td>\n",
       "      <td>38.337319</td>\n",
       "      <td>43.182751</td>\n",
       "      <td>40.416581</td>\n",
       "    </tr>\n",
       "    <tr>\n",
       "      <th>88</th>\n",
       "      <td>Guinness Draught</td>\n",
       "      <td>Blue Moon Belgian White</td>\n",
       "      <td>27.285527</td>\n",
       "      <td>22.169799</td>\n",
       "      <td>25.475478</td>\n",
       "      <td>23.780244</td>\n",
       "    </tr>\n",
       "    <tr>\n",
       "      <th>89</th>\n",
       "      <td>Guinness Draught</td>\n",
       "      <td>60 Minute IPA</td>\n",
       "      <td>31.200962</td>\n",
       "      <td>32.638168</td>\n",
       "      <td>32.190837</td>\n",
       "      <td>34.452866</td>\n",
       "    </tr>\n",
       "  </tbody>\n",
       "</table>\n",
       "</div>"
      ],
      "text/plain": [
       "               beer1                    beer2  overall_dist  aroma_dist  \\\n",
       "85  Guinness Draught                Bud Light     43.854874   42.388088   \n",
       "86  Guinness Draught       Fat Tire Amber Ale     23.611438   21.095023   \n",
       "87  Guinness Draught              Coors Light     41.249242   38.337319   \n",
       "88  Guinness Draught  Blue Moon Belgian White     27.285527   22.169799   \n",
       "89  Guinness Draught            60 Minute IPA     31.200962   32.638168   \n",
       "\n",
       "    palate_dist  taste_dist  \n",
       "85    45.694639   44.516851  \n",
       "86    24.591665   22.632941  \n",
       "87    43.182751   40.416581  \n",
       "88    25.475478   23.780244  \n",
       "89    32.190837   34.452866  "
      ]
     },
     "execution_count": 153,
     "metadata": {},
     "output_type": "execute_result"
    }
   ],
   "source": [
    "cols = [\"beer1\", \"beer2\", \"overall_dist\", \"aroma_dist\", \"palate_dist\", \"taste_dist\"]\n",
    "simple_distances = pd.DataFrame(simple_distances, columns=cols)\n",
    "simple_distances.tail()"
   ]
  },
  {
   "cell_type": "markdown",
   "metadata": {},
   "source": [
    "## Allow Users to Customize the Weights"
   ]
  },
  {
   "cell_type": "code",
   "execution_count": 154,
   "metadata": {
    "collapsed": false
   },
   "outputs": [
    {
     "name": "stdout",
     "output_type": "stream",
     "text": [
      "86.40810158004888\n",
      "152.68128609273793\n"
     ]
    }
   ],
   "source": [
    "def calc_distance(dists, beer1, beer2, weights):\n",
    "    mask = (dists.beer1==beer1) & (dists.beer2==beer2)\n",
    "    row = dists[mask]\n",
    "    row = row[['overall_dist', 'aroma_dist', 'palate_dist', 'taste_dist']]\n",
    "    dist = weights * row\n",
    "    return dist.sum(axis=1).tolist()[0]\n",
    "\n",
    "weights = [2, 1, 1, 1] #Give your ratings here\n",
    "print (calc_distance(simple_distances, \"Fat Tire Amber Ale\", \"Dale's Pale Ale\", weights))\n",
    "print (calc_distance(simple_distances, \"Fat Tire Amber Ale\", \"Michelob Ultra\", weights))"
   ]
  },
  {
   "cell_type": "markdown",
   "metadata": {},
   "source": [
    "## Recommend beers similar to my_beer"
   ]
  },
  {
   "cell_type": "code",
   "execution_count": 156,
   "metadata": {
    "collapsed": false
   },
   "outputs": [
    {
     "data": {
      "text/plain": [
       "[(\"Dale's Pale Ale\", 'Sierra Nevada Pale Ale', 84.76009505678336),\n",
       " (\"Dale's Pale Ale\", '60 Minute IPA', 86.14915895628911),\n",
       " (\"Dale's Pale Ale\", 'Fat Tire Amber Ale', 86.40810158004888),\n",
       " (\"Dale's Pale Ale\", 'Blue Moon Belgian White', 98.32976308091568),\n",
       " (\"Dale's Pale Ale\", 'Guinness Draught', 120.85629336353787),\n",
       " (\"Dale's Pale Ale\", 'Natural Light', 121.55801164144607),\n",
       " (\"Dale's Pale Ale\", 'Michelob Ultra', 149.23623122808397),\n",
       " (\"Dale's Pale Ale\", 'Coors Light', 181.03982876411666),\n",
       " (\"Dale's Pale Ale\", 'Bud Light', 196.80179707789142)]"
      ]
     },
     "execution_count": 156,
     "metadata": {},
     "output_type": "execute_result"
    }
   ],
   "source": [
    "my_beer = \"Dale's Pale Ale\"\n",
    "results = []\n",
    "for b in beers:\n",
    "    if my_beer!=b:\n",
    "        results.append((my_beer, b, calc_distance(simple_distances, my_beer, b, weights)))\n",
    "sorted(results, key=lambda x: x[2])"
   ]
  },
  {
   "cell_type": "code",
   "execution_count": 155,
   "metadata": {
    "collapsed": false
   },
   "outputs": [
    {
     "data": {
      "text/plain": [
       "[('Bud Light', 'Natural Light', 64.5003477938315),\n",
       " ('Bud Light', 'Michelob Ultra', 74.33645512278882),\n",
       " ('Bud Light', 'Coors Light', 100.01552386270659),\n",
       " ('Bud Light', 'Blue Moon Belgian White', 184.3851227577757),\n",
       " ('Bud Light', \"Dale's Pale Ale\", 196.80179707789142),\n",
       " ('Bud Light', 'Fat Tire Amber Ale', 198.59291387382788),\n",
       " ('Bud Light', 'Guinness Draught', 220.30932592966633),\n",
       " ('Bud Light', '60 Minute IPA', 262.58747519219816),\n",
       " ('Bud Light', 'Sierra Nevada Pale Ale', 281.0170600879314)]"
      ]
     },
     "execution_count": 155,
     "metadata": {},
     "output_type": "execute_result"
    }
   ],
   "source": [
    "my_beer = \"Bud Light\"\n",
    "results = []\n",
    "for b in beers:\n",
    "    if my_beer!=b:\n",
    "        results.append((my_beer, b, calc_distance(simple_distances, my_beer, b, weights)))\n",
    "sorted(results, key=lambda x: x[2])"
   ]
  },
  {
   "cell_type": "markdown",
   "metadata": {},
   "source": [
    "These results make sense since we would assume from the style of beer that Dale's Pale Ale and Sierra Nevada Pale Ale are the most similiar and that Bud Light and Natural Light are the most similar based on the options available. Note that these result are only pulling distances from our subset of 10 that we setup earlier. Notice that we also used \"euclidean distance\" above. we will work on looking at models that use different distance measures and compare them against each other. "
   ]
  },
  {
   "cell_type": "markdown",
   "metadata": {
    "deletable": true,
    "editable": true
   },
   "source": [
    "# <a name=\"me2\"></a> Modeling and Evaluation 2 - MUST USE PYTHON 2 KERNAL\n",
    "---"
   ]
  },
  {
   "cell_type": "markdown",
   "metadata": {
    "deletable": true,
    "editable": true
   },
   "source": [
    "<span style=\"color:red\">10 Points - Evaluate and Compare</span>"
   ]
  },
  {
   "cell_type": "markdown",
   "metadata": {},
   "source": [
    "## Recommendation system on a per-user basis"
   ]
  },
  {
   "cell_type": "markdown",
   "metadata": {
    "deletable": true,
    "editable": true
   },
   "source": [
    "Please note: the use of graphlab here requires an api key. Here we will do a rough cut of the a graphlab 5 line recommender system. "
   ]
  },
  {
   "cell_type": "code",
   "execution_count": 5,
   "metadata": {
    "collapsed": false,
    "deletable": true,
    "editable": true,
    "scrolled": false
   },
   "outputs": [
    {
     "data": {
      "text/html": [
       "<pre>Finished parsing file C:\\Users\\natha_000\\beer_reviews.csv</pre>"
      ],
      "text/plain": [
       "Finished parsing file C:\\Users\\natha_000\\beer_reviews.csv"
      ]
     },
     "metadata": {},
     "output_type": "display_data"
    },
    {
     "data": {
      "text/html": [
       "<pre>Parsing completed. Parsed 100 lines in 0.570646 secs.</pre>"
      ],
      "text/plain": [
       "Parsing completed. Parsed 100 lines in 0.570646 secs."
      ]
     },
     "metadata": {},
     "output_type": "display_data"
    },
    {
     "data": {
      "text/html": [
       "<pre>Read 453422 lines. Lines per second: 608467</pre>"
      ],
      "text/plain": [
       "Read 453422 lines. Lines per second: 608467"
      ]
     },
     "metadata": {},
     "output_type": "display_data"
    },
    {
     "data": {
      "text/html": [
       "<pre>Finished parsing file C:\\Users\\natha_000\\beer_reviews.csv</pre>"
      ],
      "text/plain": [
       "Finished parsing file C:\\Users\\natha_000\\beer_reviews.csv"
      ]
     },
     "metadata": {},
     "output_type": "display_data"
    },
    {
     "data": {
      "text/html": [
       "<pre>Parsing completed. Parsed 1586614 lines in 1.6948 secs.</pre>"
      ],
      "text/plain": [
       "Parsing completed. Parsed 1586614 lines in 1.6948 secs."
      ]
     },
     "metadata": {},
     "output_type": "display_data"
    },
    {
     "data": {
      "text/html": [
       "<pre>Recsys training: model = ranking_factorization_recommender</pre>"
      ],
      "text/plain": [
       "Recsys training: model = ranking_factorization_recommender"
      ]
     },
     "metadata": {},
     "output_type": "display_data"
    },
    {
     "data": {
      "text/html": [
       "<pre>Preparing data set.</pre>"
      ],
      "text/plain": [
       "Preparing data set."
      ]
     },
     "metadata": {},
     "output_type": "display_data"
    },
    {
     "data": {
      "text/html": [
       "<pre>    Data has 1518829 observations with 32909 users and 44085 items.</pre>"
      ],
      "text/plain": [
       "    Data has 1518829 observations with 32909 users and 44085 items."
      ]
     },
     "metadata": {},
     "output_type": "display_data"
    },
    {
     "data": {
      "text/html": [
       "<pre>    Data prepared in: 2.87198s</pre>"
      ],
      "text/plain": [
       "    Data prepared in: 2.87198s"
      ]
     },
     "metadata": {},
     "output_type": "display_data"
    },
    {
     "data": {
      "text/html": [
       "<pre>Training ranking_factorization_recommender for recommendations.</pre>"
      ],
      "text/plain": [
       "Training ranking_factorization_recommender for recommendations."
      ]
     },
     "metadata": {},
     "output_type": "display_data"
    },
    {
     "data": {
      "text/html": [
       "<pre>+--------------------------------+--------------------------------------------------+----------+</pre>"
      ],
      "text/plain": [
       "+--------------------------------+--------------------------------------------------+----------+"
      ]
     },
     "metadata": {},
     "output_type": "display_data"
    },
    {
     "data": {
      "text/html": [
       "<pre>| Parameter                      | Description                                      | Value    |</pre>"
      ],
      "text/plain": [
       "| Parameter                      | Description                                      | Value    |"
      ]
     },
     "metadata": {},
     "output_type": "display_data"
    },
    {
     "data": {
      "text/html": [
       "<pre>+--------------------------------+--------------------------------------------------+----------+</pre>"
      ],
      "text/plain": [
       "+--------------------------------+--------------------------------------------------+----------+"
      ]
     },
     "metadata": {},
     "output_type": "display_data"
    },
    {
     "data": {
      "text/html": [
       "<pre>| num_factors                    | Factor Dimension                                 | 32       |</pre>"
      ],
      "text/plain": [
       "| num_factors                    | Factor Dimension                                 | 32       |"
      ]
     },
     "metadata": {},
     "output_type": "display_data"
    },
    {
     "data": {
      "text/html": [
       "<pre>| regularization                 | L2 Regularization on Factors                     | 1e-009   |</pre>"
      ],
      "text/plain": [
       "| regularization                 | L2 Regularization on Factors                     | 1e-009   |"
      ]
     },
     "metadata": {},
     "output_type": "display_data"
    },
    {
     "data": {
      "text/html": [
       "<pre>| solver                         | Solver used for training                         | adagrad  |</pre>"
      ],
      "text/plain": [
       "| solver                         | Solver used for training                         | adagrad  |"
      ]
     },
     "metadata": {},
     "output_type": "display_data"
    },
    {
     "data": {
      "text/html": [
       "<pre>| linear_regularization          | L2 Regularization on Linear Coefficients         | 1e-009   |</pre>"
      ],
      "text/plain": [
       "| linear_regularization          | L2 Regularization on Linear Coefficients         | 1e-009   |"
      ]
     },
     "metadata": {},
     "output_type": "display_data"
    },
    {
     "data": {
      "text/html": [
       "<pre>| ranking_regularization         | Rank-based Regularization Weight                 | 0.25     |</pre>"
      ],
      "text/plain": [
       "| ranking_regularization         | Rank-based Regularization Weight                 | 0.25     |"
      ]
     },
     "metadata": {},
     "output_type": "display_data"
    },
    {
     "data": {
      "text/html": [
       "<pre>| max_iterations                 | Maximum Number of Iterations                     | 25       |</pre>"
      ],
      "text/plain": [
       "| max_iterations                 | Maximum Number of Iterations                     | 25       |"
      ]
     },
     "metadata": {},
     "output_type": "display_data"
    },
    {
     "data": {
      "text/html": [
       "<pre>+--------------------------------+--------------------------------------------------+----------+</pre>"
      ],
      "text/plain": [
       "+--------------------------------+--------------------------------------------------+----------+"
      ]
     },
     "metadata": {},
     "output_type": "display_data"
    },
    {
     "data": {
      "text/html": [
       "<pre>  Optimizing model using SGD; tuning step size.</pre>"
      ],
      "text/plain": [
       "  Optimizing model using SGD; tuning step size."
      ]
     },
     "metadata": {},
     "output_type": "display_data"
    },
    {
     "data": {
      "text/html": [
       "<pre>  Using 189853 / 1518829 points for tuning the step size.</pre>"
      ],
      "text/plain": [
       "  Using 189853 / 1518829 points for tuning the step size."
      ]
     },
     "metadata": {},
     "output_type": "display_data"
    },
    {
     "data": {
      "text/html": [
       "<pre>+---------+-------------------+------------------------------------------+</pre>"
      ],
      "text/plain": [
       "+---------+-------------------+------------------------------------------+"
      ]
     },
     "metadata": {},
     "output_type": "display_data"
    },
    {
     "data": {
      "text/html": [
       "<pre>| Attempt | Initial Step Size | Estimated Objective Value                |</pre>"
      ],
      "text/plain": [
       "| Attempt | Initial Step Size | Estimated Objective Value                |"
      ]
     },
     "metadata": {},
     "output_type": "display_data"
    },
    {
     "data": {
      "text/html": [
       "<pre>+---------+-------------------+------------------------------------------+</pre>"
      ],
      "text/plain": [
       "+---------+-------------------+------------------------------------------+"
      ]
     },
     "metadata": {},
     "output_type": "display_data"
    },
    {
     "data": {
      "text/html": [
       "<pre>| 0       | 4.16667           | Not Viable                               |</pre>"
      ],
      "text/plain": [
       "| 0       | 4.16667           | Not Viable                               |"
      ]
     },
     "metadata": {},
     "output_type": "display_data"
    },
    {
     "data": {
      "text/html": [
       "<pre>| 1       | 1.04167           | Not Viable                               |</pre>"
      ],
      "text/plain": [
       "| 1       | 1.04167           | Not Viable                               |"
      ]
     },
     "metadata": {},
     "output_type": "display_data"
    },
    {
     "data": {
      "text/html": [
       "<pre>| 2       | 0.260417          | Not Viable                               |</pre>"
      ],
      "text/plain": [
       "| 2       | 0.260417          | Not Viable                               |"
      ]
     },
     "metadata": {},
     "output_type": "display_data"
    },
    {
     "data": {
      "text/html": [
       "<pre>| 3       | 0.0651042         | Not Viable                               |</pre>"
      ],
      "text/plain": [
       "| 3       | 0.0651042         | Not Viable                               |"
      ]
     },
     "metadata": {},
     "output_type": "display_data"
    },
    {
     "data": {
      "text/html": [
       "<pre>| 4       | 0.016276          | Not Viable                               |</pre>"
      ],
      "text/plain": [
       "| 4       | 0.016276          | Not Viable                               |"
      ]
     },
     "metadata": {},
     "output_type": "display_data"
    },
    {
     "data": {
      "text/html": [
       "<pre>| 5       | 0.00406901        | 0.926906                                 |</pre>"
      ],
      "text/plain": [
       "| 5       | 0.00406901        | 0.926906                                 |"
      ]
     },
     "metadata": {},
     "output_type": "display_data"
    },
    {
     "data": {
      "text/html": [
       "<pre>| 6       | 0.00203451        | 0.842206                                 |</pre>"
      ],
      "text/plain": [
       "| 6       | 0.00203451        | 0.842206                                 |"
      ]
     },
     "metadata": {},
     "output_type": "display_data"
    },
    {
     "data": {
      "text/html": [
       "<pre>| 7       | 0.00101725        | 0.939426                                 |</pre>"
      ],
      "text/plain": [
       "| 7       | 0.00101725        | 0.939426                                 |"
      ]
     },
     "metadata": {},
     "output_type": "display_data"
    },
    {
     "data": {
      "text/html": [
       "<pre>| 8       | 0.000508626       | No Decrease (6.1021 >= 1.10361)          |</pre>"
      ],
      "text/plain": [
       "| 8       | 0.000508626       | No Decrease (6.1021 >= 1.10361)          |"
      ]
     },
     "metadata": {},
     "output_type": "display_data"
    },
    {
     "data": {
      "text/html": [
       "<pre>| 9       | 0.000127157       | No Decrease (2.31847 >= 1.10361)         |</pre>"
      ],
      "text/plain": [
       "| 9       | 0.000127157       | No Decrease (2.31847 >= 1.10361)         |"
      ]
     },
     "metadata": {},
     "output_type": "display_data"
    },
    {
     "data": {
      "text/html": [
       "<pre>+---------+-------------------+------------------------------------------+</pre>"
      ],
      "text/plain": [
       "+---------+-------------------+------------------------------------------+"
      ]
     },
     "metadata": {},
     "output_type": "display_data"
    },
    {
     "data": {
      "text/html": [
       "<pre>| Final   | 0.00203451        | 0.842206                                 |</pre>"
      ],
      "text/plain": [
       "| Final   | 0.00203451        | 0.842206                                 |"
      ]
     },
     "metadata": {},
     "output_type": "display_data"
    },
    {
     "data": {
      "text/html": [
       "<pre>+---------+-------------------+------------------------------------------+</pre>"
      ],
      "text/plain": [
       "+---------+-------------------+------------------------------------------+"
      ]
     },
     "metadata": {},
     "output_type": "display_data"
    },
    {
     "data": {
      "text/html": [
       "<pre>Starting Optimization.</pre>"
      ],
      "text/plain": [
       "Starting Optimization."
      ]
     },
     "metadata": {},
     "output_type": "display_data"
    },
    {
     "data": {
      "text/html": [
       "<pre>+---------+--------------+-------------------+-----------------------+-------------+</pre>"
      ],
      "text/plain": [
       "+---------+--------------+-------------------+-----------------------+-------------+"
      ]
     },
     "metadata": {},
     "output_type": "display_data"
    },
    {
     "data": {
      "text/html": [
       "<pre>| Iter.   | Elapsed Time | Approx. Objective | Approx. Training RMSE | Step Size   |</pre>"
      ],
      "text/plain": [
       "| Iter.   | Elapsed Time | Approx. Objective | Approx. Training RMSE | Step Size   |"
      ]
     },
     "metadata": {},
     "output_type": "display_data"
    },
    {
     "data": {
      "text/html": [
       "<pre>+---------+--------------+-------------------+-----------------------+-------------+</pre>"
      ],
      "text/plain": [
       "+---------+--------------+-------------------+-----------------------+-------------+"
      ]
     },
     "metadata": {},
     "output_type": "display_data"
    },
    {
     "data": {
      "text/html": [
       "<pre>| Initial | 0us          | 1.105             | 0.750756              |             |</pre>"
      ],
      "text/plain": [
       "| Initial | 0us          | 1.105             | 0.750756              |             |"
      ]
     },
     "metadata": {},
     "output_type": "display_data"
    },
    {
     "data": {
      "text/html": [
       "<pre>+---------+--------------+-------------------+-----------------------+-------------+</pre>"
      ],
      "text/plain": [
       "+---------+--------------+-------------------+-----------------------+-------------+"
      ]
     },
     "metadata": {},
     "output_type": "display_data"
    },
    {
     "data": {
      "text/html": [
       "<pre>| 1       | 2.95s        | 0.733769          | 0.535817              | 0.00203451  |</pre>"
      ],
      "text/plain": [
       "| 1       | 2.95s        | 0.733769          | 0.535817              | 0.00203451  |"
      ]
     },
     "metadata": {},
     "output_type": "display_data"
    },
    {
     "data": {
      "text/html": [
       "<pre>| 2       | 6.81s        | DIVERGED          | DIVERGED              | 0.00203451  |</pre>"
      ],
      "text/plain": [
       "| 2       | 6.81s        | DIVERGED          | DIVERGED              | 0.00203451  |"
      ]
     },
     "metadata": {},
     "output_type": "display_data"
    },
    {
     "data": {
      "text/html": [
       "<pre>| RESET   | 7.88s        | 1.10555           | 0.751101              |             |</pre>"
      ],
      "text/plain": [
       "| RESET   | 7.88s        | 1.10555           | 0.751101              |             |"
      ]
     },
     "metadata": {},
     "output_type": "display_data"
    },
    {
     "data": {
      "text/html": [
       "<pre>| 1       | 11.63s       | DIVERGED          | DIVERGED              | 0.00101725  |</pre>"
      ],
      "text/plain": [
       "| 1       | 11.63s       | DIVERGED          | DIVERGED              | 0.00101725  |"
      ]
     },
     "metadata": {},
     "output_type": "display_data"
    },
    {
     "data": {
      "text/html": [
       "<pre>| RESET   | 12.73s       | 1.10425           | 0.750254              |             |</pre>"
      ],
      "text/plain": [
       "| RESET   | 12.73s       | 1.10425           | 0.750254              |             |"
      ]
     },
     "metadata": {},
     "output_type": "display_data"
    },
    {
     "data": {
      "text/html": [
       "<pre>| 1       | 16.58s       | DIVERGED          | DIVERGED              | 0.000508626 |</pre>"
      ],
      "text/plain": [
       "| 1       | 16.58s       | DIVERGED          | DIVERGED              | 0.000508626 |"
      ]
     },
     "metadata": {},
     "output_type": "display_data"
    },
    {
     "data": {
      "text/html": [
       "<pre>| RESET   | 17.79s       | 1.10414           | 0.750175              |             |</pre>"
      ],
      "text/plain": [
       "| RESET   | 17.79s       | 1.10414           | 0.750175              |             |"
      ]
     },
     "metadata": {},
     "output_type": "display_data"
    },
    {
     "data": {
      "text/html": [
       "<pre>| 1       | 21.84s       | DIVERGED          | DIVERGED              | 0.000254313 |</pre>"
      ],
      "text/plain": [
       "| 1       | 21.84s       | DIVERGED          | DIVERGED              | 0.000254313 |"
      ]
     },
     "metadata": {},
     "output_type": "display_data"
    },
    {
     "data": {
      "text/html": [
       "<pre>| RESET   | 22.85s       | 1.10503           | 0.750807              |             |</pre>"
      ],
      "text/plain": [
       "| RESET   | 22.85s       | 1.10503           | 0.750807              |             |"
      ]
     },
     "metadata": {},
     "output_type": "display_data"
    },
    {
     "data": {
      "text/html": [
       "<pre>| 1       | 27.43s       | DIVERGED          | DIVERGED              | 0.000127157 |</pre>"
      ],
      "text/plain": [
       "| 1       | 27.43s       | DIVERGED          | DIVERGED              | 0.000127157 |"
      ]
     },
     "metadata": {},
     "output_type": "display_data"
    },
    {
     "data": {
      "text/html": [
       "<pre>| RESET   | 28.50s       | 1.10442           | 0.750383              |             |</pre>"
      ],
      "text/plain": [
       "| RESET   | 28.50s       | 1.10442           | 0.750383              |             |"
      ]
     },
     "metadata": {},
     "output_type": "display_data"
    },
    {
     "data": {
      "text/html": [
       "<pre>| 1       | 31.54s       | 1.44775           | 0.866908              |             |</pre>"
      ],
      "text/plain": [
       "| 1       | 31.54s       | 1.44775           | 0.866908              |             |"
      ]
     },
     "metadata": {},
     "output_type": "display_data"
    },
    {
     "data": {
      "text/html": [
       "<pre>| 2       | 34.59s       | 1.98117           | 1.05641               |             |</pre>"
      ],
      "text/plain": [
       "| 2       | 34.59s       | 1.98117           | 1.05641               |             |"
      ]
     },
     "metadata": {},
     "output_type": "display_data"
    },
    {
     "data": {
      "text/html": [
       "<pre>| 3       | 38.59s       | DIVERGED          | DIVERGED              |             |</pre>"
      ],
      "text/plain": [
       "| 3       | 38.59s       | DIVERGED          | DIVERGED              |             |"
      ]
     },
     "metadata": {},
     "output_type": "display_data"
    },
    {
     "data": {
      "text/html": [
       "<pre>| RESET   | 39.66s       | 1.10483           | 0.750644              |             |</pre>"
      ],
      "text/plain": [
       "| RESET   | 39.66s       | 1.10483           | 0.750644              |             |"
      ]
     },
     "metadata": {},
     "output_type": "display_data"
    },
    {
     "data": {
      "text/html": [
       "<pre>| 1       | 42.77s       | 1.13799           | 0.748761              |             |</pre>"
      ],
      "text/plain": [
       "| 1       | 42.77s       | 1.13799           | 0.748761              |             |"
      ]
     },
     "metadata": {},
     "output_type": "display_data"
    },
    {
     "data": {
      "text/html": [
       "<pre>| 2       | 45.72s       | 1.27379           | 0.795939              |             |</pre>"
      ],
      "text/plain": [
       "| 2       | 45.72s       | 1.27379           | 0.795939              |             |"
      ]
     },
     "metadata": {},
     "output_type": "display_data"
    },
    {
     "data": {
      "text/html": [
       "<pre>| 3       | 48.83s       | 1.4351            | 0.856921              |             |</pre>"
      ],
      "text/plain": [
       "| 3       | 48.83s       | 1.4351            | 0.856921              |             |"
      ]
     },
     "metadata": {},
     "output_type": "display_data"
    },
    {
     "data": {
      "text/html": [
       "<pre>| 4       | 51.76s       | 1.56348           | 0.905372              |             |</pre>"
      ],
      "text/plain": [
       "| 4       | 51.76s       | 1.56348           | 0.905372              |             |"
      ]
     },
     "metadata": {},
     "output_type": "display_data"
    },
    {
     "data": {
      "text/html": [
       "<pre>| 5       | 55.96s       | DIVERGED          | DIVERGED              |             |</pre>"
      ],
      "text/plain": [
       "| 5       | 55.96s       | DIVERGED          | DIVERGED              |             |"
      ]
     },
     "metadata": {},
     "output_type": "display_data"
    },
    {
     "data": {
      "text/html": [
       "<pre>| RESET   | 56.99s       | 1.10475           | 0.7506                |             |</pre>"
      ],
      "text/plain": [
       "| RESET   | 56.99s       | 1.10475           | 0.7506                |             |"
      ]
     },
     "metadata": {},
     "output_type": "display_data"
    },
    {
     "data": {
      "text/html": [
       "<pre>| 1       | 1m 0s        | 1.09565           | 0.739579              |             |</pre>"
      ],
      "text/plain": [
       "| 1       | 1m 0s        | 1.09565           | 0.739579              |             |"
      ]
     },
     "metadata": {},
     "output_type": "display_data"
    },
    {
     "data": {
      "text/html": [
       "<pre>| 2       | 1m 3s        | 1.11406           | 0.740053              |             |</pre>"
      ],
      "text/plain": [
       "| 2       | 1m 3s        | 1.11406           | 0.740053              |             |"
      ]
     },
     "metadata": {},
     "output_type": "display_data"
    },
    {
     "data": {
      "text/html": [
       "<pre>| 3       | 1m 6s        | 1.14263           | 0.747617              |             |</pre>"
      ],
      "text/plain": [
       "| 3       | 1m 6s        | 1.14263           | 0.747617              |             |"
      ]
     },
     "metadata": {},
     "output_type": "display_data"
    },
    {
     "data": {
      "text/html": [
       "<pre>| 4       | 1m 9s        | 1.17621           | 0.758585              |             |</pre>"
      ],
      "text/plain": [
       "| 4       | 1m 9s        | 1.17621           | 0.758585              |             |"
      ]
     },
     "metadata": {},
     "output_type": "display_data"
    },
    {
     "data": {
      "text/html": [
       "<pre>| 5       | 1m 12s       | 1.21165           | 0.770945              |             |</pre>"
      ],
      "text/plain": [
       "| 5       | 1m 12s       | 1.21165           | 0.770945              |             |"
      ]
     },
     "metadata": {},
     "output_type": "display_data"
    },
    {
     "data": {
      "text/html": [
       "<pre>| 6       | 1m 15s       | 1.25125           | 0.785494              |             |</pre>"
      ],
      "text/plain": [
       "| 6       | 1m 15s       | 1.25125           | 0.785494              |             |"
      ]
     },
     "metadata": {},
     "output_type": "display_data"
    },
    {
     "data": {
      "text/html": [
       "<pre>| 7       | 1m 19s       | DIVERGED          | DIVERGED              |             |</pre>"
      ],
      "text/plain": [
       "| 7       | 1m 19s       | DIVERGED          | DIVERGED              |             |"
      ]
     },
     "metadata": {},
     "output_type": "display_data"
    },
    {
     "data": {
      "text/html": [
       "<pre>| RESET   | 1m 20s       | 1.10453           | 0.750475              |             |</pre>"
      ],
      "text/plain": [
       "| RESET   | 1m 20s       | 1.10453           | 0.750475              |             |"
      ]
     },
     "metadata": {},
     "output_type": "display_data"
    },
    {
     "data": {
      "text/html": [
       "<pre>| 1       | 1m 23s       | 1.09744           | 0.744188              |             |</pre>"
      ],
      "text/plain": [
       "| 1       | 1m 23s       | 1.09744           | 0.744188              |             |"
      ]
     },
     "metadata": {},
     "output_type": "display_data"
    },
    {
     "data": {
      "text/html": [
       "<pre>| 2       | 1m 26s       | 1.09743           | 0.740915              |             |</pre>"
      ],
      "text/plain": [
       "| 2       | 1m 26s       | 1.09743           | 0.740915              |             |"
      ]
     },
     "metadata": {},
     "output_type": "display_data"
    },
    {
     "data": {
      "text/html": [
       "<pre>| 3       | 1m 29s       | 1.10115           | 0.74016               |             |</pre>"
      ],
      "text/plain": [
       "| 3       | 1m 29s       | 1.10115           | 0.74016               |             |"
      ]
     },
     "metadata": {},
     "output_type": "display_data"
    },
    {
     "data": {
      "text/html": [
       "<pre>| 4       | 1m 32s       | 1.10698           | 0.740401              |             |</pre>"
      ],
      "text/plain": [
       "| 4       | 1m 32s       | 1.10698           | 0.740401              |             |"
      ]
     },
     "metadata": {},
     "output_type": "display_data"
    },
    {
     "data": {
      "text/html": [
       "<pre>| 5       | 1m 35s       | 1.11368           | 0.741514              |             |</pre>"
      ],
      "text/plain": [
       "| 5       | 1m 35s       | 1.11368           | 0.741514              |             |"
      ]
     },
     "metadata": {},
     "output_type": "display_data"
    },
    {
     "data": {
      "text/html": [
       "<pre>| 6       | 1m 38s       | 1.12178           | 0.743218              |             |</pre>"
      ],
      "text/plain": [
       "| 6       | 1m 38s       | 1.12178           | 0.743218              |             |"
      ]
     },
     "metadata": {},
     "output_type": "display_data"
    },
    {
     "data": {
      "text/html": [
       "<pre>| 7       | 1m 41s       | 1.13037           | 0.745493              |             |</pre>"
      ],
      "text/plain": [
       "| 7       | 1m 41s       | 1.13037           | 0.745493              |             |"
      ]
     },
     "metadata": {},
     "output_type": "display_data"
    },
    {
     "data": {
      "text/html": [
       "<pre>| 8       | 1m 44s       | 1.13935           | 0.748097              |             |</pre>"
      ],
      "text/plain": [
       "| 8       | 1m 44s       | 1.13935           | 0.748097              |             |"
      ]
     },
     "metadata": {},
     "output_type": "display_data"
    },
    {
     "data": {
      "text/html": [
       "<pre>| 9       | 1m 48s       | DIVERGED          | DIVERGED              |             |</pre>"
      ],
      "text/plain": [
       "| 9       | 1m 48s       | DIVERGED          | DIVERGED              |             |"
      ]
     },
     "metadata": {},
     "output_type": "display_data"
    },
    {
     "data": {
      "text/html": [
       "<pre>| RESET   | 1m 50s       | 1.10522           | 0.750893              |             |</pre>"
      ],
      "text/plain": [
       "| RESET   | 1m 50s       | 1.10522           | 0.750893              |             |"
      ]
     },
     "metadata": {},
     "output_type": "display_data"
    },
    {
     "data": {
      "text/html": [
       "<pre>+---------+--------------+-------------------+-----------------------+-------------+</pre>"
      ],
      "text/plain": [
       "+---------+--------------+-------------------+-----------------------+-------------+"
      ]
     },
     "metadata": {},
     "output_type": "display_data"
    },
    {
     "data": {
      "text/html": [
       "<pre>Optimization Complete: Maximum number of passes through the data reached (hard limit).</pre>"
      ],
      "text/plain": [
       "Optimization Complete: Maximum number of passes through the data reached (hard limit)."
      ]
     },
     "metadata": {},
     "output_type": "display_data"
    },
    {
     "data": {
      "text/html": [
       "<pre>Computing final objective value and training RMSE.</pre>"
      ],
      "text/plain": [
       "Computing final objective value and training RMSE."
      ]
     },
     "metadata": {},
     "output_type": "display_data"
    },
    {
     "data": {
      "text/html": [
       "<pre>       Final objective value: 1.10522</pre>"
      ],
      "text/plain": [
       "       Final objective value: 1.10522"
      ]
     },
     "metadata": {},
     "output_type": "display_data"
    },
    {
     "data": {
      "text/html": [
       "<pre>       Final training RMSE: 0.750893</pre>"
      ],
      "text/plain": [
       "       Final training RMSE: 0.750893"
      ]
     },
     "metadata": {},
     "output_type": "display_data"
    },
    {
     "data": {
      "text/html": [
       "<pre>recommendations finished on 1000/32909 queries. users per second: 983.918</pre>"
      ],
      "text/plain": [
       "recommendations finished on 1000/32909 queries. users per second: 983.918"
      ]
     },
     "metadata": {},
     "output_type": "display_data"
    },
    {
     "data": {
      "text/html": [
       "<pre>recommendations finished on 2000/32909 queries. users per second: 970.99</pre>"
      ],
      "text/plain": [
       "recommendations finished on 2000/32909 queries. users per second: 970.99"
      ]
     },
     "metadata": {},
     "output_type": "display_data"
    },
    {
     "data": {
      "text/html": [
       "<pre>recommendations finished on 3000/32909 queries. users per second: 967.538</pre>"
      ],
      "text/plain": [
       "recommendations finished on 3000/32909 queries. users per second: 967.538"
      ]
     },
     "metadata": {},
     "output_type": "display_data"
    },
    {
     "data": {
      "text/html": [
       "<pre>recommendations finished on 4000/32909 queries. users per second: 967.694</pre>"
      ],
      "text/plain": [
       "recommendations finished on 4000/32909 queries. users per second: 967.694"
      ]
     },
     "metadata": {},
     "output_type": "display_data"
    },
    {
     "data": {
      "text/html": [
       "<pre>recommendations finished on 5000/32909 queries. users per second: 970.329</pre>"
      ],
      "text/plain": [
       "recommendations finished on 5000/32909 queries. users per second: 970.329"
      ]
     },
     "metadata": {},
     "output_type": "display_data"
    },
    {
     "data": {
      "text/html": [
       "<pre>recommendations finished on 6000/32909 queries. users per second: 970.99</pre>"
      ],
      "text/plain": [
       "recommendations finished on 6000/32909 queries. users per second: 970.99"
      ]
     },
     "metadata": {},
     "output_type": "display_data"
    },
    {
     "data": {
      "text/html": [
       "<pre>recommendations finished on 7000/32909 queries. users per second: 971.26</pre>"
      ],
      "text/plain": [
       "recommendations finished on 7000/32909 queries. users per second: 971.26"
      ]
     },
     "metadata": {},
     "output_type": "display_data"
    },
    {
     "data": {
      "text/html": [
       "<pre>recommendations finished on 8000/32909 queries. users per second: 971.049</pre>"
      ],
      "text/plain": [
       "recommendations finished on 8000/32909 queries. users per second: 971.049"
      ]
     },
     "metadata": {},
     "output_type": "display_data"
    },
    {
     "data": {
      "text/html": [
       "<pre>recommendations finished on 9000/32909 queries. users per second: 970.098</pre>"
      ],
      "text/plain": [
       "recommendations finished on 9000/32909 queries. users per second: 970.098"
      ]
     },
     "metadata": {},
     "output_type": "display_data"
    },
    {
     "data": {
      "text/html": [
       "<pre>recommendations finished on 10000/32909 queries. users per second: 970.235</pre>"
      ],
      "text/plain": [
       "recommendations finished on 10000/32909 queries. users per second: 970.235"
      ]
     },
     "metadata": {},
     "output_type": "display_data"
    },
    {
     "data": {
      "text/html": [
       "<pre>recommendations finished on 11000/32909 queries. users per second: 971.635</pre>"
      ],
      "text/plain": [
       "recommendations finished on 11000/32909 queries. users per second: 971.635"
      ]
     },
     "metadata": {},
     "output_type": "display_data"
    },
    {
     "data": {
      "text/html": [
       "<pre>recommendations finished on 12000/32909 queries. users per second: 970.636</pre>"
      ],
      "text/plain": [
       "recommendations finished on 12000/32909 queries. users per second: 970.636"
      ]
     },
     "metadata": {},
     "output_type": "display_data"
    },
    {
     "data": {
      "text/html": [
       "<pre>recommendations finished on 13000/32909 queries. users per second: 972.155</pre>"
      ],
      "text/plain": [
       "recommendations finished on 13000/32909 queries. users per second: 972.155"
      ]
     },
     "metadata": {},
     "output_type": "display_data"
    },
    {
     "data": {
      "text/html": [
       "<pre>recommendations finished on 14000/32909 queries. users per second: 971.666</pre>"
      ],
      "text/plain": [
       "recommendations finished on 14000/32909 queries. users per second: 971.666"
      ]
     },
     "metadata": {},
     "output_type": "display_data"
    },
    {
     "data": {
      "text/html": [
       "<pre>recommendations finished on 15000/32909 queries. users per second: 970.109</pre>"
      ],
      "text/plain": [
       "recommendations finished on 15000/32909 queries. users per second: 970.109"
      ]
     },
     "metadata": {},
     "output_type": "display_data"
    },
    {
     "data": {
      "text/html": [
       "<pre>recommendations finished on 16000/32909 queries. users per second: 970.252</pre>"
      ],
      "text/plain": [
       "recommendations finished on 16000/32909 queries. users per second: 970.252"
      ]
     },
     "metadata": {},
     "output_type": "display_data"
    },
    {
     "data": {
      "text/html": [
       "<pre>recommendations finished on 17000/32909 queries. users per second: 970.213</pre>"
      ],
      "text/plain": [
       "recommendations finished on 17000/32909 queries. users per second: 970.213"
      ]
     },
     "metadata": {},
     "output_type": "display_data"
    },
    {
     "data": {
      "text/html": [
       "<pre>recommendations finished on 18000/32909 queries. users per second: 971.016</pre>"
      ],
      "text/plain": [
       "recommendations finished on 18000/32909 queries. users per second: 971.016"
      ]
     },
     "metadata": {},
     "output_type": "display_data"
    },
    {
     "data": {
      "text/html": [
       "<pre>recommendations finished on 19000/32909 queries. users per second: 972.634</pre>"
      ],
      "text/plain": [
       "recommendations finished on 19000/32909 queries. users per second: 972.634"
      ]
     },
     "metadata": {},
     "output_type": "display_data"
    },
    {
     "data": {
      "text/html": [
       "<pre>recommendations finished on 20000/32909 queries. users per second: 973.263</pre>"
      ],
      "text/plain": [
       "recommendations finished on 20000/32909 queries. users per second: 973.263"
      ]
     },
     "metadata": {},
     "output_type": "display_data"
    },
    {
     "data": {
      "text/html": [
       "<pre>recommendations finished on 21000/32909 queries. users per second: 972.184</pre>"
      ],
      "text/plain": [
       "recommendations finished on 21000/32909 queries. users per second: 972.184"
      ]
     },
     "metadata": {},
     "output_type": "display_data"
    },
    {
     "data": {
      "text/html": [
       "<pre>recommendations finished on 22000/32909 queries. users per second: 968.142</pre>"
      ],
      "text/plain": [
       "recommendations finished on 22000/32909 queries. users per second: 968.142"
      ]
     },
     "metadata": {},
     "output_type": "display_data"
    },
    {
     "data": {
      "text/html": [
       "<pre>recommendations finished on 23000/32909 queries. users per second: 968.511</pre>"
      ],
      "text/plain": [
       "recommendations finished on 23000/32909 queries. users per second: 968.511"
      ]
     },
     "metadata": {},
     "output_type": "display_data"
    },
    {
     "data": {
      "text/html": [
       "<pre>recommendations finished on 24000/32909 queries. users per second: 969.045</pre>"
      ],
      "text/plain": [
       "recommendations finished on 24000/32909 queries. users per second: 969.045"
      ]
     },
     "metadata": {},
     "output_type": "display_data"
    },
    {
     "data": {
      "text/html": [
       "<pre>recommendations finished on 25000/32909 queries. users per second: 969.782</pre>"
      ],
      "text/plain": [
       "recommendations finished on 25000/32909 queries. users per second: 969.782"
      ]
     },
     "metadata": {},
     "output_type": "display_data"
    },
    {
     "data": {
      "text/html": [
       "<pre>recommendations finished on 26000/32909 queries. users per second: 969.756</pre>"
      ],
      "text/plain": [
       "recommendations finished on 26000/32909 queries. users per second: 969.756"
      ]
     },
     "metadata": {},
     "output_type": "display_data"
    },
    {
     "data": {
      "text/html": [
       "<pre>recommendations finished on 27000/32909 queries. users per second: 969.557</pre>"
      ],
      "text/plain": [
       "recommendations finished on 27000/32909 queries. users per second: 969.557"
      ]
     },
     "metadata": {},
     "output_type": "display_data"
    },
    {
     "data": {
      "text/html": [
       "<pre>recommendations finished on 28000/32909 queries. users per second: 969.777</pre>"
      ],
      "text/plain": [
       "recommendations finished on 28000/32909 queries. users per second: 969.777"
      ]
     },
     "metadata": {},
     "output_type": "display_data"
    },
    {
     "data": {
      "text/html": [
       "<pre>recommendations finished on 29000/32909 queries. users per second: 969.916</pre>"
      ],
      "text/plain": [
       "recommendations finished on 29000/32909 queries. users per second: 969.916"
      ]
     },
     "metadata": {},
     "output_type": "display_data"
    },
    {
     "data": {
      "text/html": [
       "<pre>recommendations finished on 30000/32909 queries. users per second: 969.952</pre>"
      ],
      "text/plain": [
       "recommendations finished on 30000/32909 queries. users per second: 969.952"
      ]
     },
     "metadata": {},
     "output_type": "display_data"
    },
    {
     "data": {
      "text/html": [
       "<pre>recommendations finished on 31000/32909 queries. users per second: 969.195</pre>"
      ],
      "text/plain": [
       "recommendations finished on 31000/32909 queries. users per second: 969.195"
      ]
     },
     "metadata": {},
     "output_type": "display_data"
    },
    {
     "data": {
      "text/html": [
       "<pre>recommendations finished on 32000/32909 queries. users per second: 965.937</pre>"
      ],
      "text/plain": [
       "recommendations finished on 32000/32909 queries. users per second: 965.937"
      ]
     },
     "metadata": {},
     "output_type": "display_data"
    },
    {
     "data": {
      "text/html": [
       "<div style=\"max-height:1000px;max-width:1500px;overflow:auto;\"><table frame=\"box\" rules=\"cols\">\n",
       "    <tr>\n",
       "        <th style=\"padding-left: 1em; padding-right: 1em; text-align: center\">review_profilename</th>\n",
       "        <th style=\"padding-left: 1em; padding-right: 1em; text-align: center\">beer_name</th>\n",
       "        <th style=\"padding-left: 1em; padding-right: 1em; text-align: center\">score</th>\n",
       "        <th style=\"padding-left: 1em; padding-right: 1em; text-align: center\">rank</th>\n",
       "    </tr>\n",
       "    <tr>\n",
       "        <td style=\"padding-left: 1em; padding-right: 1em; text-align: center; vertical-align: top\">stcules</td>\n",
       "        <td style=\"padding-left: 1em; padding-right: 1em; text-align: center; vertical-align: top\">Pioneer Imperial American<br>Brown Ale ...</td>\n",
       "        <td style=\"padding-left: 1em; padding-right: 1em; text-align: center; vertical-align: top\">3.60449393341</td>\n",
       "        <td style=\"padding-left: 1em; padding-right: 1em; text-align: center; vertical-align: top\">1</td>\n",
       "    </tr>\n",
       "    <tr>\n",
       "        <td style=\"padding-left: 1em; padding-right: 1em; text-align: center; vertical-align: top\">stcules</td>\n",
       "        <td style=\"padding-left: 1em; padding-right: 1em; text-align: center; vertical-align: top\">Little Magic Pale Ale</td>\n",
       "        <td style=\"padding-left: 1em; padding-right: 1em; text-align: center; vertical-align: top\">3.60449392814</td>\n",
       "        <td style=\"padding-left: 1em; padding-right: 1em; text-align: center; vertical-align: top\">2</td>\n",
       "    </tr>\n",
       "    <tr>\n",
       "        <td style=\"padding-left: 1em; padding-right: 1em; text-align: center; vertical-align: top\">stcules</td>\n",
       "        <td style=\"padding-left: 1em; padding-right: 1em; text-align: center; vertical-align: top\">Hackney Gold</td>\n",
       "        <td style=\"padding-left: 1em; padding-right: 1em; text-align: center; vertical-align: top\">3.60449392069</td>\n",
       "        <td style=\"padding-left: 1em; padding-right: 1em; text-align: center; vertical-align: top\">3</td>\n",
       "    </tr>\n",
       "    <tr>\n",
       "        <td style=\"padding-left: 1em; padding-right: 1em; text-align: center; vertical-align: top\">stcules</td>\n",
       "        <td style=\"padding-left: 1em; padding-right: 1em; text-align: center; vertical-align: top\">Olympia Beer</td>\n",
       "        <td style=\"padding-left: 1em; padding-right: 1em; text-align: center; vertical-align: top\">3.60449391938</td>\n",
       "        <td style=\"padding-left: 1em; padding-right: 1em; text-align: center; vertical-align: top\">4</td>\n",
       "    </tr>\n",
       "    <tr>\n",
       "        <td style=\"padding-left: 1em; padding-right: 1em; text-align: center; vertical-align: top\">stcules</td>\n",
       "        <td style=\"padding-left: 1em; padding-right: 1em; text-align: center; vertical-align: top\">Kryptonite</td>\n",
       "        <td style=\"padding-left: 1em; padding-right: 1em; text-align: center; vertical-align: top\">3.60449391306</td>\n",
       "        <td style=\"padding-left: 1em; padding-right: 1em; text-align: center; vertical-align: top\">5</td>\n",
       "    </tr>\n",
       "    <tr>\n",
       "        <td style=\"padding-left: 1em; padding-right: 1em; text-align: center; vertical-align: top\">johnmichaelsen</td>\n",
       "        <td style=\"padding-left: 1em; padding-right: 1em; text-align: center; vertical-align: top\">Pioneer Imperial American<br>Brown Ale ...</td>\n",
       "        <td style=\"padding-left: 1em; padding-right: 1em; text-align: center; vertical-align: top\">3.60410687889</td>\n",
       "        <td style=\"padding-left: 1em; padding-right: 1em; text-align: center; vertical-align: top\">1</td>\n",
       "    </tr>\n",
       "    <tr>\n",
       "        <td style=\"padding-left: 1em; padding-right: 1em; text-align: center; vertical-align: top\">johnmichaelsen</td>\n",
       "        <td style=\"padding-left: 1em; padding-right: 1em; text-align: center; vertical-align: top\">Little Magic Pale Ale</td>\n",
       "        <td style=\"padding-left: 1em; padding-right: 1em; text-align: center; vertical-align: top\">3.60410687367</td>\n",
       "        <td style=\"padding-left: 1em; padding-right: 1em; text-align: center; vertical-align: top\">2</td>\n",
       "    </tr>\n",
       "    <tr>\n",
       "        <td style=\"padding-left: 1em; padding-right: 1em; text-align: center; vertical-align: top\">johnmichaelsen</td>\n",
       "        <td style=\"padding-left: 1em; padding-right: 1em; text-align: center; vertical-align: top\">Hackney Gold</td>\n",
       "        <td style=\"padding-left: 1em; padding-right: 1em; text-align: center; vertical-align: top\">3.60410686621</td>\n",
       "        <td style=\"padding-left: 1em; padding-right: 1em; text-align: center; vertical-align: top\">3</td>\n",
       "    </tr>\n",
       "    <tr>\n",
       "        <td style=\"padding-left: 1em; padding-right: 1em; text-align: center; vertical-align: top\">johnmichaelsen</td>\n",
       "        <td style=\"padding-left: 1em; padding-right: 1em; text-align: center; vertical-align: top\">Olympia Beer</td>\n",
       "        <td style=\"padding-left: 1em; padding-right: 1em; text-align: center; vertical-align: top\">3.60410686487</td>\n",
       "        <td style=\"padding-left: 1em; padding-right: 1em; text-align: center; vertical-align: top\">4</td>\n",
       "    </tr>\n",
       "    <tr>\n",
       "        <td style=\"padding-left: 1em; padding-right: 1em; text-align: center; vertical-align: top\">johnmichaelsen</td>\n",
       "        <td style=\"padding-left: 1em; padding-right: 1em; text-align: center; vertical-align: top\">Kryptonite</td>\n",
       "        <td style=\"padding-left: 1em; padding-right: 1em; text-align: center; vertical-align: top\">3.60410685926</td>\n",
       "        <td style=\"padding-left: 1em; padding-right: 1em; text-align: center; vertical-align: top\">5</td>\n",
       "    </tr>\n",
       "</table>\n",
       "[10 rows x 4 columns]<br/>\n",
       "</div>"
      ],
      "text/plain": [
       "Columns:\n",
       "\treview_profilename\tstr\n",
       "\tbeer_name\tstr\n",
       "\tscore\tfloat\n",
       "\trank\tint\n",
       "\n",
       "Rows: 10\n",
       "\n",
       "Data:\n",
       "+--------------------+-------------------------------+---------------+------+\n",
       "| review_profilename |           beer_name           |     score     | rank |\n",
       "+--------------------+-------------------------------+---------------+------+\n",
       "|      stcules       | Pioneer Imperial American ... | 3.60449393341 |  1   |\n",
       "|      stcules       |     Little Magic Pale Ale     | 3.60449392814 |  2   |\n",
       "|      stcules       |          Hackney Gold         | 3.60449392069 |  3   |\n",
       "|      stcules       |          Olympia Beer         | 3.60449391938 |  4   |\n",
       "|      stcules       |           Kryptonite          | 3.60449391306 |  5   |\n",
       "|   johnmichaelsen   | Pioneer Imperial American ... | 3.60410687889 |  1   |\n",
       "|   johnmichaelsen   |     Little Magic Pale Ale     | 3.60410687367 |  2   |\n",
       "|   johnmichaelsen   |          Hackney Gold         | 3.60410686621 |  3   |\n",
       "|   johnmichaelsen   |          Olympia Beer         | 3.60410686487 |  4   |\n",
       "|   johnmichaelsen   |           Kryptonite          | 3.60410685926 |  5   |\n",
       "+--------------------+-------------------------------+---------------+------+\n",
       "[10 rows x 4 columns]"
      ]
     },
     "execution_count": 5,
     "metadata": {},
     "output_type": "execute_result"
    }
   ],
   "source": [
    "# This is a well known graphlab example that builds a recommendation system in 5 lines of code\n",
    "def warn(*args, **kwargs):\n",
    "    pass\n",
    "import warnings\n",
    "warnings.warn = warn\n",
    "import graphlab as gl\n",
    "\n",
    "data = gl.SFrame.read_csv(\"beer_reviews.csv\", \n",
    "                          column_type_hints={\"review_overall\":int})\n",
    "data = data.dropna()\n",
    "model = gl.recommender.create(data, user_id=\"review_profilename\", item_id=\"beer_name\", target=\"review_overall\")\n",
    "results = model.recommend(users=None, k=5)\n",
    "model.save(\"my_model\")\n",
    "\n",
    "results.head() # the recommendation output"
   ]
  },
  {
   "cell_type": "markdown",
   "metadata": {},
   "source": [
    "In the above model creation, we have found the top five highest ranking items for each user. Two users are shown with their corresponding highest ranking items (that they have not rated). It is interesting to note that both users were suggested the same beers. We must assume that both of these users have the same beer tastes and preferences."
   ]
  },
  {
   "cell_type": "code",
   "execution_count": 187,
   "metadata": {
    "collapsed": false
   },
   "outputs": [
    {
     "name": "stdout",
     "output_type": "stream",
     "text": [
      "{'India Pale Ale', 'Krušovice Imperial', 'Malheur 10°', 'Prima Pils', 'Weihenstephaner Hefeweissbier', 'Saxo', \"Saison D'Erpe-Mere\", 'Fantôme De Noel', \"Young's Double Chocolate Stout\", 'Jubiläums German Pils', 'Bieken', 'Double Dragon', 'Weihenstephaner Korbinian', 'Tripel Karmeliet', 'Porter', 'Fat Tire Amber Ale', 'Shakespeare Oatmeal Stout', 'Piraat Ale', 'Black Mamba', 'Torrey Pines IPA', 'Zinnebir', 'Moinette Blond', 'St. Feuillien Triple', 'Spaten Maibock / Premium Bock', 'Leipziger Gose', 'ViaEmilia', 'K-9 Cruiser Winter Ale', 'Urthel Samaranth', 'Saison', 'Jan De Lichte', 'Noir De Dottignies', 'Gonzo Imperial Porter', 'A Over T (Aromas Over Tongham)', 'Noël Des Géants', 'BrewDog Paradox Smokehead (Batch 015) - Smokehead', 'Trappistes Rochefort 10', 'Cantillon Lou Pepe - Kriek', 'Pilsner', 'Ebulum Elderberry Black Ale', '90 Minute IPA', 'Odell IPA', 'Malheur Brut Noir (Black Chocolate)', 'Poperings Hommel Bier', 'La Rullés Cuvée Meilleurs Voeux (Bière De Gaume)', 'Schneider Aventinus', 'Negra Modelo', 'La Moneuse Spéciale Noël', 'Bravoure', 'Pilsner Urquell', 'Rodenbach Grand Cru', 'Wostyntje', 'Würzburger Hofbräu Premium Pilsner', 'De Ranke Père Noël', 'Einbecker Ur-Bock Dunkel', 'Ayinger Celebrator Doppelbock', 'Storm King Stout', 'Lager', 'Houblon Chouffe Dobbelen IPA Tripel', 'St. Bernardus Abt 12', 'Weltenburger Kloster Asam-Bock', 'Wrasslers XXXX Stout', 'Baluba', 'Malheur Bière Brut (Brut Reserve)', 'Erdinger Weissbier Dunkel', 'Struise Tsjeeses', 'Stone 08.08.08 Vertical Epic Ale', 'La Folie', 'Gouyasse Triple', 'Fantôme Saison', 'Cuvée Van De Keizer Blauw (Blue)', '5 A.M. Saint', 'Re Ale Extra', 'Imperial Stout', \"'t Smisje Dubbel\", 'Sierra Nevada Stout', 'Anchor Porter', 'Corsendonk Agnus / Abbey Pale Ale', 'Trappist Westvleteren 12', 'Affligem Noël', 'Bink Bruin', 'Cassissona', 'Baladin Nora', 'Trappist Westvleteren 8', 'Super Baladin', 'Chocolate Stout', 'Balthazar', 'Canaster Winterscotch Ale', 'Trois Pistoles', 'Courage', 'Gouden Carolus Hopsinjoor', 'De Ranke XX Bitter', 'Gageleer', 'Ølfabrikken 100 Gram India Pale Ale', 'Gouden Carolus Noël / Christmas', 'De Koninck', 'Belhaven Scottish Stout', 'Collaboration Not Litigation Ale', 'Ale To The Chief', 'Blanche De Saisis', 'Caracole Ambrée', 'Ølfabrikken Porter', 'Scotch Silly', \"Saison D'Epeautre\", 'Tosta', 'Palm / Palm Speciale', 'Zeitgeist', 'Hercules Double IPA', 'Old Rasputin Russian Imperial Stout', 'Malheur 12°', 'Criminally Bad Elf', 'Pils', 'Trappistes Rochefort 8', 'Hell', 'Bush Ambrée', 'Oud Bruin', 'Pannepot', 'Nostradamus', 'Orval Trappist Ale', 'Stone Ruination IPA', 'Old Engine Oil', 'Kerstmutske Christmas Nightcap', 'Stone Imperial Russian Stout', '6X', 'Petrus Winterbier', 'Schwarzbier', 'Urchon', 'Weihenstephaner Vitus', 'Nuova Mattina', 'Struiselensis', 'La Rullés Estivale (Bière De Gaume)', 'Struise Mikkeller (Elliot Brew)', 'Mönchshof Kellerbier (Kellerbräu)', 'Trappist Westvleteren Blonde', 'Noël De Silenrieux', \"'t Smisje BBBourgondier\", 'Goudenband', 'Gwiniz Du', 'Leute Bok', '120 Minute IPA', 'Avec Les Bons Voeux', 'Sint Canarus Tripel', 'IPA', 'St. Feuillien Cuvée De Noël', 'Anchor Bock Beer', 'Taras Boulba', 'Cantillon Gueuze 100% Lambic-Bio (Organic Gueuze)', 'Slaapmutske Triple Nightcap', 'Schneider Weisse Original', 'Chocolate', 'St. Bernardus Pater 6', 'St. Bernardus Tripel'}\n"
     ]
    }
   ],
   "source": [
    "####trying to look up a common review to confirm they have similar tastes ....\n",
    "\n",
    "#find a beer they both reviewed\n",
    "stcules_revs = beerDF[beerDF.review_profilename =='stcules'].beer_name.unique()\n",
    "johnmic_revs = beerDF[beerDF.review_profilename =='johnmichaelsen'].beer_name.unique()\n",
    "common_revs = set(stcules_revs).intersection(johnmic_revs)\n",
    "print(common_revs)\n",
    "\n",
    "###getting an error for this section\n",
    "\n",
    "#find both reviews for 'India Pale Ale'\n",
    "#IPA_stc = beerDF[beerDF.beer_name == 'India Pale Ale'] & beerDF[beerDF.review_profilename == 'India Pale Ale']\n",
    "#IPA_joh = johnmic_revs[johnmic_revs.beer_name == 'India Pale Ale']\n",
    "\n",
    "#print (IPA_stc)\n",
    "#johnmic_revs.reset_index()\n"
   ]
  },
  {
   "cell_type": "code",
   "execution_count": 7,
   "metadata": {
    "collapsed": false,
    "deletable": true,
    "editable": true
   },
   "outputs": [
    {
     "data": {
      "text/html": [
       "<div style=\"max-height:1000px;max-width:1500px;overflow:auto;\"><table frame=\"box\" rules=\"cols\">\n",
       "    <tr>\n",
       "        <th style=\"padding-left: 1em; padding-right: 1em; text-align: center\">brewery_id</th>\n",
       "        <th style=\"padding-left: 1em; padding-right: 1em; text-align: center\">brewery_name</th>\n",
       "        <th style=\"padding-left: 1em; padding-right: 1em; text-align: center\">review_time</th>\n",
       "        <th style=\"padding-left: 1em; padding-right: 1em; text-align: center\">review_overall</th>\n",
       "        <th style=\"padding-left: 1em; padding-right: 1em; text-align: center\">review_aroma</th>\n",
       "        <th style=\"padding-left: 1em; padding-right: 1em; text-align: center\">review_appearance</th>\n",
       "    </tr>\n",
       "    <tr>\n",
       "        <td style=\"padding-left: 1em; padding-right: 1em; text-align: center; vertical-align: top\">10325</td>\n",
       "        <td style=\"padding-left: 1em; padding-right: 1em; text-align: center; vertical-align: top\">Vecchio Birraio</td>\n",
       "        <td style=\"padding-left: 1em; padding-right: 1em; text-align: center; vertical-align: top\">1234817823</td>\n",
       "        <td style=\"padding-left: 1em; padding-right: 1em; text-align: center; vertical-align: top\">1</td>\n",
       "        <td style=\"padding-left: 1em; padding-right: 1em; text-align: center; vertical-align: top\">2.0</td>\n",
       "        <td style=\"padding-left: 1em; padding-right: 1em; text-align: center; vertical-align: top\">2.5</td>\n",
       "    </tr>\n",
       "    <tr>\n",
       "        <td style=\"padding-left: 1em; padding-right: 1em; text-align: center; vertical-align: top\">10325</td>\n",
       "        <td style=\"padding-left: 1em; padding-right: 1em; text-align: center; vertical-align: top\">Vecchio Birraio</td>\n",
       "        <td style=\"padding-left: 1em; padding-right: 1em; text-align: center; vertical-align: top\">1235915097</td>\n",
       "        <td style=\"padding-left: 1em; padding-right: 1em; text-align: center; vertical-align: top\">3</td>\n",
       "        <td style=\"padding-left: 1em; padding-right: 1em; text-align: center; vertical-align: top\">2.5</td>\n",
       "        <td style=\"padding-left: 1em; padding-right: 1em; text-align: center; vertical-align: top\">3.0</td>\n",
       "    </tr>\n",
       "    <tr>\n",
       "        <td style=\"padding-left: 1em; padding-right: 1em; text-align: center; vertical-align: top\">10325</td>\n",
       "        <td style=\"padding-left: 1em; padding-right: 1em; text-align: center; vertical-align: top\">Vecchio Birraio</td>\n",
       "        <td style=\"padding-left: 1em; padding-right: 1em; text-align: center; vertical-align: top\">1235916604</td>\n",
       "        <td style=\"padding-left: 1em; padding-right: 1em; text-align: center; vertical-align: top\">3</td>\n",
       "        <td style=\"padding-left: 1em; padding-right: 1em; text-align: center; vertical-align: top\">2.5</td>\n",
       "        <td style=\"padding-left: 1em; padding-right: 1em; text-align: center; vertical-align: top\">3.0</td>\n",
       "    </tr>\n",
       "    <tr>\n",
       "        <td style=\"padding-left: 1em; padding-right: 1em; text-align: center; vertical-align: top\">10325</td>\n",
       "        <td style=\"padding-left: 1em; padding-right: 1em; text-align: center; vertical-align: top\">Vecchio Birraio</td>\n",
       "        <td style=\"padding-left: 1em; padding-right: 1em; text-align: center; vertical-align: top\">1234725145</td>\n",
       "        <td style=\"padding-left: 1em; padding-right: 1em; text-align: center; vertical-align: top\">3</td>\n",
       "        <td style=\"padding-left: 1em; padding-right: 1em; text-align: center; vertical-align: top\">3.0</td>\n",
       "        <td style=\"padding-left: 1em; padding-right: 1em; text-align: center; vertical-align: top\">3.5</td>\n",
       "    </tr>\n",
       "    <tr>\n",
       "        <td style=\"padding-left: 1em; padding-right: 1em; text-align: center; vertical-align: top\">1075</td>\n",
       "        <td style=\"padding-left: 1em; padding-right: 1em; text-align: center; vertical-align: top\">Caldera Brewing Company</td>\n",
       "        <td style=\"padding-left: 1em; padding-right: 1em; text-align: center; vertical-align: top\">1293735206</td>\n",
       "        <td style=\"padding-left: 1em; padding-right: 1em; text-align: center; vertical-align: top\">4</td>\n",
       "        <td style=\"padding-left: 1em; padding-right: 1em; text-align: center; vertical-align: top\">4.5</td>\n",
       "        <td style=\"padding-left: 1em; padding-right: 1em; text-align: center; vertical-align: top\">4.0</td>\n",
       "    </tr>\n",
       "    <tr>\n",
       "        <td style=\"padding-left: 1em; padding-right: 1em; text-align: center; vertical-align: top\">1075</td>\n",
       "        <td style=\"padding-left: 1em; padding-right: 1em; text-align: center; vertical-align: top\">Caldera Brewing Company</td>\n",
       "        <td style=\"padding-left: 1em; padding-right: 1em; text-align: center; vertical-align: top\">1325524659</td>\n",
       "        <td style=\"padding-left: 1em; padding-right: 1em; text-align: center; vertical-align: top\">3</td>\n",
       "        <td style=\"padding-left: 1em; padding-right: 1em; text-align: center; vertical-align: top\">3.5</td>\n",
       "        <td style=\"padding-left: 1em; padding-right: 1em; text-align: center; vertical-align: top\">3.5</td>\n",
       "    </tr>\n",
       "    <tr>\n",
       "        <td style=\"padding-left: 1em; padding-right: 1em; text-align: center; vertical-align: top\">1075</td>\n",
       "        <td style=\"padding-left: 1em; padding-right: 1em; text-align: center; vertical-align: top\">Caldera Brewing Company</td>\n",
       "        <td style=\"padding-left: 1em; padding-right: 1em; text-align: center; vertical-align: top\">1318991115</td>\n",
       "        <td style=\"padding-left: 1em; padding-right: 1em; text-align: center; vertical-align: top\">3</td>\n",
       "        <td style=\"padding-left: 1em; padding-right: 1em; text-align: center; vertical-align: top\">3.5</td>\n",
       "        <td style=\"padding-left: 1em; padding-right: 1em; text-align: center; vertical-align: top\">3.5</td>\n",
       "    </tr>\n",
       "    <tr>\n",
       "        <td style=\"padding-left: 1em; padding-right: 1em; text-align: center; vertical-align: top\">1075</td>\n",
       "        <td style=\"padding-left: 1em; padding-right: 1em; text-align: center; vertical-align: top\">Caldera Brewing Company</td>\n",
       "        <td style=\"padding-left: 1em; padding-right: 1em; text-align: center; vertical-align: top\">1306276018</td>\n",
       "        <td style=\"padding-left: 1em; padding-right: 1em; text-align: center; vertical-align: top\">3</td>\n",
       "        <td style=\"padding-left: 1em; padding-right: 1em; text-align: center; vertical-align: top\">2.5</td>\n",
       "        <td style=\"padding-left: 1em; padding-right: 1em; text-align: center; vertical-align: top\">3.5</td>\n",
       "    </tr>\n",
       "    <tr>\n",
       "        <td style=\"padding-left: 1em; padding-right: 1em; text-align: center; vertical-align: top\">1075</td>\n",
       "        <td style=\"padding-left: 1em; padding-right: 1em; text-align: center; vertical-align: top\">Caldera Brewing Company</td>\n",
       "        <td style=\"padding-left: 1em; padding-right: 1em; text-align: center; vertical-align: top\">1290454503</td>\n",
       "        <td style=\"padding-left: 1em; padding-right: 1em; text-align: center; vertical-align: top\">4</td>\n",
       "        <td style=\"padding-left: 1em; padding-right: 1em; text-align: center; vertical-align: top\">3.0</td>\n",
       "        <td style=\"padding-left: 1em; padding-right: 1em; text-align: center; vertical-align: top\">3.5</td>\n",
       "    </tr>\n",
       "    <tr>\n",
       "        <td style=\"padding-left: 1em; padding-right: 1em; text-align: center; vertical-align: top\">1075</td>\n",
       "        <td style=\"padding-left: 1em; padding-right: 1em; text-align: center; vertical-align: top\">Caldera Brewing Company</td>\n",
       "        <td style=\"padding-left: 1em; padding-right: 1em; text-align: center; vertical-align: top\">1285632924</td>\n",
       "        <td style=\"padding-left: 1em; padding-right: 1em; text-align: center; vertical-align: top\">4</td>\n",
       "        <td style=\"padding-left: 1em; padding-right: 1em; text-align: center; vertical-align: top\">3.5</td>\n",
       "        <td style=\"padding-left: 1em; padding-right: 1em; text-align: center; vertical-align: top\">5.0</td>\n",
       "    </tr>\n",
       "</table>\n",
       "<table frame=\"box\" rules=\"cols\">\n",
       "    <tr>\n",
       "        <th style=\"padding-left: 1em; padding-right: 1em; text-align: center\">review_profilename</th>\n",
       "        <th style=\"padding-left: 1em; padding-right: 1em; text-align: center\">beer_style</th>\n",
       "        <th style=\"padding-left: 1em; padding-right: 1em; text-align: center\">review_palate</th>\n",
       "        <th style=\"padding-left: 1em; padding-right: 1em; text-align: center\">review_taste</th>\n",
       "        <th style=\"padding-left: 1em; padding-right: 1em; text-align: center\">beer_name</th>\n",
       "        <th style=\"padding-left: 1em; padding-right: 1em; text-align: center\">beer_abv</th>\n",
       "        <th style=\"padding-left: 1em; padding-right: 1em; text-align: center\">beer_beerid</th>\n",
       "    </tr>\n",
       "    <tr>\n",
       "        <td style=\"padding-left: 1em; padding-right: 1em; text-align: center; vertical-align: top\">stcules</td>\n",
       "        <td style=\"padding-left: 1em; padding-right: 1em; text-align: center; vertical-align: top\">Hefeweizen</td>\n",
       "        <td style=\"padding-left: 1em; padding-right: 1em; text-align: center; vertical-align: top\">1.5</td>\n",
       "        <td style=\"padding-left: 1em; padding-right: 1em; text-align: center; vertical-align: top\">1.5</td>\n",
       "        <td style=\"padding-left: 1em; padding-right: 1em; text-align: center; vertical-align: top\">Sausa Weizen</td>\n",
       "        <td style=\"padding-left: 1em; padding-right: 1em; text-align: center; vertical-align: top\">5.0</td>\n",
       "        <td style=\"padding-left: 1em; padding-right: 1em; text-align: center; vertical-align: top\">47986</td>\n",
       "    </tr>\n",
       "    <tr>\n",
       "        <td style=\"padding-left: 1em; padding-right: 1em; text-align: center; vertical-align: top\">stcules</td>\n",
       "        <td style=\"padding-left: 1em; padding-right: 1em; text-align: center; vertical-align: top\">English Strong Ale</td>\n",
       "        <td style=\"padding-left: 1em; padding-right: 1em; text-align: center; vertical-align: top\">3.0</td>\n",
       "        <td style=\"padding-left: 1em; padding-right: 1em; text-align: center; vertical-align: top\">3.0</td>\n",
       "        <td style=\"padding-left: 1em; padding-right: 1em; text-align: center; vertical-align: top\">Red Moon</td>\n",
       "        <td style=\"padding-left: 1em; padding-right: 1em; text-align: center; vertical-align: top\">6.2</td>\n",
       "        <td style=\"padding-left: 1em; padding-right: 1em; text-align: center; vertical-align: top\">48213</td>\n",
       "    </tr>\n",
       "    <tr>\n",
       "        <td style=\"padding-left: 1em; padding-right: 1em; text-align: center; vertical-align: top\">stcules</td>\n",
       "        <td style=\"padding-left: 1em; padding-right: 1em; text-align: center; vertical-align: top\">Foreign / Export Stout</td>\n",
       "        <td style=\"padding-left: 1em; padding-right: 1em; text-align: center; vertical-align: top\">3.0</td>\n",
       "        <td style=\"padding-left: 1em; padding-right: 1em; text-align: center; vertical-align: top\">3.0</td>\n",
       "        <td style=\"padding-left: 1em; padding-right: 1em; text-align: center; vertical-align: top\">Black Horse Black Beer</td>\n",
       "        <td style=\"padding-left: 1em; padding-right: 1em; text-align: center; vertical-align: top\">6.5</td>\n",
       "        <td style=\"padding-left: 1em; padding-right: 1em; text-align: center; vertical-align: top\">48215</td>\n",
       "    </tr>\n",
       "    <tr>\n",
       "        <td style=\"padding-left: 1em; padding-right: 1em; text-align: center; vertical-align: top\">stcules</td>\n",
       "        <td style=\"padding-left: 1em; padding-right: 1em; text-align: center; vertical-align: top\">German Pilsener</td>\n",
       "        <td style=\"padding-left: 1em; padding-right: 1em; text-align: center; vertical-align: top\">2.5</td>\n",
       "        <td style=\"padding-left: 1em; padding-right: 1em; text-align: center; vertical-align: top\">3.0</td>\n",
       "        <td style=\"padding-left: 1em; padding-right: 1em; text-align: center; vertical-align: top\">Sausa Pils</td>\n",
       "        <td style=\"padding-left: 1em; padding-right: 1em; text-align: center; vertical-align: top\">5.0</td>\n",
       "        <td style=\"padding-left: 1em; padding-right: 1em; text-align: center; vertical-align: top\">47969</td>\n",
       "    </tr>\n",
       "    <tr>\n",
       "        <td style=\"padding-left: 1em; padding-right: 1em; text-align: center; vertical-align: top\">johnmichaelsen</td>\n",
       "        <td style=\"padding-left: 1em; padding-right: 1em; text-align: center; vertical-align: top\">American Double /<br>Imperial IPA ...</td>\n",
       "        <td style=\"padding-left: 1em; padding-right: 1em; text-align: center; vertical-align: top\">4.0</td>\n",
       "        <td style=\"padding-left: 1em; padding-right: 1em; text-align: center; vertical-align: top\">4.5</td>\n",
       "        <td style=\"padding-left: 1em; padding-right: 1em; text-align: center; vertical-align: top\">Cauldron DIPA</td>\n",
       "        <td style=\"padding-left: 1em; padding-right: 1em; text-align: center; vertical-align: top\">7.7</td>\n",
       "        <td style=\"padding-left: 1em; padding-right: 1em; text-align: center; vertical-align: top\">64883</td>\n",
       "    </tr>\n",
       "    <tr>\n",
       "        <td style=\"padding-left: 1em; padding-right: 1em; text-align: center; vertical-align: top\">oline73</td>\n",
       "        <td style=\"padding-left: 1em; padding-right: 1em; text-align: center; vertical-align: top\">Herbed / Spiced Beer</td>\n",
       "        <td style=\"padding-left: 1em; padding-right: 1em; text-align: center; vertical-align: top\">3.0</td>\n",
       "        <td style=\"padding-left: 1em; padding-right: 1em; text-align: center; vertical-align: top\">3.5</td>\n",
       "        <td style=\"padding-left: 1em; padding-right: 1em; text-align: center; vertical-align: top\">Caldera Ginger Beer</td>\n",
       "        <td style=\"padding-left: 1em; padding-right: 1em; text-align: center; vertical-align: top\">4.7</td>\n",
       "        <td style=\"padding-left: 1em; padding-right: 1em; text-align: center; vertical-align: top\">52159</td>\n",
       "    </tr>\n",
       "    <tr>\n",
       "        <td style=\"padding-left: 1em; padding-right: 1em; text-align: center; vertical-align: top\">Reidrover</td>\n",
       "        <td style=\"padding-left: 1em; padding-right: 1em; text-align: center; vertical-align: top\">Herbed / Spiced Beer</td>\n",
       "        <td style=\"padding-left: 1em; padding-right: 1em; text-align: center; vertical-align: top\">4.0</td>\n",
       "        <td style=\"padding-left: 1em; padding-right: 1em; text-align: center; vertical-align: top\">4.0</td>\n",
       "        <td style=\"padding-left: 1em; padding-right: 1em; text-align: center; vertical-align: top\">Caldera Ginger Beer</td>\n",
       "        <td style=\"padding-left: 1em; padding-right: 1em; text-align: center; vertical-align: top\">4.7</td>\n",
       "        <td style=\"padding-left: 1em; padding-right: 1em; text-align: center; vertical-align: top\">52159</td>\n",
       "    </tr>\n",
       "    <tr>\n",
       "        <td style=\"padding-left: 1em; padding-right: 1em; text-align: center; vertical-align: top\">alpinebryant</td>\n",
       "        <td style=\"padding-left: 1em; padding-right: 1em; text-align: center; vertical-align: top\">Herbed / Spiced Beer</td>\n",
       "        <td style=\"padding-left: 1em; padding-right: 1em; text-align: center; vertical-align: top\">2.0</td>\n",
       "        <td style=\"padding-left: 1em; padding-right: 1em; text-align: center; vertical-align: top\">3.5</td>\n",
       "        <td style=\"padding-left: 1em; padding-right: 1em; text-align: center; vertical-align: top\">Caldera Ginger Beer</td>\n",
       "        <td style=\"padding-left: 1em; padding-right: 1em; text-align: center; vertical-align: top\">4.7</td>\n",
       "        <td style=\"padding-left: 1em; padding-right: 1em; text-align: center; vertical-align: top\">52159</td>\n",
       "    </tr>\n",
       "    <tr>\n",
       "        <td style=\"padding-left: 1em; padding-right: 1em; text-align: center; vertical-align: top\">LordAdmNelson</td>\n",
       "        <td style=\"padding-left: 1em; padding-right: 1em; text-align: center; vertical-align: top\">Herbed / Spiced Beer</td>\n",
       "        <td style=\"padding-left: 1em; padding-right: 1em; text-align: center; vertical-align: top\">3.5</td>\n",
       "        <td style=\"padding-left: 1em; padding-right: 1em; text-align: center; vertical-align: top\">4.0</td>\n",
       "        <td style=\"padding-left: 1em; padding-right: 1em; text-align: center; vertical-align: top\">Caldera Ginger Beer</td>\n",
       "        <td style=\"padding-left: 1em; padding-right: 1em; text-align: center; vertical-align: top\">4.7</td>\n",
       "        <td style=\"padding-left: 1em; padding-right: 1em; text-align: center; vertical-align: top\">52159</td>\n",
       "    </tr>\n",
       "    <tr>\n",
       "        <td style=\"padding-left: 1em; padding-right: 1em; text-align: center; vertical-align: top\">augustgarage</td>\n",
       "        <td style=\"padding-left: 1em; padding-right: 1em; text-align: center; vertical-align: top\">Herbed / Spiced Beer</td>\n",
       "        <td style=\"padding-left: 1em; padding-right: 1em; text-align: center; vertical-align: top\">4.0</td>\n",
       "        <td style=\"padding-left: 1em; padding-right: 1em; text-align: center; vertical-align: top\">4.0</td>\n",
       "        <td style=\"padding-left: 1em; padding-right: 1em; text-align: center; vertical-align: top\">Caldera Ginger Beer</td>\n",
       "        <td style=\"padding-left: 1em; padding-right: 1em; text-align: center; vertical-align: top\">4.7</td>\n",
       "        <td style=\"padding-left: 1em; padding-right: 1em; text-align: center; vertical-align: top\">52159</td>\n",
       "    </tr>\n",
       "</table>\n",
       "[10 rows x 13 columns]<br/>\n",
       "</div>"
      ],
      "text/plain": [
       "Columns:\n",
       "\tbrewery_id\tint\n",
       "\tbrewery_name\tstr\n",
       "\treview_time\tint\n",
       "\treview_overall\tint\n",
       "\treview_aroma\tfloat\n",
       "\treview_appearance\tfloat\n",
       "\treview_profilename\tstr\n",
       "\tbeer_style\tstr\n",
       "\treview_palate\tfloat\n",
       "\treview_taste\tfloat\n",
       "\tbeer_name\tstr\n",
       "\tbeer_abv\tfloat\n",
       "\tbeer_beerid\tint\n",
       "\n",
       "Rows: 10\n",
       "\n",
       "Data:\n",
       "+------------+-------------------------+-------------+----------------+--------------+\n",
       "| brewery_id |       brewery_name      | review_time | review_overall | review_aroma |\n",
       "+------------+-------------------------+-------------+----------------+--------------+\n",
       "|   10325    |     Vecchio Birraio     |  1234817823 |       1        |     2.0      |\n",
       "|   10325    |     Vecchio Birraio     |  1235915097 |       3        |     2.5      |\n",
       "|   10325    |     Vecchio Birraio     |  1235916604 |       3        |     2.5      |\n",
       "|   10325    |     Vecchio Birraio     |  1234725145 |       3        |     3.0      |\n",
       "|    1075    | Caldera Brewing Company |  1293735206 |       4        |     4.5      |\n",
       "|    1075    | Caldera Brewing Company |  1325524659 |       3        |     3.5      |\n",
       "|    1075    | Caldera Brewing Company |  1318991115 |       3        |     3.5      |\n",
       "|    1075    | Caldera Brewing Company |  1306276018 |       3        |     2.5      |\n",
       "|    1075    | Caldera Brewing Company |  1290454503 |       4        |     3.0      |\n",
       "|    1075    | Caldera Brewing Company |  1285632924 |       4        |     3.5      |\n",
       "+------------+-------------------------+-------------+----------------+--------------+\n",
       "+-------------------+--------------------+--------------------------------+---------------+\n",
       "| review_appearance | review_profilename |           beer_style           | review_palate |\n",
       "+-------------------+--------------------+--------------------------------+---------------+\n",
       "|        2.5        |      stcules       |           Hefeweizen           |      1.5      |\n",
       "|        3.0        |      stcules       |       English Strong Ale       |      3.0      |\n",
       "|        3.0        |      stcules       |     Foreign / Export Stout     |      3.0      |\n",
       "|        3.5        |      stcules       |        German Pilsener         |      2.5      |\n",
       "|        4.0        |   johnmichaelsen   | American Double / Imperial IPA |      4.0      |\n",
       "|        3.5        |      oline73       |      Herbed / Spiced Beer      |      3.0      |\n",
       "|        3.5        |     Reidrover      |      Herbed / Spiced Beer      |      4.0      |\n",
       "|        3.5        |    alpinebryant    |      Herbed / Spiced Beer      |      2.0      |\n",
       "|        3.5        |   LordAdmNelson    |      Herbed / Spiced Beer      |      3.5      |\n",
       "|        5.0        |    augustgarage    |      Herbed / Spiced Beer      |      4.0      |\n",
       "+-------------------+--------------------+--------------------------------+---------------+\n",
       "+--------------+------------------------+----------+-------------+\n",
       "| review_taste |       beer_name        | beer_abv | beer_beerid |\n",
       "+--------------+------------------------+----------+-------------+\n",
       "|     1.5      |      Sausa Weizen      |   5.0    |    47986    |\n",
       "|     3.0      |        Red Moon        |   6.2    |    48213    |\n",
       "|     3.0      | Black Horse Black Beer |   6.5    |    48215    |\n",
       "|     3.0      |       Sausa Pils       |   5.0    |    47969    |\n",
       "|     4.5      |     Cauldron DIPA      |   7.7    |    64883    |\n",
       "|     3.5      |  Caldera Ginger Beer   |   4.7    |    52159    |\n",
       "|     4.0      |  Caldera Ginger Beer   |   4.7    |    52159    |\n",
       "|     3.5      |  Caldera Ginger Beer   |   4.7    |    52159    |\n",
       "|     4.0      |  Caldera Ginger Beer   |   4.7    |    52159    |\n",
       "|     4.0      |  Caldera Ginger Beer   |   4.7    |    52159    |\n",
       "+--------------+------------------------+----------+-------------+\n",
       "[10 rows x 13 columns]"
      ]
     },
     "execution_count": 7,
     "metadata": {},
     "output_type": "execute_result"
    }
   ],
   "source": [
    "data.head()"
   ]
  },
  {
   "cell_type": "markdown",
   "metadata": {
    "deletable": true,
    "editable": true
   },
   "source": [
    "## Recommendation system based on a per item basis"
   ]
  },
  {
   "cell_type": "code",
   "execution_count": 9,
   "metadata": {
    "collapsed": false,
    "deletable": true,
    "editable": true,
    "scrolled": true
   },
   "outputs": [
    {
     "data": {
      "text/html": [
       "<pre>Recsys training: model = item_similarity</pre>"
      ],
      "text/plain": [
       "Recsys training: model = item_similarity"
      ]
     },
     "metadata": {},
     "output_type": "display_data"
    },
    {
     "data": {
      "text/html": [
       "<pre>Warning: Ignoring columns brewery_id, brewery_name, review_time, review_aroma, review_appearance, beer_style, review_palate, review_taste, beer_abv, beer_beerid;</pre>"
      ],
      "text/plain": [
       "Warning: Ignoring columns brewery_id, brewery_name, review_time, review_aroma, review_appearance, beer_style, review_palate, review_taste, beer_abv, beer_beerid;"
      ]
     },
     "metadata": {},
     "output_type": "display_data"
    },
    {
     "data": {
      "text/html": [
       "<pre>    To use these columns in scoring predictions, use a model that allows the use of additional features.</pre>"
      ],
      "text/plain": [
       "    To use these columns in scoring predictions, use a model that allows the use of additional features."
      ]
     },
     "metadata": {},
     "output_type": "display_data"
    },
    {
     "data": {
      "text/html": [
       "<pre>Preparing data set.</pre>"
      ],
      "text/plain": [
       "Preparing data set."
      ]
     },
     "metadata": {},
     "output_type": "display_data"
    },
    {
     "data": {
      "text/html": [
       "<pre>    Data has 1518829 observations with 32909 users and 44085 items.</pre>"
      ],
      "text/plain": [
       "    Data has 1518829 observations with 32909 users and 44085 items."
      ]
     },
     "metadata": {},
     "output_type": "display_data"
    },
    {
     "data": {
      "text/html": [
       "<pre>    Data prepared in: 0.839155s</pre>"
      ],
      "text/plain": [
       "    Data prepared in: 0.839155s"
      ]
     },
     "metadata": {},
     "output_type": "display_data"
    },
    {
     "data": {
      "text/html": [
       "<pre>Training model from provided data.</pre>"
      ],
      "text/plain": [
       "Training model from provided data."
      ]
     },
     "metadata": {},
     "output_type": "display_data"
    },
    {
     "data": {
      "text/html": [
       "<pre>Gathering per-item and per-user statistics.</pre>"
      ],
      "text/plain": [
       "Gathering per-item and per-user statistics."
      ]
     },
     "metadata": {},
     "output_type": "display_data"
    },
    {
     "data": {
      "text/html": [
       "<pre>+--------------------------------+------------+</pre>"
      ],
      "text/plain": [
       "+--------------------------------+------------+"
      ]
     },
     "metadata": {},
     "output_type": "display_data"
    },
    {
     "data": {
      "text/html": [
       "<pre>| Elapsed Time (Item Statistics) | % Complete |</pre>"
      ],
      "text/plain": [
       "| Elapsed Time (Item Statistics) | % Complete |"
      ]
     },
     "metadata": {},
     "output_type": "display_data"
    },
    {
     "data": {
      "text/html": [
       "<pre>+--------------------------------+------------+</pre>"
      ],
      "text/plain": [
       "+--------------------------------+------------+"
      ]
     },
     "metadata": {},
     "output_type": "display_data"
    },
    {
     "data": {
      "text/html": [
       "<pre>| 3.008ms                        | 3          |</pre>"
      ],
      "text/plain": [
       "| 3.008ms                        | 3          |"
      ]
     },
     "metadata": {},
     "output_type": "display_data"
    },
    {
     "data": {
      "text/html": [
       "<pre>| 15.034ms                       | 100        |</pre>"
      ],
      "text/plain": [
       "| 15.034ms                       | 100        |"
      ]
     },
     "metadata": {},
     "output_type": "display_data"
    },
    {
     "data": {
      "text/html": [
       "<pre>+--------------------------------+------------+</pre>"
      ],
      "text/plain": [
       "+--------------------------------+------------+"
      ]
     },
     "metadata": {},
     "output_type": "display_data"
    },
    {
     "data": {
      "text/html": [
       "<pre>Setting up lookup tables.</pre>"
      ],
      "text/plain": [
       "Setting up lookup tables."
      ]
     },
     "metadata": {},
     "output_type": "display_data"
    },
    {
     "data": {
      "text/html": [
       "<pre>Processing data in one pass using dense lookup tables.</pre>"
      ],
      "text/plain": [
       "Processing data in one pass using dense lookup tables."
      ]
     },
     "metadata": {},
     "output_type": "display_data"
    },
    {
     "data": {
      "text/html": [
       "<pre>+-------------------------------------+------------------+-----------------+</pre>"
      ],
      "text/plain": [
       "+-------------------------------------+------------------+-----------------+"
      ]
     },
     "metadata": {},
     "output_type": "display_data"
    },
    {
     "data": {
      "text/html": [
       "<pre>| Elapsed Time (Constructing Lookups) | Total % Complete | Items Processed |</pre>"
      ],
      "text/plain": [
       "| Elapsed Time (Constructing Lookups) | Total % Complete | Items Processed |"
      ]
     },
     "metadata": {},
     "output_type": "display_data"
    },
    {
     "data": {
      "text/html": [
       "<pre>+-------------------------------------+------------------+-----------------+</pre>"
      ],
      "text/plain": [
       "+-------------------------------------+------------------+-----------------+"
      ]
     },
     "metadata": {},
     "output_type": "display_data"
    },
    {
     "data": {
      "text/html": [
       "<pre>| 5.13s                               | 0                | 18              |</pre>"
      ],
      "text/plain": [
       "| 5.13s                               | 0                | 18              |"
      ]
     },
     "metadata": {},
     "output_type": "display_data"
    },
    {
     "data": {
      "text/html": [
       "<pre>| 6.13s                               | 7.5              | 3412            |</pre>"
      ],
      "text/plain": [
       "| 6.13s                               | 7.5              | 3412            |"
      ]
     },
     "metadata": {},
     "output_type": "display_data"
    },
    {
     "data": {
      "text/html": [
       "<pre>| 7.14s                               | 19               | 8457            |</pre>"
      ],
      "text/plain": [
       "| 7.14s                               | 19               | 8457            |"
      ]
     },
     "metadata": {},
     "output_type": "display_data"
    },
    {
     "data": {
      "text/html": [
       "<pre>| 8.13s                               | 32.5             | 14345           |</pre>"
      ],
      "text/plain": [
       "| 8.13s                               | 32.5             | 14345           |"
      ]
     },
     "metadata": {},
     "output_type": "display_data"
    },
    {
     "data": {
      "text/html": [
       "<pre>| 9.20s                               | 43               | 19016           |</pre>"
      ],
      "text/plain": [
       "| 9.20s                               | 43               | 19016           |"
      ]
     },
     "metadata": {},
     "output_type": "display_data"
    },
    {
     "data": {
      "text/html": [
       "<pre>| 10.25s                              | 48               | 21210           |</pre>"
      ],
      "text/plain": [
       "| 10.25s                              | 48               | 21210           |"
      ]
     },
     "metadata": {},
     "output_type": "display_data"
    },
    {
     "data": {
      "text/html": [
       "<pre>| 11.16s                              | 53.25            | 23582           |</pre>"
      ],
      "text/plain": [
       "| 11.16s                              | 53.25            | 23582           |"
      ]
     },
     "metadata": {},
     "output_type": "display_data"
    },
    {
     "data": {
      "text/html": [
       "<pre>| 12.14s                              | 60.5             | 26700           |</pre>"
      ],
      "text/plain": [
       "| 12.14s                              | 60.5             | 26700           |"
      ]
     },
     "metadata": {},
     "output_type": "display_data"
    },
    {
     "data": {
      "text/html": [
       "<pre>| 13.19s                              | 67.5             | 29783           |</pre>"
      ],
      "text/plain": [
       "| 13.19s                              | 67.5             | 29783           |"
      ]
     },
     "metadata": {},
     "output_type": "display_data"
    },
    {
     "data": {
      "text/html": [
       "<pre>| 14.14s                              | 76.5             | 33770           |</pre>"
      ],
      "text/plain": [
       "| 14.14s                              | 76.5             | 33770           |"
      ]
     },
     "metadata": {},
     "output_type": "display_data"
    },
    {
     "data": {
      "text/html": [
       "<pre>| 15.14s                              | 84.5             | 37327           |</pre>"
      ],
      "text/plain": [
       "| 15.14s                              | 84.5             | 37327           |"
      ]
     },
     "metadata": {},
     "output_type": "display_data"
    },
    {
     "data": {
      "text/html": [
       "<pre>| 16.14s                              | 92.75            | 40969           |</pre>"
      ],
      "text/plain": [
       "| 16.14s                              | 92.75            | 40969           |"
      ]
     },
     "metadata": {},
     "output_type": "display_data"
    },
    {
     "data": {
      "text/html": [
       "<pre>| 24.00s                              | 100              | 44085           |</pre>"
      ],
      "text/plain": [
       "| 24.00s                              | 100              | 44085           |"
      ]
     },
     "metadata": {},
     "output_type": "display_data"
    },
    {
     "data": {
      "text/html": [
       "<pre>+-------------------------------------+------------------+-----------------+</pre>"
      ],
      "text/plain": [
       "+-------------------------------------+------------------+-----------------+"
      ]
     },
     "metadata": {},
     "output_type": "display_data"
    },
    {
     "data": {
      "text/html": [
       "<pre>Finalizing lookup tables.</pre>"
      ],
      "text/plain": [
       "Finalizing lookup tables."
      ]
     },
     "metadata": {},
     "output_type": "display_data"
    },
    {
     "data": {
      "text/html": [
       "<pre>Generating candidate set for working with new users.</pre>"
      ],
      "text/plain": [
       "Generating candidate set for working with new users."
      ]
     },
     "metadata": {},
     "output_type": "display_data"
    },
    {
     "data": {
      "text/html": [
       "<pre>Finished training in 24.2281s</pre>"
      ],
      "text/plain": [
       "Finished training in 24.2281s"
      ]
     },
     "metadata": {},
     "output_type": "display_data"
    },
    {
     "data": {
      "text/html": [
       "<div style=\"max-height:1000px;max-width:1500px;overflow:auto;\"><table frame=\"box\" rules=\"cols\">\n",
       "    <tr>\n",
       "        <th style=\"padding-left: 1em; padding-right: 1em; text-align: center\">beer_name</th>\n",
       "        <th style=\"padding-left: 1em; padding-right: 1em; text-align: center\">similar</th>\n",
       "        <th style=\"padding-left: 1em; padding-right: 1em; text-align: center\">score</th>\n",
       "        <th style=\"padding-left: 1em; padding-right: 1em; text-align: center\">rank</th>\n",
       "    </tr>\n",
       "    <tr>\n",
       "        <td style=\"padding-left: 1em; padding-right: 1em; text-align: center; vertical-align: top\">Sausa Weizen</td>\n",
       "        <td style=\"padding-left: 1em; padding-right: 1em; text-align: center; vertical-align: top\">Red Moon</td>\n",
       "        <td style=\"padding-left: 1em; padding-right: 1em; text-align: center; vertical-align: top\">1.0</td>\n",
       "        <td style=\"padding-left: 1em; padding-right: 1em; text-align: center; vertical-align: top\">1</td>\n",
       "    </tr>\n",
       "    <tr>\n",
       "        <td style=\"padding-left: 1em; padding-right: 1em; text-align: center; vertical-align: top\">Sausa Weizen</td>\n",
       "        <td style=\"padding-left: 1em; padding-right: 1em; text-align: center; vertical-align: top\">Black Horse Black Beer</td>\n",
       "        <td style=\"padding-left: 1em; padding-right: 1em; text-align: center; vertical-align: top\">1.0</td>\n",
       "        <td style=\"padding-left: 1em; padding-right: 1em; text-align: center; vertical-align: top\">2</td>\n",
       "    </tr>\n",
       "    <tr>\n",
       "        <td style=\"padding-left: 1em; padding-right: 1em; text-align: center; vertical-align: top\">Sausa Weizen</td>\n",
       "        <td style=\"padding-left: 1em; padding-right: 1em; text-align: center; vertical-align: top\">Sausa Pils</td>\n",
       "        <td style=\"padding-left: 1em; padding-right: 1em; text-align: center; vertical-align: top\">1.0</td>\n",
       "        <td style=\"padding-left: 1em; padding-right: 1em; text-align: center; vertical-align: top\">3</td>\n",
       "    </tr>\n",
       "    <tr>\n",
       "        <td style=\"padding-left: 1em; padding-right: 1em; text-align: center; vertical-align: top\">Red Moon</td>\n",
       "        <td style=\"padding-left: 1em; padding-right: 1em; text-align: center; vertical-align: top\">Sausa Weizen</td>\n",
       "        <td style=\"padding-left: 1em; padding-right: 1em; text-align: center; vertical-align: top\">1.0</td>\n",
       "        <td style=\"padding-left: 1em; padding-right: 1em; text-align: center; vertical-align: top\">1</td>\n",
       "    </tr>\n",
       "    <tr>\n",
       "        <td style=\"padding-left: 1em; padding-right: 1em; text-align: center; vertical-align: top\">Red Moon</td>\n",
       "        <td style=\"padding-left: 1em; padding-right: 1em; text-align: center; vertical-align: top\">Black Horse Black Beer</td>\n",
       "        <td style=\"padding-left: 1em; padding-right: 1em; text-align: center; vertical-align: top\">1.0</td>\n",
       "        <td style=\"padding-left: 1em; padding-right: 1em; text-align: center; vertical-align: top\">2</td>\n",
       "    </tr>\n",
       "    <tr>\n",
       "        <td style=\"padding-left: 1em; padding-right: 1em; text-align: center; vertical-align: top\">Red Moon</td>\n",
       "        <td style=\"padding-left: 1em; padding-right: 1em; text-align: center; vertical-align: top\">Sausa Pils</td>\n",
       "        <td style=\"padding-left: 1em; padding-right: 1em; text-align: center; vertical-align: top\">1.0</td>\n",
       "        <td style=\"padding-left: 1em; padding-right: 1em; text-align: center; vertical-align: top\">3</td>\n",
       "    </tr>\n",
       "    <tr>\n",
       "        <td style=\"padding-left: 1em; padding-right: 1em; text-align: center; vertical-align: top\">Black Horse Black Beer</td>\n",
       "        <td style=\"padding-left: 1em; padding-right: 1em; text-align: center; vertical-align: top\">Sausa Weizen</td>\n",
       "        <td style=\"padding-left: 1em; padding-right: 1em; text-align: center; vertical-align: top\">1.0</td>\n",
       "        <td style=\"padding-left: 1em; padding-right: 1em; text-align: center; vertical-align: top\">1</td>\n",
       "    </tr>\n",
       "    <tr>\n",
       "        <td style=\"padding-left: 1em; padding-right: 1em; text-align: center; vertical-align: top\">Black Horse Black Beer</td>\n",
       "        <td style=\"padding-left: 1em; padding-right: 1em; text-align: center; vertical-align: top\">Red Moon</td>\n",
       "        <td style=\"padding-left: 1em; padding-right: 1em; text-align: center; vertical-align: top\">1.0</td>\n",
       "        <td style=\"padding-left: 1em; padding-right: 1em; text-align: center; vertical-align: top\">2</td>\n",
       "    </tr>\n",
       "    <tr>\n",
       "        <td style=\"padding-left: 1em; padding-right: 1em; text-align: center; vertical-align: top\">Black Horse Black Beer</td>\n",
       "        <td style=\"padding-left: 1em; padding-right: 1em; text-align: center; vertical-align: top\">Sausa Pils</td>\n",
       "        <td style=\"padding-left: 1em; padding-right: 1em; text-align: center; vertical-align: top\">1.0</td>\n",
       "        <td style=\"padding-left: 1em; padding-right: 1em; text-align: center; vertical-align: top\">3</td>\n",
       "    </tr>\n",
       "    <tr>\n",
       "        <td style=\"padding-left: 1em; padding-right: 1em; text-align: center; vertical-align: top\">Sausa Pils</td>\n",
       "        <td style=\"padding-left: 1em; padding-right: 1em; text-align: center; vertical-align: top\">Sausa Weizen</td>\n",
       "        <td style=\"padding-left: 1em; padding-right: 1em; text-align: center; vertical-align: top\">1.0</td>\n",
       "        <td style=\"padding-left: 1em; padding-right: 1em; text-align: center; vertical-align: top\">1</td>\n",
       "    </tr>\n",
       "</table>\n",
       "[10 rows x 4 columns]<br/>\n",
       "</div>"
      ],
      "text/plain": [
       "Columns:\n",
       "\tbeer_name\tstr\n",
       "\tsimilar\tstr\n",
       "\tscore\tfloat\n",
       "\trank\tint\n",
       "\n",
       "Rows: 10\n",
       "\n",
       "Data:\n",
       "+------------------------+------------------------+-------+------+\n",
       "|       beer_name        |        similar         | score | rank |\n",
       "+------------------------+------------------------+-------+------+\n",
       "|      Sausa Weizen      |        Red Moon        |  1.0  |  1   |\n",
       "|      Sausa Weizen      | Black Horse Black Beer |  1.0  |  2   |\n",
       "|      Sausa Weizen      |       Sausa Pils       |  1.0  |  3   |\n",
       "|        Red Moon        |      Sausa Weizen      |  1.0  |  1   |\n",
       "|        Red Moon        | Black Horse Black Beer |  1.0  |  2   |\n",
       "|        Red Moon        |       Sausa Pils       |  1.0  |  3   |\n",
       "| Black Horse Black Beer |      Sausa Weizen      |  1.0  |  1   |\n",
       "| Black Horse Black Beer |        Red Moon        |  1.0  |  2   |\n",
       "| Black Horse Black Beer |       Sausa Pils       |  1.0  |  3   |\n",
       "|       Sausa Pils       |      Sausa Weizen      |  1.0  |  1   |\n",
       "+------------------------+------------------------+-------+------+\n",
       "[10 rows x 4 columns]"
      ]
     },
     "execution_count": 9,
     "metadata": {},
     "output_type": "execute_result"
    }
   ],
   "source": [
    "from graphlab.toolkits.recommender import item_similarity_recommender\n",
    "\n",
    "item_item = gl.recommender.item_similarity_recommender.create(data, \n",
    "                                  user_id=\"review_profilename\", \n",
    "                                  item_id=\"beer_name\", \n",
    "                                  target=\"review_overall\",\n",
    "                                  only_top_k=3,\n",
    "                                  similarity_type=\"cosine\")\n",
    "\n",
    "results = item_item.get_similar_items(k=3)\n",
    "results.head()"
   ]
  },
  {
   "cell_type": "code",
   "execution_count": 188,
   "metadata": {
    "collapsed": false
   },
   "outputs": [
    {
     "ename": "AttributeError",
     "evalue": "'list' object has no attribute 'head'",
     "output_type": "error",
     "traceback": [
      "\u001b[0;31m---------------------------------------------------------------------------\u001b[0m",
      "\u001b[0;31mAttributeError\u001b[0m                            Traceback (most recent call last)",
      "\u001b[0;32m<ipython-input-188-57034912350f>\u001b[0m in \u001b[0;36m<module>\u001b[0;34m()\u001b[0m\n\u001b[0;32m----> 1\u001b[0;31m \u001b[0mresults\u001b[0m\u001b[0;34m.\u001b[0m\u001b[0mhead\u001b[0m\u001b[0;34m(\u001b[0m\u001b[0;34m)\u001b[0m\u001b[0;34m\u001b[0m\u001b[0m\n\u001b[0m",
      "\u001b[0;31mAttributeError\u001b[0m: 'list' object has no attribute 'head'"
     ]
    }
   ],
   "source": [
    "results.head()"
   ]
  },
  {
   "cell_type": "markdown",
   "metadata": {},
   "source": [
    "We can see from the output that the item-item matrix, though typically a good baseline would probably perform better with a more personalized system. Something that takes into account the various preferences of specific users, rather than all users rating specific items. \n",
    "\n",
    "For this, we decided to use the RMSE as a comparison tactic, ie the difference between the predicted and the actual rating. Now there are several ways to utilize the RMSE for comparison's sake. We could compare the average RMSE of every datapoint, the average RMSE of each user, or the average RMSE of each item.\n",
    "\n",
    "Since we have models for a per-user basis and a per-item basis, let's investigate the average RMSE of each user and each item."
   ]
  },
  {
   "cell_type": "markdown",
   "metadata": {},
   "source": [
    "### Investigate the Average RMSE of each item and Average RMSE of each user"
   ]
  },
  {
   "cell_type": "code",
   "execution_count": 10,
   "metadata": {
    "collapsed": true,
    "deletable": true,
    "editable": true
   },
   "outputs": [],
   "source": [
    "train, test = gl.recommender.util.random_split_by_user(data,\n",
    "                                                    user_id=\"review_profilename\", item_id=\"beer_name\",\n",
    "                                                    max_num_users=100, item_test_proportion=0.2)"
   ]
  },
  {
   "cell_type": "code",
   "execution_count": 12,
   "metadata": {
    "collapsed": false,
    "deletable": true,
    "editable": true,
    "scrolled": true
   },
   "outputs": [
    {
     "data": {
      "text/html": [
       "<pre>Recsys training: model = item_similarity</pre>"
      ],
      "text/plain": [
       "Recsys training: model = item_similarity"
      ]
     },
     "metadata": {},
     "output_type": "display_data"
    },
    {
     "data": {
      "text/html": [
       "<pre>Warning: Ignoring columns brewery_id, brewery_name, review_time, review_aroma, review_appearance, beer_style, review_palate, review_taste, beer_abv, beer_beerid;</pre>"
      ],
      "text/plain": [
       "Warning: Ignoring columns brewery_id, brewery_name, review_time, review_aroma, review_appearance, beer_style, review_palate, review_taste, beer_abv, beer_beerid;"
      ]
     },
     "metadata": {},
     "output_type": "display_data"
    },
    {
     "data": {
      "text/html": [
       "<pre>    To use these columns in scoring predictions, use a model that allows the use of additional features.</pre>"
      ],
      "text/plain": [
       "    To use these columns in scoring predictions, use a model that allows the use of additional features."
      ]
     },
     "metadata": {},
     "output_type": "display_data"
    },
    {
     "data": {
      "text/html": [
       "<pre>Preparing data set.</pre>"
      ],
      "text/plain": [
       "Preparing data set."
      ]
     },
     "metadata": {},
     "output_type": "display_data"
    },
    {
     "data": {
      "text/html": [
       "<pre>    Data has 1518062 observations with 32901 users and 44079 items.</pre>"
      ],
      "text/plain": [
       "    Data has 1518062 observations with 32901 users and 44079 items."
      ]
     },
     "metadata": {},
     "output_type": "display_data"
    },
    {
     "data": {
      "text/html": [
       "<pre>    Data prepared in: 1.08104s</pre>"
      ],
      "text/plain": [
       "    Data prepared in: 1.08104s"
      ]
     },
     "metadata": {},
     "output_type": "display_data"
    },
    {
     "data": {
      "text/html": [
       "<pre>Training model from provided data.</pre>"
      ],
      "text/plain": [
       "Training model from provided data."
      ]
     },
     "metadata": {},
     "output_type": "display_data"
    },
    {
     "data": {
      "text/html": [
       "<pre>Gathering per-item and per-user statistics.</pre>"
      ],
      "text/plain": [
       "Gathering per-item and per-user statistics."
      ]
     },
     "metadata": {},
     "output_type": "display_data"
    },
    {
     "data": {
      "text/html": [
       "<pre>+--------------------------------+------------+</pre>"
      ],
      "text/plain": [
       "+--------------------------------+------------+"
      ]
     },
     "metadata": {},
     "output_type": "display_data"
    },
    {
     "data": {
      "text/html": [
       "<pre>| Elapsed Time (Item Statistics) | % Complete |</pre>"
      ],
      "text/plain": [
       "| Elapsed Time (Item Statistics) | % Complete |"
      ]
     },
     "metadata": {},
     "output_type": "display_data"
    },
    {
     "data": {
      "text/html": [
       "<pre>+--------------------------------+------------+</pre>"
      ],
      "text/plain": [
       "+--------------------------------+------------+"
      ]
     },
     "metadata": {},
     "output_type": "display_data"
    },
    {
     "data": {
      "text/html": [
       "<pre>| 4.005ms                        | 3          |</pre>"
      ],
      "text/plain": [
       "| 4.005ms                        | 3          |"
      ]
     },
     "metadata": {},
     "output_type": "display_data"
    },
    {
     "data": {
      "text/html": [
       "<pre>| 24.036ms                       | 100        |</pre>"
      ],
      "text/plain": [
       "| 24.036ms                       | 100        |"
      ]
     },
     "metadata": {},
     "output_type": "display_data"
    },
    {
     "data": {
      "text/html": [
       "<pre>+--------------------------------+------------+</pre>"
      ],
      "text/plain": [
       "+--------------------------------+------------+"
      ]
     },
     "metadata": {},
     "output_type": "display_data"
    },
    {
     "data": {
      "text/html": [
       "<pre>Setting up lookup tables.</pre>"
      ],
      "text/plain": [
       "Setting up lookup tables."
      ]
     },
     "metadata": {},
     "output_type": "display_data"
    },
    {
     "data": {
      "text/html": [
       "<pre>Processing data in one pass using dense lookup tables.</pre>"
      ],
      "text/plain": [
       "Processing data in one pass using dense lookup tables."
      ]
     },
     "metadata": {},
     "output_type": "display_data"
    },
    {
     "data": {
      "text/html": [
       "<pre>+-------------------------------------+------------------+-----------------+</pre>"
      ],
      "text/plain": [
       "+-------------------------------------+------------------+-----------------+"
      ]
     },
     "metadata": {},
     "output_type": "display_data"
    },
    {
     "data": {
      "text/html": [
       "<pre>| Elapsed Time (Constructing Lookups) | Total % Complete | Items Processed |</pre>"
      ],
      "text/plain": [
       "| Elapsed Time (Constructing Lookups) | Total % Complete | Items Processed |"
      ]
     },
     "metadata": {},
     "output_type": "display_data"
    },
    {
     "data": {
      "text/html": [
       "<pre>+-------------------------------------+------------------+-----------------+</pre>"
      ],
      "text/plain": [
       "+-------------------------------------+------------------+-----------------+"
      ]
     },
     "metadata": {},
     "output_type": "display_data"
    },
    {
     "data": {
      "text/html": [
       "<pre>| 4.45s                               | 0                | 2               |</pre>"
      ],
      "text/plain": [
       "| 4.45s                               | 0                | 2               |"
      ]
     },
     "metadata": {},
     "output_type": "display_data"
    },
    {
     "data": {
      "text/html": [
       "<pre>| 5.50s                               | 7                | 3114            |</pre>"
      ],
      "text/plain": [
       "| 5.50s                               | 7                | 3114            |"
      ]
     },
     "metadata": {},
     "output_type": "display_data"
    },
    {
     "data": {
      "text/html": [
       "<pre>| 6.46s                               | 17.75            | 7837            |</pre>"
      ],
      "text/plain": [
       "| 6.46s                               | 17.75            | 7837            |"
      ]
     },
     "metadata": {},
     "output_type": "display_data"
    },
    {
     "data": {
      "text/html": [
       "<pre>| 7.45s                               | 29.25            | 12901           |</pre>"
      ],
      "text/plain": [
       "| 7.45s                               | 29.25            | 12901           |"
      ]
     },
     "metadata": {},
     "output_type": "display_data"
    },
    {
     "data": {
      "text/html": [
       "<pre>| 8.45s                               | 42.5             | 18743           |</pre>"
      ],
      "text/plain": [
       "| 8.45s                               | 42.5             | 18743           |"
      ]
     },
     "metadata": {},
     "output_type": "display_data"
    },
    {
     "data": {
      "text/html": [
       "<pre>| 9.48s                               | 52.75            | 23349           |</pre>"
      ],
      "text/plain": [
       "| 9.48s                               | 52.75            | 23349           |"
      ]
     },
     "metadata": {},
     "output_type": "display_data"
    },
    {
     "data": {
      "text/html": [
       "<pre>| 10.46s                              | 59.5             | 26325           |</pre>"
      ],
      "text/plain": [
       "| 10.46s                              | 59.5             | 26325           |"
      ]
     },
     "metadata": {},
     "output_type": "display_data"
    },
    {
     "data": {
      "text/html": [
       "<pre>| 11.49s                              | 65.25            | 28813           |</pre>"
      ],
      "text/plain": [
       "| 11.49s                              | 65.25            | 28813           |"
      ]
     },
     "metadata": {},
     "output_type": "display_data"
    },
    {
     "data": {
      "text/html": [
       "<pre>| 12.46s                              | 72.75            | 32172           |</pre>"
      ],
      "text/plain": [
       "| 12.46s                              | 72.75            | 32172           |"
      ]
     },
     "metadata": {},
     "output_type": "display_data"
    },
    {
     "data": {
      "text/html": [
       "<pre>| 13.48s                              | 80               | 35278           |</pre>"
      ],
      "text/plain": [
       "| 13.48s                              | 80               | 35278           |"
      ]
     },
     "metadata": {},
     "output_type": "display_data"
    },
    {
     "data": {
      "text/html": [
       "<pre>| 14.50s                              | 87.25            | 38553           |</pre>"
      ],
      "text/plain": [
       "| 14.50s                              | 87.25            | 38553           |"
      ]
     },
     "metadata": {},
     "output_type": "display_data"
    },
    {
     "data": {
      "text/html": [
       "<pre>| 15.51s                              | 93.5             | 41319           |</pre>"
      ],
      "text/plain": [
       "| 15.51s                              | 93.5             | 41319           |"
      ]
     },
     "metadata": {},
     "output_type": "display_data"
    },
    {
     "data": {
      "text/html": [
       "<pre>| 16.49s                              | 99.75            | 43995           |</pre>"
      ],
      "text/plain": [
       "| 16.49s                              | 99.75            | 43995           |"
      ]
     },
     "metadata": {},
     "output_type": "display_data"
    },
    {
     "data": {
      "text/html": [
       "<pre>| 25.36s                              | 100              | 44079           |</pre>"
      ],
      "text/plain": [
       "| 25.36s                              | 100              | 44079           |"
      ]
     },
     "metadata": {},
     "output_type": "display_data"
    },
    {
     "data": {
      "text/html": [
       "<pre>+-------------------------------------+------------------+-----------------+</pre>"
      ],
      "text/plain": [
       "+-------------------------------------+------------------+-----------------+"
      ]
     },
     "metadata": {},
     "output_type": "display_data"
    },
    {
     "data": {
      "text/html": [
       "<pre>Finalizing lookup tables.</pre>"
      ],
      "text/plain": [
       "Finalizing lookup tables."
      ]
     },
     "metadata": {},
     "output_type": "display_data"
    },
    {
     "data": {
      "text/html": [
       "<pre>Generating candidate set for working with new users.</pre>"
      ],
      "text/plain": [
       "Generating candidate set for working with new users."
      ]
     },
     "metadata": {},
     "output_type": "display_data"
    },
    {
     "data": {
      "text/html": [
       "<pre>Finished training in 25.667s</pre>"
      ],
      "text/plain": [
       "Finished training in 25.667s"
      ]
     },
     "metadata": {},
     "output_type": "display_data"
    },
    {
     "name": "stdout",
     "output_type": "stream",
     "text": [
      "\n",
      "Precision and recall summary statistics by cutoff\n",
      "+--------+-----------------+-----------------+\n",
      "| cutoff |  mean_precision |   mean_recall   |\n",
      "+--------+-----------------+-----------------+\n",
      "|   1    |  0.120689655172 | 0.0491763156412 |\n",
      "|   2    | 0.0862068965517 | 0.0528058291245 |\n",
      "|   3    | 0.0862068965517 | 0.0632469936005 |\n",
      "|   4    | 0.0905172413793 | 0.0665055548236 |\n",
      "|   5    | 0.0896551724138 | 0.0715085379534 |\n",
      "|   6    | 0.0862068965517 | 0.0727489086112 |\n",
      "|   7    | 0.0812807881773 | 0.0750070402084 |\n",
      "|   8    | 0.0797413793103 | 0.0776523414715 |\n",
      "|   9    | 0.0785440613027 | 0.0818270622619 |\n",
      "|   10   | 0.0775862068966 | 0.0910161508684 |\n",
      "+--------+-----------------+-----------------+\n",
      "[10 rows x 3 columns]\n",
      "\n",
      "('\\nOverall RMSE: ', 3.710958263148474)\n",
      "\n",
      "Per User RMSE (best)\n",
      "+--------------------+-------+----------------+\n",
      "| review_profilename | count |      rmse      |\n",
      "+--------------------+-------+----------------+\n",
      "|     AxelTheRed     |   1   | 0.142133593559 |\n",
      "+--------------------+-------+----------------+\n",
      "[1 rows x 3 columns]\n",
      "\n",
      "\n",
      "Per User RMSE (worst)\n",
      "+--------------------+-------+------+\n",
      "| review_profilename | count | rmse |\n",
      "+--------------------+-------+------+\n",
      "|      DonaCake      |   1   | 5.0  |\n",
      "+--------------------+-------+------+\n",
      "[1 rows x 3 columns]\n",
      "\n",
      "\n",
      "Per Item RMSE (best)\n",
      "+------------------+-------+----------------+\n",
      "|    beer_name     | count |      rmse      |\n",
      "+------------------+-------+----------------+\n",
      "| Miller High Life |   1   | 0.142133593559 |\n",
      "+------------------+-------+----------------+\n",
      "[1 rows x 3 columns]\n",
      "\n",
      "\n",
      "Per Item RMSE (worst)\n",
      "+----------------+-------+------+\n",
      "|   beer_name    | count | rmse |\n",
      "+----------------+-------+------+\n",
      "| Amarillo Amber |   1   | 5.0  |\n",
      "+----------------+-------+------+\n",
      "[1 rows x 3 columns]\n",
      "\n"
     ]
    }
   ],
   "source": [
    "from IPython.display import display\n",
    "from IPython.display import Image\n",
    "\n",
    "gl.canvas.set_target('ipynb')\n",
    "\n",
    "\n",
    "item_item = gl.recommender.item_similarity_recommender.create(train, \n",
    "                                  user_id=\"review_profilename\", \n",
    "                                  item_id=\"beer_name\", \n",
    "                                  target=\"review_overall\",\n",
    "                                  only_top_k=5,\n",
    "                                  similarity_type=\"cosine\")\n",
    "\n",
    "rmse_results = item_item.evaluate(test)"
   ]
  },
  {
   "cell_type": "code",
   "execution_count": 13,
   "metadata": {
    "collapsed": false,
    "deletable": true,
    "editable": true
   },
   "outputs": [
    {
     "name": "stdout",
     "output_type": "stream",
     "text": [
      "dict_keys(['rmse_by_user', 'precision_recall_overall', 'rmse_by_item', 'precision_recall_by_user', 'rmse_overall'])\n",
      "+--------------------------------+-------+---------------+\n",
      "|           beer_name            | count |      rmse     |\n",
      "+--------------------------------+-------+---------------+\n",
      "|   XS Imperial India Pale Ale   |   1   | 3.97283652094 |\n",
      "| Summit 90/- Scottish Style Ale |   1   | 2.97557458684 |\n",
      "| Stoudt's Blonde Double MaiBock |   1   | 3.99840310128 |\n",
      "|  White Birch Oak Aged Tripel   |   1   | 3.99163908958 |\n",
      "|         Amarillo Amber         |   1   |      5.0      |\n",
      "| Duck-Rabbit Wee Heavy Scot...  |   1   | 2.94532305002 |\n",
      "|   Dark Horse Boffo Brown Ale   |   1   |      4.0      |\n",
      "|  El Camino (Un)Real Black Ale  |   1   |      3.0      |\n",
      "|         Smoked & Oaked         |   1   | 3.92770607557 |\n",
      "|           Makeweight           |   1   |      4.0      |\n",
      "+--------------------------------+-------+---------------+\n",
      "[692 rows x 3 columns]\n",
      "Note: Only the head of the SFrame is printed.\n",
      "You can use print_rows(num_rows=m, num_columns=n) to print more rows and columns.\n"
     ]
    }
   ],
   "source": [
    "print rmse_results.viewkeys()\n",
    "print rmse_results['rmse_by_item']"
   ]
  },
  {
   "cell_type": "code",
   "execution_count": 14,
   "metadata": {
    "collapsed": false,
    "deletable": true,
    "editable": true
   },
   "outputs": [
    {
     "data": {
      "text/html": [
       "<div style=\"max-height:1000px;max-width:1500px;overflow:auto;\"><table frame=\"box\" rules=\"cols\">\n",
       "    <tr>\n",
       "        <th style=\"padding-left: 1em; padding-right: 1em; text-align: center\">review_profilename</th>\n",
       "        <th style=\"padding-left: 1em; padding-right: 1em; text-align: center\">count</th>\n",
       "        <th style=\"padding-left: 1em; padding-right: 1em; text-align: center\">rmse</th>\n",
       "    </tr>\n",
       "    <tr>\n",
       "        <td style=\"padding-left: 1em; padding-right: 1em; text-align: center; vertical-align: top\">SchmichaelJ</td>\n",
       "        <td style=\"padding-left: 1em; padding-right: 1em; text-align: center; vertical-align: top\">16</td>\n",
       "        <td style=\"padding-left: 1em; padding-right: 1em; text-align: center; vertical-align: top\">3.69939415274</td>\n",
       "    </tr>\n",
       "    <tr>\n",
       "        <td style=\"padding-left: 1em; padding-right: 1em; text-align: center; vertical-align: top\">iddqd</td>\n",
       "        <td style=\"padding-left: 1em; padding-right: 1em; text-align: center; vertical-align: top\">1</td>\n",
       "        <td style=\"padding-left: 1em; padding-right: 1em; text-align: center; vertical-align: top\">3.0</td>\n",
       "    </tr>\n",
       "    <tr>\n",
       "        <td style=\"padding-left: 1em; padding-right: 1em; text-align: center; vertical-align: top\">DonaCake</td>\n",
       "        <td style=\"padding-left: 1em; padding-right: 1em; text-align: center; vertical-align: top\">1</td>\n",
       "        <td style=\"padding-left: 1em; padding-right: 1em; text-align: center; vertical-align: top\">5.0</td>\n",
       "    </tr>\n",
       "    <tr>\n",
       "        <td style=\"padding-left: 1em; padding-right: 1em; text-align: center; vertical-align: top\">mnmorency</td>\n",
       "        <td style=\"padding-left: 1em; padding-right: 1em; text-align: center; vertical-align: top\">1</td>\n",
       "        <td style=\"padding-left: 1em; padding-right: 1em; text-align: center; vertical-align: top\">4.0</td>\n",
       "    </tr>\n",
       "    <tr>\n",
       "        <td style=\"padding-left: 1em; padding-right: 1em; text-align: center; vertical-align: top\">VirtualAsylum</td>\n",
       "        <td style=\"padding-left: 1em; padding-right: 1em; text-align: center; vertical-align: top\">1</td>\n",
       "        <td style=\"padding-left: 1em; padding-right: 1em; text-align: center; vertical-align: top\">1.0</td>\n",
       "    </tr>\n",
       "    <tr>\n",
       "        <td style=\"padding-left: 1em; padding-right: 1em; text-align: center; vertical-align: top\">davidvaz</td>\n",
       "        <td style=\"padding-left: 1em; padding-right: 1em; text-align: center; vertical-align: top\">2</td>\n",
       "        <td style=\"padding-left: 1em; padding-right: 1em; text-align: center; vertical-align: top\">1.0</td>\n",
       "    </tr>\n",
       "    <tr>\n",
       "        <td style=\"padding-left: 1em; padding-right: 1em; text-align: center; vertical-align: top\">psycle</td>\n",
       "        <td style=\"padding-left: 1em; padding-right: 1em; text-align: center; vertical-align: top\">2</td>\n",
       "        <td style=\"padding-left: 1em; padding-right: 1em; text-align: center; vertical-align: top\">3.16227766017</td>\n",
       "    </tr>\n",
       "    <tr>\n",
       "        <td style=\"padding-left: 1em; padding-right: 1em; text-align: center; vertical-align: top\">JEngler</td>\n",
       "        <td style=\"padding-left: 1em; padding-right: 1em; text-align: center; vertical-align: top\">1</td>\n",
       "        <td style=\"padding-left: 1em; padding-right: 1em; text-align: center; vertical-align: top\">3.0</td>\n",
       "    </tr>\n",
       "    <tr>\n",
       "        <td style=\"padding-left: 1em; padding-right: 1em; text-align: center; vertical-align: top\">jaymp27</td>\n",
       "        <td style=\"padding-left: 1em; padding-right: 1em; text-align: center; vertical-align: top\">2</td>\n",
       "        <td style=\"padding-left: 1em; padding-right: 1em; text-align: center; vertical-align: top\">3.16227766017</td>\n",
       "    </tr>\n",
       "    <tr>\n",
       "        <td style=\"padding-left: 1em; padding-right: 1em; text-align: center; vertical-align: top\">GeorgeAldi</td>\n",
       "        <td style=\"padding-left: 1em; padding-right: 1em; text-align: center; vertical-align: top\">4</td>\n",
       "        <td style=\"padding-left: 1em; padding-right: 1em; text-align: center; vertical-align: top\">3.97675551527</td>\n",
       "    </tr>\n",
       "</table>\n",
       "[58 rows x 3 columns]<br/>Note: Only the head of the SFrame is printed.<br/>You can use print_rows(num_rows=m, num_columns=n) to print more rows and columns.\n",
       "</div>"
      ],
      "text/plain": [
       "Columns:\n",
       "\treview_profilename\tstr\n",
       "\tcount\tint\n",
       "\trmse\tfloat\n",
       "\n",
       "Rows: 58\n",
       "\n",
       "Data:\n",
       "+--------------------+-------+---------------+\n",
       "| review_profilename | count |      rmse     |\n",
       "+--------------------+-------+---------------+\n",
       "|    SchmichaelJ     |   16  | 3.69939415274 |\n",
       "|       iddqd        |   1   |      3.0      |\n",
       "|      DonaCake      |   1   |      5.0      |\n",
       "|     mnmorency      |   1   |      4.0      |\n",
       "|   VirtualAsylum    |   1   |      1.0      |\n",
       "|      davidvaz      |   2   |      1.0      |\n",
       "|       psycle       |   2   | 3.16227766017 |\n",
       "|      JEngler       |   1   |      3.0      |\n",
       "|      jaymp27       |   2   | 3.16227766017 |\n",
       "|     GeorgeAldi     |   4   | 3.97675551527 |\n",
       "+--------------------+-------+---------------+\n",
       "[58 rows x 3 columns]\n",
       "Note: Only the head of the SFrame is printed.\n",
       "You can use print_rows(num_rows=m, num_columns=n) to print more rows and columns."
      ]
     },
     "execution_count": 14,
     "metadata": {},
     "output_type": "execute_result"
    }
   ],
   "source": [
    "rmse_results['rmse_by_user']"
   ]
  },
  {
   "cell_type": "markdown",
   "metadata": {},
   "source": [
    "Looking at the RMSE, maybe its best if we also look at the 'precision/recall' statistics of the user and item. We want to use this statistic because there probably arent any users that have reviewed ALL the beers. Because of this, we don't actually have RMSE or predicted rating minus actual rating for EVERY user or EVERY item. \n",
    "\n",
    "Using the precision/recall measure, we can better interpret if our model is successful at recommending beers based on the beers users have actually rated. Then hopefully we can use the information to extrapolate and say that it will work for future ratings."
   ]
  },
  {
   "cell_type": "code",
   "execution_count": 15,
   "metadata": {
    "collapsed": false,
    "deletable": true,
    "editable": true
   },
   "outputs": [
    {
     "data": {
      "text/html": [
       "<div style=\"max-height:1000px;max-width:1500px;overflow:auto;\"><table frame=\"box\" rules=\"cols\">\n",
       "    <tr>\n",
       "        <th style=\"padding-left: 1em; padding-right: 1em; text-align: center\">review_profilename</th>\n",
       "        <th style=\"padding-left: 1em; padding-right: 1em; text-align: center\">cutoff</th>\n",
       "        <th style=\"padding-left: 1em; padding-right: 1em; text-align: center\">precision</th>\n",
       "        <th style=\"padding-left: 1em; padding-right: 1em; text-align: center\">recall</th>\n",
       "        <th style=\"padding-left: 1em; padding-right: 1em; text-align: center\">count</th>\n",
       "    </tr>\n",
       "    <tr>\n",
       "        <td style=\"padding-left: 1em; padding-right: 1em; text-align: center; vertical-align: top\">2oose</td>\n",
       "        <td style=\"padding-left: 1em; padding-right: 1em; text-align: center; vertical-align: top\">1</td>\n",
       "        <td style=\"padding-left: 1em; padding-right: 1em; text-align: center; vertical-align: top\">0.0</td>\n",
       "        <td style=\"padding-left: 1em; padding-right: 1em; text-align: center; vertical-align: top\">0.0</td>\n",
       "        <td style=\"padding-left: 1em; padding-right: 1em; text-align: center; vertical-align: top\">3</td>\n",
       "    </tr>\n",
       "    <tr>\n",
       "        <td style=\"padding-left: 1em; padding-right: 1em; text-align: center; vertical-align: top\">2oose</td>\n",
       "        <td style=\"padding-left: 1em; padding-right: 1em; text-align: center; vertical-align: top\">2</td>\n",
       "        <td style=\"padding-left: 1em; padding-right: 1em; text-align: center; vertical-align: top\">0.0</td>\n",
       "        <td style=\"padding-left: 1em; padding-right: 1em; text-align: center; vertical-align: top\">0.0</td>\n",
       "        <td style=\"padding-left: 1em; padding-right: 1em; text-align: center; vertical-align: top\">3</td>\n",
       "    </tr>\n",
       "    <tr>\n",
       "        <td style=\"padding-left: 1em; padding-right: 1em; text-align: center; vertical-align: top\">2oose</td>\n",
       "        <td style=\"padding-left: 1em; padding-right: 1em; text-align: center; vertical-align: top\">3</td>\n",
       "        <td style=\"padding-left: 1em; padding-right: 1em; text-align: center; vertical-align: top\">0.0</td>\n",
       "        <td style=\"padding-left: 1em; padding-right: 1em; text-align: center; vertical-align: top\">0.0</td>\n",
       "        <td style=\"padding-left: 1em; padding-right: 1em; text-align: center; vertical-align: top\">3</td>\n",
       "    </tr>\n",
       "    <tr>\n",
       "        <td style=\"padding-left: 1em; padding-right: 1em; text-align: center; vertical-align: top\">2oose</td>\n",
       "        <td style=\"padding-left: 1em; padding-right: 1em; text-align: center; vertical-align: top\">4</td>\n",
       "        <td style=\"padding-left: 1em; padding-right: 1em; text-align: center; vertical-align: top\">0.0</td>\n",
       "        <td style=\"padding-left: 1em; padding-right: 1em; text-align: center; vertical-align: top\">0.0</td>\n",
       "        <td style=\"padding-left: 1em; padding-right: 1em; text-align: center; vertical-align: top\">3</td>\n",
       "    </tr>\n",
       "    <tr>\n",
       "        <td style=\"padding-left: 1em; padding-right: 1em; text-align: center; vertical-align: top\">2oose</td>\n",
       "        <td style=\"padding-left: 1em; padding-right: 1em; text-align: center; vertical-align: top\">5</td>\n",
       "        <td style=\"padding-left: 1em; padding-right: 1em; text-align: center; vertical-align: top\">0.0</td>\n",
       "        <td style=\"padding-left: 1em; padding-right: 1em; text-align: center; vertical-align: top\">0.0</td>\n",
       "        <td style=\"padding-left: 1em; padding-right: 1em; text-align: center; vertical-align: top\">3</td>\n",
       "    </tr>\n",
       "    <tr>\n",
       "        <td style=\"padding-left: 1em; padding-right: 1em; text-align: center; vertical-align: top\">2oose</td>\n",
       "        <td style=\"padding-left: 1em; padding-right: 1em; text-align: center; vertical-align: top\">6</td>\n",
       "        <td style=\"padding-left: 1em; padding-right: 1em; text-align: center; vertical-align: top\">0.0</td>\n",
       "        <td style=\"padding-left: 1em; padding-right: 1em; text-align: center; vertical-align: top\">0.0</td>\n",
       "        <td style=\"padding-left: 1em; padding-right: 1em; text-align: center; vertical-align: top\">3</td>\n",
       "    </tr>\n",
       "    <tr>\n",
       "        <td style=\"padding-left: 1em; padding-right: 1em; text-align: center; vertical-align: top\">2oose</td>\n",
       "        <td style=\"padding-left: 1em; padding-right: 1em; text-align: center; vertical-align: top\">7</td>\n",
       "        <td style=\"padding-left: 1em; padding-right: 1em; text-align: center; vertical-align: top\">0.0</td>\n",
       "        <td style=\"padding-left: 1em; padding-right: 1em; text-align: center; vertical-align: top\">0.0</td>\n",
       "        <td style=\"padding-left: 1em; padding-right: 1em; text-align: center; vertical-align: top\">3</td>\n",
       "    </tr>\n",
       "    <tr>\n",
       "        <td style=\"padding-left: 1em; padding-right: 1em; text-align: center; vertical-align: top\">2oose</td>\n",
       "        <td style=\"padding-left: 1em; padding-right: 1em; text-align: center; vertical-align: top\">8</td>\n",
       "        <td style=\"padding-left: 1em; padding-right: 1em; text-align: center; vertical-align: top\">0.0</td>\n",
       "        <td style=\"padding-left: 1em; padding-right: 1em; text-align: center; vertical-align: top\">0.0</td>\n",
       "        <td style=\"padding-left: 1em; padding-right: 1em; text-align: center; vertical-align: top\">3</td>\n",
       "    </tr>\n",
       "    <tr>\n",
       "        <td style=\"padding-left: 1em; padding-right: 1em; text-align: center; vertical-align: top\">2oose</td>\n",
       "        <td style=\"padding-left: 1em; padding-right: 1em; text-align: center; vertical-align: top\">9</td>\n",
       "        <td style=\"padding-left: 1em; padding-right: 1em; text-align: center; vertical-align: top\">0.0</td>\n",
       "        <td style=\"padding-left: 1em; padding-right: 1em; text-align: center; vertical-align: top\">0.0</td>\n",
       "        <td style=\"padding-left: 1em; padding-right: 1em; text-align: center; vertical-align: top\">3</td>\n",
       "    </tr>\n",
       "    <tr>\n",
       "        <td style=\"padding-left: 1em; padding-right: 1em; text-align: center; vertical-align: top\">2oose</td>\n",
       "        <td style=\"padding-left: 1em; padding-right: 1em; text-align: center; vertical-align: top\">10</td>\n",
       "        <td style=\"padding-left: 1em; padding-right: 1em; text-align: center; vertical-align: top\">0.0</td>\n",
       "        <td style=\"padding-left: 1em; padding-right: 1em; text-align: center; vertical-align: top\">0.0</td>\n",
       "        <td style=\"padding-left: 1em; padding-right: 1em; text-align: center; vertical-align: top\">3</td>\n",
       "    </tr>\n",
       "</table>\n",
       "[1044 rows x 5 columns]<br/>Note: Only the head of the SFrame is printed.<br/>You can use print_rows(num_rows=m, num_columns=n) to print more rows and columns.\n",
       "</div>"
      ],
      "text/plain": [
       "Columns:\n",
       "\treview_profilename\tstr\n",
       "\tcutoff\tint\n",
       "\tprecision\tfloat\n",
       "\trecall\tfloat\n",
       "\tcount\tint\n",
       "\n",
       "Rows: 1044\n",
       "\n",
       "Data:\n",
       "+--------------------+--------+-----------+--------+-------+\n",
       "| review_profilename | cutoff | precision | recall | count |\n",
       "+--------------------+--------+-----------+--------+-------+\n",
       "|       2oose        |   1    |    0.0    |  0.0   |   3   |\n",
       "|       2oose        |   2    |    0.0    |  0.0   |   3   |\n",
       "|       2oose        |   3    |    0.0    |  0.0   |   3   |\n",
       "|       2oose        |   4    |    0.0    |  0.0   |   3   |\n",
       "|       2oose        |   5    |    0.0    |  0.0   |   3   |\n",
       "|       2oose        |   6    |    0.0    |  0.0   |   3   |\n",
       "|       2oose        |   7    |    0.0    |  0.0   |   3   |\n",
       "|       2oose        |   8    |    0.0    |  0.0   |   3   |\n",
       "|       2oose        |   9    |    0.0    |  0.0   |   3   |\n",
       "|       2oose        |   10   |    0.0    |  0.0   |   3   |\n",
       "+--------------------+--------+-----------+--------+-------+\n",
       "[1044 rows x 5 columns]\n",
       "Note: Only the head of the SFrame is printed.\n",
       "You can use print_rows(num_rows=m, num_columns=n) to print more rows and columns."
      ]
     },
     "execution_count": 15,
     "metadata": {},
     "output_type": "execute_result"
    }
   ],
   "source": [
    "rmse_results['precision_recall_by_user']\n",
    "###hey this seems suspect because the precision and recall are both 0? i'm wondering if we need to add in ...\n",
    "#print_rows(num_rows=20, num_column=5)\n",
    "###to include some other entries that are not 0 v 0?"
   ]
  },
  {
   "cell_type": "markdown",
   "metadata": {},
   "source": [
    "Now that we have our results, let's aggregate them so we can better visualize our findings."
   ]
  },
  {
   "cell_type": "markdown",
   "metadata": {
    "deletable": true,
    "editable": true
   },
   "source": [
    "# <a name=\"me3\"></a> Modeling and Evaluation 3: Visualize the results\n",
    "---"
   ]
  },
  {
   "cell_type": "code",
   "execution_count": 16,
   "metadata": {
    "collapsed": false,
    "deletable": true,
    "editable": true
   },
   "outputs": [
    {
     "data": {
      "text/html": [
       "<div style=\"max-height:1000px;max-width:1500px;overflow:auto;\"><table frame=\"box\" rules=\"cols\">\n",
       "    <tr>\n",
       "        <th style=\"padding-left: 1em; padding-right: 1em; text-align: center\">cutoff</th>\n",
       "        <th style=\"padding-left: 1em; padding-right: 1em; text-align: center\">Avg of precision</th>\n",
       "        <th style=\"padding-left: 1em; padding-right: 1em; text-align: center\">Stdv of precision</th>\n",
       "        <th style=\"padding-left: 1em; padding-right: 1em; text-align: center\">Avg of recall</th>\n",
       "        <th style=\"padding-left: 1em; padding-right: 1em; text-align: center\">Stdv of recall</th>\n",
       "    </tr>\n",
       "    <tr>\n",
       "        <td style=\"padding-left: 1em; padding-right: 1em; text-align: center; vertical-align: top\">16</td>\n",
       "        <td style=\"padding-left: 1em; padding-right: 1em; text-align: center; vertical-align: top\">0.0743534482759</td>\n",
       "        <td style=\"padding-left: 1em; padding-right: 1em; text-align: center; vertical-align: top\">0.149737961021</td>\n",
       "        <td style=\"padding-left: 1em; padding-right: 1em; text-align: center; vertical-align: top\">0.110124263367</td>\n",
       "        <td style=\"padding-left: 1em; padding-right: 1em; text-align: center; vertical-align: top\">0.209867676922</td>\n",
       "    </tr>\n",
       "    <tr>\n",
       "        <td style=\"padding-left: 1em; padding-right: 1em; text-align: center; vertical-align: top\">10</td>\n",
       "        <td style=\"padding-left: 1em; padding-right: 1em; text-align: center; vertical-align: top\">0.0775862068966</td>\n",
       "        <td style=\"padding-left: 1em; padding-right: 1em; text-align: center; vertical-align: top\">0.146267472812</td>\n",
       "        <td style=\"padding-left: 1em; padding-right: 1em; text-align: center; vertical-align: top\">0.0910161508684</td>\n",
       "        <td style=\"padding-left: 1em; padding-right: 1em; text-align: center; vertical-align: top\">0.202673162242</td>\n",
       "    </tr>\n",
       "    <tr>\n",
       "        <td style=\"padding-left: 1em; padding-right: 1em; text-align: center; vertical-align: top\">36</td>\n",
       "        <td style=\"padding-left: 1em; padding-right: 1em; text-align: center; vertical-align: top\">0.0493295019157</td>\n",
       "        <td style=\"padding-left: 1em; padding-right: 1em; text-align: center; vertical-align: top\">0.0996272191046</td>\n",
       "        <td style=\"padding-left: 1em; padding-right: 1em; text-align: center; vertical-align: top\">0.144604925792</td>\n",
       "        <td style=\"padding-left: 1em; padding-right: 1em; text-align: center; vertical-align: top\">0.240462294898</td>\n",
       "    </tr>\n",
       "    <tr>\n",
       "        <td style=\"padding-left: 1em; padding-right: 1em; text-align: center; vertical-align: top\">26</td>\n",
       "        <td style=\"padding-left: 1em; padding-right: 1em; text-align: center; vertical-align: top\">0.0583554376658</td>\n",
       "        <td style=\"padding-left: 1em; padding-right: 1em; text-align: center; vertical-align: top\">0.119562168711</td>\n",
       "        <td style=\"padding-left: 1em; padding-right: 1em; text-align: center; vertical-align: top\">0.129850292884</td>\n",
       "        <td style=\"padding-left: 1em; padding-right: 1em; text-align: center; vertical-align: top\">0.236375848164</td>\n",
       "    </tr>\n",
       "    <tr>\n",
       "        <td style=\"padding-left: 1em; padding-right: 1em; text-align: center; vertical-align: top\">41</td>\n",
       "        <td style=\"padding-left: 1em; padding-right: 1em; text-align: center; vertical-align: top\">0.0445752733389</td>\n",
       "        <td style=\"padding-left: 1em; padding-right: 1em; text-align: center; vertical-align: top\">0.0898027462966</td>\n",
       "        <td style=\"padding-left: 1em; padding-right: 1em; text-align: center; vertical-align: top\">0.146878904245</td>\n",
       "        <td style=\"padding-left: 1em; padding-right: 1em; text-align: center; vertical-align: top\">0.240558957227</td>\n",
       "    </tr>\n",
       "    <tr>\n",
       "        <td style=\"padding-left: 1em; padding-right: 1em; text-align: center; vertical-align: top\">3</td>\n",
       "        <td style=\"padding-left: 1em; padding-right: 1em; text-align: center; vertical-align: top\">0.0862068965517</td>\n",
       "        <td style=\"padding-left: 1em; padding-right: 1em; text-align: center; vertical-align: top\">0.170196470057</td>\n",
       "        <td style=\"padding-left: 1em; padding-right: 1em; text-align: center; vertical-align: top\">0.0632469936005</td>\n",
       "        <td style=\"padding-left: 1em; padding-right: 1em; text-align: center; vertical-align: top\">0.195306723899</td>\n",
       "    </tr>\n",
       "    <tr>\n",
       "        <td style=\"padding-left: 1em; padding-right: 1em; text-align: center; vertical-align: top\">1</td>\n",
       "        <td style=\"padding-left: 1em; padding-right: 1em; text-align: center; vertical-align: top\">0.120689655172</td>\n",
       "        <td style=\"padding-left: 1em; padding-right: 1em; text-align: center; vertical-align: top\">0.325766269443</td>\n",
       "        <td style=\"padding-left: 1em; padding-right: 1em; text-align: center; vertical-align: top\">0.0491763156412</td>\n",
       "        <td style=\"padding-left: 1em; padding-right: 1em; text-align: center; vertical-align: top\">0.190190932573</td>\n",
       "    </tr>\n",
       "    <tr>\n",
       "        <td style=\"padding-left: 1em; padding-right: 1em; text-align: center; vertical-align: top\">6</td>\n",
       "        <td style=\"padding-left: 1em; padding-right: 1em; text-align: center; vertical-align: top\">0.0862068965517</td>\n",
       "        <td style=\"padding-left: 1em; padding-right: 1em; text-align: center; vertical-align: top\">0.155491370787</td>\n",
       "        <td style=\"padding-left: 1em; padding-right: 1em; text-align: center; vertical-align: top\">0.0727489086112</td>\n",
       "        <td style=\"padding-left: 1em; padding-right: 1em; text-align: center; vertical-align: top\">0.195245798534</td>\n",
       "    </tr>\n",
       "    <tr>\n",
       "        <td style=\"padding-left: 1em; padding-right: 1em; text-align: center; vertical-align: top\">11</td>\n",
       "        <td style=\"padding-left: 1em; padding-right: 1em; text-align: center; vertical-align: top\">0.0783699059561</td>\n",
       "        <td style=\"padding-left: 1em; padding-right: 1em; text-align: center; vertical-align: top\">0.150470219436</td>\n",
       "        <td style=\"padding-left: 1em; padding-right: 1em; text-align: center; vertical-align: top\">0.0935816762565</td>\n",
       "        <td style=\"padding-left: 1em; padding-right: 1em; text-align: center; vertical-align: top\">0.202632801668</td>\n",
       "    </tr>\n",
       "    <tr>\n",
       "        <td style=\"padding-left: 1em; padding-right: 1em; text-align: center; vertical-align: top\">2</td>\n",
       "        <td style=\"padding-left: 1em; padding-right: 1em; text-align: center; vertical-align: top\">0.0862068965517</td>\n",
       "        <td style=\"padding-left: 1em; padding-right: 1em; text-align: center; vertical-align: top\">0.188869847416</td>\n",
       "        <td style=\"padding-left: 1em; padding-right: 1em; text-align: center; vertical-align: top\">0.0528058291245</td>\n",
       "        <td style=\"padding-left: 1em; padding-right: 1em; text-align: center; vertical-align: top\">0.19032109025</td>\n",
       "    </tr>\n",
       "</table>\n",
       "[18 rows x 5 columns]<br/>Note: Only the head of the SFrame is printed.<br/>You can use print_rows(num_rows=m, num_columns=n) to print more rows and columns.\n",
       "</div>"
      ],
      "text/plain": [
       "Columns:\n",
       "\tcutoff\tint\n",
       "\tAvg of precision\tfloat\n",
       "\tStdv of precision\tfloat\n",
       "\tAvg of recall\tfloat\n",
       "\tStdv of recall\tfloat\n",
       "\n",
       "Rows: 18\n",
       "\n",
       "Data:\n",
       "+--------+------------------+-------------------+-----------------+\n",
       "| cutoff | Avg of precision | Stdv of precision |  Avg of recall  |\n",
       "+--------+------------------+-------------------+-----------------+\n",
       "|   16   | 0.0743534482759  |   0.149737961021  |  0.110124263367 |\n",
       "|   10   | 0.0775862068966  |   0.146267472812  | 0.0910161508684 |\n",
       "|   36   | 0.0493295019157  |  0.0996272191046  |  0.144604925792 |\n",
       "|   26   | 0.0583554376658  |   0.119562168711  |  0.129850292884 |\n",
       "|   41   | 0.0445752733389  |  0.0898027462966  |  0.146878904245 |\n",
       "|   3    | 0.0862068965517  |   0.170196470057  | 0.0632469936005 |\n",
       "|   1    |  0.120689655172  |   0.325766269443  | 0.0491763156412 |\n",
       "|   6    | 0.0862068965517  |   0.155491370787  | 0.0727489086112 |\n",
       "|   11   | 0.0783699059561  |   0.150470219436  | 0.0935816762565 |\n",
       "|   2    | 0.0862068965517  |   0.188869847416  | 0.0528058291245 |\n",
       "+--------+------------------+-------------------+-----------------+\n",
       "+----------------+\n",
       "| Stdv of recall |\n",
       "+----------------+\n",
       "| 0.209867676922 |\n",
       "| 0.202673162242 |\n",
       "| 0.240462294898 |\n",
       "| 0.236375848164 |\n",
       "| 0.240558957227 |\n",
       "| 0.195306723899 |\n",
       "| 0.190190932573 |\n",
       "| 0.195245798534 |\n",
       "| 0.202632801668 |\n",
       "| 0.19032109025  |\n",
       "+----------------+\n",
       "[18 rows x 5 columns]\n",
       "Note: Only the head of the SFrame is printed.\n",
       "You can use print_rows(num_rows=m, num_columns=n) to print more rows and columns."
      ]
     },
     "execution_count": 16,
     "metadata": {},
     "output_type": "execute_result"
    }
   ],
   "source": [
    "import graphlab.aggregate as agg\n",
    "\n",
    "# we will be using these aggregations\n",
    "agg_list = [agg.AVG('precision'),agg.STD('precision'),agg.AVG('recall'),agg.STD('recall')]\n",
    "\n",
    "# apply these functions to each group (we will group the results by 'k' which is the cutoff)\n",
    "# the cutoff is the number of top items to look for see the following URL for the actual equation\n",
    "# https://dato.com/products/create/docs/generated/graphlab.recommender.util.precision_recall_by_user.html#graphlab.recommender.util.precision_recall_by_user\n",
    "rmse_results['precision_recall_by_user'].groupby('cutoff',agg_list)\n",
    "\n",
    "###input the code below so that all the groups are showing? there's only 18 and 10 are already showing...\n",
    "#print_rows(num_rows=18, num_column=5)\n",
    "\n",
    "# the groups are not sorted"
   ]
  },
  {
   "cell_type": "markdown",
   "metadata": {},
   "source": [
    "Looking at our results, it does not seem like the per user recommendation system is super effective. If only we could somehow combine users and items to create a custom comparison measure ....."
   ]
  },
  {
   "cell_type": "markdown",
   "metadata": {
    "deletable": true,
    "editable": true
   },
   "source": [
    "## Cross Validated Collaborative Filtering"
   ]
  },
  {
   "cell_type": "code",
   "execution_count": 17,
   "metadata": {
    "collapsed": false,
    "deletable": true,
    "editable": true,
    "scrolled": true
   },
   "outputs": [
    {
     "data": {
      "text/html": [
       "<pre>Recsys training: model = ranking_factorization_recommender</pre>"
      ],
      "text/plain": [
       "Recsys training: model = ranking_factorization_recommender"
      ]
     },
     "metadata": {},
     "output_type": "display_data"
    },
    {
     "data": {
      "text/html": [
       "<pre>Preparing data set.</pre>"
      ],
      "text/plain": [
       "Preparing data set."
      ]
     },
     "metadata": {},
     "output_type": "display_data"
    },
    {
     "data": {
      "text/html": [
       "<pre>    Data has 1518062 observations with 32901 users and 44079 items.</pre>"
      ],
      "text/plain": [
       "    Data has 1518062 observations with 32901 users and 44079 items."
      ]
     },
     "metadata": {},
     "output_type": "display_data"
    },
    {
     "data": {
      "text/html": [
       "<pre>    Data prepared in: 3.06407s</pre>"
      ],
      "text/plain": [
       "    Data prepared in: 3.06407s"
      ]
     },
     "metadata": {},
     "output_type": "display_data"
    },
    {
     "data": {
      "text/html": [
       "<pre>Training ranking_factorization_recommender for recommendations.</pre>"
      ],
      "text/plain": [
       "Training ranking_factorization_recommender for recommendations."
      ]
     },
     "metadata": {},
     "output_type": "display_data"
    },
    {
     "data": {
      "text/html": [
       "<pre>+--------------------------------+--------------------------------------------------+----------+</pre>"
      ],
      "text/plain": [
       "+--------------------------------+--------------------------------------------------+----------+"
      ]
     },
     "metadata": {},
     "output_type": "display_data"
    },
    {
     "data": {
      "text/html": [
       "<pre>| Parameter                      | Description                                      | Value    |</pre>"
      ],
      "text/plain": [
       "| Parameter                      | Description                                      | Value    |"
      ]
     },
     "metadata": {},
     "output_type": "display_data"
    },
    {
     "data": {
      "text/html": [
       "<pre>+--------------------------------+--------------------------------------------------+----------+</pre>"
      ],
      "text/plain": [
       "+--------------------------------+--------------------------------------------------+----------+"
      ]
     },
     "metadata": {},
     "output_type": "display_data"
    },
    {
     "data": {
      "text/html": [
       "<pre>| num_factors                    | Factor Dimension                                 | 32       |</pre>"
      ],
      "text/plain": [
       "| num_factors                    | Factor Dimension                                 | 32       |"
      ]
     },
     "metadata": {},
     "output_type": "display_data"
    },
    {
     "data": {
      "text/html": [
       "<pre>| regularization                 | L2 Regularization on Factors                     | 1e-009   |</pre>"
      ],
      "text/plain": [
       "| regularization                 | L2 Regularization on Factors                     | 1e-009   |"
      ]
     },
     "metadata": {},
     "output_type": "display_data"
    },
    {
     "data": {
      "text/html": [
       "<pre>| solver                         | Solver used for training                         | adagrad  |</pre>"
      ],
      "text/plain": [
       "| solver                         | Solver used for training                         | adagrad  |"
      ]
     },
     "metadata": {},
     "output_type": "display_data"
    },
    {
     "data": {
      "text/html": [
       "<pre>| linear_regularization          | L2 Regularization on Linear Coefficients         | 1e-009   |</pre>"
      ],
      "text/plain": [
       "| linear_regularization          | L2 Regularization on Linear Coefficients         | 1e-009   |"
      ]
     },
     "metadata": {},
     "output_type": "display_data"
    },
    {
     "data": {
      "text/html": [
       "<pre>| ranking_regularization         | Rank-based Regularization Weight                 | 0.25     |</pre>"
      ],
      "text/plain": [
       "| ranking_regularization         | Rank-based Regularization Weight                 | 0.25     |"
      ]
     },
     "metadata": {},
     "output_type": "display_data"
    },
    {
     "data": {
      "text/html": [
       "<pre>| max_iterations                 | Maximum Number of Iterations                     | 25       |</pre>"
      ],
      "text/plain": [
       "| max_iterations                 | Maximum Number of Iterations                     | 25       |"
      ]
     },
     "metadata": {},
     "output_type": "display_data"
    },
    {
     "data": {
      "text/html": [
       "<pre>+--------------------------------+--------------------------------------------------+----------+</pre>"
      ],
      "text/plain": [
       "+--------------------------------+--------------------------------------------------+----------+"
      ]
     },
     "metadata": {},
     "output_type": "display_data"
    },
    {
     "data": {
      "text/html": [
       "<pre>  Optimizing model using SGD; tuning step size.</pre>"
      ],
      "text/plain": [
       "  Optimizing model using SGD; tuning step size."
      ]
     },
     "metadata": {},
     "output_type": "display_data"
    },
    {
     "data": {
      "text/html": [
       "<pre>  Using 189757 / 1518062 points for tuning the step size.</pre>"
      ],
      "text/plain": [
       "  Using 189757 / 1518062 points for tuning the step size."
      ]
     },
     "metadata": {},
     "output_type": "display_data"
    },
    {
     "data": {
      "text/html": [
       "<pre>+---------+-------------------+------------------------------------------+</pre>"
      ],
      "text/plain": [
       "+---------+-------------------+------------------------------------------+"
      ]
     },
     "metadata": {},
     "output_type": "display_data"
    },
    {
     "data": {
      "text/html": [
       "<pre>| Attempt | Initial Step Size | Estimated Objective Value                |</pre>"
      ],
      "text/plain": [
       "| Attempt | Initial Step Size | Estimated Objective Value                |"
      ]
     },
     "metadata": {},
     "output_type": "display_data"
    },
    {
     "data": {
      "text/html": [
       "<pre>+---------+-------------------+------------------------------------------+</pre>"
      ],
      "text/plain": [
       "+---------+-------------------+------------------------------------------+"
      ]
     },
     "metadata": {},
     "output_type": "display_data"
    },
    {
     "data": {
      "text/html": [
       "<pre>| 0       | 4.16667           | Not Viable                               |</pre>"
      ],
      "text/plain": [
       "| 0       | 4.16667           | Not Viable                               |"
      ]
     },
     "metadata": {},
     "output_type": "display_data"
    },
    {
     "data": {
      "text/html": [
       "<pre>| 1       | 1.04167           | Not Viable                               |</pre>"
      ],
      "text/plain": [
       "| 1       | 1.04167           | Not Viable                               |"
      ]
     },
     "metadata": {},
     "output_type": "display_data"
    },
    {
     "data": {
      "text/html": [
       "<pre>| 2       | 0.260417          | Not Viable                               |</pre>"
      ],
      "text/plain": [
       "| 2       | 0.260417          | Not Viable                               |"
      ]
     },
     "metadata": {},
     "output_type": "display_data"
    },
    {
     "data": {
      "text/html": [
       "<pre>| 3       | 0.0651042         | Not Viable                               |</pre>"
      ],
      "text/plain": [
       "| 3       | 0.0651042         | Not Viable                               |"
      ]
     },
     "metadata": {},
     "output_type": "display_data"
    },
    {
     "data": {
      "text/html": [
       "<pre>| 4       | 0.016276          | Not Viable                               |</pre>"
      ],
      "text/plain": [
       "| 4       | 0.016276          | Not Viable                               |"
      ]
     },
     "metadata": {},
     "output_type": "display_data"
    },
    {
     "data": {
      "text/html": [
       "<pre>| 5       | 0.00406901        | Not Viable                               |</pre>"
      ],
      "text/plain": [
       "| 5       | 0.00406901        | Not Viable                               |"
      ]
     },
     "metadata": {},
     "output_type": "display_data"
    },
    {
     "data": {
      "text/html": [
       "<pre>| 6       | 0.00101725        | No Decrease (1.21484 >= 1.10475)         |</pre>"
      ],
      "text/plain": [
       "| 6       | 0.00101725        | No Decrease (1.21484 >= 1.10475)         |"
      ]
     },
     "metadata": {},
     "output_type": "display_data"
    },
    {
     "data": {
      "text/html": [
       "<pre>| 7       | 0.000254313       | No Decrease (2.39019 >= 1.10475)         |</pre>"
      ],
      "text/plain": [
       "| 7       | 0.000254313       | No Decrease (2.39019 >= 1.10475)         |"
      ]
     },
     "metadata": {},
     "output_type": "display_data"
    },
    {
     "data": {
      "text/html": [
       "<pre>| 8       | 6.35783e-005      | No Decrease (1.41673 >= 1.10475)         |</pre>"
      ],
      "text/plain": [
       "| 8       | 6.35783e-005      | No Decrease (1.41673 >= 1.10475)         |"
      ]
     },
     "metadata": {},
     "output_type": "display_data"
    },
    {
     "data": {
      "text/html": [
       "<pre>| 9       | 1.58946e-005      | 1.10008                                  |</pre>"
      ],
      "text/plain": [
       "| 9       | 1.58946e-005      | 1.10008                                  |"
      ]
     },
     "metadata": {},
     "output_type": "display_data"
    },
    {
     "data": {
      "text/html": [
       "<pre>| 10      | 7.94729e-006      | 1.09518                                  |</pre>"
      ],
      "text/plain": [
       "| 10      | 7.94729e-006      | 1.09518                                  |"
      ]
     },
     "metadata": {},
     "output_type": "display_data"
    },
    {
     "data": {
      "text/html": [
       "<pre>| 11      | 3.97364e-006      | 1.09836                                  |</pre>"
      ],
      "text/plain": [
       "| 11      | 3.97364e-006      | 1.09836                                  |"
      ]
     },
     "metadata": {},
     "output_type": "display_data"
    },
    {
     "data": {
      "text/html": [
       "<pre>| 12      | 1.98682e-006      | 1.10116                                  |</pre>"
      ],
      "text/plain": [
       "| 12      | 1.98682e-006      | 1.10116                                  |"
      ]
     },
     "metadata": {},
     "output_type": "display_data"
    },
    {
     "data": {
      "text/html": [
       "<pre>| 13      | 9.93411e-007      | 1.10287                                  |</pre>"
      ],
      "text/plain": [
       "| 13      | 9.93411e-007      | 1.10287                                  |"
      ]
     },
     "metadata": {},
     "output_type": "display_data"
    },
    {
     "data": {
      "text/html": [
       "<pre>+---------+-------------------+------------------------------------------+</pre>"
      ],
      "text/plain": [
       "+---------+-------------------+------------------------------------------+"
      ]
     },
     "metadata": {},
     "output_type": "display_data"
    },
    {
     "data": {
      "text/html": [
       "<pre>| Final   | 7.94729e-006      | 1.09518                                  |</pre>"
      ],
      "text/plain": [
       "| Final   | 7.94729e-006      | 1.09518                                  |"
      ]
     },
     "metadata": {},
     "output_type": "display_data"
    },
    {
     "data": {
      "text/html": [
       "<pre>+---------+-------------------+------------------------------------------+</pre>"
      ],
      "text/plain": [
       "+---------+-------------------+------------------------------------------+"
      ]
     },
     "metadata": {},
     "output_type": "display_data"
    },
    {
     "data": {
      "text/html": [
       "<pre>Starting Optimization.</pre>"
      ],
      "text/plain": [
       "Starting Optimization."
      ]
     },
     "metadata": {},
     "output_type": "display_data"
    },
    {
     "data": {
      "text/html": [
       "<pre>+---------+--------------+-------------------+-----------------------+-------------+</pre>"
      ],
      "text/plain": [
       "+---------+--------------+-------------------+-----------------------+-------------+"
      ]
     },
     "metadata": {},
     "output_type": "display_data"
    },
    {
     "data": {
      "text/html": [
       "<pre>| Iter.   | Elapsed Time | Approx. Objective | Approx. Training RMSE | Step Size   |</pre>"
      ],
      "text/plain": [
       "| Iter.   | Elapsed Time | Approx. Objective | Approx. Training RMSE | Step Size   |"
      ]
     },
     "metadata": {},
     "output_type": "display_data"
    },
    {
     "data": {
      "text/html": [
       "<pre>+---------+--------------+-------------------+-----------------------+-------------+</pre>"
      ],
      "text/plain": [
       "+---------+--------------+-------------------+-----------------------+-------------+"
      ]
     },
     "metadata": {},
     "output_type": "display_data"
    },
    {
     "data": {
      "text/html": [
       "<pre>| Initial | 501us        | 1.10514           | 0.75083               |             |</pre>"
      ],
      "text/plain": [
       "| Initial | 501us        | 1.10514           | 0.75083               |             |"
      ]
     },
     "metadata": {},
     "output_type": "display_data"
    },
    {
     "data": {
      "text/html": [
       "<pre>+---------+--------------+-------------------+-----------------------+-------------+</pre>"
      ],
      "text/plain": [
       "+---------+--------------+-------------------+-----------------------+-------------+"
      ]
     },
     "metadata": {},
     "output_type": "display_data"
    },
    {
     "data": {
      "text/html": [
       "<pre>| 1       | 3.09s        | 1.09702           | 0.744256              |             |</pre>"
      ],
      "text/plain": [
       "| 1       | 3.09s        | 1.09702           | 0.744256              |             |"
      ]
     },
     "metadata": {},
     "output_type": "display_data"
    },
    {
     "data": {
      "text/html": [
       "<pre>| 2       | 6.28s        | 1.09638           | 0.740821              |             |</pre>"
      ],
      "text/plain": [
       "| 2       | 6.28s        | 1.09638           | 0.740821              |             |"
      ]
     },
     "metadata": {},
     "output_type": "display_data"
    },
    {
     "data": {
      "text/html": [
       "<pre>| 3       | 9.57s        | 1.09998           | 0.739734              |             |</pre>"
      ],
      "text/plain": [
       "| 3       | 9.57s        | 1.09998           | 0.739734              |             |"
      ]
     },
     "metadata": {},
     "output_type": "display_data"
    },
    {
     "data": {
      "text/html": [
       "<pre>| 4       | 12.77s       | 1.10503           | 0.739992              |             |</pre>"
      ],
      "text/plain": [
       "| 4       | 12.77s       | 1.10503           | 0.739992              |             |"
      ]
     },
     "metadata": {},
     "output_type": "display_data"
    },
    {
     "data": {
      "text/html": [
       "<pre>| 5       | 15.95s       | 1.11104           | 0.740662              |             |</pre>"
      ],
      "text/plain": [
       "| 5       | 15.95s       | 1.11104           | 0.740662              |             |"
      ]
     },
     "metadata": {},
     "output_type": "display_data"
    },
    {
     "data": {
      "text/html": [
       "<pre>| 6       | 19.13s       | 1.11879           | 0.742181              |             |</pre>"
      ],
      "text/plain": [
       "| 6       | 19.13s       | 1.11879           | 0.742181              |             |"
      ]
     },
     "metadata": {},
     "output_type": "display_data"
    },
    {
     "data": {
      "text/html": [
       "<pre>| 7       | 22.30s       | 1.12719           | 0.744337              |             |</pre>"
      ],
      "text/plain": [
       "| 7       | 22.30s       | 1.12719           | 0.744337              |             |"
      ]
     },
     "metadata": {},
     "output_type": "display_data"
    },
    {
     "data": {
      "text/html": [
       "<pre>| 8       | 25.48s       | 1.13615           | 0.746825              |             |</pre>"
      ],
      "text/plain": [
       "| 8       | 25.48s       | 1.13615           | 0.746825              |             |"
      ]
     },
     "metadata": {},
     "output_type": "display_data"
    },
    {
     "data": {
      "text/html": [
       "<pre>| 9       | 28.74s       | 1.14527           | 0.749467              |             |</pre>"
      ],
      "text/plain": [
       "| 9       | 28.74s       | 1.14527           | 0.749467              |             |"
      ]
     },
     "metadata": {},
     "output_type": "display_data"
    },
    {
     "data": {
      "text/html": [
       "<pre>| 10      | 32.95s       | DIVERGED          | DIVERGED              |             |</pre>"
      ],
      "text/plain": [
       "| 10      | 32.95s       | DIVERGED          | DIVERGED              |             |"
      ]
     },
     "metadata": {},
     "output_type": "display_data"
    },
    {
     "data": {
      "text/html": [
       "<pre>| RESET   | 34.21s       | 1.10526           | 0.750923              |             |</pre>"
      ],
      "text/plain": [
       "| RESET   | 34.21s       | 1.10526           | 0.750923              |             |"
      ]
     },
     "metadata": {},
     "output_type": "display_data"
    },
    {
     "data": {
      "text/html": [
       "<pre>| 1       | 37.43s       | 1.09979           | 0.747096              |             |</pre>"
      ],
      "text/plain": [
       "| 1       | 37.43s       | 1.09979           | 0.747096              |             |"
      ]
     },
     "metadata": {},
     "output_type": "display_data"
    },
    {
     "data": {
      "text/html": [
       "<pre>| 2       | 40.60s       | 1.09691           | 0.744507              |             |</pre>"
      ],
      "text/plain": [
       "| 2       | 40.60s       | 1.09691           | 0.744507              |             |"
      ]
     },
     "metadata": {},
     "output_type": "display_data"
    },
    {
     "data": {
      "text/html": [
       "<pre>| 3       | 43.98s       | 1.09581           | 0.742955              |             |</pre>"
      ],
      "text/plain": [
       "| 3       | 43.98s       | 1.09581           | 0.742955              |             |"
      ]
     },
     "metadata": {},
     "output_type": "display_data"
    },
    {
     "data": {
      "text/html": [
       "<pre>| 4       | 47.26s       | 1.09556           | 0.741968              |             |</pre>"
      ],
      "text/plain": [
       "| 4       | 47.26s       | 1.09556           | 0.741968              |             |"
      ]
     },
     "metadata": {},
     "output_type": "display_data"
    },
    {
     "data": {
      "text/html": [
       "<pre>| 5       | 50.43s       | 1.09559           | 0.741086              |             |</pre>"
      ],
      "text/plain": [
       "| 5       | 50.43s       | 1.09559           | 0.741086              |             |"
      ]
     },
     "metadata": {},
     "output_type": "display_data"
    },
    {
     "data": {
      "text/html": [
       "<pre>| 6       | 53.74s       | 1.09591           | 0.740471              |             |</pre>"
      ],
      "text/plain": [
       "| 6       | 53.74s       | 1.09591           | 0.740471              |             |"
      ]
     },
     "metadata": {},
     "output_type": "display_data"
    },
    {
     "data": {
      "text/html": [
       "<pre>| 7       | 56.97s       | 1.09659           | 0.740023              |             |</pre>"
      ],
      "text/plain": [
       "| 7       | 56.97s       | 1.09659           | 0.740023              |             |"
      ]
     },
     "metadata": {},
     "output_type": "display_data"
    },
    {
     "data": {
      "text/html": [
       "<pre>| 8       | 1m 0s        | 1.09768           | 0.739776              |             |</pre>"
      ],
      "text/plain": [
       "| 8       | 1m 0s        | 1.09768           | 0.739776              |             |"
      ]
     },
     "metadata": {},
     "output_type": "display_data"
    },
    {
     "data": {
      "text/html": [
       "<pre>| 9       | 1m 3s        | 1.0988            | 0.739609              |             |</pre>"
      ],
      "text/plain": [
       "| 9       | 1m 3s        | 1.0988            | 0.739609              |             |"
      ]
     },
     "metadata": {},
     "output_type": "display_data"
    },
    {
     "data": {
      "text/html": [
       "<pre>| 10      | 1m 7s        | 1.10015           | 0.739466              |             |</pre>"
      ],
      "text/plain": [
       "| 10      | 1m 7s        | 1.10015           | 0.739466              |             |"
      ]
     },
     "metadata": {},
     "output_type": "display_data"
    },
    {
     "data": {
      "text/html": [
       "<pre>| 11      | 1m 10s       | 1.10162           | 0.739468              |             |</pre>"
      ],
      "text/plain": [
       "| 11      | 1m 10s       | 1.10162           | 0.739468              |             |"
      ]
     },
     "metadata": {},
     "output_type": "display_data"
    },
    {
     "data": {
      "text/html": [
       "<pre>| 12      | 1m 13s       | 1.10329           | 0.739502              |             |</pre>"
      ],
      "text/plain": [
       "| 12      | 1m 13s       | 1.10329           | 0.739502              |             |"
      ]
     },
     "metadata": {},
     "output_type": "display_data"
    },
    {
     "data": {
      "text/html": [
       "<pre>| 13      | 1m 17s       | 1.10499           | 0.739615              |             |</pre>"
      ],
      "text/plain": [
       "| 13      | 1m 17s       | 1.10499           | 0.739615              |             |"
      ]
     },
     "metadata": {},
     "output_type": "display_data"
    },
    {
     "data": {
      "text/html": [
       "<pre>| 14      | 1m 20s       | 1.10681           | 0.739761              |             |</pre>"
      ],
      "text/plain": [
       "| 14      | 1m 20s       | 1.10681           | 0.739761              |             |"
      ]
     },
     "metadata": {},
     "output_type": "display_data"
    },
    {
     "data": {
      "text/html": [
       "<pre>| 15      | 1m 23s       | 1.10862           | 0.739983              |             |</pre>"
      ],
      "text/plain": [
       "| 15      | 1m 23s       | 1.10862           | 0.739983              |             |"
      ]
     },
     "metadata": {},
     "output_type": "display_data"
    },
    {
     "data": {
      "text/html": [
       "<pre>| 16      | 1m 27s       | 1.1106            | 0.740263              |             |</pre>"
      ],
      "text/plain": [
       "| 16      | 1m 27s       | 1.1106            | 0.740263              |             |"
      ]
     },
     "metadata": {},
     "output_type": "display_data"
    },
    {
     "data": {
      "text/html": [
       "<pre>| 17      | 1m 30s       | 1.11283           | 0.740666              |             |</pre>"
      ],
      "text/plain": [
       "| 17      | 1m 30s       | 1.11283           | 0.740666              |             |"
      ]
     },
     "metadata": {},
     "output_type": "display_data"
    },
    {
     "data": {
      "text/html": [
       "<pre>| 18      | 1m 33s       | 1.115             | 0.741134              |             |</pre>"
      ],
      "text/plain": [
       "| 18      | 1m 33s       | 1.115             | 0.741134              |             |"
      ]
     },
     "metadata": {},
     "output_type": "display_data"
    },
    {
     "data": {
      "text/html": [
       "<pre>| 19      | 1m 37s       | 1.11717           | 0.74157               |             |</pre>"
      ],
      "text/plain": [
       "| 19      | 1m 37s       | 1.11717           | 0.74157               |             |"
      ]
     },
     "metadata": {},
     "output_type": "display_data"
    },
    {
     "data": {
      "text/html": [
       "<pre>| 20      | 1m 42s       | 1.11941           | 0.742026              |             |</pre>"
      ],
      "text/plain": [
       "| 20      | 1m 42s       | 1.11941           | 0.742026              |             |"
      ]
     },
     "metadata": {},
     "output_type": "display_data"
    },
    {
     "data": {
      "text/html": [
       "<pre>+---------+--------------+-------------------+-----------------------+-------------+</pre>"
      ],
      "text/plain": [
       "+---------+--------------+-------------------+-----------------------+-------------+"
      ]
     },
     "metadata": {},
     "output_type": "display_data"
    },
    {
     "data": {
      "text/html": [
       "<pre>Optimization Complete: Maximum number of passes through the data reached (hard limit).</pre>"
      ],
      "text/plain": [
       "Optimization Complete: Maximum number of passes through the data reached (hard limit)."
      ]
     },
     "metadata": {},
     "output_type": "display_data"
    },
    {
     "data": {
      "text/html": [
       "<pre>Computing final objective value and training RMSE.</pre>"
      ],
      "text/plain": [
       "Computing final objective value and training RMSE."
      ]
     },
     "metadata": {},
     "output_type": "display_data"
    },
    {
     "data": {
      "text/html": [
       "<pre>       Final objective value: 1.12046</pre>"
      ],
      "text/plain": [
       "       Final objective value: 1.12046"
      ]
     },
     "metadata": {},
     "output_type": "display_data"
    },
    {
     "data": {
      "text/html": [
       "<pre>       Final training RMSE: 0.742239</pre>"
      ],
      "text/plain": [
       "       Final training RMSE: 0.742239"
      ]
     },
     "metadata": {},
     "output_type": "display_data"
    },
    {
     "name": "stdout",
     "output_type": "stream",
     "text": [
      "\n",
      "Precision and recall summary statistics by cutoff\n",
      "+--------+-----------------+-------------------+\n",
      "| cutoff |  mean_precision |    mean_recall    |\n",
      "+--------+-----------------+-------------------+\n",
      "|   1    |  0.051724137931 | 0.000492967916815 |\n",
      "|   2    | 0.0431034482759 | 0.000835390701784 |\n",
      "|   3    | 0.0402298850575 |  0.00117781348675 |\n",
      "|   4    | 0.0301724137931 |  0.00117781348675 |\n",
      "|   5    | 0.0310344827586 |  0.00250894938939 |\n",
      "|   6    | 0.0258620689655 |  0.00250894938939 |\n",
      "|   7    | 0.0295566502463 |  0.00443461714946 |\n",
      "|   8    | 0.0258620689655 |  0.00443461714946 |\n",
      "|   9    | 0.0268199233716 |  0.00479288679042 |\n",
      "|   10   | 0.0258620689655 |  0.00492758506628 |\n",
      "+--------+-----------------+-------------------+\n",
      "[10 rows x 3 columns]\n",
      "\n",
      "('\\nOverall RMSE: ', 0.6801645740116268)\n",
      "\n",
      "Per User RMSE (best)\n",
      "+--------------------+-------+----------------+\n",
      "| review_profilename | count |      rmse      |\n",
      "+--------------------+-------+----------------+\n",
      "|       bdawe        |   1   | 0.201347453439 |\n",
      "+--------------------+-------+----------------+\n",
      "[1 rows x 3 columns]\n",
      "\n",
      "\n",
      "Per User RMSE (worst)\n",
      "+--------------------+-------+---------------+\n",
      "| review_profilename | count |      rmse     |\n",
      "+--------------------+-------+---------------+\n",
      "|     AxelTheRed     |   1   | 2.81642982389 |\n",
      "+--------------------+-------+---------------+\n",
      "[1 rows x 3 columns]\n",
      "\n",
      "\n",
      "Per Item RMSE (best)\n",
      "+-------------------------------+-------+------------------+\n",
      "|           beer_name           | count |       rmse       |\n",
      "+-------------------------------+-------+------------------+\n",
      "| Brewship Belgium - Belgian... |   1   | 0.00364672627322 |\n",
      "+-------------------------------+-------+------------------+\n",
      "[1 rows x 3 columns]\n",
      "\n",
      "\n",
      "Per Item RMSE (worst)\n",
      "+------------------+-------+---------------+\n",
      "|    beer_name     | count |      rmse     |\n",
      "+------------------+-------+---------------+\n",
      "| Miller High Life |   1   | 2.81642982389 |\n",
      "+------------------+-------+---------------+\n",
      "[1 rows x 3 columns]\n",
      "\n"
     ]
    }
   ],
   "source": [
    "\n",
    "rec1 = gl.recommender.ranking_factorization_recommender.create(train, \n",
    "                                  user_id=\"review_profilename\", \n",
    "                                  item_id=\"beer_name\", \n",
    "                                  target=\"review_overall\")\n",
    "\n",
    "rmse_results = rec1.evaluate(test)"
   ]
  },
  {
   "cell_type": "code",
   "execution_count": 18,
   "metadata": {
    "collapsed": false,
    "deletable": true,
    "editable": true
   },
   "outputs": [
    {
     "data": {
      "text/html": [
       "<div style=\"max-height:1000px;max-width:1500px;overflow:auto;\"><table frame=\"box\" rules=\"cols\">\n",
       "    <tr>\n",
       "        <th style=\"padding-left: 1em; padding-right: 1em; text-align: center\">cutoff</th>\n",
       "        <th style=\"padding-left: 1em; padding-right: 1em; text-align: center\">Avg of precision</th>\n",
       "        <th style=\"padding-left: 1em; padding-right: 1em; text-align: center\">Stdv of precision</th>\n",
       "        <th style=\"padding-left: 1em; padding-right: 1em; text-align: center\">Avg of recall</th>\n",
       "        <th style=\"padding-left: 1em; padding-right: 1em; text-align: center\">Stdv of recall</th>\n",
       "    </tr>\n",
       "    <tr>\n",
       "        <td style=\"padding-left: 1em; padding-right: 1em; text-align: center; vertical-align: top\">16</td>\n",
       "        <td style=\"padding-left: 1em; padding-right: 1em; text-align: center; vertical-align: top\">0.020474137931</td>\n",
       "        <td style=\"padding-left: 1em; padding-right: 1em; text-align: center; vertical-align: top\">0.0719081923306</td>\n",
       "        <td style=\"padding-left: 1em; padding-right: 1em; text-align: center; vertical-align: top\">0.00643646714737</td>\n",
       "        <td style=\"padding-left: 1em; padding-right: 1em; text-align: center; vertical-align: top\">0.0222409188275</td>\n",
       "    </tr>\n",
       "    <tr>\n",
       "        <td style=\"padding-left: 1em; padding-right: 1em; text-align: center; vertical-align: top\">10</td>\n",
       "        <td style=\"padding-left: 1em; padding-right: 1em; text-align: center; vertical-align: top\">0.0258620689655</td>\n",
       "        <td style=\"padding-left: 1em; padding-right: 1em; text-align: center; vertical-align: top\">0.0882010728443</td>\n",
       "        <td style=\"padding-left: 1em; padding-right: 1em; text-align: center; vertical-align: top\">0.00492758506628</td>\n",
       "        <td style=\"padding-left: 1em; padding-right: 1em; text-align: center; vertical-align: top\">0.0165125030902</td>\n",
       "    </tr>\n",
       "    <tr>\n",
       "        <td style=\"padding-left: 1em; padding-right: 1em; text-align: center; vertical-align: top\">36</td>\n",
       "        <td style=\"padding-left: 1em; padding-right: 1em; text-align: center; vertical-align: top\">0.0210727969349</td>\n",
       "        <td style=\"padding-left: 1em; padding-right: 1em; text-align: center; vertical-align: top\">0.066720592978</td>\n",
       "        <td style=\"padding-left: 1em; padding-right: 1em; text-align: center; vertical-align: top\">0.0253576581332</td>\n",
       "        <td style=\"padding-left: 1em; padding-right: 1em; text-align: center; vertical-align: top\">0.0774131758715</td>\n",
       "    </tr>\n",
       "    <tr>\n",
       "        <td style=\"padding-left: 1em; padding-right: 1em; text-align: center; vertical-align: top\">26</td>\n",
       "        <td style=\"padding-left: 1em; padding-right: 1em; text-align: center; vertical-align: top\">0.0212201591512</td>\n",
       "        <td style=\"padding-left: 1em; padding-right: 1em; text-align: center; vertical-align: top\">0.0707656316815</td>\n",
       "        <td style=\"padding-left: 1em; padding-right: 1em; text-align: center; vertical-align: top\">0.0107368986666</td>\n",
       "        <td style=\"padding-left: 1em; padding-right: 1em; text-align: center; vertical-align: top\">0.0321769507631</td>\n",
       "    </tr>\n",
       "    <tr>\n",
       "        <td style=\"padding-left: 1em; padding-right: 1em; text-align: center; vertical-align: top\">41</td>\n",
       "        <td style=\"padding-left: 1em; padding-right: 1em; text-align: center; vertical-align: top\">0.0193439865433</td>\n",
       "        <td style=\"padding-left: 1em; padding-right: 1em; text-align: center; vertical-align: top\">0.0605550883095</td>\n",
       "        <td style=\"padding-left: 1em; padding-right: 1em; text-align: center; vertical-align: top\">0.0258806043807</td>\n",
       "        <td style=\"padding-left: 1em; padding-right: 1em; text-align: center; vertical-align: top\">0.0778988931479</td>\n",
       "    </tr>\n",
       "    <tr>\n",
       "        <td style=\"padding-left: 1em; padding-right: 1em; text-align: center; vertical-align: top\">3</td>\n",
       "        <td style=\"padding-left: 1em; padding-right: 1em; text-align: center; vertical-align: top\">0.0402298850575</td>\n",
       "        <td style=\"padding-left: 1em; padding-right: 1em; text-align: center; vertical-align: top\">0.164672974505</td>\n",
       "        <td style=\"padding-left: 1em; padding-right: 1em; text-align: center; vertical-align: top\">0.00117781348675</td>\n",
       "        <td style=\"padding-left: 1em; padding-right: 1em; text-align: center; vertical-align: top\">0.00478665573676</td>\n",
       "    </tr>\n",
       "    <tr>\n",
       "        <td style=\"padding-left: 1em; padding-right: 1em; text-align: center; vertical-align: top\">1</td>\n",
       "        <td style=\"padding-left: 1em; padding-right: 1em; text-align: center; vertical-align: top\">0.051724137931</td>\n",
       "        <td style=\"padding-left: 1em; padding-right: 1em; text-align: center; vertical-align: top\">0.221469527218</td>\n",
       "        <td style=\"padding-left: 1em; padding-right: 1em; text-align: center; vertical-align: top\">0.000492967916815</td>\n",
       "        <td style=\"padding-left: 1em; padding-right: 1em; text-align: center; vertical-align: top\">0.00234024416274</td>\n",
       "    </tr>\n",
       "    <tr>\n",
       "        <td style=\"padding-left: 1em; padding-right: 1em; text-align: center; vertical-align: top\">6</td>\n",
       "        <td style=\"padding-left: 1em; padding-right: 1em; text-align: center; vertical-align: top\">0.0258620689655</td>\n",
       "        <td style=\"padding-left: 1em; padding-right: 1em; text-align: center; vertical-align: top\">0.0968949155177</td>\n",
       "        <td style=\"padding-left: 1em; padding-right: 1em; text-align: center; vertical-align: top\">0.00250894938939</td>\n",
       "        <td style=\"padding-left: 1em; padding-right: 1em; text-align: center; vertical-align: top\">0.0101978913813</td>\n",
       "    </tr>\n",
       "    <tr>\n",
       "        <td style=\"padding-left: 1em; padding-right: 1em; text-align: center; vertical-align: top\">11</td>\n",
       "        <td style=\"padding-left: 1em; padding-right: 1em; text-align: center; vertical-align: top\">0.025078369906</td>\n",
       "        <td style=\"padding-left: 1em; padding-right: 1em; text-align: center; vertical-align: top\">0.0857353876563</td>\n",
       "        <td style=\"padding-left: 1em; padding-right: 1em; text-align: center; vertical-align: top\">0.00518113476202</td>\n",
       "        <td style=\"padding-left: 1em; padding-right: 1em; text-align: center; vertical-align: top\">0.0172104735391</td>\n",
       "    </tr>\n",
       "    <tr>\n",
       "        <td style=\"padding-left: 1em; padding-right: 1em; text-align: center; vertical-align: top\">2</td>\n",
       "        <td style=\"padding-left: 1em; padding-right: 1em; text-align: center; vertical-align: top\">0.0431034482759</td>\n",
       "        <td style=\"padding-left: 1em; padding-right: 1em; text-align: center; vertical-align: top\">0.168269149103</td>\n",
       "        <td style=\"padding-left: 1em; padding-right: 1em; text-align: center; vertical-align: top\">0.000835390701784</td>\n",
       "        <td style=\"padding-left: 1em; padding-right: 1em; text-align: center; vertical-align: top\">0.00318196175368</td>\n",
       "    </tr>\n",
       "</table>\n",
       "[18 rows x 5 columns]<br/>Note: Only the head of the SFrame is printed.<br/>You can use print_rows(num_rows=m, num_columns=n) to print more rows and columns.\n",
       "</div>"
      ],
      "text/plain": [
       "Columns:\n",
       "\tcutoff\tint\n",
       "\tAvg of precision\tfloat\n",
       "\tStdv of precision\tfloat\n",
       "\tAvg of recall\tfloat\n",
       "\tStdv of recall\tfloat\n",
       "\n",
       "Rows: 18\n",
       "\n",
       "Data:\n",
       "+--------+------------------+-------------------+-------------------+\n",
       "| cutoff | Avg of precision | Stdv of precision |   Avg of recall   |\n",
       "+--------+------------------+-------------------+-------------------+\n",
       "|   16   |  0.020474137931  |  0.0719081923306  |  0.00643646714737 |\n",
       "|   10   | 0.0258620689655  |  0.0882010728443  |  0.00492758506628 |\n",
       "|   36   | 0.0210727969349  |   0.066720592978  |  0.0253576581332  |\n",
       "|   26   | 0.0212201591512  |  0.0707656316815  |  0.0107368986666  |\n",
       "|   41   | 0.0193439865433  |  0.0605550883095  |  0.0258806043807  |\n",
       "|   3    | 0.0402298850575  |   0.164672974505  |  0.00117781348675 |\n",
       "|   1    |  0.051724137931  |   0.221469527218  | 0.000492967916815 |\n",
       "|   6    | 0.0258620689655  |  0.0968949155177  |  0.00250894938939 |\n",
       "|   11   |  0.025078369906  |  0.0857353876563  |  0.00518113476202 |\n",
       "|   2    | 0.0431034482759  |   0.168269149103  | 0.000835390701784 |\n",
       "+--------+------------------+-------------------+-------------------+\n",
       "+------------------+\n",
       "|  Stdv of recall  |\n",
       "+------------------+\n",
       "| 0.0222409188275  |\n",
       "| 0.0165125030902  |\n",
       "| 0.0774131758715  |\n",
       "| 0.0321769507631  |\n",
       "| 0.0778988931479  |\n",
       "| 0.00478665573676 |\n",
       "| 0.00234024416274 |\n",
       "| 0.0101978913813  |\n",
       "| 0.0172104735391  |\n",
       "| 0.00318196175368 |\n",
       "+------------------+\n",
       "[18 rows x 5 columns]\n",
       "Note: Only the head of the SFrame is printed.\n",
       "You can use print_rows(num_rows=m, num_columns=n) to print more rows and columns."
      ]
     },
     "execution_count": 18,
     "metadata": {},
     "output_type": "execute_result"
    }
   ],
   "source": [
    "rmse_results['precision_recall_by_user'].groupby('cutoff',[agg.AVG('precision'),agg.STD('precision'),agg.AVG('recall'),agg.STD('recall')])"
   ]
  },
  {
   "cell_type": "markdown",
   "metadata": {},
   "source": [
    "Our results show a little bit of an improvement. But let's see if we can do any better. Let's try regularizing the data and playing around with the number of latent factors."
   ]
  },
  {
   "cell_type": "code",
   "execution_count": 19,
   "metadata": {
    "collapsed": false,
    "deletable": true,
    "editable": true
   },
   "outputs": [
    {
     "data": {
      "text/html": [
       "<pre>Recsys training: model = ranking_factorization_recommender</pre>"
      ],
      "text/plain": [
       "Recsys training: model = ranking_factorization_recommender"
      ]
     },
     "metadata": {},
     "output_type": "display_data"
    },
    {
     "data": {
      "text/html": [
       "<pre>Preparing data set.</pre>"
      ],
      "text/plain": [
       "Preparing data set."
      ]
     },
     "metadata": {},
     "output_type": "display_data"
    },
    {
     "data": {
      "text/html": [
       "<pre>    Data has 1518062 observations with 32901 users and 44079 items.</pre>"
      ],
      "text/plain": [
       "    Data has 1518062 observations with 32901 users and 44079 items."
      ]
     },
     "metadata": {},
     "output_type": "display_data"
    },
    {
     "data": {
      "text/html": [
       "<pre>    Data prepared in: 3.01997s</pre>"
      ],
      "text/plain": [
       "    Data prepared in: 3.01997s"
      ]
     },
     "metadata": {},
     "output_type": "display_data"
    },
    {
     "data": {
      "text/html": [
       "<pre>Training ranking_factorization_recommender for recommendations.</pre>"
      ],
      "text/plain": [
       "Training ranking_factorization_recommender for recommendations."
      ]
     },
     "metadata": {},
     "output_type": "display_data"
    },
    {
     "data": {
      "text/html": [
       "<pre>+--------------------------------+--------------------------------------------------+----------+</pre>"
      ],
      "text/plain": [
       "+--------------------------------+--------------------------------------------------+----------+"
      ]
     },
     "metadata": {},
     "output_type": "display_data"
    },
    {
     "data": {
      "text/html": [
       "<pre>| Parameter                      | Description                                      | Value    |</pre>"
      ],
      "text/plain": [
       "| Parameter                      | Description                                      | Value    |"
      ]
     },
     "metadata": {},
     "output_type": "display_data"
    },
    {
     "data": {
      "text/html": [
       "<pre>+--------------------------------+--------------------------------------------------+----------+</pre>"
      ],
      "text/plain": [
       "+--------------------------------+--------------------------------------------------+----------+"
      ]
     },
     "metadata": {},
     "output_type": "display_data"
    },
    {
     "data": {
      "text/html": [
       "<pre>| num_factors                    | Factor Dimension                                 | 16       |</pre>"
      ],
      "text/plain": [
       "| num_factors                    | Factor Dimension                                 | 16       |"
      ]
     },
     "metadata": {},
     "output_type": "display_data"
    },
    {
     "data": {
      "text/html": [
       "<pre>| regularization                 | L2 Regularization on Factors                     | 0.01     |</pre>"
      ],
      "text/plain": [
       "| regularization                 | L2 Regularization on Factors                     | 0.01     |"
      ]
     },
     "metadata": {},
     "output_type": "display_data"
    },
    {
     "data": {
      "text/html": [
       "<pre>| solver                         | Solver used for training                         | adagrad  |</pre>"
      ],
      "text/plain": [
       "| solver                         | Solver used for training                         | adagrad  |"
      ]
     },
     "metadata": {},
     "output_type": "display_data"
    },
    {
     "data": {
      "text/html": [
       "<pre>| linear_regularization          | L2 Regularization on Linear Coefficients         | 0.001    |</pre>"
      ],
      "text/plain": [
       "| linear_regularization          | L2 Regularization on Linear Coefficients         | 0.001    |"
      ]
     },
     "metadata": {},
     "output_type": "display_data"
    },
    {
     "data": {
      "text/html": [
       "<pre>| ranking_regularization         | Rank-based Regularization Weight                 | 0.25     |</pre>"
      ],
      "text/plain": [
       "| ranking_regularization         | Rank-based Regularization Weight                 | 0.25     |"
      ]
     },
     "metadata": {},
     "output_type": "display_data"
    },
    {
     "data": {
      "text/html": [
       "<pre>| max_iterations                 | Maximum Number of Iterations                     | 25       |</pre>"
      ],
      "text/plain": [
       "| max_iterations                 | Maximum Number of Iterations                     | 25       |"
      ]
     },
     "metadata": {},
     "output_type": "display_data"
    },
    {
     "data": {
      "text/html": [
       "<pre>+--------------------------------+--------------------------------------------------+----------+</pre>"
      ],
      "text/plain": [
       "+--------------------------------+--------------------------------------------------+----------+"
      ]
     },
     "metadata": {},
     "output_type": "display_data"
    },
    {
     "data": {
      "text/html": [
       "<pre>  Optimizing model using SGD; tuning step size.</pre>"
      ],
      "text/plain": [
       "  Optimizing model using SGD; tuning step size."
      ]
     },
     "metadata": {},
     "output_type": "display_data"
    },
    {
     "data": {
      "text/html": [
       "<pre>  Using 189757 / 1518062 points for tuning the step size.</pre>"
      ],
      "text/plain": [
       "  Using 189757 / 1518062 points for tuning the step size."
      ]
     },
     "metadata": {},
     "output_type": "display_data"
    },
    {
     "data": {
      "text/html": [
       "<pre>+---------+-------------------+------------------------------------------+</pre>"
      ],
      "text/plain": [
       "+---------+-------------------+------------------------------------------+"
      ]
     },
     "metadata": {},
     "output_type": "display_data"
    },
    {
     "data": {
      "text/html": [
       "<pre>| Attempt | Initial Step Size | Estimated Objective Value                |</pre>"
      ],
      "text/plain": [
       "| Attempt | Initial Step Size | Estimated Objective Value                |"
      ]
     },
     "metadata": {},
     "output_type": "display_data"
    },
    {
     "data": {
      "text/html": [
       "<pre>+---------+-------------------+------------------------------------------+</pre>"
      ],
      "text/plain": [
       "+---------+-------------------+------------------------------------------+"
      ]
     },
     "metadata": {},
     "output_type": "display_data"
    },
    {
     "data": {
      "text/html": [
       "<pre>| 0       | 0.00485362        | 0.727065                                 |</pre>"
      ],
      "text/plain": [
       "| 0       | 0.00485362        | 0.727065                                 |"
      ]
     },
     "metadata": {},
     "output_type": "display_data"
    },
    {
     "data": {
      "text/html": [
       "<pre>| 1       | 0.00242681        | 0.731835                                 |</pre>"
      ],
      "text/plain": [
       "| 1       | 0.00242681        | 0.731835                                 |"
      ]
     },
     "metadata": {},
     "output_type": "display_data"
    },
    {
     "data": {
      "text/html": [
       "<pre>| 2       | 0.0012134         | 0.749711                                 |</pre>"
      ],
      "text/plain": [
       "| 2       | 0.0012134         | 0.749711                                 |"
      ]
     },
     "metadata": {},
     "output_type": "display_data"
    },
    {
     "data": {
      "text/html": [
       "<pre>| 3       | 0.000606702       | 0.784985                                 |</pre>"
      ],
      "text/plain": [
       "| 3       | 0.000606702       | 0.784985                                 |"
      ]
     },
     "metadata": {},
     "output_type": "display_data"
    },
    {
     "data": {
      "text/html": [
       "<pre>+---------+-------------------+------------------------------------------+</pre>"
      ],
      "text/plain": [
       "+---------+-------------------+------------------------------------------+"
      ]
     },
     "metadata": {},
     "output_type": "display_data"
    },
    {
     "data": {
      "text/html": [
       "<pre>| Final   | 0.00485362        | 0.727065                                 |</pre>"
      ],
      "text/plain": [
       "| Final   | 0.00485362        | 0.727065                                 |"
      ]
     },
     "metadata": {},
     "output_type": "display_data"
    },
    {
     "data": {
      "text/html": [
       "<pre>+---------+-------------------+------------------------------------------+</pre>"
      ],
      "text/plain": [
       "+---------+-------------------+------------------------------------------+"
      ]
     },
     "metadata": {},
     "output_type": "display_data"
    },
    {
     "data": {
      "text/html": [
       "<pre>Starting Optimization.</pre>"
      ],
      "text/plain": [
       "Starting Optimization."
      ]
     },
     "metadata": {},
     "output_type": "display_data"
    },
    {
     "data": {
      "text/html": [
       "<pre>+---------+--------------+-------------------+-----------------------+-------------+</pre>"
      ],
      "text/plain": [
       "+---------+--------------+-------------------+-----------------------+-------------+"
      ]
     },
     "metadata": {},
     "output_type": "display_data"
    },
    {
     "data": {
      "text/html": [
       "<pre>| Iter.   | Elapsed Time | Approx. Objective | Approx. Training RMSE | Step Size   |</pre>"
      ],
      "text/plain": [
       "| Iter.   | Elapsed Time | Approx. Objective | Approx. Training RMSE | Step Size   |"
      ]
     },
     "metadata": {},
     "output_type": "display_data"
    },
    {
     "data": {
      "text/html": [
       "<pre>+---------+--------------+-------------------+-----------------------+-------------+</pre>"
      ],
      "text/plain": [
       "+---------+--------------+-------------------+-----------------------+-------------+"
      ]
     },
     "metadata": {},
     "output_type": "display_data"
    },
    {
     "data": {
      "text/html": [
       "<pre>| Initial | 501us        | 1.10513           | 0.750824              |             |</pre>"
      ],
      "text/plain": [
       "| Initial | 501us        | 1.10513           | 0.750824              |             |"
      ]
     },
     "metadata": {},
     "output_type": "display_data"
    },
    {
     "data": {
      "text/html": [
       "<pre>+---------+--------------+-------------------+-----------------------+-------------+</pre>"
      ],
      "text/plain": [
       "+---------+--------------+-------------------+-----------------------+-------------+"
      ]
     },
     "metadata": {},
     "output_type": "display_data"
    },
    {
     "data": {
      "text/html": [
       "<pre>| 1       | 2.51s        | 0.784306          | 0.549258              | 0.00485362  |</pre>"
      ],
      "text/plain": [
       "| 1       | 2.51s        | 0.784306          | 0.549258              | 0.00485362  |"
      ]
     },
     "metadata": {},
     "output_type": "display_data"
    },
    {
     "data": {
      "text/html": [
       "<pre>| 2       | 7.10s        | 0.748027          | 0.526722              | 0.00485362  |</pre>"
      ],
      "text/plain": [
       "| 2       | 7.10s        | 0.748027          | 0.526722              | 0.00485362  |"
      ]
     },
     "metadata": {},
     "output_type": "display_data"
    },
    {
     "data": {
      "text/html": [
       "<pre>| 3       | 9.34s        | 0.724336          | 0.536835              | 0.00485362  |</pre>"
      ],
      "text/plain": [
       "| 3       | 9.34s        | 0.724336          | 0.536835              | 0.00485362  |"
      ]
     },
     "metadata": {},
     "output_type": "display_data"
    },
    {
     "data": {
      "text/html": [
       "<pre>| 4       | 11.50s       | 0.719708          | 0.537258              | 0.00485362  |</pre>"
      ],
      "text/plain": [
       "| 4       | 11.50s       | 0.719708          | 0.537258              | 0.00485362  |"
      ]
     },
     "metadata": {},
     "output_type": "display_data"
    },
    {
     "data": {
      "text/html": [
       "<pre>| 5       | 13.83s       | 0.71743           | 0.53739               | 0.00485362  |</pre>"
      ],
      "text/plain": [
       "| 5       | 13.83s       | 0.71743           | 0.53739               | 0.00485362  |"
      ]
     },
     "metadata": {},
     "output_type": "display_data"
    },
    {
     "data": {
      "text/html": [
       "<pre>| 6       | 16.14s       | 0.715863          | 0.537103              | 0.00485362  |</pre>"
      ],
      "text/plain": [
       "| 6       | 16.14s       | 0.715863          | 0.537103              | 0.00485362  |"
      ]
     },
     "metadata": {},
     "output_type": "display_data"
    },
    {
     "data": {
      "text/html": [
       "<pre>| 7       | 18.45s       | 0.714785          | 0.537198              | 0.00485362  |</pre>"
      ],
      "text/plain": [
       "| 7       | 18.45s       | 0.714785          | 0.537198              | 0.00485362  |"
      ]
     },
     "metadata": {},
     "output_type": "display_data"
    },
    {
     "data": {
      "text/html": [
       "<pre>| 8       | 20.70s       | 0.713978          | 0.536821              | 0.00485362  |</pre>"
      ],
      "text/plain": [
       "| 8       | 20.70s       | 0.713978          | 0.536821              | 0.00485362  |"
      ]
     },
     "metadata": {},
     "output_type": "display_data"
    },
    {
     "data": {
      "text/html": [
       "<pre>| 9       | 22.96s       | 0.713371          | 0.536858              | 0.00485362  |</pre>"
      ],
      "text/plain": [
       "| 9       | 22.96s       | 0.713371          | 0.536858              | 0.00485362  |"
      ]
     },
     "metadata": {},
     "output_type": "display_data"
    },
    {
     "data": {
      "text/html": [
       "<pre>| 10      | 25.58s       | 0.712645          | 0.537222              | 0.00485362  |</pre>"
      ],
      "text/plain": [
       "| 10      | 25.58s       | 0.712645          | 0.537222              | 0.00485362  |"
      ]
     },
     "metadata": {},
     "output_type": "display_data"
    },
    {
     "data": {
      "text/html": [
       "<pre>| 11      | 27.77s       | 0.712137          | 0.537186              | 0.00485362  |</pre>"
      ],
      "text/plain": [
       "| 11      | 27.77s       | 0.712137          | 0.537186              | 0.00485362  |"
      ]
     },
     "metadata": {},
     "output_type": "display_data"
    },
    {
     "data": {
      "text/html": [
       "<pre>| 12      | 30.03s       | 0.711665          | 0.537593              | 0.00485362  |</pre>"
      ],
      "text/plain": [
       "| 12      | 30.03s       | 0.711665          | 0.537593              | 0.00485362  |"
      ]
     },
     "metadata": {},
     "output_type": "display_data"
    },
    {
     "data": {
      "text/html": [
       "<pre>| 13      | 32.32s       | 0.711301          | 0.537244              | 0.00485362  |</pre>"
      ],
      "text/plain": [
       "| 13      | 32.32s       | 0.711301          | 0.537244              | 0.00485362  |"
      ]
     },
     "metadata": {},
     "output_type": "display_data"
    },
    {
     "data": {
      "text/html": [
       "<pre>| 14      | 34.60s       | 0.710878          | 0.537333              | 0.00485362  |</pre>"
      ],
      "text/plain": [
       "| 14      | 34.60s       | 0.710878          | 0.537333              | 0.00485362  |"
      ]
     },
     "metadata": {},
     "output_type": "display_data"
    },
    {
     "data": {
      "text/html": [
       "<pre>| 15      | 36.98s       | 0.710564          | 0.53756               | 0.00485362  |</pre>"
      ],
      "text/plain": [
       "| 15      | 36.98s       | 0.710564          | 0.53756               | 0.00485362  |"
      ]
     },
     "metadata": {},
     "output_type": "display_data"
    },
    {
     "data": {
      "text/html": [
       "<pre>| 16      | 39.25s       | 0.710174          | 0.537484              | 0.00485362  |</pre>"
      ],
      "text/plain": [
       "| 16      | 39.25s       | 0.710174          | 0.537484              | 0.00485362  |"
      ]
     },
     "metadata": {},
     "output_type": "display_data"
    },
    {
     "data": {
      "text/html": [
       "<pre>| 17      | 41.47s       | 0.709842          | 0.538126              | 0.00485362  |</pre>"
      ],
      "text/plain": [
       "| 17      | 41.47s       | 0.709842          | 0.538126              | 0.00485362  |"
      ]
     },
     "metadata": {},
     "output_type": "display_data"
    },
    {
     "data": {
      "text/html": [
       "<pre>| 18      | 43.84s       | 0.709669          | 0.537558              | 0.00485362  |</pre>"
      ],
      "text/plain": [
       "| 18      | 43.84s       | 0.709669          | 0.537558              | 0.00485362  |"
      ]
     },
     "metadata": {},
     "output_type": "display_data"
    },
    {
     "data": {
      "text/html": [
       "<pre>| 19      | 46.13s       | 0.709492          | 0.537927              | 0.00485362  |</pre>"
      ],
      "text/plain": [
       "| 19      | 46.13s       | 0.709492          | 0.537927              | 0.00485362  |"
      ]
     },
     "metadata": {},
     "output_type": "display_data"
    },
    {
     "data": {
      "text/html": [
       "<pre>| 20      | 48.54s       | 0.709246          | 0.538283              | 0.00485362  |</pre>"
      ],
      "text/plain": [
       "| 20      | 48.54s       | 0.709246          | 0.538283              | 0.00485362  |"
      ]
     },
     "metadata": {},
     "output_type": "display_data"
    },
    {
     "data": {
      "text/html": [
       "<pre>| 21      | 50.83s       | 0.709024          | 0.538151              | 0.00485362  |</pre>"
      ],
      "text/plain": [
       "| 21      | 50.83s       | 0.709024          | 0.538151              | 0.00485362  |"
      ]
     },
     "metadata": {},
     "output_type": "display_data"
    },
    {
     "data": {
      "text/html": [
       "<pre>| 22      | 53.10s       | 0.70887           | 0.538478              | 0.00485362  |</pre>"
      ],
      "text/plain": [
       "| 22      | 53.10s       | 0.70887           | 0.538478              | 0.00485362  |"
      ]
     },
     "metadata": {},
     "output_type": "display_data"
    },
    {
     "data": {
      "text/html": [
       "<pre>| 23      | 55.30s       | 0.70873           | 0.538132              | 0.00485362  |</pre>"
      ],
      "text/plain": [
       "| 23      | 55.30s       | 0.70873           | 0.538132              | 0.00485362  |"
      ]
     },
     "metadata": {},
     "output_type": "display_data"
    },
    {
     "data": {
      "text/html": [
       "<pre>| 24      | 57.64s       | 0.708549          | 0.538772              | 0.00485362  |</pre>"
      ],
      "text/plain": [
       "| 24      | 57.64s       | 0.708549          | 0.538772              | 0.00485362  |"
      ]
     },
     "metadata": {},
     "output_type": "display_data"
    },
    {
     "data": {
      "text/html": [
       "<pre>| 25      | 59.80s       | 0.708416          | 0.53841               | 0.00485362  |</pre>"
      ],
      "text/plain": [
       "| 25      | 59.80s       | 0.708416          | 0.53841               | 0.00485362  |"
      ]
     },
     "metadata": {},
     "output_type": "display_data"
    },
    {
     "data": {
      "text/html": [
       "<pre>+---------+--------------+-------------------+-----------------------+-------------+</pre>"
      ],
      "text/plain": [
       "+---------+--------------+-------------------+-----------------------+-------------+"
      ]
     },
     "metadata": {},
     "output_type": "display_data"
    },
    {
     "data": {
      "text/html": [
       "<pre>Optimization Complete: Maximum number of passes through the data reached.</pre>"
      ],
      "text/plain": [
       "Optimization Complete: Maximum number of passes through the data reached."
      ]
     },
     "metadata": {},
     "output_type": "display_data"
    },
    {
     "data": {
      "text/html": [
       "<pre>Computing final objective value and training RMSE.</pre>"
      ],
      "text/plain": [
       "Computing final objective value and training RMSE."
      ]
     },
     "metadata": {},
     "output_type": "display_data"
    },
    {
     "data": {
      "text/html": [
       "<pre>       Final objective value: 0.718394</pre>"
      ],
      "text/plain": [
       "       Final objective value: 0.718394"
      ]
     },
     "metadata": {},
     "output_type": "display_data"
    },
    {
     "data": {
      "text/html": [
       "<pre>       Final training RMSE: 0.541016</pre>"
      ],
      "text/plain": [
       "       Final training RMSE: 0.541016"
      ]
     },
     "metadata": {},
     "output_type": "display_data"
    },
    {
     "name": "stdout",
     "output_type": "stream",
     "text": [
      "\n",
      "Precision and recall summary statistics by cutoff\n",
      "+--------+-----------------+-------------------+\n",
      "| cutoff |  mean_precision |    mean_recall    |\n",
      "+--------+-----------------+-------------------+\n",
      "|   1    | 0.0344827586207 | 0.000342422784969 |\n",
      "|   2    | 0.0258620689655 | 0.000595972480709 |\n",
      "|   3    | 0.0344827586207 |  0.00107309354154 |\n",
      "|   4    | 0.0344827586207 |  0.00143136318249 |\n",
      "|   5    | 0.0413793103448 |   0.002483196887  |\n",
      "|   6    | 0.0402298850575 |  0.00413946809535 |\n",
      "|   7    | 0.0394088669951 |  0.00449773773631 |\n",
      "|   8    | 0.0366379310345 |  0.00458661082553 |\n",
      "|   9    | 0.0344827586207 |  0.00467548391476 |\n",
      "|   10   | 0.0344827586207 |  0.00489905527985 |\n",
      "+--------+-----------------+-------------------+\n",
      "[10 rows x 3 columns]\n",
      "\n",
      "('\\nOverall RMSE: ', 0.504521213322226)\n",
      "\n",
      "Per User RMSE (best)\n",
      "+--------------------+-------+-----------------+\n",
      "| review_profilename | count |       rmse      |\n",
      "+--------------------+-------+-----------------+\n",
      "|      columbo       |   1   | 0.0500810486045 |\n",
      "+--------------------+-------+-----------------+\n",
      "[1 rows x 3 columns]\n",
      "\n",
      "\n",
      "Per User RMSE (worst)\n",
      "+--------------------+-------+---------------+\n",
      "| review_profilename | count |      rmse     |\n",
      "+--------------------+-------+---------------+\n",
      "|       Inepsa       |   1   | 1.42967807894 |\n",
      "+--------------------+-------+---------------+\n",
      "[1 rows x 3 columns]\n",
      "\n",
      "\n",
      "Per Item RMSE (best)\n",
      "+----------------------+-------+------------------+\n",
      "|      beer_name       | count |       rmse       |\n",
      "+----------------------+-------+------------------+\n",
      "| Highland Tasgall Ale |   1   | 0.00176034612364 |\n",
      "+----------------------+-------+------------------+\n",
      "[1 rows x 3 columns]\n",
      "\n",
      "\n",
      "Per Item RMSE (worst)\n",
      "+-----------+-------+---------------+\n",
      "| beer_name | count |      rmse     |\n",
      "+-----------+-------+---------------+\n",
      "| Bud Light |   1   | 2.03614609242 |\n",
      "+-----------+-------+---------------+\n",
      "[1 rows x 3 columns]\n",
      "\n"
     ]
    }
   ],
   "source": [
    "\n",
    "rec1 = gl.recommender.ranking_factorization_recommender.create(train, \n",
    "                                  user_id=\"review_profilename\", \n",
    "                                  item_id=\"beer_name\", \n",
    "                                  target=\"review_overall\",\n",
    "                                  num_factors=16,                 # override the default value\n",
    "                                  regularization=1e-02,           # override the default value\n",
    "                                  linear_regularization = 1e-3)   # override the default value\n",
    "\n",
    "rmse_results = rec1.evaluate(test)"
   ]
  },
  {
   "cell_type": "markdown",
   "metadata": {
    "deletable": true,
    "editable": true
   },
   "source": [
    "Looks pretty good but, is it better than the item-item matrix?"
   ]
  },
  {
   "cell_type": "markdown",
   "metadata": {
    "deletable": true,
    "editable": true
   },
   "source": [
    "# <a name=\"me4\"></a> Modeling and Evaluation 4\n",
    "---"
   ]
  },
  {
   "cell_type": "markdown",
   "metadata": {
    "deletable": true,
    "editable": true
   },
   "source": [
    "<span style=\"color:red\">20 Points - Summarize the Ramifications. </span>"
   ]
  },
  {
   "cell_type": "markdown",
   "metadata": {
    "deletable": true,
    "editable": true
   },
   "source": [
    "### Comparing the item-item matrix to our regularized collaboration filtering"
   ]
  },
  {
   "cell_type": "code",
   "execution_count": 20,
   "metadata": {
    "collapsed": false,
    "deletable": true,
    "editable": true
   },
   "outputs": [
    {
     "name": "stdout",
     "output_type": "stream",
     "text": [
      "PROGRESS: Evaluate model M0\n",
      "\n",
      "Precision and recall summary statistics by cutoff\n",
      "+--------+-----------------+-----------------+\n",
      "| cutoff |  mean_precision |   mean_recall   |\n",
      "+--------+-----------------+-----------------+\n",
      "|   1    |  0.120689655172 | 0.0491763156412 |\n",
      "|   2    | 0.0862068965517 | 0.0528058291245 |\n",
      "|   3    | 0.0862068965517 | 0.0632469936005 |\n",
      "|   4    | 0.0905172413793 | 0.0665055548236 |\n",
      "|   5    | 0.0896551724138 | 0.0715085379534 |\n",
      "|   6    | 0.0862068965517 | 0.0727489086112 |\n",
      "|   7    | 0.0812807881773 | 0.0750070402084 |\n",
      "|   8    | 0.0797413793103 | 0.0776523414715 |\n",
      "|   9    | 0.0785440613027 | 0.0818270622619 |\n",
      "|   10   | 0.0775862068966 | 0.0910161508684 |\n",
      "+--------+-----------------+-----------------+\n",
      "[10 rows x 3 columns]\n",
      "\n",
      "('\\nOverall RMSE: ', 3.710958263148474)\n",
      "\n",
      "Per User RMSE (best)\n",
      "+--------------------+-------+----------------+\n",
      "| review_profilename | count |      rmse      |\n",
      "+--------------------+-------+----------------+\n",
      "|     AxelTheRed     |   1   | 0.142133593559 |\n",
      "+--------------------+-------+----------------+\n",
      "[1 rows x 3 columns]\n",
      "\n",
      "\n",
      "Per User RMSE (worst)\n",
      "+--------------------+-------+------+\n",
      "| review_profilename | count | rmse |\n",
      "+--------------------+-------+------+\n",
      "|      DonaCake      |   1   | 5.0  |\n",
      "+--------------------+-------+------+\n",
      "[1 rows x 3 columns]\n",
      "\n",
      "\n",
      "Per Item RMSE (best)\n",
      "+------------------+-------+----------------+\n",
      "|    beer_name     | count |      rmse      |\n",
      "+------------------+-------+----------------+\n",
      "| Miller High Life |   1   | 0.142133593559 |\n",
      "+------------------+-------+----------------+\n",
      "[1 rows x 3 columns]\n",
      "\n",
      "\n",
      "Per Item RMSE (worst)\n",
      "+----------------+-------+------+\n",
      "|   beer_name    | count | rmse |\n",
      "+----------------+-------+------+\n",
      "| Amarillo Amber |   1   | 5.0  |\n",
      "+----------------+-------+------+\n",
      "[1 rows x 3 columns]\n",
      "\n",
      "PROGRESS: Evaluate model M1\n",
      "\n",
      "Precision and recall summary statistics by cutoff\n",
      "+--------+-----------------+-------------------+\n",
      "| cutoff |  mean_precision |    mean_recall    |\n",
      "+--------+-----------------+-------------------+\n",
      "|   1    | 0.0344827586207 | 0.000342422784969 |\n",
      "|   2    | 0.0258620689655 | 0.000595972480709 |\n",
      "|   3    | 0.0344827586207 |  0.00107309354154 |\n",
      "|   4    | 0.0344827586207 |  0.00143136318249 |\n",
      "|   5    | 0.0413793103448 |   0.002483196887  |\n",
      "|   6    | 0.0402298850575 |  0.00413946809535 |\n",
      "|   7    | 0.0394088669951 |  0.00449773773631 |\n",
      "|   8    | 0.0366379310345 |  0.00458661082553 |\n",
      "|   9    | 0.0344827586207 |  0.00467548391476 |\n",
      "|   10   | 0.0344827586207 |  0.00489905527985 |\n",
      "+--------+-----------------+-------------------+\n",
      "[10 rows x 3 columns]\n",
      "\n",
      "('\\nOverall RMSE: ', 0.504521213322226)\n",
      "\n",
      "Per User RMSE (best)\n",
      "+--------------------+-------+-----------------+\n",
      "| review_profilename | count |       rmse      |\n",
      "+--------------------+-------+-----------------+\n",
      "|      columbo       |   1   | 0.0500810486045 |\n",
      "+--------------------+-------+-----------------+\n",
      "[1 rows x 3 columns]\n",
      "\n",
      "\n",
      "Per User RMSE (worst)\n",
      "+--------------------+-------+---------------+\n",
      "| review_profilename | count |      rmse     |\n",
      "+--------------------+-------+---------------+\n",
      "|       Inepsa       |   1   | 1.42967807894 |\n",
      "+--------------------+-------+---------------+\n",
      "[1 rows x 3 columns]\n",
      "\n",
      "\n",
      "Per Item RMSE (best)\n",
      "+----------------------+-------+------------------+\n",
      "|      beer_name       | count |       rmse       |\n",
      "+----------------------+-------+------------------+\n",
      "| Highland Tasgall Ale |   1   | 0.00176034612364 |\n",
      "+----------------------+-------+------------------+\n",
      "[1 rows x 3 columns]\n",
      "\n",
      "\n",
      "Per Item RMSE (worst)\n",
      "+-----------+-------+---------------+\n",
      "| beer_name | count |      rmse     |\n",
      "+-----------+-------+---------------+\n",
      "| Bud Light |   1   | 2.03614609242 |\n",
      "+-----------+-------+---------------+\n",
      "[1 rows x 3 columns]\n",
      "\n"
     ]
    }
   ],
   "source": [
    "comparison = gl.recommender.util.compare_models(test, [item_item, rec1])"
   ]
  },
  {
   "cell_type": "code",
   "execution_count": 21,
   "metadata": {
    "collapsed": false,
    "deletable": true,
    "editable": true
   },
   "outputs": [
    {
     "name": "stdout",
     "output_type": "stream",
     "text": [
      "PROGRESS: Evaluate model M0\n",
      "\n",
      "Precision and recall summary statistics by cutoff\n",
      "+--------+-----------------+-----------------+\n",
      "| cutoff |  mean_precision |   mean_recall   |\n",
      "+--------+-----------------+-----------------+\n",
      "|   1    |  0.120689655172 | 0.0491763156412 |\n",
      "|   2    | 0.0862068965517 | 0.0528058291245 |\n",
      "|   3    | 0.0862068965517 | 0.0632469936005 |\n",
      "|   4    | 0.0905172413793 | 0.0665055548236 |\n",
      "|   5    | 0.0896551724138 | 0.0715085379534 |\n",
      "|   6    | 0.0862068965517 | 0.0727489086112 |\n",
      "|   7    | 0.0812807881773 | 0.0750070402084 |\n",
      "|   8    | 0.0797413793103 | 0.0776523414715 |\n",
      "|   9    | 0.0785440613027 | 0.0818270622619 |\n",
      "|   10   | 0.0775862068966 | 0.0910161508684 |\n",
      "+--------+-----------------+-----------------+\n",
      "[10 rows x 3 columns]\n",
      "\n",
      "PROGRESS: Evaluate model M1\n",
      "\n",
      "Precision and recall summary statistics by cutoff\n",
      "+--------+-----------------+-------------------+\n",
      "| cutoff |  mean_precision |    mean_recall    |\n",
      "+--------+-----------------+-------------------+\n",
      "|   1    | 0.0344827586207 | 0.000342422784969 |\n",
      "|   2    | 0.0258620689655 | 0.000595972480709 |\n",
      "|   3    | 0.0344827586207 |  0.00107309354154 |\n",
      "|   4    | 0.0344827586207 |  0.00143136318249 |\n",
      "|   5    | 0.0413793103448 |   0.002483196887  |\n",
      "|   6    | 0.0402298850575 |  0.00413946809535 |\n",
      "|   7    | 0.0394088669951 |  0.00449773773631 |\n",
      "|   8    | 0.0366379310345 |  0.00458661082553 |\n",
      "|   9    | 0.0344827586207 |  0.00467548391476 |\n",
      "|   10   | 0.0344827586207 |  0.00489905527985 |\n",
      "+--------+-----------------+-------------------+\n",
      "[10 rows x 3 columns]\n",
      "\n",
      "Model compare metric: precision_recall\n"
     ]
    }
   ],
   "source": [
    "comparisonstruct = gl.compare(test,[item_item, rec1])"
   ]
  },
  {
   "cell_type": "markdown",
   "metadata": {},
   "source": [
    "Wow! We can see that comparing between the two, MO: item-item, M1: regularized collaboration filtering, that M1 is much better."
   ]
  },
  {
   "cell_type": "code",
   "execution_count": 22,
   "metadata": {
    "collapsed": false,
    "deletable": true,
    "editable": true
   },
   "outputs": [
    {
     "data": {
      "application/javascript": [
       "$(\"head\").append($(\"<link/>\").attr({\n",
       "  rel:  \"stylesheet\",\n",
       "  type: \"text/css\",\n",
       "  href: \"//cdnjs.cloudflare.com/ajax/libs/font-awesome/4.1.0/css/font-awesome.min.css\"\n",
       "}));\n",
       "$(\"head\").append($(\"<link/>\").attr({\n",
       "  rel:  \"stylesheet\",\n",
       "  type: \"text/css\",\n",
       "  href: \"https://static.turi.com/products/graphlab-create/2.1/canvas/css/canvas.css\"\n",
       "}));\n",
       "\n",
       "            (function(){\n",
       "\n",
       "                var e = null;\n",
       "                if (typeof element == 'undefined') {\n",
       "                    var scripts = document.getElementsByTagName('script');\n",
       "                    var thisScriptTag = scripts[scripts.length-1];\n",
       "                    var parentDiv = thisScriptTag.parentNode;\n",
       "                    e = document.createElement('div');\n",
       "                    parentDiv.appendChild(e);\n",
       "                } else {\n",
       "                    e = element[0];\n",
       "                }\n",
       "\n",
       "                if (typeof requirejs !== 'undefined') {\n",
       "                    // disable load timeout; ipython_app.js is large and can take a while to load.\n",
       "                    requirejs.config({waitSeconds: 0});\n",
       "                }\n",
       "\n",
       "                require(['https://static.turi.com/products/graphlab-create/2.1/canvas/js/ipython_app.js'], function(IPythonApp){\n",
       "                    var app = new IPythonApp();\n",
       "                    app.attachView('model','Comparison', {\"comparison\": {\"dataset_label\": \"test\", \"evaluations\": {\"rec1\": {\"precision_recall\": [{\"cutoff\": 1, \"precision\": 0.03448275862068966, \"recall\": 0.00034242278496894656}, {\"cutoff\": 2, \"precision\": 0.025862068965517238, \"recall\": 0.0005959724807093117}, {\"cutoff\": 3, \"precision\": 0.03448275862068966, \"recall\": 0.0010730935415403271}, {\"cutoff\": 4, \"precision\": 0.03448275862068966, \"recall\": 0.0014313631824930473}, {\"cutoff\": 5, \"precision\": 0.04137931034482758, \"recall\": 0.002483196887002224}, {\"cutoff\": 6, \"precision\": 0.04022988505747127, \"recall\": 0.004139468095353063}, {\"cutoff\": 7, \"precision\": 0.03940886699507389, \"recall\": 0.004497737736305782}, {\"cutoff\": 8, \"precision\": 0.036637931034482756, \"recall\": 0.004586610825534364}, {\"cutoff\": 9, \"precision\": 0.03448275862068965, \"recall\": 0.004675483914762945}, {\"cutoff\": 10, \"precision\": 0.034482758620689655, \"recall\": 0.004899055279853595}, {\"cutoff\": 11, \"precision\": 0.032915360501567396, \"recall\": 0.004987928369082176}, {\"cutoff\": 16, \"precision\": 0.02586206896551724, \"recall\": 0.006778897853295085}, {\"cutoff\": 21, \"precision\": 0.024630541871921183, \"recall\": 0.009363650759967887}, {\"cutoff\": 26, \"precision\": 0.02519893899204244, \"recall\": 0.02969715712651282}, {\"cutoff\": 31, \"precision\": 0.024471635150166846, \"recall\": 0.03219122383788534}, {\"cutoff\": 36, \"precision\": 0.02346743295019157, \"recall\": 0.03385065105082526}, {\"cutoff\": 41, \"precision\": 0.022287636669470142, \"recall\": 0.034535496620763155}, {\"cutoff\": 46, \"precision\": 0.022488755622188907, \"recall\": 0.036770310314350206}]}, \"item_item\": {\"precision_recall\": [{\"cutoff\": 1, \"precision\": 0.1206896551724138, \"recall\": 0.04917631564119901}, {\"cutoff\": 2, \"precision\": 0.08620689655172414, \"recall\": 0.05280582912451624}, {\"cutoff\": 3, \"precision\": 0.08620689655172413, \"recall\": 0.06324699360051898}, {\"cutoff\": 4, \"precision\": 0.09051724137931039, \"recall\": 0.06650555482362182}, {\"cutoff\": 5, \"precision\": 0.08965517241379314, \"recall\": 0.07150853795341833}, {\"cutoff\": 6, \"precision\": 0.08620689655172416, \"recall\": 0.07274890861117034}, {\"cutoff\": 7, \"precision\": 0.0812807881773399, \"recall\": 0.07500704020839982}, {\"cutoff\": 8, \"precision\": 0.07974137931034479, \"recall\": 0.07765234147153832}, {\"cutoff\": 9, \"precision\": 0.07854406130268196, \"recall\": 0.08182706226191629}, {\"cutoff\": 10, \"precision\": 0.07758620689655175, \"recall\": 0.09101615086838628}, {\"cutoff\": 11, \"precision\": 0.07836990595611286, \"recall\": 0.09358167625646546}, {\"cutoff\": 16, \"precision\": 0.0743534482758621, \"recall\": 0.11012426336728486}, {\"cutoff\": 21, \"precision\": 0.0632183908045977, \"recall\": 0.1169267748296346}, {\"cutoff\": 26, \"precision\": 0.05835543766578249, \"recall\": 0.12985029288427638}, {\"cutoff\": 31, \"precision\": 0.05561735261401558, \"recall\": 0.1422092653330826}, {\"cutoff\": 36, \"precision\": 0.04932950191570881, \"recall\": 0.1446049257916233}, {\"cutoff\": 41, \"precision\": 0.04457527333894028, \"recall\": 0.14687890424483654}, {\"cutoff\": 46, \"precision\": 0.041979010494752625, \"recall\": 0.15475545059302398}]}}}, \"selected_variable\": {\"comparison\": {\"dataset_label\": \"test\", \"evaluations\": {\"rec1\": {\"precision_recall\": [{\"cutoff\": 1, \"precision\": 0.03448275862068966, \"recall\": 0.00034242278496894656}, {\"cutoff\": 2, \"precision\": 0.025862068965517238, \"recall\": 0.0005959724807093117}, {\"cutoff\": 3, \"precision\": 0.03448275862068966, \"recall\": 0.0010730935415403271}, {\"cutoff\": 4, \"precision\": 0.03448275862068966, \"recall\": 0.0014313631824930473}, {\"cutoff\": 5, \"precision\": 0.04137931034482758, \"recall\": 0.002483196887002224}, {\"cutoff\": 6, \"precision\": 0.04022988505747127, \"recall\": 0.004139468095353063}, {\"cutoff\": 7, \"precision\": 0.03940886699507389, \"recall\": 0.004497737736305782}, {\"cutoff\": 8, \"precision\": 0.036637931034482756, \"recall\": 0.004586610825534364}, {\"cutoff\": 9, \"precision\": 0.03448275862068965, \"recall\": 0.004675483914762945}, {\"cutoff\": 10, \"precision\": 0.034482758620689655, \"recall\": 0.004899055279853595}, {\"cutoff\": 11, \"precision\": 0.032915360501567396, \"recall\": 0.004987928369082176}, {\"cutoff\": 16, \"precision\": 0.02586206896551724, \"recall\": 0.006778897853295085}, {\"cutoff\": 21, \"precision\": 0.024630541871921183, \"recall\": 0.009363650759967887}, {\"cutoff\": 26, \"precision\": 0.02519893899204244, \"recall\": 0.02969715712651282}, {\"cutoff\": 31, \"precision\": 0.024471635150166846, \"recall\": 0.03219122383788534}, {\"cutoff\": 36, \"precision\": 0.02346743295019157, \"recall\": 0.03385065105082526}, {\"cutoff\": 41, \"precision\": 0.022287636669470142, \"recall\": 0.034535496620763155}, {\"cutoff\": 46, \"precision\": 0.022488755622188907, \"recall\": 0.036770310314350206}]}, \"item_item\": {\"precision_recall\": [{\"cutoff\": 1, \"precision\": 0.1206896551724138, \"recall\": 0.04917631564119901}, {\"cutoff\": 2, \"precision\": 0.08620689655172414, \"recall\": 0.05280582912451624}, {\"cutoff\": 3, \"precision\": 0.08620689655172413, \"recall\": 0.06324699360051898}, {\"cutoff\": 4, \"precision\": 0.09051724137931039, \"recall\": 0.06650555482362182}, {\"cutoff\": 5, \"precision\": 0.08965517241379314, \"recall\": 0.07150853795341833}, {\"cutoff\": 6, \"precision\": 0.08620689655172416, \"recall\": 0.07274890861117034}, {\"cutoff\": 7, \"precision\": 0.0812807881773399, \"recall\": 0.07500704020839982}, {\"cutoff\": 8, \"precision\": 0.07974137931034479, \"recall\": 0.07765234147153832}, {\"cutoff\": 9, \"precision\": 0.07854406130268196, \"recall\": 0.08182706226191629}, {\"cutoff\": 10, \"precision\": 0.07758620689655175, \"recall\": 0.09101615086838628}, {\"cutoff\": 11, \"precision\": 0.07836990595611286, \"recall\": 0.09358167625646546}, {\"cutoff\": 16, \"precision\": 0.0743534482758621, \"recall\": 0.11012426336728486}, {\"cutoff\": 21, \"precision\": 0.0632183908045977, \"recall\": 0.1169267748296346}, {\"cutoff\": 26, \"precision\": 0.05835543766578249, \"recall\": 0.12985029288427638}, {\"cutoff\": 31, \"precision\": 0.05561735261401558, \"recall\": 0.1422092653330826}, {\"cutoff\": 36, \"precision\": 0.04932950191570881, \"recall\": 0.1446049257916233}, {\"cutoff\": 41, \"precision\": 0.04457527333894028, \"recall\": 0.14687890424483654}, {\"cutoff\": 46, \"precision\": 0.041979010494752625, \"recall\": 0.15475545059302398}]}}}, \"name\": [\"item_item\"], \"view_file\": \"model\", \"view_component\": \"Comparison\", \"view_params\": {\"model_type\": \"recommender\", \"view\": \"Comparison\"}, \"view_components\": [\"Summary\", \"Evaluation\", \"Comparison\"], \"model_type\": \"recommender\", \"attributes\": {\"section_titles\": [\"Schema\", \"Statistics\", \"Training summary\", \"Model Parameters\", \"Other Settings\"], \"sections\": [[[\"User ID\", \"review_profilename\"], [\"Item ID\", \"beer_name\"], [\"Target\", \"review_overall\"], [\"Additional observation features\", 0], [\"User side features\", []], [\"Item side features\", []]], [[\"Number of observations\", 1518062], [\"Number of users\", 32901], [\"Number of items\", 44079]], [[\"Training time\", 25.6685]], [[\"Model class\", \"ItemSimilarityRecommender\"], [\"threshold\", 0.001], [\"similarity_type\", \"cosine\"], [\"training_method\", \"auto\"]], [[\"degree_approximation_threshold\", 4096], [\"sparse_density_estimation_sample_size\", 4096], [\"max_data_passes\", 4096], [\"target_memory_usage\", 8589934592], [\"seed_item_set_size\", 50], [\"nearest_neighbors_interaction_proportion_threshold\", 0.05], [\"max_item_neighborhood_size\", 5]]]}, \"evaluations\": [[\"dataset\", {\"precision_recall_overall\": [{\"cutoff\": 1, \"precision\": 0.1206896551724138, \"recall\": 0.04917631564119901}, {\"cutoff\": 2, \"precision\": 0.08620689655172414, \"recall\": 0.05280582912451624}, {\"cutoff\": 3, \"precision\": 0.08620689655172413, \"recall\": 0.06324699360051898}, {\"cutoff\": 4, \"precision\": 0.09051724137931039, \"recall\": 0.06650555482362182}, {\"cutoff\": 5, \"precision\": 0.08965517241379314, \"recall\": 0.07150853795341833}, {\"cutoff\": 6, \"precision\": 0.08620689655172416, \"recall\": 0.07274890861117034}, {\"cutoff\": 7, \"precision\": 0.0812807881773399, \"recall\": 0.07500704020839982}, {\"cutoff\": 8, \"precision\": 0.07974137931034479, \"recall\": 0.07765234147153832}, {\"cutoff\": 9, \"precision\": 0.07854406130268196, \"recall\": 0.08182706226191629}, {\"cutoff\": 10, \"precision\": 0.07758620689655175, \"recall\": 0.09101615086838628}, {\"cutoff\": 11, \"precision\": 0.07836990595611286, \"recall\": 0.09358167625646546}, {\"cutoff\": 16, \"precision\": 0.0743534482758621, \"recall\": 0.11012426336728486}, {\"cutoff\": 21, \"precision\": 0.0632183908045977, \"recall\": 0.1169267748296346}, {\"cutoff\": 26, \"precision\": 0.05835543766578249, \"recall\": 0.12985029288427638}, {\"cutoff\": 31, \"precision\": 0.05561735261401558, \"recall\": 0.1422092653330826}, {\"cutoff\": 36, \"precision\": 0.04932950191570881, \"recall\": 0.1446049257916233}, {\"cutoff\": 41, \"precision\": 0.04457527333894028, \"recall\": 0.14687890424483654}, {\"cutoff\": 46, \"precision\": 0.041979010494752625, \"recall\": 0.15475545059302398}], \"precision_recall_by_user\": [{\"count\": 3, \"recall\": 0.0, \"cutoff\": 1, \"precision\": 0.0, \"review_profilename\": \"2oose\"}, {\"count\": 3, \"recall\": 0.0, \"cutoff\": 2, \"precision\": 0.0, \"review_profilename\": \"2oose\"}, {\"count\": 3, \"recall\": 0.0, \"cutoff\": 3, \"precision\": 0.0, \"review_profilename\": \"2oose\"}, {\"count\": 3, \"recall\": 0.0, \"cutoff\": 4, \"precision\": 0.0, \"review_profilename\": \"2oose\"}, {\"count\": 3, \"recall\": 0.0, \"cutoff\": 5, \"precision\": 0.0, \"review_profilename\": \"2oose\"}, {\"count\": 3, \"recall\": 0.0, \"cutoff\": 6, \"precision\": 0.0, \"review_profilename\": \"2oose\"}, {\"count\": 3, \"recall\": 0.0, \"cutoff\": 7, \"precision\": 0.0, \"review_profilename\": \"2oose\"}, {\"count\": 3, \"recall\": 0.0, \"cutoff\": 8, \"precision\": 0.0, \"review_profilename\": \"2oose\"}, {\"count\": 3, \"recall\": 0.0, \"cutoff\": 9, \"precision\": 0.0, \"review_profilename\": \"2oose\"}, {\"count\": 3, \"recall\": 0.0, \"cutoff\": 10, \"precision\": 0.0, \"review_profilename\": \"2oose\"}, {\"count\": 3, \"recall\": 0.0, \"cutoff\": 11, \"precision\": 0.0, \"review_profilename\": \"2oose\"}, {\"count\": 3, \"recall\": 0.0, \"cutoff\": 16, \"precision\": 0.0, \"review_profilename\": \"2oose\"}, {\"count\": 3, \"recall\": 0.0, \"cutoff\": 21, \"precision\": 0.0, \"review_profilename\": \"2oose\"}, {\"count\": 3, \"recall\": 0.0, \"cutoff\": 26, \"precision\": 0.0, \"review_profilename\": \"2oose\"}, {\"count\": 3, \"recall\": 0.0, \"cutoff\": 31, \"precision\": 0.0, \"review_profilename\": \"2oose\"}, {\"count\": 3, \"recall\": 0.0, \"cutoff\": 36, \"precision\": 0.0, \"review_profilename\": \"2oose\"}, {\"count\": 3, \"recall\": 0.0, \"cutoff\": 41, \"precision\": 0.0, \"review_profilename\": \"2oose\"}, {\"count\": 3, \"recall\": 0.0, \"cutoff\": 46, \"precision\": 0.0, \"review_profilename\": \"2oose\"}, {\"count\": 9, \"recall\": 0.1111111111111111, \"cutoff\": 1, \"precision\": 1.0, \"review_profilename\": \"AlexF\"}, {\"count\": 9, \"recall\": 0.1111111111111111, \"cutoff\": 2, \"precision\": 0.5, \"review_profilename\": \"AlexF\"}, {\"count\": 9, \"recall\": 0.1111111111111111, \"cutoff\": 3, \"precision\": 0.3333333333333333, \"review_profilename\": \"AlexF\"}, {\"count\": 9, \"recall\": 0.1111111111111111, \"cutoff\": 4, \"precision\": 0.25, \"review_profilename\": \"AlexF\"}, {\"count\": 9, \"recall\": 0.1111111111111111, \"cutoff\": 5, \"precision\": 0.2, \"review_profilename\": \"AlexF\"}, {\"count\": 9, \"recall\": 0.1111111111111111, \"cutoff\": 6, \"precision\": 0.16666666666666666, \"review_profilename\": \"AlexF\"}, {\"count\": 9, \"recall\": 0.1111111111111111, \"cutoff\": 7, \"precision\": 0.14285714285714285, \"review_profilename\": \"AlexF\"}, {\"count\": 9, \"recall\": 0.1111111111111111, \"cutoff\": 8, \"precision\": 0.125, \"review_profilename\": \"AlexF\"}, {\"count\": 9, \"recall\": 0.1111111111111111, \"cutoff\": 9, \"precision\": 0.1111111111111111, \"review_profilename\": \"AlexF\"}, {\"count\": 9, \"recall\": 0.1111111111111111, \"cutoff\": 10, \"precision\": 0.1, \"review_profilename\": \"AlexF\"}, {\"count\": 9, \"recall\": 0.1111111111111111, \"cutoff\": 11, \"precision\": 0.09090909090909091, \"review_profilename\": \"AlexF\"}, {\"count\": 9, \"recall\": 0.2222222222222222, \"cutoff\": 16, \"precision\": 0.125, \"review_profilename\": \"AlexF\"}, {\"count\": 9, \"recall\": 0.2222222222222222, \"cutoff\": 21, \"precision\": 0.09523809523809523, \"review_profilename\": \"AlexF\"}, {\"count\": 9, \"recall\": 0.2222222222222222, \"cutoff\": 26, \"precision\": 0.07692307692307693, \"review_profilename\": \"AlexF\"}, {\"count\": 9, \"recall\": 0.2222222222222222, \"cutoff\": 31, \"precision\": 0.06451612903225806, \"review_profilename\": \"AlexF\"}, {\"count\": 9, \"recall\": 0.2222222222222222, \"cutoff\": 36, \"precision\": 0.05555555555555555, \"review_profilename\": \"AlexF\"}, {\"count\": 9, \"recall\": 0.2222222222222222, \"cutoff\": 41, \"precision\": 0.04878048780487805, \"review_profilename\": \"AlexF\"}, {\"count\": 9, \"recall\": 0.2222222222222222, \"cutoff\": 46, \"precision\": 0.043478260869565216, \"review_profilename\": \"AlexF\"}, {\"count\": 6, \"recall\": 0.0, \"cutoff\": 1, \"precision\": 0.0, \"review_profilename\": \"Andrew644\"}, {\"count\": 6, \"recall\": 0.0, \"cutoff\": 2, \"precision\": 0.0, \"review_profilename\": \"Andrew644\"}, {\"count\": 6, \"recall\": 0.0, \"cutoff\": 3, \"precision\": 0.0, \"review_profilename\": \"Andrew644\"}, {\"count\": 6, \"recall\": 0.0, \"cutoff\": 4, \"precision\": 0.0, \"review_profilename\": \"Andrew644\"}, {\"count\": 6, \"recall\": 0.0, \"cutoff\": 5, \"precision\": 0.0, \"review_profilename\": \"Andrew644\"}, {\"count\": 6, \"recall\": 0.0, \"cutoff\": 6, \"precision\": 0.0, \"review_profilename\": \"Andrew644\"}, {\"count\": 6, \"recall\": 0.0, \"cutoff\": 7, \"precision\": 0.0, \"review_profilename\": \"Andrew644\"}, {\"count\": 6, \"recall\": 0.0, \"cutoff\": 8, \"precision\": 0.0, \"review_profilename\": \"Andrew644\"}, {\"count\": 6, \"recall\": 0.16666666666666666, \"cutoff\": 9, \"precision\": 0.1111111111111111, \"review_profilename\": \"Andrew644\"}, {\"count\": 6, \"recall\": 0.16666666666666666, \"cutoff\": 10, \"precision\": 0.1, \"review_profilename\": \"Andrew644\"}, {\"count\": 6, \"recall\": 0.16666666666666666, \"cutoff\": 11, \"precision\": 0.09090909090909091, \"review_profilename\": \"Andrew644\"}, {\"count\": 6, \"recall\": 0.16666666666666666, \"cutoff\": 16, \"precision\": 0.0625, \"review_profilename\": \"Andrew644\"}, {\"count\": 6, \"recall\": 0.16666666666666666, \"cutoff\": 21, \"precision\": 0.047619047619047616, \"review_profilename\": \"Andrew644\"}, {\"count\": 6, \"recall\": 0.16666666666666666, \"cutoff\": 26, \"precision\": 0.038461538461538464, \"review_profilename\": \"Andrew644\"}, {\"count\": 6, \"recall\": 0.3333333333333333, \"cutoff\": 31, \"precision\": 0.06451612903225806, \"review_profilename\": \"Andrew644\"}, {\"count\": 6, \"recall\": 0.3333333333333333, \"cutoff\": 36, \"precision\": 0.05555555555555555, \"review_profilename\": \"Andrew644\"}, {\"count\": 6, \"recall\": 0.3333333333333333, \"cutoff\": 41, \"precision\": 0.04878048780487805, \"review_profilename\": \"Andrew644\"}, {\"count\": 6, \"recall\": 0.5, \"cutoff\": 46, \"precision\": 0.06521739130434782, \"review_profilename\": \"Andrew644\"}, {\"count\": 1, \"recall\": 1.0, \"cutoff\": 1, \"precision\": 1.0, \"review_profilename\": \"AxelTheRed\"}, {\"count\": 1, \"recall\": 1.0, \"cutoff\": 2, \"precision\": 0.5, \"review_profilename\": \"AxelTheRed\"}, {\"count\": 1, \"recall\": 1.0, \"cutoff\": 3, \"precision\": 0.3333333333333333, \"review_profilename\": \"AxelTheRed\"}, {\"count\": 1, \"recall\": 1.0, \"cutoff\": 4, \"precision\": 0.25, \"review_profilename\": \"AxelTheRed\"}, {\"count\": 1, \"recall\": 1.0, \"cutoff\": 5, \"precision\": 0.2, \"review_profilename\": \"AxelTheRed\"}, {\"count\": 1, \"recall\": 1.0, \"cutoff\": 6, \"precision\": 0.16666666666666666, \"review_profilename\": \"AxelTheRed\"}, {\"count\": 1, \"recall\": 1.0, \"cutoff\": 7, \"precision\": 0.14285714285714285, \"review_profilename\": \"AxelTheRed\"}, {\"count\": 1, \"recall\": 1.0, \"cutoff\": 8, \"precision\": 0.125, \"review_profilename\": \"AxelTheRed\"}, {\"count\": 1, \"recall\": 1.0, \"cutoff\": 9, \"precision\": 0.1111111111111111, \"review_profilename\": \"AxelTheRed\"}, {\"count\": 1, \"recall\": 1.0, \"cutoff\": 10, \"precision\": 0.1, \"review_profilename\": \"AxelTheRed\"}, {\"count\": 1, \"recall\": 1.0, \"cutoff\": 11, \"precision\": 0.09090909090909091, \"review_profilename\": \"AxelTheRed\"}, {\"count\": 1, \"recall\": 1.0, \"cutoff\": 16, \"precision\": 0.0625, \"review_profilename\": \"AxelTheRed\"}, {\"count\": 1, \"recall\": 1.0, \"cutoff\": 21, \"precision\": 0.047619047619047616, \"review_profilename\": \"AxelTheRed\"}, {\"count\": 1, \"recall\": 1.0, \"cutoff\": 26, \"precision\": 0.038461538461538464, \"review_profilename\": \"AxelTheRed\"}, {\"count\": 1, \"recall\": 1.0, \"cutoff\": 31, \"precision\": 0.03225806451612903, \"review_profilename\": \"AxelTheRed\"}, {\"count\": 1, \"recall\": 1.0, \"cutoff\": 36, \"precision\": 0.027777777777777776, \"review_profilename\": \"AxelTheRed\"}, {\"count\": 1, \"recall\": 1.0, \"cutoff\": 41, \"precision\": 0.024390243902439025, \"review_profilename\": \"AxelTheRed\"}, {\"count\": 1, \"recall\": 1.0, \"cutoff\": 46, \"precision\": 0.021739130434782608, \"review_profilename\": \"AxelTheRed\"}, {\"count\": 1, \"recall\": 0.0, \"cutoff\": 1, \"precision\": 0.0, \"review_profilename\": \"Chumley\"}, {\"count\": 1, \"recall\": 0.0, \"cutoff\": 2, \"precision\": 0.0, \"review_profilename\": \"Chumley\"}, {\"count\": 1, \"recall\": 0.0, \"cutoff\": 3, \"precision\": 0.0, \"review_profilename\": \"Chumley\"}, {\"count\": 1, \"recall\": 0.0, \"cutoff\": 4, \"precision\": 0.0, \"review_profilename\": \"Chumley\"}, {\"count\": 1, \"recall\": 0.0, \"cutoff\": 5, \"precision\": 0.0, \"review_profilename\": \"Chumley\"}, {\"count\": 1, \"recall\": 0.0, \"cutoff\": 6, \"precision\": 0.0, \"review_profilename\": \"Chumley\"}, {\"count\": 1, \"recall\": 0.0, \"cutoff\": 7, \"precision\": 0.0, \"review_profilename\": \"Chumley\"}, {\"count\": 1, \"recall\": 0.0, \"cutoff\": 8, \"precision\": 0.0, \"review_profilename\": \"Chumley\"}, {\"count\": 1, \"recall\": 0.0, \"cutoff\": 9, \"precision\": 0.0, \"review_profilename\": \"Chumley\"}, {\"count\": 1, \"recall\": 0.0, \"cutoff\": 10, \"precision\": 0.0, \"review_profilename\": \"Chumley\"}, {\"count\": 1, \"recall\": 0.0, \"cutoff\": 11, \"precision\": 0.0, \"review_profilename\": \"Chumley\"}, {\"count\": 1, \"recall\": 0.0, \"cutoff\": 16, \"precision\": 0.0, \"review_profilename\": \"Chumley\"}, {\"count\": 1, \"recall\": 0.0, \"cutoff\": 21, \"precision\": 0.0, \"review_profilename\": \"Chumley\"}, {\"count\": 1, \"recall\": 0.0, \"cutoff\": 26, \"precision\": 0.0, \"review_profilename\": \"Chumley\"}, {\"count\": 1, \"recall\": 0.0, \"cutoff\": 31, \"precision\": 0.0, \"review_profilename\": \"Chumley\"}, {\"count\": 1, \"recall\": 0.0, \"cutoff\": 36, \"precision\": 0.0, \"review_profilename\": \"Chumley\"}, {\"count\": 1, \"recall\": 0.0, \"cutoff\": 41, \"precision\": 0.0, \"review_profilename\": \"Chumley\"}, {\"count\": 1, \"recall\": 0.0, \"cutoff\": 46, \"precision\": 0.0, \"review_profilename\": \"Chumley\"}, {\"count\": 194, \"recall\": 0.0, \"cutoff\": 1, \"precision\": 0.0, \"review_profilename\": \"DIM\"}, {\"count\": 194, \"recall\": 0.005154639175257732, \"cutoff\": 2, \"precision\": 0.5, \"review_profilename\": \"DIM\"}, {\"count\": 194, \"recall\": 0.010309278350515464, \"cutoff\": 3, \"precision\": 0.6666666666666666, \"review_profilename\": \"DIM\"}, {\"count\": 194, \"recall\": 0.015463917525773196, \"cutoff\": 4, \"precision\": 0.75, \"review_profilename\": \"DIM\"}, {\"count\": 194, \"recall\": 0.020618556701030927, \"cutoff\": 5, \"precision\": 0.8, \"review_profilename\": \"DIM\"}, {\"count\": 194, \"recall\": 0.02577319587628866, \"cutoff\": 6, \"precision\": 0.8333333333333334, \"review_profilename\": \"DIM\"}, {\"count\": 194, \"recall\": 0.030927835051546393, \"cutoff\": 7, \"precision\": 0.8571428571428571, \"review_profilename\": \"DIM\"}, {\"count\": 194, \"recall\": 0.030927835051546393, \"cutoff\": 8, \"precision\": 0.75, \"review_profilename\": \"DIM\"}, {\"count\": 194, \"recall\": 0.03608247422680412, \"cutoff\": 9, \"precision\": 0.7777777777777778, \"review_profilename\": \"DIM\"}, {\"count\": 194, \"recall\": 0.041237113402061855, \"cutoff\": 10, \"precision\": 0.8, \"review_profilename\": \"DIM\"}, {\"count\": 194, \"recall\": 0.04639175257731959, \"cutoff\": 11, \"precision\": 0.8181818181818182, \"review_profilename\": \"DIM\"}, {\"count\": 194, \"recall\": 0.06701030927835051, \"cutoff\": 16, \"precision\": 0.8125, \"review_profilename\": \"DIM\"}, {\"count\": 194, \"recall\": 0.07216494845360824, \"cutoff\": 21, \"precision\": 0.6666666666666666, \"review_profilename\": \"DIM\"}, {\"count\": 194, \"recall\": 0.07731958762886598, \"cutoff\": 26, \"precision\": 0.5769230769230769, \"review_profilename\": \"DIM\"}, {\"count\": 194, \"recall\": 0.08762886597938144, \"cutoff\": 31, \"precision\": 0.5483870967741935, \"review_profilename\": \"DIM\"}, {\"count\": 194, \"recall\": 0.08762886597938144, \"cutoff\": 36, \"precision\": 0.4722222222222222, \"review_profilename\": \"DIM\"}, {\"count\": 194, \"recall\": 0.09278350515463918, \"cutoff\": 41, \"precision\": 0.43902439024390244, \"review_profilename\": \"DIM\"}, {\"count\": 194, \"recall\": 0.0979381443298969, \"cutoff\": 46, \"precision\": 0.41304347826086957, \"review_profilename\": \"DIM\"}, {\"count\": 1, \"recall\": 0.0, \"cutoff\": 1, \"precision\": 0.0, \"review_profilename\": \"DonaCake\"}, {\"count\": 1, \"recall\": 0.0, \"cutoff\": 2, \"precision\": 0.0, \"review_profilename\": \"DonaCake\"}, {\"count\": 1, \"recall\": 0.0, \"cutoff\": 3, \"precision\": 0.0, \"review_profilename\": \"DonaCake\"}, {\"count\": 1, \"recall\": 0.0, \"cutoff\": 4, \"precision\": 0.0, \"review_profilename\": \"DonaCake\"}, {\"count\": 1, \"recall\": 0.0, \"cutoff\": 5, \"precision\": 0.0, \"review_profilename\": \"DonaCake\"}, {\"count\": 1, \"recall\": 0.0, \"cutoff\": 6, \"precision\": 0.0, \"review_profilename\": \"DonaCake\"}, {\"count\": 1, \"recall\": 0.0, \"cutoff\": 7, \"precision\": 0.0, \"review_profilename\": \"DonaCake\"}, {\"count\": 1, \"recall\": 0.0, \"cutoff\": 8, \"precision\": 0.0, \"review_profilename\": \"DonaCake\"}, {\"count\": 1, \"recall\": 0.0, \"cutoff\": 9, \"precision\": 0.0, \"review_profilename\": \"DonaCake\"}, {\"count\": 1, \"recall\": 0.0, \"cutoff\": 10, \"precision\": 0.0, \"review_profilename\": \"DonaCake\"}, {\"count\": 1, \"recall\": 0.0, \"cutoff\": 11, \"precision\": 0.0, \"review_profilename\": \"DonaCake\"}, {\"count\": 1, \"recall\": 0.0, \"cutoff\": 16, \"precision\": 0.0, \"review_profilename\": \"DonaCake\"}, {\"count\": 1, \"recall\": 0.0, \"cutoff\": 21, \"precision\": 0.0, \"review_profilename\": \"DonaCake\"}, {\"count\": 1, \"recall\": 0.0, \"cutoff\": 26, \"precision\": 0.0, \"review_profilename\": \"DonaCake\"}, {\"count\": 1, \"recall\": 0.0, \"cutoff\": 31, \"precision\": 0.0, \"review_profilename\": \"DonaCake\"}, {\"count\": 1, \"recall\": 0.0, \"cutoff\": 36, \"precision\": 0.0, \"review_profilename\": \"DonaCake\"}, {\"count\": 1, \"recall\": 0.0, \"cutoff\": 41, \"precision\": 0.0, \"review_profilename\": \"DonaCake\"}, {\"count\": 1, \"recall\": 0.0, \"cutoff\": 46, \"precision\": 0.0, \"review_profilename\": \"DonaCake\"}, {\"count\": 4, \"recall\": 0.0, \"cutoff\": 1, \"precision\": 0.0, \"review_profilename\": \"GeorgeAldi\"}, {\"count\": 4, \"recall\": 0.0, \"cutoff\": 2, \"precision\": 0.0, \"review_profilename\": \"GeorgeAldi\"}, {\"count\": 4, \"recall\": 0.0, \"cutoff\": 3, \"precision\": 0.0, \"review_profilename\": \"GeorgeAldi\"}, {\"count\": 4, \"recall\": 0.0, \"cutoff\": 4, \"precision\": 0.0, \"review_profilename\": \"GeorgeAldi\"}, {\"count\": 4, \"recall\": 0.0, \"cutoff\": 5, \"precision\": 0.0, \"review_profilename\": \"GeorgeAldi\"}, {\"count\": 4, \"recall\": 0.0, \"cutoff\": 6, \"precision\": 0.0, \"review_profilename\": \"GeorgeAldi\"}, {\"count\": 4, \"recall\": 0.0, \"cutoff\": 7, \"precision\": 0.0, \"review_profilename\": \"GeorgeAldi\"}, {\"count\": 4, \"recall\": 0.0, \"cutoff\": 8, \"precision\": 0.0, \"review_profilename\": \"GeorgeAldi\"}, {\"count\": 4, \"recall\": 0.0, \"cutoff\": 9, \"precision\": 0.0, \"review_profilename\": \"GeorgeAldi\"}, {\"count\": 4, \"recall\": 0.0, \"cutoff\": 10, \"precision\": 0.0, \"review_profilename\": \"GeorgeAldi\"}, {\"count\": 4, \"recall\": 0.0, \"cutoff\": 11, \"precision\": 0.0, \"review_profilename\": \"GeorgeAldi\"}, {\"count\": 4, \"recall\": 0.0, \"cutoff\": 16, \"precision\": 0.0, \"review_profilename\": \"GeorgeAldi\"}, {\"count\": 4, \"recall\": 0.25, \"cutoff\": 21, \"precision\": 0.047619047619047616, \"review_profilename\": \"GeorgeAldi\"}, {\"count\": 4, \"recall\": 0.25, \"cutoff\": 26, \"precision\": 0.038461538461538464, \"review_profilename\": \"GeorgeAldi\"}, {\"count\": 4, \"recall\": 0.25, \"cutoff\": 31, \"precision\": 0.03225806451612903, \"review_profilename\": \"GeorgeAldi\"}, {\"count\": 4, \"recall\": 0.25, \"cutoff\": 36, \"precision\": 0.027777777777777776, \"review_profilename\": \"GeorgeAldi\"}, {\"count\": 4, \"recall\": 0.25, \"cutoff\": 41, \"precision\": 0.024390243902439025, \"review_profilename\": \"GeorgeAldi\"}, {\"count\": 4, \"recall\": 0.25, \"cutoff\": 46, \"precision\": 0.021739130434782608, \"review_profilename\": \"GeorgeAldi\"}, {\"count\": 1, \"recall\": 0.0, \"cutoff\": 1, \"precision\": 0.0, \"review_profilename\": \"Inepsa\"}, {\"count\": 1, \"recall\": 0.0, \"cutoff\": 2, \"precision\": 0.0, \"review_profilename\": \"Inepsa\"}, {\"count\": 1, \"recall\": 0.0, \"cutoff\": 3, \"precision\": 0.0, \"review_profilename\": \"Inepsa\"}, {\"count\": 1, \"recall\": 0.0, \"cutoff\": 4, \"precision\": 0.0, \"review_profilename\": \"Inepsa\"}, {\"count\": 1, \"recall\": 0.0, \"cutoff\": 5, \"precision\": 0.0, \"review_profilename\": \"Inepsa\"}, {\"count\": 1, \"recall\": 0.0, \"cutoff\": 6, \"precision\": 0.0, \"review_profilename\": \"Inepsa\"}, {\"count\": 1, \"recall\": 0.0, \"cutoff\": 7, \"precision\": 0.0, \"review_profilename\": \"Inepsa\"}, {\"count\": 1, \"recall\": 0.0, \"cutoff\": 8, \"precision\": 0.0, \"review_profilename\": \"Inepsa\"}, {\"count\": 1, \"recall\": 0.0, \"cutoff\": 9, \"precision\": 0.0, \"review_profilename\": \"Inepsa\"}, {\"count\": 1, \"recall\": 0.0, \"cutoff\": 10, \"precision\": 0.0, \"review_profilename\": \"Inepsa\"}, {\"count\": 1, \"recall\": 0.0, \"cutoff\": 11, \"precision\": 0.0, \"review_profilename\": \"Inepsa\"}, {\"count\": 1, \"recall\": 0.0, \"cutoff\": 16, \"precision\": 0.0, \"review_profilename\": \"Inepsa\"}, {\"count\": 1, \"recall\": 0.0, \"cutoff\": 21, \"precision\": 0.0, \"review_profilename\": \"Inepsa\"}, {\"count\": 1, \"recall\": 0.0, \"cutoff\": 26, \"precision\": 0.0, \"review_profilename\": \"Inepsa\"}, {\"count\": 1, \"recall\": 0.0, \"cutoff\": 31, \"precision\": 0.0, \"review_profilename\": \"Inepsa\"}, {\"count\": 1, \"recall\": 0.0, \"cutoff\": 36, \"precision\": 0.0, \"review_profilename\": \"Inepsa\"}, {\"count\": 1, \"recall\": 0.0, \"cutoff\": 41, \"precision\": 0.0, \"review_profilename\": \"Inepsa\"}, {\"count\": 1, \"recall\": 0.0, \"cutoff\": 46, \"precision\": 0.0, \"review_profilename\": \"Inepsa\"}, {\"count\": 11, \"recall\": 0.0, \"cutoff\": 1, \"precision\": 0.0, \"review_profilename\": \"JBStith\"}, {\"count\": 11, \"recall\": 0.0, \"cutoff\": 2, \"precision\": 0.0, \"review_profilename\": \"JBStith\"}, {\"count\": 11, \"recall\": 0.09090909090909091, \"cutoff\": 3, \"precision\": 0.3333333333333333, \"review_profilename\": \"JBStith\"}, {\"count\": 11, \"recall\": 0.09090909090909091, \"cutoff\": 4, \"precision\": 0.25, \"review_profilename\": \"JBStith\"}, {\"count\": 11, \"recall\": 0.09090909090909091, \"cutoff\": 5, \"precision\": 0.2, \"review_profilename\": \"JBStith\"}, {\"count\": 11, \"recall\": 0.09090909090909091, \"cutoff\": 6, \"precision\": 0.16666666666666666, \"review_profilename\": \"JBStith\"}, {\"count\": 11, \"recall\": 0.09090909090909091, \"cutoff\": 7, \"precision\": 0.14285714285714285, \"review_profilename\": \"JBStith\"}, {\"count\": 11, \"recall\": 0.18181818181818182, \"cutoff\": 8, \"precision\": 0.25, \"review_profilename\": \"JBStith\"}, {\"count\": 11, \"recall\": 0.18181818181818182, \"cutoff\": 9, \"precision\": 0.2222222222222222, \"review_profilename\": \"JBStith\"}, {\"count\": 11, \"recall\": 0.18181818181818182, \"cutoff\": 10, \"precision\": 0.2, \"review_profilename\": \"JBStith\"}, {\"count\": 11, \"recall\": 0.18181818181818182, \"cutoff\": 11, \"precision\": 0.18181818181818182, \"review_profilename\": \"JBStith\"}, {\"count\": 11, \"recall\": 0.18181818181818182, \"cutoff\": 16, \"precision\": 0.125, \"review_profilename\": \"JBStith\"}, {\"count\": 11, \"recall\": 0.18181818181818182, \"cutoff\": 21, \"precision\": 0.09523809523809523, \"review_profilename\": \"JBStith\"}, {\"count\": 11, \"recall\": 0.18181818181818182, \"cutoff\": 26, \"precision\": 0.07692307692307693, \"review_profilename\": \"JBStith\"}, {\"count\": 11, \"recall\": 0.18181818181818182, \"cutoff\": 31, \"precision\": 0.06451612903225806, \"review_profilename\": \"JBStith\"}, {\"count\": 11, \"recall\": 0.2727272727272727, \"cutoff\": 36, \"precision\": 0.08333333333333333, \"review_profilename\": \"JBStith\"}, {\"count\": 11, \"recall\": 0.2727272727272727, \"cutoff\": 41, \"precision\": 0.07317073170731707, \"review_profilename\": \"JBStith\"}, {\"count\": 11, \"recall\": 0.2727272727272727, \"cutoff\": 46, \"precision\": 0.06521739130434782, \"review_profilename\": \"JBStith\"}, {\"count\": 1, \"recall\": 0.0, \"cutoff\": 1, \"precision\": 0.0, \"review_profilename\": \"JEngler\"}, {\"count\": 1, \"recall\": 0.0, \"cutoff\": 2, \"precision\": 0.0, \"review_profilename\": \"JEngler\"}, {\"count\": 1, \"recall\": 0.0, \"cutoff\": 3, \"precision\": 0.0, \"review_profilename\": \"JEngler\"}, {\"count\": 1, \"recall\": 0.0, \"cutoff\": 4, \"precision\": 0.0, \"review_profilename\": \"JEngler\"}, {\"count\": 1, \"recall\": 0.0, \"cutoff\": 5, \"precision\": 0.0, \"review_profilename\": \"JEngler\"}, {\"count\": 1, \"recall\": 0.0, \"cutoff\": 6, \"precision\": 0.0, \"review_profilename\": \"JEngler\"}, {\"count\": 1, \"recall\": 0.0, \"cutoff\": 7, \"precision\": 0.0, \"review_profilename\": \"JEngler\"}, {\"count\": 1, \"recall\": 0.0, \"cutoff\": 8, \"precision\": 0.0, \"review_profilename\": \"JEngler\"}, {\"count\": 1, \"recall\": 0.0, \"cutoff\": 9, \"precision\": 0.0, \"review_profilename\": \"JEngler\"}, {\"count\": 1, \"recall\": 0.0, \"cutoff\": 10, \"precision\": 0.0, \"review_profilename\": \"JEngler\"}, {\"count\": 1, \"recall\": 0.0, \"cutoff\": 11, \"precision\": 0.0, \"review_profilename\": \"JEngler\"}, {\"count\": 1, \"recall\": 0.0, \"cutoff\": 16, \"precision\": 0.0, \"review_profilename\": \"JEngler\"}, {\"count\": 1, \"recall\": 0.0, \"cutoff\": 21, \"precision\": 0.0, \"review_profilename\": \"JEngler\"}, {\"count\": 1, \"recall\": 0.0, \"cutoff\": 26, \"precision\": 0.0, \"review_profilename\": \"JEngler\"}, {\"count\": 1, \"recall\": 0.0, \"cutoff\": 31, \"precision\": 0.0, \"review_profilename\": \"JEngler\"}, {\"count\": 1, \"recall\": 0.0, \"cutoff\": 36, \"precision\": 0.0, \"review_profilename\": \"JEngler\"}, {\"count\": 1, \"recall\": 0.0, \"cutoff\": 41, \"precision\": 0.0, \"review_profilename\": \"JEngler\"}, {\"count\": 1, \"recall\": 0.0, \"cutoff\": 46, \"precision\": 0.0, \"review_profilename\": \"JEngler\"}, {\"count\": 3, \"recall\": 0.0, \"cutoff\": 1, \"precision\": 0.0, \"review_profilename\": \"JMastrangelo\"}, {\"count\": 3, \"recall\": 0.0, \"cutoff\": 2, \"precision\": 0.0, \"review_profilename\": \"JMastrangelo\"}, {\"count\": 3, \"recall\": 0.3333333333333333, \"cutoff\": 3, \"precision\": 0.3333333333333333, \"review_profilename\": \"JMastrangelo\"}, {\"count\": 3, \"recall\": 0.3333333333333333, \"cutoff\": 4, \"precision\": 0.25, \"review_profilename\": \"JMastrangelo\"}, {\"count\": 3, \"recall\": 0.3333333333333333, \"cutoff\": 5, \"precision\": 0.2, \"review_profilename\": \"JMastrangelo\"}, {\"count\": 3, \"recall\": 0.3333333333333333, \"cutoff\": 6, \"precision\": 0.16666666666666666, \"review_profilename\": \"JMastrangelo\"}, {\"count\": 3, \"recall\": 0.3333333333333333, \"cutoff\": 7, \"precision\": 0.14285714285714285, \"review_profilename\": \"JMastrangelo\"}, {\"count\": 3, \"recall\": 0.3333333333333333, \"cutoff\": 8, \"precision\": 0.125, \"review_profilename\": \"JMastrangelo\"}, {\"count\": 3, \"recall\": 0.3333333333333333, \"cutoff\": 9, \"precision\": 0.1111111111111111, \"review_profilename\": \"JMastrangelo\"}, {\"count\": 3, \"recall\": 0.3333333333333333, \"cutoff\": 10, \"precision\": 0.1, \"review_profilename\": \"JMastrangelo\"}, {\"count\": 3, \"recall\": 0.3333333333333333, \"cutoff\": 11, \"precision\": 0.09090909090909091, \"review_profilename\": \"JMastrangelo\"}, {\"count\": 3, \"recall\": 0.3333333333333333, \"cutoff\": 16, \"precision\": 0.0625, \"review_profilename\": \"JMastrangelo\"}, {\"count\": 3, \"recall\": 0.3333333333333333, \"cutoff\": 21, \"precision\": 0.047619047619047616, \"review_profilename\": \"JMastrangelo\"}, {\"count\": 3, \"recall\": 0.3333333333333333, \"cutoff\": 26, \"precision\": 0.038461538461538464, \"review_profilename\": \"JMastrangelo\"}, {\"count\": 3, \"recall\": 0.3333333333333333, \"cutoff\": 31, \"precision\": 0.03225806451612903, \"review_profilename\": \"JMastrangelo\"}, {\"count\": 3, \"recall\": 0.3333333333333333, \"cutoff\": 36, \"precision\": 0.027777777777777776, \"review_profilename\": \"JMastrangelo\"}, {\"count\": 3, \"recall\": 0.3333333333333333, \"cutoff\": 41, \"precision\": 0.024390243902439025, \"review_profilename\": \"JMastrangelo\"}, {\"count\": 3, \"recall\": 0.3333333333333333, \"cutoff\": 46, \"precision\": 0.021739130434782608, \"review_profilename\": \"JMastrangelo\"}, {\"count\": 3, \"recall\": 0.3333333333333333, \"cutoff\": 1, \"precision\": 1.0, \"review_profilename\": \"JeffMcAwesome\"}, {\"count\": 3, \"recall\": 0.3333333333333333, \"cutoff\": 2, \"precision\": 0.5, \"review_profilename\": \"JeffMcAwesome\"}, {\"count\": 3, \"recall\": 0.3333333333333333, \"cutoff\": 3, \"precision\": 0.3333333333333333, \"review_profilename\": \"JeffMcAwesome\"}, {\"count\": 3, \"recall\": 0.3333333333333333, \"cutoff\": 4, \"precision\": 0.25, \"review_profilename\": \"JeffMcAwesome\"}, {\"count\": 3, \"recall\": 0.3333333333333333, \"cutoff\": 5, \"precision\": 0.2, \"review_profilename\": \"JeffMcAwesome\"}, {\"count\": 3, \"recall\": 0.3333333333333333, \"cutoff\": 6, \"precision\": 0.16666666666666666, \"review_profilename\": \"JeffMcAwesome\"}, {\"count\": 3, \"recall\": 0.3333333333333333, \"cutoff\": 7, \"precision\": 0.14285714285714285, \"review_profilename\": \"JeffMcAwesome\"}, {\"count\": 3, \"recall\": 0.3333333333333333, \"cutoff\": 8, \"precision\": 0.125, \"review_profilename\": \"JeffMcAwesome\"}, {\"count\": 3, \"recall\": 0.3333333333333333, \"cutoff\": 9, \"precision\": 0.1111111111111111, \"review_profilename\": \"JeffMcAwesome\"}, {\"count\": 3, \"recall\": 0.3333333333333333, \"cutoff\": 10, \"precision\": 0.1, \"review_profilename\": \"JeffMcAwesome\"}, {\"count\": 3, \"recall\": 0.3333333333333333, \"cutoff\": 11, \"precision\": 0.09090909090909091, \"review_profilename\": \"JeffMcAwesome\"}, {\"count\": 3, \"recall\": 0.3333333333333333, \"cutoff\": 16, \"precision\": 0.0625, \"review_profilename\": \"JeffMcAwesome\"}, {\"count\": 3, \"recall\": 0.3333333333333333, \"cutoff\": 21, \"precision\": 0.047619047619047616, \"review_profilename\": \"JeffMcAwesome\"}, {\"count\": 3, \"recall\": 0.3333333333333333, \"cutoff\": 26, \"precision\": 0.038461538461538464, \"review_profilename\": \"JeffMcAwesome\"}, {\"count\": 3, \"recall\": 0.3333333333333333, \"cutoff\": 31, \"precision\": 0.03225806451612903, \"review_profilename\": \"JeffMcAwesome\"}, {\"count\": 3, \"recall\": 0.3333333333333333, \"cutoff\": 36, \"precision\": 0.027777777777777776, \"review_profilename\": \"JeffMcAwesome\"}, {\"count\": 3, \"recall\": 0.3333333333333333, \"cutoff\": 41, \"precision\": 0.024390243902439025, \"review_profilename\": \"JeffMcAwesome\"}, {\"count\": 3, \"recall\": 0.3333333333333333, \"cutoff\": 46, \"precision\": 0.021739130434782608, \"review_profilename\": \"JeffMcAwesome\"}, {\"count\": 17, \"recall\": 0.058823529411764705, \"cutoff\": 1, \"precision\": 1.0, \"review_profilename\": \"Jules11788\"}, {\"count\": 17, \"recall\": 0.058823529411764705, \"cutoff\": 2, \"precision\": 0.5, \"review_profilename\": \"Jules11788\"}, {\"count\": 17, \"recall\": 0.058823529411764705, \"cutoff\": 3, \"precision\": 0.3333333333333333, \"review_profilename\": \"Jules11788\"}, {\"count\": 17, \"recall\": 0.11764705882352941, \"cutoff\": 4, \"precision\": 0.5, \"review_profilename\": \"Jules11788\"}, {\"count\": 17, \"recall\": 0.11764705882352941, \"cutoff\": 5, \"precision\": 0.4, \"review_profilename\": \"Jules11788\"}, {\"count\": 17, \"recall\": 0.11764705882352941, \"cutoff\": 6, \"precision\": 0.3333333333333333, \"review_profilename\": \"Jules11788\"}, {\"count\": 17, \"recall\": 0.11764705882352941, \"cutoff\": 7, \"precision\": 0.2857142857142857, \"review_profilename\": \"Jules11788\"}, {\"count\": 17, \"recall\": 0.11764705882352941, \"cutoff\": 8, \"precision\": 0.25, \"review_profilename\": \"Jules11788\"}, {\"count\": 17, \"recall\": 0.11764705882352941, \"cutoff\": 9, \"precision\": 0.2222222222222222, \"review_profilename\": \"Jules11788\"}, {\"count\": 17, \"recall\": 0.11764705882352941, \"cutoff\": 10, \"precision\": 0.2, \"review_profilename\": \"Jules11788\"}, {\"count\": 17, \"recall\": 0.11764705882352941, \"cutoff\": 11, \"precision\": 0.18181818181818182, \"review_profilename\": \"Jules11788\"}, {\"count\": 17, \"recall\": 0.11764705882352941, \"cutoff\": 16, \"precision\": 0.125, \"review_profilename\": \"Jules11788\"}, {\"count\": 17, \"recall\": 0.11764705882352941, \"cutoff\": 21, \"precision\": 0.09523809523809523, \"review_profilename\": \"Jules11788\"}, {\"count\": 17, \"recall\": 0.11764705882352941, \"cutoff\": 26, \"precision\": 0.07692307692307693, \"review_profilename\": \"Jules11788\"}, {\"count\": 17, \"recall\": 0.11764705882352941, \"cutoff\": 31, \"precision\": 0.06451612903225806, \"review_profilename\": \"Jules11788\"}, {\"count\": 17, \"recall\": 0.11764705882352941, \"cutoff\": 36, \"precision\": 0.05555555555555555, \"review_profilename\": \"Jules11788\"}, {\"count\": 17, \"recall\": 0.11764705882352941, \"cutoff\": 41, \"precision\": 0.04878048780487805, \"review_profilename\": \"Jules11788\"}, {\"count\": 17, \"recall\": 0.11764705882352941, \"cutoff\": 46, \"precision\": 0.043478260869565216, \"review_profilename\": \"Jules11788\"}, {\"count\": 5, \"recall\": 0.0, \"cutoff\": 1, \"precision\": 0.0, \"review_profilename\": \"KansasBeerLover\"}, {\"count\": 5, \"recall\": 0.0, \"cutoff\": 2, \"precision\": 0.0, \"review_profilename\": \"KansasBeerLover\"}, {\"count\": 5, \"recall\": 0.0, \"cutoff\": 3, \"precision\": 0.0, \"review_profilename\": \"KansasBeerLover\"}, {\"count\": 5, \"recall\": 0.0, \"cutoff\": 4, \"precision\": 0.0, \"review_profilename\": \"KansasBeerLover\"}, {\"count\": 5, \"recall\": 0.0, \"cutoff\": 5, \"precision\": 0.0, \"review_profilename\": \"KansasBeerLover\"}, {\"count\": 5, \"recall\": 0.0, \"cutoff\": 6, \"precision\": 0.0, \"review_profilename\": \"KansasBeerLover\"}, {\"count\": 5, \"recall\": 0.0, \"cutoff\": 7, \"precision\": 0.0, \"review_profilename\": \"KansasBeerLover\"}, {\"count\": 5, \"recall\": 0.0, \"cutoff\": 8, \"precision\": 0.0, \"review_profilename\": \"KansasBeerLover\"}, {\"count\": 5, \"recall\": 0.0, \"cutoff\": 9, \"precision\": 0.0, \"review_profilename\": \"KansasBeerLover\"}, {\"count\": 5, \"recall\": 0.0, \"cutoff\": 10, \"precision\": 0.0, \"review_profilename\": \"KansasBeerLover\"}, {\"count\": 5, \"recall\": 0.0, \"cutoff\": 11, \"precision\": 0.0, \"review_profilename\": \"KansasBeerLover\"}, {\"count\": 5, \"recall\": 0.0, \"cutoff\": 16, \"precision\": 0.0, \"review_profilename\": \"KansasBeerLover\"}, {\"count\": 5, \"recall\": 0.0, \"cutoff\": 21, \"precision\": 0.0, \"review_profilename\": \"KansasBeerLover\"}, {\"count\": 5, \"recall\": 0.0, \"cutoff\": 26, \"precision\": 0.0, \"review_profilename\": \"KansasBeerLover\"}, {\"count\": 5, \"recall\": 0.0, \"cutoff\": 31, \"precision\": 0.0, \"review_profilename\": \"KansasBeerLover\"}, {\"count\": 5, \"recall\": 0.0, \"cutoff\": 36, \"precision\": 0.0, \"review_profilename\": \"KansasBeerLover\"}, {\"count\": 5, \"recall\": 0.0, \"cutoff\": 41, \"precision\": 0.0, \"review_profilename\": \"KansasBeerLover\"}, {\"count\": 5, \"recall\": 0.0, \"cutoff\": 46, \"precision\": 0.0, \"review_profilename\": \"KansasBeerLover\"}, {\"count\": 2, \"recall\": 0.0, \"cutoff\": 1, \"precision\": 0.0, \"review_profilename\": \"MrBendo\"}, {\"count\": 2, \"recall\": 0.0, \"cutoff\": 2, \"precision\": 0.0, \"review_profilename\": \"MrBendo\"}, {\"count\": 2, \"recall\": 0.0, \"cutoff\": 3, \"precision\": 0.0, \"review_profilename\": \"MrBendo\"}, {\"count\": 2, \"recall\": 0.0, \"cutoff\": 4, \"precision\": 0.0, \"review_profilename\": \"MrBendo\"}, {\"count\": 2, \"recall\": 0.0, \"cutoff\": 5, \"precision\": 0.0, \"review_profilename\": \"MrBendo\"}, {\"count\": 2, \"recall\": 0.0, \"cutoff\": 6, \"precision\": 0.0, \"review_profilename\": \"MrBendo\"}, {\"count\": 2, \"recall\": 0.0, \"cutoff\": 7, \"precision\": 0.0, \"review_profilename\": \"MrBendo\"}, {\"count\": 2, \"recall\": 0.0, \"cutoff\": 8, \"precision\": 0.0, \"review_profilename\": \"MrBendo\"}, {\"count\": 2, \"recall\": 0.0, \"cutoff\": 9, \"precision\": 0.0, \"review_profilename\": \"MrBendo\"}, {\"count\": 2, \"recall\": 0.0, \"cutoff\": 10, \"precision\": 0.0, \"review_profilename\": \"MrBendo\"}, {\"count\": 2, \"recall\": 0.0, \"cutoff\": 11, \"precision\": 0.0, \"review_profilename\": \"MrBendo\"}, {\"count\": 2, \"recall\": 0.0, \"cutoff\": 16, \"precision\": 0.0, \"review_profilename\": \"MrBendo\"}, {\"count\": 2, \"recall\": 0.0, \"cutoff\": 21, \"precision\": 0.0, \"review_profilename\": \"MrBendo\"}, {\"count\": 2, \"recall\": 0.0, \"cutoff\": 26, \"precision\": 0.0, \"review_profilename\": \"MrBendo\"}, {\"count\": 2, \"recall\": 0.0, \"cutoff\": 31, \"precision\": 0.0, \"review_profilename\": \"MrBendo\"}, {\"count\": 2, \"recall\": 0.0, \"cutoff\": 36, \"precision\": 0.0, \"review_profilename\": \"MrBendo\"}, {\"count\": 2, \"recall\": 0.0, \"cutoff\": 41, \"precision\": 0.0, \"review_profilename\": \"MrBendo\"}, {\"count\": 2, \"recall\": 0.0, \"cutoff\": 46, \"precision\": 0.0, \"review_profilename\": \"MrBendo\"}, {\"count\": 1, \"recall\": 0.0, \"cutoff\": 1, \"precision\": 0.0, \"review_profilename\": \"OrioleWay\"}, {\"count\": 1, \"recall\": 0.0, \"cutoff\": 2, \"precision\": 0.0, \"review_profilename\": \"OrioleWay\"}, {\"count\": 1, \"recall\": 0.0, \"cutoff\": 3, \"precision\": 0.0, \"review_profilename\": \"OrioleWay\"}, {\"count\": 1, \"recall\": 0.0, \"cutoff\": 4, \"precision\": 0.0, \"review_profilename\": \"OrioleWay\"}, {\"count\": 1, \"recall\": 0.0, \"cutoff\": 5, \"precision\": 0.0, \"review_profilename\": \"OrioleWay\"}, {\"count\": 1, \"recall\": 0.0, \"cutoff\": 6, \"precision\": 0.0, \"review_profilename\": \"OrioleWay\"}, {\"count\": 1, \"recall\": 0.0, \"cutoff\": 7, \"precision\": 0.0, \"review_profilename\": \"OrioleWay\"}, {\"count\": 1, \"recall\": 0.0, \"cutoff\": 8, \"precision\": 0.0, \"review_profilename\": \"OrioleWay\"}, {\"count\": 1, \"recall\": 0.0, \"cutoff\": 9, \"precision\": 0.0, \"review_profilename\": \"OrioleWay\"}, {\"count\": 1, \"recall\": 0.0, \"cutoff\": 10, \"precision\": 0.0, \"review_profilename\": \"OrioleWay\"}, {\"count\": 1, \"recall\": 0.0, \"cutoff\": 11, \"precision\": 0.0, \"review_profilename\": \"OrioleWay\"}, {\"count\": 1, \"recall\": 0.0, \"cutoff\": 16, \"precision\": 0.0, \"review_profilename\": \"OrioleWay\"}, {\"count\": 1, \"recall\": 0.0, \"cutoff\": 21, \"precision\": 0.0, \"review_profilename\": \"OrioleWay\"}, {\"count\": 1, \"recall\": 0.0, \"cutoff\": 26, \"precision\": 0.0, \"review_profilename\": \"OrioleWay\"}, {\"count\": 1, \"recall\": 0.0, \"cutoff\": 31, \"precision\": 0.0, \"review_profilename\": \"OrioleWay\"}, {\"count\": 1, \"recall\": 0.0, \"cutoff\": 36, \"precision\": 0.0, \"review_profilename\": \"OrioleWay\"}, {\"count\": 1, \"recall\": 0.0, \"cutoff\": 41, \"precision\": 0.0, \"review_profilename\": \"OrioleWay\"}, {\"count\": 1, \"recall\": 0.0, \"cutoff\": 46, \"precision\": 0.0, \"review_profilename\": \"OrioleWay\"}, {\"count\": 5, \"recall\": 0.0, \"cutoff\": 1, \"precision\": 0.0, \"review_profilename\": \"OsuJohn\"}, {\"count\": 5, \"recall\": 0.0, \"cutoff\": 2, \"precision\": 0.0, \"review_profilename\": \"OsuJohn\"}, {\"count\": 5, \"recall\": 0.0, \"cutoff\": 3, \"precision\": 0.0, \"review_profilename\": \"OsuJohn\"}, {\"count\": 5, \"recall\": 0.0, \"cutoff\": 4, \"precision\": 0.0, \"review_profilename\": \"OsuJohn\"}, {\"count\": 5, \"recall\": 0.0, \"cutoff\": 5, \"precision\": 0.0, \"review_profilename\": \"OsuJohn\"}, {\"count\": 5, \"recall\": 0.0, \"cutoff\": 6, \"precision\": 0.0, \"review_profilename\": \"OsuJohn\"}, {\"count\": 5, \"recall\": 0.0, \"cutoff\": 7, \"precision\": 0.0, \"review_profilename\": \"OsuJohn\"}, {\"count\": 5, \"recall\": 0.0, \"cutoff\": 8, \"precision\": 0.0, \"review_profilename\": \"OsuJohn\"}, {\"count\": 5, \"recall\": 0.0, \"cutoff\": 9, \"precision\": 0.0, \"review_profilename\": \"OsuJohn\"}, {\"count\": 5, \"recall\": 0.0, \"cutoff\": 10, \"precision\": 0.0, \"review_profilename\": \"OsuJohn\"}, {\"count\": 5, \"recall\": 0.0, \"cutoff\": 11, \"precision\": 0.0, \"review_profilename\": \"OsuJohn\"}, {\"count\": 5, \"recall\": 0.0, \"cutoff\": 16, \"precision\": 0.0, \"review_profilename\": \"OsuJohn\"}, {\"count\": 5, \"recall\": 0.0, \"cutoff\": 21, \"precision\": 0.0, \"review_profilename\": \"OsuJohn\"}, {\"count\": 5, \"recall\": 0.0, \"cutoff\": 26, \"precision\": 0.0, \"review_profilename\": \"OsuJohn\"}, {\"count\": 5, \"recall\": 0.0, \"cutoff\": 31, \"precision\": 0.0, \"review_profilename\": \"OsuJohn\"}, {\"count\": 5, \"recall\": 0.0, \"cutoff\": 36, \"precision\": 0.0, \"review_profilename\": \"OsuJohn\"}, {\"count\": 5, \"recall\": 0.0, \"cutoff\": 41, \"precision\": 0.0, \"review_profilename\": \"OsuJohn\"}, {\"count\": 5, \"recall\": 0.2, \"cutoff\": 46, \"precision\": 0.021739130434782608, \"review_profilename\": \"OsuJohn\"}, {\"count\": 30, \"recall\": 0.0, \"cutoff\": 1, \"precision\": 0.0, \"review_profilename\": \"ReebShorts\"}, {\"count\": 30, \"recall\": 0.0, \"cutoff\": 2, \"precision\": 0.0, \"review_profilename\": \"ReebShorts\"}, {\"count\": 30, \"recall\": 0.03333333333333333, \"cutoff\": 3, \"precision\": 0.3333333333333333, \"review_profilename\": \"ReebShorts\"}, {\"count\": 30, \"recall\": 0.03333333333333333, \"cutoff\": 4, \"precision\": 0.25, \"review_profilename\": \"ReebShorts\"}, {\"count\": 30, \"recall\": 0.03333333333333333, \"cutoff\": 5, \"precision\": 0.2, \"review_profilename\": \"ReebShorts\"}, {\"count\": 30, \"recall\": 0.06666666666666667, \"cutoff\": 6, \"precision\": 0.3333333333333333, \"review_profilename\": \"ReebShorts\"}, {\"count\": 30, \"recall\": 0.06666666666666667, \"cutoff\": 7, \"precision\": 0.2857142857142857, \"review_profilename\": \"ReebShorts\"}, {\"count\": 30, \"recall\": 0.06666666666666667, \"cutoff\": 8, \"precision\": 0.25, \"review_profilename\": \"ReebShorts\"}, {\"count\": 30, \"recall\": 0.06666666666666667, \"cutoff\": 9, \"precision\": 0.2222222222222222, \"review_profilename\": \"ReebShorts\"}, {\"count\": 30, \"recall\": 0.06666666666666667, \"cutoff\": 10, \"precision\": 0.2, \"review_profilename\": \"ReebShorts\"}, {\"count\": 30, \"recall\": 0.1, \"cutoff\": 11, \"precision\": 0.2727272727272727, \"review_profilename\": \"ReebShorts\"}, {\"count\": 30, \"recall\": 0.13333333333333333, \"cutoff\": 16, \"precision\": 0.25, \"review_profilename\": \"ReebShorts\"}, {\"count\": 30, \"recall\": 0.13333333333333333, \"cutoff\": 21, \"precision\": 0.19047619047619047, \"review_profilename\": \"ReebShorts\"}, {\"count\": 30, \"recall\": 0.13333333333333333, \"cutoff\": 26, \"precision\": 0.15384615384615385, \"review_profilename\": \"ReebShorts\"}, {\"count\": 30, \"recall\": 0.16666666666666666, \"cutoff\": 31, \"precision\": 0.16129032258064516, \"review_profilename\": \"ReebShorts\"}, {\"count\": 30, \"recall\": 0.2, \"cutoff\": 36, \"precision\": 0.16666666666666666, \"review_profilename\": \"ReebShorts\"}, {\"count\": 30, \"recall\": 0.2, \"cutoff\": 41, \"precision\": 0.14634146341463414, \"review_profilename\": \"ReebShorts\"}, {\"count\": 30, \"recall\": 0.2, \"cutoff\": 46, \"precision\": 0.13043478260869565, \"review_profilename\": \"ReebShorts\"}, {\"count\": 1, \"recall\": 0.0, \"cutoff\": 1, \"precision\": 0.0, \"review_profilename\": \"RyanLigeia\"}, {\"count\": 1, \"recall\": 0.0, \"cutoff\": 2, \"precision\": 0.0, \"review_profilename\": \"RyanLigeia\"}, {\"count\": 1, \"recall\": 0.0, \"cutoff\": 3, \"precision\": 0.0, \"review_profilename\": \"RyanLigeia\"}, {\"count\": 1, \"recall\": 0.0, \"cutoff\": 4, \"precision\": 0.0, \"review_profilename\": \"RyanLigeia\"}, {\"count\": 1, \"recall\": 0.0, \"cutoff\": 5, \"precision\": 0.0, \"review_profilename\": \"RyanLigeia\"}, {\"count\": 1, \"recall\": 0.0, \"cutoff\": 6, \"precision\": 0.0, \"review_profilename\": \"RyanLigeia\"}, {\"count\": 1, \"recall\": 0.0, \"cutoff\": 7, \"precision\": 0.0, \"review_profilename\": \"RyanLigeia\"}, {\"count\": 1, \"recall\": 0.0, \"cutoff\": 8, \"precision\": 0.0, \"review_profilename\": \"RyanLigeia\"}, {\"count\": 1, \"recall\": 0.0, \"cutoff\": 9, \"precision\": 0.0, \"review_profilename\": \"RyanLigeia\"}, {\"count\": 1, \"recall\": 0.0, \"cutoff\": 10, \"precision\": 0.0, \"review_profilename\": \"RyanLigeia\"}, {\"count\": 1, \"recall\": 0.0, \"cutoff\": 11, \"precision\": 0.0, \"review_profilename\": \"RyanLigeia\"}, {\"count\": 1, \"recall\": 0.0, \"cutoff\": 16, \"precision\": 0.0, \"review_profilename\": \"RyanLigeia\"}, {\"count\": 1, \"recall\": 0.0, \"cutoff\": 21, \"precision\": 0.0, \"review_profilename\": \"RyanLigeia\"}, {\"count\": 1, \"recall\": 0.0, \"cutoff\": 26, \"precision\": 0.0, \"review_profilename\": \"RyanLigeia\"}, {\"count\": 1, \"recall\": 0.0, \"cutoff\": 31, \"precision\": 0.0, \"review_profilename\": \"RyanLigeia\"}, {\"count\": 1, \"recall\": 0.0, \"cutoff\": 36, \"precision\": 0.0, \"review_profilename\": \"RyanLigeia\"}, {\"count\": 1, \"recall\": 0.0, \"cutoff\": 41, \"precision\": 0.0, \"review_profilename\": \"RyanLigeia\"}, {\"count\": 1, \"recall\": 0.0, \"cutoff\": 46, \"precision\": 0.0, \"review_profilename\": \"RyanLigeia\"}, {\"count\": 16, \"recall\": 0.0, \"cutoff\": 1, \"precision\": 0.0, \"review_profilename\": \"SchmichaelJ\"}, {\"count\": 16, \"recall\": 0.0625, \"cutoff\": 2, \"precision\": 0.5, \"review_profilename\": \"SchmichaelJ\"}, {\"count\": 16, \"recall\": 0.0625, \"cutoff\": 3, \"precision\": 0.3333333333333333, \"review_profilename\": \"SchmichaelJ\"}, {\"count\": 16, \"recall\": 0.0625, \"cutoff\": 4, \"precision\": 0.25, \"review_profilename\": \"SchmichaelJ\"}, {\"count\": 16, \"recall\": 0.125, \"cutoff\": 5, \"precision\": 0.4, \"review_profilename\": \"SchmichaelJ\"}, {\"count\": 16, \"recall\": 0.125, \"cutoff\": 6, \"precision\": 0.3333333333333333, \"review_profilename\": \"SchmichaelJ\"}, {\"count\": 16, \"recall\": 0.125, \"cutoff\": 7, \"precision\": 0.2857142857142857, \"review_profilename\": \"SchmichaelJ\"}, {\"count\": 16, \"recall\": 0.125, \"cutoff\": 8, \"precision\": 0.25, \"review_profilename\": \"SchmichaelJ\"}, {\"count\": 16, \"recall\": 0.1875, \"cutoff\": 9, \"precision\": 0.3333333333333333, \"review_profilename\": \"SchmichaelJ\"}, {\"count\": 16, \"recall\": 0.1875, \"cutoff\": 10, \"precision\": 0.3, \"review_profilename\": \"SchmichaelJ\"}, {\"count\": 16, \"recall\": 0.1875, \"cutoff\": 11, \"precision\": 0.2727272727272727, \"review_profilename\": \"SchmichaelJ\"}, {\"count\": 16, \"recall\": 0.25, \"cutoff\": 16, \"precision\": 0.25, \"review_profilename\": \"SchmichaelJ\"}, {\"count\": 16, \"recall\": 0.3125, \"cutoff\": 21, \"precision\": 0.23809523809523808, \"review_profilename\": \"SchmichaelJ\"}, {\"count\": 16, \"recall\": 0.375, \"cutoff\": 26, \"precision\": 0.23076923076923078, \"review_profilename\": \"SchmichaelJ\"}, {\"count\": 16, \"recall\": 0.4375, \"cutoff\": 31, \"precision\": 0.22580645161290322, \"review_profilename\": \"SchmichaelJ\"}, {\"count\": 16, \"recall\": 0.4375, \"cutoff\": 36, \"precision\": 0.19444444444444445, \"review_profilename\": \"SchmichaelJ\"}, {\"count\": 16, \"recall\": 0.4375, \"cutoff\": 41, \"precision\": 0.17073170731707318, \"review_profilename\": \"SchmichaelJ\"}, {\"count\": 16, \"recall\": 0.4375, \"cutoff\": 46, \"precision\": 0.15217391304347827, \"review_profilename\": \"SchmichaelJ\"}, {\"count\": 1, \"recall\": 0.0, \"cutoff\": 1, \"precision\": 0.0, \"review_profilename\": \"SirPsyCole\"}, {\"count\": 1, \"recall\": 0.0, \"cutoff\": 2, \"precision\": 0.0, \"review_profilename\": \"SirPsyCole\"}, {\"count\": 1, \"recall\": 0.0, \"cutoff\": 3, \"precision\": 0.0, \"review_profilename\": \"SirPsyCole\"}, {\"count\": 1, \"recall\": 0.0, \"cutoff\": 4, \"precision\": 0.0, \"review_profilename\": \"SirPsyCole\"}, {\"count\": 1, \"recall\": 0.0, \"cutoff\": 5, \"precision\": 0.0, \"review_profilename\": \"SirPsyCole\"}, {\"count\": 1, \"recall\": 0.0, \"cutoff\": 6, \"precision\": 0.0, \"review_profilename\": \"SirPsyCole\"}, {\"count\": 1, \"recall\": 0.0, \"cutoff\": 7, \"precision\": 0.0, \"review_profilename\": \"SirPsyCole\"}, {\"count\": 1, \"recall\": 0.0, \"cutoff\": 8, \"precision\": 0.0, \"review_profilename\": \"SirPsyCole\"}, {\"count\": 1, \"recall\": 0.0, \"cutoff\": 9, \"precision\": 0.0, \"review_profilename\": \"SirPsyCole\"}, {\"count\": 1, \"recall\": 0.0, \"cutoff\": 10, \"precision\": 0.0, \"review_profilename\": \"SirPsyCole\"}, {\"count\": 1, \"recall\": 0.0, \"cutoff\": 11, \"precision\": 0.0, \"review_profilename\": \"SirPsyCole\"}, {\"count\": 1, \"recall\": 0.0, \"cutoff\": 16, \"precision\": 0.0, \"review_profilename\": \"SirPsyCole\"}, {\"count\": 1, \"recall\": 0.0, \"cutoff\": 21, \"precision\": 0.0, \"review_profilename\": \"SirPsyCole\"}, {\"count\": 1, \"recall\": 0.0, \"cutoff\": 26, \"precision\": 0.0, \"review_profilename\": \"SirPsyCole\"}, {\"count\": 1, \"recall\": 0.0, \"cutoff\": 31, \"precision\": 0.0, \"review_profilename\": \"SirPsyCole\"}, {\"count\": 1, \"recall\": 0.0, \"cutoff\": 36, \"precision\": 0.0, \"review_profilename\": \"SirPsyCole\"}, {\"count\": 1, \"recall\": 0.0, \"cutoff\": 41, \"precision\": 0.0, \"review_profilename\": \"SirPsyCole\"}, {\"count\": 1, \"recall\": 0.0, \"cutoff\": 46, \"precision\": 0.0, \"review_profilename\": \"SirPsyCole\"}, {\"count\": 128, \"recall\": 0.0, \"cutoff\": 1, \"precision\": 0.0, \"review_profilename\": \"SpdKilz\"}, {\"count\": 128, \"recall\": 0.0, \"cutoff\": 2, \"precision\": 0.0, \"review_profilename\": \"SpdKilz\"}, {\"count\": 128, \"recall\": 0.0, \"cutoff\": 3, \"precision\": 0.0, \"review_profilename\": \"SpdKilz\"}, {\"count\": 128, \"recall\": 0.0078125, \"cutoff\": 4, \"precision\": 0.25, \"review_profilename\": \"SpdKilz\"}, {\"count\": 128, \"recall\": 0.015625, \"cutoff\": 5, \"precision\": 0.4, \"review_profilename\": \"SpdKilz\"}, {\"count\": 128, \"recall\": 0.0234375, \"cutoff\": 6, \"precision\": 0.5, \"review_profilename\": \"SpdKilz\"}, {\"count\": 128, \"recall\": 0.0234375, \"cutoff\": 7, \"precision\": 0.42857142857142855, \"review_profilename\": \"SpdKilz\"}, {\"count\": 128, \"recall\": 0.03125, \"cutoff\": 8, \"precision\": 0.5, \"review_profilename\": \"SpdKilz\"}, {\"count\": 128, \"recall\": 0.0390625, \"cutoff\": 9, \"precision\": 0.5555555555555556, \"review_profilename\": \"SpdKilz\"}, {\"count\": 128, \"recall\": 0.046875, \"cutoff\": 10, \"precision\": 0.6, \"review_profilename\": \"SpdKilz\"}, {\"count\": 128, \"recall\": 0.0546875, \"cutoff\": 11, \"precision\": 0.6363636363636364, \"review_profilename\": \"SpdKilz\"}, {\"count\": 128, \"recall\": 0.0859375, \"cutoff\": 16, \"precision\": 0.6875, \"review_profilename\": \"SpdKilz\"}, {\"count\": 128, \"recall\": 0.1015625, \"cutoff\": 21, \"precision\": 0.6190476190476191, \"review_profilename\": \"SpdKilz\"}, {\"count\": 128, \"recall\": 0.125, \"cutoff\": 26, \"precision\": 0.6153846153846154, \"review_profilename\": \"SpdKilz\"}, {\"count\": 128, \"recall\": 0.140625, \"cutoff\": 31, \"precision\": 0.5806451612903226, \"review_profilename\": \"SpdKilz\"}, {\"count\": 128, \"recall\": 0.140625, \"cutoff\": 36, \"precision\": 0.5, \"review_profilename\": \"SpdKilz\"}, {\"count\": 128, \"recall\": 0.140625, \"cutoff\": 41, \"precision\": 0.43902439024390244, \"review_profilename\": \"SpdKilz\"}, {\"count\": 128, \"recall\": 0.1484375, \"cutoff\": 46, \"precision\": 0.41304347826086957, \"review_profilename\": \"SpdKilz\"}, {\"count\": 1, \"recall\": 0.0, \"cutoff\": 1, \"precision\": 0.0, \"review_profilename\": \"Sygma\"}, {\"count\": 1, \"recall\": 0.0, \"cutoff\": 2, \"precision\": 0.0, \"review_profilename\": \"Sygma\"}, {\"count\": 1, \"recall\": 0.0, \"cutoff\": 3, \"precision\": 0.0, \"review_profilename\": \"Sygma\"}, {\"count\": 1, \"recall\": 0.0, \"cutoff\": 4, \"precision\": 0.0, \"review_profilename\": \"Sygma\"}, {\"count\": 1, \"recall\": 0.0, \"cutoff\": 5, \"precision\": 0.0, \"review_profilename\": \"Sygma\"}, {\"count\": 1, \"recall\": 0.0, \"cutoff\": 6, \"precision\": 0.0, \"review_profilename\": \"Sygma\"}, {\"count\": 1, \"recall\": 0.0, \"cutoff\": 7, \"precision\": 0.0, \"review_profilename\": \"Sygma\"}, {\"count\": 1, \"recall\": 0.0, \"cutoff\": 8, \"precision\": 0.0, \"review_profilename\": \"Sygma\"}, {\"count\": 1, \"recall\": 0.0, \"cutoff\": 9, \"precision\": 0.0, \"review_profilename\": \"Sygma\"}, {\"count\": 1, \"recall\": 0.0, \"cutoff\": 10, \"precision\": 0.0, \"review_profilename\": \"Sygma\"}, {\"count\": 1, \"recall\": 0.0, \"cutoff\": 11, \"precision\": 0.0, \"review_profilename\": \"Sygma\"}, {\"count\": 1, \"recall\": 0.0, \"cutoff\": 16, \"precision\": 0.0, \"review_profilename\": \"Sygma\"}, {\"count\": 1, \"recall\": 0.0, \"cutoff\": 21, \"precision\": 0.0, \"review_profilename\": \"Sygma\"}, {\"count\": 1, \"recall\": 0.0, \"cutoff\": 26, \"precision\": 0.0, \"review_profilename\": \"Sygma\"}, {\"count\": 1, \"recall\": 0.0, \"cutoff\": 31, \"precision\": 0.0, \"review_profilename\": \"Sygma\"}, {\"count\": 1, \"recall\": 0.0, \"cutoff\": 36, \"precision\": 0.0, \"review_profilename\": \"Sygma\"}, {\"count\": 1, \"recall\": 0.0, \"cutoff\": 41, \"precision\": 0.0, \"review_profilename\": \"Sygma\"}, {\"count\": 1, \"recall\": 0.0, \"cutoff\": 46, \"precision\": 0.0, \"review_profilename\": \"Sygma\"}, {\"count\": 1, \"recall\": 0.0, \"cutoff\": 1, \"precision\": 0.0, \"review_profilename\": \"TheSicilian33\"}, {\"count\": 1, \"recall\": 0.0, \"cutoff\": 2, \"precision\": 0.0, \"review_profilename\": \"TheSicilian33\"}, {\"count\": 1, \"recall\": 0.0, \"cutoff\": 3, \"precision\": 0.0, \"review_profilename\": \"TheSicilian33\"}, {\"count\": 1, \"recall\": 0.0, \"cutoff\": 4, \"precision\": 0.0, \"review_profilename\": \"TheSicilian33\"}, {\"count\": 1, \"recall\": 0.0, \"cutoff\": 5, \"precision\": 0.0, \"review_profilename\": \"TheSicilian33\"}, {\"count\": 1, \"recall\": 0.0, \"cutoff\": 6, \"precision\": 0.0, \"review_profilename\": \"TheSicilian33\"}, {\"count\": 1, \"recall\": 0.0, \"cutoff\": 7, \"precision\": 0.0, \"review_profilename\": \"TheSicilian33\"}, {\"count\": 1, \"recall\": 0.0, \"cutoff\": 8, \"precision\": 0.0, \"review_profilename\": \"TheSicilian33\"}, {\"count\": 1, \"recall\": 0.0, \"cutoff\": 9, \"precision\": 0.0, \"review_profilename\": \"TheSicilian33\"}, {\"count\": 1, \"recall\": 0.0, \"cutoff\": 10, \"precision\": 0.0, \"review_profilename\": \"TheSicilian33\"}, {\"count\": 1, \"recall\": 0.0, \"cutoff\": 11, \"precision\": 0.0, \"review_profilename\": \"TheSicilian33\"}, {\"count\": 1, \"recall\": 0.0, \"cutoff\": 16, \"precision\": 0.0, \"review_profilename\": \"TheSicilian33\"}, {\"count\": 1, \"recall\": 0.0, \"cutoff\": 21, \"precision\": 0.0, \"review_profilename\": \"TheSicilian33\"}, {\"count\": 1, \"recall\": 0.0, \"cutoff\": 26, \"precision\": 0.0, \"review_profilename\": \"TheSicilian33\"}, {\"count\": 1, \"recall\": 0.0, \"cutoff\": 31, \"precision\": 0.0, \"review_profilename\": \"TheSicilian33\"}, {\"count\": 1, \"recall\": 0.0, \"cutoff\": 36, \"precision\": 0.0, \"review_profilename\": \"TheSicilian33\"}, {\"count\": 1, \"recall\": 0.0, \"cutoff\": 41, \"precision\": 0.0, \"review_profilename\": \"TheSicilian33\"}, {\"count\": 1, \"recall\": 0.0, \"cutoff\": 46, \"precision\": 0.0, \"review_profilename\": \"TheSicilian33\"}, {\"count\": 3, \"recall\": 0.0, \"cutoff\": 1, \"precision\": 0.0, \"review_profilename\": \"TheYeagermeister\"}, {\"count\": 3, \"recall\": 0.0, \"cutoff\": 2, \"precision\": 0.0, \"review_profilename\": \"TheYeagermeister\"}, {\"count\": 3, \"recall\": 0.0, \"cutoff\": 3, \"precision\": 0.0, \"review_profilename\": \"TheYeagermeister\"}, {\"count\": 3, \"recall\": 0.0, \"cutoff\": 4, \"precision\": 0.0, \"review_profilename\": \"TheYeagermeister\"}, {\"count\": 3, \"recall\": 0.0, \"cutoff\": 5, \"precision\": 0.0, \"review_profilename\": \"TheYeagermeister\"}, {\"count\": 3, \"recall\": 0.0, \"cutoff\": 6, \"precision\": 0.0, \"review_profilename\": \"TheYeagermeister\"}, {\"count\": 3, \"recall\": 0.0, \"cutoff\": 7, \"precision\": 0.0, \"review_profilename\": \"TheYeagermeister\"}, {\"count\": 3, \"recall\": 0.0, \"cutoff\": 8, \"precision\": 0.0, \"review_profilename\": \"TheYeagermeister\"}, {\"count\": 3, \"recall\": 0.0, \"cutoff\": 9, \"precision\": 0.0, \"review_profilename\": \"TheYeagermeister\"}, {\"count\": 3, \"recall\": 0.0, \"cutoff\": 10, \"precision\": 0.0, \"review_profilename\": \"TheYeagermeister\"}, {\"count\": 3, \"recall\": 0.0, \"cutoff\": 11, \"precision\": 0.0, \"review_profilename\": \"TheYeagermeister\"}, {\"count\": 3, \"recall\": 0.0, \"cutoff\": 16, \"precision\": 0.0, \"review_profilename\": \"TheYeagermeister\"}, {\"count\": 3, \"recall\": 0.0, \"cutoff\": 21, \"precision\": 0.0, \"review_profilename\": \"TheYeagermeister\"}, {\"count\": 3, \"recall\": 0.0, \"cutoff\": 26, \"precision\": 0.0, \"review_profilename\": \"TheYeagermeister\"}, {\"count\": 3, \"recall\": 0.0, \"cutoff\": 31, \"precision\": 0.0, \"review_profilename\": \"TheYeagermeister\"}, {\"count\": 3, \"recall\": 0.0, \"cutoff\": 36, \"precision\": 0.0, \"review_profilename\": \"TheYeagermeister\"}, {\"count\": 3, \"recall\": 0.0, \"cutoff\": 41, \"precision\": 0.0, \"review_profilename\": \"TheYeagermeister\"}, {\"count\": 3, \"recall\": 0.0, \"cutoff\": 46, \"precision\": 0.0, \"review_profilename\": \"TheYeagermeister\"}, {\"count\": 25, \"recall\": 0.0, \"cutoff\": 1, \"precision\": 0.0, \"review_profilename\": \"TippySelenoid\"}, {\"count\": 25, \"recall\": 0.0, \"cutoff\": 2, \"precision\": 0.0, \"review_profilename\": \"TippySelenoid\"}, {\"count\": 25, \"recall\": 0.0, \"cutoff\": 3, \"precision\": 0.0, \"review_profilename\": \"TippySelenoid\"}, {\"count\": 25, \"recall\": 0.04, \"cutoff\": 4, \"precision\": 0.25, \"review_profilename\": \"TippySelenoid\"}, {\"count\": 25, \"recall\": 0.04, \"cutoff\": 5, \"precision\": 0.2, \"review_profilename\": \"TippySelenoid\"}, {\"count\": 25, \"recall\": 0.04, \"cutoff\": 6, \"precision\": 0.16666666666666666, \"review_profilename\": \"TippySelenoid\"}, {\"count\": 25, \"recall\": 0.04, \"cutoff\": 7, \"precision\": 0.14285714285714285, \"review_profilename\": \"TippySelenoid\"}, {\"count\": 25, \"recall\": 0.08, \"cutoff\": 8, \"precision\": 0.25, \"review_profilename\": \"TippySelenoid\"}, {\"count\": 25, \"recall\": 0.08, \"cutoff\": 9, \"precision\": 0.2222222222222222, \"review_profilename\": \"TippySelenoid\"}, {\"count\": 25, \"recall\": 0.08, \"cutoff\": 10, \"precision\": 0.2, \"review_profilename\": \"TippySelenoid\"}, {\"count\": 25, \"recall\": 0.12, \"cutoff\": 11, \"precision\": 0.2727272727272727, \"review_profilename\": \"TippySelenoid\"}, {\"count\": 25, \"recall\": 0.16, \"cutoff\": 16, \"precision\": 0.25, \"review_profilename\": \"TippySelenoid\"}, {\"count\": 25, \"recall\": 0.16, \"cutoff\": 21, \"precision\": 0.19047619047619047, \"review_profilename\": \"TippySelenoid\"}, {\"count\": 25, \"recall\": 0.2, \"cutoff\": 26, \"precision\": 0.19230769230769232, \"review_profilename\": \"TippySelenoid\"}, {\"count\": 25, \"recall\": 0.24, \"cutoff\": 31, \"precision\": 0.1935483870967742, \"review_profilename\": \"TippySelenoid\"}, {\"count\": 25, \"recall\": 0.24, \"cutoff\": 36, \"precision\": 0.16666666666666666, \"review_profilename\": \"TippySelenoid\"}, {\"count\": 25, \"recall\": 0.24, \"cutoff\": 41, \"precision\": 0.14634146341463414, \"review_profilename\": \"TippySelenoid\"}, {\"count\": 25, \"recall\": 0.24, \"cutoff\": 46, \"precision\": 0.13043478260869565, \"review_profilename\": \"TippySelenoid\"}, {\"count\": 3, \"recall\": 0.0, \"cutoff\": 1, \"precision\": 0.0, \"review_profilename\": \"Tudval\"}, {\"count\": 3, \"recall\": 0.0, \"cutoff\": 2, \"precision\": 0.0, \"review_profilename\": \"Tudval\"}, {\"count\": 3, \"recall\": 0.0, \"cutoff\": 3, \"precision\": 0.0, \"review_profilename\": \"Tudval\"}, {\"count\": 3, \"recall\": 0.0, \"cutoff\": 4, \"precision\": 0.0, \"review_profilename\": \"Tudval\"}, {\"count\": 3, \"recall\": 0.0, \"cutoff\": 5, \"precision\": 0.0, \"review_profilename\": \"Tudval\"}, {\"count\": 3, \"recall\": 0.0, \"cutoff\": 6, \"precision\": 0.0, \"review_profilename\": \"Tudval\"}, {\"count\": 3, \"recall\": 0.0, \"cutoff\": 7, \"precision\": 0.0, \"review_profilename\": \"Tudval\"}, {\"count\": 3, \"recall\": 0.0, \"cutoff\": 8, \"precision\": 0.0, \"review_profilename\": \"Tudval\"}, {\"count\": 3, \"recall\": 0.0, \"cutoff\": 9, \"precision\": 0.0, \"review_profilename\": \"Tudval\"}, {\"count\": 3, \"recall\": 0.0, \"cutoff\": 10, \"precision\": 0.0, \"review_profilename\": \"Tudval\"}, {\"count\": 3, \"recall\": 0.0, \"cutoff\": 11, \"precision\": 0.0, \"review_profilename\": \"Tudval\"}, {\"count\": 3, \"recall\": 0.0, \"cutoff\": 16, \"precision\": 0.0, \"review_profilename\": \"Tudval\"}, {\"count\": 3, \"recall\": 0.0, \"cutoff\": 21, \"precision\": 0.0, \"review_profilename\": \"Tudval\"}, {\"count\": 3, \"recall\": 0.0, \"cutoff\": 26, \"precision\": 0.0, \"review_profilename\": \"Tudval\"}, {\"count\": 3, \"recall\": 0.3333333333333333, \"cutoff\": 31, \"precision\": 0.03225806451612903, \"review_profilename\": \"Tudval\"}, {\"count\": 3, \"recall\": 0.3333333333333333, \"cutoff\": 36, \"precision\": 0.027777777777777776, \"review_profilename\": \"Tudval\"}, {\"count\": 3, \"recall\": 0.3333333333333333, \"cutoff\": 41, \"precision\": 0.024390243902439025, \"review_profilename\": \"Tudval\"}, {\"count\": 3, \"recall\": 0.3333333333333333, \"cutoff\": 46, \"precision\": 0.021739130434782608, \"review_profilename\": \"Tudval\"}, {\"count\": 1, \"recall\": 1.0, \"cutoff\": 1, \"precision\": 1.0, \"review_profilename\": \"Turnerp561\"}, {\"count\": 1, \"recall\": 1.0, \"cutoff\": 2, \"precision\": 0.5, \"review_profilename\": \"Turnerp561\"}, {\"count\": 1, \"recall\": 1.0, \"cutoff\": 3, \"precision\": 0.3333333333333333, \"review_profilename\": \"Turnerp561\"}, {\"count\": 1, \"recall\": 1.0, \"cutoff\": 4, \"precision\": 0.25, \"review_profilename\": \"Turnerp561\"}, {\"count\": 1, \"recall\": 1.0, \"cutoff\": 5, \"precision\": 0.2, \"review_profilename\": \"Turnerp561\"}, {\"count\": 1, \"recall\": 1.0, \"cutoff\": 6, \"precision\": 0.16666666666666666, \"review_profilename\": \"Turnerp561\"}, {\"count\": 1, \"recall\": 1.0, \"cutoff\": 7, \"precision\": 0.14285714285714285, \"review_profilename\": \"Turnerp561\"}, {\"count\": 1, \"recall\": 1.0, \"cutoff\": 8, \"precision\": 0.125, \"review_profilename\": \"Turnerp561\"}, {\"count\": 1, \"recall\": 1.0, \"cutoff\": 9, \"precision\": 0.1111111111111111, \"review_profilename\": \"Turnerp561\"}, {\"count\": 1, \"recall\": 1.0, \"cutoff\": 10, \"precision\": 0.1, \"review_profilename\": \"Turnerp561\"}, {\"count\": 1, \"recall\": 1.0, \"cutoff\": 11, \"precision\": 0.09090909090909091, \"review_profilename\": \"Turnerp561\"}, {\"count\": 1, \"recall\": 1.0, \"cutoff\": 16, \"precision\": 0.0625, \"review_profilename\": \"Turnerp561\"}, {\"count\": 1, \"recall\": 1.0, \"cutoff\": 21, \"precision\": 0.047619047619047616, \"review_profilename\": \"Turnerp561\"}, {\"count\": 1, \"recall\": 1.0, \"cutoff\": 26, \"precision\": 0.038461538461538464, \"review_profilename\": \"Turnerp561\"}, {\"count\": 1, \"recall\": 1.0, \"cutoff\": 31, \"precision\": 0.03225806451612903, \"review_profilename\": \"Turnerp561\"}, {\"count\": 1, \"recall\": 1.0, \"cutoff\": 36, \"precision\": 0.027777777777777776, \"review_profilename\": \"Turnerp561\"}, {\"count\": 1, \"recall\": 1.0, \"cutoff\": 41, \"precision\": 0.024390243902439025, \"review_profilename\": \"Turnerp561\"}, {\"count\": 1, \"recall\": 1.0, \"cutoff\": 46, \"precision\": 0.021739130434782608, \"review_profilename\": \"Turnerp561\"}, {\"count\": 1, \"recall\": 0.0, \"cutoff\": 1, \"precision\": 0.0, \"review_profilename\": \"VirtualAsylum\"}, {\"count\": 1, \"recall\": 0.0, \"cutoff\": 2, \"precision\": 0.0, \"review_profilename\": \"VirtualAsylum\"}, {\"count\": 1, \"recall\": 0.0, \"cutoff\": 3, \"precision\": 0.0, \"review_profilename\": \"VirtualAsylum\"}, {\"count\": 1, \"recall\": 0.0, \"cutoff\": 4, \"precision\": 0.0, \"review_profilename\": \"VirtualAsylum\"}, {\"count\": 1, \"recall\": 0.0, \"cutoff\": 5, \"precision\": 0.0, \"review_profilename\": \"VirtualAsylum\"}, {\"count\": 1, \"recall\": 0.0, \"cutoff\": 6, \"precision\": 0.0, \"review_profilename\": \"VirtualAsylum\"}, {\"count\": 1, \"recall\": 0.0, \"cutoff\": 7, \"precision\": 0.0, \"review_profilename\": \"VirtualAsylum\"}, {\"count\": 1, \"recall\": 0.0, \"cutoff\": 8, \"precision\": 0.0, \"review_profilename\": \"VirtualAsylum\"}, {\"count\": 1, \"recall\": 0.0, \"cutoff\": 9, \"precision\": 0.0, \"review_profilename\": \"VirtualAsylum\"}, {\"count\": 1, \"recall\": 0.0, \"cutoff\": 10, \"precision\": 0.0, \"review_profilename\": \"VirtualAsylum\"}, {\"count\": 1, \"recall\": 0.0, \"cutoff\": 11, \"precision\": 0.0, \"review_profilename\": \"VirtualAsylum\"}, {\"count\": 1, \"recall\": 0.0, \"cutoff\": 16, \"precision\": 0.0, \"review_profilename\": \"VirtualAsylum\"}, {\"count\": 1, \"recall\": 0.0, \"cutoff\": 21, \"precision\": 0.0, \"review_profilename\": \"VirtualAsylum\"}, {\"count\": 1, \"recall\": 0.0, \"cutoff\": 26, \"precision\": 0.0, \"review_profilename\": \"VirtualAsylum\"}, {\"count\": 1, \"recall\": 0.0, \"cutoff\": 31, \"precision\": 0.0, \"review_profilename\": \"VirtualAsylum\"}, {\"count\": 1, \"recall\": 0.0, \"cutoff\": 36, \"precision\": 0.0, \"review_profilename\": \"VirtualAsylum\"}, {\"count\": 1, \"recall\": 0.0, \"cutoff\": 41, \"precision\": 0.0, \"review_profilename\": \"VirtualAsylum\"}, {\"count\": 1, \"recall\": 0.0, \"cutoff\": 46, \"precision\": 0.0, \"review_profilename\": \"VirtualAsylum\"}, {\"count\": 2, \"recall\": 0.0, \"cutoff\": 1, \"precision\": 0.0, \"review_profilename\": \"Weasel\"}, {\"count\": 2, \"recall\": 0.0, \"cutoff\": 2, \"precision\": 0.0, \"review_profilename\": \"Weasel\"}, {\"count\": 2, \"recall\": 0.0, \"cutoff\": 3, \"precision\": 0.0, \"review_profilename\": \"Weasel\"}, {\"count\": 2, \"recall\": 0.0, \"cutoff\": 4, \"precision\": 0.0, \"review_profilename\": \"Weasel\"}, {\"count\": 2, \"recall\": 0.0, \"cutoff\": 5, \"precision\": 0.0, \"review_profilename\": \"Weasel\"}, {\"count\": 2, \"recall\": 0.0, \"cutoff\": 6, \"precision\": 0.0, \"review_profilename\": \"Weasel\"}, {\"count\": 2, \"recall\": 0.0, \"cutoff\": 7, \"precision\": 0.0, \"review_profilename\": \"Weasel\"}, {\"count\": 2, \"recall\": 0.0, \"cutoff\": 8, \"precision\": 0.0, \"review_profilename\": \"Weasel\"}, {\"count\": 2, \"recall\": 0.0, \"cutoff\": 9, \"precision\": 0.0, \"review_profilename\": \"Weasel\"}, {\"count\": 2, \"recall\": 0.0, \"cutoff\": 10, \"precision\": 0.0, \"review_profilename\": \"Weasel\"}, {\"count\": 2, \"recall\": 0.0, \"cutoff\": 11, \"precision\": 0.0, \"review_profilename\": \"Weasel\"}, {\"count\": 2, \"recall\": 0.5, \"cutoff\": 16, \"precision\": 0.0625, \"review_profilename\": \"Weasel\"}, {\"count\": 2, \"recall\": 0.5, \"cutoff\": 21, \"precision\": 0.047619047619047616, \"review_profilename\": \"Weasel\"}, {\"count\": 2, \"recall\": 0.5, \"cutoff\": 26, \"precision\": 0.038461538461538464, \"review_profilename\": \"Weasel\"}, {\"count\": 2, \"recall\": 0.5, \"cutoff\": 31, \"precision\": 0.03225806451612903, \"review_profilename\": \"Weasel\"}, {\"count\": 2, \"recall\": 0.5, \"cutoff\": 36, \"precision\": 0.027777777777777776, \"review_profilename\": \"Weasel\"}, {\"count\": 2, \"recall\": 0.5, \"cutoff\": 41, \"precision\": 0.024390243902439025, \"review_profilename\": \"Weasel\"}, {\"count\": 2, \"recall\": 0.5, \"cutoff\": 46, \"precision\": 0.021739130434782608, \"review_profilename\": \"Weasel\"}, {\"count\": 1, \"recall\": 0.0, \"cutoff\": 1, \"precision\": 0.0, \"review_profilename\": \"bdawe\"}, {\"count\": 1, \"recall\": 0.0, \"cutoff\": 2, \"precision\": 0.0, \"review_profilename\": \"bdawe\"}, {\"count\": 1, \"recall\": 0.0, \"cutoff\": 3, \"precision\": 0.0, \"review_profilename\": \"bdawe\"}, {\"count\": 1, \"recall\": 0.0, \"cutoff\": 4, \"precision\": 0.0, \"review_profilename\": \"bdawe\"}, {\"count\": 1, \"recall\": 0.0, \"cutoff\": 5, \"precision\": 0.0, \"review_profilename\": \"bdawe\"}, {\"count\": 1, \"recall\": 0.0, \"cutoff\": 6, \"precision\": 0.0, \"review_profilename\": \"bdawe\"}, {\"count\": 1, \"recall\": 0.0, \"cutoff\": 7, \"precision\": 0.0, \"review_profilename\": \"bdawe\"}, {\"count\": 1, \"recall\": 0.0, \"cutoff\": 8, \"precision\": 0.0, \"review_profilename\": \"bdawe\"}, {\"count\": 1, \"recall\": 0.0, \"cutoff\": 9, \"precision\": 0.0, \"review_profilename\": \"bdawe\"}, {\"count\": 1, \"recall\": 0.0, \"cutoff\": 10, \"precision\": 0.0, \"review_profilename\": \"bdawe\"}, {\"count\": 1, \"recall\": 0.0, \"cutoff\": 11, \"precision\": 0.0, \"review_profilename\": \"bdawe\"}, {\"count\": 1, \"recall\": 0.0, \"cutoff\": 16, \"precision\": 0.0, \"review_profilename\": \"bdawe\"}, {\"count\": 1, \"recall\": 0.0, \"cutoff\": 21, \"precision\": 0.0, \"review_profilename\": \"bdawe\"}, {\"count\": 1, \"recall\": 0.0, \"cutoff\": 26, \"precision\": 0.0, \"review_profilename\": \"bdawe\"}, {\"count\": 1, \"recall\": 0.0, \"cutoff\": 31, \"precision\": 0.0, \"review_profilename\": \"bdawe\"}, {\"count\": 1, \"recall\": 0.0, \"cutoff\": 36, \"precision\": 0.0, \"review_profilename\": \"bdawe\"}, {\"count\": 1, \"recall\": 0.0, \"cutoff\": 41, \"precision\": 0.0, \"review_profilename\": \"bdawe\"}, {\"count\": 1, \"recall\": 0.0, \"cutoff\": 46, \"precision\": 0.0, \"review_profilename\": \"bdawe\"}, {\"count\": 64, \"recall\": 0.015625, \"cutoff\": 1, \"precision\": 1.0, \"review_profilename\": \"beergod1\"}, {\"count\": 64, \"recall\": 0.015625, \"cutoff\": 2, \"precision\": 0.5, \"review_profilename\": \"beergod1\"}, {\"count\": 64, \"recall\": 0.015625, \"cutoff\": 3, \"precision\": 0.3333333333333333, \"review_profilename\": \"beergod1\"}, {\"count\": 64, \"recall\": 0.015625, \"cutoff\": 4, \"precision\": 0.25, \"review_profilename\": \"beergod1\"}, {\"count\": 64, \"recall\": 0.015625, \"cutoff\": 5, \"precision\": 0.2, \"review_profilename\": \"beergod1\"}, {\"count\": 64, \"recall\": 0.015625, \"cutoff\": 6, \"precision\": 0.16666666666666666, \"review_profilename\": \"beergod1\"}, {\"count\": 64, \"recall\": 0.015625, \"cutoff\": 7, \"precision\": 0.14285714285714285, \"review_profilename\": \"beergod1\"}, {\"count\": 64, \"recall\": 0.015625, \"cutoff\": 8, \"precision\": 0.125, \"review_profilename\": \"beergod1\"}, {\"count\": 64, \"recall\": 0.015625, \"cutoff\": 9, \"precision\": 0.1111111111111111, \"review_profilename\": \"beergod1\"}, {\"count\": 64, \"recall\": 0.015625, \"cutoff\": 10, \"precision\": 0.1, \"review_profilename\": \"beergod1\"}, {\"count\": 64, \"recall\": 0.015625, \"cutoff\": 11, \"precision\": 0.09090909090909091, \"review_profilename\": \"beergod1\"}, {\"count\": 64, \"recall\": 0.0625, \"cutoff\": 16, \"precision\": 0.25, \"review_profilename\": \"beergod1\"}, {\"count\": 64, \"recall\": 0.078125, \"cutoff\": 21, \"precision\": 0.23809523809523808, \"review_profilename\": \"beergod1\"}, {\"count\": 64, \"recall\": 0.09375, \"cutoff\": 26, \"precision\": 0.23076923076923078, \"review_profilename\": \"beergod1\"}, {\"count\": 64, \"recall\": 0.09375, \"cutoff\": 31, \"precision\": 0.1935483870967742, \"review_profilename\": \"beergod1\"}, {\"count\": 64, \"recall\": 0.09375, \"cutoff\": 36, \"precision\": 0.16666666666666666, \"review_profilename\": \"beergod1\"}, {\"count\": 64, \"recall\": 0.109375, \"cutoff\": 41, \"precision\": 0.17073170731707318, \"review_profilename\": \"beergod1\"}, {\"count\": 64, \"recall\": 0.109375, \"cutoff\": 46, \"precision\": 0.15217391304347827, \"review_profilename\": \"beergod1\"}, {\"count\": 68, \"recall\": 0.0, \"cutoff\": 1, \"precision\": 0.0, \"review_profilename\": \"brewdoc75\"}, {\"count\": 68, \"recall\": 0.0, \"cutoff\": 2, \"precision\": 0.0, \"review_profilename\": \"brewdoc75\"}, {\"count\": 68, \"recall\": 0.0, \"cutoff\": 3, \"precision\": 0.0, \"review_profilename\": \"brewdoc75\"}, {\"count\": 68, \"recall\": 0.014705882352941176, \"cutoff\": 4, \"precision\": 0.25, \"review_profilename\": \"brewdoc75\"}, {\"count\": 68, \"recall\": 0.029411764705882353, \"cutoff\": 5, \"precision\": 0.4, \"review_profilename\": \"brewdoc75\"}, {\"count\": 68, \"recall\": 0.029411764705882353, \"cutoff\": 6, \"precision\": 0.3333333333333333, \"review_profilename\": \"brewdoc75\"}, {\"count\": 68, \"recall\": 0.04411764705882353, \"cutoff\": 7, \"precision\": 0.42857142857142855, \"review_profilename\": \"brewdoc75\"}, {\"count\": 68, \"recall\": 0.058823529411764705, \"cutoff\": 8, \"precision\": 0.5, \"review_profilename\": \"brewdoc75\"}, {\"count\": 68, \"recall\": 0.058823529411764705, \"cutoff\": 9, \"precision\": 0.4444444444444444, \"review_profilename\": \"brewdoc75\"}, {\"count\": 68, \"recall\": 0.058823529411764705, \"cutoff\": 10, \"precision\": 0.4, \"review_profilename\": \"brewdoc75\"}, {\"count\": 68, \"recall\": 0.058823529411764705, \"cutoff\": 11, \"precision\": 0.36363636363636365, \"review_profilename\": \"brewdoc75\"}, {\"count\": 68, \"recall\": 0.058823529411764705, \"cutoff\": 16, \"precision\": 0.25, \"review_profilename\": \"brewdoc75\"}, {\"count\": 68, \"recall\": 0.058823529411764705, \"cutoff\": 21, \"precision\": 0.19047619047619047, \"review_profilename\": \"brewdoc75\"}, {\"count\": 68, \"recall\": 0.07352941176470588, \"cutoff\": 26, \"precision\": 0.19230769230769232, \"review_profilename\": \"brewdoc75\"}, {\"count\": 68, \"recall\": 0.10294117647058823, \"cutoff\": 31, \"precision\": 0.22580645161290322, \"review_profilename\": \"brewdoc75\"}, {\"count\": 68, \"recall\": 0.11764705882352941, \"cutoff\": 36, \"precision\": 0.2222222222222222, \"review_profilename\": \"brewdoc75\"}, {\"count\": 68, \"recall\": 0.11764705882352941, \"cutoff\": 41, \"precision\": 0.1951219512195122, \"review_profilename\": \"brewdoc75\"}, {\"count\": 68, \"recall\": 0.1323529411764706, \"cutoff\": 46, \"precision\": 0.1956521739130435, \"review_profilename\": \"brewdoc75\"}, {\"count\": 5, \"recall\": 0.0, \"cutoff\": 1, \"precision\": 0.0, \"review_profilename\": \"cfleisher\"}, {\"count\": 5, \"recall\": 0.0, \"cutoff\": 2, \"precision\": 0.0, \"review_profilename\": \"cfleisher\"}, {\"count\": 5, \"recall\": 0.0, \"cutoff\": 3, \"precision\": 0.0, \"review_profilename\": \"cfleisher\"}, {\"count\": 5, \"recall\": 0.0, \"cutoff\": 4, \"precision\": 0.0, \"review_profilename\": \"cfleisher\"}, {\"count\": 5, \"recall\": 0.2, \"cutoff\": 5, \"precision\": 0.2, \"review_profilename\": \"cfleisher\"}, {\"count\": 5, \"recall\": 0.2, \"cutoff\": 6, \"precision\": 0.16666666666666666, \"review_profilename\": \"cfleisher\"}, {\"count\": 5, \"recall\": 0.2, \"cutoff\": 7, \"precision\": 0.14285714285714285, \"review_profilename\": \"cfleisher\"}, {\"count\": 5, \"recall\": 0.2, \"cutoff\": 8, \"precision\": 0.125, \"review_profilename\": \"cfleisher\"}, {\"count\": 5, \"recall\": 0.2, \"cutoff\": 9, \"precision\": 0.1111111111111111, \"review_profilename\": \"cfleisher\"}, {\"count\": 5, \"recall\": 0.2, \"cutoff\": 10, \"precision\": 0.1, \"review_profilename\": \"cfleisher\"}, {\"count\": 5, \"recall\": 0.2, \"cutoff\": 11, \"precision\": 0.09090909090909091, \"review_profilename\": \"cfleisher\"}, {\"count\": 5, \"recall\": 0.2, \"cutoff\": 16, \"precision\": 0.0625, \"review_profilename\": \"cfleisher\"}, {\"count\": 5, \"recall\": 0.2, \"cutoff\": 21, \"precision\": 0.047619047619047616, \"review_profilename\": \"cfleisher\"}, {\"count\": 5, \"recall\": 0.2, \"cutoff\": 26, \"precision\": 0.038461538461538464, \"review_profilename\": \"cfleisher\"}, {\"count\": 5, \"recall\": 0.2, \"cutoff\": 31, \"precision\": 0.03225806451612903, \"review_profilename\": \"cfleisher\"}, {\"count\": 5, \"recall\": 0.2, \"cutoff\": 36, \"precision\": 0.027777777777777776, \"review_profilename\": \"cfleisher\"}, {\"count\": 5, \"recall\": 0.2, \"cutoff\": 41, \"precision\": 0.024390243902439025, \"review_profilename\": \"cfleisher\"}, {\"count\": 5, \"recall\": 0.2, \"cutoff\": 46, \"precision\": 0.021739130434782608, \"review_profilename\": \"cfleisher\"}, {\"count\": 1, \"recall\": 0.0, \"cutoff\": 1, \"precision\": 0.0, \"review_profilename\": \"columbo\"}, {\"count\": 1, \"recall\": 0.0, \"cutoff\": 2, \"precision\": 0.0, \"review_profilename\": \"columbo\"}, {\"count\": 1, \"recall\": 0.0, \"cutoff\": 3, \"precision\": 0.0, \"review_profilename\": \"columbo\"}, {\"count\": 1, \"recall\": 0.0, \"cutoff\": 4, \"precision\": 0.0, \"review_profilename\": \"columbo\"}, {\"count\": 1, \"recall\": 0.0, \"cutoff\": 5, \"precision\": 0.0, \"review_profilename\": \"columbo\"}, {\"count\": 1, \"recall\": 0.0, \"cutoff\": 6, \"precision\": 0.0, \"review_profilename\": \"columbo\"}, {\"count\": 1, \"recall\": 0.0, \"cutoff\": 7, \"precision\": 0.0, \"review_profilename\": \"columbo\"}, {\"count\": 1, \"recall\": 0.0, \"cutoff\": 8, \"precision\": 0.0, \"review_profilename\": \"columbo\"}, {\"count\": 1, \"recall\": 0.0, \"cutoff\": 9, \"precision\": 0.0, \"review_profilename\": \"columbo\"}, {\"count\": 1, \"recall\": 0.0, \"cutoff\": 10, \"precision\": 0.0, \"review_profilename\": \"columbo\"}, {\"count\": 1, \"recall\": 0.0, \"cutoff\": 11, \"precision\": 0.0, \"review_profilename\": \"columbo\"}, {\"count\": 1, \"recall\": 0.0, \"cutoff\": 16, \"precision\": 0.0, \"review_profilename\": \"columbo\"}, {\"count\": 1, \"recall\": 0.0, \"cutoff\": 21, \"precision\": 0.0, \"review_profilename\": \"columbo\"}, {\"count\": 1, \"recall\": 0.0, \"cutoff\": 26, \"precision\": 0.0, \"review_profilename\": \"columbo\"}, {\"count\": 1, \"recall\": 0.0, \"cutoff\": 31, \"precision\": 0.0, \"review_profilename\": \"columbo\"}, {\"count\": 1, \"recall\": 0.0, \"cutoff\": 36, \"precision\": 0.0, \"review_profilename\": \"columbo\"}, {\"count\": 1, \"recall\": 0.0, \"cutoff\": 41, \"precision\": 0.0, \"review_profilename\": \"columbo\"}, {\"count\": 1, \"recall\": 0.0, \"cutoff\": 46, \"precision\": 0.0, \"review_profilename\": \"columbo\"}, {\"count\": 2, \"recall\": 0.0, \"cutoff\": 1, \"precision\": 0.0, \"review_profilename\": \"davidvaz\"}, {\"count\": 2, \"recall\": 0.0, \"cutoff\": 2, \"precision\": 0.0, \"review_profilename\": \"davidvaz\"}, {\"count\": 2, \"recall\": 0.0, \"cutoff\": 3, \"precision\": 0.0, \"review_profilename\": \"davidvaz\"}, {\"count\": 2, \"recall\": 0.0, \"cutoff\": 4, \"precision\": 0.0, \"review_profilename\": \"davidvaz\"}, {\"count\": 2, \"recall\": 0.0, \"cutoff\": 5, \"precision\": 0.0, \"review_profilename\": \"davidvaz\"}, {\"count\": 2, \"recall\": 0.0, \"cutoff\": 6, \"precision\": 0.0, \"review_profilename\": \"davidvaz\"}, {\"count\": 2, \"recall\": 0.0, \"cutoff\": 7, \"precision\": 0.0, \"review_profilename\": \"davidvaz\"}, {\"count\": 2, \"recall\": 0.0, \"cutoff\": 8, \"precision\": 0.0, \"review_profilename\": \"davidvaz\"}, {\"count\": 2, \"recall\": 0.0, \"cutoff\": 9, \"precision\": 0.0, \"review_profilename\": \"davidvaz\"}, {\"count\": 2, \"recall\": 0.0, \"cutoff\": 10, \"precision\": 0.0, \"review_profilename\": \"davidvaz\"}, {\"count\": 2, \"recall\": 0.0, \"cutoff\": 11, \"precision\": 0.0, \"review_profilename\": \"davidvaz\"}, {\"count\": 2, \"recall\": 0.0, \"cutoff\": 16, \"precision\": 0.0, \"review_profilename\": \"davidvaz\"}, {\"count\": 2, \"recall\": 0.0, \"cutoff\": 21, \"precision\": 0.0, \"review_profilename\": \"davidvaz\"}, {\"count\": 2, \"recall\": 0.0, \"cutoff\": 26, \"precision\": 0.0, \"review_profilename\": \"davidvaz\"}, {\"count\": 2, \"recall\": 0.0, \"cutoff\": 31, \"precision\": 0.0, \"review_profilename\": \"davidvaz\"}, {\"count\": 2, \"recall\": 0.0, \"cutoff\": 36, \"precision\": 0.0, \"review_profilename\": \"davidvaz\"}, {\"count\": 2, \"recall\": 0.0, \"cutoff\": 41, \"precision\": 0.0, \"review_profilename\": \"davidvaz\"}, {\"count\": 2, \"recall\": 0.0, \"cutoff\": 46, \"precision\": 0.0, \"review_profilename\": \"davidvaz\"}, {\"count\": 39, \"recall\": 0.0, \"cutoff\": 1, \"precision\": 0.0, \"review_profilename\": \"deepsouth\"}, {\"count\": 39, \"recall\": 0.0, \"cutoff\": 2, \"precision\": 0.0, \"review_profilename\": \"deepsouth\"}, {\"count\": 39, \"recall\": 0.0, \"cutoff\": 3, \"precision\": 0.0, \"review_profilename\": \"deepsouth\"}, {\"count\": 39, \"recall\": 0.0, \"cutoff\": 4, \"precision\": 0.0, \"review_profilename\": \"deepsouth\"}, {\"count\": 39, \"recall\": 0.0, \"cutoff\": 5, \"precision\": 0.0, \"review_profilename\": \"deepsouth\"}, {\"count\": 39, \"recall\": 0.02564102564102564, \"cutoff\": 6, \"precision\": 0.16666666666666666, \"review_profilename\": \"deepsouth\"}, {\"count\": 39, \"recall\": 0.02564102564102564, \"cutoff\": 7, \"precision\": 0.14285714285714285, \"review_profilename\": \"deepsouth\"}, {\"count\": 39, \"recall\": 0.02564102564102564, \"cutoff\": 8, \"precision\": 0.125, \"review_profilename\": \"deepsouth\"}, {\"count\": 39, \"recall\": 0.02564102564102564, \"cutoff\": 9, \"precision\": 0.1111111111111111, \"review_profilename\": \"deepsouth\"}, {\"count\": 39, \"recall\": 0.02564102564102564, \"cutoff\": 10, \"precision\": 0.1, \"review_profilename\": \"deepsouth\"}, {\"count\": 39, \"recall\": 0.02564102564102564, \"cutoff\": 11, \"precision\": 0.09090909090909091, \"review_profilename\": \"deepsouth\"}, {\"count\": 39, \"recall\": 0.07692307692307693, \"cutoff\": 16, \"precision\": 0.1875, \"review_profilename\": \"deepsouth\"}, {\"count\": 39, \"recall\": 0.10256410256410256, \"cutoff\": 21, \"precision\": 0.19047619047619047, \"review_profilename\": \"deepsouth\"}, {\"count\": 39, \"recall\": 0.1282051282051282, \"cutoff\": 26, \"precision\": 0.19230769230769232, \"review_profilename\": \"deepsouth\"}, {\"count\": 39, \"recall\": 0.15384615384615385, \"cutoff\": 31, \"precision\": 0.1935483870967742, \"review_profilename\": \"deepsouth\"}, {\"count\": 39, \"recall\": 0.15384615384615385, \"cutoff\": 36, \"precision\": 0.16666666666666666, \"review_profilename\": \"deepsouth\"}, {\"count\": 39, \"recall\": 0.15384615384615385, \"cutoff\": 41, \"precision\": 0.14634146341463414, \"review_profilename\": \"deepsouth\"}, {\"count\": 39, \"recall\": 0.15384615384615385, \"cutoff\": 46, \"precision\": 0.13043478260869565, \"review_profilename\": \"deepsouth\"}, {\"count\": 2, \"recall\": 0.0, \"cutoff\": 1, \"precision\": 0.0, \"review_profilename\": \"elink00\"}, {\"count\": 2, \"recall\": 0.0, \"cutoff\": 2, \"precision\": 0.0, \"review_profilename\": \"elink00\"}, {\"count\": 2, \"recall\": 0.0, \"cutoff\": 3, \"precision\": 0.0, \"review_profilename\": \"elink00\"}, {\"count\": 2, \"recall\": 0.0, \"cutoff\": 4, \"precision\": 0.0, \"review_profilename\": \"elink00\"}, {\"count\": 2, \"recall\": 0.0, \"cutoff\": 5, \"precision\": 0.0, \"review_profilename\": \"elink00\"}, {\"count\": 2, \"recall\": 0.0, \"cutoff\": 6, \"precision\": 0.0, \"review_profilename\": \"elink00\"}, {\"count\": 2, \"recall\": 0.0, \"cutoff\": 7, \"precision\": 0.0, \"review_profilename\": \"elink00\"}, {\"count\": 2, \"recall\": 0.0, \"cutoff\": 8, \"precision\": 0.0, \"review_profilename\": \"elink00\"}, {\"count\": 2, \"recall\": 0.0, \"cutoff\": 9, \"precision\": 0.0, \"review_profilename\": \"elink00\"}, {\"count\": 2, \"recall\": 0.0, \"cutoff\": 10, \"precision\": 0.0, \"review_profilename\": \"elink00\"}, {\"count\": 2, \"recall\": 0.0, \"cutoff\": 11, \"precision\": 0.0, \"review_profilename\": \"elink00\"}, {\"count\": 2, \"recall\": 0.0, \"cutoff\": 16, \"precision\": 0.0, \"review_profilename\": \"elink00\"}, {\"count\": 2, \"recall\": 0.0, \"cutoff\": 21, \"precision\": 0.0, \"review_profilename\": \"elink00\"}, {\"count\": 2, \"recall\": 0.0, \"cutoff\": 26, \"precision\": 0.0, \"review_profilename\": \"elink00\"}, {\"count\": 2, \"recall\": 0.0, \"cutoff\": 31, \"precision\": 0.0, \"review_profilename\": \"elink00\"}, {\"count\": 2, \"recall\": 0.0, \"cutoff\": 36, \"precision\": 0.0, \"review_profilename\": \"elink00\"}, {\"count\": 2, \"recall\": 0.0, \"cutoff\": 41, \"precision\": 0.0, \"review_profilename\": \"elink00\"}, {\"count\": 2, \"recall\": 0.0, \"cutoff\": 46, \"precision\": 0.0, \"review_profilename\": \"elink00\"}, {\"count\": 50, \"recall\": 0.0, \"cutoff\": 1, \"precision\": 0.0, \"review_profilename\": \"fear025\"}, {\"count\": 50, \"recall\": 0.0, \"cutoff\": 2, \"precision\": 0.0, \"review_profilename\": \"fear025\"}, {\"count\": 50, \"recall\": 0.0, \"cutoff\": 3, \"precision\": 0.0, \"review_profilename\": \"fear025\"}, {\"count\": 50, \"recall\": 0.0, \"cutoff\": 4, \"precision\": 0.0, \"review_profilename\": \"fear025\"}, {\"count\": 50, \"recall\": 0.0, \"cutoff\": 5, \"precision\": 0.0, \"review_profilename\": \"fear025\"}, {\"count\": 50, \"recall\": 0.0, \"cutoff\": 6, \"precision\": 0.0, \"review_profilename\": \"fear025\"}, {\"count\": 50, \"recall\": 0.0, \"cutoff\": 7, \"precision\": 0.0, \"review_profilename\": \"fear025\"}, {\"count\": 50, \"recall\": 0.0, \"cutoff\": 8, \"precision\": 0.0, \"review_profilename\": \"fear025\"}, {\"count\": 50, \"recall\": 0.0, \"cutoff\": 9, \"precision\": 0.0, \"review_profilename\": \"fear025\"}, {\"count\": 50, \"recall\": 0.02, \"cutoff\": 10, \"precision\": 0.1, \"review_profilename\": \"fear025\"}, {\"count\": 50, \"recall\": 0.02, \"cutoff\": 11, \"precision\": 0.09090909090909091, \"review_profilename\": \"fear025\"}, {\"count\": 50, \"recall\": 0.02, \"cutoff\": 16, \"precision\": 0.0625, \"review_profilename\": \"fear025\"}, {\"count\": 50, \"recall\": 0.04, \"cutoff\": 21, \"precision\": 0.09523809523809523, \"review_profilename\": \"fear025\"}, {\"count\": 50, \"recall\": 0.04, \"cutoff\": 26, \"precision\": 0.07692307692307693, \"review_profilename\": \"fear025\"}, {\"count\": 50, \"recall\": 0.04, \"cutoff\": 31, \"precision\": 0.06451612903225806, \"review_profilename\": \"fear025\"}, {\"count\": 50, \"recall\": 0.04, \"cutoff\": 36, \"precision\": 0.05555555555555555, \"review_profilename\": \"fear025\"}, {\"count\": 50, \"recall\": 0.04, \"cutoff\": 41, \"precision\": 0.04878048780487805, \"review_profilename\": \"fear025\"}, {\"count\": 50, \"recall\": 0.04, \"cutoff\": 46, \"precision\": 0.043478260869565216, \"review_profilename\": \"fear025\"}, {\"count\": 3, \"recall\": 0.3333333333333333, \"cutoff\": 1, \"precision\": 1.0, \"review_profilename\": \"hoosier3334\"}, {\"count\": 3, \"recall\": 0.3333333333333333, \"cutoff\": 2, \"precision\": 0.5, \"review_profilename\": \"hoosier3334\"}, {\"count\": 3, \"recall\": 0.3333333333333333, \"cutoff\": 3, \"precision\": 0.3333333333333333, \"review_profilename\": \"hoosier3334\"}, {\"count\": 3, \"recall\": 0.3333333333333333, \"cutoff\": 4, \"precision\": 0.25, \"review_profilename\": \"hoosier3334\"}, {\"count\": 3, \"recall\": 0.3333333333333333, \"cutoff\": 5, \"precision\": 0.2, \"review_profilename\": \"hoosier3334\"}, {\"count\": 3, \"recall\": 0.3333333333333333, \"cutoff\": 6, \"precision\": 0.16666666666666666, \"review_profilename\": \"hoosier3334\"}, {\"count\": 3, \"recall\": 0.3333333333333333, \"cutoff\": 7, \"precision\": 0.14285714285714285, \"review_profilename\": \"hoosier3334\"}, {\"count\": 3, \"recall\": 0.3333333333333333, \"cutoff\": 8, \"precision\": 0.125, \"review_profilename\": \"hoosier3334\"}, {\"count\": 3, \"recall\": 0.3333333333333333, \"cutoff\": 9, \"precision\": 0.1111111111111111, \"review_profilename\": \"hoosier3334\"}, {\"count\": 3, \"recall\": 0.3333333333333333, \"cutoff\": 10, \"precision\": 0.1, \"review_profilename\": \"hoosier3334\"}, {\"count\": 3, \"recall\": 0.3333333333333333, \"cutoff\": 11, \"precision\": 0.09090909090909091, \"review_profilename\": \"hoosier3334\"}, {\"count\": 3, \"recall\": 0.3333333333333333, \"cutoff\": 16, \"precision\": 0.0625, \"review_profilename\": \"hoosier3334\"}, {\"count\": 3, \"recall\": 0.3333333333333333, \"cutoff\": 21, \"precision\": 0.047619047619047616, \"review_profilename\": \"hoosier3334\"}, {\"count\": 3, \"recall\": 0.3333333333333333, \"cutoff\": 26, \"precision\": 0.038461538461538464, \"review_profilename\": \"hoosier3334\"}, {\"count\": 3, \"recall\": 0.3333333333333333, \"cutoff\": 31, \"precision\": 0.03225806451612903, \"review_profilename\": \"hoosier3334\"}, {\"count\": 3, \"recall\": 0.3333333333333333, \"cutoff\": 36, \"precision\": 0.027777777777777776, \"review_profilename\": \"hoosier3334\"}, {\"count\": 3, \"recall\": 0.3333333333333333, \"cutoff\": 41, \"precision\": 0.024390243902439025, \"review_profilename\": \"hoosier3334\"}, {\"count\": 3, \"recall\": 0.3333333333333333, \"cutoff\": 46, \"precision\": 0.021739130434782608, \"review_profilename\": \"hoosier3334\"}, {\"count\": 1, \"recall\": 0.0, \"cutoff\": 1, \"precision\": 0.0, \"review_profilename\": \"hopdoggiestyle\"}, {\"count\": 1, \"recall\": 0.0, \"cutoff\": 2, \"precision\": 0.0, \"review_profilename\": \"hopdoggiestyle\"}, {\"count\": 1, \"recall\": 0.0, \"cutoff\": 3, \"precision\": 0.0, \"review_profilename\": \"hopdoggiestyle\"}, {\"count\": 1, \"recall\": 0.0, \"cutoff\": 4, \"precision\": 0.0, \"review_profilename\": \"hopdoggiestyle\"}, {\"count\": 1, \"recall\": 0.0, \"cutoff\": 5, \"precision\": 0.0, \"review_profilename\": \"hopdoggiestyle\"}, {\"count\": 1, \"recall\": 0.0, \"cutoff\": 6, \"precision\": 0.0, \"review_profilename\": \"hopdoggiestyle\"}, {\"count\": 1, \"recall\": 0.0, \"cutoff\": 7, \"precision\": 0.0, \"review_profilename\": \"hopdoggiestyle\"}, {\"count\": 1, \"recall\": 0.0, \"cutoff\": 8, \"precision\": 0.0, \"review_profilename\": \"hopdoggiestyle\"}, {\"count\": 1, \"recall\": 0.0, \"cutoff\": 9, \"precision\": 0.0, \"review_profilename\": \"hopdoggiestyle\"}, {\"count\": 1, \"recall\": 0.0, \"cutoff\": 10, \"precision\": 0.0, \"review_profilename\": \"hopdoggiestyle\"}, {\"count\": 1, \"recall\": 0.0, \"cutoff\": 11, \"precision\": 0.0, \"review_profilename\": \"hopdoggiestyle\"}, {\"count\": 1, \"recall\": 0.0, \"cutoff\": 16, \"precision\": 0.0, \"review_profilename\": \"hopdoggiestyle\"}, {\"count\": 1, \"recall\": 0.0, \"cutoff\": 21, \"precision\": 0.0, \"review_profilename\": \"hopdoggiestyle\"}, {\"count\": 1, \"recall\": 0.0, \"cutoff\": 26, \"precision\": 0.0, \"review_profilename\": \"hopdoggiestyle\"}, {\"count\": 1, \"recall\": 0.0, \"cutoff\": 31, \"precision\": 0.0, \"review_profilename\": \"hopdoggiestyle\"}, {\"count\": 1, \"recall\": 0.0, \"cutoff\": 36, \"precision\": 0.0, \"review_profilename\": \"hopdoggiestyle\"}, {\"count\": 1, \"recall\": 0.0, \"cutoff\": 41, \"precision\": 0.0, \"review_profilename\": \"hopdoggiestyle\"}, {\"count\": 1, \"recall\": 0.0, \"cutoff\": 46, \"precision\": 0.0, \"review_profilename\": \"hopdoggiestyle\"}, {\"count\": 1, \"recall\": 0.0, \"cutoff\": 1, \"precision\": 0.0, \"review_profilename\": \"hyempdaddy\"}, {\"count\": 1, \"recall\": 0.0, \"cutoff\": 2, \"precision\": 0.0, \"review_profilename\": \"hyempdaddy\"}, {\"count\": 1, \"recall\": 0.0, \"cutoff\": 3, \"precision\": 0.0, \"review_profilename\": \"hyempdaddy\"}, {\"count\": 1, \"recall\": 0.0, \"cutoff\": 4, \"precision\": 0.0, \"review_profilename\": \"hyempdaddy\"}, {\"count\": 1, \"recall\": 0.0, \"cutoff\": 5, \"precision\": 0.0, \"review_profilename\": \"hyempdaddy\"}, {\"count\": 1, \"recall\": 0.0, \"cutoff\": 6, \"precision\": 0.0, \"review_profilename\": \"hyempdaddy\"}, {\"count\": 1, \"recall\": 0.0, \"cutoff\": 7, \"precision\": 0.0, \"review_profilename\": \"hyempdaddy\"}, {\"count\": 1, \"recall\": 0.0, \"cutoff\": 8, \"precision\": 0.0, \"review_profilename\": \"hyempdaddy\"}, {\"count\": 1, \"recall\": 0.0, \"cutoff\": 9, \"precision\": 0.0, \"review_profilename\": \"hyempdaddy\"}, {\"count\": 1, \"recall\": 0.0, \"cutoff\": 10, \"precision\": 0.0, \"review_profilename\": \"hyempdaddy\"}, {\"count\": 1, \"recall\": 0.0, \"cutoff\": 11, \"precision\": 0.0, \"review_profilename\": \"hyempdaddy\"}, {\"count\": 1, \"recall\": 0.0, \"cutoff\": 16, \"precision\": 0.0, \"review_profilename\": \"hyempdaddy\"}, {\"count\": 1, \"recall\": 0.0, \"cutoff\": 21, \"precision\": 0.0, \"review_profilename\": \"hyempdaddy\"}, {\"count\": 1, \"recall\": 0.0, \"cutoff\": 26, \"precision\": 0.0, \"review_profilename\": \"hyempdaddy\"}, {\"count\": 1, \"recall\": 0.0, \"cutoff\": 31, \"precision\": 0.0, \"review_profilename\": \"hyempdaddy\"}, {\"count\": 1, \"recall\": 0.0, \"cutoff\": 36, \"precision\": 0.0, \"review_profilename\": \"hyempdaddy\"}, {\"count\": 1, \"recall\": 0.0, \"cutoff\": 41, \"precision\": 0.0, \"review_profilename\": \"hyempdaddy\"}, {\"count\": 1, \"recall\": 0.0, \"cutoff\": 46, \"precision\": 0.0, \"review_profilename\": \"hyempdaddy\"}, {\"count\": 1, \"recall\": 0.0, \"cutoff\": 1, \"precision\": 0.0, \"review_profilename\": \"iddqd\"}, {\"count\": 1, \"recall\": 0.0, \"cutoff\": 2, \"precision\": 0.0, \"review_profilename\": \"iddqd\"}, {\"count\": 1, \"recall\": 0.0, \"cutoff\": 3, \"precision\": 0.0, \"review_profilename\": \"iddqd\"}, {\"count\": 1, \"recall\": 0.0, \"cutoff\": 4, \"precision\": 0.0, \"review_profilename\": \"iddqd\"}, {\"count\": 1, \"recall\": 0.0, \"cutoff\": 5, \"precision\": 0.0, \"review_profilename\": \"iddqd\"}, {\"count\": 1, \"recall\": 0.0, \"cutoff\": 6, \"precision\": 0.0, \"review_profilename\": \"iddqd\"}, {\"count\": 1, \"recall\": 0.0, \"cutoff\": 7, \"precision\": 0.0, \"review_profilename\": \"iddqd\"}, {\"count\": 1, \"recall\": 0.0, \"cutoff\": 8, \"precision\": 0.0, \"review_profilename\": \"iddqd\"}, {\"count\": 1, \"recall\": 0.0, \"cutoff\": 9, \"precision\": 0.0, \"review_profilename\": \"iddqd\"}, {\"count\": 1, \"recall\": 0.0, \"cutoff\": 10, \"precision\": 0.0, \"review_profilename\": \"iddqd\"}, {\"count\": 1, \"recall\": 0.0, \"cutoff\": 11, \"precision\": 0.0, \"review_profilename\": \"iddqd\"}, {\"count\": 1, \"recall\": 0.0, \"cutoff\": 16, \"precision\": 0.0, \"review_profilename\": \"iddqd\"}, {\"count\": 1, \"recall\": 0.0, \"cutoff\": 21, \"precision\": 0.0, \"review_profilename\": \"iddqd\"}, {\"count\": 1, \"recall\": 0.0, \"cutoff\": 26, \"precision\": 0.0, \"review_profilename\": \"iddqd\"}, {\"count\": 1, \"recall\": 0.0, \"cutoff\": 31, \"precision\": 0.0, \"review_profilename\": \"iddqd\"}, {\"count\": 1, \"recall\": 0.0, \"cutoff\": 36, \"precision\": 0.0, \"review_profilename\": \"iddqd\"}, {\"count\": 1, \"recall\": 0.0, \"cutoff\": 41, \"precision\": 0.0, \"review_profilename\": \"iddqd\"}, {\"count\": 1, \"recall\": 0.0, \"cutoff\": 46, \"precision\": 0.0, \"review_profilename\": \"iddqd\"}, {\"count\": 1, \"recall\": 0.0, \"cutoff\": 1, \"precision\": 0.0, \"review_profilename\": \"imperialhink\"}, {\"count\": 1, \"recall\": 0.0, \"cutoff\": 2, \"precision\": 0.0, \"review_profilename\": \"imperialhink\"}, {\"count\": 1, \"recall\": 0.0, \"cutoff\": 3, \"precision\": 0.0, \"review_profilename\": \"imperialhink\"}, {\"count\": 1, \"recall\": 0.0, \"cutoff\": 4, \"precision\": 0.0, \"review_profilename\": \"imperialhink\"}, {\"count\": 1, \"recall\": 0.0, \"cutoff\": 5, \"precision\": 0.0, \"review_profilename\": \"imperialhink\"}, {\"count\": 1, \"recall\": 0.0, \"cutoff\": 6, \"precision\": 0.0, \"review_profilename\": \"imperialhink\"}, {\"count\": 1, \"recall\": 0.0, \"cutoff\": 7, \"precision\": 0.0, \"review_profilename\": \"imperialhink\"}, {\"count\": 1, \"recall\": 0.0, \"cutoff\": 8, \"precision\": 0.0, \"review_profilename\": \"imperialhink\"}, {\"count\": 1, \"recall\": 0.0, \"cutoff\": 9, \"precision\": 0.0, \"review_profilename\": \"imperialhink\"}, {\"count\": 1, \"recall\": 0.0, \"cutoff\": 10, \"precision\": 0.0, \"review_profilename\": \"imperialhink\"}, {\"count\": 1, \"recall\": 0.0, \"cutoff\": 11, \"precision\": 0.0, \"review_profilename\": \"imperialhink\"}, {\"count\": 1, \"recall\": 0.0, \"cutoff\": 16, \"precision\": 0.0, \"review_profilename\": \"imperialhink\"}, {\"count\": 1, \"recall\": 0.0, \"cutoff\": 21, \"precision\": 0.0, \"review_profilename\": \"imperialhink\"}, {\"count\": 1, \"recall\": 0.0, \"cutoff\": 26, \"precision\": 0.0, \"review_profilename\": \"imperialhink\"}, {\"count\": 1, \"recall\": 0.0, \"cutoff\": 31, \"precision\": 0.0, \"review_profilename\": \"imperialhink\"}, {\"count\": 1, \"recall\": 0.0, \"cutoff\": 36, \"precision\": 0.0, \"review_profilename\": \"imperialhink\"}, {\"count\": 1, \"recall\": 0.0, \"cutoff\": 41, \"precision\": 0.0, \"review_profilename\": \"imperialhink\"}, {\"count\": 1, \"recall\": 0.0, \"cutoff\": 46, \"precision\": 0.0, \"review_profilename\": \"imperialhink\"}, {\"count\": 2, \"recall\": 0.0, \"cutoff\": 1, \"precision\": 0.0, \"review_profilename\": \"jaymp27\"}, {\"count\": 2, \"recall\": 0.0, \"cutoff\": 2, \"precision\": 0.0, \"review_profilename\": \"jaymp27\"}, {\"count\": 2, \"recall\": 0.0, \"cutoff\": 3, \"precision\": 0.0, \"review_profilename\": \"jaymp27\"}, {\"count\": 2, \"recall\": 0.0, \"cutoff\": 4, \"precision\": 0.0, \"review_profilename\": \"jaymp27\"}, {\"count\": 2, \"recall\": 0.0, \"cutoff\": 5, \"precision\": 0.0, \"review_profilename\": \"jaymp27\"}, {\"count\": 2, \"recall\": 0.0, \"cutoff\": 6, \"precision\": 0.0, \"review_profilename\": \"jaymp27\"}, {\"count\": 2, \"recall\": 0.0, \"cutoff\": 7, \"precision\": 0.0, \"review_profilename\": \"jaymp27\"}, {\"count\": 2, \"recall\": 0.0, \"cutoff\": 8, \"precision\": 0.0, \"review_profilename\": \"jaymp27\"}, {\"count\": 2, \"recall\": 0.0, \"cutoff\": 9, \"precision\": 0.0, \"review_profilename\": \"jaymp27\"}, {\"count\": 2, \"recall\": 0.0, \"cutoff\": 10, \"precision\": 0.0, \"review_profilename\": \"jaymp27\"}, {\"count\": 2, \"recall\": 0.0, \"cutoff\": 11, \"precision\": 0.0, \"review_profilename\": \"jaymp27\"}, {\"count\": 2, \"recall\": 0.0, \"cutoff\": 16, \"precision\": 0.0, \"review_profilename\": \"jaymp27\"}, {\"count\": 2, \"recall\": 0.0, \"cutoff\": 21, \"precision\": 0.0, \"review_profilename\": \"jaymp27\"}, {\"count\": 2, \"recall\": 0.0, \"cutoff\": 26, \"precision\": 0.0, \"review_profilename\": \"jaymp27\"}, {\"count\": 2, \"recall\": 0.0, \"cutoff\": 31, \"precision\": 0.0, \"review_profilename\": \"jaymp27\"}, {\"count\": 2, \"recall\": 0.0, \"cutoff\": 36, \"precision\": 0.0, \"review_profilename\": \"jaymp27\"}, {\"count\": 2, \"recall\": 0.0, \"cutoff\": 41, \"precision\": 0.0, \"review_profilename\": \"jaymp27\"}, {\"count\": 2, \"recall\": 0.0, \"cutoff\": 46, \"precision\": 0.0, \"review_profilename\": \"jaymp27\"}, {\"count\": 1, \"recall\": 0.0, \"cutoff\": 1, \"precision\": 0.0, \"review_profilename\": \"lifeguardjon\"}, {\"count\": 1, \"recall\": 0.0, \"cutoff\": 2, \"precision\": 0.0, \"review_profilename\": \"lifeguardjon\"}, {\"count\": 1, \"recall\": 0.0, \"cutoff\": 3, \"precision\": 0.0, \"review_profilename\": \"lifeguardjon\"}, {\"count\": 1, \"recall\": 0.0, \"cutoff\": 4, \"precision\": 0.0, \"review_profilename\": \"lifeguardjon\"}, {\"count\": 1, \"recall\": 0.0, \"cutoff\": 5, \"precision\": 0.0, \"review_profilename\": \"lifeguardjon\"}, {\"count\": 1, \"recall\": 0.0, \"cutoff\": 6, \"precision\": 0.0, \"review_profilename\": \"lifeguardjon\"}, {\"count\": 1, \"recall\": 0.0, \"cutoff\": 7, \"precision\": 0.0, \"review_profilename\": \"lifeguardjon\"}, {\"count\": 1, \"recall\": 0.0, \"cutoff\": 8, \"precision\": 0.0, \"review_profilename\": \"lifeguardjon\"}, {\"count\": 1, \"recall\": 0.0, \"cutoff\": 9, \"precision\": 0.0, \"review_profilename\": \"lifeguardjon\"}, {\"count\": 1, \"recall\": 0.0, \"cutoff\": 10, \"precision\": 0.0, \"review_profilename\": \"lifeguardjon\"}, {\"count\": 1, \"recall\": 0.0, \"cutoff\": 11, \"precision\": 0.0, \"review_profilename\": \"lifeguardjon\"}, {\"count\": 1, \"recall\": 0.0, \"cutoff\": 16, \"precision\": 0.0, \"review_profilename\": \"lifeguardjon\"}, {\"count\": 1, \"recall\": 0.0, \"cutoff\": 21, \"precision\": 0.0, \"review_profilename\": \"lifeguardjon\"}, {\"count\": 1, \"recall\": 0.0, \"cutoff\": 26, \"precision\": 0.0, \"review_profilename\": \"lifeguardjon\"}, {\"count\": 1, \"recall\": 0.0, \"cutoff\": 31, \"precision\": 0.0, \"review_profilename\": \"lifeguardjon\"}, {\"count\": 1, \"recall\": 0.0, \"cutoff\": 36, \"precision\": 0.0, \"review_profilename\": \"lifeguardjon\"}, {\"count\": 1, \"recall\": 0.0, \"cutoff\": 41, \"precision\": 0.0, \"review_profilename\": \"lifeguardjon\"}, {\"count\": 1, \"recall\": 0.0, \"cutoff\": 46, \"precision\": 0.0, \"review_profilename\": \"lifeguardjon\"}, {\"count\": 1, \"recall\": 0.0, \"cutoff\": 1, \"precision\": 0.0, \"review_profilename\": \"mnmorency\"}, {\"count\": 1, \"recall\": 0.0, \"cutoff\": 2, \"precision\": 0.0, \"review_profilename\": \"mnmorency\"}, {\"count\": 1, \"recall\": 0.0, \"cutoff\": 3, \"precision\": 0.0, \"review_profilename\": \"mnmorency\"}, {\"count\": 1, \"recall\": 0.0, \"cutoff\": 4, \"precision\": 0.0, \"review_profilename\": \"mnmorency\"}, {\"count\": 1, \"recall\": 0.0, \"cutoff\": 5, \"precision\": 0.0, \"review_profilename\": \"mnmorency\"}, {\"count\": 1, \"recall\": 0.0, \"cutoff\": 6, \"precision\": 0.0, \"review_profilename\": \"mnmorency\"}, {\"count\": 1, \"recall\": 0.0, \"cutoff\": 7, \"precision\": 0.0, \"review_profilename\": \"mnmorency\"}, {\"count\": 1, \"recall\": 0.0, \"cutoff\": 8, \"precision\": 0.0, \"review_profilename\": \"mnmorency\"}, {\"count\": 1, \"recall\": 0.0, \"cutoff\": 9, \"precision\": 0.0, \"review_profilename\": \"mnmorency\"}, {\"count\": 1, \"recall\": 0.0, \"cutoff\": 10, \"precision\": 0.0, \"review_profilename\": \"mnmorency\"}, {\"count\": 1, \"recall\": 0.0, \"cutoff\": 11, \"precision\": 0.0, \"review_profilename\": \"mnmorency\"}, {\"count\": 1, \"recall\": 0.0, \"cutoff\": 16, \"precision\": 0.0, \"review_profilename\": \"mnmorency\"}, {\"count\": 1, \"recall\": 0.0, \"cutoff\": 21, \"precision\": 0.0, \"review_profilename\": \"mnmorency\"}, {\"count\": 1, \"recall\": 0.0, \"cutoff\": 26, \"precision\": 0.0, \"review_profilename\": \"mnmorency\"}, {\"count\": 1, \"recall\": 0.0, \"cutoff\": 31, \"precision\": 0.0, \"review_profilename\": \"mnmorency\"}, {\"count\": 1, \"recall\": 0.0, \"cutoff\": 36, \"precision\": 0.0, \"review_profilename\": \"mnmorency\"}, {\"count\": 1, \"recall\": 0.0, \"cutoff\": 41, \"precision\": 0.0, \"review_profilename\": \"mnmorency\"}, {\"count\": 1, \"recall\": 0.0, \"cutoff\": 46, \"precision\": 0.0, \"review_profilename\": \"mnmorency\"}, {\"count\": 16, \"recall\": 0.0, \"cutoff\": 1, \"precision\": 0.0, \"review_profilename\": \"n00tz\"}, {\"count\": 16, \"recall\": 0.0, \"cutoff\": 2, \"precision\": 0.0, \"review_profilename\": \"n00tz\"}, {\"count\": 16, \"recall\": 0.0, \"cutoff\": 3, \"precision\": 0.0, \"review_profilename\": \"n00tz\"}, {\"count\": 16, \"recall\": 0.0625, \"cutoff\": 4, \"precision\": 0.25, \"review_profilename\": \"n00tz\"}, {\"count\": 16, \"recall\": 0.0625, \"cutoff\": 5, \"precision\": 0.2, \"review_profilename\": \"n00tz\"}, {\"count\": 16, \"recall\": 0.0625, \"cutoff\": 6, \"precision\": 0.16666666666666666, \"review_profilename\": \"n00tz\"}, {\"count\": 16, \"recall\": 0.0625, \"cutoff\": 7, \"precision\": 0.14285714285714285, \"review_profilename\": \"n00tz\"}, {\"count\": 16, \"recall\": 0.0625, \"cutoff\": 8, \"precision\": 0.125, \"review_profilename\": \"n00tz\"}, {\"count\": 16, \"recall\": 0.0625, \"cutoff\": 9, \"precision\": 0.1111111111111111, \"review_profilename\": \"n00tz\"}, {\"count\": 16, \"recall\": 0.0625, \"cutoff\": 10, \"precision\": 0.1, \"review_profilename\": \"n00tz\"}, {\"count\": 16, \"recall\": 0.125, \"cutoff\": 11, \"precision\": 0.18181818181818182, \"review_profilename\": \"n00tz\"}, {\"count\": 16, \"recall\": 0.1875, \"cutoff\": 16, \"precision\": 0.1875, \"review_profilename\": \"n00tz\"}, {\"count\": 16, \"recall\": 0.1875, \"cutoff\": 21, \"precision\": 0.14285714285714285, \"review_profilename\": \"n00tz\"}, {\"count\": 16, \"recall\": 0.25, \"cutoff\": 26, \"precision\": 0.15384615384615385, \"review_profilename\": \"n00tz\"}, {\"count\": 16, \"recall\": 0.25, \"cutoff\": 31, \"precision\": 0.12903225806451613, \"review_profilename\": \"n00tz\"}, {\"count\": 16, \"recall\": 0.25, \"cutoff\": 36, \"precision\": 0.1111111111111111, \"review_profilename\": \"n00tz\"}, {\"count\": 16, \"recall\": 0.25, \"cutoff\": 41, \"precision\": 0.0975609756097561, \"review_profilename\": \"n00tz\"}, {\"count\": 16, \"recall\": 0.3125, \"cutoff\": 46, \"precision\": 0.10869565217391304, \"review_profilename\": \"n00tz\"}, {\"count\": 2, \"recall\": 0.0, \"cutoff\": 1, \"precision\": 0.0, \"review_profilename\": \"nycjag\"}, {\"count\": 2, \"recall\": 0.0, \"cutoff\": 2, \"precision\": 0.0, \"review_profilename\": \"nycjag\"}, {\"count\": 2, \"recall\": 0.0, \"cutoff\": 3, \"precision\": 0.0, \"review_profilename\": \"nycjag\"}, {\"count\": 2, \"recall\": 0.0, \"cutoff\": 4, \"precision\": 0.0, \"review_profilename\": \"nycjag\"}, {\"count\": 2, \"recall\": 0.0, \"cutoff\": 5, \"precision\": 0.0, \"review_profilename\": \"nycjag\"}, {\"count\": 2, \"recall\": 0.0, \"cutoff\": 6, \"precision\": 0.0, \"review_profilename\": \"nycjag\"}, {\"count\": 2, \"recall\": 0.0, \"cutoff\": 7, \"precision\": 0.0, \"review_profilename\": \"nycjag\"}, {\"count\": 2, \"recall\": 0.0, \"cutoff\": 8, \"precision\": 0.0, \"review_profilename\": \"nycjag\"}, {\"count\": 2, \"recall\": 0.0, \"cutoff\": 9, \"precision\": 0.0, \"review_profilename\": \"nycjag\"}, {\"count\": 2, \"recall\": 0.0, \"cutoff\": 10, \"precision\": 0.0, \"review_profilename\": \"nycjag\"}, {\"count\": 2, \"recall\": 0.0, \"cutoff\": 11, \"precision\": 0.0, \"review_profilename\": \"nycjag\"}, {\"count\": 2, \"recall\": 0.0, \"cutoff\": 16, \"precision\": 0.0, \"review_profilename\": \"nycjag\"}, {\"count\": 2, \"recall\": 0.0, \"cutoff\": 21, \"precision\": 0.0, \"review_profilename\": \"nycjag\"}, {\"count\": 2, \"recall\": 0.0, \"cutoff\": 26, \"precision\": 0.0, \"review_profilename\": \"nycjag\"}, {\"count\": 2, \"recall\": 0.0, \"cutoff\": 31, \"precision\": 0.0, \"review_profilename\": \"nycjag\"}, {\"count\": 2, \"recall\": 0.0, \"cutoff\": 36, \"precision\": 0.0, \"review_profilename\": \"nycjag\"}, {\"count\": 2, \"recall\": 0.0, \"cutoff\": 41, \"precision\": 0.0, \"review_profilename\": \"nycjag\"}, {\"count\": 2, \"recall\": 0.0, \"cutoff\": 46, \"precision\": 0.0, \"review_profilename\": \"nycjag\"}, {\"count\": 2, \"recall\": 0.0, \"cutoff\": 1, \"precision\": 0.0, \"review_profilename\": \"orz\"}, {\"count\": 2, \"recall\": 0.0, \"cutoff\": 2, \"precision\": 0.0, \"review_profilename\": \"orz\"}, {\"count\": 2, \"recall\": 0.0, \"cutoff\": 3, \"precision\": 0.0, \"review_profilename\": \"orz\"}, {\"count\": 2, \"recall\": 0.0, \"cutoff\": 4, \"precision\": 0.0, \"review_profilename\": \"orz\"}, {\"count\": 2, \"recall\": 0.0, \"cutoff\": 5, \"precision\": 0.0, \"review_profilename\": \"orz\"}, {\"count\": 2, \"recall\": 0.0, \"cutoff\": 6, \"precision\": 0.0, \"review_profilename\": \"orz\"}, {\"count\": 2, \"recall\": 0.0, \"cutoff\": 7, \"precision\": 0.0, \"review_profilename\": \"orz\"}, {\"count\": 2, \"recall\": 0.0, \"cutoff\": 8, \"precision\": 0.0, \"review_profilename\": \"orz\"}, {\"count\": 2, \"recall\": 0.0, \"cutoff\": 9, \"precision\": 0.0, \"review_profilename\": \"orz\"}, {\"count\": 2, \"recall\": 0.5, \"cutoff\": 10, \"precision\": 0.1, \"review_profilename\": \"orz\"}, {\"count\": 2, \"recall\": 0.5, \"cutoff\": 11, \"precision\": 0.09090909090909091, \"review_profilename\": \"orz\"}, {\"count\": 2, \"recall\": 0.5, \"cutoff\": 16, \"precision\": 0.0625, \"review_profilename\": \"orz\"}, {\"count\": 2, \"recall\": 0.5, \"cutoff\": 21, \"precision\": 0.047619047619047616, \"review_profilename\": \"orz\"}, {\"count\": 2, \"recall\": 1.0, \"cutoff\": 26, \"precision\": 0.07692307692307693, \"review_profilename\": \"orz\"}, {\"count\": 2, \"recall\": 1.0, \"cutoff\": 31, \"precision\": 0.06451612903225806, \"review_profilename\": \"orz\"}, {\"count\": 2, \"recall\": 1.0, \"cutoff\": 36, \"precision\": 0.05555555555555555, \"review_profilename\": \"orz\"}, {\"count\": 2, \"recall\": 1.0, \"cutoff\": 41, \"precision\": 0.04878048780487805, \"review_profilename\": \"orz\"}, {\"count\": 2, \"recall\": 1.0, \"cutoff\": 46, \"precision\": 0.043478260869565216, \"review_profilename\": \"orz\"}, {\"count\": 2, \"recall\": 0.0, \"cutoff\": 1, \"precision\": 0.0, \"review_profilename\": \"psycle\"}, {\"count\": 2, \"recall\": 0.0, \"cutoff\": 2, \"precision\": 0.0, \"review_profilename\": \"psycle\"}, {\"count\": 2, \"recall\": 0.0, \"cutoff\": 3, \"precision\": 0.0, \"review_profilename\": \"psycle\"}, {\"count\": 2, \"recall\": 0.0, \"cutoff\": 4, \"precision\": 0.0, \"review_profilename\": \"psycle\"}, {\"count\": 2, \"recall\": 0.0, \"cutoff\": 5, \"precision\": 0.0, \"review_profilename\": \"psycle\"}, {\"count\": 2, \"recall\": 0.0, \"cutoff\": 6, \"precision\": 0.0, \"review_profilename\": \"psycle\"}, {\"count\": 2, \"recall\": 0.0, \"cutoff\": 7, \"precision\": 0.0, \"review_profilename\": \"psycle\"}, {\"count\": 2, \"recall\": 0.0, \"cutoff\": 8, \"precision\": 0.0, \"review_profilename\": \"psycle\"}, {\"count\": 2, \"recall\": 0.0, \"cutoff\": 9, \"precision\": 0.0, \"review_profilename\": \"psycle\"}, {\"count\": 2, \"recall\": 0.0, \"cutoff\": 10, \"precision\": 0.0, \"review_profilename\": \"psycle\"}, {\"count\": 2, \"recall\": 0.0, \"cutoff\": 11, \"precision\": 0.0, \"review_profilename\": \"psycle\"}, {\"count\": 2, \"recall\": 0.0, \"cutoff\": 16, \"precision\": 0.0, \"review_profilename\": \"psycle\"}, {\"count\": 2, \"recall\": 0.0, \"cutoff\": 21, \"precision\": 0.0, \"review_profilename\": \"psycle\"}, {\"count\": 2, \"recall\": 0.0, \"cutoff\": 26, \"precision\": 0.0, \"review_profilename\": \"psycle\"}, {\"count\": 2, \"recall\": 0.0, \"cutoff\": 31, \"precision\": 0.0, \"review_profilename\": \"psycle\"}, {\"count\": 2, \"recall\": 0.0, \"cutoff\": 36, \"precision\": 0.0, \"review_profilename\": \"psycle\"}, {\"count\": 2, \"recall\": 0.0, \"cutoff\": 41, \"precision\": 0.0, \"review_profilename\": \"psycle\"}, {\"count\": 2, \"recall\": 0.0, \"cutoff\": 46, \"precision\": 0.0, \"review_profilename\": \"psycle\"}, {\"count\": 1, \"recall\": 0.0, \"cutoff\": 1, \"precision\": 0.0, \"review_profilename\": \"socrates00\"}, {\"count\": 1, \"recall\": 0.0, \"cutoff\": 2, \"precision\": 0.0, \"review_profilename\": \"socrates00\"}, {\"count\": 1, \"recall\": 0.0, \"cutoff\": 3, \"precision\": 0.0, \"review_profilename\": \"socrates00\"}, {\"count\": 1, \"recall\": 0.0, \"cutoff\": 4, \"precision\": 0.0, \"review_profilename\": \"socrates00\"}, {\"count\": 1, \"recall\": 0.0, \"cutoff\": 5, \"precision\": 0.0, \"review_profilename\": \"socrates00\"}, {\"count\": 1, \"recall\": 0.0, \"cutoff\": 6, \"precision\": 0.0, \"review_profilename\": \"socrates00\"}, {\"count\": 1, \"recall\": 0.0, \"cutoff\": 7, \"precision\": 0.0, \"review_profilename\": \"socrates00\"}, {\"count\": 1, \"recall\": 0.0, \"cutoff\": 8, \"precision\": 0.0, \"review_profilename\": \"socrates00\"}, {\"count\": 1, \"recall\": 0.0, \"cutoff\": 9, \"precision\": 0.0, \"review_profilename\": \"socrates00\"}, {\"count\": 1, \"recall\": 0.0, \"cutoff\": 10, \"precision\": 0.0, \"review_profilename\": \"socrates00\"}, {\"count\": 1, \"recall\": 0.0, \"cutoff\": 11, \"precision\": 0.0, \"review_profilename\": \"socrates00\"}, {\"count\": 1, \"recall\": 0.0, \"cutoff\": 16, \"precision\": 0.0, \"review_profilename\": \"socrates00\"}, {\"count\": 1, \"recall\": 0.0, \"cutoff\": 21, \"precision\": 0.0, \"review_profilename\": \"socrates00\"}, {\"count\": 1, \"recall\": 0.0, \"cutoff\": 26, \"precision\": 0.0, \"review_profilename\": \"socrates00\"}, {\"count\": 1, \"recall\": 0.0, \"cutoff\": 31, \"precision\": 0.0, \"review_profilename\": \"socrates00\"}, {\"count\": 1, \"recall\": 0.0, \"cutoff\": 36, \"precision\": 0.0, \"review_profilename\": \"socrates00\"}, {\"count\": 1, \"recall\": 0.0, \"cutoff\": 41, \"precision\": 0.0, \"review_profilename\": \"socrates00\"}, {\"count\": 1, \"recall\": 0.0, \"cutoff\": 46, \"precision\": 0.0, \"review_profilename\": \"socrates00\"}, {\"count\": 7, \"recall\": 0.0, \"cutoff\": 1, \"precision\": 0.0, \"review_profilename\": \"srobertson59\"}, {\"count\": 7, \"recall\": 0.14285714285714285, \"cutoff\": 2, \"precision\": 0.5, \"review_profilename\": \"srobertson59\"}, {\"count\": 7, \"recall\": 0.2857142857142857, \"cutoff\": 3, \"precision\": 0.6666666666666666, \"review_profilename\": \"srobertson59\"}, {\"count\": 7, \"recall\": 0.2857142857142857, \"cutoff\": 4, \"precision\": 0.5, \"review_profilename\": \"srobertson59\"}, {\"count\": 7, \"recall\": 0.2857142857142857, \"cutoff\": 5, \"precision\": 0.4, \"review_profilename\": \"srobertson59\"}, {\"count\": 7, \"recall\": 0.2857142857142857, \"cutoff\": 6, \"precision\": 0.3333333333333333, \"review_profilename\": \"srobertson59\"}, {\"count\": 7, \"recall\": 0.2857142857142857, \"cutoff\": 7, \"precision\": 0.2857142857142857, \"review_profilename\": \"srobertson59\"}, {\"count\": 7, \"recall\": 0.2857142857142857, \"cutoff\": 8, \"precision\": 0.25, \"review_profilename\": \"srobertson59\"}, {\"count\": 7, \"recall\": 0.2857142857142857, \"cutoff\": 9, \"precision\": 0.2222222222222222, \"review_profilename\": \"srobertson59\"}, {\"count\": 7, \"recall\": 0.2857142857142857, \"cutoff\": 10, \"precision\": 0.2, \"review_profilename\": \"srobertson59\"}, {\"count\": 7, \"recall\": 0.2857142857142857, \"cutoff\": 11, \"precision\": 0.18181818181818182, \"review_profilename\": \"srobertson59\"}, {\"count\": 7, \"recall\": 0.2857142857142857, \"cutoff\": 16, \"precision\": 0.125, \"review_profilename\": \"srobertson59\"}, {\"count\": 7, \"recall\": 0.2857142857142857, \"cutoff\": 21, \"precision\": 0.09523809523809523, \"review_profilename\": \"srobertson59\"}, {\"count\": 7, \"recall\": 0.2857142857142857, \"cutoff\": 26, \"precision\": 0.07692307692307693, \"review_profilename\": \"srobertson59\"}, {\"count\": 7, \"recall\": 0.2857142857142857, \"cutoff\": 31, \"precision\": 0.06451612903225806, \"review_profilename\": \"srobertson59\"}, {\"count\": 7, \"recall\": 0.2857142857142857, \"cutoff\": 36, \"precision\": 0.05555555555555555, \"review_profilename\": \"srobertson59\"}, {\"count\": 7, \"recall\": 0.2857142857142857, \"cutoff\": 41, \"precision\": 0.04878048780487805, \"review_profilename\": \"srobertson59\"}, {\"count\": 7, \"recall\": 0.2857142857142857, \"cutoff\": 46, \"precision\": 0.043478260869565216, \"review_profilename\": \"srobertson59\"}, {\"count\": 1, \"recall\": 0.0, \"cutoff\": 1, \"precision\": 0.0, \"review_profilename\": \"steveo15\"}, {\"count\": 1, \"recall\": 0.0, \"cutoff\": 2, \"precision\": 0.0, \"review_profilename\": \"steveo15\"}, {\"count\": 1, \"recall\": 0.0, \"cutoff\": 3, \"precision\": 0.0, \"review_profilename\": \"steveo15\"}, {\"count\": 1, \"recall\": 0.0, \"cutoff\": 4, \"precision\": 0.0, \"review_profilename\": \"steveo15\"}, {\"count\": 1, \"recall\": 0.0, \"cutoff\": 5, \"precision\": 0.0, \"review_profilename\": \"steveo15\"}, {\"count\": 1, \"recall\": 0.0, \"cutoff\": 6, \"precision\": 0.0, \"review_profilename\": \"steveo15\"}, {\"count\": 1, \"recall\": 0.0, \"cutoff\": 7, \"precision\": 0.0, \"review_profilename\": \"steveo15\"}, {\"count\": 1, \"recall\": 0.0, \"cutoff\": 8, \"precision\": 0.0, \"review_profilename\": \"steveo15\"}, {\"count\": 1, \"recall\": 0.0, \"cutoff\": 9, \"precision\": 0.0, \"review_profilename\": \"steveo15\"}, {\"count\": 1, \"recall\": 0.0, \"cutoff\": 10, \"precision\": 0.0, \"review_profilename\": \"steveo15\"}, {\"count\": 1, \"recall\": 0.0, \"cutoff\": 11, \"precision\": 0.0, \"review_profilename\": \"steveo15\"}, {\"count\": 1, \"recall\": 0.0, \"cutoff\": 16, \"precision\": 0.0, \"review_profilename\": \"steveo15\"}, {\"count\": 1, \"recall\": 0.0, \"cutoff\": 21, \"precision\": 0.0, \"review_profilename\": \"steveo15\"}, {\"count\": 1, \"recall\": 0.0, \"cutoff\": 26, \"precision\": 0.0, \"review_profilename\": \"steveo15\"}, {\"count\": 1, \"recall\": 0.0, \"cutoff\": 31, \"precision\": 0.0, \"review_profilename\": \"steveo15\"}, {\"count\": 1, \"recall\": 0.0, \"cutoff\": 36, \"precision\": 0.0, \"review_profilename\": \"steveo15\"}, {\"count\": 1, \"recall\": 0.0, \"cutoff\": 41, \"precision\": 0.0, \"review_profilename\": \"steveo15\"}, {\"count\": 1, \"recall\": 0.0, \"cutoff\": 46, \"precision\": 0.0, \"review_profilename\": \"steveo15\"}, {\"count\": 2, \"recall\": 0.0, \"cutoff\": 1, \"precision\": 0.0, \"review_profilename\": \"tah908\"}, {\"count\": 2, \"recall\": 0.0, \"cutoff\": 2, \"precision\": 0.0, \"review_profilename\": \"tah908\"}, {\"count\": 2, \"recall\": 0.0, \"cutoff\": 3, \"precision\": 0.0, \"review_profilename\": \"tah908\"}, {\"count\": 2, \"recall\": 0.0, \"cutoff\": 4, \"precision\": 0.0, \"review_profilename\": \"tah908\"}, {\"count\": 2, \"recall\": 0.0, \"cutoff\": 5, \"precision\": 0.0, \"review_profilename\": \"tah908\"}, {\"count\": 2, \"recall\": 0.0, \"cutoff\": 6, \"precision\": 0.0, \"review_profilename\": \"tah908\"}, {\"count\": 2, \"recall\": 0.0, \"cutoff\": 7, \"precision\": 0.0, \"review_profilename\": \"tah908\"}, {\"count\": 2, \"recall\": 0.0, \"cutoff\": 8, \"precision\": 0.0, \"review_profilename\": \"tah908\"}, {\"count\": 2, \"recall\": 0.0, \"cutoff\": 9, \"precision\": 0.0, \"review_profilename\": \"tah908\"}, {\"count\": 2, \"recall\": 0.0, \"cutoff\": 10, \"precision\": 0.0, \"review_profilename\": \"tah908\"}, {\"count\": 2, \"recall\": 0.0, \"cutoff\": 11, \"precision\": 0.0, \"review_profilename\": \"tah908\"}, {\"count\": 2, \"recall\": 0.0, \"cutoff\": 16, \"precision\": 0.0, \"review_profilename\": \"tah908\"}, {\"count\": 2, \"recall\": 0.0, \"cutoff\": 21, \"precision\": 0.0, \"review_profilename\": \"tah908\"}, {\"count\": 2, \"recall\": 0.0, \"cutoff\": 26, \"precision\": 0.0, \"review_profilename\": \"tah908\"}, {\"count\": 2, \"recall\": 0.0, \"cutoff\": 31, \"precision\": 0.0, \"review_profilename\": \"tah908\"}, {\"count\": 2, \"recall\": 0.0, \"cutoff\": 36, \"precision\": 0.0, \"review_profilename\": \"tah908\"}, {\"count\": 2, \"recall\": 0.0, \"cutoff\": 41, \"precision\": 0.0, \"review_profilename\": \"tah908\"}, {\"count\": 2, \"recall\": 0.0, \"cutoff\": 46, \"precision\": 0.0, \"review_profilename\": \"tah908\"}, {\"count\": 9, \"recall\": 0.0, \"cutoff\": 1, \"precision\": 0.0, \"review_profilename\": \"thinkbreakfast\"}, {\"count\": 9, \"recall\": 0.0, \"cutoff\": 2, \"precision\": 0.0, \"review_profilename\": \"thinkbreakfast\"}, {\"count\": 9, \"recall\": 0.0, \"cutoff\": 3, \"precision\": 0.0, \"review_profilename\": \"thinkbreakfast\"}, {\"count\": 9, \"recall\": 0.0, \"cutoff\": 4, \"precision\": 0.0, \"review_profilename\": \"thinkbreakfast\"}, {\"count\": 9, \"recall\": 0.0, \"cutoff\": 5, \"precision\": 0.0, \"review_profilename\": \"thinkbreakfast\"}, {\"count\": 9, \"recall\": 0.0, \"cutoff\": 6, \"precision\": 0.0, \"review_profilename\": \"thinkbreakfast\"}, {\"count\": 9, \"recall\": 0.1111111111111111, \"cutoff\": 7, \"precision\": 0.14285714285714285, \"review_profilename\": \"thinkbreakfast\"}, {\"count\": 9, \"recall\": 0.1111111111111111, \"cutoff\": 8, \"precision\": 0.125, \"review_profilename\": \"thinkbreakfast\"}, {\"count\": 9, \"recall\": 0.1111111111111111, \"cutoff\": 9, \"precision\": 0.1111111111111111, \"review_profilename\": \"thinkbreakfast\"}, {\"count\": 9, \"recall\": 0.1111111111111111, \"cutoff\": 10, \"precision\": 0.1, \"review_profilename\": \"thinkbreakfast\"}, {\"count\": 9, \"recall\": 0.1111111111111111, \"cutoff\": 11, \"precision\": 0.09090909090909091, \"review_profilename\": \"thinkbreakfast\"}, {\"count\": 9, \"recall\": 0.1111111111111111, \"cutoff\": 16, \"precision\": 0.0625, \"review_profilename\": \"thinkbreakfast\"}, {\"count\": 9, \"recall\": 0.1111111111111111, \"cutoff\": 21, \"precision\": 0.047619047619047616, \"review_profilename\": \"thinkbreakfast\"}, {\"count\": 9, \"recall\": 0.1111111111111111, \"cutoff\": 26, \"precision\": 0.038461538461538464, \"review_profilename\": \"thinkbreakfast\"}, {\"count\": 9, \"recall\": 0.1111111111111111, \"cutoff\": 31, \"precision\": 0.03225806451612903, \"review_profilename\": \"thinkbreakfast\"}, {\"count\": 9, \"recall\": 0.1111111111111111, \"cutoff\": 36, \"precision\": 0.027777777777777776, \"review_profilename\": \"thinkbreakfast\"}, {\"count\": 9, \"recall\": 0.2222222222222222, \"cutoff\": 41, \"precision\": 0.04878048780487805, \"review_profilename\": \"thinkbreakfast\"}, {\"count\": 9, \"recall\": 0.2222222222222222, \"cutoff\": 46, \"precision\": 0.043478260869565216, \"review_profilename\": \"thinkbreakfast\"}, {\"count\": 1, \"recall\": 0.0, \"cutoff\": 1, \"precision\": 0.0, \"review_profilename\": \"waltaburge\"}, {\"count\": 1, \"recall\": 0.0, \"cutoff\": 2, \"precision\": 0.0, \"review_profilename\": \"waltaburge\"}, {\"count\": 1, \"recall\": 0.0, \"cutoff\": 3, \"precision\": 0.0, \"review_profilename\": \"waltaburge\"}, {\"count\": 1, \"recall\": 0.0, \"cutoff\": 4, \"precision\": 0.0, \"review_profilename\": \"waltaburge\"}, {\"count\": 1, \"recall\": 0.0, \"cutoff\": 5, \"precision\": 0.0, \"review_profilename\": \"waltaburge\"}, {\"count\": 1, \"recall\": 0.0, \"cutoff\": 6, \"precision\": 0.0, \"review_profilename\": \"waltaburge\"}, {\"count\": 1, \"recall\": 0.0, \"cutoff\": 7, \"precision\": 0.0, \"review_profilename\": \"waltaburge\"}, {\"count\": 1, \"recall\": 0.0, \"cutoff\": 8, \"precision\": 0.0, \"review_profilename\": \"waltaburge\"}, {\"count\": 1, \"recall\": 0.0, \"cutoff\": 9, \"precision\": 0.0, \"review_profilename\": \"waltaburge\"}, {\"count\": 1, \"recall\": 0.0, \"cutoff\": 10, \"precision\": 0.0, \"review_profilename\": \"waltaburge\"}, {\"count\": 1, \"recall\": 0.0, \"cutoff\": 11, \"precision\": 0.0, \"review_profilename\": \"waltaburge\"}, {\"count\": 1, \"recall\": 0.0, \"cutoff\": 16, \"precision\": 0.0, \"review_profilename\": \"waltaburge\"}, {\"count\": 1, \"recall\": 0.0, \"cutoff\": 21, \"precision\": 0.0, \"review_profilename\": \"waltaburge\"}, {\"count\": 1, \"recall\": 0.0, \"cutoff\": 26, \"precision\": 0.0, \"review_profilename\": \"waltaburge\"}, {\"count\": 1, \"recall\": 0.0, \"cutoff\": 31, \"precision\": 0.0, \"review_profilename\": \"waltaburge\"}, {\"count\": 1, \"recall\": 0.0, \"cutoff\": 36, \"precision\": 0.0, \"review_profilename\": \"waltaburge\"}, {\"count\": 1, \"recall\": 0.0, \"cutoff\": 41, \"precision\": 0.0, \"review_profilename\": \"waltaburge\"}, {\"count\": 1, \"recall\": 0.0, \"cutoff\": 46, \"precision\": 0.0, \"review_profilename\": \"waltaburge\"}]}]], \"type\": \"Model\"}, \"ipython\": true, \"view_params\": {\"model_type\": \"recommender\", \"view\": \"Comparison\"}, \"model_type\": \"recommender\", \"attributes\": {\"section_titles\": [\"Schema\", \"Statistics\", \"Training summary\", \"Model Parameters\", \"Other Settings\"], \"sections\": [[[\"User ID\", \"review_profilename\"], [\"Item ID\", \"beer_name\"], [\"Target\", \"review_overall\"], [\"Additional observation features\", 0], [\"User side features\", []], [\"Item side features\", []]], [[\"Number of observations\", 1518062], [\"Number of users\", 32901], [\"Number of items\", 44079]], [[\"Training time\", 25.6685]], [[\"Model class\", \"ItemSimilarityRecommender\"], [\"threshold\", 0.001], [\"similarity_type\", \"cosine\"], [\"training_method\", \"auto\"]], [[\"degree_approximation_threshold\", 4096], [\"sparse_density_estimation_sample_size\", 4096], [\"max_data_passes\", 4096], [\"target_memory_usage\", 8589934592], [\"seed_item_set_size\", 50], [\"nearest_neighbors_interaction_proportion_threshold\", 0.05], [\"max_item_neighborhood_size\", 5]]]}, \"evaluations\": [[\"dataset\", {\"precision_recall_overall\": [{\"cutoff\": 1, \"precision\": 0.1206896551724138, \"recall\": 0.04917631564119901}, {\"cutoff\": 2, \"precision\": 0.08620689655172414, \"recall\": 0.05280582912451624}, {\"cutoff\": 3, \"precision\": 0.08620689655172413, \"recall\": 0.06324699360051898}, {\"cutoff\": 4, \"precision\": 0.09051724137931039, \"recall\": 0.06650555482362182}, {\"cutoff\": 5, \"precision\": 0.08965517241379314, \"recall\": 0.07150853795341833}, {\"cutoff\": 6, \"precision\": 0.08620689655172416, \"recall\": 0.07274890861117034}, {\"cutoff\": 7, \"precision\": 0.0812807881773399, \"recall\": 0.07500704020839982}, {\"cutoff\": 8, \"precision\": 0.07974137931034479, \"recall\": 0.07765234147153832}, {\"cutoff\": 9, \"precision\": 0.07854406130268196, \"recall\": 0.08182706226191629}, {\"cutoff\": 10, \"precision\": 0.07758620689655175, \"recall\": 0.09101615086838628}, {\"cutoff\": 11, \"precision\": 0.07836990595611286, \"recall\": 0.09358167625646546}, {\"cutoff\": 16, \"precision\": 0.0743534482758621, \"recall\": 0.11012426336728486}, {\"cutoff\": 21, \"precision\": 0.0632183908045977, \"recall\": 0.1169267748296346}, {\"cutoff\": 26, \"precision\": 0.05835543766578249, \"recall\": 0.12985029288427638}, {\"cutoff\": 31, \"precision\": 0.05561735261401558, \"recall\": 0.1422092653330826}, {\"cutoff\": 36, \"precision\": 0.04932950191570881, \"recall\": 0.1446049257916233}, {\"cutoff\": 41, \"precision\": 0.04457527333894028, \"recall\": 0.14687890424483654}, {\"cutoff\": 46, \"precision\": 0.041979010494752625, \"recall\": 0.15475545059302398}], \"precision_recall_by_user\": [{\"count\": 3, \"recall\": 0.0, \"cutoff\": 1, \"precision\": 0.0, \"review_profilename\": \"2oose\"}, {\"count\": 3, \"recall\": 0.0, \"cutoff\": 2, \"precision\": 0.0, \"review_profilename\": \"2oose\"}, {\"count\": 3, \"recall\": 0.0, \"cutoff\": 3, \"precision\": 0.0, \"review_profilename\": \"2oose\"}, {\"count\": 3, \"recall\": 0.0, \"cutoff\": 4, \"precision\": 0.0, \"review_profilename\": \"2oose\"}, {\"count\": 3, \"recall\": 0.0, \"cutoff\": 5, \"precision\": 0.0, \"review_profilename\": \"2oose\"}, {\"count\": 3, \"recall\": 0.0, \"cutoff\": 6, \"precision\": 0.0, \"review_profilename\": \"2oose\"}, {\"count\": 3, \"recall\": 0.0, \"cutoff\": 7, \"precision\": 0.0, \"review_profilename\": \"2oose\"}, {\"count\": 3, \"recall\": 0.0, \"cutoff\": 8, \"precision\": 0.0, \"review_profilename\": \"2oose\"}, {\"count\": 3, \"recall\": 0.0, \"cutoff\": 9, \"precision\": 0.0, \"review_profilename\": \"2oose\"}, {\"count\": 3, \"recall\": 0.0, \"cutoff\": 10, \"precision\": 0.0, \"review_profilename\": \"2oose\"}, {\"count\": 3, \"recall\": 0.0, \"cutoff\": 11, \"precision\": 0.0, \"review_profilename\": \"2oose\"}, {\"count\": 3, \"recall\": 0.0, \"cutoff\": 16, \"precision\": 0.0, \"review_profilename\": \"2oose\"}, {\"count\": 3, \"recall\": 0.0, \"cutoff\": 21, \"precision\": 0.0, \"review_profilename\": \"2oose\"}, {\"count\": 3, \"recall\": 0.0, \"cutoff\": 26, \"precision\": 0.0, \"review_profilename\": \"2oose\"}, {\"count\": 3, \"recall\": 0.0, \"cutoff\": 31, \"precision\": 0.0, \"review_profilename\": \"2oose\"}, {\"count\": 3, \"recall\": 0.0, \"cutoff\": 36, \"precision\": 0.0, \"review_profilename\": \"2oose\"}, {\"count\": 3, \"recall\": 0.0, \"cutoff\": 41, \"precision\": 0.0, \"review_profilename\": \"2oose\"}, {\"count\": 3, \"recall\": 0.0, \"cutoff\": 46, \"precision\": 0.0, \"review_profilename\": \"2oose\"}, {\"count\": 9, \"recall\": 0.1111111111111111, \"cutoff\": 1, \"precision\": 1.0, \"review_profilename\": \"AlexF\"}, {\"count\": 9, \"recall\": 0.1111111111111111, \"cutoff\": 2, \"precision\": 0.5, \"review_profilename\": \"AlexF\"}, {\"count\": 9, \"recall\": 0.1111111111111111, \"cutoff\": 3, \"precision\": 0.3333333333333333, \"review_profilename\": \"AlexF\"}, {\"count\": 9, \"recall\": 0.1111111111111111, \"cutoff\": 4, \"precision\": 0.25, \"review_profilename\": \"AlexF\"}, {\"count\": 9, \"recall\": 0.1111111111111111, \"cutoff\": 5, \"precision\": 0.2, \"review_profilename\": \"AlexF\"}, {\"count\": 9, \"recall\": 0.1111111111111111, \"cutoff\": 6, \"precision\": 0.16666666666666666, \"review_profilename\": \"AlexF\"}, {\"count\": 9, \"recall\": 0.1111111111111111, \"cutoff\": 7, \"precision\": 0.14285714285714285, \"review_profilename\": \"AlexF\"}, {\"count\": 9, \"recall\": 0.1111111111111111, \"cutoff\": 8, \"precision\": 0.125, \"review_profilename\": \"AlexF\"}, {\"count\": 9, \"recall\": 0.1111111111111111, \"cutoff\": 9, \"precision\": 0.1111111111111111, \"review_profilename\": \"AlexF\"}, {\"count\": 9, \"recall\": 0.1111111111111111, \"cutoff\": 10, \"precision\": 0.1, \"review_profilename\": \"AlexF\"}, {\"count\": 9, \"recall\": 0.1111111111111111, \"cutoff\": 11, \"precision\": 0.09090909090909091, \"review_profilename\": \"AlexF\"}, {\"count\": 9, \"recall\": 0.2222222222222222, \"cutoff\": 16, \"precision\": 0.125, \"review_profilename\": \"AlexF\"}, {\"count\": 9, \"recall\": 0.2222222222222222, \"cutoff\": 21, \"precision\": 0.09523809523809523, \"review_profilename\": \"AlexF\"}, {\"count\": 9, \"recall\": 0.2222222222222222, \"cutoff\": 26, \"precision\": 0.07692307692307693, \"review_profilename\": \"AlexF\"}, {\"count\": 9, \"recall\": 0.2222222222222222, \"cutoff\": 31, \"precision\": 0.06451612903225806, \"review_profilename\": \"AlexF\"}, {\"count\": 9, \"recall\": 0.2222222222222222, \"cutoff\": 36, \"precision\": 0.05555555555555555, \"review_profilename\": \"AlexF\"}, {\"count\": 9, \"recall\": 0.2222222222222222, \"cutoff\": 41, \"precision\": 0.04878048780487805, \"review_profilename\": \"AlexF\"}, {\"count\": 9, \"recall\": 0.2222222222222222, \"cutoff\": 46, \"precision\": 0.043478260869565216, \"review_profilename\": \"AlexF\"}, {\"count\": 6, \"recall\": 0.0, \"cutoff\": 1, \"precision\": 0.0, \"review_profilename\": \"Andrew644\"}, {\"count\": 6, \"recall\": 0.0, \"cutoff\": 2, \"precision\": 0.0, \"review_profilename\": \"Andrew644\"}, {\"count\": 6, \"recall\": 0.0, \"cutoff\": 3, \"precision\": 0.0, \"review_profilename\": \"Andrew644\"}, {\"count\": 6, \"recall\": 0.0, \"cutoff\": 4, \"precision\": 0.0, \"review_profilename\": \"Andrew644\"}, {\"count\": 6, \"recall\": 0.0, \"cutoff\": 5, \"precision\": 0.0, \"review_profilename\": \"Andrew644\"}, {\"count\": 6, \"recall\": 0.0, \"cutoff\": 6, \"precision\": 0.0, \"review_profilename\": \"Andrew644\"}, {\"count\": 6, \"recall\": 0.0, \"cutoff\": 7, \"precision\": 0.0, \"review_profilename\": \"Andrew644\"}, {\"count\": 6, \"recall\": 0.0, \"cutoff\": 8, \"precision\": 0.0, \"review_profilename\": \"Andrew644\"}, {\"count\": 6, \"recall\": 0.16666666666666666, \"cutoff\": 9, \"precision\": 0.1111111111111111, \"review_profilename\": \"Andrew644\"}, {\"count\": 6, \"recall\": 0.16666666666666666, \"cutoff\": 10, \"precision\": 0.1, \"review_profilename\": \"Andrew644\"}, {\"count\": 6, \"recall\": 0.16666666666666666, \"cutoff\": 11, \"precision\": 0.09090909090909091, \"review_profilename\": \"Andrew644\"}, {\"count\": 6, \"recall\": 0.16666666666666666, \"cutoff\": 16, \"precision\": 0.0625, \"review_profilename\": \"Andrew644\"}, {\"count\": 6, \"recall\": 0.16666666666666666, \"cutoff\": 21, \"precision\": 0.047619047619047616, \"review_profilename\": \"Andrew644\"}, {\"count\": 6, \"recall\": 0.16666666666666666, \"cutoff\": 26, \"precision\": 0.038461538461538464, \"review_profilename\": \"Andrew644\"}, {\"count\": 6, \"recall\": 0.3333333333333333, \"cutoff\": 31, \"precision\": 0.06451612903225806, \"review_profilename\": \"Andrew644\"}, {\"count\": 6, \"recall\": 0.3333333333333333, \"cutoff\": 36, \"precision\": 0.05555555555555555, \"review_profilename\": \"Andrew644\"}, {\"count\": 6, \"recall\": 0.3333333333333333, \"cutoff\": 41, \"precision\": 0.04878048780487805, \"review_profilename\": \"Andrew644\"}, {\"count\": 6, \"recall\": 0.5, \"cutoff\": 46, \"precision\": 0.06521739130434782, \"review_profilename\": \"Andrew644\"}, {\"count\": 1, \"recall\": 1.0, \"cutoff\": 1, \"precision\": 1.0, \"review_profilename\": \"AxelTheRed\"}, {\"count\": 1, \"recall\": 1.0, \"cutoff\": 2, \"precision\": 0.5, \"review_profilename\": \"AxelTheRed\"}, {\"count\": 1, \"recall\": 1.0, \"cutoff\": 3, \"precision\": 0.3333333333333333, \"review_profilename\": \"AxelTheRed\"}, {\"count\": 1, \"recall\": 1.0, \"cutoff\": 4, \"precision\": 0.25, \"review_profilename\": \"AxelTheRed\"}, {\"count\": 1, \"recall\": 1.0, \"cutoff\": 5, \"precision\": 0.2, \"review_profilename\": \"AxelTheRed\"}, {\"count\": 1, \"recall\": 1.0, \"cutoff\": 6, \"precision\": 0.16666666666666666, \"review_profilename\": \"AxelTheRed\"}, {\"count\": 1, \"recall\": 1.0, \"cutoff\": 7, \"precision\": 0.14285714285714285, \"review_profilename\": \"AxelTheRed\"}, {\"count\": 1, \"recall\": 1.0, \"cutoff\": 8, \"precision\": 0.125, \"review_profilename\": \"AxelTheRed\"}, {\"count\": 1, \"recall\": 1.0, \"cutoff\": 9, \"precision\": 0.1111111111111111, \"review_profilename\": \"AxelTheRed\"}, {\"count\": 1, \"recall\": 1.0, \"cutoff\": 10, \"precision\": 0.1, \"review_profilename\": \"AxelTheRed\"}, {\"count\": 1, \"recall\": 1.0, \"cutoff\": 11, \"precision\": 0.09090909090909091, \"review_profilename\": \"AxelTheRed\"}, {\"count\": 1, \"recall\": 1.0, \"cutoff\": 16, \"precision\": 0.0625, \"review_profilename\": \"AxelTheRed\"}, {\"count\": 1, \"recall\": 1.0, \"cutoff\": 21, \"precision\": 0.047619047619047616, \"review_profilename\": \"AxelTheRed\"}, {\"count\": 1, \"recall\": 1.0, \"cutoff\": 26, \"precision\": 0.038461538461538464, \"review_profilename\": \"AxelTheRed\"}, {\"count\": 1, \"recall\": 1.0, \"cutoff\": 31, \"precision\": 0.03225806451612903, \"review_profilename\": \"AxelTheRed\"}, {\"count\": 1, \"recall\": 1.0, \"cutoff\": 36, \"precision\": 0.027777777777777776, \"review_profilename\": \"AxelTheRed\"}, {\"count\": 1, \"recall\": 1.0, \"cutoff\": 41, \"precision\": 0.024390243902439025, \"review_profilename\": \"AxelTheRed\"}, {\"count\": 1, \"recall\": 1.0, \"cutoff\": 46, \"precision\": 0.021739130434782608, \"review_profilename\": \"AxelTheRed\"}, {\"count\": 1, \"recall\": 0.0, \"cutoff\": 1, \"precision\": 0.0, \"review_profilename\": \"Chumley\"}, {\"count\": 1, \"recall\": 0.0, \"cutoff\": 2, \"precision\": 0.0, \"review_profilename\": \"Chumley\"}, {\"count\": 1, \"recall\": 0.0, \"cutoff\": 3, \"precision\": 0.0, \"review_profilename\": \"Chumley\"}, {\"count\": 1, \"recall\": 0.0, \"cutoff\": 4, \"precision\": 0.0, \"review_profilename\": \"Chumley\"}, {\"count\": 1, \"recall\": 0.0, \"cutoff\": 5, \"precision\": 0.0, \"review_profilename\": \"Chumley\"}, {\"count\": 1, \"recall\": 0.0, \"cutoff\": 6, \"precision\": 0.0, \"review_profilename\": \"Chumley\"}, {\"count\": 1, \"recall\": 0.0, \"cutoff\": 7, \"precision\": 0.0, \"review_profilename\": \"Chumley\"}, {\"count\": 1, \"recall\": 0.0, \"cutoff\": 8, \"precision\": 0.0, \"review_profilename\": \"Chumley\"}, {\"count\": 1, \"recall\": 0.0, \"cutoff\": 9, \"precision\": 0.0, \"review_profilename\": \"Chumley\"}, {\"count\": 1, \"recall\": 0.0, \"cutoff\": 10, \"precision\": 0.0, \"review_profilename\": \"Chumley\"}, {\"count\": 1, \"recall\": 0.0, \"cutoff\": 11, \"precision\": 0.0, \"review_profilename\": \"Chumley\"}, {\"count\": 1, \"recall\": 0.0, \"cutoff\": 16, \"precision\": 0.0, \"review_profilename\": \"Chumley\"}, {\"count\": 1, \"recall\": 0.0, \"cutoff\": 21, \"precision\": 0.0, \"review_profilename\": \"Chumley\"}, {\"count\": 1, \"recall\": 0.0, \"cutoff\": 26, \"precision\": 0.0, \"review_profilename\": \"Chumley\"}, {\"count\": 1, \"recall\": 0.0, \"cutoff\": 31, \"precision\": 0.0, \"review_profilename\": \"Chumley\"}, {\"count\": 1, \"recall\": 0.0, \"cutoff\": 36, \"precision\": 0.0, \"review_profilename\": \"Chumley\"}, {\"count\": 1, \"recall\": 0.0, \"cutoff\": 41, \"precision\": 0.0, \"review_profilename\": \"Chumley\"}, {\"count\": 1, \"recall\": 0.0, \"cutoff\": 46, \"precision\": 0.0, \"review_profilename\": \"Chumley\"}, {\"count\": 194, \"recall\": 0.0, \"cutoff\": 1, \"precision\": 0.0, \"review_profilename\": \"DIM\"}, {\"count\": 194, \"recall\": 0.005154639175257732, \"cutoff\": 2, \"precision\": 0.5, \"review_profilename\": \"DIM\"}, {\"count\": 194, \"recall\": 0.010309278350515464, \"cutoff\": 3, \"precision\": 0.6666666666666666, \"review_profilename\": \"DIM\"}, {\"count\": 194, \"recall\": 0.015463917525773196, \"cutoff\": 4, \"precision\": 0.75, \"review_profilename\": \"DIM\"}, {\"count\": 194, \"recall\": 0.020618556701030927, \"cutoff\": 5, \"precision\": 0.8, \"review_profilename\": \"DIM\"}, {\"count\": 194, \"recall\": 0.02577319587628866, \"cutoff\": 6, \"precision\": 0.8333333333333334, \"review_profilename\": \"DIM\"}, {\"count\": 194, \"recall\": 0.030927835051546393, \"cutoff\": 7, \"precision\": 0.8571428571428571, \"review_profilename\": \"DIM\"}, {\"count\": 194, \"recall\": 0.030927835051546393, \"cutoff\": 8, \"precision\": 0.75, \"review_profilename\": \"DIM\"}, {\"count\": 194, \"recall\": 0.03608247422680412, \"cutoff\": 9, \"precision\": 0.7777777777777778, \"review_profilename\": \"DIM\"}, {\"count\": 194, \"recall\": 0.041237113402061855, \"cutoff\": 10, \"precision\": 0.8, \"review_profilename\": \"DIM\"}, {\"count\": 194, \"recall\": 0.04639175257731959, \"cutoff\": 11, \"precision\": 0.8181818181818182, \"review_profilename\": \"DIM\"}, {\"count\": 194, \"recall\": 0.06701030927835051, \"cutoff\": 16, \"precision\": 0.8125, \"review_profilename\": \"DIM\"}, {\"count\": 194, \"recall\": 0.07216494845360824, \"cutoff\": 21, \"precision\": 0.6666666666666666, \"review_profilename\": \"DIM\"}, {\"count\": 194, \"recall\": 0.07731958762886598, \"cutoff\": 26, \"precision\": 0.5769230769230769, \"review_profilename\": \"DIM\"}, {\"count\": 194, \"recall\": 0.08762886597938144, \"cutoff\": 31, \"precision\": 0.5483870967741935, \"review_profilename\": \"DIM\"}, {\"count\": 194, \"recall\": 0.08762886597938144, \"cutoff\": 36, \"precision\": 0.4722222222222222, \"review_profilename\": \"DIM\"}, {\"count\": 194, \"recall\": 0.09278350515463918, \"cutoff\": 41, \"precision\": 0.43902439024390244, \"review_profilename\": \"DIM\"}, {\"count\": 194, \"recall\": 0.0979381443298969, \"cutoff\": 46, \"precision\": 0.41304347826086957, \"review_profilename\": \"DIM\"}, {\"count\": 1, \"recall\": 0.0, \"cutoff\": 1, \"precision\": 0.0, \"review_profilename\": \"DonaCake\"}, {\"count\": 1, \"recall\": 0.0, \"cutoff\": 2, \"precision\": 0.0, \"review_profilename\": \"DonaCake\"}, {\"count\": 1, \"recall\": 0.0, \"cutoff\": 3, \"precision\": 0.0, \"review_profilename\": \"DonaCake\"}, {\"count\": 1, \"recall\": 0.0, \"cutoff\": 4, \"precision\": 0.0, \"review_profilename\": \"DonaCake\"}, {\"count\": 1, \"recall\": 0.0, \"cutoff\": 5, \"precision\": 0.0, \"review_profilename\": \"DonaCake\"}, {\"count\": 1, \"recall\": 0.0, \"cutoff\": 6, \"precision\": 0.0, \"review_profilename\": \"DonaCake\"}, {\"count\": 1, \"recall\": 0.0, \"cutoff\": 7, \"precision\": 0.0, \"review_profilename\": \"DonaCake\"}, {\"count\": 1, \"recall\": 0.0, \"cutoff\": 8, \"precision\": 0.0, \"review_profilename\": \"DonaCake\"}, {\"count\": 1, \"recall\": 0.0, \"cutoff\": 9, \"precision\": 0.0, \"review_profilename\": \"DonaCake\"}, {\"count\": 1, \"recall\": 0.0, \"cutoff\": 10, \"precision\": 0.0, \"review_profilename\": \"DonaCake\"}, {\"count\": 1, \"recall\": 0.0, \"cutoff\": 11, \"precision\": 0.0, \"review_profilename\": \"DonaCake\"}, {\"count\": 1, \"recall\": 0.0, \"cutoff\": 16, \"precision\": 0.0, \"review_profilename\": \"DonaCake\"}, {\"count\": 1, \"recall\": 0.0, \"cutoff\": 21, \"precision\": 0.0, \"review_profilename\": \"DonaCake\"}, {\"count\": 1, \"recall\": 0.0, \"cutoff\": 26, \"precision\": 0.0, \"review_profilename\": \"DonaCake\"}, {\"count\": 1, \"recall\": 0.0, \"cutoff\": 31, \"precision\": 0.0, \"review_profilename\": \"DonaCake\"}, {\"count\": 1, \"recall\": 0.0, \"cutoff\": 36, \"precision\": 0.0, \"review_profilename\": \"DonaCake\"}, {\"count\": 1, \"recall\": 0.0, \"cutoff\": 41, \"precision\": 0.0, \"review_profilename\": \"DonaCake\"}, {\"count\": 1, \"recall\": 0.0, \"cutoff\": 46, \"precision\": 0.0, \"review_profilename\": \"DonaCake\"}, {\"count\": 4, \"recall\": 0.0, \"cutoff\": 1, \"precision\": 0.0, \"review_profilename\": \"GeorgeAldi\"}, {\"count\": 4, \"recall\": 0.0, \"cutoff\": 2, \"precision\": 0.0, \"review_profilename\": \"GeorgeAldi\"}, {\"count\": 4, \"recall\": 0.0, \"cutoff\": 3, \"precision\": 0.0, \"review_profilename\": \"GeorgeAldi\"}, {\"count\": 4, \"recall\": 0.0, \"cutoff\": 4, \"precision\": 0.0, \"review_profilename\": \"GeorgeAldi\"}, {\"count\": 4, \"recall\": 0.0, \"cutoff\": 5, \"precision\": 0.0, \"review_profilename\": \"GeorgeAldi\"}, {\"count\": 4, \"recall\": 0.0, \"cutoff\": 6, \"precision\": 0.0, \"review_profilename\": \"GeorgeAldi\"}, {\"count\": 4, \"recall\": 0.0, \"cutoff\": 7, \"precision\": 0.0, \"review_profilename\": \"GeorgeAldi\"}, {\"count\": 4, \"recall\": 0.0, \"cutoff\": 8, \"precision\": 0.0, \"review_profilename\": \"GeorgeAldi\"}, {\"count\": 4, \"recall\": 0.0, \"cutoff\": 9, \"precision\": 0.0, \"review_profilename\": \"GeorgeAldi\"}, {\"count\": 4, \"recall\": 0.0, \"cutoff\": 10, \"precision\": 0.0, \"review_profilename\": \"GeorgeAldi\"}, {\"count\": 4, \"recall\": 0.0, \"cutoff\": 11, \"precision\": 0.0, \"review_profilename\": \"GeorgeAldi\"}, {\"count\": 4, \"recall\": 0.0, \"cutoff\": 16, \"precision\": 0.0, \"review_profilename\": \"GeorgeAldi\"}, {\"count\": 4, \"recall\": 0.25, \"cutoff\": 21, \"precision\": 0.047619047619047616, \"review_profilename\": \"GeorgeAldi\"}, {\"count\": 4, \"recall\": 0.25, \"cutoff\": 26, \"precision\": 0.038461538461538464, \"review_profilename\": \"GeorgeAldi\"}, {\"count\": 4, \"recall\": 0.25, \"cutoff\": 31, \"precision\": 0.03225806451612903, \"review_profilename\": \"GeorgeAldi\"}, {\"count\": 4, \"recall\": 0.25, \"cutoff\": 36, \"precision\": 0.027777777777777776, \"review_profilename\": \"GeorgeAldi\"}, {\"count\": 4, \"recall\": 0.25, \"cutoff\": 41, \"precision\": 0.024390243902439025, \"review_profilename\": \"GeorgeAldi\"}, {\"count\": 4, \"recall\": 0.25, \"cutoff\": 46, \"precision\": 0.021739130434782608, \"review_profilename\": \"GeorgeAldi\"}, {\"count\": 1, \"recall\": 0.0, \"cutoff\": 1, \"precision\": 0.0, \"review_profilename\": \"Inepsa\"}, {\"count\": 1, \"recall\": 0.0, \"cutoff\": 2, \"precision\": 0.0, \"review_profilename\": \"Inepsa\"}, {\"count\": 1, \"recall\": 0.0, \"cutoff\": 3, \"precision\": 0.0, \"review_profilename\": \"Inepsa\"}, {\"count\": 1, \"recall\": 0.0, \"cutoff\": 4, \"precision\": 0.0, \"review_profilename\": \"Inepsa\"}, {\"count\": 1, \"recall\": 0.0, \"cutoff\": 5, \"precision\": 0.0, \"review_profilename\": \"Inepsa\"}, {\"count\": 1, \"recall\": 0.0, \"cutoff\": 6, \"precision\": 0.0, \"review_profilename\": \"Inepsa\"}, {\"count\": 1, \"recall\": 0.0, \"cutoff\": 7, \"precision\": 0.0, \"review_profilename\": \"Inepsa\"}, {\"count\": 1, \"recall\": 0.0, \"cutoff\": 8, \"precision\": 0.0, \"review_profilename\": \"Inepsa\"}, {\"count\": 1, \"recall\": 0.0, \"cutoff\": 9, \"precision\": 0.0, \"review_profilename\": \"Inepsa\"}, {\"count\": 1, \"recall\": 0.0, \"cutoff\": 10, \"precision\": 0.0, \"review_profilename\": \"Inepsa\"}, {\"count\": 1, \"recall\": 0.0, \"cutoff\": 11, \"precision\": 0.0, \"review_profilename\": \"Inepsa\"}, {\"count\": 1, \"recall\": 0.0, \"cutoff\": 16, \"precision\": 0.0, \"review_profilename\": \"Inepsa\"}, {\"count\": 1, \"recall\": 0.0, \"cutoff\": 21, \"precision\": 0.0, \"review_profilename\": \"Inepsa\"}, {\"count\": 1, \"recall\": 0.0, \"cutoff\": 26, \"precision\": 0.0, \"review_profilename\": \"Inepsa\"}, {\"count\": 1, \"recall\": 0.0, \"cutoff\": 31, \"precision\": 0.0, \"review_profilename\": \"Inepsa\"}, {\"count\": 1, \"recall\": 0.0, \"cutoff\": 36, \"precision\": 0.0, \"review_profilename\": \"Inepsa\"}, {\"count\": 1, \"recall\": 0.0, \"cutoff\": 41, \"precision\": 0.0, \"review_profilename\": \"Inepsa\"}, {\"count\": 1, \"recall\": 0.0, \"cutoff\": 46, \"precision\": 0.0, \"review_profilename\": \"Inepsa\"}, {\"count\": 11, \"recall\": 0.0, \"cutoff\": 1, \"precision\": 0.0, \"review_profilename\": \"JBStith\"}, {\"count\": 11, \"recall\": 0.0, \"cutoff\": 2, \"precision\": 0.0, \"review_profilename\": \"JBStith\"}, {\"count\": 11, \"recall\": 0.09090909090909091, \"cutoff\": 3, \"precision\": 0.3333333333333333, \"review_profilename\": \"JBStith\"}, {\"count\": 11, \"recall\": 0.09090909090909091, \"cutoff\": 4, \"precision\": 0.25, \"review_profilename\": \"JBStith\"}, {\"count\": 11, \"recall\": 0.09090909090909091, \"cutoff\": 5, \"precision\": 0.2, \"review_profilename\": \"JBStith\"}, {\"count\": 11, \"recall\": 0.09090909090909091, \"cutoff\": 6, \"precision\": 0.16666666666666666, \"review_profilename\": \"JBStith\"}, {\"count\": 11, \"recall\": 0.09090909090909091, \"cutoff\": 7, \"precision\": 0.14285714285714285, \"review_profilename\": \"JBStith\"}, {\"count\": 11, \"recall\": 0.18181818181818182, \"cutoff\": 8, \"precision\": 0.25, \"review_profilename\": \"JBStith\"}, {\"count\": 11, \"recall\": 0.18181818181818182, \"cutoff\": 9, \"precision\": 0.2222222222222222, \"review_profilename\": \"JBStith\"}, {\"count\": 11, \"recall\": 0.18181818181818182, \"cutoff\": 10, \"precision\": 0.2, \"review_profilename\": \"JBStith\"}, {\"count\": 11, \"recall\": 0.18181818181818182, \"cutoff\": 11, \"precision\": 0.18181818181818182, \"review_profilename\": \"JBStith\"}, {\"count\": 11, \"recall\": 0.18181818181818182, \"cutoff\": 16, \"precision\": 0.125, \"review_profilename\": \"JBStith\"}, {\"count\": 11, \"recall\": 0.18181818181818182, \"cutoff\": 21, \"precision\": 0.09523809523809523, \"review_profilename\": \"JBStith\"}, {\"count\": 11, \"recall\": 0.18181818181818182, \"cutoff\": 26, \"precision\": 0.07692307692307693, \"review_profilename\": \"JBStith\"}, {\"count\": 11, \"recall\": 0.18181818181818182, \"cutoff\": 31, \"precision\": 0.06451612903225806, \"review_profilename\": \"JBStith\"}, {\"count\": 11, \"recall\": 0.2727272727272727, \"cutoff\": 36, \"precision\": 0.08333333333333333, \"review_profilename\": \"JBStith\"}, {\"count\": 11, \"recall\": 0.2727272727272727, \"cutoff\": 41, \"precision\": 0.07317073170731707, \"review_profilename\": \"JBStith\"}, {\"count\": 11, \"recall\": 0.2727272727272727, \"cutoff\": 46, \"precision\": 0.06521739130434782, \"review_profilename\": \"JBStith\"}, {\"count\": 1, \"recall\": 0.0, \"cutoff\": 1, \"precision\": 0.0, \"review_profilename\": \"JEngler\"}, {\"count\": 1, \"recall\": 0.0, \"cutoff\": 2, \"precision\": 0.0, \"review_profilename\": \"JEngler\"}, {\"count\": 1, \"recall\": 0.0, \"cutoff\": 3, \"precision\": 0.0, \"review_profilename\": \"JEngler\"}, {\"count\": 1, \"recall\": 0.0, \"cutoff\": 4, \"precision\": 0.0, \"review_profilename\": \"JEngler\"}, {\"count\": 1, \"recall\": 0.0, \"cutoff\": 5, \"precision\": 0.0, \"review_profilename\": \"JEngler\"}, {\"count\": 1, \"recall\": 0.0, \"cutoff\": 6, \"precision\": 0.0, \"review_profilename\": \"JEngler\"}, {\"count\": 1, \"recall\": 0.0, \"cutoff\": 7, \"precision\": 0.0, \"review_profilename\": \"JEngler\"}, {\"count\": 1, \"recall\": 0.0, \"cutoff\": 8, \"precision\": 0.0, \"review_profilename\": \"JEngler\"}, {\"count\": 1, \"recall\": 0.0, \"cutoff\": 9, \"precision\": 0.0, \"review_profilename\": \"JEngler\"}, {\"count\": 1, \"recall\": 0.0, \"cutoff\": 10, \"precision\": 0.0, \"review_profilename\": \"JEngler\"}, {\"count\": 1, \"recall\": 0.0, \"cutoff\": 11, \"precision\": 0.0, \"review_profilename\": \"JEngler\"}, {\"count\": 1, \"recall\": 0.0, \"cutoff\": 16, \"precision\": 0.0, \"review_profilename\": \"JEngler\"}, {\"count\": 1, \"recall\": 0.0, \"cutoff\": 21, \"precision\": 0.0, \"review_profilename\": \"JEngler\"}, {\"count\": 1, \"recall\": 0.0, \"cutoff\": 26, \"precision\": 0.0, \"review_profilename\": \"JEngler\"}, {\"count\": 1, \"recall\": 0.0, \"cutoff\": 31, \"precision\": 0.0, \"review_profilename\": \"JEngler\"}, {\"count\": 1, \"recall\": 0.0, \"cutoff\": 36, \"precision\": 0.0, \"review_profilename\": \"JEngler\"}, {\"count\": 1, \"recall\": 0.0, \"cutoff\": 41, \"precision\": 0.0, \"review_profilename\": \"JEngler\"}, {\"count\": 1, \"recall\": 0.0, \"cutoff\": 46, \"precision\": 0.0, \"review_profilename\": \"JEngler\"}, {\"count\": 3, \"recall\": 0.0, \"cutoff\": 1, \"precision\": 0.0, \"review_profilename\": \"JMastrangelo\"}, {\"count\": 3, \"recall\": 0.0, \"cutoff\": 2, \"precision\": 0.0, \"review_profilename\": \"JMastrangelo\"}, {\"count\": 3, \"recall\": 0.3333333333333333, \"cutoff\": 3, \"precision\": 0.3333333333333333, \"review_profilename\": \"JMastrangelo\"}, {\"count\": 3, \"recall\": 0.3333333333333333, \"cutoff\": 4, \"precision\": 0.25, \"review_profilename\": \"JMastrangelo\"}, {\"count\": 3, \"recall\": 0.3333333333333333, \"cutoff\": 5, \"precision\": 0.2, \"review_profilename\": \"JMastrangelo\"}, {\"count\": 3, \"recall\": 0.3333333333333333, \"cutoff\": 6, \"precision\": 0.16666666666666666, \"review_profilename\": \"JMastrangelo\"}, {\"count\": 3, \"recall\": 0.3333333333333333, \"cutoff\": 7, \"precision\": 0.14285714285714285, \"review_profilename\": \"JMastrangelo\"}, {\"count\": 3, \"recall\": 0.3333333333333333, \"cutoff\": 8, \"precision\": 0.125, \"review_profilename\": \"JMastrangelo\"}, {\"count\": 3, \"recall\": 0.3333333333333333, \"cutoff\": 9, \"precision\": 0.1111111111111111, \"review_profilename\": \"JMastrangelo\"}, {\"count\": 3, \"recall\": 0.3333333333333333, \"cutoff\": 10, \"precision\": 0.1, \"review_profilename\": \"JMastrangelo\"}, {\"count\": 3, \"recall\": 0.3333333333333333, \"cutoff\": 11, \"precision\": 0.09090909090909091, \"review_profilename\": \"JMastrangelo\"}, {\"count\": 3, \"recall\": 0.3333333333333333, \"cutoff\": 16, \"precision\": 0.0625, \"review_profilename\": \"JMastrangelo\"}, {\"count\": 3, \"recall\": 0.3333333333333333, \"cutoff\": 21, \"precision\": 0.047619047619047616, \"review_profilename\": \"JMastrangelo\"}, {\"count\": 3, \"recall\": 0.3333333333333333, \"cutoff\": 26, \"precision\": 0.038461538461538464, \"review_profilename\": \"JMastrangelo\"}, {\"count\": 3, \"recall\": 0.3333333333333333, \"cutoff\": 31, \"precision\": 0.03225806451612903, \"review_profilename\": \"JMastrangelo\"}, {\"count\": 3, \"recall\": 0.3333333333333333, \"cutoff\": 36, \"precision\": 0.027777777777777776, \"review_profilename\": \"JMastrangelo\"}, {\"count\": 3, \"recall\": 0.3333333333333333, \"cutoff\": 41, \"precision\": 0.024390243902439025, \"review_profilename\": \"JMastrangelo\"}, {\"count\": 3, \"recall\": 0.3333333333333333, \"cutoff\": 46, \"precision\": 0.021739130434782608, \"review_profilename\": \"JMastrangelo\"}, {\"count\": 3, \"recall\": 0.3333333333333333, \"cutoff\": 1, \"precision\": 1.0, \"review_profilename\": \"JeffMcAwesome\"}, {\"count\": 3, \"recall\": 0.3333333333333333, \"cutoff\": 2, \"precision\": 0.5, \"review_profilename\": \"JeffMcAwesome\"}, {\"count\": 3, \"recall\": 0.3333333333333333, \"cutoff\": 3, \"precision\": 0.3333333333333333, \"review_profilename\": \"JeffMcAwesome\"}, {\"count\": 3, \"recall\": 0.3333333333333333, \"cutoff\": 4, \"precision\": 0.25, \"review_profilename\": \"JeffMcAwesome\"}, {\"count\": 3, \"recall\": 0.3333333333333333, \"cutoff\": 5, \"precision\": 0.2, \"review_profilename\": \"JeffMcAwesome\"}, {\"count\": 3, \"recall\": 0.3333333333333333, \"cutoff\": 6, \"precision\": 0.16666666666666666, \"review_profilename\": \"JeffMcAwesome\"}, {\"count\": 3, \"recall\": 0.3333333333333333, \"cutoff\": 7, \"precision\": 0.14285714285714285, \"review_profilename\": \"JeffMcAwesome\"}, {\"count\": 3, \"recall\": 0.3333333333333333, \"cutoff\": 8, \"precision\": 0.125, \"review_profilename\": \"JeffMcAwesome\"}, {\"count\": 3, \"recall\": 0.3333333333333333, \"cutoff\": 9, \"precision\": 0.1111111111111111, \"review_profilename\": \"JeffMcAwesome\"}, {\"count\": 3, \"recall\": 0.3333333333333333, \"cutoff\": 10, \"precision\": 0.1, \"review_profilename\": \"JeffMcAwesome\"}, {\"count\": 3, \"recall\": 0.3333333333333333, \"cutoff\": 11, \"precision\": 0.09090909090909091, \"review_profilename\": \"JeffMcAwesome\"}, {\"count\": 3, \"recall\": 0.3333333333333333, \"cutoff\": 16, \"precision\": 0.0625, \"review_profilename\": \"JeffMcAwesome\"}, {\"count\": 3, \"recall\": 0.3333333333333333, \"cutoff\": 21, \"precision\": 0.047619047619047616, \"review_profilename\": \"JeffMcAwesome\"}, {\"count\": 3, \"recall\": 0.3333333333333333, \"cutoff\": 26, \"precision\": 0.038461538461538464, \"review_profilename\": \"JeffMcAwesome\"}, {\"count\": 3, \"recall\": 0.3333333333333333, \"cutoff\": 31, \"precision\": 0.03225806451612903, \"review_profilename\": \"JeffMcAwesome\"}, {\"count\": 3, \"recall\": 0.3333333333333333, \"cutoff\": 36, \"precision\": 0.027777777777777776, \"review_profilename\": \"JeffMcAwesome\"}, {\"count\": 3, \"recall\": 0.3333333333333333, \"cutoff\": 41, \"precision\": 0.024390243902439025, \"review_profilename\": \"JeffMcAwesome\"}, {\"count\": 3, \"recall\": 0.3333333333333333, \"cutoff\": 46, \"precision\": 0.021739130434782608, \"review_profilename\": \"JeffMcAwesome\"}, {\"count\": 17, \"recall\": 0.058823529411764705, \"cutoff\": 1, \"precision\": 1.0, \"review_profilename\": \"Jules11788\"}, {\"count\": 17, \"recall\": 0.058823529411764705, \"cutoff\": 2, \"precision\": 0.5, \"review_profilename\": \"Jules11788\"}, {\"count\": 17, \"recall\": 0.058823529411764705, \"cutoff\": 3, \"precision\": 0.3333333333333333, \"review_profilename\": \"Jules11788\"}, {\"count\": 17, \"recall\": 0.11764705882352941, \"cutoff\": 4, \"precision\": 0.5, \"review_profilename\": \"Jules11788\"}, {\"count\": 17, \"recall\": 0.11764705882352941, \"cutoff\": 5, \"precision\": 0.4, \"review_profilename\": \"Jules11788\"}, {\"count\": 17, \"recall\": 0.11764705882352941, \"cutoff\": 6, \"precision\": 0.3333333333333333, \"review_profilename\": \"Jules11788\"}, {\"count\": 17, \"recall\": 0.11764705882352941, \"cutoff\": 7, \"precision\": 0.2857142857142857, \"review_profilename\": \"Jules11788\"}, {\"count\": 17, \"recall\": 0.11764705882352941, \"cutoff\": 8, \"precision\": 0.25, \"review_profilename\": \"Jules11788\"}, {\"count\": 17, \"recall\": 0.11764705882352941, \"cutoff\": 9, \"precision\": 0.2222222222222222, \"review_profilename\": \"Jules11788\"}, {\"count\": 17, \"recall\": 0.11764705882352941, \"cutoff\": 10, \"precision\": 0.2, \"review_profilename\": \"Jules11788\"}, {\"count\": 17, \"recall\": 0.11764705882352941, \"cutoff\": 11, \"precision\": 0.18181818181818182, \"review_profilename\": \"Jules11788\"}, {\"count\": 17, \"recall\": 0.11764705882352941, \"cutoff\": 16, \"precision\": 0.125, \"review_profilename\": \"Jules11788\"}, {\"count\": 17, \"recall\": 0.11764705882352941, \"cutoff\": 21, \"precision\": 0.09523809523809523, \"review_profilename\": \"Jules11788\"}, {\"count\": 17, \"recall\": 0.11764705882352941, \"cutoff\": 26, \"precision\": 0.07692307692307693, \"review_profilename\": \"Jules11788\"}, {\"count\": 17, \"recall\": 0.11764705882352941, \"cutoff\": 31, \"precision\": 0.06451612903225806, \"review_profilename\": \"Jules11788\"}, {\"count\": 17, \"recall\": 0.11764705882352941, \"cutoff\": 36, \"precision\": 0.05555555555555555, \"review_profilename\": \"Jules11788\"}, {\"count\": 17, \"recall\": 0.11764705882352941, \"cutoff\": 41, \"precision\": 0.04878048780487805, \"review_profilename\": \"Jules11788\"}, {\"count\": 17, \"recall\": 0.11764705882352941, \"cutoff\": 46, \"precision\": 0.043478260869565216, \"review_profilename\": \"Jules11788\"}, {\"count\": 5, \"recall\": 0.0, \"cutoff\": 1, \"precision\": 0.0, \"review_profilename\": \"KansasBeerLover\"}, {\"count\": 5, \"recall\": 0.0, \"cutoff\": 2, \"precision\": 0.0, \"review_profilename\": \"KansasBeerLover\"}, {\"count\": 5, \"recall\": 0.0, \"cutoff\": 3, \"precision\": 0.0, \"review_profilename\": \"KansasBeerLover\"}, {\"count\": 5, \"recall\": 0.0, \"cutoff\": 4, \"precision\": 0.0, \"review_profilename\": \"KansasBeerLover\"}, {\"count\": 5, \"recall\": 0.0, \"cutoff\": 5, \"precision\": 0.0, \"review_profilename\": \"KansasBeerLover\"}, {\"count\": 5, \"recall\": 0.0, \"cutoff\": 6, \"precision\": 0.0, \"review_profilename\": \"KansasBeerLover\"}, {\"count\": 5, \"recall\": 0.0, \"cutoff\": 7, \"precision\": 0.0, \"review_profilename\": \"KansasBeerLover\"}, {\"count\": 5, \"recall\": 0.0, \"cutoff\": 8, \"precision\": 0.0, \"review_profilename\": \"KansasBeerLover\"}, {\"count\": 5, \"recall\": 0.0, \"cutoff\": 9, \"precision\": 0.0, \"review_profilename\": \"KansasBeerLover\"}, {\"count\": 5, \"recall\": 0.0, \"cutoff\": 10, \"precision\": 0.0, \"review_profilename\": \"KansasBeerLover\"}, {\"count\": 5, \"recall\": 0.0, \"cutoff\": 11, \"precision\": 0.0, \"review_profilename\": \"KansasBeerLover\"}, {\"count\": 5, \"recall\": 0.0, \"cutoff\": 16, \"precision\": 0.0, \"review_profilename\": \"KansasBeerLover\"}, {\"count\": 5, \"recall\": 0.0, \"cutoff\": 21, \"precision\": 0.0, \"review_profilename\": \"KansasBeerLover\"}, {\"count\": 5, \"recall\": 0.0, \"cutoff\": 26, \"precision\": 0.0, \"review_profilename\": \"KansasBeerLover\"}, {\"count\": 5, \"recall\": 0.0, \"cutoff\": 31, \"precision\": 0.0, \"review_profilename\": \"KansasBeerLover\"}, {\"count\": 5, \"recall\": 0.0, \"cutoff\": 36, \"precision\": 0.0, \"review_profilename\": \"KansasBeerLover\"}, {\"count\": 5, \"recall\": 0.0, \"cutoff\": 41, \"precision\": 0.0, \"review_profilename\": \"KansasBeerLover\"}, {\"count\": 5, \"recall\": 0.0, \"cutoff\": 46, \"precision\": 0.0, \"review_profilename\": \"KansasBeerLover\"}, {\"count\": 2, \"recall\": 0.0, \"cutoff\": 1, \"precision\": 0.0, \"review_profilename\": \"MrBendo\"}, {\"count\": 2, \"recall\": 0.0, \"cutoff\": 2, \"precision\": 0.0, \"review_profilename\": \"MrBendo\"}, {\"count\": 2, \"recall\": 0.0, \"cutoff\": 3, \"precision\": 0.0, \"review_profilename\": \"MrBendo\"}, {\"count\": 2, \"recall\": 0.0, \"cutoff\": 4, \"precision\": 0.0, \"review_profilename\": \"MrBendo\"}, {\"count\": 2, \"recall\": 0.0, \"cutoff\": 5, \"precision\": 0.0, \"review_profilename\": \"MrBendo\"}, {\"count\": 2, \"recall\": 0.0, \"cutoff\": 6, \"precision\": 0.0, \"review_profilename\": \"MrBendo\"}, {\"count\": 2, \"recall\": 0.0, \"cutoff\": 7, \"precision\": 0.0, \"review_profilename\": \"MrBendo\"}, {\"count\": 2, \"recall\": 0.0, \"cutoff\": 8, \"precision\": 0.0, \"review_profilename\": \"MrBendo\"}, {\"count\": 2, \"recall\": 0.0, \"cutoff\": 9, \"precision\": 0.0, \"review_profilename\": \"MrBendo\"}, {\"count\": 2, \"recall\": 0.0, \"cutoff\": 10, \"precision\": 0.0, \"review_profilename\": \"MrBendo\"}, {\"count\": 2, \"recall\": 0.0, \"cutoff\": 11, \"precision\": 0.0, \"review_profilename\": \"MrBendo\"}, {\"count\": 2, \"recall\": 0.0, \"cutoff\": 16, \"precision\": 0.0, \"review_profilename\": \"MrBendo\"}, {\"count\": 2, \"recall\": 0.0, \"cutoff\": 21, \"precision\": 0.0, \"review_profilename\": \"MrBendo\"}, {\"count\": 2, \"recall\": 0.0, \"cutoff\": 26, \"precision\": 0.0, \"review_profilename\": \"MrBendo\"}, {\"count\": 2, \"recall\": 0.0, \"cutoff\": 31, \"precision\": 0.0, \"review_profilename\": \"MrBendo\"}, {\"count\": 2, \"recall\": 0.0, \"cutoff\": 36, \"precision\": 0.0, \"review_profilename\": \"MrBendo\"}, {\"count\": 2, \"recall\": 0.0, \"cutoff\": 41, \"precision\": 0.0, \"review_profilename\": \"MrBendo\"}, {\"count\": 2, \"recall\": 0.0, \"cutoff\": 46, \"precision\": 0.0, \"review_profilename\": \"MrBendo\"}, {\"count\": 1, \"recall\": 0.0, \"cutoff\": 1, \"precision\": 0.0, \"review_profilename\": \"OrioleWay\"}, {\"count\": 1, \"recall\": 0.0, \"cutoff\": 2, \"precision\": 0.0, \"review_profilename\": \"OrioleWay\"}, {\"count\": 1, \"recall\": 0.0, \"cutoff\": 3, \"precision\": 0.0, \"review_profilename\": \"OrioleWay\"}, {\"count\": 1, \"recall\": 0.0, \"cutoff\": 4, \"precision\": 0.0, \"review_profilename\": \"OrioleWay\"}, {\"count\": 1, \"recall\": 0.0, \"cutoff\": 5, \"precision\": 0.0, \"review_profilename\": \"OrioleWay\"}, {\"count\": 1, \"recall\": 0.0, \"cutoff\": 6, \"precision\": 0.0, \"review_profilename\": \"OrioleWay\"}, {\"count\": 1, \"recall\": 0.0, \"cutoff\": 7, \"precision\": 0.0, \"review_profilename\": \"OrioleWay\"}, {\"count\": 1, \"recall\": 0.0, \"cutoff\": 8, \"precision\": 0.0, \"review_profilename\": \"OrioleWay\"}, {\"count\": 1, \"recall\": 0.0, \"cutoff\": 9, \"precision\": 0.0, \"review_profilename\": \"OrioleWay\"}, {\"count\": 1, \"recall\": 0.0, \"cutoff\": 10, \"precision\": 0.0, \"review_profilename\": \"OrioleWay\"}, {\"count\": 1, \"recall\": 0.0, \"cutoff\": 11, \"precision\": 0.0, \"review_profilename\": \"OrioleWay\"}, {\"count\": 1, \"recall\": 0.0, \"cutoff\": 16, \"precision\": 0.0, \"review_profilename\": \"OrioleWay\"}, {\"count\": 1, \"recall\": 0.0, \"cutoff\": 21, \"precision\": 0.0, \"review_profilename\": \"OrioleWay\"}, {\"count\": 1, \"recall\": 0.0, \"cutoff\": 26, \"precision\": 0.0, \"review_profilename\": \"OrioleWay\"}, {\"count\": 1, \"recall\": 0.0, \"cutoff\": 31, \"precision\": 0.0, \"review_profilename\": \"OrioleWay\"}, {\"count\": 1, \"recall\": 0.0, \"cutoff\": 36, \"precision\": 0.0, \"review_profilename\": \"OrioleWay\"}, {\"count\": 1, \"recall\": 0.0, \"cutoff\": 41, \"precision\": 0.0, \"review_profilename\": \"OrioleWay\"}, {\"count\": 1, \"recall\": 0.0, \"cutoff\": 46, \"precision\": 0.0, \"review_profilename\": \"OrioleWay\"}, {\"count\": 5, \"recall\": 0.0, \"cutoff\": 1, \"precision\": 0.0, \"review_profilename\": \"OsuJohn\"}, {\"count\": 5, \"recall\": 0.0, \"cutoff\": 2, \"precision\": 0.0, \"review_profilename\": \"OsuJohn\"}, {\"count\": 5, \"recall\": 0.0, \"cutoff\": 3, \"precision\": 0.0, \"review_profilename\": \"OsuJohn\"}, {\"count\": 5, \"recall\": 0.0, \"cutoff\": 4, \"precision\": 0.0, \"review_profilename\": \"OsuJohn\"}, {\"count\": 5, \"recall\": 0.0, \"cutoff\": 5, \"precision\": 0.0, \"review_profilename\": \"OsuJohn\"}, {\"count\": 5, \"recall\": 0.0, \"cutoff\": 6, \"precision\": 0.0, \"review_profilename\": \"OsuJohn\"}, {\"count\": 5, \"recall\": 0.0, \"cutoff\": 7, \"precision\": 0.0, \"review_profilename\": \"OsuJohn\"}, {\"count\": 5, \"recall\": 0.0, \"cutoff\": 8, \"precision\": 0.0, \"review_profilename\": \"OsuJohn\"}, {\"count\": 5, \"recall\": 0.0, \"cutoff\": 9, \"precision\": 0.0, \"review_profilename\": \"OsuJohn\"}, {\"count\": 5, \"recall\": 0.0, \"cutoff\": 10, \"precision\": 0.0, \"review_profilename\": \"OsuJohn\"}, {\"count\": 5, \"recall\": 0.0, \"cutoff\": 11, \"precision\": 0.0, \"review_profilename\": \"OsuJohn\"}, {\"count\": 5, \"recall\": 0.0, \"cutoff\": 16, \"precision\": 0.0, \"review_profilename\": \"OsuJohn\"}, {\"count\": 5, \"recall\": 0.0, \"cutoff\": 21, \"precision\": 0.0, \"review_profilename\": \"OsuJohn\"}, {\"count\": 5, \"recall\": 0.0, \"cutoff\": 26, \"precision\": 0.0, \"review_profilename\": \"OsuJohn\"}, {\"count\": 5, \"recall\": 0.0, \"cutoff\": 31, \"precision\": 0.0, \"review_profilename\": \"OsuJohn\"}, {\"count\": 5, \"recall\": 0.0, \"cutoff\": 36, \"precision\": 0.0, \"review_profilename\": \"OsuJohn\"}, {\"count\": 5, \"recall\": 0.0, \"cutoff\": 41, \"precision\": 0.0, \"review_profilename\": \"OsuJohn\"}, {\"count\": 5, \"recall\": 0.2, \"cutoff\": 46, \"precision\": 0.021739130434782608, \"review_profilename\": \"OsuJohn\"}, {\"count\": 30, \"recall\": 0.0, \"cutoff\": 1, \"precision\": 0.0, \"review_profilename\": \"ReebShorts\"}, {\"count\": 30, \"recall\": 0.0, \"cutoff\": 2, \"precision\": 0.0, \"review_profilename\": \"ReebShorts\"}, {\"count\": 30, \"recall\": 0.03333333333333333, \"cutoff\": 3, \"precision\": 0.3333333333333333, \"review_profilename\": \"ReebShorts\"}, {\"count\": 30, \"recall\": 0.03333333333333333, \"cutoff\": 4, \"precision\": 0.25, \"review_profilename\": \"ReebShorts\"}, {\"count\": 30, \"recall\": 0.03333333333333333, \"cutoff\": 5, \"precision\": 0.2, \"review_profilename\": \"ReebShorts\"}, {\"count\": 30, \"recall\": 0.06666666666666667, \"cutoff\": 6, \"precision\": 0.3333333333333333, \"review_profilename\": \"ReebShorts\"}, {\"count\": 30, \"recall\": 0.06666666666666667, \"cutoff\": 7, \"precision\": 0.2857142857142857, \"review_profilename\": \"ReebShorts\"}, {\"count\": 30, \"recall\": 0.06666666666666667, \"cutoff\": 8, \"precision\": 0.25, \"review_profilename\": \"ReebShorts\"}, {\"count\": 30, \"recall\": 0.06666666666666667, \"cutoff\": 9, \"precision\": 0.2222222222222222, \"review_profilename\": \"ReebShorts\"}, {\"count\": 30, \"recall\": 0.06666666666666667, \"cutoff\": 10, \"precision\": 0.2, \"review_profilename\": \"ReebShorts\"}, {\"count\": 30, \"recall\": 0.1, \"cutoff\": 11, \"precision\": 0.2727272727272727, \"review_profilename\": \"ReebShorts\"}, {\"count\": 30, \"recall\": 0.13333333333333333, \"cutoff\": 16, \"precision\": 0.25, \"review_profilename\": \"ReebShorts\"}, {\"count\": 30, \"recall\": 0.13333333333333333, \"cutoff\": 21, \"precision\": 0.19047619047619047, \"review_profilename\": \"ReebShorts\"}, {\"count\": 30, \"recall\": 0.13333333333333333, \"cutoff\": 26, \"precision\": 0.15384615384615385, \"review_profilename\": \"ReebShorts\"}, {\"count\": 30, \"recall\": 0.16666666666666666, \"cutoff\": 31, \"precision\": 0.16129032258064516, \"review_profilename\": \"ReebShorts\"}, {\"count\": 30, \"recall\": 0.2, \"cutoff\": 36, \"precision\": 0.16666666666666666, \"review_profilename\": \"ReebShorts\"}, {\"count\": 30, \"recall\": 0.2, \"cutoff\": 41, \"precision\": 0.14634146341463414, \"review_profilename\": \"ReebShorts\"}, {\"count\": 30, \"recall\": 0.2, \"cutoff\": 46, \"precision\": 0.13043478260869565, \"review_profilename\": \"ReebShorts\"}, {\"count\": 1, \"recall\": 0.0, \"cutoff\": 1, \"precision\": 0.0, \"review_profilename\": \"RyanLigeia\"}, {\"count\": 1, \"recall\": 0.0, \"cutoff\": 2, \"precision\": 0.0, \"review_profilename\": \"RyanLigeia\"}, {\"count\": 1, \"recall\": 0.0, \"cutoff\": 3, \"precision\": 0.0, \"review_profilename\": \"RyanLigeia\"}, {\"count\": 1, \"recall\": 0.0, \"cutoff\": 4, \"precision\": 0.0, \"review_profilename\": \"RyanLigeia\"}, {\"count\": 1, \"recall\": 0.0, \"cutoff\": 5, \"precision\": 0.0, \"review_profilename\": \"RyanLigeia\"}, {\"count\": 1, \"recall\": 0.0, \"cutoff\": 6, \"precision\": 0.0, \"review_profilename\": \"RyanLigeia\"}, {\"count\": 1, \"recall\": 0.0, \"cutoff\": 7, \"precision\": 0.0, \"review_profilename\": \"RyanLigeia\"}, {\"count\": 1, \"recall\": 0.0, \"cutoff\": 8, \"precision\": 0.0, \"review_profilename\": \"RyanLigeia\"}, {\"count\": 1, \"recall\": 0.0, \"cutoff\": 9, \"precision\": 0.0, \"review_profilename\": \"RyanLigeia\"}, {\"count\": 1, \"recall\": 0.0, \"cutoff\": 10, \"precision\": 0.0, \"review_profilename\": \"RyanLigeia\"}, {\"count\": 1, \"recall\": 0.0, \"cutoff\": 11, \"precision\": 0.0, \"review_profilename\": \"RyanLigeia\"}, {\"count\": 1, \"recall\": 0.0, \"cutoff\": 16, \"precision\": 0.0, \"review_profilename\": \"RyanLigeia\"}, {\"count\": 1, \"recall\": 0.0, \"cutoff\": 21, \"precision\": 0.0, \"review_profilename\": \"RyanLigeia\"}, {\"count\": 1, \"recall\": 0.0, \"cutoff\": 26, \"precision\": 0.0, \"review_profilename\": \"RyanLigeia\"}, {\"count\": 1, \"recall\": 0.0, \"cutoff\": 31, \"precision\": 0.0, \"review_profilename\": \"RyanLigeia\"}, {\"count\": 1, \"recall\": 0.0, \"cutoff\": 36, \"precision\": 0.0, \"review_profilename\": \"RyanLigeia\"}, {\"count\": 1, \"recall\": 0.0, \"cutoff\": 41, \"precision\": 0.0, \"review_profilename\": \"RyanLigeia\"}, {\"count\": 1, \"recall\": 0.0, \"cutoff\": 46, \"precision\": 0.0, \"review_profilename\": \"RyanLigeia\"}, {\"count\": 16, \"recall\": 0.0, \"cutoff\": 1, \"precision\": 0.0, \"review_profilename\": \"SchmichaelJ\"}, {\"count\": 16, \"recall\": 0.0625, \"cutoff\": 2, \"precision\": 0.5, \"review_profilename\": \"SchmichaelJ\"}, {\"count\": 16, \"recall\": 0.0625, \"cutoff\": 3, \"precision\": 0.3333333333333333, \"review_profilename\": \"SchmichaelJ\"}, {\"count\": 16, \"recall\": 0.0625, \"cutoff\": 4, \"precision\": 0.25, \"review_profilename\": \"SchmichaelJ\"}, {\"count\": 16, \"recall\": 0.125, \"cutoff\": 5, \"precision\": 0.4, \"review_profilename\": \"SchmichaelJ\"}, {\"count\": 16, \"recall\": 0.125, \"cutoff\": 6, \"precision\": 0.3333333333333333, \"review_profilename\": \"SchmichaelJ\"}, {\"count\": 16, \"recall\": 0.125, \"cutoff\": 7, \"precision\": 0.2857142857142857, \"review_profilename\": \"SchmichaelJ\"}, {\"count\": 16, \"recall\": 0.125, \"cutoff\": 8, \"precision\": 0.25, \"review_profilename\": \"SchmichaelJ\"}, {\"count\": 16, \"recall\": 0.1875, \"cutoff\": 9, \"precision\": 0.3333333333333333, \"review_profilename\": \"SchmichaelJ\"}, {\"count\": 16, \"recall\": 0.1875, \"cutoff\": 10, \"precision\": 0.3, \"review_profilename\": \"SchmichaelJ\"}, {\"count\": 16, \"recall\": 0.1875, \"cutoff\": 11, \"precision\": 0.2727272727272727, \"review_profilename\": \"SchmichaelJ\"}, {\"count\": 16, \"recall\": 0.25, \"cutoff\": 16, \"precision\": 0.25, \"review_profilename\": \"SchmichaelJ\"}, {\"count\": 16, \"recall\": 0.3125, \"cutoff\": 21, \"precision\": 0.23809523809523808, \"review_profilename\": \"SchmichaelJ\"}, {\"count\": 16, \"recall\": 0.375, \"cutoff\": 26, \"precision\": 0.23076923076923078, \"review_profilename\": \"SchmichaelJ\"}, {\"count\": 16, \"recall\": 0.4375, \"cutoff\": 31, \"precision\": 0.22580645161290322, \"review_profilename\": \"SchmichaelJ\"}, {\"count\": 16, \"recall\": 0.4375, \"cutoff\": 36, \"precision\": 0.19444444444444445, \"review_profilename\": \"SchmichaelJ\"}, {\"count\": 16, \"recall\": 0.4375, \"cutoff\": 41, \"precision\": 0.17073170731707318, \"review_profilename\": \"SchmichaelJ\"}, {\"count\": 16, \"recall\": 0.4375, \"cutoff\": 46, \"precision\": 0.15217391304347827, \"review_profilename\": \"SchmichaelJ\"}, {\"count\": 1, \"recall\": 0.0, \"cutoff\": 1, \"precision\": 0.0, \"review_profilename\": \"SirPsyCole\"}, {\"count\": 1, \"recall\": 0.0, \"cutoff\": 2, \"precision\": 0.0, \"review_profilename\": \"SirPsyCole\"}, {\"count\": 1, \"recall\": 0.0, \"cutoff\": 3, \"precision\": 0.0, \"review_profilename\": \"SirPsyCole\"}, {\"count\": 1, \"recall\": 0.0, \"cutoff\": 4, \"precision\": 0.0, \"review_profilename\": \"SirPsyCole\"}, {\"count\": 1, \"recall\": 0.0, \"cutoff\": 5, \"precision\": 0.0, \"review_profilename\": \"SirPsyCole\"}, {\"count\": 1, \"recall\": 0.0, \"cutoff\": 6, \"precision\": 0.0, \"review_profilename\": \"SirPsyCole\"}, {\"count\": 1, \"recall\": 0.0, \"cutoff\": 7, \"precision\": 0.0, \"review_profilename\": \"SirPsyCole\"}, {\"count\": 1, \"recall\": 0.0, \"cutoff\": 8, \"precision\": 0.0, \"review_profilename\": \"SirPsyCole\"}, {\"count\": 1, \"recall\": 0.0, \"cutoff\": 9, \"precision\": 0.0, \"review_profilename\": \"SirPsyCole\"}, {\"count\": 1, \"recall\": 0.0, \"cutoff\": 10, \"precision\": 0.0, \"review_profilename\": \"SirPsyCole\"}, {\"count\": 1, \"recall\": 0.0, \"cutoff\": 11, \"precision\": 0.0, \"review_profilename\": \"SirPsyCole\"}, {\"count\": 1, \"recall\": 0.0, \"cutoff\": 16, \"precision\": 0.0, \"review_profilename\": \"SirPsyCole\"}, {\"count\": 1, \"recall\": 0.0, \"cutoff\": 21, \"precision\": 0.0, \"review_profilename\": \"SirPsyCole\"}, {\"count\": 1, \"recall\": 0.0, \"cutoff\": 26, \"precision\": 0.0, \"review_profilename\": \"SirPsyCole\"}, {\"count\": 1, \"recall\": 0.0, \"cutoff\": 31, \"precision\": 0.0, \"review_profilename\": \"SirPsyCole\"}, {\"count\": 1, \"recall\": 0.0, \"cutoff\": 36, \"precision\": 0.0, \"review_profilename\": \"SirPsyCole\"}, {\"count\": 1, \"recall\": 0.0, \"cutoff\": 41, \"precision\": 0.0, \"review_profilename\": \"SirPsyCole\"}, {\"count\": 1, \"recall\": 0.0, \"cutoff\": 46, \"precision\": 0.0, \"review_profilename\": \"SirPsyCole\"}, {\"count\": 128, \"recall\": 0.0, \"cutoff\": 1, \"precision\": 0.0, \"review_profilename\": \"SpdKilz\"}, {\"count\": 128, \"recall\": 0.0, \"cutoff\": 2, \"precision\": 0.0, \"review_profilename\": \"SpdKilz\"}, {\"count\": 128, \"recall\": 0.0, \"cutoff\": 3, \"precision\": 0.0, \"review_profilename\": \"SpdKilz\"}, {\"count\": 128, \"recall\": 0.0078125, \"cutoff\": 4, \"precision\": 0.25, \"review_profilename\": \"SpdKilz\"}, {\"count\": 128, \"recall\": 0.015625, \"cutoff\": 5, \"precision\": 0.4, \"review_profilename\": \"SpdKilz\"}, {\"count\": 128, \"recall\": 0.0234375, \"cutoff\": 6, \"precision\": 0.5, \"review_profilename\": \"SpdKilz\"}, {\"count\": 128, \"recall\": 0.0234375, \"cutoff\": 7, \"precision\": 0.42857142857142855, \"review_profilename\": \"SpdKilz\"}, {\"count\": 128, \"recall\": 0.03125, \"cutoff\": 8, \"precision\": 0.5, \"review_profilename\": \"SpdKilz\"}, {\"count\": 128, \"recall\": 0.0390625, \"cutoff\": 9, \"precision\": 0.5555555555555556, \"review_profilename\": \"SpdKilz\"}, {\"count\": 128, \"recall\": 0.046875, \"cutoff\": 10, \"precision\": 0.6, \"review_profilename\": \"SpdKilz\"}, {\"count\": 128, \"recall\": 0.0546875, \"cutoff\": 11, \"precision\": 0.6363636363636364, \"review_profilename\": \"SpdKilz\"}, {\"count\": 128, \"recall\": 0.0859375, \"cutoff\": 16, \"precision\": 0.6875, \"review_profilename\": \"SpdKilz\"}, {\"count\": 128, \"recall\": 0.1015625, \"cutoff\": 21, \"precision\": 0.6190476190476191, \"review_profilename\": \"SpdKilz\"}, {\"count\": 128, \"recall\": 0.125, \"cutoff\": 26, \"precision\": 0.6153846153846154, \"review_profilename\": \"SpdKilz\"}, {\"count\": 128, \"recall\": 0.140625, \"cutoff\": 31, \"precision\": 0.5806451612903226, \"review_profilename\": \"SpdKilz\"}, {\"count\": 128, \"recall\": 0.140625, \"cutoff\": 36, \"precision\": 0.5, \"review_profilename\": \"SpdKilz\"}, {\"count\": 128, \"recall\": 0.140625, \"cutoff\": 41, \"precision\": 0.43902439024390244, \"review_profilename\": \"SpdKilz\"}, {\"count\": 128, \"recall\": 0.1484375, \"cutoff\": 46, \"precision\": 0.41304347826086957, \"review_profilename\": \"SpdKilz\"}, {\"count\": 1, \"recall\": 0.0, \"cutoff\": 1, \"precision\": 0.0, \"review_profilename\": \"Sygma\"}, {\"count\": 1, \"recall\": 0.0, \"cutoff\": 2, \"precision\": 0.0, \"review_profilename\": \"Sygma\"}, {\"count\": 1, \"recall\": 0.0, \"cutoff\": 3, \"precision\": 0.0, \"review_profilename\": \"Sygma\"}, {\"count\": 1, \"recall\": 0.0, \"cutoff\": 4, \"precision\": 0.0, \"review_profilename\": \"Sygma\"}, {\"count\": 1, \"recall\": 0.0, \"cutoff\": 5, \"precision\": 0.0, \"review_profilename\": \"Sygma\"}, {\"count\": 1, \"recall\": 0.0, \"cutoff\": 6, \"precision\": 0.0, \"review_profilename\": \"Sygma\"}, {\"count\": 1, \"recall\": 0.0, \"cutoff\": 7, \"precision\": 0.0, \"review_profilename\": \"Sygma\"}, {\"count\": 1, \"recall\": 0.0, \"cutoff\": 8, \"precision\": 0.0, \"review_profilename\": \"Sygma\"}, {\"count\": 1, \"recall\": 0.0, \"cutoff\": 9, \"precision\": 0.0, \"review_profilename\": \"Sygma\"}, {\"count\": 1, \"recall\": 0.0, \"cutoff\": 10, \"precision\": 0.0, \"review_profilename\": \"Sygma\"}, {\"count\": 1, \"recall\": 0.0, \"cutoff\": 11, \"precision\": 0.0, \"review_profilename\": \"Sygma\"}, {\"count\": 1, \"recall\": 0.0, \"cutoff\": 16, \"precision\": 0.0, \"review_profilename\": \"Sygma\"}, {\"count\": 1, \"recall\": 0.0, \"cutoff\": 21, \"precision\": 0.0, \"review_profilename\": \"Sygma\"}, {\"count\": 1, \"recall\": 0.0, \"cutoff\": 26, \"precision\": 0.0, \"review_profilename\": \"Sygma\"}, {\"count\": 1, \"recall\": 0.0, \"cutoff\": 31, \"precision\": 0.0, \"review_profilename\": \"Sygma\"}, {\"count\": 1, \"recall\": 0.0, \"cutoff\": 36, \"precision\": 0.0, \"review_profilename\": \"Sygma\"}, {\"count\": 1, \"recall\": 0.0, \"cutoff\": 41, \"precision\": 0.0, \"review_profilename\": \"Sygma\"}, {\"count\": 1, \"recall\": 0.0, \"cutoff\": 46, \"precision\": 0.0, \"review_profilename\": \"Sygma\"}, {\"count\": 1, \"recall\": 0.0, \"cutoff\": 1, \"precision\": 0.0, \"review_profilename\": \"TheSicilian33\"}, {\"count\": 1, \"recall\": 0.0, \"cutoff\": 2, \"precision\": 0.0, \"review_profilename\": \"TheSicilian33\"}, {\"count\": 1, \"recall\": 0.0, \"cutoff\": 3, \"precision\": 0.0, \"review_profilename\": \"TheSicilian33\"}, {\"count\": 1, \"recall\": 0.0, \"cutoff\": 4, \"precision\": 0.0, \"review_profilename\": \"TheSicilian33\"}, {\"count\": 1, \"recall\": 0.0, \"cutoff\": 5, \"precision\": 0.0, \"review_profilename\": \"TheSicilian33\"}, {\"count\": 1, \"recall\": 0.0, \"cutoff\": 6, \"precision\": 0.0, \"review_profilename\": \"TheSicilian33\"}, {\"count\": 1, \"recall\": 0.0, \"cutoff\": 7, \"precision\": 0.0, \"review_profilename\": \"TheSicilian33\"}, {\"count\": 1, \"recall\": 0.0, \"cutoff\": 8, \"precision\": 0.0, \"review_profilename\": \"TheSicilian33\"}, {\"count\": 1, \"recall\": 0.0, \"cutoff\": 9, \"precision\": 0.0, \"review_profilename\": \"TheSicilian33\"}, {\"count\": 1, \"recall\": 0.0, \"cutoff\": 10, \"precision\": 0.0, \"review_profilename\": \"TheSicilian33\"}, {\"count\": 1, \"recall\": 0.0, \"cutoff\": 11, \"precision\": 0.0, \"review_profilename\": \"TheSicilian33\"}, {\"count\": 1, \"recall\": 0.0, \"cutoff\": 16, \"precision\": 0.0, \"review_profilename\": \"TheSicilian33\"}, {\"count\": 1, \"recall\": 0.0, \"cutoff\": 21, \"precision\": 0.0, \"review_profilename\": \"TheSicilian33\"}, {\"count\": 1, \"recall\": 0.0, \"cutoff\": 26, \"precision\": 0.0, \"review_profilename\": \"TheSicilian33\"}, {\"count\": 1, \"recall\": 0.0, \"cutoff\": 31, \"precision\": 0.0, \"review_profilename\": \"TheSicilian33\"}, {\"count\": 1, \"recall\": 0.0, \"cutoff\": 36, \"precision\": 0.0, \"review_profilename\": \"TheSicilian33\"}, {\"count\": 1, \"recall\": 0.0, \"cutoff\": 41, \"precision\": 0.0, \"review_profilename\": \"TheSicilian33\"}, {\"count\": 1, \"recall\": 0.0, \"cutoff\": 46, \"precision\": 0.0, \"review_profilename\": \"TheSicilian33\"}, {\"count\": 3, \"recall\": 0.0, \"cutoff\": 1, \"precision\": 0.0, \"review_profilename\": \"TheYeagermeister\"}, {\"count\": 3, \"recall\": 0.0, \"cutoff\": 2, \"precision\": 0.0, \"review_profilename\": \"TheYeagermeister\"}, {\"count\": 3, \"recall\": 0.0, \"cutoff\": 3, \"precision\": 0.0, \"review_profilename\": \"TheYeagermeister\"}, {\"count\": 3, \"recall\": 0.0, \"cutoff\": 4, \"precision\": 0.0, \"review_profilename\": \"TheYeagermeister\"}, {\"count\": 3, \"recall\": 0.0, \"cutoff\": 5, \"precision\": 0.0, \"review_profilename\": \"TheYeagermeister\"}, {\"count\": 3, \"recall\": 0.0, \"cutoff\": 6, \"precision\": 0.0, \"review_profilename\": \"TheYeagermeister\"}, {\"count\": 3, \"recall\": 0.0, \"cutoff\": 7, \"precision\": 0.0, \"review_profilename\": \"TheYeagermeister\"}, {\"count\": 3, \"recall\": 0.0, \"cutoff\": 8, \"precision\": 0.0, \"review_profilename\": \"TheYeagermeister\"}, {\"count\": 3, \"recall\": 0.0, \"cutoff\": 9, \"precision\": 0.0, \"review_profilename\": \"TheYeagermeister\"}, {\"count\": 3, \"recall\": 0.0, \"cutoff\": 10, \"precision\": 0.0, \"review_profilename\": \"TheYeagermeister\"}, {\"count\": 3, \"recall\": 0.0, \"cutoff\": 11, \"precision\": 0.0, \"review_profilename\": \"TheYeagermeister\"}, {\"count\": 3, \"recall\": 0.0, \"cutoff\": 16, \"precision\": 0.0, \"review_profilename\": \"TheYeagermeister\"}, {\"count\": 3, \"recall\": 0.0, \"cutoff\": 21, \"precision\": 0.0, \"review_profilename\": \"TheYeagermeister\"}, {\"count\": 3, \"recall\": 0.0, \"cutoff\": 26, \"precision\": 0.0, \"review_profilename\": \"TheYeagermeister\"}, {\"count\": 3, \"recall\": 0.0, \"cutoff\": 31, \"precision\": 0.0, \"review_profilename\": \"TheYeagermeister\"}, {\"count\": 3, \"recall\": 0.0, \"cutoff\": 36, \"precision\": 0.0, \"review_profilename\": \"TheYeagermeister\"}, {\"count\": 3, \"recall\": 0.0, \"cutoff\": 41, \"precision\": 0.0, \"review_profilename\": \"TheYeagermeister\"}, {\"count\": 3, \"recall\": 0.0, \"cutoff\": 46, \"precision\": 0.0, \"review_profilename\": \"TheYeagermeister\"}, {\"count\": 25, \"recall\": 0.0, \"cutoff\": 1, \"precision\": 0.0, \"review_profilename\": \"TippySelenoid\"}, {\"count\": 25, \"recall\": 0.0, \"cutoff\": 2, \"precision\": 0.0, \"review_profilename\": \"TippySelenoid\"}, {\"count\": 25, \"recall\": 0.0, \"cutoff\": 3, \"precision\": 0.0, \"review_profilename\": \"TippySelenoid\"}, {\"count\": 25, \"recall\": 0.04, \"cutoff\": 4, \"precision\": 0.25, \"review_profilename\": \"TippySelenoid\"}, {\"count\": 25, \"recall\": 0.04, \"cutoff\": 5, \"precision\": 0.2, \"review_profilename\": \"TippySelenoid\"}, {\"count\": 25, \"recall\": 0.04, \"cutoff\": 6, \"precision\": 0.16666666666666666, \"review_profilename\": \"TippySelenoid\"}, {\"count\": 25, \"recall\": 0.04, \"cutoff\": 7, \"precision\": 0.14285714285714285, \"review_profilename\": \"TippySelenoid\"}, {\"count\": 25, \"recall\": 0.08, \"cutoff\": 8, \"precision\": 0.25, \"review_profilename\": \"TippySelenoid\"}, {\"count\": 25, \"recall\": 0.08, \"cutoff\": 9, \"precision\": 0.2222222222222222, \"review_profilename\": \"TippySelenoid\"}, {\"count\": 25, \"recall\": 0.08, \"cutoff\": 10, \"precision\": 0.2, \"review_profilename\": \"TippySelenoid\"}, {\"count\": 25, \"recall\": 0.12, \"cutoff\": 11, \"precision\": 0.2727272727272727, \"review_profilename\": \"TippySelenoid\"}, {\"count\": 25, \"recall\": 0.16, \"cutoff\": 16, \"precision\": 0.25, \"review_profilename\": \"TippySelenoid\"}, {\"count\": 25, \"recall\": 0.16, \"cutoff\": 21, \"precision\": 0.19047619047619047, \"review_profilename\": \"TippySelenoid\"}, {\"count\": 25, \"recall\": 0.2, \"cutoff\": 26, \"precision\": 0.19230769230769232, \"review_profilename\": \"TippySelenoid\"}, {\"count\": 25, \"recall\": 0.24, \"cutoff\": 31, \"precision\": 0.1935483870967742, \"review_profilename\": \"TippySelenoid\"}, {\"count\": 25, \"recall\": 0.24, \"cutoff\": 36, \"precision\": 0.16666666666666666, \"review_profilename\": \"TippySelenoid\"}, {\"count\": 25, \"recall\": 0.24, \"cutoff\": 41, \"precision\": 0.14634146341463414, \"review_profilename\": \"TippySelenoid\"}, {\"count\": 25, \"recall\": 0.24, \"cutoff\": 46, \"precision\": 0.13043478260869565, \"review_profilename\": \"TippySelenoid\"}, {\"count\": 3, \"recall\": 0.0, \"cutoff\": 1, \"precision\": 0.0, \"review_profilename\": \"Tudval\"}, {\"count\": 3, \"recall\": 0.0, \"cutoff\": 2, \"precision\": 0.0, \"review_profilename\": \"Tudval\"}, {\"count\": 3, \"recall\": 0.0, \"cutoff\": 3, \"precision\": 0.0, \"review_profilename\": \"Tudval\"}, {\"count\": 3, \"recall\": 0.0, \"cutoff\": 4, \"precision\": 0.0, \"review_profilename\": \"Tudval\"}, {\"count\": 3, \"recall\": 0.0, \"cutoff\": 5, \"precision\": 0.0, \"review_profilename\": \"Tudval\"}, {\"count\": 3, \"recall\": 0.0, \"cutoff\": 6, \"precision\": 0.0, \"review_profilename\": \"Tudval\"}, {\"count\": 3, \"recall\": 0.0, \"cutoff\": 7, \"precision\": 0.0, \"review_profilename\": \"Tudval\"}, {\"count\": 3, \"recall\": 0.0, \"cutoff\": 8, \"precision\": 0.0, \"review_profilename\": \"Tudval\"}, {\"count\": 3, \"recall\": 0.0, \"cutoff\": 9, \"precision\": 0.0, \"review_profilename\": \"Tudval\"}, {\"count\": 3, \"recall\": 0.0, \"cutoff\": 10, \"precision\": 0.0, \"review_profilename\": \"Tudval\"}, {\"count\": 3, \"recall\": 0.0, \"cutoff\": 11, \"precision\": 0.0, \"review_profilename\": \"Tudval\"}, {\"count\": 3, \"recall\": 0.0, \"cutoff\": 16, \"precision\": 0.0, \"review_profilename\": \"Tudval\"}, {\"count\": 3, \"recall\": 0.0, \"cutoff\": 21, \"precision\": 0.0, \"review_profilename\": \"Tudval\"}, {\"count\": 3, \"recall\": 0.0, \"cutoff\": 26, \"precision\": 0.0, \"review_profilename\": \"Tudval\"}, {\"count\": 3, \"recall\": 0.3333333333333333, \"cutoff\": 31, \"precision\": 0.03225806451612903, \"review_profilename\": \"Tudval\"}, {\"count\": 3, \"recall\": 0.3333333333333333, \"cutoff\": 36, \"precision\": 0.027777777777777776, \"review_profilename\": \"Tudval\"}, {\"count\": 3, \"recall\": 0.3333333333333333, \"cutoff\": 41, \"precision\": 0.024390243902439025, \"review_profilename\": \"Tudval\"}, {\"count\": 3, \"recall\": 0.3333333333333333, \"cutoff\": 46, \"precision\": 0.021739130434782608, \"review_profilename\": \"Tudval\"}, {\"count\": 1, \"recall\": 1.0, \"cutoff\": 1, \"precision\": 1.0, \"review_profilename\": \"Turnerp561\"}, {\"count\": 1, \"recall\": 1.0, \"cutoff\": 2, \"precision\": 0.5, \"review_profilename\": \"Turnerp561\"}, {\"count\": 1, \"recall\": 1.0, \"cutoff\": 3, \"precision\": 0.3333333333333333, \"review_profilename\": \"Turnerp561\"}, {\"count\": 1, \"recall\": 1.0, \"cutoff\": 4, \"precision\": 0.25, \"review_profilename\": \"Turnerp561\"}, {\"count\": 1, \"recall\": 1.0, \"cutoff\": 5, \"precision\": 0.2, \"review_profilename\": \"Turnerp561\"}, {\"count\": 1, \"recall\": 1.0, \"cutoff\": 6, \"precision\": 0.16666666666666666, \"review_profilename\": \"Turnerp561\"}, {\"count\": 1, \"recall\": 1.0, \"cutoff\": 7, \"precision\": 0.14285714285714285, \"review_profilename\": \"Turnerp561\"}, {\"count\": 1, \"recall\": 1.0, \"cutoff\": 8, \"precision\": 0.125, \"review_profilename\": \"Turnerp561\"}, {\"count\": 1, \"recall\": 1.0, \"cutoff\": 9, \"precision\": 0.1111111111111111, \"review_profilename\": \"Turnerp561\"}, {\"count\": 1, \"recall\": 1.0, \"cutoff\": 10, \"precision\": 0.1, \"review_profilename\": \"Turnerp561\"}, {\"count\": 1, \"recall\": 1.0, \"cutoff\": 11, \"precision\": 0.09090909090909091, \"review_profilename\": \"Turnerp561\"}, {\"count\": 1, \"recall\": 1.0, \"cutoff\": 16, \"precision\": 0.0625, \"review_profilename\": \"Turnerp561\"}, {\"count\": 1, \"recall\": 1.0, \"cutoff\": 21, \"precision\": 0.047619047619047616, \"review_profilename\": \"Turnerp561\"}, {\"count\": 1, \"recall\": 1.0, \"cutoff\": 26, \"precision\": 0.038461538461538464, \"review_profilename\": \"Turnerp561\"}, {\"count\": 1, \"recall\": 1.0, \"cutoff\": 31, \"precision\": 0.03225806451612903, \"review_profilename\": \"Turnerp561\"}, {\"count\": 1, \"recall\": 1.0, \"cutoff\": 36, \"precision\": 0.027777777777777776, \"review_profilename\": \"Turnerp561\"}, {\"count\": 1, \"recall\": 1.0, \"cutoff\": 41, \"precision\": 0.024390243902439025, \"review_profilename\": \"Turnerp561\"}, {\"count\": 1, \"recall\": 1.0, \"cutoff\": 46, \"precision\": 0.021739130434782608, \"review_profilename\": \"Turnerp561\"}, {\"count\": 1, \"recall\": 0.0, \"cutoff\": 1, \"precision\": 0.0, \"review_profilename\": \"VirtualAsylum\"}, {\"count\": 1, \"recall\": 0.0, \"cutoff\": 2, \"precision\": 0.0, \"review_profilename\": \"VirtualAsylum\"}, {\"count\": 1, \"recall\": 0.0, \"cutoff\": 3, \"precision\": 0.0, \"review_profilename\": \"VirtualAsylum\"}, {\"count\": 1, \"recall\": 0.0, \"cutoff\": 4, \"precision\": 0.0, \"review_profilename\": \"VirtualAsylum\"}, {\"count\": 1, \"recall\": 0.0, \"cutoff\": 5, \"precision\": 0.0, \"review_profilename\": \"VirtualAsylum\"}, {\"count\": 1, \"recall\": 0.0, \"cutoff\": 6, \"precision\": 0.0, \"review_profilename\": \"VirtualAsylum\"}, {\"count\": 1, \"recall\": 0.0, \"cutoff\": 7, \"precision\": 0.0, \"review_profilename\": \"VirtualAsylum\"}, {\"count\": 1, \"recall\": 0.0, \"cutoff\": 8, \"precision\": 0.0, \"review_profilename\": \"VirtualAsylum\"}, {\"count\": 1, \"recall\": 0.0, \"cutoff\": 9, \"precision\": 0.0, \"review_profilename\": \"VirtualAsylum\"}, {\"count\": 1, \"recall\": 0.0, \"cutoff\": 10, \"precision\": 0.0, \"review_profilename\": \"VirtualAsylum\"}, {\"count\": 1, \"recall\": 0.0, \"cutoff\": 11, \"precision\": 0.0, \"review_profilename\": \"VirtualAsylum\"}, {\"count\": 1, \"recall\": 0.0, \"cutoff\": 16, \"precision\": 0.0, \"review_profilename\": \"VirtualAsylum\"}, {\"count\": 1, \"recall\": 0.0, \"cutoff\": 21, \"precision\": 0.0, \"review_profilename\": \"VirtualAsylum\"}, {\"count\": 1, \"recall\": 0.0, \"cutoff\": 26, \"precision\": 0.0, \"review_profilename\": \"VirtualAsylum\"}, {\"count\": 1, \"recall\": 0.0, \"cutoff\": 31, \"precision\": 0.0, \"review_profilename\": \"VirtualAsylum\"}, {\"count\": 1, \"recall\": 0.0, \"cutoff\": 36, \"precision\": 0.0, \"review_profilename\": \"VirtualAsylum\"}, {\"count\": 1, \"recall\": 0.0, \"cutoff\": 41, \"precision\": 0.0, \"review_profilename\": \"VirtualAsylum\"}, {\"count\": 1, \"recall\": 0.0, \"cutoff\": 46, \"precision\": 0.0, \"review_profilename\": \"VirtualAsylum\"}, {\"count\": 2, \"recall\": 0.0, \"cutoff\": 1, \"precision\": 0.0, \"review_profilename\": \"Weasel\"}, {\"count\": 2, \"recall\": 0.0, \"cutoff\": 2, \"precision\": 0.0, \"review_profilename\": \"Weasel\"}, {\"count\": 2, \"recall\": 0.0, \"cutoff\": 3, \"precision\": 0.0, \"review_profilename\": \"Weasel\"}, {\"count\": 2, \"recall\": 0.0, \"cutoff\": 4, \"precision\": 0.0, \"review_profilename\": \"Weasel\"}, {\"count\": 2, \"recall\": 0.0, \"cutoff\": 5, \"precision\": 0.0, \"review_profilename\": \"Weasel\"}, {\"count\": 2, \"recall\": 0.0, \"cutoff\": 6, \"precision\": 0.0, \"review_profilename\": \"Weasel\"}, {\"count\": 2, \"recall\": 0.0, \"cutoff\": 7, \"precision\": 0.0, \"review_profilename\": \"Weasel\"}, {\"count\": 2, \"recall\": 0.0, \"cutoff\": 8, \"precision\": 0.0, \"review_profilename\": \"Weasel\"}, {\"count\": 2, \"recall\": 0.0, \"cutoff\": 9, \"precision\": 0.0, \"review_profilename\": \"Weasel\"}, {\"count\": 2, \"recall\": 0.0, \"cutoff\": 10, \"precision\": 0.0, \"review_profilename\": \"Weasel\"}, {\"count\": 2, \"recall\": 0.0, \"cutoff\": 11, \"precision\": 0.0, \"review_profilename\": \"Weasel\"}, {\"count\": 2, \"recall\": 0.5, \"cutoff\": 16, \"precision\": 0.0625, \"review_profilename\": \"Weasel\"}, {\"count\": 2, \"recall\": 0.5, \"cutoff\": 21, \"precision\": 0.047619047619047616, \"review_profilename\": \"Weasel\"}, {\"count\": 2, \"recall\": 0.5, \"cutoff\": 26, \"precision\": 0.038461538461538464, \"review_profilename\": \"Weasel\"}, {\"count\": 2, \"recall\": 0.5, \"cutoff\": 31, \"precision\": 0.03225806451612903, \"review_profilename\": \"Weasel\"}, {\"count\": 2, \"recall\": 0.5, \"cutoff\": 36, \"precision\": 0.027777777777777776, \"review_profilename\": \"Weasel\"}, {\"count\": 2, \"recall\": 0.5, \"cutoff\": 41, \"precision\": 0.024390243902439025, \"review_profilename\": \"Weasel\"}, {\"count\": 2, \"recall\": 0.5, \"cutoff\": 46, \"precision\": 0.021739130434782608, \"review_profilename\": \"Weasel\"}, {\"count\": 1, \"recall\": 0.0, \"cutoff\": 1, \"precision\": 0.0, \"review_profilename\": \"bdawe\"}, {\"count\": 1, \"recall\": 0.0, \"cutoff\": 2, \"precision\": 0.0, \"review_profilename\": \"bdawe\"}, {\"count\": 1, \"recall\": 0.0, \"cutoff\": 3, \"precision\": 0.0, \"review_profilename\": \"bdawe\"}, {\"count\": 1, \"recall\": 0.0, \"cutoff\": 4, \"precision\": 0.0, \"review_profilename\": \"bdawe\"}, {\"count\": 1, \"recall\": 0.0, \"cutoff\": 5, \"precision\": 0.0, \"review_profilename\": \"bdawe\"}, {\"count\": 1, \"recall\": 0.0, \"cutoff\": 6, \"precision\": 0.0, \"review_profilename\": \"bdawe\"}, {\"count\": 1, \"recall\": 0.0, \"cutoff\": 7, \"precision\": 0.0, \"review_profilename\": \"bdawe\"}, {\"count\": 1, \"recall\": 0.0, \"cutoff\": 8, \"precision\": 0.0, \"review_profilename\": \"bdawe\"}, {\"count\": 1, \"recall\": 0.0, \"cutoff\": 9, \"precision\": 0.0, \"review_profilename\": \"bdawe\"}, {\"count\": 1, \"recall\": 0.0, \"cutoff\": 10, \"precision\": 0.0, \"review_profilename\": \"bdawe\"}, {\"count\": 1, \"recall\": 0.0, \"cutoff\": 11, \"precision\": 0.0, \"review_profilename\": \"bdawe\"}, {\"count\": 1, \"recall\": 0.0, \"cutoff\": 16, \"precision\": 0.0, \"review_profilename\": \"bdawe\"}, {\"count\": 1, \"recall\": 0.0, \"cutoff\": 21, \"precision\": 0.0, \"review_profilename\": \"bdawe\"}, {\"count\": 1, \"recall\": 0.0, \"cutoff\": 26, \"precision\": 0.0, \"review_profilename\": \"bdawe\"}, {\"count\": 1, \"recall\": 0.0, \"cutoff\": 31, \"precision\": 0.0, \"review_profilename\": \"bdawe\"}, {\"count\": 1, \"recall\": 0.0, \"cutoff\": 36, \"precision\": 0.0, \"review_profilename\": \"bdawe\"}, {\"count\": 1, \"recall\": 0.0, \"cutoff\": 41, \"precision\": 0.0, \"review_profilename\": \"bdawe\"}, {\"count\": 1, \"recall\": 0.0, \"cutoff\": 46, \"precision\": 0.0, \"review_profilename\": \"bdawe\"}, {\"count\": 64, \"recall\": 0.015625, \"cutoff\": 1, \"precision\": 1.0, \"review_profilename\": \"beergod1\"}, {\"count\": 64, \"recall\": 0.015625, \"cutoff\": 2, \"precision\": 0.5, \"review_profilename\": \"beergod1\"}, {\"count\": 64, \"recall\": 0.015625, \"cutoff\": 3, \"precision\": 0.3333333333333333, \"review_profilename\": \"beergod1\"}, {\"count\": 64, \"recall\": 0.015625, \"cutoff\": 4, \"precision\": 0.25, \"review_profilename\": \"beergod1\"}, {\"count\": 64, \"recall\": 0.015625, \"cutoff\": 5, \"precision\": 0.2, \"review_profilename\": \"beergod1\"}, {\"count\": 64, \"recall\": 0.015625, \"cutoff\": 6, \"precision\": 0.16666666666666666, \"review_profilename\": \"beergod1\"}, {\"count\": 64, \"recall\": 0.015625, \"cutoff\": 7, \"precision\": 0.14285714285714285, \"review_profilename\": \"beergod1\"}, {\"count\": 64, \"recall\": 0.015625, \"cutoff\": 8, \"precision\": 0.125, \"review_profilename\": \"beergod1\"}, {\"count\": 64, \"recall\": 0.015625, \"cutoff\": 9, \"precision\": 0.1111111111111111, \"review_profilename\": \"beergod1\"}, {\"count\": 64, \"recall\": 0.015625, \"cutoff\": 10, \"precision\": 0.1, \"review_profilename\": \"beergod1\"}, {\"count\": 64, \"recall\": 0.015625, \"cutoff\": 11, \"precision\": 0.09090909090909091, \"review_profilename\": \"beergod1\"}, {\"count\": 64, \"recall\": 0.0625, \"cutoff\": 16, \"precision\": 0.25, \"review_profilename\": \"beergod1\"}, {\"count\": 64, \"recall\": 0.078125, \"cutoff\": 21, \"precision\": 0.23809523809523808, \"review_profilename\": \"beergod1\"}, {\"count\": 64, \"recall\": 0.09375, \"cutoff\": 26, \"precision\": 0.23076923076923078, \"review_profilename\": \"beergod1\"}, {\"count\": 64, \"recall\": 0.09375, \"cutoff\": 31, \"precision\": 0.1935483870967742, \"review_profilename\": \"beergod1\"}, {\"count\": 64, \"recall\": 0.09375, \"cutoff\": 36, \"precision\": 0.16666666666666666, \"review_profilename\": \"beergod1\"}, {\"count\": 64, \"recall\": 0.109375, \"cutoff\": 41, \"precision\": 0.17073170731707318, \"review_profilename\": \"beergod1\"}, {\"count\": 64, \"recall\": 0.109375, \"cutoff\": 46, \"precision\": 0.15217391304347827, \"review_profilename\": \"beergod1\"}, {\"count\": 68, \"recall\": 0.0, \"cutoff\": 1, \"precision\": 0.0, \"review_profilename\": \"brewdoc75\"}, {\"count\": 68, \"recall\": 0.0, \"cutoff\": 2, \"precision\": 0.0, \"review_profilename\": \"brewdoc75\"}, {\"count\": 68, \"recall\": 0.0, \"cutoff\": 3, \"precision\": 0.0, \"review_profilename\": \"brewdoc75\"}, {\"count\": 68, \"recall\": 0.014705882352941176, \"cutoff\": 4, \"precision\": 0.25, \"review_profilename\": \"brewdoc75\"}, {\"count\": 68, \"recall\": 0.029411764705882353, \"cutoff\": 5, \"precision\": 0.4, \"review_profilename\": \"brewdoc75\"}, {\"count\": 68, \"recall\": 0.029411764705882353, \"cutoff\": 6, \"precision\": 0.3333333333333333, \"review_profilename\": \"brewdoc75\"}, {\"count\": 68, \"recall\": 0.04411764705882353, \"cutoff\": 7, \"precision\": 0.42857142857142855, \"review_profilename\": \"brewdoc75\"}, {\"count\": 68, \"recall\": 0.058823529411764705, \"cutoff\": 8, \"precision\": 0.5, \"review_profilename\": \"brewdoc75\"}, {\"count\": 68, \"recall\": 0.058823529411764705, \"cutoff\": 9, \"precision\": 0.4444444444444444, \"review_profilename\": \"brewdoc75\"}, {\"count\": 68, \"recall\": 0.058823529411764705, \"cutoff\": 10, \"precision\": 0.4, \"review_profilename\": \"brewdoc75\"}, {\"count\": 68, \"recall\": 0.058823529411764705, \"cutoff\": 11, \"precision\": 0.36363636363636365, \"review_profilename\": \"brewdoc75\"}, {\"count\": 68, \"recall\": 0.058823529411764705, \"cutoff\": 16, \"precision\": 0.25, \"review_profilename\": \"brewdoc75\"}, {\"count\": 68, \"recall\": 0.058823529411764705, \"cutoff\": 21, \"precision\": 0.19047619047619047, \"review_profilename\": \"brewdoc75\"}, {\"count\": 68, \"recall\": 0.07352941176470588, \"cutoff\": 26, \"precision\": 0.19230769230769232, \"review_profilename\": \"brewdoc75\"}, {\"count\": 68, \"recall\": 0.10294117647058823, \"cutoff\": 31, \"precision\": 0.22580645161290322, \"review_profilename\": \"brewdoc75\"}, {\"count\": 68, \"recall\": 0.11764705882352941, \"cutoff\": 36, \"precision\": 0.2222222222222222, \"review_profilename\": \"brewdoc75\"}, {\"count\": 68, \"recall\": 0.11764705882352941, \"cutoff\": 41, \"precision\": 0.1951219512195122, \"review_profilename\": \"brewdoc75\"}, {\"count\": 68, \"recall\": 0.1323529411764706, \"cutoff\": 46, \"precision\": 0.1956521739130435, \"review_profilename\": \"brewdoc75\"}, {\"count\": 5, \"recall\": 0.0, \"cutoff\": 1, \"precision\": 0.0, \"review_profilename\": \"cfleisher\"}, {\"count\": 5, \"recall\": 0.0, \"cutoff\": 2, \"precision\": 0.0, \"review_profilename\": \"cfleisher\"}, {\"count\": 5, \"recall\": 0.0, \"cutoff\": 3, \"precision\": 0.0, \"review_profilename\": \"cfleisher\"}, {\"count\": 5, \"recall\": 0.0, \"cutoff\": 4, \"precision\": 0.0, \"review_profilename\": \"cfleisher\"}, {\"count\": 5, \"recall\": 0.2, \"cutoff\": 5, \"precision\": 0.2, \"review_profilename\": \"cfleisher\"}, {\"count\": 5, \"recall\": 0.2, \"cutoff\": 6, \"precision\": 0.16666666666666666, \"review_profilename\": \"cfleisher\"}, {\"count\": 5, \"recall\": 0.2, \"cutoff\": 7, \"precision\": 0.14285714285714285, \"review_profilename\": \"cfleisher\"}, {\"count\": 5, \"recall\": 0.2, \"cutoff\": 8, \"precision\": 0.125, \"review_profilename\": \"cfleisher\"}, {\"count\": 5, \"recall\": 0.2, \"cutoff\": 9, \"precision\": 0.1111111111111111, \"review_profilename\": \"cfleisher\"}, {\"count\": 5, \"recall\": 0.2, \"cutoff\": 10, \"precision\": 0.1, \"review_profilename\": \"cfleisher\"}, {\"count\": 5, \"recall\": 0.2, \"cutoff\": 11, \"precision\": 0.09090909090909091, \"review_profilename\": \"cfleisher\"}, {\"count\": 5, \"recall\": 0.2, \"cutoff\": 16, \"precision\": 0.0625, \"review_profilename\": \"cfleisher\"}, {\"count\": 5, \"recall\": 0.2, \"cutoff\": 21, \"precision\": 0.047619047619047616, \"review_profilename\": \"cfleisher\"}, {\"count\": 5, \"recall\": 0.2, \"cutoff\": 26, \"precision\": 0.038461538461538464, \"review_profilename\": \"cfleisher\"}, {\"count\": 5, \"recall\": 0.2, \"cutoff\": 31, \"precision\": 0.03225806451612903, \"review_profilename\": \"cfleisher\"}, {\"count\": 5, \"recall\": 0.2, \"cutoff\": 36, \"precision\": 0.027777777777777776, \"review_profilename\": \"cfleisher\"}, {\"count\": 5, \"recall\": 0.2, \"cutoff\": 41, \"precision\": 0.024390243902439025, \"review_profilename\": \"cfleisher\"}, {\"count\": 5, \"recall\": 0.2, \"cutoff\": 46, \"precision\": 0.021739130434782608, \"review_profilename\": \"cfleisher\"}, {\"count\": 1, \"recall\": 0.0, \"cutoff\": 1, \"precision\": 0.0, \"review_profilename\": \"columbo\"}, {\"count\": 1, \"recall\": 0.0, \"cutoff\": 2, \"precision\": 0.0, \"review_profilename\": \"columbo\"}, {\"count\": 1, \"recall\": 0.0, \"cutoff\": 3, \"precision\": 0.0, \"review_profilename\": \"columbo\"}, {\"count\": 1, \"recall\": 0.0, \"cutoff\": 4, \"precision\": 0.0, \"review_profilename\": \"columbo\"}, {\"count\": 1, \"recall\": 0.0, \"cutoff\": 5, \"precision\": 0.0, \"review_profilename\": \"columbo\"}, {\"count\": 1, \"recall\": 0.0, \"cutoff\": 6, \"precision\": 0.0, \"review_profilename\": \"columbo\"}, {\"count\": 1, \"recall\": 0.0, \"cutoff\": 7, \"precision\": 0.0, \"review_profilename\": \"columbo\"}, {\"count\": 1, \"recall\": 0.0, \"cutoff\": 8, \"precision\": 0.0, \"review_profilename\": \"columbo\"}, {\"count\": 1, \"recall\": 0.0, \"cutoff\": 9, \"precision\": 0.0, \"review_profilename\": \"columbo\"}, {\"count\": 1, \"recall\": 0.0, \"cutoff\": 10, \"precision\": 0.0, \"review_profilename\": \"columbo\"}, {\"count\": 1, \"recall\": 0.0, \"cutoff\": 11, \"precision\": 0.0, \"review_profilename\": \"columbo\"}, {\"count\": 1, \"recall\": 0.0, \"cutoff\": 16, \"precision\": 0.0, \"review_profilename\": \"columbo\"}, {\"count\": 1, \"recall\": 0.0, \"cutoff\": 21, \"precision\": 0.0, \"review_profilename\": \"columbo\"}, {\"count\": 1, \"recall\": 0.0, \"cutoff\": 26, \"precision\": 0.0, \"review_profilename\": \"columbo\"}, {\"count\": 1, \"recall\": 0.0, \"cutoff\": 31, \"precision\": 0.0, \"review_profilename\": \"columbo\"}, {\"count\": 1, \"recall\": 0.0, \"cutoff\": 36, \"precision\": 0.0, \"review_profilename\": \"columbo\"}, {\"count\": 1, \"recall\": 0.0, \"cutoff\": 41, \"precision\": 0.0, \"review_profilename\": \"columbo\"}, {\"count\": 1, \"recall\": 0.0, \"cutoff\": 46, \"precision\": 0.0, \"review_profilename\": \"columbo\"}, {\"count\": 2, \"recall\": 0.0, \"cutoff\": 1, \"precision\": 0.0, \"review_profilename\": \"davidvaz\"}, {\"count\": 2, \"recall\": 0.0, \"cutoff\": 2, \"precision\": 0.0, \"review_profilename\": \"davidvaz\"}, {\"count\": 2, \"recall\": 0.0, \"cutoff\": 3, \"precision\": 0.0, \"review_profilename\": \"davidvaz\"}, {\"count\": 2, \"recall\": 0.0, \"cutoff\": 4, \"precision\": 0.0, \"review_profilename\": \"davidvaz\"}, {\"count\": 2, \"recall\": 0.0, \"cutoff\": 5, \"precision\": 0.0, \"review_profilename\": \"davidvaz\"}, {\"count\": 2, \"recall\": 0.0, \"cutoff\": 6, \"precision\": 0.0, \"review_profilename\": \"davidvaz\"}, {\"count\": 2, \"recall\": 0.0, \"cutoff\": 7, \"precision\": 0.0, \"review_profilename\": \"davidvaz\"}, {\"count\": 2, \"recall\": 0.0, \"cutoff\": 8, \"precision\": 0.0, \"review_profilename\": \"davidvaz\"}, {\"count\": 2, \"recall\": 0.0, \"cutoff\": 9, \"precision\": 0.0, \"review_profilename\": \"davidvaz\"}, {\"count\": 2, \"recall\": 0.0, \"cutoff\": 10, \"precision\": 0.0, \"review_profilename\": \"davidvaz\"}, {\"count\": 2, \"recall\": 0.0, \"cutoff\": 11, \"precision\": 0.0, \"review_profilename\": \"davidvaz\"}, {\"count\": 2, \"recall\": 0.0, \"cutoff\": 16, \"precision\": 0.0, \"review_profilename\": \"davidvaz\"}, {\"count\": 2, \"recall\": 0.0, \"cutoff\": 21, \"precision\": 0.0, \"review_profilename\": \"davidvaz\"}, {\"count\": 2, \"recall\": 0.0, \"cutoff\": 26, \"precision\": 0.0, \"review_profilename\": \"davidvaz\"}, {\"count\": 2, \"recall\": 0.0, \"cutoff\": 31, \"precision\": 0.0, \"review_profilename\": \"davidvaz\"}, {\"count\": 2, \"recall\": 0.0, \"cutoff\": 36, \"precision\": 0.0, \"review_profilename\": \"davidvaz\"}, {\"count\": 2, \"recall\": 0.0, \"cutoff\": 41, \"precision\": 0.0, \"review_profilename\": \"davidvaz\"}, {\"count\": 2, \"recall\": 0.0, \"cutoff\": 46, \"precision\": 0.0, \"review_profilename\": \"davidvaz\"}, {\"count\": 39, \"recall\": 0.0, \"cutoff\": 1, \"precision\": 0.0, \"review_profilename\": \"deepsouth\"}, {\"count\": 39, \"recall\": 0.0, \"cutoff\": 2, \"precision\": 0.0, \"review_profilename\": \"deepsouth\"}, {\"count\": 39, \"recall\": 0.0, \"cutoff\": 3, \"precision\": 0.0, \"review_profilename\": \"deepsouth\"}, {\"count\": 39, \"recall\": 0.0, \"cutoff\": 4, \"precision\": 0.0, \"review_profilename\": \"deepsouth\"}, {\"count\": 39, \"recall\": 0.0, \"cutoff\": 5, \"precision\": 0.0, \"review_profilename\": \"deepsouth\"}, {\"count\": 39, \"recall\": 0.02564102564102564, \"cutoff\": 6, \"precision\": 0.16666666666666666, \"review_profilename\": \"deepsouth\"}, {\"count\": 39, \"recall\": 0.02564102564102564, \"cutoff\": 7, \"precision\": 0.14285714285714285, \"review_profilename\": \"deepsouth\"}, {\"count\": 39, \"recall\": 0.02564102564102564, \"cutoff\": 8, \"precision\": 0.125, \"review_profilename\": \"deepsouth\"}, {\"count\": 39, \"recall\": 0.02564102564102564, \"cutoff\": 9, \"precision\": 0.1111111111111111, \"review_profilename\": \"deepsouth\"}, {\"count\": 39, \"recall\": 0.02564102564102564, \"cutoff\": 10, \"precision\": 0.1, \"review_profilename\": \"deepsouth\"}, {\"count\": 39, \"recall\": 0.02564102564102564, \"cutoff\": 11, \"precision\": 0.09090909090909091, \"review_profilename\": \"deepsouth\"}, {\"count\": 39, \"recall\": 0.07692307692307693, \"cutoff\": 16, \"precision\": 0.1875, \"review_profilename\": \"deepsouth\"}, {\"count\": 39, \"recall\": 0.10256410256410256, \"cutoff\": 21, \"precision\": 0.19047619047619047, \"review_profilename\": \"deepsouth\"}, {\"count\": 39, \"recall\": 0.1282051282051282, \"cutoff\": 26, \"precision\": 0.19230769230769232, \"review_profilename\": \"deepsouth\"}, {\"count\": 39, \"recall\": 0.15384615384615385, \"cutoff\": 31, \"precision\": 0.1935483870967742, \"review_profilename\": \"deepsouth\"}, {\"count\": 39, \"recall\": 0.15384615384615385, \"cutoff\": 36, \"precision\": 0.16666666666666666, \"review_profilename\": \"deepsouth\"}, {\"count\": 39, \"recall\": 0.15384615384615385, \"cutoff\": 41, \"precision\": 0.14634146341463414, \"review_profilename\": \"deepsouth\"}, {\"count\": 39, \"recall\": 0.15384615384615385, \"cutoff\": 46, \"precision\": 0.13043478260869565, \"review_profilename\": \"deepsouth\"}, {\"count\": 2, \"recall\": 0.0, \"cutoff\": 1, \"precision\": 0.0, \"review_profilename\": \"elink00\"}, {\"count\": 2, \"recall\": 0.0, \"cutoff\": 2, \"precision\": 0.0, \"review_profilename\": \"elink00\"}, {\"count\": 2, \"recall\": 0.0, \"cutoff\": 3, \"precision\": 0.0, \"review_profilename\": \"elink00\"}, {\"count\": 2, \"recall\": 0.0, \"cutoff\": 4, \"precision\": 0.0, \"review_profilename\": \"elink00\"}, {\"count\": 2, \"recall\": 0.0, \"cutoff\": 5, \"precision\": 0.0, \"review_profilename\": \"elink00\"}, {\"count\": 2, \"recall\": 0.0, \"cutoff\": 6, \"precision\": 0.0, \"review_profilename\": \"elink00\"}, {\"count\": 2, \"recall\": 0.0, \"cutoff\": 7, \"precision\": 0.0, \"review_profilename\": \"elink00\"}, {\"count\": 2, \"recall\": 0.0, \"cutoff\": 8, \"precision\": 0.0, \"review_profilename\": \"elink00\"}, {\"count\": 2, \"recall\": 0.0, \"cutoff\": 9, \"precision\": 0.0, \"review_profilename\": \"elink00\"}, {\"count\": 2, \"recall\": 0.0, \"cutoff\": 10, \"precision\": 0.0, \"review_profilename\": \"elink00\"}, {\"count\": 2, \"recall\": 0.0, \"cutoff\": 11, \"precision\": 0.0, \"review_profilename\": \"elink00\"}, {\"count\": 2, \"recall\": 0.0, \"cutoff\": 16, \"precision\": 0.0, \"review_profilename\": \"elink00\"}, {\"count\": 2, \"recall\": 0.0, \"cutoff\": 21, \"precision\": 0.0, \"review_profilename\": \"elink00\"}, {\"count\": 2, \"recall\": 0.0, \"cutoff\": 26, \"precision\": 0.0, \"review_profilename\": \"elink00\"}, {\"count\": 2, \"recall\": 0.0, \"cutoff\": 31, \"precision\": 0.0, \"review_profilename\": \"elink00\"}, {\"count\": 2, \"recall\": 0.0, \"cutoff\": 36, \"precision\": 0.0, \"review_profilename\": \"elink00\"}, {\"count\": 2, \"recall\": 0.0, \"cutoff\": 41, \"precision\": 0.0, \"review_profilename\": \"elink00\"}, {\"count\": 2, \"recall\": 0.0, \"cutoff\": 46, \"precision\": 0.0, \"review_profilename\": \"elink00\"}, {\"count\": 50, \"recall\": 0.0, \"cutoff\": 1, \"precision\": 0.0, \"review_profilename\": \"fear025\"}, {\"count\": 50, \"recall\": 0.0, \"cutoff\": 2, \"precision\": 0.0, \"review_profilename\": \"fear025\"}, {\"count\": 50, \"recall\": 0.0, \"cutoff\": 3, \"precision\": 0.0, \"review_profilename\": \"fear025\"}, {\"count\": 50, \"recall\": 0.0, \"cutoff\": 4, \"precision\": 0.0, \"review_profilename\": \"fear025\"}, {\"count\": 50, \"recall\": 0.0, \"cutoff\": 5, \"precision\": 0.0, \"review_profilename\": \"fear025\"}, {\"count\": 50, \"recall\": 0.0, \"cutoff\": 6, \"precision\": 0.0, \"review_profilename\": \"fear025\"}, {\"count\": 50, \"recall\": 0.0, \"cutoff\": 7, \"precision\": 0.0, \"review_profilename\": \"fear025\"}, {\"count\": 50, \"recall\": 0.0, \"cutoff\": 8, \"precision\": 0.0, \"review_profilename\": \"fear025\"}, {\"count\": 50, \"recall\": 0.0, \"cutoff\": 9, \"precision\": 0.0, \"review_profilename\": \"fear025\"}, {\"count\": 50, \"recall\": 0.02, \"cutoff\": 10, \"precision\": 0.1, \"review_profilename\": \"fear025\"}, {\"count\": 50, \"recall\": 0.02, \"cutoff\": 11, \"precision\": 0.09090909090909091, \"review_profilename\": \"fear025\"}, {\"count\": 50, \"recall\": 0.02, \"cutoff\": 16, \"precision\": 0.0625, \"review_profilename\": \"fear025\"}, {\"count\": 50, \"recall\": 0.04, \"cutoff\": 21, \"precision\": 0.09523809523809523, \"review_profilename\": \"fear025\"}, {\"count\": 50, \"recall\": 0.04, \"cutoff\": 26, \"precision\": 0.07692307692307693, \"review_profilename\": \"fear025\"}, {\"count\": 50, \"recall\": 0.04, \"cutoff\": 31, \"precision\": 0.06451612903225806, \"review_profilename\": \"fear025\"}, {\"count\": 50, \"recall\": 0.04, \"cutoff\": 36, \"precision\": 0.05555555555555555, \"review_profilename\": \"fear025\"}, {\"count\": 50, \"recall\": 0.04, \"cutoff\": 41, \"precision\": 0.04878048780487805, \"review_profilename\": \"fear025\"}, {\"count\": 50, \"recall\": 0.04, \"cutoff\": 46, \"precision\": 0.043478260869565216, \"review_profilename\": \"fear025\"}, {\"count\": 3, \"recall\": 0.3333333333333333, \"cutoff\": 1, \"precision\": 1.0, \"review_profilename\": \"hoosier3334\"}, {\"count\": 3, \"recall\": 0.3333333333333333, \"cutoff\": 2, \"precision\": 0.5, \"review_profilename\": \"hoosier3334\"}, {\"count\": 3, \"recall\": 0.3333333333333333, \"cutoff\": 3, \"precision\": 0.3333333333333333, \"review_profilename\": \"hoosier3334\"}, {\"count\": 3, \"recall\": 0.3333333333333333, \"cutoff\": 4, \"precision\": 0.25, \"review_profilename\": \"hoosier3334\"}, {\"count\": 3, \"recall\": 0.3333333333333333, \"cutoff\": 5, \"precision\": 0.2, \"review_profilename\": \"hoosier3334\"}, {\"count\": 3, \"recall\": 0.3333333333333333, \"cutoff\": 6, \"precision\": 0.16666666666666666, \"review_profilename\": \"hoosier3334\"}, {\"count\": 3, \"recall\": 0.3333333333333333, \"cutoff\": 7, \"precision\": 0.14285714285714285, \"review_profilename\": \"hoosier3334\"}, {\"count\": 3, \"recall\": 0.3333333333333333, \"cutoff\": 8, \"precision\": 0.125, \"review_profilename\": \"hoosier3334\"}, {\"count\": 3, \"recall\": 0.3333333333333333, \"cutoff\": 9, \"precision\": 0.1111111111111111, \"review_profilename\": \"hoosier3334\"}, {\"count\": 3, \"recall\": 0.3333333333333333, \"cutoff\": 10, \"precision\": 0.1, \"review_profilename\": \"hoosier3334\"}, {\"count\": 3, \"recall\": 0.3333333333333333, \"cutoff\": 11, \"precision\": 0.09090909090909091, \"review_profilename\": \"hoosier3334\"}, {\"count\": 3, \"recall\": 0.3333333333333333, \"cutoff\": 16, \"precision\": 0.0625, \"review_profilename\": \"hoosier3334\"}, {\"count\": 3, \"recall\": 0.3333333333333333, \"cutoff\": 21, \"precision\": 0.047619047619047616, \"review_profilename\": \"hoosier3334\"}, {\"count\": 3, \"recall\": 0.3333333333333333, \"cutoff\": 26, \"precision\": 0.038461538461538464, \"review_profilename\": \"hoosier3334\"}, {\"count\": 3, \"recall\": 0.3333333333333333, \"cutoff\": 31, \"precision\": 0.03225806451612903, \"review_profilename\": \"hoosier3334\"}, {\"count\": 3, \"recall\": 0.3333333333333333, \"cutoff\": 36, \"precision\": 0.027777777777777776, \"review_profilename\": \"hoosier3334\"}, {\"count\": 3, \"recall\": 0.3333333333333333, \"cutoff\": 41, \"precision\": 0.024390243902439025, \"review_profilename\": \"hoosier3334\"}, {\"count\": 3, \"recall\": 0.3333333333333333, \"cutoff\": 46, \"precision\": 0.021739130434782608, \"review_profilename\": \"hoosier3334\"}, {\"count\": 1, \"recall\": 0.0, \"cutoff\": 1, \"precision\": 0.0, \"review_profilename\": \"hopdoggiestyle\"}, {\"count\": 1, \"recall\": 0.0, \"cutoff\": 2, \"precision\": 0.0, \"review_profilename\": \"hopdoggiestyle\"}, {\"count\": 1, \"recall\": 0.0, \"cutoff\": 3, \"precision\": 0.0, \"review_profilename\": \"hopdoggiestyle\"}, {\"count\": 1, \"recall\": 0.0, \"cutoff\": 4, \"precision\": 0.0, \"review_profilename\": \"hopdoggiestyle\"}, {\"count\": 1, \"recall\": 0.0, \"cutoff\": 5, \"precision\": 0.0, \"review_profilename\": \"hopdoggiestyle\"}, {\"count\": 1, \"recall\": 0.0, \"cutoff\": 6, \"precision\": 0.0, \"review_profilename\": \"hopdoggiestyle\"}, {\"count\": 1, \"recall\": 0.0, \"cutoff\": 7, \"precision\": 0.0, \"review_profilename\": \"hopdoggiestyle\"}, {\"count\": 1, \"recall\": 0.0, \"cutoff\": 8, \"precision\": 0.0, \"review_profilename\": \"hopdoggiestyle\"}, {\"count\": 1, \"recall\": 0.0, \"cutoff\": 9, \"precision\": 0.0, \"review_profilename\": \"hopdoggiestyle\"}, {\"count\": 1, \"recall\": 0.0, \"cutoff\": 10, \"precision\": 0.0, \"review_profilename\": \"hopdoggiestyle\"}, {\"count\": 1, \"recall\": 0.0, \"cutoff\": 11, \"precision\": 0.0, \"review_profilename\": \"hopdoggiestyle\"}, {\"count\": 1, \"recall\": 0.0, \"cutoff\": 16, \"precision\": 0.0, \"review_profilename\": \"hopdoggiestyle\"}, {\"count\": 1, \"recall\": 0.0, \"cutoff\": 21, \"precision\": 0.0, \"review_profilename\": \"hopdoggiestyle\"}, {\"count\": 1, \"recall\": 0.0, \"cutoff\": 26, \"precision\": 0.0, \"review_profilename\": \"hopdoggiestyle\"}, {\"count\": 1, \"recall\": 0.0, \"cutoff\": 31, \"precision\": 0.0, \"review_profilename\": \"hopdoggiestyle\"}, {\"count\": 1, \"recall\": 0.0, \"cutoff\": 36, \"precision\": 0.0, \"review_profilename\": \"hopdoggiestyle\"}, {\"count\": 1, \"recall\": 0.0, \"cutoff\": 41, \"precision\": 0.0, \"review_profilename\": \"hopdoggiestyle\"}, {\"count\": 1, \"recall\": 0.0, \"cutoff\": 46, \"precision\": 0.0, \"review_profilename\": \"hopdoggiestyle\"}, {\"count\": 1, \"recall\": 0.0, \"cutoff\": 1, \"precision\": 0.0, \"review_profilename\": \"hyempdaddy\"}, {\"count\": 1, \"recall\": 0.0, \"cutoff\": 2, \"precision\": 0.0, \"review_profilename\": \"hyempdaddy\"}, {\"count\": 1, \"recall\": 0.0, \"cutoff\": 3, \"precision\": 0.0, \"review_profilename\": \"hyempdaddy\"}, {\"count\": 1, \"recall\": 0.0, \"cutoff\": 4, \"precision\": 0.0, \"review_profilename\": \"hyempdaddy\"}, {\"count\": 1, \"recall\": 0.0, \"cutoff\": 5, \"precision\": 0.0, \"review_profilename\": \"hyempdaddy\"}, {\"count\": 1, \"recall\": 0.0, \"cutoff\": 6, \"precision\": 0.0, \"review_profilename\": \"hyempdaddy\"}, {\"count\": 1, \"recall\": 0.0, \"cutoff\": 7, \"precision\": 0.0, \"review_profilename\": \"hyempdaddy\"}, {\"count\": 1, \"recall\": 0.0, \"cutoff\": 8, \"precision\": 0.0, \"review_profilename\": \"hyempdaddy\"}, {\"count\": 1, \"recall\": 0.0, \"cutoff\": 9, \"precision\": 0.0, \"review_profilename\": \"hyempdaddy\"}, {\"count\": 1, \"recall\": 0.0, \"cutoff\": 10, \"precision\": 0.0, \"review_profilename\": \"hyempdaddy\"}, {\"count\": 1, \"recall\": 0.0, \"cutoff\": 11, \"precision\": 0.0, \"review_profilename\": \"hyempdaddy\"}, {\"count\": 1, \"recall\": 0.0, \"cutoff\": 16, \"precision\": 0.0, \"review_profilename\": \"hyempdaddy\"}, {\"count\": 1, \"recall\": 0.0, \"cutoff\": 21, \"precision\": 0.0, \"review_profilename\": \"hyempdaddy\"}, {\"count\": 1, \"recall\": 0.0, \"cutoff\": 26, \"precision\": 0.0, \"review_profilename\": \"hyempdaddy\"}, {\"count\": 1, \"recall\": 0.0, \"cutoff\": 31, \"precision\": 0.0, \"review_profilename\": \"hyempdaddy\"}, {\"count\": 1, \"recall\": 0.0, \"cutoff\": 36, \"precision\": 0.0, \"review_profilename\": \"hyempdaddy\"}, {\"count\": 1, \"recall\": 0.0, \"cutoff\": 41, \"precision\": 0.0, \"review_profilename\": \"hyempdaddy\"}, {\"count\": 1, \"recall\": 0.0, \"cutoff\": 46, \"precision\": 0.0, \"review_profilename\": \"hyempdaddy\"}, {\"count\": 1, \"recall\": 0.0, \"cutoff\": 1, \"precision\": 0.0, \"review_profilename\": \"iddqd\"}, {\"count\": 1, \"recall\": 0.0, \"cutoff\": 2, \"precision\": 0.0, \"review_profilename\": \"iddqd\"}, {\"count\": 1, \"recall\": 0.0, \"cutoff\": 3, \"precision\": 0.0, \"review_profilename\": \"iddqd\"}, {\"count\": 1, \"recall\": 0.0, \"cutoff\": 4, \"precision\": 0.0, \"review_profilename\": \"iddqd\"}, {\"count\": 1, \"recall\": 0.0, \"cutoff\": 5, \"precision\": 0.0, \"review_profilename\": \"iddqd\"}, {\"count\": 1, \"recall\": 0.0, \"cutoff\": 6, \"precision\": 0.0, \"review_profilename\": \"iddqd\"}, {\"count\": 1, \"recall\": 0.0, \"cutoff\": 7, \"precision\": 0.0, \"review_profilename\": \"iddqd\"}, {\"count\": 1, \"recall\": 0.0, \"cutoff\": 8, \"precision\": 0.0, \"review_profilename\": \"iddqd\"}, {\"count\": 1, \"recall\": 0.0, \"cutoff\": 9, \"precision\": 0.0, \"review_profilename\": \"iddqd\"}, {\"count\": 1, \"recall\": 0.0, \"cutoff\": 10, \"precision\": 0.0, \"review_profilename\": \"iddqd\"}, {\"count\": 1, \"recall\": 0.0, \"cutoff\": 11, \"precision\": 0.0, \"review_profilename\": \"iddqd\"}, {\"count\": 1, \"recall\": 0.0, \"cutoff\": 16, \"precision\": 0.0, \"review_profilename\": \"iddqd\"}, {\"count\": 1, \"recall\": 0.0, \"cutoff\": 21, \"precision\": 0.0, \"review_profilename\": \"iddqd\"}, {\"count\": 1, \"recall\": 0.0, \"cutoff\": 26, \"precision\": 0.0, \"review_profilename\": \"iddqd\"}, {\"count\": 1, \"recall\": 0.0, \"cutoff\": 31, \"precision\": 0.0, \"review_profilename\": \"iddqd\"}, {\"count\": 1, \"recall\": 0.0, \"cutoff\": 36, \"precision\": 0.0, \"review_profilename\": \"iddqd\"}, {\"count\": 1, \"recall\": 0.0, \"cutoff\": 41, \"precision\": 0.0, \"review_profilename\": \"iddqd\"}, {\"count\": 1, \"recall\": 0.0, \"cutoff\": 46, \"precision\": 0.0, \"review_profilename\": \"iddqd\"}, {\"count\": 1, \"recall\": 0.0, \"cutoff\": 1, \"precision\": 0.0, \"review_profilename\": \"imperialhink\"}, {\"count\": 1, \"recall\": 0.0, \"cutoff\": 2, \"precision\": 0.0, \"review_profilename\": \"imperialhink\"}, {\"count\": 1, \"recall\": 0.0, \"cutoff\": 3, \"precision\": 0.0, \"review_profilename\": \"imperialhink\"}, {\"count\": 1, \"recall\": 0.0, \"cutoff\": 4, \"precision\": 0.0, \"review_profilename\": \"imperialhink\"}, {\"count\": 1, \"recall\": 0.0, \"cutoff\": 5, \"precision\": 0.0, \"review_profilename\": \"imperialhink\"}, {\"count\": 1, \"recall\": 0.0, \"cutoff\": 6, \"precision\": 0.0, \"review_profilename\": \"imperialhink\"}, {\"count\": 1, \"recall\": 0.0, \"cutoff\": 7, \"precision\": 0.0, \"review_profilename\": \"imperialhink\"}, {\"count\": 1, \"recall\": 0.0, \"cutoff\": 8, \"precision\": 0.0, \"review_profilename\": \"imperialhink\"}, {\"count\": 1, \"recall\": 0.0, \"cutoff\": 9, \"precision\": 0.0, \"review_profilename\": \"imperialhink\"}, {\"count\": 1, \"recall\": 0.0, \"cutoff\": 10, \"precision\": 0.0, \"review_profilename\": \"imperialhink\"}, {\"count\": 1, \"recall\": 0.0, \"cutoff\": 11, \"precision\": 0.0, \"review_profilename\": \"imperialhink\"}, {\"count\": 1, \"recall\": 0.0, \"cutoff\": 16, \"precision\": 0.0, \"review_profilename\": \"imperialhink\"}, {\"count\": 1, \"recall\": 0.0, \"cutoff\": 21, \"precision\": 0.0, \"review_profilename\": \"imperialhink\"}, {\"count\": 1, \"recall\": 0.0, \"cutoff\": 26, \"precision\": 0.0, \"review_profilename\": \"imperialhink\"}, {\"count\": 1, \"recall\": 0.0, \"cutoff\": 31, \"precision\": 0.0, \"review_profilename\": \"imperialhink\"}, {\"count\": 1, \"recall\": 0.0, \"cutoff\": 36, \"precision\": 0.0, \"review_profilename\": \"imperialhink\"}, {\"count\": 1, \"recall\": 0.0, \"cutoff\": 41, \"precision\": 0.0, \"review_profilename\": \"imperialhink\"}, {\"count\": 1, \"recall\": 0.0, \"cutoff\": 46, \"precision\": 0.0, \"review_profilename\": \"imperialhink\"}, {\"count\": 2, \"recall\": 0.0, \"cutoff\": 1, \"precision\": 0.0, \"review_profilename\": \"jaymp27\"}, {\"count\": 2, \"recall\": 0.0, \"cutoff\": 2, \"precision\": 0.0, \"review_profilename\": \"jaymp27\"}, {\"count\": 2, \"recall\": 0.0, \"cutoff\": 3, \"precision\": 0.0, \"review_profilename\": \"jaymp27\"}, {\"count\": 2, \"recall\": 0.0, \"cutoff\": 4, \"precision\": 0.0, \"review_profilename\": \"jaymp27\"}, {\"count\": 2, \"recall\": 0.0, \"cutoff\": 5, \"precision\": 0.0, \"review_profilename\": \"jaymp27\"}, {\"count\": 2, \"recall\": 0.0, \"cutoff\": 6, \"precision\": 0.0, \"review_profilename\": \"jaymp27\"}, {\"count\": 2, \"recall\": 0.0, \"cutoff\": 7, \"precision\": 0.0, \"review_profilename\": \"jaymp27\"}, {\"count\": 2, \"recall\": 0.0, \"cutoff\": 8, \"precision\": 0.0, \"review_profilename\": \"jaymp27\"}, {\"count\": 2, \"recall\": 0.0, \"cutoff\": 9, \"precision\": 0.0, \"review_profilename\": \"jaymp27\"}, {\"count\": 2, \"recall\": 0.0, \"cutoff\": 10, \"precision\": 0.0, \"review_profilename\": \"jaymp27\"}, {\"count\": 2, \"recall\": 0.0, \"cutoff\": 11, \"precision\": 0.0, \"review_profilename\": \"jaymp27\"}, {\"count\": 2, \"recall\": 0.0, \"cutoff\": 16, \"precision\": 0.0, \"review_profilename\": \"jaymp27\"}, {\"count\": 2, \"recall\": 0.0, \"cutoff\": 21, \"precision\": 0.0, \"review_profilename\": \"jaymp27\"}, {\"count\": 2, \"recall\": 0.0, \"cutoff\": 26, \"precision\": 0.0, \"review_profilename\": \"jaymp27\"}, {\"count\": 2, \"recall\": 0.0, \"cutoff\": 31, \"precision\": 0.0, \"review_profilename\": \"jaymp27\"}, {\"count\": 2, \"recall\": 0.0, \"cutoff\": 36, \"precision\": 0.0, \"review_profilename\": \"jaymp27\"}, {\"count\": 2, \"recall\": 0.0, \"cutoff\": 41, \"precision\": 0.0, \"review_profilename\": \"jaymp27\"}, {\"count\": 2, \"recall\": 0.0, \"cutoff\": 46, \"precision\": 0.0, \"review_profilename\": \"jaymp27\"}, {\"count\": 1, \"recall\": 0.0, \"cutoff\": 1, \"precision\": 0.0, \"review_profilename\": \"lifeguardjon\"}, {\"count\": 1, \"recall\": 0.0, \"cutoff\": 2, \"precision\": 0.0, \"review_profilename\": \"lifeguardjon\"}, {\"count\": 1, \"recall\": 0.0, \"cutoff\": 3, \"precision\": 0.0, \"review_profilename\": \"lifeguardjon\"}, {\"count\": 1, \"recall\": 0.0, \"cutoff\": 4, \"precision\": 0.0, \"review_profilename\": \"lifeguardjon\"}, {\"count\": 1, \"recall\": 0.0, \"cutoff\": 5, \"precision\": 0.0, \"review_profilename\": \"lifeguardjon\"}, {\"count\": 1, \"recall\": 0.0, \"cutoff\": 6, \"precision\": 0.0, \"review_profilename\": \"lifeguardjon\"}, {\"count\": 1, \"recall\": 0.0, \"cutoff\": 7, \"precision\": 0.0, \"review_profilename\": \"lifeguardjon\"}, {\"count\": 1, \"recall\": 0.0, \"cutoff\": 8, \"precision\": 0.0, \"review_profilename\": \"lifeguardjon\"}, {\"count\": 1, \"recall\": 0.0, \"cutoff\": 9, \"precision\": 0.0, \"review_profilename\": \"lifeguardjon\"}, {\"count\": 1, \"recall\": 0.0, \"cutoff\": 10, \"precision\": 0.0, \"review_profilename\": \"lifeguardjon\"}, {\"count\": 1, \"recall\": 0.0, \"cutoff\": 11, \"precision\": 0.0, \"review_profilename\": \"lifeguardjon\"}, {\"count\": 1, \"recall\": 0.0, \"cutoff\": 16, \"precision\": 0.0, \"review_profilename\": \"lifeguardjon\"}, {\"count\": 1, \"recall\": 0.0, \"cutoff\": 21, \"precision\": 0.0, \"review_profilename\": \"lifeguardjon\"}, {\"count\": 1, \"recall\": 0.0, \"cutoff\": 26, \"precision\": 0.0, \"review_profilename\": \"lifeguardjon\"}, {\"count\": 1, \"recall\": 0.0, \"cutoff\": 31, \"precision\": 0.0, \"review_profilename\": \"lifeguardjon\"}, {\"count\": 1, \"recall\": 0.0, \"cutoff\": 36, \"precision\": 0.0, \"review_profilename\": \"lifeguardjon\"}, {\"count\": 1, \"recall\": 0.0, \"cutoff\": 41, \"precision\": 0.0, \"review_profilename\": \"lifeguardjon\"}, {\"count\": 1, \"recall\": 0.0, \"cutoff\": 46, \"precision\": 0.0, \"review_profilename\": \"lifeguardjon\"}, {\"count\": 1, \"recall\": 0.0, \"cutoff\": 1, \"precision\": 0.0, \"review_profilename\": \"mnmorency\"}, {\"count\": 1, \"recall\": 0.0, \"cutoff\": 2, \"precision\": 0.0, \"review_profilename\": \"mnmorency\"}, {\"count\": 1, \"recall\": 0.0, \"cutoff\": 3, \"precision\": 0.0, \"review_profilename\": \"mnmorency\"}, {\"count\": 1, \"recall\": 0.0, \"cutoff\": 4, \"precision\": 0.0, \"review_profilename\": \"mnmorency\"}, {\"count\": 1, \"recall\": 0.0, \"cutoff\": 5, \"precision\": 0.0, \"review_profilename\": \"mnmorency\"}, {\"count\": 1, \"recall\": 0.0, \"cutoff\": 6, \"precision\": 0.0, \"review_profilename\": \"mnmorency\"}, {\"count\": 1, \"recall\": 0.0, \"cutoff\": 7, \"precision\": 0.0, \"review_profilename\": \"mnmorency\"}, {\"count\": 1, \"recall\": 0.0, \"cutoff\": 8, \"precision\": 0.0, \"review_profilename\": \"mnmorency\"}, {\"count\": 1, \"recall\": 0.0, \"cutoff\": 9, \"precision\": 0.0, \"review_profilename\": \"mnmorency\"}, {\"count\": 1, \"recall\": 0.0, \"cutoff\": 10, \"precision\": 0.0, \"review_profilename\": \"mnmorency\"}, {\"count\": 1, \"recall\": 0.0, \"cutoff\": 11, \"precision\": 0.0, \"review_profilename\": \"mnmorency\"}, {\"count\": 1, \"recall\": 0.0, \"cutoff\": 16, \"precision\": 0.0, \"review_profilename\": \"mnmorency\"}, {\"count\": 1, \"recall\": 0.0, \"cutoff\": 21, \"precision\": 0.0, \"review_profilename\": \"mnmorency\"}, {\"count\": 1, \"recall\": 0.0, \"cutoff\": 26, \"precision\": 0.0, \"review_profilename\": \"mnmorency\"}, {\"count\": 1, \"recall\": 0.0, \"cutoff\": 31, \"precision\": 0.0, \"review_profilename\": \"mnmorency\"}, {\"count\": 1, \"recall\": 0.0, \"cutoff\": 36, \"precision\": 0.0, \"review_profilename\": \"mnmorency\"}, {\"count\": 1, \"recall\": 0.0, \"cutoff\": 41, \"precision\": 0.0, \"review_profilename\": \"mnmorency\"}, {\"count\": 1, \"recall\": 0.0, \"cutoff\": 46, \"precision\": 0.0, \"review_profilename\": \"mnmorency\"}, {\"count\": 16, \"recall\": 0.0, \"cutoff\": 1, \"precision\": 0.0, \"review_profilename\": \"n00tz\"}, {\"count\": 16, \"recall\": 0.0, \"cutoff\": 2, \"precision\": 0.0, \"review_profilename\": \"n00tz\"}, {\"count\": 16, \"recall\": 0.0, \"cutoff\": 3, \"precision\": 0.0, \"review_profilename\": \"n00tz\"}, {\"count\": 16, \"recall\": 0.0625, \"cutoff\": 4, \"precision\": 0.25, \"review_profilename\": \"n00tz\"}, {\"count\": 16, \"recall\": 0.0625, \"cutoff\": 5, \"precision\": 0.2, \"review_profilename\": \"n00tz\"}, {\"count\": 16, \"recall\": 0.0625, \"cutoff\": 6, \"precision\": 0.16666666666666666, \"review_profilename\": \"n00tz\"}, {\"count\": 16, \"recall\": 0.0625, \"cutoff\": 7, \"precision\": 0.14285714285714285, \"review_profilename\": \"n00tz\"}, {\"count\": 16, \"recall\": 0.0625, \"cutoff\": 8, \"precision\": 0.125, \"review_profilename\": \"n00tz\"}, {\"count\": 16, \"recall\": 0.0625, \"cutoff\": 9, \"precision\": 0.1111111111111111, \"review_profilename\": \"n00tz\"}, {\"count\": 16, \"recall\": 0.0625, \"cutoff\": 10, \"precision\": 0.1, \"review_profilename\": \"n00tz\"}, {\"count\": 16, \"recall\": 0.125, \"cutoff\": 11, \"precision\": 0.18181818181818182, \"review_profilename\": \"n00tz\"}, {\"count\": 16, \"recall\": 0.1875, \"cutoff\": 16, \"precision\": 0.1875, \"review_profilename\": \"n00tz\"}, {\"count\": 16, \"recall\": 0.1875, \"cutoff\": 21, \"precision\": 0.14285714285714285, \"review_profilename\": \"n00tz\"}, {\"count\": 16, \"recall\": 0.25, \"cutoff\": 26, \"precision\": 0.15384615384615385, \"review_profilename\": \"n00tz\"}, {\"count\": 16, \"recall\": 0.25, \"cutoff\": 31, \"precision\": 0.12903225806451613, \"review_profilename\": \"n00tz\"}, {\"count\": 16, \"recall\": 0.25, \"cutoff\": 36, \"precision\": 0.1111111111111111, \"review_profilename\": \"n00tz\"}, {\"count\": 16, \"recall\": 0.25, \"cutoff\": 41, \"precision\": 0.0975609756097561, \"review_profilename\": \"n00tz\"}, {\"count\": 16, \"recall\": 0.3125, \"cutoff\": 46, \"precision\": 0.10869565217391304, \"review_profilename\": \"n00tz\"}, {\"count\": 2, \"recall\": 0.0, \"cutoff\": 1, \"precision\": 0.0, \"review_profilename\": \"nycjag\"}, {\"count\": 2, \"recall\": 0.0, \"cutoff\": 2, \"precision\": 0.0, \"review_profilename\": \"nycjag\"}, {\"count\": 2, \"recall\": 0.0, \"cutoff\": 3, \"precision\": 0.0, \"review_profilename\": \"nycjag\"}, {\"count\": 2, \"recall\": 0.0, \"cutoff\": 4, \"precision\": 0.0, \"review_profilename\": \"nycjag\"}, {\"count\": 2, \"recall\": 0.0, \"cutoff\": 5, \"precision\": 0.0, \"review_profilename\": \"nycjag\"}, {\"count\": 2, \"recall\": 0.0, \"cutoff\": 6, \"precision\": 0.0, \"review_profilename\": \"nycjag\"}, {\"count\": 2, \"recall\": 0.0, \"cutoff\": 7, \"precision\": 0.0, \"review_profilename\": \"nycjag\"}, {\"count\": 2, \"recall\": 0.0, \"cutoff\": 8, \"precision\": 0.0, \"review_profilename\": \"nycjag\"}, {\"count\": 2, \"recall\": 0.0, \"cutoff\": 9, \"precision\": 0.0, \"review_profilename\": \"nycjag\"}, {\"count\": 2, \"recall\": 0.0, \"cutoff\": 10, \"precision\": 0.0, \"review_profilename\": \"nycjag\"}, {\"count\": 2, \"recall\": 0.0, \"cutoff\": 11, \"precision\": 0.0, \"review_profilename\": \"nycjag\"}, {\"count\": 2, \"recall\": 0.0, \"cutoff\": 16, \"precision\": 0.0, \"review_profilename\": \"nycjag\"}, {\"count\": 2, \"recall\": 0.0, \"cutoff\": 21, \"precision\": 0.0, \"review_profilename\": \"nycjag\"}, {\"count\": 2, \"recall\": 0.0, \"cutoff\": 26, \"precision\": 0.0, \"review_profilename\": \"nycjag\"}, {\"count\": 2, \"recall\": 0.0, \"cutoff\": 31, \"precision\": 0.0, \"review_profilename\": \"nycjag\"}, {\"count\": 2, \"recall\": 0.0, \"cutoff\": 36, \"precision\": 0.0, \"review_profilename\": \"nycjag\"}, {\"count\": 2, \"recall\": 0.0, \"cutoff\": 41, \"precision\": 0.0, \"review_profilename\": \"nycjag\"}, {\"count\": 2, \"recall\": 0.0, \"cutoff\": 46, \"precision\": 0.0, \"review_profilename\": \"nycjag\"}, {\"count\": 2, \"recall\": 0.0, \"cutoff\": 1, \"precision\": 0.0, \"review_profilename\": \"orz\"}, {\"count\": 2, \"recall\": 0.0, \"cutoff\": 2, \"precision\": 0.0, \"review_profilename\": \"orz\"}, {\"count\": 2, \"recall\": 0.0, \"cutoff\": 3, \"precision\": 0.0, \"review_profilename\": \"orz\"}, {\"count\": 2, \"recall\": 0.0, \"cutoff\": 4, \"precision\": 0.0, \"review_profilename\": \"orz\"}, {\"count\": 2, \"recall\": 0.0, \"cutoff\": 5, \"precision\": 0.0, \"review_profilename\": \"orz\"}, {\"count\": 2, \"recall\": 0.0, \"cutoff\": 6, \"precision\": 0.0, \"review_profilename\": \"orz\"}, {\"count\": 2, \"recall\": 0.0, \"cutoff\": 7, \"precision\": 0.0, \"review_profilename\": \"orz\"}, {\"count\": 2, \"recall\": 0.0, \"cutoff\": 8, \"precision\": 0.0, \"review_profilename\": \"orz\"}, {\"count\": 2, \"recall\": 0.0, \"cutoff\": 9, \"precision\": 0.0, \"review_profilename\": \"orz\"}, {\"count\": 2, \"recall\": 0.5, \"cutoff\": 10, \"precision\": 0.1, \"review_profilename\": \"orz\"}, {\"count\": 2, \"recall\": 0.5, \"cutoff\": 11, \"precision\": 0.09090909090909091, \"review_profilename\": \"orz\"}, {\"count\": 2, \"recall\": 0.5, \"cutoff\": 16, \"precision\": 0.0625, \"review_profilename\": \"orz\"}, {\"count\": 2, \"recall\": 0.5, \"cutoff\": 21, \"precision\": 0.047619047619047616, \"review_profilename\": \"orz\"}, {\"count\": 2, \"recall\": 1.0, \"cutoff\": 26, \"precision\": 0.07692307692307693, \"review_profilename\": \"orz\"}, {\"count\": 2, \"recall\": 1.0, \"cutoff\": 31, \"precision\": 0.06451612903225806, \"review_profilename\": \"orz\"}, {\"count\": 2, \"recall\": 1.0, \"cutoff\": 36, \"precision\": 0.05555555555555555, \"review_profilename\": \"orz\"}, {\"count\": 2, \"recall\": 1.0, \"cutoff\": 41, \"precision\": 0.04878048780487805, \"review_profilename\": \"orz\"}, {\"count\": 2, \"recall\": 1.0, \"cutoff\": 46, \"precision\": 0.043478260869565216, \"review_profilename\": \"orz\"}, {\"count\": 2, \"recall\": 0.0, \"cutoff\": 1, \"precision\": 0.0, \"review_profilename\": \"psycle\"}, {\"count\": 2, \"recall\": 0.0, \"cutoff\": 2, \"precision\": 0.0, \"review_profilename\": \"psycle\"}, {\"count\": 2, \"recall\": 0.0, \"cutoff\": 3, \"precision\": 0.0, \"review_profilename\": \"psycle\"}, {\"count\": 2, \"recall\": 0.0, \"cutoff\": 4, \"precision\": 0.0, \"review_profilename\": \"psycle\"}, {\"count\": 2, \"recall\": 0.0, \"cutoff\": 5, \"precision\": 0.0, \"review_profilename\": \"psycle\"}, {\"count\": 2, \"recall\": 0.0, \"cutoff\": 6, \"precision\": 0.0, \"review_profilename\": \"psycle\"}, {\"count\": 2, \"recall\": 0.0, \"cutoff\": 7, \"precision\": 0.0, \"review_profilename\": \"psycle\"}, {\"count\": 2, \"recall\": 0.0, \"cutoff\": 8, \"precision\": 0.0, \"review_profilename\": \"psycle\"}, {\"count\": 2, \"recall\": 0.0, \"cutoff\": 9, \"precision\": 0.0, \"review_profilename\": \"psycle\"}, {\"count\": 2, \"recall\": 0.0, \"cutoff\": 10, \"precision\": 0.0, \"review_profilename\": \"psycle\"}, {\"count\": 2, \"recall\": 0.0, \"cutoff\": 11, \"precision\": 0.0, \"review_profilename\": \"psycle\"}, {\"count\": 2, \"recall\": 0.0, \"cutoff\": 16, \"precision\": 0.0, \"review_profilename\": \"psycle\"}, {\"count\": 2, \"recall\": 0.0, \"cutoff\": 21, \"precision\": 0.0, \"review_profilename\": \"psycle\"}, {\"count\": 2, \"recall\": 0.0, \"cutoff\": 26, \"precision\": 0.0, \"review_profilename\": \"psycle\"}, {\"count\": 2, \"recall\": 0.0, \"cutoff\": 31, \"precision\": 0.0, \"review_profilename\": \"psycle\"}, {\"count\": 2, \"recall\": 0.0, \"cutoff\": 36, \"precision\": 0.0, \"review_profilename\": \"psycle\"}, {\"count\": 2, \"recall\": 0.0, \"cutoff\": 41, \"precision\": 0.0, \"review_profilename\": \"psycle\"}, {\"count\": 2, \"recall\": 0.0, \"cutoff\": 46, \"precision\": 0.0, \"review_profilename\": \"psycle\"}, {\"count\": 1, \"recall\": 0.0, \"cutoff\": 1, \"precision\": 0.0, \"review_profilename\": \"socrates00\"}, {\"count\": 1, \"recall\": 0.0, \"cutoff\": 2, \"precision\": 0.0, \"review_profilename\": \"socrates00\"}, {\"count\": 1, \"recall\": 0.0, \"cutoff\": 3, \"precision\": 0.0, \"review_profilename\": \"socrates00\"}, {\"count\": 1, \"recall\": 0.0, \"cutoff\": 4, \"precision\": 0.0, \"review_profilename\": \"socrates00\"}, {\"count\": 1, \"recall\": 0.0, \"cutoff\": 5, \"precision\": 0.0, \"review_profilename\": \"socrates00\"}, {\"count\": 1, \"recall\": 0.0, \"cutoff\": 6, \"precision\": 0.0, \"review_profilename\": \"socrates00\"}, {\"count\": 1, \"recall\": 0.0, \"cutoff\": 7, \"precision\": 0.0, \"review_profilename\": \"socrates00\"}, {\"count\": 1, \"recall\": 0.0, \"cutoff\": 8, \"precision\": 0.0, \"review_profilename\": \"socrates00\"}, {\"count\": 1, \"recall\": 0.0, \"cutoff\": 9, \"precision\": 0.0, \"review_profilename\": \"socrates00\"}, {\"count\": 1, \"recall\": 0.0, \"cutoff\": 10, \"precision\": 0.0, \"review_profilename\": \"socrates00\"}, {\"count\": 1, \"recall\": 0.0, \"cutoff\": 11, \"precision\": 0.0, \"review_profilename\": \"socrates00\"}, {\"count\": 1, \"recall\": 0.0, \"cutoff\": 16, \"precision\": 0.0, \"review_profilename\": \"socrates00\"}, {\"count\": 1, \"recall\": 0.0, \"cutoff\": 21, \"precision\": 0.0, \"review_profilename\": \"socrates00\"}, {\"count\": 1, \"recall\": 0.0, \"cutoff\": 26, \"precision\": 0.0, \"review_profilename\": \"socrates00\"}, {\"count\": 1, \"recall\": 0.0, \"cutoff\": 31, \"precision\": 0.0, \"review_profilename\": \"socrates00\"}, {\"count\": 1, \"recall\": 0.0, \"cutoff\": 36, \"precision\": 0.0, \"review_profilename\": \"socrates00\"}, {\"count\": 1, \"recall\": 0.0, \"cutoff\": 41, \"precision\": 0.0, \"review_profilename\": \"socrates00\"}, {\"count\": 1, \"recall\": 0.0, \"cutoff\": 46, \"precision\": 0.0, \"review_profilename\": \"socrates00\"}, {\"count\": 7, \"recall\": 0.0, \"cutoff\": 1, \"precision\": 0.0, \"review_profilename\": \"srobertson59\"}, {\"count\": 7, \"recall\": 0.14285714285714285, \"cutoff\": 2, \"precision\": 0.5, \"review_profilename\": \"srobertson59\"}, {\"count\": 7, \"recall\": 0.2857142857142857, \"cutoff\": 3, \"precision\": 0.6666666666666666, \"review_profilename\": \"srobertson59\"}, {\"count\": 7, \"recall\": 0.2857142857142857, \"cutoff\": 4, \"precision\": 0.5, \"review_profilename\": \"srobertson59\"}, {\"count\": 7, \"recall\": 0.2857142857142857, \"cutoff\": 5, \"precision\": 0.4, \"review_profilename\": \"srobertson59\"}, {\"count\": 7, \"recall\": 0.2857142857142857, \"cutoff\": 6, \"precision\": 0.3333333333333333, \"review_profilename\": \"srobertson59\"}, {\"count\": 7, \"recall\": 0.2857142857142857, \"cutoff\": 7, \"precision\": 0.2857142857142857, \"review_profilename\": \"srobertson59\"}, {\"count\": 7, \"recall\": 0.2857142857142857, \"cutoff\": 8, \"precision\": 0.25, \"review_profilename\": \"srobertson59\"}, {\"count\": 7, \"recall\": 0.2857142857142857, \"cutoff\": 9, \"precision\": 0.2222222222222222, \"review_profilename\": \"srobertson59\"}, {\"count\": 7, \"recall\": 0.2857142857142857, \"cutoff\": 10, \"precision\": 0.2, \"review_profilename\": \"srobertson59\"}, {\"count\": 7, \"recall\": 0.2857142857142857, \"cutoff\": 11, \"precision\": 0.18181818181818182, \"review_profilename\": \"srobertson59\"}, {\"count\": 7, \"recall\": 0.2857142857142857, \"cutoff\": 16, \"precision\": 0.125, \"review_profilename\": \"srobertson59\"}, {\"count\": 7, \"recall\": 0.2857142857142857, \"cutoff\": 21, \"precision\": 0.09523809523809523, \"review_profilename\": \"srobertson59\"}, {\"count\": 7, \"recall\": 0.2857142857142857, \"cutoff\": 26, \"precision\": 0.07692307692307693, \"review_profilename\": \"srobertson59\"}, {\"count\": 7, \"recall\": 0.2857142857142857, \"cutoff\": 31, \"precision\": 0.06451612903225806, \"review_profilename\": \"srobertson59\"}, {\"count\": 7, \"recall\": 0.2857142857142857, \"cutoff\": 36, \"precision\": 0.05555555555555555, \"review_profilename\": \"srobertson59\"}, {\"count\": 7, \"recall\": 0.2857142857142857, \"cutoff\": 41, \"precision\": 0.04878048780487805, \"review_profilename\": \"srobertson59\"}, {\"count\": 7, \"recall\": 0.2857142857142857, \"cutoff\": 46, \"precision\": 0.043478260869565216, \"review_profilename\": \"srobertson59\"}, {\"count\": 1, \"recall\": 0.0, \"cutoff\": 1, \"precision\": 0.0, \"review_profilename\": \"steveo15\"}, {\"count\": 1, \"recall\": 0.0, \"cutoff\": 2, \"precision\": 0.0, \"review_profilename\": \"steveo15\"}, {\"count\": 1, \"recall\": 0.0, \"cutoff\": 3, \"precision\": 0.0, \"review_profilename\": \"steveo15\"}, {\"count\": 1, \"recall\": 0.0, \"cutoff\": 4, \"precision\": 0.0, \"review_profilename\": \"steveo15\"}, {\"count\": 1, \"recall\": 0.0, \"cutoff\": 5, \"precision\": 0.0, \"review_profilename\": \"steveo15\"}, {\"count\": 1, \"recall\": 0.0, \"cutoff\": 6, \"precision\": 0.0, \"review_profilename\": \"steveo15\"}, {\"count\": 1, \"recall\": 0.0, \"cutoff\": 7, \"precision\": 0.0, \"review_profilename\": \"steveo15\"}, {\"count\": 1, \"recall\": 0.0, \"cutoff\": 8, \"precision\": 0.0, \"review_profilename\": \"steveo15\"}, {\"count\": 1, \"recall\": 0.0, \"cutoff\": 9, \"precision\": 0.0, \"review_profilename\": \"steveo15\"}, {\"count\": 1, \"recall\": 0.0, \"cutoff\": 10, \"precision\": 0.0, \"review_profilename\": \"steveo15\"}, {\"count\": 1, \"recall\": 0.0, \"cutoff\": 11, \"precision\": 0.0, \"review_profilename\": \"steveo15\"}, {\"count\": 1, \"recall\": 0.0, \"cutoff\": 16, \"precision\": 0.0, \"review_profilename\": \"steveo15\"}, {\"count\": 1, \"recall\": 0.0, \"cutoff\": 21, \"precision\": 0.0, \"review_profilename\": \"steveo15\"}, {\"count\": 1, \"recall\": 0.0, \"cutoff\": 26, \"precision\": 0.0, \"review_profilename\": \"steveo15\"}, {\"count\": 1, \"recall\": 0.0, \"cutoff\": 31, \"precision\": 0.0, \"review_profilename\": \"steveo15\"}, {\"count\": 1, \"recall\": 0.0, \"cutoff\": 36, \"precision\": 0.0, \"review_profilename\": \"steveo15\"}, {\"count\": 1, \"recall\": 0.0, \"cutoff\": 41, \"precision\": 0.0, \"review_profilename\": \"steveo15\"}, {\"count\": 1, \"recall\": 0.0, \"cutoff\": 46, \"precision\": 0.0, \"review_profilename\": \"steveo15\"}, {\"count\": 2, \"recall\": 0.0, \"cutoff\": 1, \"precision\": 0.0, \"review_profilename\": \"tah908\"}, {\"count\": 2, \"recall\": 0.0, \"cutoff\": 2, \"precision\": 0.0, \"review_profilename\": \"tah908\"}, {\"count\": 2, \"recall\": 0.0, \"cutoff\": 3, \"precision\": 0.0, \"review_profilename\": \"tah908\"}, {\"count\": 2, \"recall\": 0.0, \"cutoff\": 4, \"precision\": 0.0, \"review_profilename\": \"tah908\"}, {\"count\": 2, \"recall\": 0.0, \"cutoff\": 5, \"precision\": 0.0, \"review_profilename\": \"tah908\"}, {\"count\": 2, \"recall\": 0.0, \"cutoff\": 6, \"precision\": 0.0, \"review_profilename\": \"tah908\"}, {\"count\": 2, \"recall\": 0.0, \"cutoff\": 7, \"precision\": 0.0, \"review_profilename\": \"tah908\"}, {\"count\": 2, \"recall\": 0.0, \"cutoff\": 8, \"precision\": 0.0, \"review_profilename\": \"tah908\"}, {\"count\": 2, \"recall\": 0.0, \"cutoff\": 9, \"precision\": 0.0, \"review_profilename\": \"tah908\"}, {\"count\": 2, \"recall\": 0.0, \"cutoff\": 10, \"precision\": 0.0, \"review_profilename\": \"tah908\"}, {\"count\": 2, \"recall\": 0.0, \"cutoff\": 11, \"precision\": 0.0, \"review_profilename\": \"tah908\"}, {\"count\": 2, \"recall\": 0.0, \"cutoff\": 16, \"precision\": 0.0, \"review_profilename\": \"tah908\"}, {\"count\": 2, \"recall\": 0.0, \"cutoff\": 21, \"precision\": 0.0, \"review_profilename\": \"tah908\"}, {\"count\": 2, \"recall\": 0.0, \"cutoff\": 26, \"precision\": 0.0, \"review_profilename\": \"tah908\"}, {\"count\": 2, \"recall\": 0.0, \"cutoff\": 31, \"precision\": 0.0, \"review_profilename\": \"tah908\"}, {\"count\": 2, \"recall\": 0.0, \"cutoff\": 36, \"precision\": 0.0, \"review_profilename\": \"tah908\"}, {\"count\": 2, \"recall\": 0.0, \"cutoff\": 41, \"precision\": 0.0, \"review_profilename\": \"tah908\"}, {\"count\": 2, \"recall\": 0.0, \"cutoff\": 46, \"precision\": 0.0, \"review_profilename\": \"tah908\"}, {\"count\": 9, \"recall\": 0.0, \"cutoff\": 1, \"precision\": 0.0, \"review_profilename\": \"thinkbreakfast\"}, {\"count\": 9, \"recall\": 0.0, \"cutoff\": 2, \"precision\": 0.0, \"review_profilename\": \"thinkbreakfast\"}, {\"count\": 9, \"recall\": 0.0, \"cutoff\": 3, \"precision\": 0.0, \"review_profilename\": \"thinkbreakfast\"}, {\"count\": 9, \"recall\": 0.0, \"cutoff\": 4, \"precision\": 0.0, \"review_profilename\": \"thinkbreakfast\"}, {\"count\": 9, \"recall\": 0.0, \"cutoff\": 5, \"precision\": 0.0, \"review_profilename\": \"thinkbreakfast\"}, {\"count\": 9, \"recall\": 0.0, \"cutoff\": 6, \"precision\": 0.0, \"review_profilename\": \"thinkbreakfast\"}, {\"count\": 9, \"recall\": 0.1111111111111111, \"cutoff\": 7, \"precision\": 0.14285714285714285, \"review_profilename\": \"thinkbreakfast\"}, {\"count\": 9, \"recall\": 0.1111111111111111, \"cutoff\": 8, \"precision\": 0.125, \"review_profilename\": \"thinkbreakfast\"}, {\"count\": 9, \"recall\": 0.1111111111111111, \"cutoff\": 9, \"precision\": 0.1111111111111111, \"review_profilename\": \"thinkbreakfast\"}, {\"count\": 9, \"recall\": 0.1111111111111111, \"cutoff\": 10, \"precision\": 0.1, \"review_profilename\": \"thinkbreakfast\"}, {\"count\": 9, \"recall\": 0.1111111111111111, \"cutoff\": 11, \"precision\": 0.09090909090909091, \"review_profilename\": \"thinkbreakfast\"}, {\"count\": 9, \"recall\": 0.1111111111111111, \"cutoff\": 16, \"precision\": 0.0625, \"review_profilename\": \"thinkbreakfast\"}, {\"count\": 9, \"recall\": 0.1111111111111111, \"cutoff\": 21, \"precision\": 0.047619047619047616, \"review_profilename\": \"thinkbreakfast\"}, {\"count\": 9, \"recall\": 0.1111111111111111, \"cutoff\": 26, \"precision\": 0.038461538461538464, \"review_profilename\": \"thinkbreakfast\"}, {\"count\": 9, \"recall\": 0.1111111111111111, \"cutoff\": 31, \"precision\": 0.03225806451612903, \"review_profilename\": \"thinkbreakfast\"}, {\"count\": 9, \"recall\": 0.1111111111111111, \"cutoff\": 36, \"precision\": 0.027777777777777776, \"review_profilename\": \"thinkbreakfast\"}, {\"count\": 9, \"recall\": 0.2222222222222222, \"cutoff\": 41, \"precision\": 0.04878048780487805, \"review_profilename\": \"thinkbreakfast\"}, {\"count\": 9, \"recall\": 0.2222222222222222, \"cutoff\": 46, \"precision\": 0.043478260869565216, \"review_profilename\": \"thinkbreakfast\"}, {\"count\": 1, \"recall\": 0.0, \"cutoff\": 1, \"precision\": 0.0, \"review_profilename\": \"waltaburge\"}, {\"count\": 1, \"recall\": 0.0, \"cutoff\": 2, \"precision\": 0.0, \"review_profilename\": \"waltaburge\"}, {\"count\": 1, \"recall\": 0.0, \"cutoff\": 3, \"precision\": 0.0, \"review_profilename\": \"waltaburge\"}, {\"count\": 1, \"recall\": 0.0, \"cutoff\": 4, \"precision\": 0.0, \"review_profilename\": \"waltaburge\"}, {\"count\": 1, \"recall\": 0.0, \"cutoff\": 5, \"precision\": 0.0, \"review_profilename\": \"waltaburge\"}, {\"count\": 1, \"recall\": 0.0, \"cutoff\": 6, \"precision\": 0.0, \"review_profilename\": \"waltaburge\"}, {\"count\": 1, \"recall\": 0.0, \"cutoff\": 7, \"precision\": 0.0, \"review_profilename\": \"waltaburge\"}, {\"count\": 1, \"recall\": 0.0, \"cutoff\": 8, \"precision\": 0.0, \"review_profilename\": \"waltaburge\"}, {\"count\": 1, \"recall\": 0.0, \"cutoff\": 9, \"precision\": 0.0, \"review_profilename\": \"waltaburge\"}, {\"count\": 1, \"recall\": 0.0, \"cutoff\": 10, \"precision\": 0.0, \"review_profilename\": \"waltaburge\"}, {\"count\": 1, \"recall\": 0.0, \"cutoff\": 11, \"precision\": 0.0, \"review_profilename\": \"waltaburge\"}, {\"count\": 1, \"recall\": 0.0, \"cutoff\": 16, \"precision\": 0.0, \"review_profilename\": \"waltaburge\"}, {\"count\": 1, \"recall\": 0.0, \"cutoff\": 21, \"precision\": 0.0, \"review_profilename\": \"waltaburge\"}, {\"count\": 1, \"recall\": 0.0, \"cutoff\": 26, \"precision\": 0.0, \"review_profilename\": \"waltaburge\"}, {\"count\": 1, \"recall\": 0.0, \"cutoff\": 31, \"precision\": 0.0, \"review_profilename\": \"waltaburge\"}, {\"count\": 1, \"recall\": 0.0, \"cutoff\": 36, \"precision\": 0.0, \"review_profilename\": \"waltaburge\"}, {\"count\": 1, \"recall\": 0.0, \"cutoff\": 41, \"precision\": 0.0, \"review_profilename\": \"waltaburge\"}, {\"count\": 1, \"recall\": 0.0, \"cutoff\": 46, \"precision\": 0.0, \"review_profilename\": \"waltaburge\"}]}]]}, e);\n",
       "                });\n",
       "            })();\n",
       "        "
      ]
     },
     "metadata": {},
     "output_type": "display_data"
    }
   ],
   "source": [
    "gl.show_comparison(comparisonstruct,[item_item, rec1])"
   ]
  },
  {
   "cell_type": "markdown",
   "metadata": {},
   "source": [
    "# possibly move this to the extra credit section?\n",
    "Since we strive for perfection, let's play with some of the parameters and see if we can improve it any more."
   ]
  },
  {
   "cell_type": "code",
   "execution_count": null,
   "metadata": {
    "collapsed": true,
    "deletable": true,
    "editable": true
   },
   "outputs": [],
   "source": [
    "params = {'user_id': 'user', \n",
    "          'item_id': 'movie', \n",
    "          'target': 'rating',\n",
    "          'num_factors': [8, 12, 16, 24, 32], \n",
    "          'regularization':[0.001] ,\n",
    "          'linear_regularization': [0.001]}\n",
    "\n",
    "job = gl.model_parameter_search.create( (train,test),\n",
    "        gl.recommender.ranking_factorization_recommender.create,\n",
    "        params,\n",
    "        max_models=5,\n",
    "        environment=None)\n",
    "\n",
    "# also note thatthis evaluator also supports sklearn\n",
    "# https://dato.com/products/create/docs/generated/graphlab.toolkits.model_parameter_search.create.html?highlight=model_parameter_search"
   ]
  },
  {
   "cell_type": "code",
   "execution_count": null,
   "metadata": {
    "collapsed": true,
    "deletable": true,
    "editable": true
   },
   "outputs": [],
   "source": [
    "\n",
    "job.get_status()"
   ]
  },
  {
   "cell_type": "code",
   "execution_count": null,
   "metadata": {
    "collapsed": true,
    "deletable": true,
    "editable": true
   },
   "outputs": [],
   "source": [
    "job_result = job.get_results()\n",
    "\n",
    "job_result.head()"
   ]
  },
  {
   "cell_type": "code",
   "execution_count": null,
   "metadata": {
    "collapsed": true,
    "deletable": true,
    "editable": true
   },
   "outputs": [],
   "source": [
    "\n",
    "bst_prms = job.get_best_params()\n",
    "bst_prms"
   ]
  },
  {
   "cell_type": "code",
   "execution_count": null,
   "metadata": {
    "collapsed": true,
    "deletable": true,
    "editable": true
   },
   "outputs": [],
   "source": [
    "models = job.get_models()\n",
    "models"
   ]
  },
  {
   "cell_type": "code",
   "execution_count": null,
   "metadata": {
    "collapsed": true,
    "deletable": true,
    "editable": true
   },
   "outputs": [],
   "source": [
    "comparisonstruct = gl.compare(test,models)\n",
    "gl.show_comparison(comparisonstruct,models)"
   ]
  },
  {
   "cell_type": "code",
   "execution_count": null,
   "metadata": {
    "collapsed": true,
    "deletable": true,
    "editable": true
   },
   "outputs": [],
   "source": [
    "models[1]"
   ]
  },
  {
   "cell_type": "markdown",
   "metadata": {},
   "source": [
    "It seems like the \" \" model is the best choice based on the precision recall output. "
   ]
  },
  {
   "cell_type": "markdown",
   "metadata": {
    "deletable": true,
    "editable": true
   },
   "source": [
    "# <a name=\"d\"></a> Deployment\n",
    "---\n"
   ]
  },
  {
   "cell_type": "markdown",
   "metadata": {
    "deletable": true,
    "editable": true
   },
   "source": [
    "<span style=\"color:red\">10 Points - Be critical of your performance and tell the reader how you current model might be usable by other parties. Did you achieve your goals? If not, can you reign in the utility of your modeling? How useful is your model for interested parties (i.e., the companies or organizations that might want to use it)? How would your deploy your model for interested parties? What other data should be collected? How often would the model need to be updated, etc.? </span>"
   ]
  },
  {
   "cell_type": "markdown",
   "metadata": {
    "deletable": true,
    "editable": true
   },
   "source": [
    "Based on the precision-recall output, we are confident that our model can successfully recommend beers to users on the beeradvocate site. While the data used was from 2011, we feel that since beers are timeless and most of them included in the dataset are still in production, the data is still valid. \n",
    "\n",
    "If we were to have more time and resources, we would probably look into how a users regionality affects ratings. For instance, if the place you live only sells a few of the options on the list, can we restrict your recommendations to only include beers that are available in your area? If our recommendation system suggests that Billy in New York should try \"pliny the elder\" which is only available on the West Coast, is it an effective recommendation?\n",
    "\n",
    "We would suggest that if this recommendation system were to be put to use that the dataset be updated at least once a year to encompass new beers that are released each year. This would keep the recommendation system current and give users more opportunity to try beers they havent already tried!"
   ]
  },
  {
   "cell_type": "markdown",
   "metadata": {
    "deletable": true,
    "editable": true
   },
   "source": [
    "# <a name=\"ew\"></a> Exceptional Work\n",
    "---"
   ]
  },
  {
   "cell_type": "markdown",
   "metadata": {
    "deletable": true,
    "editable": true
   },
   "source": [
    "<span style=\"color:red\">10 Points - You have free reign to provide additional analyses or combine analyses.</span>"
   ]
  },
  {
   "cell_type": "markdown",
   "metadata": {},
   "source": [
    "# IS IT POSSIBLE FOR US TO PUT THE \"PLAYING WITH PARAMETERS\" PART HERE FOR EXTRA CREDIT? HAHA\n"
   ]
  }
 ],
 "metadata": {
  "anaconda-cloud": {},
  "kernelspec": {
   "display_name": "Python [default]",
   "language": "python",
   "name": "python3"
  },
  "language_info": {
   "codemirror_mode": {
    "name": "ipython",
    "version": 3
   },
   "file_extension": ".py",
   "mimetype": "text/x-python",
   "name": "python",
   "nbconvert_exporter": "python",
   "pygments_lexer": "ipython3",
   "version": "3.5.2"
  }
 },
 "nbformat": 4,
 "nbformat_minor": 0
}
